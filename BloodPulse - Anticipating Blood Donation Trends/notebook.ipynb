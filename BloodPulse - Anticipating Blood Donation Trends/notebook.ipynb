{
 "cells": [
  {
   "cell_type": "code",
   "execution_count": 9,
   "outputs": [],
   "source": [
    "import pandas as pd\n",
    "import warnings\n",
    "warnings.filterwarnings(\"ignore\")"
   ],
   "metadata": {
    "collapsed": false,
    "ExecuteTime": {
     "end_time": "2023-11-08T23:21:49.591591Z",
     "start_time": "2023-11-08T23:21:49.586203Z"
    }
   },
   "id": "8f173c15ded72a96"
  },
  {
   "cell_type": "code",
   "execution_count": 10,
   "outputs": [
    {
     "data": {
      "text/plain": "     MonLastDon  NoDon  TotVolDon  MonFirstDon  DonMar2007\n0             2     50      12500           98           1\n1             0     13       3250           28           1\n2             1     16       4000           35           1\n3             2     20       5000           45           1\n4             1     24       6000           77           0\n..          ...    ...        ...          ...         ...\n571          23      1        250           23           0\n572          16      3        750           86           0\n573          21      2        500           52           0\n574          39      1        250           39           0\n575          72      1        250           72           0\n\n[576 rows x 5 columns]",
      "text/html": "<div>\n<style scoped>\n    .dataframe tbody tr th:only-of-type {\n        vertical-align: middle;\n    }\n\n    .dataframe tbody tr th {\n        vertical-align: top;\n    }\n\n    .dataframe thead th {\n        text-align: right;\n    }\n</style>\n<table border=\"1\" class=\"dataframe\">\n  <thead>\n    <tr style=\"text-align: right;\">\n      <th></th>\n      <th>MonLastDon</th>\n      <th>NoDon</th>\n      <th>TotVolDon</th>\n      <th>MonFirstDon</th>\n      <th>DonMar2007</th>\n    </tr>\n  </thead>\n  <tbody>\n    <tr>\n      <th>0</th>\n      <td>2</td>\n      <td>50</td>\n      <td>12500</td>\n      <td>98</td>\n      <td>1</td>\n    </tr>\n    <tr>\n      <th>1</th>\n      <td>0</td>\n      <td>13</td>\n      <td>3250</td>\n      <td>28</td>\n      <td>1</td>\n    </tr>\n    <tr>\n      <th>2</th>\n      <td>1</td>\n      <td>16</td>\n      <td>4000</td>\n      <td>35</td>\n      <td>1</td>\n    </tr>\n    <tr>\n      <th>3</th>\n      <td>2</td>\n      <td>20</td>\n      <td>5000</td>\n      <td>45</td>\n      <td>1</td>\n    </tr>\n    <tr>\n      <th>4</th>\n      <td>1</td>\n      <td>24</td>\n      <td>6000</td>\n      <td>77</td>\n      <td>0</td>\n    </tr>\n    <tr>\n      <th>...</th>\n      <td>...</td>\n      <td>...</td>\n      <td>...</td>\n      <td>...</td>\n      <td>...</td>\n    </tr>\n    <tr>\n      <th>571</th>\n      <td>23</td>\n      <td>1</td>\n      <td>250</td>\n      <td>23</td>\n      <td>0</td>\n    </tr>\n    <tr>\n      <th>572</th>\n      <td>16</td>\n      <td>3</td>\n      <td>750</td>\n      <td>86</td>\n      <td>0</td>\n    </tr>\n    <tr>\n      <th>573</th>\n      <td>21</td>\n      <td>2</td>\n      <td>500</td>\n      <td>52</td>\n      <td>0</td>\n    </tr>\n    <tr>\n      <th>574</th>\n      <td>39</td>\n      <td>1</td>\n      <td>250</td>\n      <td>39</td>\n      <td>0</td>\n    </tr>\n    <tr>\n      <th>575</th>\n      <td>72</td>\n      <td>1</td>\n      <td>250</td>\n      <td>72</td>\n      <td>0</td>\n    </tr>\n  </tbody>\n</table>\n<p>576 rows × 5 columns</p>\n</div>"
     },
     "execution_count": 10,
     "metadata": {},
     "output_type": "execute_result"
    }
   ],
   "source": [
    "def read_train_csv():\n",
    "    # Description: Reads the \"training_data.csv\" file using the pandas library and returns a DataFrame containing the data.\n",
    "    # Returns: DataFrame containing the data from the CSV file.\n",
    "    df = pd.read_csv(\"training_data.csv\")\n",
    "    df.columns = ['MonLastDon', 'NoDon', 'TotVolDon', 'MonFirstDon', 'DonMar2007']\n",
    "    return df\n",
    "read_train_csv()"
   ],
   "metadata": {
    "collapsed": false,
    "ExecuteTime": {
     "end_time": "2023-11-08T23:21:49.931734Z",
     "start_time": "2023-11-08T23:21:49.921066Z"
    }
   },
   "id": "f45a87b55a6b0f77"
  },
  {
   "cell_type": "code",
   "execution_count": 11,
   "outputs": [
    {
     "data": {
      "text/plain": "     MonLastDon  NoDon  MonFirstDon  AveDonPerPeriod\n0             2     12           52         0.692308\n1            21      7           38         0.552632\n2             4      1            4         0.750000\n3            11     11           38         0.868421\n4             4     12           34         1.058824\n..          ...    ...          ...              ...\n111          11      9           33         0.818182\n112          16      6           40         0.450000\n113          16      3           19         0.473684\n114           8     15           77         0.584416\n115          16      1           16         0.187500\n\n[116 rows x 4 columns]",
      "text/html": "<div>\n<style scoped>\n    .dataframe tbody tr th:only-of-type {\n        vertical-align: middle;\n    }\n\n    .dataframe tbody tr th {\n        vertical-align: top;\n    }\n\n    .dataframe thead th {\n        text-align: right;\n    }\n</style>\n<table border=\"1\" class=\"dataframe\">\n  <thead>\n    <tr style=\"text-align: right;\">\n      <th></th>\n      <th>MonLastDon</th>\n      <th>NoDon</th>\n      <th>MonFirstDon</th>\n      <th>AveDonPerPeriod</th>\n    </tr>\n  </thead>\n  <tbody>\n    <tr>\n      <th>0</th>\n      <td>2</td>\n      <td>12</td>\n      <td>52</td>\n      <td>0.692308</td>\n    </tr>\n    <tr>\n      <th>1</th>\n      <td>21</td>\n      <td>7</td>\n      <td>38</td>\n      <td>0.552632</td>\n    </tr>\n    <tr>\n      <th>2</th>\n      <td>4</td>\n      <td>1</td>\n      <td>4</td>\n      <td>0.750000</td>\n    </tr>\n    <tr>\n      <th>3</th>\n      <td>11</td>\n      <td>11</td>\n      <td>38</td>\n      <td>0.868421</td>\n    </tr>\n    <tr>\n      <th>4</th>\n      <td>4</td>\n      <td>12</td>\n      <td>34</td>\n      <td>1.058824</td>\n    </tr>\n    <tr>\n      <th>...</th>\n      <td>...</td>\n      <td>...</td>\n      <td>...</td>\n      <td>...</td>\n    </tr>\n    <tr>\n      <th>111</th>\n      <td>11</td>\n      <td>9</td>\n      <td>33</td>\n      <td>0.818182</td>\n    </tr>\n    <tr>\n      <th>112</th>\n      <td>16</td>\n      <td>6</td>\n      <td>40</td>\n      <td>0.450000</td>\n    </tr>\n    <tr>\n      <th>113</th>\n      <td>16</td>\n      <td>3</td>\n      <td>19</td>\n      <td>0.473684</td>\n    </tr>\n    <tr>\n      <th>114</th>\n      <td>8</td>\n      <td>15</td>\n      <td>77</td>\n      <td>0.584416</td>\n    </tr>\n    <tr>\n      <th>115</th>\n      <td>16</td>\n      <td>1</td>\n      <td>16</td>\n      <td>0.187500</td>\n    </tr>\n  </tbody>\n</table>\n<p>116 rows × 4 columns</p>\n</div>"
     },
     "execution_count": 11,
     "metadata": {},
     "output_type": "execute_result"
    }
   ],
   "source": [
    "def read_test_csv():\n",
    "    # Description: Reads the \"test_data.csv\" file using the pandas library and returns a DataFrame containing the data.\n",
    "    # Returns: DataFrame containing the data from the CSV file.\n",
    "    df = pd.read_csv(\"test_data.csv\")\n",
    "    return df\n",
    "read_test_csv()"
   ],
   "metadata": {
    "collapsed": false,
    "ExecuteTime": {
     "end_time": "2023-11-08T23:21:50.529095Z",
     "start_time": "2023-11-08T23:21:50.521710Z"
    }
   },
   "id": "5736af3420586cf1"
  },
  {
   "cell_type": "code",
   "execution_count": 13,
   "outputs": [
    {
     "data": {
      "text/plain": "153"
     },
     "execution_count": 13,
     "metadata": {},
     "output_type": "execute_result"
    }
   ],
   "source": [
    "def check_duplicates_train():\n",
    "    # do not edit the predefined function name\n",
    "    df = read_train_csv()\n",
    "    # Description: calculates the number of duplicate rows using the duplicated() method.\n",
    "    # Returns: The count of duplicate rows in the DataFrame.\n",
    "    return df.duplicated().sum()\n",
    "check_duplicates_train()"
   ],
   "metadata": {
    "collapsed": false,
    "ExecuteTime": {
     "end_time": "2023-11-08T23:21:55.812809Z",
     "start_time": "2023-11-08T23:21:55.804503Z"
    }
   },
   "id": "f67635b03f9e14fa"
  },
  {
   "cell_type": "code",
   "execution_count": 16,
   "outputs": [
    {
     "data": {
      "text/plain": "MonLastDon     0\nNoDon          0\nTotVolDon      0\nMonFirstDon    0\nDonMar2007     0\ndtype: int64"
     },
     "execution_count": 16,
     "metadata": {},
     "output_type": "execute_result"
    }
   ],
   "source": [
    "def check_null_values_train():\n",
    "    # do not edit the predefined function name\n",
    "    df = read_train_csv()\n",
    "    # Description: checks for null values in each column using the isnull() method.\n",
    "    # Returns: Series containing the sum of null values for each column.\n",
    "    return df.isnull().sum()\n",
    "check_null_values_train()"
   ],
   "metadata": {
    "collapsed": false,
    "ExecuteTime": {
     "end_time": "2023-11-08T23:22:11.525392Z",
     "start_time": "2023-11-08T23:22:11.503741Z"
    }
   },
   "id": "ed33883f7a334efa"
  },
  {
   "cell_type": "code",
   "execution_count": 17,
   "outputs": [
    {
     "data": {
      "text/plain": "0"
     },
     "execution_count": 17,
     "metadata": {},
     "output_type": "execute_result"
    }
   ],
   "source": [
    "def check_duplicates_test():\n",
    "    # do not edit the predefined function name\n",
    "    df = read_test_csv()\n",
    "    # Description: calculates the number of duplicate rows using the duplicated() method.\n",
    "    # Returns: The count of duplicate rows in the DataFrame.\n",
    "    return df.duplicated().sum()\n",
    "check_duplicates_test()"
   ],
   "metadata": {
    "collapsed": false,
    "ExecuteTime": {
     "end_time": "2023-11-08T23:22:16.881020Z",
     "start_time": "2023-11-08T23:22:16.876227Z"
    }
   },
   "id": "3295befd8768bcb8"
  },
  {
   "cell_type": "code",
   "execution_count": 19,
   "outputs": [
    {
     "data": {
      "text/plain": "MonLastDon         0\nNoDon              0\nMonFirstDon        0\nAveDonPerPeriod    0\ndtype: int64"
     },
     "execution_count": 19,
     "metadata": {},
     "output_type": "execute_result"
    }
   ],
   "source": [
    "def check_null_values_test():\n",
    "    # do not edit the predefined function name\n",
    "    df = read_test_csv()\n",
    "    # Description: checks for null values in each column using the isnull() method.\n",
    "    # Returns: Series containing the sum of null values for each column.\n",
    "    return df.isnull().sum()\n",
    "check_null_values_test()"
   ],
   "metadata": {
    "collapsed": false,
    "ExecuteTime": {
     "end_time": "2023-11-08T23:22:35.944050Z",
     "start_time": "2023-11-08T23:22:35.938310Z"
    }
   },
   "id": "initial_id"
  },
  {
   "cell_type": "code",
   "execution_count": 21,
   "outputs": [],
   "source": [
    "from sklearn.model_selection import train_test_split"
   ],
   "metadata": {
    "collapsed": false,
    "ExecuteTime": {
     "end_time": "2023-11-08T23:22:50.554802Z",
     "start_time": "2023-11-08T23:22:50.550702Z"
    }
   },
   "id": "60caa504a34faee5"
  },
  {
   "cell_type": "code",
   "execution_count": 23,
   "outputs": [
    {
     "data": {
      "text/plain": "0      250.0\n1      250.0\n2      250.0\n3      250.0\n4      250.0\n       ...  \n571    250.0\n572    250.0\n573    250.0\n574    250.0\n575    250.0\nLength: 576, dtype: float64"
     },
     "execution_count": 23,
     "metadata": {},
     "output_type": "execute_result"
    }
   ],
   "source": [
    "def ratio():\n",
    "    df = read_train_csv()\n",
    "\n",
    "    # Calculate the ratio of the column 'TotVolDon' to the column 'NoDon' element-wise\n",
    "    ratio_totno = df[\"TotVolDon\"]/df[\"NoDon\"]\n",
    "    # Return the calculated ratio\n",
    "    return ratio_totno\n",
    "ratio()"
   ],
   "metadata": {
    "collapsed": false,
    "ExecuteTime": {
     "end_time": "2023-11-08T23:25:06.493850Z",
     "start_time": "2023-11-08T23:25:06.480511Z"
    }
   },
   "id": "917d5bf8fa79f75d"
  },
  {
   "cell_type": "code",
   "execution_count": 22,
   "outputs": [
    {
     "data": {
      "text/plain": "     MonLastDon  NoDon  TotVolDon  MonFirstDon  DonMar2007\n0             2     50      12500           98           1\n1             0     13       3250           28           1\n2             1     16       4000           35           1\n3             2     20       5000           45           1\n4             1     24       6000           77           0\n..          ...    ...        ...          ...         ...\n571          23      1        250           23           0\n572          16      3        750           86           0\n573          21      2        500           52           0\n574          39      1        250           39           0\n575          72      1        250           72           0\n\n[576 rows x 5 columns]",
      "text/html": "<div>\n<style scoped>\n    .dataframe tbody tr th:only-of-type {\n        vertical-align: middle;\n    }\n\n    .dataframe tbody tr th {\n        vertical-align: top;\n    }\n\n    .dataframe thead th {\n        text-align: right;\n    }\n</style>\n<table border=\"1\" class=\"dataframe\">\n  <thead>\n    <tr style=\"text-align: right;\">\n      <th></th>\n      <th>MonLastDon</th>\n      <th>NoDon</th>\n      <th>TotVolDon</th>\n      <th>MonFirstDon</th>\n      <th>DonMar2007</th>\n    </tr>\n  </thead>\n  <tbody>\n    <tr>\n      <th>0</th>\n      <td>2</td>\n      <td>50</td>\n      <td>12500</td>\n      <td>98</td>\n      <td>1</td>\n    </tr>\n    <tr>\n      <th>1</th>\n      <td>0</td>\n      <td>13</td>\n      <td>3250</td>\n      <td>28</td>\n      <td>1</td>\n    </tr>\n    <tr>\n      <th>2</th>\n      <td>1</td>\n      <td>16</td>\n      <td>4000</td>\n      <td>35</td>\n      <td>1</td>\n    </tr>\n    <tr>\n      <th>3</th>\n      <td>2</td>\n      <td>20</td>\n      <td>5000</td>\n      <td>45</td>\n      <td>1</td>\n    </tr>\n    <tr>\n      <th>4</th>\n      <td>1</td>\n      <td>24</td>\n      <td>6000</td>\n      <td>77</td>\n      <td>0</td>\n    </tr>\n    <tr>\n      <th>...</th>\n      <td>...</td>\n      <td>...</td>\n      <td>...</td>\n      <td>...</td>\n      <td>...</td>\n    </tr>\n    <tr>\n      <th>571</th>\n      <td>23</td>\n      <td>1</td>\n      <td>250</td>\n      <td>23</td>\n      <td>0</td>\n    </tr>\n    <tr>\n      <th>572</th>\n      <td>16</td>\n      <td>3</td>\n      <td>750</td>\n      <td>86</td>\n      <td>0</td>\n    </tr>\n    <tr>\n      <th>573</th>\n      <td>21</td>\n      <td>2</td>\n      <td>500</td>\n      <td>52</td>\n      <td>0</td>\n    </tr>\n    <tr>\n      <th>574</th>\n      <td>39</td>\n      <td>1</td>\n      <td>250</td>\n      <td>39</td>\n      <td>0</td>\n    </tr>\n    <tr>\n      <th>575</th>\n      <td>72</td>\n      <td>1</td>\n      <td>250</td>\n      <td>72</td>\n      <td>0</td>\n    </tr>\n  </tbody>\n</table>\n<p>576 rows × 5 columns</p>\n</div>"
     },
     "execution_count": 22,
     "metadata": {},
     "output_type": "execute_result"
    }
   ],
   "source": [
    "read_train_csv()"
   ],
   "metadata": {
    "collapsed": false,
    "ExecuteTime": {
     "end_time": "2023-11-08T23:24:46.463033Z",
     "start_time": "2023-11-08T23:24:46.449929Z"
    }
   },
   "id": "ba2a7058fd8944b0"
  },
  {
   "cell_type": "code",
   "execution_count": 28,
   "outputs": [],
   "source": [
    "def drop():\n",
    "    df = read_train_csv()\n",
    "\n",
    "    # Drop the column 'TotVolDon' from the DataFrame 'df' along the specified axis (axis=1) and update 'df' in-place\n",
    "    df.drop(\"TotVolDon\",axis=1,inplace=True)\n",
    "    # Return the modified DataFrame 'df' with the specified column dropped\n",
    "    return df"
   ],
   "metadata": {
    "collapsed": false,
    "ExecuteTime": {
     "end_time": "2023-11-08T23:32:25.457120Z",
     "start_time": "2023-11-08T23:32:25.455911Z"
    }
   },
   "id": "e6b97a21ff5ed47f"
  },
  {
   "cell_type": "code",
   "execution_count": 31,
   "outputs": [
    {
     "data": {
      "text/plain": "(     MonLastDon  NoDon  MonFirstDon  AveDonPerPeriod\n 437           2      6           45         0.400000\n 63            2      2            4         1.500000\n 208           4      4           43         0.279070\n 60            4     17           71         0.718310\n 15            2     15           49         0.918367\n ..          ...    ...          ...              ...\n 71            2      6           28         0.642857\n 106           4      5           28         0.535714\n 270          11      5           50         0.300000\n 435           4      9           55         0.490909\n 102           2      5           34         0.441176\n \n [460 rows x 4 columns],\n      MonLastDon  NoDon  MonFirstDon  AveDonPerPeriod\n 234          14      2           14         0.428571\n 118           2      2           11         0.545455\n 346          23      2           28         0.214286\n 498           9      1            9         0.333333\n 402           4     13           39         1.000000\n ..          ...    ...          ...              ...\n 75            4      2            4         1.500000\n 355          21      1           21         0.142857\n 244           9      1            9         0.333333\n 272          16      4           28         0.428571\n 68            2      4           16         0.750000\n \n [116 rows x 4 columns],\n 437    0\n 63     1\n 208    1\n 60     1\n 15     1\n       ..\n 71     0\n 106    0\n 270    0\n 435    0\n 102    0\n Name: DonMar2007, Length: 460, dtype: int64,\n 234    0\n 118    0\n 346    0\n 498    0\n 402    1\n       ..\n 75     1\n 355    1\n 244    0\n 272    0\n 68     0\n Name: DonMar2007, Length: 116, dtype: int64)"
     },
     "execution_count": 31,
     "metadata": {},
     "output_type": "execute_result"
    }
   ],
   "source": [
    "def split():\n",
    "    df = drop()\n",
    "\n",
    "    # Store the 'DonMar2007' column (target variable) in the variable 'lastcoltarget'\n",
    "    lastcoltarget = df[\"DonMar2007\"]\n",
    "\n",
    "    # Drop the 'DonMar2007' column from the DataFrame 'df' along the specified axis (axis=1) and update 'df' in-place\n",
    "    df.drop('DonMar2007',axis=1,inplace=True)\n",
    "\n",
    "\n",
    "    # Calculate the number of periods since the first donation by dividing the 'MonFirstDon' column by 3\n",
    "    # This assumes that each period is represented by 3 months, as indicated by the division by 3\n",
    "    no_period_first_donation = df['MonFirstDon'] / 3\n",
    "\n",
    "    # Calculate the average donation per period by dividing the 'NoDon' (Number of Donations) column by the 'no_period_first_donation'\n",
    "    # This provides an estimate of how many donations were made on average during each period since the first donation\n",
    "    df['AveDonPerPeriod'] = df['NoDon'] / no_period_first_donation\n",
    "\n",
    "    # Insert the calculated 'AveDonPerPeriod' column at index 3 in the DataFrame 'df'\n",
    "    df = df[[\"MonLastDon\",\"NoDon\",\"MonFirstDon\",\"AveDonPerPeriod\"]]\n",
    "\n",
    "    # Create a copy of the modified DataFrame 'df' and assign it to 'X'\n",
    "    X = df.copy()\n",
    "\n",
    "    # Create a copy of the 'lastcoltarget' as the target variable 'Y'\n",
    "    Y = lastcoltarget.copy()\n",
    "\n",
    "    # Split the data into training and testing sets using the 'train_test_split' function\n",
    "    # The 'test_size' parameter is set to 0.2, meaning 20% of the data will be used for testing, while 80% will be used for training\n",
    "    # The 'random_state' parameter is set to 42, providing a seed for random number generation to ensure reproducibility\n",
    "    X_train,X_test,y_train,y_test = train_test_split(X,Y,test_size=0.2,random_state=42)\n",
    "\n",
    "    # Return the training and testing sets for features (X_train, X_test) and target (y_train, y_test)\n",
    "    return X_train, X_test, y_train, y_test\n",
    "split()"
   ],
   "metadata": {
    "collapsed": false,
    "ExecuteTime": {
     "end_time": "2023-11-08T23:33:30.018379Z",
     "start_time": "2023-11-08T23:33:29.998194Z"
    }
   },
   "id": "f3533fb3d0c744d5"
  },
  {
   "cell_type": "code",
   "execution_count": 32,
   "outputs": [],
   "source": [
    "import pandas as pd\n",
    "from sklearn.metrics import accuracy_score\n",
    "from sklearn.linear_model import LogisticRegression"
   ],
   "metadata": {
    "collapsed": false,
    "ExecuteTime": {
     "end_time": "2023-11-08T23:33:38.344080Z",
     "start_time": "2023-11-08T23:33:38.079825Z"
    }
   },
   "id": "89180665b6e950d4"
  },
  {
   "cell_type": "code",
   "execution_count": 35,
   "outputs": [
    {
     "data": {
      "text/plain": "0.7586206896551724"
     },
     "execution_count": 35,
     "metadata": {},
     "output_type": "execute_result"
    }
   ],
   "source": [
    "# LogisticRegression\n",
    "def model():\n",
    "    X_train, X_test, y_train, y_test = split()\n",
    "    testdata = read_test_csv()\n",
    "    # Declare a global variable named 'logistic_model'\n",
    "    global logistic_model\n",
    "\n",
    "    # Create an instance of the LogisticRegression class for modeling\n",
    "    logistic_model = LogisticRegression()\n",
    "\n",
    "    # Fit (train) the logistic regression model on the training data\n",
    "    logistic_model.fit(X_train,y_train)\n",
    "\n",
    "    # Make predictions using the trained logistic regression model on the test data\n",
    "    y_pred = logistic_model.predict(X_test)\n",
    "\n",
    "    # Calculate the accuracy of the predictions by comparing them with the actual 'y_test' values\n",
    "    score_accuracy = accuracy_score(y_test,y_pred)\n",
    "\n",
    "    # Return the accuracy rounded to two decimal places\n",
    "    return score_accuracy\n",
    "model()"
   ],
   "metadata": {
    "collapsed": false,
    "ExecuteTime": {
     "end_time": "2023-11-08T23:35:36.163801Z",
     "start_time": "2023-11-08T23:35:36.107889Z"
    }
   },
   "id": "30c88b61691f978a"
  },
  {
   "cell_type": "code",
   "execution_count": 36,
   "outputs": [
    {
     "data": {
      "text/plain": "     Actual Values  Predicted Values\n234              0                 0\n118              0                 0\n346              0                 0\n498              0                 0\n402              1                 0\n..             ...               ...\n75               1                 0\n355              1                 0\n244              0                 0\n272              0                 0\n68               0                 0\n\n[116 rows x 2 columns]",
      "text/html": "<div>\n<style scoped>\n    .dataframe tbody tr th:only-of-type {\n        vertical-align: middle;\n    }\n\n    .dataframe tbody tr th {\n        vertical-align: top;\n    }\n\n    .dataframe thead th {\n        text-align: right;\n    }\n</style>\n<table border=\"1\" class=\"dataframe\">\n  <thead>\n    <tr style=\"text-align: right;\">\n      <th></th>\n      <th>Actual Values</th>\n      <th>Predicted Values</th>\n    </tr>\n  </thead>\n  <tbody>\n    <tr>\n      <th>234</th>\n      <td>0</td>\n      <td>0</td>\n    </tr>\n    <tr>\n      <th>118</th>\n      <td>0</td>\n      <td>0</td>\n    </tr>\n    <tr>\n      <th>346</th>\n      <td>0</td>\n      <td>0</td>\n    </tr>\n    <tr>\n      <th>498</th>\n      <td>0</td>\n      <td>0</td>\n    </tr>\n    <tr>\n      <th>402</th>\n      <td>1</td>\n      <td>0</td>\n    </tr>\n    <tr>\n      <th>...</th>\n      <td>...</td>\n      <td>...</td>\n    </tr>\n    <tr>\n      <th>75</th>\n      <td>1</td>\n      <td>0</td>\n    </tr>\n    <tr>\n      <th>355</th>\n      <td>1</td>\n      <td>0</td>\n    </tr>\n    <tr>\n      <th>244</th>\n      <td>0</td>\n      <td>0</td>\n    </tr>\n    <tr>\n      <th>272</th>\n      <td>0</td>\n      <td>0</td>\n    </tr>\n    <tr>\n      <th>68</th>\n      <td>0</td>\n      <td>0</td>\n    </tr>\n  </tbody>\n</table>\n<p>116 rows × 2 columns</p>\n</div>"
     },
     "execution_count": 36,
     "metadata": {},
     "output_type": "execute_result"
    }
   ],
   "source": [
    "def predict():\n",
    "    model()\n",
    "    testdata = read_test_csv()\n",
    "    X_train, X_test, y_train, y_test = split()\n",
    "\n",
    "    # Use the trained logistic regression model to predict outcomes on the test data\n",
    "    pred = logistic_model.predict(X_test)\n",
    "\n",
    "    # Create a DataFrame 'predictions_df' to store the actual and predicted values\n",
    "    predictions_df = pd.DataFrame(columns=[\"Actual Values\",\"Predicted Values\"])\n",
    "    predictions_df[\"Actual Values\"] = y_test\n",
    "    predictions_df[\"Predicted Values\"] = pred\n",
    "\n",
    "    # Return the DataFrame containing actual and predicted values\n",
    "    return predictions_df\n",
    "predict()"
   ],
   "metadata": {
    "collapsed": false,
    "ExecuteTime": {
     "end_time": "2023-11-08T23:37:16.529832Z",
     "start_time": "2023-11-08T23:37:16.507174Z"
    }
   },
   "id": "6ae38ed2f1f0ef0c"
  },
  {
   "cell_type": "code",
   "execution_count": null,
   "outputs": [],
   "source": [],
   "metadata": {
    "collapsed": false
   },
   "id": "cd8cae024aa60f91"
  }
 ],
 "metadata": {
  "kernelspec": {
   "display_name": "Python 3",
   "language": "python",
   "name": "python3"
  },
  "language_info": {
   "codemirror_mode": {
    "name": "ipython",
    "version": 2
   },
   "file_extension": ".py",
   "mimetype": "text/x-python",
   "name": "python",
   "nbconvert_exporter": "python",
   "pygments_lexer": "ipython2",
   "version": "2.7.6"
  }
 },
 "nbformat": 4,
 "nbformat_minor": 5
}
