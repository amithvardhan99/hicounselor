{
 "cells": [
  {
   "cell_type": "markdown",
   "source": [
    "## BloodPulse: Anticipating Blood Donation Trends.\n",
    "In the ever-evolving landscape of healthcare optimization, a new initiative emerges from weeks of dedicated exploration and learning. Rooted in the rich soil of historical donor data, this project sets out to pioneer a predictive model for forecasting blood donor participation in March 2007. The quest is clear – to revolutionize blood bank resource allocation, diminish shortages, and optimize outreach strategies.\n",
    "\n",
    "As the protagonist in this narrative of healthcare innovation, you, the visionary data scientist, stand at the forefront of this mission. Armed with a deep understanding of the intricacies surrounding blood donation patterns, your role is pivotal. The objective is not merely to predict donor participation but to reshape the landscape of blood bank operations, making a tangible impact on the lives that depend on this critical resource.\n",
    "\n",
    "Much like a guardian of community health, you navigate through extensive datasets, blending quantitative acumen with qualitative insight. Your analytical skills become the guiding compass for healthcare professionals, uncovering patterns and correlations that might have eluded traditional approaches. In collaboration with blood bank experts, you craft a predictive model that transcends conventional methods, offering foresight into donor behaviors.\n",
    "\n",
    "This model becomes a beacon of hope for blood banks, not only predicting participation but allowing for proactive resource planning and targeted outreach. Your commitment extends beyond lines of code; you are a maestro orchestrating a symphony of blood donation data, transforming it into a harmonious melody of insights that resonates through the blood donation centers.\n",
    "\n",
    "Your work is not just about algorithms; it's about making a real impact on the lives of those who rely on the generosity of blood donors. Your predictive model stands as a guardian, vigilant in its mission to ensure that blood banks are well-equipped, shortages are minimized, and outreach efforts are optimized for maximum impact.\n",
    "\n",
    "In the saga of healthcare transformation, you, once again, emerge as the unsung hero. Your dedication to unraveling the complexities of blood donor participation through predictive modeling contributes not only to the success of the project but also to a narrative of improved healthcare, where the power of data-driven insights becomes a formidable ally in ensuring a stable and efficient blood supply for those in need.\n"
   ],
   "metadata": {
    "collapsed": false
   },
   "id": "61a0c96ba898199"
  },
  {
   "cell_type": "code",
   "execution_count": 83,
   "outputs": [],
   "source": [
    "import numpy as np\n",
    "import pandas as pd\n",
    "import matplotlib.pyplot as plt\n",
    "import seaborn as sns\n",
    "from sklearn.model_selection import train_test_split\n",
    "from sklearn.metrics import *\n",
    "from sklearn.linear_model import *"
   ],
   "metadata": {
    "collapsed": false,
    "ExecuteTime": {
     "end_time": "2023-11-26T18:46:55.663607Z",
     "start_time": "2023-11-26T18:46:55.412332Z"
    }
   },
   "id": "a620d6c9c14eebcf"
  },
  {
   "cell_type": "markdown",
   "source": [
    "## Module 1\n",
    "### Task 1: Unveiling the Bloodline Chronicles.\n",
    "In the realm of healthcare foresight, a new chapter begins as 'training_data.csv' is summoned into existence. This code isn't just a file read; it's a journey into the bloodline chronicles, where columns like 'MonLastDon' and 'TotVolDon' weave a narrative of donor patterns. With each renamed column, the code becomes an architect, constructing a foundation for a predictive model. In these lines, we embark on a quest to understand the intricacies of blood donation, where data becomes the key to unlocking insights that may reshape the landscape of donor participation."
   ],
   "metadata": {
    "collapsed": false
   },
   "id": "dcad8d43fa4a978b"
  },
  {
   "cell_type": "code",
   "execution_count": 84,
   "outputs": [
    {
     "data": {
      "text/plain": "     MonLastDon  NoDon  TotVolDon  MonFirstDon  DonMar2007\n0             2     50      12500           98           1\n1             0     13       3250           28           1\n2             1     16       4000           35           1\n3             2     20       5000           45           1\n4             1     24       6000           77           0\n..          ...    ...        ...          ...         ...\n571          23      1        250           23           0\n572          16      3        750           86           0\n573          21      2        500           52           0\n574          39      1        250           39           0\n575          72      1        250           72           0\n\n[576 rows x 5 columns]",
      "text/html": "<div>\n<style scoped>\n    .dataframe tbody tr th:only-of-type {\n        vertical-align: middle;\n    }\n\n    .dataframe tbody tr th {\n        vertical-align: top;\n    }\n\n    .dataframe thead th {\n        text-align: right;\n    }\n</style>\n<table border=\"1\" class=\"dataframe\">\n  <thead>\n    <tr style=\"text-align: right;\">\n      <th></th>\n      <th>MonLastDon</th>\n      <th>NoDon</th>\n      <th>TotVolDon</th>\n      <th>MonFirstDon</th>\n      <th>DonMar2007</th>\n    </tr>\n  </thead>\n  <tbody>\n    <tr>\n      <th>0</th>\n      <td>2</td>\n      <td>50</td>\n      <td>12500</td>\n      <td>98</td>\n      <td>1</td>\n    </tr>\n    <tr>\n      <th>1</th>\n      <td>0</td>\n      <td>13</td>\n      <td>3250</td>\n      <td>28</td>\n      <td>1</td>\n    </tr>\n    <tr>\n      <th>2</th>\n      <td>1</td>\n      <td>16</td>\n      <td>4000</td>\n      <td>35</td>\n      <td>1</td>\n    </tr>\n    <tr>\n      <th>3</th>\n      <td>2</td>\n      <td>20</td>\n      <td>5000</td>\n      <td>45</td>\n      <td>1</td>\n    </tr>\n    <tr>\n      <th>4</th>\n      <td>1</td>\n      <td>24</td>\n      <td>6000</td>\n      <td>77</td>\n      <td>0</td>\n    </tr>\n    <tr>\n      <th>...</th>\n      <td>...</td>\n      <td>...</td>\n      <td>...</td>\n      <td>...</td>\n      <td>...</td>\n    </tr>\n    <tr>\n      <th>571</th>\n      <td>23</td>\n      <td>1</td>\n      <td>250</td>\n      <td>23</td>\n      <td>0</td>\n    </tr>\n    <tr>\n      <th>572</th>\n      <td>16</td>\n      <td>3</td>\n      <td>750</td>\n      <td>86</td>\n      <td>0</td>\n    </tr>\n    <tr>\n      <th>573</th>\n      <td>21</td>\n      <td>2</td>\n      <td>500</td>\n      <td>52</td>\n      <td>0</td>\n    </tr>\n    <tr>\n      <th>574</th>\n      <td>39</td>\n      <td>1</td>\n      <td>250</td>\n      <td>39</td>\n      <td>0</td>\n    </tr>\n    <tr>\n      <th>575</th>\n      <td>72</td>\n      <td>1</td>\n      <td>250</td>\n      <td>72</td>\n      <td>0</td>\n    </tr>\n  </tbody>\n</table>\n<p>576 rows × 5 columns</p>\n</div>"
     },
     "execution_count": 84,
     "metadata": {},
     "output_type": "execute_result"
    }
   ],
   "source": [
    "train_df = pd.read_csv(\"training_data.csv\")\n",
    "train_df.columns = [\"MonLastDon\",\"NoDon\",\"TotVolDon\",\"MonFirstDon\",\"DonMar2007\"]\n",
    "train_df"
   ],
   "metadata": {
    "collapsed": false,
    "ExecuteTime": {
     "end_time": "2023-11-26T18:46:56.793090Z",
     "start_time": "2023-11-26T18:46:56.757525Z"
    }
   },
   "id": "ba476383ba949b97"
  },
  {
   "cell_type": "markdown",
   "source": [
    "### Task 2: The Prelude to Predictive Symphony.\n",
    "In the orchestration of healthcare foresight, 'test_data.csv' emerges as the prelude, setting the stage for a predictive symphony. This code isn't just a data import; it's the overture to a narrative where each entry becomes a note, and every variable a protagonist in the tale of blood donor prediction. With each line executed, the code transforms raw data into the protagonist's script, foreshadowing the predictive journey that awaits. In these lines, the test data becomes a canvas, ready to be painted with insights that may redefine the landscape of blood bank operations."
   ],
   "metadata": {
    "collapsed": false
   },
   "id": "673a099dd55d33b1"
  },
  {
   "cell_type": "code",
   "execution_count": 85,
   "outputs": [
    {
     "data": {
      "text/plain": "     MonLastDon  NoDon  MonFirstDon  AveDonPerPeriod\n0             2     12           52         0.692308\n1            21      7           38         0.552632\n2             4      1            4         0.750000\n3            11     11           38         0.868421\n4             4     12           34         1.058824\n..          ...    ...          ...              ...\n111          11      9           33         0.818182\n112          16      6           40         0.450000\n113          16      3           19         0.473684\n114           8     15           77         0.584416\n115          16      1           16         0.187500\n\n[116 rows x 4 columns]",
      "text/html": "<div>\n<style scoped>\n    .dataframe tbody tr th:only-of-type {\n        vertical-align: middle;\n    }\n\n    .dataframe tbody tr th {\n        vertical-align: top;\n    }\n\n    .dataframe thead th {\n        text-align: right;\n    }\n</style>\n<table border=\"1\" class=\"dataframe\">\n  <thead>\n    <tr style=\"text-align: right;\">\n      <th></th>\n      <th>MonLastDon</th>\n      <th>NoDon</th>\n      <th>MonFirstDon</th>\n      <th>AveDonPerPeriod</th>\n    </tr>\n  </thead>\n  <tbody>\n    <tr>\n      <th>0</th>\n      <td>2</td>\n      <td>12</td>\n      <td>52</td>\n      <td>0.692308</td>\n    </tr>\n    <tr>\n      <th>1</th>\n      <td>21</td>\n      <td>7</td>\n      <td>38</td>\n      <td>0.552632</td>\n    </tr>\n    <tr>\n      <th>2</th>\n      <td>4</td>\n      <td>1</td>\n      <td>4</td>\n      <td>0.750000</td>\n    </tr>\n    <tr>\n      <th>3</th>\n      <td>11</td>\n      <td>11</td>\n      <td>38</td>\n      <td>0.868421</td>\n    </tr>\n    <tr>\n      <th>4</th>\n      <td>4</td>\n      <td>12</td>\n      <td>34</td>\n      <td>1.058824</td>\n    </tr>\n    <tr>\n      <th>...</th>\n      <td>...</td>\n      <td>...</td>\n      <td>...</td>\n      <td>...</td>\n    </tr>\n    <tr>\n      <th>111</th>\n      <td>11</td>\n      <td>9</td>\n      <td>33</td>\n      <td>0.818182</td>\n    </tr>\n    <tr>\n      <th>112</th>\n      <td>16</td>\n      <td>6</td>\n      <td>40</td>\n      <td>0.450000</td>\n    </tr>\n    <tr>\n      <th>113</th>\n      <td>16</td>\n      <td>3</td>\n      <td>19</td>\n      <td>0.473684</td>\n    </tr>\n    <tr>\n      <th>114</th>\n      <td>8</td>\n      <td>15</td>\n      <td>77</td>\n      <td>0.584416</td>\n    </tr>\n    <tr>\n      <th>115</th>\n      <td>16</td>\n      <td>1</td>\n      <td>16</td>\n      <td>0.187500</td>\n    </tr>\n  </tbody>\n</table>\n<p>116 rows × 4 columns</p>\n</div>"
     },
     "execution_count": 85,
     "metadata": {},
     "output_type": "execute_result"
    }
   ],
   "source": [
    "test_df = pd.read_csv(\"test_data.csv\")\n",
    "test_df"
   ],
   "metadata": {
    "collapsed": false,
    "ExecuteTime": {
     "end_time": "2023-11-26T18:47:01.423962Z",
     "start_time": "2023-11-26T18:47:01.416297Z"
    }
   },
   "id": "ed89037b51579d69"
  },
  {
   "cell_type": "markdown",
   "source": [
    "### Task 3: Untangling Threads in the Bloodline Tapestry.\n",
    "In the intricate tapestry of blood donor data, 'duplicates_train' steps forward as the detective, untangling threads within 'training_data.csv.' This code isn't merely counting duplications; it's a quest for clarity, ensuring the integrity of our dataset. With each duplicated entry counted, the code becomes a guardian, preserving the purity of the bloodline narrative. In these lines, we embark on a journey to sift through the intricacies, where duplications are not just numbers but potential distortions in the symphony of insights we aim to unravel.\n"
   ],
   "metadata": {
    "collapsed": false
   },
   "id": "2ebe2aaf6599aea6"
  },
  {
   "cell_type": "code",
   "execution_count": 86,
   "outputs": [
    {
     "data": {
      "text/plain": "153"
     },
     "execution_count": 86,
     "metadata": {},
     "output_type": "execute_result"
    }
   ],
   "source": [
    "no_of_train_duplicates = train_df.duplicated().sum()\n",
    "no_of_train_duplicates"
   ],
   "metadata": {
    "collapsed": false,
    "ExecuteTime": {
     "end_time": "2023-11-26T18:47:02.492873Z",
     "start_time": "2023-11-26T18:47:02.477795Z"
    }
   },
   "id": "64525b75b71adf77"
  },
  {
   "cell_type": "markdown",
   "source": [
    "### Task 4: Illuminating Gaps in the Blood Donation Mosaic.\n",
    "As we journey through the mosaic of blood donation data, 'null_values_train' becomes the torchbearer, illuminating gaps within 'training_data.csv.' This code isn't just a numeric summary; it's an artist's palette, pointing to areas where the canvas of donor insights is incomplete. With each null value counted, the code transforms into a brushstroke, guiding us to fill the voids and complete the picture of donor behaviors. In these lines, we embark on a creative journey where null values aren't gaps but opportunities to enhance the richness of our predictive narrative."
   ],
   "metadata": {
    "collapsed": false
   },
   "id": "730cfcd964ca8891"
  },
  {
   "cell_type": "code",
   "execution_count": 87,
   "outputs": [
    {
     "data": {
      "text/plain": "MonLastDon     0\nNoDon          0\nTotVolDon      0\nMonFirstDon    0\nDonMar2007     0\ndtype: int64"
     },
     "execution_count": 87,
     "metadata": {},
     "output_type": "execute_result"
    }
   ],
   "source": [
    "no_of_train_na = train_df.isnull().sum()\n",
    "no_of_train_na"
   ],
   "metadata": {
    "collapsed": false,
    "ExecuteTime": {
     "end_time": "2023-11-26T18:47:03.727415Z",
     "start_time": "2023-11-26T18:47:03.723921Z"
    }
   },
   "id": "87b0557216bf8703"
  },
  {
   "cell_type": "markdown",
   "source": [
    "### Task 5: Echoes in the Uncharted Blood Donor Territory.\n",
    "In the symphony of blood donation exploration, 'duplicates_test' takes the stage, counting echoes within the uncharted territory of 'test_data.csv.' This code isn't just a duplication check; it's a sonar navigating unexplored waters, where echoes of redundancy may disrupt the harmony of predictive insights. With each duplicated entry counted, the code becomes a vigilant explorer, ensuring the integrity of our test dataset. In these lines, we unveil echoes in the unknown, allowing us to tread carefully and navigate the uncharted blood donor frontiers with a dataset that resonates with precision."
   ],
   "metadata": {
    "collapsed": false
   },
   "id": "b794a5f381a179bd"
  },
  {
   "cell_type": "code",
   "execution_count": 88,
   "outputs": [
    {
     "data": {
      "text/plain": "0"
     },
     "execution_count": 88,
     "metadata": {},
     "output_type": "execute_result"
    }
   ],
   "source": [
    "no_of_test_duplicates = test_df.duplicated().sum()\n",
    "no_of_test_duplicates"
   ],
   "metadata": {
    "collapsed": false,
    "ExecuteTime": {
     "end_time": "2023-11-26T18:47:05.040741Z",
     "start_time": "2023-11-26T18:47:05.031820Z"
    }
   },
   "id": "fae3165a92cd2858"
  },
  {
   "cell_type": "markdown",
   "source": [
    "### Task 6: Unveiling Blank Spaces in the Blood Donation Canvas.\n",
    "In the grand canvas of blood donation insights, 'null_values_test' emerges as a torchbearer, illuminating the blank spaces within 'test_data.csv.' This code isn't just a numeric summary; it's an artist's palette pointing to areas where the masterpiece of donor behaviors is incomplete. With each null value counted, the code transforms into a brushstroke, guiding us to fill the voids and complete the painting of predictive insights. In these lines, we embark on a creative journey where null values aren't gaps but opportunities to enhance the richness of our predictive narrative."
   ],
   "metadata": {
    "collapsed": false
   },
   "id": "e28ddaa41cb5c6fa"
  },
  {
   "cell_type": "code",
   "execution_count": 89,
   "outputs": [
    {
     "data": {
      "text/plain": "MonLastDon         0\nNoDon              0\nMonFirstDon        0\nAveDonPerPeriod    0\ndtype: int64"
     },
     "execution_count": 89,
     "metadata": {},
     "output_type": "execute_result"
    }
   ],
   "source": [
    "no_of_test_na = test_df.isnull().sum()\n",
    "no_of_test_na"
   ],
   "metadata": {
    "collapsed": false,
    "ExecuteTime": {
     "end_time": "2023-11-26T18:47:05.973178Z",
     "start_time": "2023-11-26T18:47:05.967042Z"
    }
   },
   "id": "c7fcd70c6c3a664b"
  },
  {
   "cell_type": "code",
   "execution_count": 89,
   "outputs": [],
   "source": [],
   "metadata": {
    "collapsed": false,
    "ExecuteTime": {
     "end_time": "2023-11-26T18:47:06.391176Z",
     "start_time": "2023-11-26T18:47:06.368150Z"
    }
   },
   "id": "d1438c097ba6158d"
  },
  {
   "cell_type": "markdown",
   "source": [
    "## Module 2\n",
    "### Task 1: Harmonizing Blood Donation Metrics.\n",
    "In the symphony of blood donation metrics, a new melody emerges as 'ratio_totno' takes center stage, calculating the harmony between total volume and number of donations in 'training_data.csv.' This code isn't just about ratios; it's a conductor orchestrating a composition where each entry becomes a note in the melody of donor patterns. With each calculated ratio, the code transforms into a maestro, revealing insights into the nuanced relationship between volume and frequency of donations. In these lines, we delve into the intricacies of blood donation, where ratios become a key to deciphering the symphony of donor behaviors."
   ],
   "metadata": {
    "collapsed": false
   },
   "id": "b68b8c30f2796483"
  },
  {
   "cell_type": "code",
   "execution_count": 90,
   "outputs": [
    {
     "data": {
      "text/plain": "     MonLastDon  NoDon  TotVolDon  MonFirstDon  DonMar2007  ratio_totno\n0             2     50      12500           98           1        250.0\n1             0     13       3250           28           1        250.0\n2             1     16       4000           35           1        250.0\n3             2     20       5000           45           1        250.0\n4             1     24       6000           77           0        250.0\n..          ...    ...        ...          ...         ...          ...\n571          23      1        250           23           0        250.0\n572          16      3        750           86           0        250.0\n573          21      2        500           52           0        250.0\n574          39      1        250           39           0        250.0\n575          72      1        250           72           0        250.0\n\n[576 rows x 6 columns]",
      "text/html": "<div>\n<style scoped>\n    .dataframe tbody tr th:only-of-type {\n        vertical-align: middle;\n    }\n\n    .dataframe tbody tr th {\n        vertical-align: top;\n    }\n\n    .dataframe thead th {\n        text-align: right;\n    }\n</style>\n<table border=\"1\" class=\"dataframe\">\n  <thead>\n    <tr style=\"text-align: right;\">\n      <th></th>\n      <th>MonLastDon</th>\n      <th>NoDon</th>\n      <th>TotVolDon</th>\n      <th>MonFirstDon</th>\n      <th>DonMar2007</th>\n      <th>ratio_totno</th>\n    </tr>\n  </thead>\n  <tbody>\n    <tr>\n      <th>0</th>\n      <td>2</td>\n      <td>50</td>\n      <td>12500</td>\n      <td>98</td>\n      <td>1</td>\n      <td>250.0</td>\n    </tr>\n    <tr>\n      <th>1</th>\n      <td>0</td>\n      <td>13</td>\n      <td>3250</td>\n      <td>28</td>\n      <td>1</td>\n      <td>250.0</td>\n    </tr>\n    <tr>\n      <th>2</th>\n      <td>1</td>\n      <td>16</td>\n      <td>4000</td>\n      <td>35</td>\n      <td>1</td>\n      <td>250.0</td>\n    </tr>\n    <tr>\n      <th>3</th>\n      <td>2</td>\n      <td>20</td>\n      <td>5000</td>\n      <td>45</td>\n      <td>1</td>\n      <td>250.0</td>\n    </tr>\n    <tr>\n      <th>4</th>\n      <td>1</td>\n      <td>24</td>\n      <td>6000</td>\n      <td>77</td>\n      <td>0</td>\n      <td>250.0</td>\n    </tr>\n    <tr>\n      <th>...</th>\n      <td>...</td>\n      <td>...</td>\n      <td>...</td>\n      <td>...</td>\n      <td>...</td>\n      <td>...</td>\n    </tr>\n    <tr>\n      <th>571</th>\n      <td>23</td>\n      <td>1</td>\n      <td>250</td>\n      <td>23</td>\n      <td>0</td>\n      <td>250.0</td>\n    </tr>\n    <tr>\n      <th>572</th>\n      <td>16</td>\n      <td>3</td>\n      <td>750</td>\n      <td>86</td>\n      <td>0</td>\n      <td>250.0</td>\n    </tr>\n    <tr>\n      <th>573</th>\n      <td>21</td>\n      <td>2</td>\n      <td>500</td>\n      <td>52</td>\n      <td>0</td>\n      <td>250.0</td>\n    </tr>\n    <tr>\n      <th>574</th>\n      <td>39</td>\n      <td>1</td>\n      <td>250</td>\n      <td>39</td>\n      <td>0</td>\n      <td>250.0</td>\n    </tr>\n    <tr>\n      <th>575</th>\n      <td>72</td>\n      <td>1</td>\n      <td>250</td>\n      <td>72</td>\n      <td>0</td>\n      <td>250.0</td>\n    </tr>\n  </tbody>\n</table>\n<p>576 rows × 6 columns</p>\n</div>"
     },
     "execution_count": 90,
     "metadata": {},
     "output_type": "execute_result"
    }
   ],
   "source": [
    "train_df[\"ratio_totno\"] = train_df[\"TotVolDon\"] / train_df[\"NoDon\"]\n",
    "train_df"
   ],
   "metadata": {
    "collapsed": false,
    "ExecuteTime": {
     "end_time": "2023-11-26T18:47:08.616524Z",
     "start_time": "2023-11-26T18:47:08.597711Z"
    }
   },
   "id": "f16e2751a9403f31"
  },
  {
   "cell_type": "markdown",
   "source": [
    "### Task 2: Sculpting Precision in Blood Donation Insights.\n",
    "In the evolution of blood donation insights, a transformative act unfolds as 'TotVolDon' is sculpted away from 'training_data.csv.' This code isn't just about dropping a column; it's a chisel refining the intricacies of our dataset. With each line executed, the code becomes an artisan, shaping a narrative where the total volume of donations no longer plays a role in our predictive journey. In these lines, we witness not just a deletion but a refinement, where the precision of our model is honed by strategic sculpting of the dataset."
   ],
   "metadata": {
    "collapsed": false
   },
   "id": "3fb1533e7fe65b16"
  },
  {
   "cell_type": "code",
   "execution_count": 91,
   "outputs": [
    {
     "data": {
      "text/plain": "     MonLastDon  NoDon  MonFirstDon  DonMar2007  ratio_totno\n0             2     50           98           1        250.0\n1             0     13           28           1        250.0\n2             1     16           35           1        250.0\n3             2     20           45           1        250.0\n4             1     24           77           0        250.0\n..          ...    ...          ...         ...          ...\n571          23      1           23           0        250.0\n572          16      3           86           0        250.0\n573          21      2           52           0        250.0\n574          39      1           39           0        250.0\n575          72      1           72           0        250.0\n\n[576 rows x 5 columns]",
      "text/html": "<div>\n<style scoped>\n    .dataframe tbody tr th:only-of-type {\n        vertical-align: middle;\n    }\n\n    .dataframe tbody tr th {\n        vertical-align: top;\n    }\n\n    .dataframe thead th {\n        text-align: right;\n    }\n</style>\n<table border=\"1\" class=\"dataframe\">\n  <thead>\n    <tr style=\"text-align: right;\">\n      <th></th>\n      <th>MonLastDon</th>\n      <th>NoDon</th>\n      <th>MonFirstDon</th>\n      <th>DonMar2007</th>\n      <th>ratio_totno</th>\n    </tr>\n  </thead>\n  <tbody>\n    <tr>\n      <th>0</th>\n      <td>2</td>\n      <td>50</td>\n      <td>98</td>\n      <td>1</td>\n      <td>250.0</td>\n    </tr>\n    <tr>\n      <th>1</th>\n      <td>0</td>\n      <td>13</td>\n      <td>28</td>\n      <td>1</td>\n      <td>250.0</td>\n    </tr>\n    <tr>\n      <th>2</th>\n      <td>1</td>\n      <td>16</td>\n      <td>35</td>\n      <td>1</td>\n      <td>250.0</td>\n    </tr>\n    <tr>\n      <th>3</th>\n      <td>2</td>\n      <td>20</td>\n      <td>45</td>\n      <td>1</td>\n      <td>250.0</td>\n    </tr>\n    <tr>\n      <th>4</th>\n      <td>1</td>\n      <td>24</td>\n      <td>77</td>\n      <td>0</td>\n      <td>250.0</td>\n    </tr>\n    <tr>\n      <th>...</th>\n      <td>...</td>\n      <td>...</td>\n      <td>...</td>\n      <td>...</td>\n      <td>...</td>\n    </tr>\n    <tr>\n      <th>571</th>\n      <td>23</td>\n      <td>1</td>\n      <td>23</td>\n      <td>0</td>\n      <td>250.0</td>\n    </tr>\n    <tr>\n      <th>572</th>\n      <td>16</td>\n      <td>3</td>\n      <td>86</td>\n      <td>0</td>\n      <td>250.0</td>\n    </tr>\n    <tr>\n      <th>573</th>\n      <td>21</td>\n      <td>2</td>\n      <td>52</td>\n      <td>0</td>\n      <td>250.0</td>\n    </tr>\n    <tr>\n      <th>574</th>\n      <td>39</td>\n      <td>1</td>\n      <td>39</td>\n      <td>0</td>\n      <td>250.0</td>\n    </tr>\n    <tr>\n      <th>575</th>\n      <td>72</td>\n      <td>1</td>\n      <td>72</td>\n      <td>0</td>\n      <td>250.0</td>\n    </tr>\n  </tbody>\n</table>\n<p>576 rows × 5 columns</p>\n</div>"
     },
     "execution_count": 91,
     "metadata": {},
     "output_type": "execute_result"
    }
   ],
   "source": [
    "train_df.drop(\"TotVolDon\",axis=1,inplace=True)\n",
    "train_df"
   ],
   "metadata": {
    "collapsed": false,
    "ExecuteTime": {
     "end_time": "2023-11-26T18:47:09.334151Z",
     "start_time": "2023-11-26T18:47:09.330115Z"
    }
   },
   "id": "b658323bef70baba"
  },
  {
   "cell_type": "markdown",
   "source": [
    "### Task 3: Crafting the Symphony of Blood Donation Features.\n",
    "In the orchestration of predictive insights, a symphony is crafted as features are refined in 'training_data.csv.' This code isn't just about splitting data; it's a composition where 'MonFirstDon' is transformed into 'AveDonPerPeriod.' With each calculated average, the code becomes a conductor orchestrating the harmonious blend of features. In these lines, the dataset metamorphoses into a symphony of insights, and the train-test split becomes the stage for our predictive model to unfold."
   ],
   "metadata": {
    "collapsed": false
   },
   "id": "b916a1530b93a75f"
  },
  {
   "cell_type": "code",
   "execution_count": 92,
   "outputs": [],
   "source": [
    "lastcoltarget = train_df[\"DonMar2007\"].copy()\n",
    "train_df.drop(\"DonMar2007\",axis=1,inplace=True)\n",
    "no_period_first_donation = train_df[\"MonFirstDon\"] / 3\n",
    "# One period = 3 months\n",
    "avg_don_per_period = train_df[\"NoDon\"] / no_period_first_donation\n",
    "train_df.insert(loc=3,column=\"AveDonPerPeriod\",value=avg_don_per_period)\n",
    "X = train_df.copy()\n",
    "y = lastcoltarget.copy()"
   ],
   "metadata": {
    "collapsed": false,
    "ExecuteTime": {
     "end_time": "2023-11-26T18:47:10.072465Z",
     "start_time": "2023-11-26T18:47:10.069900Z"
    }
   },
   "id": "a43935ec89b3a85c"
  },
  {
   "cell_type": "code",
   "execution_count": 94,
   "outputs": [
    {
     "data": {
      "text/plain": "     MonLastDon  NoDon  MonFirstDon  AveDonPerPeriod  ratio_totno\n0             2     50           98         1.530612        250.0\n1             0     13           28         1.392857        250.0\n2             1     16           35         1.371429        250.0\n3             2     20           45         1.333333        250.0\n4             1     24           77         0.935065        250.0\n..          ...    ...          ...              ...          ...\n571          23      1           23         0.130435        250.0\n572          16      3           86         0.104651        250.0\n573          21      2           52         0.115385        250.0\n574          39      1           39         0.076923        250.0\n575          72      1           72         0.041667        250.0\n\n[576 rows x 5 columns]",
      "text/html": "<div>\n<style scoped>\n    .dataframe tbody tr th:only-of-type {\n        vertical-align: middle;\n    }\n\n    .dataframe tbody tr th {\n        vertical-align: top;\n    }\n\n    .dataframe thead th {\n        text-align: right;\n    }\n</style>\n<table border=\"1\" class=\"dataframe\">\n  <thead>\n    <tr style=\"text-align: right;\">\n      <th></th>\n      <th>MonLastDon</th>\n      <th>NoDon</th>\n      <th>MonFirstDon</th>\n      <th>AveDonPerPeriod</th>\n      <th>ratio_totno</th>\n    </tr>\n  </thead>\n  <tbody>\n    <tr>\n      <th>0</th>\n      <td>2</td>\n      <td>50</td>\n      <td>98</td>\n      <td>1.530612</td>\n      <td>250.0</td>\n    </tr>\n    <tr>\n      <th>1</th>\n      <td>0</td>\n      <td>13</td>\n      <td>28</td>\n      <td>1.392857</td>\n      <td>250.0</td>\n    </tr>\n    <tr>\n      <th>2</th>\n      <td>1</td>\n      <td>16</td>\n      <td>35</td>\n      <td>1.371429</td>\n      <td>250.0</td>\n    </tr>\n    <tr>\n      <th>3</th>\n      <td>2</td>\n      <td>20</td>\n      <td>45</td>\n      <td>1.333333</td>\n      <td>250.0</td>\n    </tr>\n    <tr>\n      <th>4</th>\n      <td>1</td>\n      <td>24</td>\n      <td>77</td>\n      <td>0.935065</td>\n      <td>250.0</td>\n    </tr>\n    <tr>\n      <th>...</th>\n      <td>...</td>\n      <td>...</td>\n      <td>...</td>\n      <td>...</td>\n      <td>...</td>\n    </tr>\n    <tr>\n      <th>571</th>\n      <td>23</td>\n      <td>1</td>\n      <td>23</td>\n      <td>0.130435</td>\n      <td>250.0</td>\n    </tr>\n    <tr>\n      <th>572</th>\n      <td>16</td>\n      <td>3</td>\n      <td>86</td>\n      <td>0.104651</td>\n      <td>250.0</td>\n    </tr>\n    <tr>\n      <th>573</th>\n      <td>21</td>\n      <td>2</td>\n      <td>52</td>\n      <td>0.115385</td>\n      <td>250.0</td>\n    </tr>\n    <tr>\n      <th>574</th>\n      <td>39</td>\n      <td>1</td>\n      <td>39</td>\n      <td>0.076923</td>\n      <td>250.0</td>\n    </tr>\n    <tr>\n      <th>575</th>\n      <td>72</td>\n      <td>1</td>\n      <td>72</td>\n      <td>0.041667</td>\n      <td>250.0</td>\n    </tr>\n  </tbody>\n</table>\n<p>576 rows × 5 columns</p>\n</div>"
     },
     "execution_count": 94,
     "metadata": {},
     "output_type": "execute_result"
    }
   ],
   "source": [
    "X"
   ],
   "metadata": {
    "collapsed": false,
    "ExecuteTime": {
     "end_time": "2023-11-26T18:49:53.814014Z",
     "start_time": "2023-11-26T18:49:53.802786Z"
    }
   },
   "id": "258f690d7d07b078"
  },
  {
   "cell_type": "code",
   "execution_count": 95,
   "outputs": [
    {
     "data": {
      "text/plain": "0      1\n1      1\n2      1\n3      1\n4      0\n      ..\n571    0\n572    0\n573    0\n574    0\n575    0\nName: DonMar2007, Length: 576, dtype: int64"
     },
     "execution_count": 95,
     "metadata": {},
     "output_type": "execute_result"
    }
   ],
   "source": [
    "y"
   ],
   "metadata": {
    "collapsed": false,
    "ExecuteTime": {
     "end_time": "2023-11-26T18:51:57.930638Z",
     "start_time": "2023-11-26T18:51:57.920954Z"
    }
   },
   "id": "4cab9b5778a11cf6"
  },
  {
   "cell_type": "code",
   "execution_count": 96,
   "outputs": [],
   "source": [
    "X_train, X_test, y_train, y_test = train_test_split(X,y,test_size=(20/100),random_state=42)"
   ],
   "metadata": {
    "collapsed": false,
    "ExecuteTime": {
     "end_time": "2023-11-26T18:53:26.532256Z",
     "start_time": "2023-11-26T18:53:26.518527Z"
    }
   },
   "id": "5409fdc050587be0"
  },
  {
   "cell_type": "markdown",
   "source": [
    "## Module 3\n",
    "### Task 1: Precision Unveiled: The Logistic Symphony.\n",
    "In the realm of predictive prowess, a logistic symphony unfolds as 'LogisticRegression' takes the stage. This code isn't just about fitting a model; it's a performance where the maestro, 'logistic_model,' conducts precision into the harmonies of blood donation predictions. With each prediction, the code becomes a storyteller, foretelling the accuracy of our logistic regression model. In these lines, we witness not just an accuracy score but the culmination of a predictive journey where every variable played its role in the symphony of precision."
   ],
   "metadata": {
    "collapsed": false
   },
   "id": "e31282535e2012ea"
  },
  {
   "cell_type": "code",
   "execution_count": 98,
   "outputs": [
    {
     "data": {
      "text/plain": "0.76"
     },
     "execution_count": 98,
     "metadata": {},
     "output_type": "execute_result"
    }
   ],
   "source": [
    "logistic_model = LogisticRegression()\n",
    "logistic_model.fit(X_train,y_train)\n",
    "y_pred = logistic_model.predict(X_test)\n",
    "model_accuracy = round(accuracy_score(y_test,y_pred),2)\n",
    "model_accuracy"
   ],
   "metadata": {
    "collapsed": false,
    "ExecuteTime": {
     "end_time": "2023-11-26T18:54:59.279338Z",
     "start_time": "2023-11-26T18:54:59.206100Z"
    }
   },
   "id": "2dc389f01f792e97"
  },
  {
   "cell_type": "markdown",
   "source": [
    "### Task 2: The Prediction Ensemble: Reality vs. Forecast.\n",
    "In the climactic finale of our predictive symphony, 'logistic_model' takes center stage, predicting blood donor participation in the unseen 'test_data.csv.' This code isn't just about making predictions; it's an ensemble performance where reality meets forecast in the 'predictions_df.' With each entry, the code becomes a storyteller, unraveling the harmony between actual and predicted outcomes. In these lines, we witness not just data frames but a narrative of how our predictive model fares when faced with the reality of blood donation behavior."
   ],
   "metadata": {
    "collapsed": false
   },
   "id": "622d4bcfc685f6c8"
  },
  {
   "cell_type": "code",
   "execution_count": 99,
   "outputs": [],
   "source": [
    "predictions_df = pd.DataFrame(columns=[\"Actual\",\"Predicted\"])\n",
    "predictions_df[\"Actual\"] = y_test.copy()\n",
    "predictions_df[\"Predicted\"] = y_pred.copy()"
   ],
   "metadata": {
    "collapsed": false,
    "ExecuteTime": {
     "end_time": "2023-11-26T18:56:49.773250Z",
     "start_time": "2023-11-26T18:56:49.760848Z"
    }
   },
   "id": "3be6599fb9b4313f"
  },
  {
   "cell_type": "code",
   "execution_count": 100,
   "outputs": [
    {
     "data": {
      "text/plain": "     Actual  Predicted\n234       0          0\n118       0          0\n346       0          0\n498       0          0\n402       1          0\n..      ...        ...\n75        1          0\n355       1          0\n244       0          0\n272       0          0\n68        0          0\n\n[116 rows x 2 columns]",
      "text/html": "<div>\n<style scoped>\n    .dataframe tbody tr th:only-of-type {\n        vertical-align: middle;\n    }\n\n    .dataframe tbody tr th {\n        vertical-align: top;\n    }\n\n    .dataframe thead th {\n        text-align: right;\n    }\n</style>\n<table border=\"1\" class=\"dataframe\">\n  <thead>\n    <tr style=\"text-align: right;\">\n      <th></th>\n      <th>Actual</th>\n      <th>Predicted</th>\n    </tr>\n  </thead>\n  <tbody>\n    <tr>\n      <th>234</th>\n      <td>0</td>\n      <td>0</td>\n    </tr>\n    <tr>\n      <th>118</th>\n      <td>0</td>\n      <td>0</td>\n    </tr>\n    <tr>\n      <th>346</th>\n      <td>0</td>\n      <td>0</td>\n    </tr>\n    <tr>\n      <th>498</th>\n      <td>0</td>\n      <td>0</td>\n    </tr>\n    <tr>\n      <th>402</th>\n      <td>1</td>\n      <td>0</td>\n    </tr>\n    <tr>\n      <th>...</th>\n      <td>...</td>\n      <td>...</td>\n    </tr>\n    <tr>\n      <th>75</th>\n      <td>1</td>\n      <td>0</td>\n    </tr>\n    <tr>\n      <th>355</th>\n      <td>1</td>\n      <td>0</td>\n    </tr>\n    <tr>\n      <th>244</th>\n      <td>0</td>\n      <td>0</td>\n    </tr>\n    <tr>\n      <th>272</th>\n      <td>0</td>\n      <td>0</td>\n    </tr>\n    <tr>\n      <th>68</th>\n      <td>0</td>\n      <td>0</td>\n    </tr>\n  </tbody>\n</table>\n<p>116 rows × 2 columns</p>\n</div>"
     },
     "execution_count": 100,
     "metadata": {},
     "output_type": "execute_result"
    }
   ],
   "source": [
    "predictions_df"
   ],
   "metadata": {
    "collapsed": false,
    "ExecuteTime": {
     "end_time": "2023-11-26T18:56:53.220563Z",
     "start_time": "2023-11-26T18:56:53.215515Z"
    }
   },
   "id": "8cb8c22cc8e7e23b"
  },
  {
   "cell_type": "code",
   "execution_count": 106,
   "outputs": [
    {
     "name": "stdout",
     "output_type": "stream",
     "text": [
      "76.0 %\n"
     ]
    }
   ],
   "source": [
    "print((model_accuracy * 100),\"%\")"
   ],
   "metadata": {
    "collapsed": false,
    "ExecuteTime": {
     "end_time": "2023-11-26T18:57:56.029196Z",
     "start_time": "2023-11-26T18:57:56.025285Z"
    }
   },
   "id": "c64bc8bb136a5ef6"
  },
  {
   "cell_type": "code",
   "execution_count": 107,
   "outputs": [
    {
     "name": "stdout",
     "output_type": "stream",
     "text": [
      "24.0 %\n"
     ]
    }
   ],
   "source": [
    "print(((1 - model_accuracy) * 100),\"%\")"
   ],
   "metadata": {
    "collapsed": false,
    "ExecuteTime": {
     "end_time": "2023-11-26T18:58:10.051617Z",
     "start_time": "2023-11-26T18:58:10.040043Z"
    }
   },
   "id": "4ff8110b302818f2"
  },
  {
   "cell_type": "code",
   "execution_count": 116,
   "outputs": [
    {
     "name": "stdout",
     "output_type": "stream",
     "text": [
      "76.0 %\n"
     ]
    }
   ],
   "source": [
    "print(round((predictions_df[\"Actual\"] == predictions_df[\"Predicted\"]).sum() * 100 / len(predictions_df),0),\"%\")"
   ],
   "metadata": {
    "collapsed": false,
    "ExecuteTime": {
     "end_time": "2023-11-26T19:01:50.641247Z",
     "start_time": "2023-11-26T19:01:50.637289Z"
    }
   },
   "id": "fbf90dc931c738e6"
  },
  {
   "cell_type": "code",
   "execution_count": 117,
   "outputs": [
    {
     "name": "stdout",
     "output_type": "stream",
     "text": [
      "24.0 %\n"
     ]
    }
   ],
   "source": [
    "print(round((predictions_df[\"Actual\"] != predictions_df[\"Predicted\"]).sum() * 100 / len(predictions_df),0),\"%\")"
   ],
   "metadata": {
    "collapsed": false,
    "ExecuteTime": {
     "end_time": "2023-11-26T19:01:57.840910Z",
     "start_time": "2023-11-26T19:01:57.833400Z"
    }
   },
   "id": "11a51f22275c40d8"
  },
  {
   "cell_type": "code",
   "execution_count": null,
   "outputs": [],
   "source": [],
   "metadata": {
    "collapsed": false
   },
   "id": "5cc5713545911ca4"
  }
 ],
 "metadata": {
  "kernelspec": {
   "display_name": "Python 3",
   "language": "python",
   "name": "python3"
  },
  "language_info": {
   "codemirror_mode": {
    "name": "ipython",
    "version": 2
   },
   "file_extension": ".py",
   "mimetype": "text/x-python",
   "name": "python",
   "nbconvert_exporter": "python",
   "pygments_lexer": "ipython2",
   "version": "2.7.6"
  }
 },
 "nbformat": 4,
 "nbformat_minor": 5
}
