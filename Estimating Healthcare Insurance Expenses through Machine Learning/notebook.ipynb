{
 "cells": [
  {
   "cell_type": "markdown",
   "source": [
    "## Estimating Healthcare Insurance Expenses through Machine Learning.\n",
    "\n",
    "\n",
    "In the ever-evolving landscape of healthcare, where costs have soared due to the complexities of the modern healthcare system, the power of data has emerged as a beacon of hope. Healthcare analytics, much like a skilled navigator, holds the key to understanding and transforming the intricate web of health insurance costs. This is the mission of our project: to harness the transformative potential of data.\n",
    "\n",
    "Our journey begins with the realization that health insurance costs have reached unprecedented levels. This escalation is a result of numerous factors, including the rising cost of healthcare services and an array of individual characteristics. It's a multifaceted puzzle that calls for a comprehensive solution.\n",
    "\n",
    "We embark on this mission with the heart of a data virtuoso. Armed with the latest tools and techniques in healthcare analytics, we delve into a vast dataset, comprising variables such as age, sex, BMI, number of children, smoking habits, and region. Like a sculptor chiseling away at a block of marble, we meticulously dissect and interpret this data, applying both quantitative and qualitative methods to reveal the hidden insights and patterns within.\n",
    "\n",
    "At the core of our analysis lies the prediction of medical costs – a crucial indicator that unlocks a world of possibilities. This prediction empowers individuals, healthcare providers, and insurers to make informed decisions. It guides patients toward better planning, assists healthcare professionals in optimizing treatment plans, and helps insurance providers in setting fair premiums.\n",
    "\n",
    "Collaboration is at the heart of our endeavor. We work closely with experts in the field, building a bridge between the world of data and the world of healthcare. The insights we generate through data analysis become the guiding stars, steering our stakeholders towards better decision-making. With compelling data visualizations, we breathe life into these insights, making them accessible and actionable.\n",
    "\n",
    "Our work, much like that of the unsung hero in the healthcare analytics narrative, may often go unnoticed. Yet, its impact is profound. It contributes to the ongoing saga of healthcare excellence, making the journey towards affordable and efficient healthcare that much more extraordinary.\n",
    "\n",
    "In the realm of health insurance cost prediction, we are the unsung heroes, unlocking the extraordinary stories of financial well-being, efficient healthcare planning, and a more accessible healthcare system. Our dedication to data and our ability to transform it into actionable insights shape the path to a healthier, more financially secure future for all."
   ],
   "metadata": {
    "collapsed": false
   },
   "id": "1cf08dec67dd399e"
  },
  {
   "cell_type": "markdown",
   "source": [
    "## Module 1\n",
    "### Task 1: Analyzing Insurance Costs.\n",
    "In the quest to make healthcare accessible and affordable, we embark on the task of analyzing insurance costs using the data at our disposal. This endeavor is driven by a profound need to understand the factors that influence healthcare expenses, enabling us to provide individuals and healthcare stakeholders with the insights they need to make informed decisions. Our data, extracted from the \"insurance.csv\" file, holds the key to unraveling the mysteries of cost determinants such as age, gender, BMI, family size, smoking habits, and geographical location. As we load this dataset into our analysis, we prepare to unlock a world of possibilities. By exploring these data patterns and relationships, we strive to empower individuals with the knowledge required to plan for their financial health. Ultimately, our mission is to pave the way for more efficient healthcare planning, fairer insurance premiums, and a future where healthcare is within reach for everyone."
   ],
   "metadata": {
    "collapsed": false
   },
   "id": "8b2f53d6f6443072"
  },
  {
   "cell_type": "code",
   "execution_count": 37,
   "outputs": [
    {
     "data": {
      "text/plain": "      age     sex     bmi  children smoker     region      charges\n0      19  female  27.900         0    yes  southwest  16884.92400\n1      18    male  33.770         1     no  southeast   1725.55230\n2      28    male  33.000         3     no  southeast   4449.46200\n3      33    male  22.705         0     no  northwest  21984.47061\n4      32    male  28.880         0     no  northwest   3866.85520\n...   ...     ...     ...       ...    ...        ...          ...\n1333   50    male  30.970         3     no  northwest  10600.54830\n1334   18  female  31.920         0     no  northeast   2205.98080\n1335   18  female  36.850         0     no  southeast   1629.83350\n1336   21  female  25.800         0     no  southwest   2007.94500\n1337   61  female  29.070         0    yes  northwest  29141.36030\n\n[1338 rows x 7 columns]",
      "text/html": "<div>\n<style scoped>\n    .dataframe tbody tr th:only-of-type {\n        vertical-align: middle;\n    }\n\n    .dataframe tbody tr th {\n        vertical-align: top;\n    }\n\n    .dataframe thead th {\n        text-align: right;\n    }\n</style>\n<table border=\"1\" class=\"dataframe\">\n  <thead>\n    <tr style=\"text-align: right;\">\n      <th></th>\n      <th>age</th>\n      <th>sex</th>\n      <th>bmi</th>\n      <th>children</th>\n      <th>smoker</th>\n      <th>region</th>\n      <th>charges</th>\n    </tr>\n  </thead>\n  <tbody>\n    <tr>\n      <th>0</th>\n      <td>19</td>\n      <td>female</td>\n      <td>27.900</td>\n      <td>0</td>\n      <td>yes</td>\n      <td>southwest</td>\n      <td>16884.92400</td>\n    </tr>\n    <tr>\n      <th>1</th>\n      <td>18</td>\n      <td>male</td>\n      <td>33.770</td>\n      <td>1</td>\n      <td>no</td>\n      <td>southeast</td>\n      <td>1725.55230</td>\n    </tr>\n    <tr>\n      <th>2</th>\n      <td>28</td>\n      <td>male</td>\n      <td>33.000</td>\n      <td>3</td>\n      <td>no</td>\n      <td>southeast</td>\n      <td>4449.46200</td>\n    </tr>\n    <tr>\n      <th>3</th>\n      <td>33</td>\n      <td>male</td>\n      <td>22.705</td>\n      <td>0</td>\n      <td>no</td>\n      <td>northwest</td>\n      <td>21984.47061</td>\n    </tr>\n    <tr>\n      <th>4</th>\n      <td>32</td>\n      <td>male</td>\n      <td>28.880</td>\n      <td>0</td>\n      <td>no</td>\n      <td>northwest</td>\n      <td>3866.85520</td>\n    </tr>\n    <tr>\n      <th>...</th>\n      <td>...</td>\n      <td>...</td>\n      <td>...</td>\n      <td>...</td>\n      <td>...</td>\n      <td>...</td>\n      <td>...</td>\n    </tr>\n    <tr>\n      <th>1333</th>\n      <td>50</td>\n      <td>male</td>\n      <td>30.970</td>\n      <td>3</td>\n      <td>no</td>\n      <td>northwest</td>\n      <td>10600.54830</td>\n    </tr>\n    <tr>\n      <th>1334</th>\n      <td>18</td>\n      <td>female</td>\n      <td>31.920</td>\n      <td>0</td>\n      <td>no</td>\n      <td>northeast</td>\n      <td>2205.98080</td>\n    </tr>\n    <tr>\n      <th>1335</th>\n      <td>18</td>\n      <td>female</td>\n      <td>36.850</td>\n      <td>0</td>\n      <td>no</td>\n      <td>southeast</td>\n      <td>1629.83350</td>\n    </tr>\n    <tr>\n      <th>1336</th>\n      <td>21</td>\n      <td>female</td>\n      <td>25.800</td>\n      <td>0</td>\n      <td>no</td>\n      <td>southwest</td>\n      <td>2007.94500</td>\n    </tr>\n    <tr>\n      <th>1337</th>\n      <td>61</td>\n      <td>female</td>\n      <td>29.070</td>\n      <td>0</td>\n      <td>yes</td>\n      <td>northwest</td>\n      <td>29141.36030</td>\n    </tr>\n  </tbody>\n</table>\n<p>1338 rows × 7 columns</p>\n</div>"
     },
     "execution_count": 37,
     "metadata": {},
     "output_type": "execute_result"
    }
   ],
   "source": [
    "#--- Import Pandas ---\n",
    "import pandas as pd\n",
    "#--- Read in dataset ----\n",
    "df = pd.read_csv(\"./insurance.csv\")\n",
    "\n",
    "# ---WRITE YOUR CODE FOR TASK 1 ---\n",
    "df"
   ],
   "metadata": {
    "collapsed": false,
    "ExecuteTime": {
     "end_time": "2023-11-08T19:17:46.288522Z",
     "start_time": "2023-11-08T19:17:46.261769Z"
    }
   },
   "id": "9f09d5e87120827b"
  },
  {
   "cell_type": "markdown",
   "source": [
    "### Task 2: Unearthing Data Duplications.\n",
    "As we delve deeper into our mission to analyze insurance costs, we encounter a new challenge: data duplications. Our dedication to delivering accurate and reliable insights drives us to identify and address these duplications. By executing the code provided, we uncover the number of duplicate entries within our dataset. Removing these duplicates is paramount, as it ensures the integrity of our analysis, prevents skewed results, and allows us to maintain a high standard of data quality. This task may seem subtle, but its impact is profound, setting the stage for meaningful, actionable results. In our relentless pursuit of healthcare affordability, data quality is the cornerstone upon which we build a brighter and healthier future for all."
   ],
   "metadata": {
    "collapsed": false
   },
   "id": "5a1a7c9750c2e58a"
  },
  {
   "cell_type": "code",
   "execution_count": 38,
   "outputs": [
    {
     "data": {
      "text/plain": "1"
     },
     "execution_count": 38,
     "metadata": {},
     "output_type": "execute_result"
    }
   ],
   "source": [
    "# --- WRITE YOUR CODE FOR TASK 2 ---\n",
    "duplicates = df.duplicated().sum()\n",
    "\n",
    "duplicates"
   ],
   "metadata": {
    "collapsed": false,
    "ExecuteTime": {
     "end_time": "2023-11-08T19:17:46.883478Z",
     "start_time": "2023-11-08T19:17:46.877508Z"
    }
   },
   "id": "c48410678978da22"
  },
  {
   "cell_type": "markdown",
   "source": [
    "### Task 3: Eliminating Duplications.\n",
    "In our ongoing quest to analyze insurance costs and promote healthcare affordability, we have encountered and successfully addressed a crucial task. By executing the code provided, we have eliminated data duplications within our dataset. This task is pivotal, as it ensures the accuracy and reliability of our analysis. With duplicate entries now removed, we can confidently proceed, knowing that our insights and predictions will be based on clean, high-quality data. Every step we take in refining our dataset brings us closer to our goal of providing individuals and healthcare stakeholders with precise and actionable information for better healthcare planning and decision-making. The elimination of duplications is yet another stride toward a future where healthcare is both accessible and affordable for all."
   ],
   "metadata": {
    "collapsed": false
   },
   "id": "e9c172ffae9d50d0"
  },
  {
   "cell_type": "code",
   "execution_count": 39,
   "outputs": [
    {
     "data": {
      "text/plain": "      age     sex     bmi  children smoker     region      charges\n0      19  female  27.900         0    yes  southwest  16884.92400\n1      18    male  33.770         1     no  southeast   1725.55230\n2      28    male  33.000         3     no  southeast   4449.46200\n3      33    male  22.705         0     no  northwest  21984.47061\n4      32    male  28.880         0     no  northwest   3866.85520\n...   ...     ...     ...       ...    ...        ...          ...\n1333   50    male  30.970         3     no  northwest  10600.54830\n1334   18  female  31.920         0     no  northeast   2205.98080\n1335   18  female  36.850         0     no  southeast   1629.83350\n1336   21  female  25.800         0     no  southwest   2007.94500\n1337   61  female  29.070         0    yes  northwest  29141.36030\n\n[1337 rows x 7 columns]",
      "text/html": "<div>\n<style scoped>\n    .dataframe tbody tr th:only-of-type {\n        vertical-align: middle;\n    }\n\n    .dataframe tbody tr th {\n        vertical-align: top;\n    }\n\n    .dataframe thead th {\n        text-align: right;\n    }\n</style>\n<table border=\"1\" class=\"dataframe\">\n  <thead>\n    <tr style=\"text-align: right;\">\n      <th></th>\n      <th>age</th>\n      <th>sex</th>\n      <th>bmi</th>\n      <th>children</th>\n      <th>smoker</th>\n      <th>region</th>\n      <th>charges</th>\n    </tr>\n  </thead>\n  <tbody>\n    <tr>\n      <th>0</th>\n      <td>19</td>\n      <td>female</td>\n      <td>27.900</td>\n      <td>0</td>\n      <td>yes</td>\n      <td>southwest</td>\n      <td>16884.92400</td>\n    </tr>\n    <tr>\n      <th>1</th>\n      <td>18</td>\n      <td>male</td>\n      <td>33.770</td>\n      <td>1</td>\n      <td>no</td>\n      <td>southeast</td>\n      <td>1725.55230</td>\n    </tr>\n    <tr>\n      <th>2</th>\n      <td>28</td>\n      <td>male</td>\n      <td>33.000</td>\n      <td>3</td>\n      <td>no</td>\n      <td>southeast</td>\n      <td>4449.46200</td>\n    </tr>\n    <tr>\n      <th>3</th>\n      <td>33</td>\n      <td>male</td>\n      <td>22.705</td>\n      <td>0</td>\n      <td>no</td>\n      <td>northwest</td>\n      <td>21984.47061</td>\n    </tr>\n    <tr>\n      <th>4</th>\n      <td>32</td>\n      <td>male</td>\n      <td>28.880</td>\n      <td>0</td>\n      <td>no</td>\n      <td>northwest</td>\n      <td>3866.85520</td>\n    </tr>\n    <tr>\n      <th>...</th>\n      <td>...</td>\n      <td>...</td>\n      <td>...</td>\n      <td>...</td>\n      <td>...</td>\n      <td>...</td>\n      <td>...</td>\n    </tr>\n    <tr>\n      <th>1333</th>\n      <td>50</td>\n      <td>male</td>\n      <td>30.970</td>\n      <td>3</td>\n      <td>no</td>\n      <td>northwest</td>\n      <td>10600.54830</td>\n    </tr>\n    <tr>\n      <th>1334</th>\n      <td>18</td>\n      <td>female</td>\n      <td>31.920</td>\n      <td>0</td>\n      <td>no</td>\n      <td>northeast</td>\n      <td>2205.98080</td>\n    </tr>\n    <tr>\n      <th>1335</th>\n      <td>18</td>\n      <td>female</td>\n      <td>36.850</td>\n      <td>0</td>\n      <td>no</td>\n      <td>southeast</td>\n      <td>1629.83350</td>\n    </tr>\n    <tr>\n      <th>1336</th>\n      <td>21</td>\n      <td>female</td>\n      <td>25.800</td>\n      <td>0</td>\n      <td>no</td>\n      <td>southwest</td>\n      <td>2007.94500</td>\n    </tr>\n    <tr>\n      <th>1337</th>\n      <td>61</td>\n      <td>female</td>\n      <td>29.070</td>\n      <td>0</td>\n      <td>yes</td>\n      <td>northwest</td>\n      <td>29141.36030</td>\n    </tr>\n  </tbody>\n</table>\n<p>1337 rows × 7 columns</p>\n</div>"
     },
     "execution_count": 39,
     "metadata": {},
     "output_type": "execute_result"
    }
   ],
   "source": [
    "# --- WRITE YOUR CODE FOR TASK 3 ---\n",
    "df.drop_duplicates(inplace=True)\n",
    "\n",
    "df"
   ],
   "metadata": {
    "collapsed": false,
    "ExecuteTime": {
     "end_time": "2023-11-08T19:17:47.301516Z",
     "start_time": "2023-11-08T19:17:47.294293Z"
    }
   },
   "id": "f9b697391928369"
  },
  {
   "cell_type": "markdown",
   "source": [
    "### Task 4: Shoring Up Data Gaps.\n",
    "In our relentless pursuit of accurate and insightful healthcare analytics, we confront another critical task – identifying and handling missing data. By executing the code provided, we assess the extent of missing values within our dataset. It's a crucial endeavor because complete data is the bedrock of reliable analysis. With a clear understanding of where data gaps exist, we can make informed decisions on how to handle them, whether through imputation or exclusion. Our commitment to data completeness not only enhances the quality of our analysis but also empowers us to provide individuals and healthcare stakeholders with a comprehensive view of the factors influencing insurance costs. Every null value addressed is a step closer to our vision of a healthcare landscape where no one is left in the dark, and everyone can plan for a healthier and more financially secure future."
   ],
   "metadata": {
    "collapsed": false
   },
   "id": "abe872fb351f006"
  },
  {
   "cell_type": "code",
   "execution_count": 40,
   "outputs": [
    {
     "data": {
      "text/plain": "age         0\nsex         0\nbmi         0\nchildren    0\nsmoker      0\nregion      0\ncharges     0\ndtype: int64"
     },
     "execution_count": 40,
     "metadata": {},
     "output_type": "execute_result"
    }
   ],
   "source": [
    "# --- WRITE YOUR CODE FOR TASK 4 ---\n",
    "null_values = df.isnull().sum()\n",
    "\n",
    "null_values"
   ],
   "metadata": {
    "collapsed": false,
    "ExecuteTime": {
     "end_time": "2023-11-08T19:17:47.745096Z",
     "start_time": "2023-11-08T19:17:47.742052Z"
    }
   },
   "id": "84b2f086a5c43c3e"
  },
  {
   "cell_type": "markdown",
   "source": [
    "## Module 2\n",
    "### Task 1: Empowering Analysis with Encoded Insights.\n",
    "Our journey to decipher the intricacies of healthcare insurance costs continues with a pivotal task: encoding categorical features. By employing the LabelEncoder from the sklearn library, we convert non-numeric attributes such as 'sex' and 'smoker' into numerical values. This transformation is essential as it enables us to feed these features into our analytical models, providing a more comprehensive understanding of the factors influencing insurance costs. This coding task bridges the gap between data and actionable insights, setting the stage for robust analysis. With each attribute transformed, we move closer to uncovering the hidden relationships within our data and facilitating more precise predictions. Our commitment to encoding is a testament to our dedication to providing individuals and healthcare stakeholders with the tools they need to make informed decisions about their financial health and healthcare planning."
   ],
   "metadata": {
    "collapsed": false
   },
   "id": "c4e14eb77d71407d"
  },
  {
   "cell_type": "code",
   "execution_count": 41,
   "outputs": [
    {
     "data": {
      "text/plain": "      age  sex     bmi  children  smoker     region      charges\n0      19    0  27.900         0       1  southwest  16884.92400\n1      18    1  33.770         1       0  southeast   1725.55230\n2      28    1  33.000         3       0  southeast   4449.46200\n3      33    1  22.705         0       0  northwest  21984.47061\n4      32    1  28.880         0       0  northwest   3866.85520\n...   ...  ...     ...       ...     ...        ...          ...\n1333   50    1  30.970         3       0  northwest  10600.54830\n1334   18    0  31.920         0       0  northeast   2205.98080\n1335   18    0  36.850         0       0  southeast   1629.83350\n1336   21    0  25.800         0       0  southwest   2007.94500\n1337   61    0  29.070         0       1  northwest  29141.36030\n\n[1337 rows x 7 columns]",
      "text/html": "<div>\n<style scoped>\n    .dataframe tbody tr th:only-of-type {\n        vertical-align: middle;\n    }\n\n    .dataframe tbody tr th {\n        vertical-align: top;\n    }\n\n    .dataframe thead th {\n        text-align: right;\n    }\n</style>\n<table border=\"1\" class=\"dataframe\">\n  <thead>\n    <tr style=\"text-align: right;\">\n      <th></th>\n      <th>age</th>\n      <th>sex</th>\n      <th>bmi</th>\n      <th>children</th>\n      <th>smoker</th>\n      <th>region</th>\n      <th>charges</th>\n    </tr>\n  </thead>\n  <tbody>\n    <tr>\n      <th>0</th>\n      <td>19</td>\n      <td>0</td>\n      <td>27.900</td>\n      <td>0</td>\n      <td>1</td>\n      <td>southwest</td>\n      <td>16884.92400</td>\n    </tr>\n    <tr>\n      <th>1</th>\n      <td>18</td>\n      <td>1</td>\n      <td>33.770</td>\n      <td>1</td>\n      <td>0</td>\n      <td>southeast</td>\n      <td>1725.55230</td>\n    </tr>\n    <tr>\n      <th>2</th>\n      <td>28</td>\n      <td>1</td>\n      <td>33.000</td>\n      <td>3</td>\n      <td>0</td>\n      <td>southeast</td>\n      <td>4449.46200</td>\n    </tr>\n    <tr>\n      <th>3</th>\n      <td>33</td>\n      <td>1</td>\n      <td>22.705</td>\n      <td>0</td>\n      <td>0</td>\n      <td>northwest</td>\n      <td>21984.47061</td>\n    </tr>\n    <tr>\n      <th>4</th>\n      <td>32</td>\n      <td>1</td>\n      <td>28.880</td>\n      <td>0</td>\n      <td>0</td>\n      <td>northwest</td>\n      <td>3866.85520</td>\n    </tr>\n    <tr>\n      <th>...</th>\n      <td>...</td>\n      <td>...</td>\n      <td>...</td>\n      <td>...</td>\n      <td>...</td>\n      <td>...</td>\n      <td>...</td>\n    </tr>\n    <tr>\n      <th>1333</th>\n      <td>50</td>\n      <td>1</td>\n      <td>30.970</td>\n      <td>3</td>\n      <td>0</td>\n      <td>northwest</td>\n      <td>10600.54830</td>\n    </tr>\n    <tr>\n      <th>1334</th>\n      <td>18</td>\n      <td>0</td>\n      <td>31.920</td>\n      <td>0</td>\n      <td>0</td>\n      <td>northeast</td>\n      <td>2205.98080</td>\n    </tr>\n    <tr>\n      <th>1335</th>\n      <td>18</td>\n      <td>0</td>\n      <td>36.850</td>\n      <td>0</td>\n      <td>0</td>\n      <td>southeast</td>\n      <td>1629.83350</td>\n    </tr>\n    <tr>\n      <th>1336</th>\n      <td>21</td>\n      <td>0</td>\n      <td>25.800</td>\n      <td>0</td>\n      <td>0</td>\n      <td>southwest</td>\n      <td>2007.94500</td>\n    </tr>\n    <tr>\n      <th>1337</th>\n      <td>61</td>\n      <td>0</td>\n      <td>29.070</td>\n      <td>0</td>\n      <td>1</td>\n      <td>northwest</td>\n      <td>29141.36030</td>\n    </tr>\n  </tbody>\n</table>\n<p>1337 rows × 7 columns</p>\n</div>"
     },
     "execution_count": 41,
     "metadata": {},
     "output_type": "execute_result"
    }
   ],
   "source": [
    "from sklearn.preprocessing import LabelEncoder\n",
    "\n",
    "lab_encode = LabelEncoder()\n",
    "\n",
    "for i in df[[\"sex\",\"smoker\"]]:\n",
    "    df[i] = lab_encode.fit_transform(df[i])\n",
    "\n",
    "df"
   ],
   "metadata": {
    "collapsed": false,
    "ExecuteTime": {
     "end_time": "2023-11-08T19:17:48.140636Z",
     "start_time": "2023-11-08T19:17:48.138566Z"
    }
   },
   "id": "c11787208efd382a"
  },
  {
   "cell_type": "markdown",
   "source": [
    "### Task 2: Unleashing the Power of One-Hot Encoding.\n",
    "As we delve deeper into our quest to unravel the mysteries of healthcare insurance costs, we face a new challenge: encoding the 'region' attribute using one-hot encoding. This task is essential to translate geographical regions into numerical representations, allowing us to incorporate this valuable information into our analysis. By executing the code provided, we create a series of binary columns, each representing a different region. These columns serve as vital indicators, enabling us to discern the impact of location on insurance costs. Every region reveals unique insights, and this one-hot encoding process equips us with the means to uncover these intricate patterns. Our commitment to one-hot encoding is yet another testament to our dedication to providing individuals and healthcare stakeholders with a more comprehensive view of the factors influencing healthcare costs, empowering them to make informed decisions."
   ],
   "metadata": {
    "collapsed": false
   },
   "id": "d9e15e0a767db379"
  },
  {
   "cell_type": "code",
   "execution_count": 42,
   "outputs": [
    {
     "data": {
      "text/plain": "      northeast  northwest  southeast  southwest\n0             0          0          0          1\n1             0          0          1          0\n2             0          0          1          0\n3             0          1          0          0\n4             0          1          0          0\n...         ...        ...        ...        ...\n1333          0          1          0          0\n1334          1          0          0          0\n1335          0          0          1          0\n1336          0          0          0          1\n1337          0          1          0          0\n\n[1337 rows x 4 columns]",
      "text/html": "<div>\n<style scoped>\n    .dataframe tbody tr th:only-of-type {\n        vertical-align: middle;\n    }\n\n    .dataframe tbody tr th {\n        vertical-align: top;\n    }\n\n    .dataframe thead th {\n        text-align: right;\n    }\n</style>\n<table border=\"1\" class=\"dataframe\">\n  <thead>\n    <tr style=\"text-align: right;\">\n      <th></th>\n      <th>northeast</th>\n      <th>northwest</th>\n      <th>southeast</th>\n      <th>southwest</th>\n    </tr>\n  </thead>\n  <tbody>\n    <tr>\n      <th>0</th>\n      <td>0</td>\n      <td>0</td>\n      <td>0</td>\n      <td>1</td>\n    </tr>\n    <tr>\n      <th>1</th>\n      <td>0</td>\n      <td>0</td>\n      <td>1</td>\n      <td>0</td>\n    </tr>\n    <tr>\n      <th>2</th>\n      <td>0</td>\n      <td>0</td>\n      <td>1</td>\n      <td>0</td>\n    </tr>\n    <tr>\n      <th>3</th>\n      <td>0</td>\n      <td>1</td>\n      <td>0</td>\n      <td>0</td>\n    </tr>\n    <tr>\n      <th>4</th>\n      <td>0</td>\n      <td>1</td>\n      <td>0</td>\n      <td>0</td>\n    </tr>\n    <tr>\n      <th>...</th>\n      <td>...</td>\n      <td>...</td>\n      <td>...</td>\n      <td>...</td>\n    </tr>\n    <tr>\n      <th>1333</th>\n      <td>0</td>\n      <td>1</td>\n      <td>0</td>\n      <td>0</td>\n    </tr>\n    <tr>\n      <th>1334</th>\n      <td>1</td>\n      <td>0</td>\n      <td>0</td>\n      <td>0</td>\n    </tr>\n    <tr>\n      <th>1335</th>\n      <td>0</td>\n      <td>0</td>\n      <td>1</td>\n      <td>0</td>\n    </tr>\n    <tr>\n      <th>1336</th>\n      <td>0</td>\n      <td>0</td>\n      <td>0</td>\n      <td>1</td>\n    </tr>\n    <tr>\n      <th>1337</th>\n      <td>0</td>\n      <td>1</td>\n      <td>0</td>\n      <td>0</td>\n    </tr>\n  </tbody>\n</table>\n<p>1337 rows × 4 columns</p>\n</div>"
     },
     "execution_count": 42,
     "metadata": {},
     "output_type": "execute_result"
    }
   ],
   "source": [
    "# --- WRITE YOUR CODE FOR TASK 2 ---\n",
    "one_hot_encode = pd.get_dummies(df[\"region\"]).astype(\"uint8\")\n",
    "\n",
    "one_hot_encode"
   ],
   "metadata": {
    "collapsed": false,
    "ExecuteTime": {
     "end_time": "2023-11-08T19:17:48.558937Z",
     "start_time": "2023-11-08T19:17:48.552320Z"
    }
   },
   "id": "281405734c4e533"
  },
  {
   "cell_type": "markdown",
   "source": [
    "### Task 3: Incorporating Regional Factors.\n",
    "In our relentless pursuit of comprehensive healthcare analysis, we have reached a critical juncture – the integration of regional data into our dataset. By concatenating the one-hot encoded 'region' columns, we expand our dataset's horizons. This task is crucial as it allows us to incorporate the influence of geographical regions on insurance costs into our analysis. With this enhancement, we are better equipped to unearth region-specific trends, offering a more detailed and nuanced perspective on cost determinants. Our commitment to this integration extends our mission to empower individuals and healthcare stakeholders with the tools they need to navigate the complexities of healthcare planning and financial decision-making. With each column added, we take a significant stride toward achieving our vision of a healthcare landscape where insights are both comprehensive and actionable."
   ],
   "metadata": {
    "collapsed": false
   },
   "id": "77abefdbded2f6e7"
  },
  {
   "cell_type": "code",
   "execution_count": 43,
   "outputs": [
    {
     "data": {
      "text/plain": "      age  sex     bmi  children  smoker     region      charges  northeast  \\\n0      19    0  27.900         0       1  southwest  16884.92400          0   \n1      18    1  33.770         1       0  southeast   1725.55230          0   \n2      28    1  33.000         3       0  southeast   4449.46200          0   \n3      33    1  22.705         0       0  northwest  21984.47061          0   \n4      32    1  28.880         0       0  northwest   3866.85520          0   \n...   ...  ...     ...       ...     ...        ...          ...        ...   \n1333   50    1  30.970         3       0  northwest  10600.54830          0   \n1334   18    0  31.920         0       0  northeast   2205.98080          1   \n1335   18    0  36.850         0       0  southeast   1629.83350          0   \n1336   21    0  25.800         0       0  southwest   2007.94500          0   \n1337   61    0  29.070         0       1  northwest  29141.36030          0   \n\n      northwest  southeast  southwest  \n0             0          0          1  \n1             0          1          0  \n2             0          1          0  \n3             1          0          0  \n4             1          0          0  \n...         ...        ...        ...  \n1333          1          0          0  \n1334          0          0          0  \n1335          0          1          0  \n1336          0          0          1  \n1337          1          0          0  \n\n[1337 rows x 11 columns]",
      "text/html": "<div>\n<style scoped>\n    .dataframe tbody tr th:only-of-type {\n        vertical-align: middle;\n    }\n\n    .dataframe tbody tr th {\n        vertical-align: top;\n    }\n\n    .dataframe thead th {\n        text-align: right;\n    }\n</style>\n<table border=\"1\" class=\"dataframe\">\n  <thead>\n    <tr style=\"text-align: right;\">\n      <th></th>\n      <th>age</th>\n      <th>sex</th>\n      <th>bmi</th>\n      <th>children</th>\n      <th>smoker</th>\n      <th>region</th>\n      <th>charges</th>\n      <th>northeast</th>\n      <th>northwest</th>\n      <th>southeast</th>\n      <th>southwest</th>\n    </tr>\n  </thead>\n  <tbody>\n    <tr>\n      <th>0</th>\n      <td>19</td>\n      <td>0</td>\n      <td>27.900</td>\n      <td>0</td>\n      <td>1</td>\n      <td>southwest</td>\n      <td>16884.92400</td>\n      <td>0</td>\n      <td>0</td>\n      <td>0</td>\n      <td>1</td>\n    </tr>\n    <tr>\n      <th>1</th>\n      <td>18</td>\n      <td>1</td>\n      <td>33.770</td>\n      <td>1</td>\n      <td>0</td>\n      <td>southeast</td>\n      <td>1725.55230</td>\n      <td>0</td>\n      <td>0</td>\n      <td>1</td>\n      <td>0</td>\n    </tr>\n    <tr>\n      <th>2</th>\n      <td>28</td>\n      <td>1</td>\n      <td>33.000</td>\n      <td>3</td>\n      <td>0</td>\n      <td>southeast</td>\n      <td>4449.46200</td>\n      <td>0</td>\n      <td>0</td>\n      <td>1</td>\n      <td>0</td>\n    </tr>\n    <tr>\n      <th>3</th>\n      <td>33</td>\n      <td>1</td>\n      <td>22.705</td>\n      <td>0</td>\n      <td>0</td>\n      <td>northwest</td>\n      <td>21984.47061</td>\n      <td>0</td>\n      <td>1</td>\n      <td>0</td>\n      <td>0</td>\n    </tr>\n    <tr>\n      <th>4</th>\n      <td>32</td>\n      <td>1</td>\n      <td>28.880</td>\n      <td>0</td>\n      <td>0</td>\n      <td>northwest</td>\n      <td>3866.85520</td>\n      <td>0</td>\n      <td>1</td>\n      <td>0</td>\n      <td>0</td>\n    </tr>\n    <tr>\n      <th>...</th>\n      <td>...</td>\n      <td>...</td>\n      <td>...</td>\n      <td>...</td>\n      <td>...</td>\n      <td>...</td>\n      <td>...</td>\n      <td>...</td>\n      <td>...</td>\n      <td>...</td>\n      <td>...</td>\n    </tr>\n    <tr>\n      <th>1333</th>\n      <td>50</td>\n      <td>1</td>\n      <td>30.970</td>\n      <td>3</td>\n      <td>0</td>\n      <td>northwest</td>\n      <td>10600.54830</td>\n      <td>0</td>\n      <td>1</td>\n      <td>0</td>\n      <td>0</td>\n    </tr>\n    <tr>\n      <th>1334</th>\n      <td>18</td>\n      <td>0</td>\n      <td>31.920</td>\n      <td>0</td>\n      <td>0</td>\n      <td>northeast</td>\n      <td>2205.98080</td>\n      <td>1</td>\n      <td>0</td>\n      <td>0</td>\n      <td>0</td>\n    </tr>\n    <tr>\n      <th>1335</th>\n      <td>18</td>\n      <td>0</td>\n      <td>36.850</td>\n      <td>0</td>\n      <td>0</td>\n      <td>southeast</td>\n      <td>1629.83350</td>\n      <td>0</td>\n      <td>0</td>\n      <td>1</td>\n      <td>0</td>\n    </tr>\n    <tr>\n      <th>1336</th>\n      <td>21</td>\n      <td>0</td>\n      <td>25.800</td>\n      <td>0</td>\n      <td>0</td>\n      <td>southwest</td>\n      <td>2007.94500</td>\n      <td>0</td>\n      <td>0</td>\n      <td>0</td>\n      <td>1</td>\n    </tr>\n    <tr>\n      <th>1337</th>\n      <td>61</td>\n      <td>0</td>\n      <td>29.070</td>\n      <td>0</td>\n      <td>1</td>\n      <td>northwest</td>\n      <td>29141.36030</td>\n      <td>0</td>\n      <td>1</td>\n      <td>0</td>\n      <td>0</td>\n    </tr>\n  </tbody>\n</table>\n<p>1337 rows × 11 columns</p>\n</div>"
     },
     "execution_count": 43,
     "metadata": {},
     "output_type": "execute_result"
    }
   ],
   "source": [
    "# --- WRITE YOUR CODE FOR TASK 3 ---\n",
    "df1 = pd.concat([df,one_hot_encode],axis=1)\n",
    "\n",
    "df1"
   ],
   "metadata": {
    "collapsed": false,
    "ExecuteTime": {
     "end_time": "2023-11-08T19:17:48.971305Z",
     "start_time": "2023-11-08T19:17:48.964304Z"
    }
   },
   "id": "f693ba027da20f79"
  },
  {
   "cell_type": "markdown",
   "source": [
    "### Task 4: Removing Redundancy.\n",
    "In our ongoing journey to unlock the secrets of healthcare insurance costs, we reach a crucial juncture – the removal of the 'region' column from our dataset. This task is vital as it streamlines our data, eliminating redundancy while preserving the valuable regional insights we've gained through one-hot encoding. By executing this step, we enhance the efficiency of our analysis, making it easier to identify the true determinants of insurance costs. Our commitment to this data refinement aligns with our mission to provide individuals and healthcare stakeholders with precise and actionable insights for healthcare planning and financial decision-making. With each column removed, we advance further toward our vision of a healthcare landscape where data is clear, comprehensive, and focused on improving the health and financial well-being of all."
   ],
   "metadata": {
    "collapsed": false
   },
   "id": "c0cc417cccb76362"
  },
  {
   "cell_type": "code",
   "execution_count": 44,
   "outputs": [
    {
     "data": {
      "text/plain": "      age  sex     bmi  children  smoker      charges  northeast  northwest  \\\n0      19    0  27.900         0       1  16884.92400          0          0   \n1      18    1  33.770         1       0   1725.55230          0          0   \n2      28    1  33.000         3       0   4449.46200          0          0   \n3      33    1  22.705         0       0  21984.47061          0          1   \n4      32    1  28.880         0       0   3866.85520          0          1   \n...   ...  ...     ...       ...     ...          ...        ...        ...   \n1333   50    1  30.970         3       0  10600.54830          0          1   \n1334   18    0  31.920         0       0   2205.98080          1          0   \n1335   18    0  36.850         0       0   1629.83350          0          0   \n1336   21    0  25.800         0       0   2007.94500          0          0   \n1337   61    0  29.070         0       1  29141.36030          0          1   \n\n      southeast  southwest  \n0             0          1  \n1             1          0  \n2             1          0  \n3             0          0  \n4             0          0  \n...         ...        ...  \n1333          0          0  \n1334          0          0  \n1335          1          0  \n1336          0          1  \n1337          0          0  \n\n[1337 rows x 10 columns]",
      "text/html": "<div>\n<style scoped>\n    .dataframe tbody tr th:only-of-type {\n        vertical-align: middle;\n    }\n\n    .dataframe tbody tr th {\n        vertical-align: top;\n    }\n\n    .dataframe thead th {\n        text-align: right;\n    }\n</style>\n<table border=\"1\" class=\"dataframe\">\n  <thead>\n    <tr style=\"text-align: right;\">\n      <th></th>\n      <th>age</th>\n      <th>sex</th>\n      <th>bmi</th>\n      <th>children</th>\n      <th>smoker</th>\n      <th>charges</th>\n      <th>northeast</th>\n      <th>northwest</th>\n      <th>southeast</th>\n      <th>southwest</th>\n    </tr>\n  </thead>\n  <tbody>\n    <tr>\n      <th>0</th>\n      <td>19</td>\n      <td>0</td>\n      <td>27.900</td>\n      <td>0</td>\n      <td>1</td>\n      <td>16884.92400</td>\n      <td>0</td>\n      <td>0</td>\n      <td>0</td>\n      <td>1</td>\n    </tr>\n    <tr>\n      <th>1</th>\n      <td>18</td>\n      <td>1</td>\n      <td>33.770</td>\n      <td>1</td>\n      <td>0</td>\n      <td>1725.55230</td>\n      <td>0</td>\n      <td>0</td>\n      <td>1</td>\n      <td>0</td>\n    </tr>\n    <tr>\n      <th>2</th>\n      <td>28</td>\n      <td>1</td>\n      <td>33.000</td>\n      <td>3</td>\n      <td>0</td>\n      <td>4449.46200</td>\n      <td>0</td>\n      <td>0</td>\n      <td>1</td>\n      <td>0</td>\n    </tr>\n    <tr>\n      <th>3</th>\n      <td>33</td>\n      <td>1</td>\n      <td>22.705</td>\n      <td>0</td>\n      <td>0</td>\n      <td>21984.47061</td>\n      <td>0</td>\n      <td>1</td>\n      <td>0</td>\n      <td>0</td>\n    </tr>\n    <tr>\n      <th>4</th>\n      <td>32</td>\n      <td>1</td>\n      <td>28.880</td>\n      <td>0</td>\n      <td>0</td>\n      <td>3866.85520</td>\n      <td>0</td>\n      <td>1</td>\n      <td>0</td>\n      <td>0</td>\n    </tr>\n    <tr>\n      <th>...</th>\n      <td>...</td>\n      <td>...</td>\n      <td>...</td>\n      <td>...</td>\n      <td>...</td>\n      <td>...</td>\n      <td>...</td>\n      <td>...</td>\n      <td>...</td>\n      <td>...</td>\n    </tr>\n    <tr>\n      <th>1333</th>\n      <td>50</td>\n      <td>1</td>\n      <td>30.970</td>\n      <td>3</td>\n      <td>0</td>\n      <td>10600.54830</td>\n      <td>0</td>\n      <td>1</td>\n      <td>0</td>\n      <td>0</td>\n    </tr>\n    <tr>\n      <th>1334</th>\n      <td>18</td>\n      <td>0</td>\n      <td>31.920</td>\n      <td>0</td>\n      <td>0</td>\n      <td>2205.98080</td>\n      <td>1</td>\n      <td>0</td>\n      <td>0</td>\n      <td>0</td>\n    </tr>\n    <tr>\n      <th>1335</th>\n      <td>18</td>\n      <td>0</td>\n      <td>36.850</td>\n      <td>0</td>\n      <td>0</td>\n      <td>1629.83350</td>\n      <td>0</td>\n      <td>0</td>\n      <td>1</td>\n      <td>0</td>\n    </tr>\n    <tr>\n      <th>1336</th>\n      <td>21</td>\n      <td>0</td>\n      <td>25.800</td>\n      <td>0</td>\n      <td>0</td>\n      <td>2007.94500</td>\n      <td>0</td>\n      <td>0</td>\n      <td>0</td>\n      <td>1</td>\n    </tr>\n    <tr>\n      <th>1337</th>\n      <td>61</td>\n      <td>0</td>\n      <td>29.070</td>\n      <td>0</td>\n      <td>1</td>\n      <td>29141.36030</td>\n      <td>0</td>\n      <td>1</td>\n      <td>0</td>\n      <td>0</td>\n    </tr>\n  </tbody>\n</table>\n<p>1337 rows × 10 columns</p>\n</div>"
     },
     "execution_count": 44,
     "metadata": {},
     "output_type": "execute_result"
    }
   ],
   "source": [
    "# --- WRITE YOUR CODE FOR TASK 4 ---\n",
    "df1.drop(\"region\",axis=1,inplace=True)\n",
    "\n",
    "df1"
   ],
   "metadata": {
    "collapsed": false,
    "ExecuteTime": {
     "end_time": "2023-11-08T19:17:49.592038Z",
     "start_time": "2023-11-08T19:17:49.587246Z"
    }
   },
   "id": "c02ddf4bcd0dda4f"
  },
  {
   "cell_type": "markdown",
   "source": [
    "## Module 3\n",
    "### Task 1: Setting the Stage for Precise Predictions.\n",
    "In our journey to gain a deep understanding of healthcare insurance costs, we have reached a pivotal moment – the division of our dataset into training and test sets. This task is essential as it prepares us for accurate predictions by creating distinct subsets for model training and evaluation. By executing the code provided, we allocate 80% of the data to the training set and 20% to the test set, ensuring a robust and reliable analysis. Our commitment to this data split reflects our dedication to providing individuals and healthcare stakeholders with precise predictions for healthcare planning and financial decision-making. With each split, we move closer to achieving our vision of a healthcare landscape where insights are not just comprehensive but also highly accurate, ultimately promoting financial and health well-being for all."
   ],
   "metadata": {
    "collapsed": false
   },
   "id": "d69a038b49e7cee"
  },
  {
   "cell_type": "code",
   "execution_count": 45,
   "outputs": [
    {
     "data": {
      "text/plain": "(      age  sex     bmi  children  smoker  northeast  northwest  southeast  \\\n 1114   23    1  24.510         0       0          1          0          0   \n 968    21    1  25.745         2       0          1          0          0   \n 599    52    0  37.525         2       0          0          1          0   \n 170    63    1  41.470         0       0          0          0          1   \n 275    47    0  26.600         2       0          1          0          0   \n ...   ...  ...     ...       ...     ...        ...        ...        ...   \n 1096   51    0  34.960         2       1          1          0          0   \n 1131   27    1  45.900         2       0          0          0          0   \n 1295   20    1  22.000         1       0          0          0          0   \n 861    38    0  28.000         3       0          0          0          0   \n 1127   35    0  35.860         2       0          0          0          1   \n \n       southwest  \n 1114          0  \n 968           0  \n 599           0  \n 170           0  \n 275           0  \n ...         ...  \n 1096          0  \n 1131          1  \n 1295          1  \n 861           1  \n 1127          0  \n \n [1069 rows x 9 columns],\n       age  sex     bmi  children  smoker  northeast  northwest  southeast  \\\n 900    49    1  22.515         0       0          1          0          0   \n 1064   29    0  25.600         4       0          0          0          0   \n 1256   51    0  36.385         3       0          0          1          0   \n 298    31    1  34.390         3       1          0          1          0   \n 237    31    1  38.390         2       0          0          0          1   \n ...   ...  ...     ...       ...     ...        ...        ...        ...   \n 534    64    1  40.480         0       0          0          0          1   \n 542    63    0  36.300         0       0          0          0          1   \n 760    22    0  34.580         2       0          1          0          0   \n 1284   61    1  36.300         1       1          0          0          0   \n 1285   47    0  24.320         0       0          1          0          0   \n \n       southwest  \n 900           0  \n 1064          1  \n 1256          0  \n 298           0  \n 237           0  \n ...         ...  \n 534           0  \n 542           0  \n 760           0  \n 1284          1  \n 1285          0  \n \n [268 rows x 9 columns],\n 1114     2396.09590\n 968      3279.86855\n 599     33471.97189\n 170     13405.39030\n 275      9715.84100\n            ...     \n 1096    44641.19740\n 1131     3693.42800\n 1295     1964.78000\n 861      7151.09200\n 1127     5836.52040\n Name: charges, Length: 1069, dtype: float64,\n 900      8688.85885\n 1064     5708.86700\n 1256    11436.73815\n 298     38746.35510\n 237      4463.20510\n            ...     \n 534     13831.11520\n 542     13887.20400\n 760      3925.75820\n 1284    47403.88000\n 1285     8534.67180\n Name: charges, Length: 268, dtype: float64)"
     },
     "execution_count": 45,
     "metadata": {},
     "output_type": "execute_result"
    }
   ],
   "source": [
    "# --- WRITE YOUR CODE FOR TASK 1 ---\n",
    "from sklearn.model_selection import train_test_split\n",
    "\n",
    "X = df1.drop(\"charges\",axis=1)\n",
    "y = df1[\"charges\"]\n",
    "\n",
    "X_train, X_test, y_train, y_test = train_test_split(X,y,test_size=0.2,random_state=42)\n",
    "\n",
    "X_train, X_test, y_train, y_test"
   ],
   "metadata": {
    "collapsed": false,
    "ExecuteTime": {
     "end_time": "2023-11-08T19:17:50.149884Z",
     "start_time": "2023-11-08T19:17:50.140234Z"
    }
   },
   "id": "44af90f3ebefcb6"
  },
  {
   "cell_type": "markdown",
   "source": [
    "### Task 2: Evaluating Model Performance.\n",
    "In our pursuit of uncovering the intricacies of healthcare insurance costs, we shift our focus to evaluating the performance of a Random Forest Regression model. This task is essential in understanding how well our model can predict insurance charges, providing a crucial tool for making informed financial and healthcare decisions. By employing cross-validation with 10 folds, we assess the model's performance and calculate the root mean squared error (RMSE). The RMSE serves as a metric of the model's predictive accuracy, helping us determine how well it can make cost predictions. Our commitment to this performance evaluation aligns with our mission to empower individuals and healthcare stakeholders with precise insights for healthcare planning and financial decision-making. With each performance metric calculated, we approach our goal of a healthcare landscape where predictions are not just comprehensive but also highly accurate, paving the way for better financial and health well-being for all."
   ],
   "metadata": {
    "collapsed": false
   },
   "id": "4d4de8ff77ffe604"
  },
  {
   "cell_type": "code",
   "execution_count": 46,
   "outputs": [
    {
     "data": {
      "text/plain": "586.8826484248"
     },
     "execution_count": 46,
     "metadata": {},
     "output_type": "execute_result"
    }
   ],
   "source": [
    "import numpy as np\n",
    "from sklearn.model_selection import cross_val_score\n",
    "from sklearn.ensemble import RandomForestRegressor\n",
    "rand_forest_model = RandomForestRegressor(n_estimators=50, n_jobs=2, random_state=42)\n",
    "\n",
    "std = np.std(np.sqrt(np.abs(cross_val_score(rand_forest_model,X_train,y_train,scoring=\"neg_mean_squared_error\",cv=10))))\n",
    "\n",
    "# --- WRITE YOUR CODE FOR TASK 2 ---\n",
    "std"
   ],
   "metadata": {
    "collapsed": false,
    "ExecuteTime": {
     "end_time": "2023-11-08T19:17:51.687090Z",
     "start_time": "2023-11-08T19:17:50.800349Z"
    }
   },
   "id": "d343833b23b76632"
  },
  {
   "cell_type": "markdown",
   "source": [
    "### Task 3: Forecasting Healthcare Costs.\n",
    "In our pursuit of accurate healthcare insurance cost predictions, we've reached the culmination of our journey. With a Random Forest Regression model in place, we've trained it on the training dataset, equipping it with the knowledge to predict healthcare charges. By executing this model, we make predictions using the test dataset, offering us a glimpse of how well our predictions align with actual healthcare costs. The rounded predictions are presented to ensure clarity, and they provide a direct comparison with the real costs. This final step brings us closer to our mission of providing individuals and healthcare stakeholders with precise and actionable insights for informed healthcare planning and financial decision-making. With these comparisons in hand, we enter a new era where predictions meet reality, offering a path to more accurate healthcare cost planning and ultimately promoting better financial and health well-being for all."
   ],
   "metadata": {
    "collapsed": false
   },
   "id": "ea9fc647315d5c3"
  },
  {
   "cell_type": "code",
   "execution_count": 47,
   "outputs": [
    {
     "data": {
      "text/plain": "   Actual Charges  Predicted Charges\n0         8688.86           10334.48\n1         5708.87            6651.49\n2        11436.74           12295.40\n3        38746.36           42608.01\n4         4463.21            6853.03\n5         9304.70            9366.65\n6        38511.63           39526.20\n7         2150.47            2194.72\n8         7345.73            8516.75\n9        10264.44           10708.99",
      "text/html": "<div>\n<style scoped>\n    .dataframe tbody tr th:only-of-type {\n        vertical-align: middle;\n    }\n\n    .dataframe tbody tr th {\n        vertical-align: top;\n    }\n\n    .dataframe thead th {\n        text-align: right;\n    }\n</style>\n<table border=\"1\" class=\"dataframe\">\n  <thead>\n    <tr style=\"text-align: right;\">\n      <th></th>\n      <th>Actual Charges</th>\n      <th>Predicted Charges</th>\n    </tr>\n  </thead>\n  <tbody>\n    <tr>\n      <th>0</th>\n      <td>8688.86</td>\n      <td>10334.48</td>\n    </tr>\n    <tr>\n      <th>1</th>\n      <td>5708.87</td>\n      <td>6651.49</td>\n    </tr>\n    <tr>\n      <th>2</th>\n      <td>11436.74</td>\n      <td>12295.40</td>\n    </tr>\n    <tr>\n      <th>3</th>\n      <td>38746.36</td>\n      <td>42608.01</td>\n    </tr>\n    <tr>\n      <th>4</th>\n      <td>4463.21</td>\n      <td>6853.03</td>\n    </tr>\n    <tr>\n      <th>5</th>\n      <td>9304.70</td>\n      <td>9366.65</td>\n    </tr>\n    <tr>\n      <th>6</th>\n      <td>38511.63</td>\n      <td>39526.20</td>\n    </tr>\n    <tr>\n      <th>7</th>\n      <td>2150.47</td>\n      <td>2194.72</td>\n    </tr>\n    <tr>\n      <th>8</th>\n      <td>7345.73</td>\n      <td>8516.75</td>\n    </tr>\n    <tr>\n      <th>9</th>\n      <td>10264.44</td>\n      <td>10708.99</td>\n    </tr>\n  </tbody>\n</table>\n</div>"
     },
     "execution_count": 47,
     "metadata": {},
     "output_type": "execute_result"
    }
   ],
   "source": [
    "# --- WRITE YOUR CODE FOR TASK 3 ---\n",
    "predictions = rand_forest_model.fit(X_train,y_train).predict(X_test)\n",
    "\n",
    "rounded_predictions = np.round(predictions,2)\n",
    "\n",
    "compare = pd.DataFrame(columns=[\"Actual Charges\",\"Predicted Charges\"])\n",
    "compare[\"Actual Charges\"] = np.round(y_test.values,2)[0:10]\n",
    "compare[\"Predicted Charges\"] = rounded_predictions[0:10]\n",
    "compare\n",
    "#--- Inspect data ---"
   ],
   "metadata": {
    "collapsed": false,
    "ExecuteTime": {
     "end_time": "2023-11-08T19:17:51.761149Z",
     "start_time": "2023-11-08T19:17:51.687880Z"
    }
   },
   "id": "9db47bafd0c04ab5"
  },
  {
   "cell_type": "code",
   "execution_count": null,
   "outputs": [],
   "source": [],
   "metadata": {
    "collapsed": false
   },
   "id": "4698ccdd7a03e034"
  }
 ],
 "metadata": {
  "kernelspec": {
   "display_name": "Python 3",
   "language": "python",
   "name": "python3"
  },
  "language_info": {
   "codemirror_mode": {
    "name": "ipython",
    "version": 2
   },
   "file_extension": ".py",
   "mimetype": "text/x-python",
   "name": "python",
   "nbconvert_exporter": "python",
   "pygments_lexer": "ipython2",
   "version": "2.7.6"
  }
 },
 "nbformat": 4,
 "nbformat_minor": 5
}
