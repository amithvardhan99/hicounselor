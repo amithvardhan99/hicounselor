{
 "cells": [
  {
   "cell_type": "code",
   "execution_count": 18,
   "outputs": [],
   "source": [
    "import pandas as pd\n",
    "import warnings\n",
    "warnings.filterwarnings(\"ignore\")\n",
    "\n",
    "#Task1\n",
    "#Loading the data\n",
    "def read_data_from_csv():\n",
    "    #Read the dataset\n",
    "    df = pd.read_csv(\"Datasets/agedistribution_2016_estimates.csv\")\n",
    "    return df\n",
    "\n",
    "\n",
    "#Task 2: Renaming the Columns\n",
    "def rename_columns():\n",
    "    data=read_data_from_csv()\n",
    "    data.columns = ['Age_group','Male','Female','Total']\n",
    "    \"\"\"(Rename the column names as 'Age': 'Age_group',\n",
    "        'M': 'Male',\n",
    "        'F': 'Female',\n",
    "        'Tot': 'Total')\"\"\"\n",
    "\n",
    "\n",
    "    # export cleaned Dataset to newcsv file named \"agedistribution_2016_estimates_cleaned.csv\"\n",
    "    data.to_csv(\"Datasets/agedistribution_2016_estimates_cleaned.csv\")\n",
    "    return data\n",
    "\n",
    "#Do not Delete the Following function\n",
    "def task_runner():\n",
    "    rename_columns()\n",
    "\n",
    "task_runner()"
   ],
   "metadata": {
    "collapsed": false,
    "ExecuteTime": {
     "end_time": "2023-06-28T22:24:31.544405Z",
     "start_time": "2023-06-28T22:24:31.527654600Z"
    }
   }
  },
  {
   "cell_type": "code",
   "execution_count": 21,
   "outputs": [],
   "source": [
    "import pandas as pd\n",
    "import warnings\n",
    "warnings.filterwarnings(\"ignore\")\n",
    "\n",
    "#Task1\n",
    "#Loading the data\n",
    "def read_data_from_csv():\n",
    "    #df =read the 'death_and_recovery' file\n",
    "    df = pd.read_csv(\"Datasets/death_and_recovery.csv\")\n",
    "    return df\n",
    "\n",
    "\n",
    "def data_cleaning():\n",
    "    # DO NOT REMOVE FOLLOWING LINE\n",
    "    data = read_data_from_csv()\n",
    "\n",
    "    # Remove Unwanted columns(comorbidity,State_code)\n",
    "\n",
    "    # only these columns are allowed in the dataset\n",
    "    #(Age,Gender,Patient_status,City,State)\n",
    "    df_1 = data.drop([\"comorbidity\",\"State_code\"],axis=1,inplace=False)\n",
    "    df_1.to_csv(\"Datasets/death_and_recovery_cleaned.csv\")\n",
    "    # export cleaned Dataset to newcsv file named \"death_and_recovery_cleaned.csv\"\n",
    "    return df_1\n",
    "\n",
    "#Do not Delete the Following function\n",
    "def task_runner():\n",
    "    data_cleaning()\n",
    "\n",
    "task_runner()"
   ],
   "metadata": {
    "collapsed": false,
    "ExecuteTime": {
     "end_time": "2023-06-28T22:26:26.172770600Z",
     "start_time": "2023-06-28T22:26:26.160856700Z"
    }
   }
  },
  {
   "cell_type": "code",
   "execution_count": 22,
   "outputs": [],
   "source": [
    "import pandas as pd\n",
    "import warnings\n",
    "warnings.filterwarnings(\"ignore\")\n",
    "\n",
    "#Task1\n",
    "#Loading the data\n",
    "def read_data_from_csv():\n",
    "    #read the dataset\n",
    "    df= pd.read_csv(\"Datasets/hospitalbeds.csv\")\n",
    "    return df\n",
    "\n",
    "\n",
    "#Task 2: Renaming the Columns\n",
    "def rename_columns():\n",
    "    data=read_data_from_csv()\n",
    "    \"\"\"Rename the columns in the dataset. (\"'serial': 'sno','state': 'State_UT','Hosp_Aval': 'Hospitals_Available',\n",
    "    'Beds_Aval': 'Beds_Available','Pop_beds':'Population_beds'\")\"\"\"\n",
    "\n",
    "    data.columns = [\"sno\",\"State_UT\",\"Hospitals_Available\",'Beds_Available','Population_beds']\n",
    "\n",
    "    # export cleaned Dataset to newcsv file named \"hospitalbeds_cleaned.csv\"\n",
    "    data.to_csv(\"Datasets/hospitalbeds_cleaned.csv\")\n",
    "    return data\n",
    "\n",
    "#Do not Delete the Following function\n",
    "def task_runner():\n",
    "    rename_columns()\n",
    "\n",
    "task_runner()"
   ],
   "metadata": {
    "collapsed": false,
    "ExecuteTime": {
     "end_time": "2023-06-28T22:26:39.837295500Z",
     "start_time": "2023-06-28T22:26:39.824771700Z"
    }
   }
  },
  {
   "cell_type": "code",
   "execution_count": 23,
   "outputs": [],
   "source": [
    "import pandas as pd\n",
    "import warnings\n",
    "warnings.filterwarnings(\"ignore\")\n",
    "\n",
    "#Task1\n",
    "#Loading the data\n",
    "def read_data_from_csv():\n",
    "    #df =read the 'statewisedata.csv' file\n",
    "    df = pd.read_csv(\"Datasets/statewisedata.csv\")\n",
    "    return df\n",
    "\n",
    "\n",
    "def data_cleaning():\n",
    "    # DO NOT REMOVE FOLLOWING LINE\n",
    "    data = read_data_from_csv()\n",
    "\n",
    "    # Remove Unwanted columns(Delta_Confirmed,Delta_Recovered,Delta_Deaths)\n",
    "\n",
    "    # only these columns are allowed in the dataset\n",
    "    #(State_UT,Confirmed,Recovered,Deaths,Active,Last_updad_time,State_code)\n",
    "    hh = data.drop([\"Delta_Confirmed\",\"Delta_Recovered\",\"Delta_Deaths\"],axis=1,inplace=False)\n",
    "\n",
    "    hh.to_csv(\"Datasets/statewisedata_cleaned.csv\")\n",
    "    # export cleaned Dataset to newcsv file named \"statewisedata_cleaned.csv\"\n",
    "    return hh\n",
    "\n",
    "#Do not Delete the Following function\n",
    "def task_runner():\n",
    "    data_cleaning()\n",
    "\n",
    "task_runner()"
   ],
   "metadata": {
    "collapsed": false,
    "ExecuteTime": {
     "end_time": "2023-06-28T22:27:30.241825900Z",
     "start_time": "2023-06-28T22:27:30.230383100Z"
    }
   }
  },
  {
   "cell_type": "code",
   "execution_count": null,
   "outputs": [],
   "source": [],
   "metadata": {
    "collapsed": false
   }
  }
 ],
 "metadata": {
  "kernelspec": {
   "display_name": "Python 3",
   "language": "python",
   "name": "python3"
  },
  "language_info": {
   "codemirror_mode": {
    "name": "ipython",
    "version": 2
   },
   "file_extension": ".py",
   "mimetype": "text/x-python",
   "name": "python",
   "nbconvert_exporter": "python",
   "pygments_lexer": "ipython2",
   "version": "2.7.6"
  }
 },
 "nbformat": 4,
 "nbformat_minor": 0
}
