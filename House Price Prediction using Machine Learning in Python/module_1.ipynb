{
 "cells": [
  {
   "cell_type": "code",
   "execution_count": 2,
   "metadata": {
    "collapsed": true,
    "ExecuteTime": {
     "end_time": "2023-06-21T19:52:21.600779Z",
     "start_time": "2023-06-21T19:52:21.569061Z"
    }
   },
   "outputs": [],
   "source": [
    "import numpy as np\n",
    "import pandas as pd\n",
    "import matplotlib.pyplot as plt\n",
    "%matplotlib inline\n",
    "import seaborn as sns\n",
    "sns.set()"
   ]
  },
  {
   "cell_type": "code",
   "execution_count": 3,
   "outputs": [],
   "source": [
    "dataset = pd.read_csv(\"HousePricePrediction.csv\")"
   ],
   "metadata": {
    "collapsed": false,
    "ExecuteTime": {
     "end_time": "2023-06-21T19:52:21.994740Z",
     "start_time": "2023-06-21T19:52:21.987637Z"
    }
   }
  },
  {
   "cell_type": "code",
   "execution_count": 4,
   "outputs": [
    {
     "data": {
      "text/plain": "        Id  MSSubClass MSZoning  LotArea LotConfig BldgType  OverallCond   \n0        0          60       RL     8450    Inside     1Fam            5  \\\n1        1          20       RL     9600       FR2     1Fam            8   \n2        2          60       RL    11250    Inside     1Fam            5   \n3        3          70       RL     9550    Corner     1Fam            5   \n4        4          60       RL    14260       FR2     1Fam            5   \n...    ...         ...      ...      ...       ...      ...          ...   \n2914  2914         160       RM     1936    Inside    Twnhs            7   \n2915  2915         160       RM     1894    Inside   TwnhsE            5   \n2916  2916          20       RL    20000    Inside     1Fam            7   \n2917  2917          85       RL    10441    Inside     1Fam            5   \n2918  2918          60       RL     9627    Inside     1Fam            5   \n\n      YearBuilt  YearRemodAdd Exterior1st  BsmtFinSF2  TotalBsmtSF  SalePrice  \n0          2003          2003     VinylSd         0.0        856.0   208500.0  \n1          1976          1976     MetalSd         0.0       1262.0   181500.0  \n2          2001          2002     VinylSd         0.0        920.0   223500.0  \n3          1915          1970     Wd Sdng         0.0        756.0   140000.0  \n4          2000          2000     VinylSd         0.0       1145.0   250000.0  \n...         ...           ...         ...         ...          ...        ...  \n2914       1970          1970     CemntBd         0.0        546.0        NaN  \n2915       1970          1970     CemntBd         0.0        546.0        NaN  \n2916       1960          1996     VinylSd         0.0       1224.0        NaN  \n2917       1992          1992     HdBoard         0.0        912.0        NaN  \n2918       1993          1994     HdBoard         0.0        996.0        NaN  \n\n[2919 rows x 13 columns]",
      "text/html": "<div>\n<style scoped>\n    .dataframe tbody tr th:only-of-type {\n        vertical-align: middle;\n    }\n\n    .dataframe tbody tr th {\n        vertical-align: top;\n    }\n\n    .dataframe thead th {\n        text-align: right;\n    }\n</style>\n<table border=\"1\" class=\"dataframe\">\n  <thead>\n    <tr style=\"text-align: right;\">\n      <th></th>\n      <th>Id</th>\n      <th>MSSubClass</th>\n      <th>MSZoning</th>\n      <th>LotArea</th>\n      <th>LotConfig</th>\n      <th>BldgType</th>\n      <th>OverallCond</th>\n      <th>YearBuilt</th>\n      <th>YearRemodAdd</th>\n      <th>Exterior1st</th>\n      <th>BsmtFinSF2</th>\n      <th>TotalBsmtSF</th>\n      <th>SalePrice</th>\n    </tr>\n  </thead>\n  <tbody>\n    <tr>\n      <th>0</th>\n      <td>0</td>\n      <td>60</td>\n      <td>RL</td>\n      <td>8450</td>\n      <td>Inside</td>\n      <td>1Fam</td>\n      <td>5</td>\n      <td>2003</td>\n      <td>2003</td>\n      <td>VinylSd</td>\n      <td>0.0</td>\n      <td>856.0</td>\n      <td>208500.0</td>\n    </tr>\n    <tr>\n      <th>1</th>\n      <td>1</td>\n      <td>20</td>\n      <td>RL</td>\n      <td>9600</td>\n      <td>FR2</td>\n      <td>1Fam</td>\n      <td>8</td>\n      <td>1976</td>\n      <td>1976</td>\n      <td>MetalSd</td>\n      <td>0.0</td>\n      <td>1262.0</td>\n      <td>181500.0</td>\n    </tr>\n    <tr>\n      <th>2</th>\n      <td>2</td>\n      <td>60</td>\n      <td>RL</td>\n      <td>11250</td>\n      <td>Inside</td>\n      <td>1Fam</td>\n      <td>5</td>\n      <td>2001</td>\n      <td>2002</td>\n      <td>VinylSd</td>\n      <td>0.0</td>\n      <td>920.0</td>\n      <td>223500.0</td>\n    </tr>\n    <tr>\n      <th>3</th>\n      <td>3</td>\n      <td>70</td>\n      <td>RL</td>\n      <td>9550</td>\n      <td>Corner</td>\n      <td>1Fam</td>\n      <td>5</td>\n      <td>1915</td>\n      <td>1970</td>\n      <td>Wd Sdng</td>\n      <td>0.0</td>\n      <td>756.0</td>\n      <td>140000.0</td>\n    </tr>\n    <tr>\n      <th>4</th>\n      <td>4</td>\n      <td>60</td>\n      <td>RL</td>\n      <td>14260</td>\n      <td>FR2</td>\n      <td>1Fam</td>\n      <td>5</td>\n      <td>2000</td>\n      <td>2000</td>\n      <td>VinylSd</td>\n      <td>0.0</td>\n      <td>1145.0</td>\n      <td>250000.0</td>\n    </tr>\n    <tr>\n      <th>...</th>\n      <td>...</td>\n      <td>...</td>\n      <td>...</td>\n      <td>...</td>\n      <td>...</td>\n      <td>...</td>\n      <td>...</td>\n      <td>...</td>\n      <td>...</td>\n      <td>...</td>\n      <td>...</td>\n      <td>...</td>\n      <td>...</td>\n    </tr>\n    <tr>\n      <th>2914</th>\n      <td>2914</td>\n      <td>160</td>\n      <td>RM</td>\n      <td>1936</td>\n      <td>Inside</td>\n      <td>Twnhs</td>\n      <td>7</td>\n      <td>1970</td>\n      <td>1970</td>\n      <td>CemntBd</td>\n      <td>0.0</td>\n      <td>546.0</td>\n      <td>NaN</td>\n    </tr>\n    <tr>\n      <th>2915</th>\n      <td>2915</td>\n      <td>160</td>\n      <td>RM</td>\n      <td>1894</td>\n      <td>Inside</td>\n      <td>TwnhsE</td>\n      <td>5</td>\n      <td>1970</td>\n      <td>1970</td>\n      <td>CemntBd</td>\n      <td>0.0</td>\n      <td>546.0</td>\n      <td>NaN</td>\n    </tr>\n    <tr>\n      <th>2916</th>\n      <td>2916</td>\n      <td>20</td>\n      <td>RL</td>\n      <td>20000</td>\n      <td>Inside</td>\n      <td>1Fam</td>\n      <td>7</td>\n      <td>1960</td>\n      <td>1996</td>\n      <td>VinylSd</td>\n      <td>0.0</td>\n      <td>1224.0</td>\n      <td>NaN</td>\n    </tr>\n    <tr>\n      <th>2917</th>\n      <td>2917</td>\n      <td>85</td>\n      <td>RL</td>\n      <td>10441</td>\n      <td>Inside</td>\n      <td>1Fam</td>\n      <td>5</td>\n      <td>1992</td>\n      <td>1992</td>\n      <td>HdBoard</td>\n      <td>0.0</td>\n      <td>912.0</td>\n      <td>NaN</td>\n    </tr>\n    <tr>\n      <th>2918</th>\n      <td>2918</td>\n      <td>60</td>\n      <td>RL</td>\n      <td>9627</td>\n      <td>Inside</td>\n      <td>1Fam</td>\n      <td>5</td>\n      <td>1993</td>\n      <td>1994</td>\n      <td>HdBoard</td>\n      <td>0.0</td>\n      <td>996.0</td>\n      <td>NaN</td>\n    </tr>\n  </tbody>\n</table>\n<p>2919 rows × 13 columns</p>\n</div>"
     },
     "execution_count": 4,
     "metadata": {},
     "output_type": "execute_result"
    }
   ],
   "source": [
    "dataset"
   ],
   "metadata": {
    "collapsed": false,
    "ExecuteTime": {
     "end_time": "2023-06-21T19:52:22.337267Z",
     "start_time": "2023-06-21T19:52:22.327990Z"
    }
   }
  },
  {
   "cell_type": "code",
   "execution_count": 5,
   "outputs": [],
   "source": [
    "shape = dataset.shape"
   ],
   "metadata": {
    "collapsed": false,
    "ExecuteTime": {
     "end_time": "2023-06-21T19:52:22.758036Z",
     "start_time": "2023-06-21T19:52:22.751115Z"
    }
   }
  },
  {
   "cell_type": "code",
   "execution_count": 6,
   "outputs": [
    {
     "data": {
      "text/plain": "(2919, 13)"
     },
     "execution_count": 6,
     "metadata": {},
     "output_type": "execute_result"
    }
   ],
   "source": [
    "shape"
   ],
   "metadata": {
    "collapsed": false,
    "ExecuteTime": {
     "end_time": "2023-06-21T19:52:23.191557Z",
     "start_time": "2023-06-21T19:52:23.185613Z"
    }
   }
  },
  {
   "cell_type": "code",
   "execution_count": 7,
   "outputs": [
    {
     "data": {
      "text/plain": "Id                int64\nMSSubClass        int64\nMSZoning         object\nLotArea           int64\nLotConfig        object\nBldgType         object\nOverallCond       int64\nYearBuilt         int64\nYearRemodAdd      int64\nExterior1st      object\nBsmtFinSF2      float64\nTotalBsmtSF     float64\nSalePrice       float64\ndtype: object"
     },
     "execution_count": 7,
     "metadata": {},
     "output_type": "execute_result"
    }
   ],
   "source": [
    "dt = dataset.dtypes\n",
    "dt"
   ],
   "metadata": {
    "collapsed": false,
    "ExecuteTime": {
     "end_time": "2023-06-21T19:52:23.498226Z",
     "start_time": "2023-06-21T19:52:23.491976Z"
    }
   }
  },
  {
   "cell_type": "code",
   "execution_count": 8,
   "outputs": [],
   "source": [
    "num = dt[dt!=\"object\"]\n",
    "cat = dt[dt==\"object\"]"
   ],
   "metadata": {
    "collapsed": false,
    "ExecuteTime": {
     "end_time": "2023-06-21T19:52:24.131135Z",
     "start_time": "2023-06-21T19:52:24.130074Z"
    }
   }
  },
  {
   "cell_type": "code",
   "execution_count": 9,
   "outputs": [
    {
     "data": {
      "text/plain": "Id                int64\nMSSubClass        int64\nLotArea           int64\nOverallCond       int64\nYearBuilt         int64\nYearRemodAdd      int64\nBsmtFinSF2      float64\nTotalBsmtSF     float64\nSalePrice       float64\ndtype: object"
     },
     "execution_count": 9,
     "metadata": {},
     "output_type": "execute_result"
    }
   ],
   "source": [
    "num"
   ],
   "metadata": {
    "collapsed": false,
    "ExecuteTime": {
     "end_time": "2023-06-21T19:52:24.535610Z",
     "start_time": "2023-06-21T19:52:24.528348Z"
    }
   }
  },
  {
   "cell_type": "code",
   "execution_count": 10,
   "outputs": [
    {
     "data": {
      "text/plain": "MSZoning       object\nLotConfig      object\nBldgType       object\nExterior1st    object\ndtype: object"
     },
     "execution_count": 10,
     "metadata": {},
     "output_type": "execute_result"
    }
   ],
   "source": [
    "cat"
   ],
   "metadata": {
    "collapsed": false,
    "ExecuteTime": {
     "end_time": "2023-06-21T19:52:24.948498Z",
     "start_time": "2023-06-21T19:52:24.942940Z"
    }
   }
  },
  {
   "cell_type": "code",
   "execution_count": 11,
   "outputs": [],
   "source": [
    "num_col = num.index.values\n",
    "cat_col = cat.index.values"
   ],
   "metadata": {
    "collapsed": false,
    "ExecuteTime": {
     "end_time": "2023-06-21T19:52:25.422641Z",
     "start_time": "2023-06-21T19:52:25.416834Z"
    }
   }
  },
  {
   "cell_type": "code",
   "execution_count": 12,
   "outputs": [
    {
     "data": {
      "text/plain": "array(['Id', 'MSSubClass', 'LotArea', 'OverallCond', 'YearBuilt',\n       'YearRemodAdd', 'BsmtFinSF2', 'TotalBsmtSF', 'SalePrice'],\n      dtype=object)"
     },
     "execution_count": 12,
     "metadata": {},
     "output_type": "execute_result"
    }
   ],
   "source": [
    "num_col"
   ],
   "metadata": {
    "collapsed": false,
    "ExecuteTime": {
     "end_time": "2023-06-21T19:52:26.614490Z",
     "start_time": "2023-06-21T19:52:26.611187Z"
    }
   }
  },
  {
   "cell_type": "code",
   "execution_count": 12,
   "outputs": [],
   "source": [
    "dataset_num_1 = dataset[num_col]\n",
    "ind = dataset_num_1.index.values\n",
    "dataset_num = dataset_num_1.drop(\"Id\",axis=1,inplace=False)\n",
    "dataset_num = dataset_num.set_index(ind)\n",
    "dataset_cat = dataset[cat_col]\n",
    "dataset_cat= dataset_cat.set_index(ind)"
   ],
   "metadata": {
    "collapsed": false,
    "ExecuteTime": {
     "end_time": "2023-06-21T18:36:04.614953Z",
     "start_time": "2023-06-21T18:36:04.607477Z"
    }
   }
  },
  {
   "cell_type": "code",
   "execution_count": 13,
   "outputs": [
    {
     "data": {
      "text/plain": "      MSSubClass  LotArea  OverallCond  YearBuilt  YearRemodAdd  BsmtFinSF2   \n0             60     8450            5       2003          2003         0.0  \\\n1             20     9600            8       1976          1976         0.0   \n2             60    11250            5       2001          2002         0.0   \n3             70     9550            5       1915          1970         0.0   \n4             60    14260            5       2000          2000         0.0   \n...          ...      ...          ...        ...           ...         ...   \n2914         160     1936            7       1970          1970         0.0   \n2915         160     1894            5       1970          1970         0.0   \n2916          20    20000            7       1960          1996         0.0   \n2917          85    10441            5       1992          1992         0.0   \n2918          60     9627            5       1993          1994         0.0   \n\n      TotalBsmtSF  SalePrice  \n0           856.0   208500.0  \n1          1262.0   181500.0  \n2           920.0   223500.0  \n3           756.0   140000.0  \n4          1145.0   250000.0  \n...           ...        ...  \n2914        546.0        NaN  \n2915        546.0        NaN  \n2916       1224.0        NaN  \n2917        912.0        NaN  \n2918        996.0        NaN  \n\n[2919 rows x 8 columns]",
      "text/html": "<div>\n<style scoped>\n    .dataframe tbody tr th:only-of-type {\n        vertical-align: middle;\n    }\n\n    .dataframe tbody tr th {\n        vertical-align: top;\n    }\n\n    .dataframe thead th {\n        text-align: right;\n    }\n</style>\n<table border=\"1\" class=\"dataframe\">\n  <thead>\n    <tr style=\"text-align: right;\">\n      <th></th>\n      <th>MSSubClass</th>\n      <th>LotArea</th>\n      <th>OverallCond</th>\n      <th>YearBuilt</th>\n      <th>YearRemodAdd</th>\n      <th>BsmtFinSF2</th>\n      <th>TotalBsmtSF</th>\n      <th>SalePrice</th>\n    </tr>\n  </thead>\n  <tbody>\n    <tr>\n      <th>0</th>\n      <td>60</td>\n      <td>8450</td>\n      <td>5</td>\n      <td>2003</td>\n      <td>2003</td>\n      <td>0.0</td>\n      <td>856.0</td>\n      <td>208500.0</td>\n    </tr>\n    <tr>\n      <th>1</th>\n      <td>20</td>\n      <td>9600</td>\n      <td>8</td>\n      <td>1976</td>\n      <td>1976</td>\n      <td>0.0</td>\n      <td>1262.0</td>\n      <td>181500.0</td>\n    </tr>\n    <tr>\n      <th>2</th>\n      <td>60</td>\n      <td>11250</td>\n      <td>5</td>\n      <td>2001</td>\n      <td>2002</td>\n      <td>0.0</td>\n      <td>920.0</td>\n      <td>223500.0</td>\n    </tr>\n    <tr>\n      <th>3</th>\n      <td>70</td>\n      <td>9550</td>\n      <td>5</td>\n      <td>1915</td>\n      <td>1970</td>\n      <td>0.0</td>\n      <td>756.0</td>\n      <td>140000.0</td>\n    </tr>\n    <tr>\n      <th>4</th>\n      <td>60</td>\n      <td>14260</td>\n      <td>5</td>\n      <td>2000</td>\n      <td>2000</td>\n      <td>0.0</td>\n      <td>1145.0</td>\n      <td>250000.0</td>\n    </tr>\n    <tr>\n      <th>...</th>\n      <td>...</td>\n      <td>...</td>\n      <td>...</td>\n      <td>...</td>\n      <td>...</td>\n      <td>...</td>\n      <td>...</td>\n      <td>...</td>\n    </tr>\n    <tr>\n      <th>2914</th>\n      <td>160</td>\n      <td>1936</td>\n      <td>7</td>\n      <td>1970</td>\n      <td>1970</td>\n      <td>0.0</td>\n      <td>546.0</td>\n      <td>NaN</td>\n    </tr>\n    <tr>\n      <th>2915</th>\n      <td>160</td>\n      <td>1894</td>\n      <td>5</td>\n      <td>1970</td>\n      <td>1970</td>\n      <td>0.0</td>\n      <td>546.0</td>\n      <td>NaN</td>\n    </tr>\n    <tr>\n      <th>2916</th>\n      <td>20</td>\n      <td>20000</td>\n      <td>7</td>\n      <td>1960</td>\n      <td>1996</td>\n      <td>0.0</td>\n      <td>1224.0</td>\n      <td>NaN</td>\n    </tr>\n    <tr>\n      <th>2917</th>\n      <td>85</td>\n      <td>10441</td>\n      <td>5</td>\n      <td>1992</td>\n      <td>1992</td>\n      <td>0.0</td>\n      <td>912.0</td>\n      <td>NaN</td>\n    </tr>\n    <tr>\n      <th>2918</th>\n      <td>60</td>\n      <td>9627</td>\n      <td>5</td>\n      <td>1993</td>\n      <td>1994</td>\n      <td>0.0</td>\n      <td>996.0</td>\n      <td>NaN</td>\n    </tr>\n  </tbody>\n</table>\n<p>2919 rows × 8 columns</p>\n</div>"
     },
     "execution_count": 13,
     "metadata": {},
     "output_type": "execute_result"
    }
   ],
   "source": [
    "dataset_num"
   ],
   "metadata": {
    "collapsed": false,
    "ExecuteTime": {
     "end_time": "2023-06-21T18:36:05.141365Z",
     "start_time": "2023-06-21T18:36:05.109917Z"
    }
   }
  },
  {
   "cell_type": "code",
   "execution_count": 14,
   "outputs": [
    {
     "data": {
      "text/plain": "     MSZoning LotConfig BldgType Exterior1st\n0          RL    Inside     1Fam     VinylSd\n1          RL       FR2     1Fam     MetalSd\n2          RL    Inside     1Fam     VinylSd\n3          RL    Corner     1Fam     Wd Sdng\n4          RL       FR2     1Fam     VinylSd\n...       ...       ...      ...         ...\n2914       RM    Inside    Twnhs     CemntBd\n2915       RM    Inside   TwnhsE     CemntBd\n2916       RL    Inside     1Fam     VinylSd\n2917       RL    Inside     1Fam     HdBoard\n2918       RL    Inside     1Fam     HdBoard\n\n[2919 rows x 4 columns]",
      "text/html": "<div>\n<style scoped>\n    .dataframe tbody tr th:only-of-type {\n        vertical-align: middle;\n    }\n\n    .dataframe tbody tr th {\n        vertical-align: top;\n    }\n\n    .dataframe thead th {\n        text-align: right;\n    }\n</style>\n<table border=\"1\" class=\"dataframe\">\n  <thead>\n    <tr style=\"text-align: right;\">\n      <th></th>\n      <th>MSZoning</th>\n      <th>LotConfig</th>\n      <th>BldgType</th>\n      <th>Exterior1st</th>\n    </tr>\n  </thead>\n  <tbody>\n    <tr>\n      <th>0</th>\n      <td>RL</td>\n      <td>Inside</td>\n      <td>1Fam</td>\n      <td>VinylSd</td>\n    </tr>\n    <tr>\n      <th>1</th>\n      <td>RL</td>\n      <td>FR2</td>\n      <td>1Fam</td>\n      <td>MetalSd</td>\n    </tr>\n    <tr>\n      <th>2</th>\n      <td>RL</td>\n      <td>Inside</td>\n      <td>1Fam</td>\n      <td>VinylSd</td>\n    </tr>\n    <tr>\n      <th>3</th>\n      <td>RL</td>\n      <td>Corner</td>\n      <td>1Fam</td>\n      <td>Wd Sdng</td>\n    </tr>\n    <tr>\n      <th>4</th>\n      <td>RL</td>\n      <td>FR2</td>\n      <td>1Fam</td>\n      <td>VinylSd</td>\n    </tr>\n    <tr>\n      <th>...</th>\n      <td>...</td>\n      <td>...</td>\n      <td>...</td>\n      <td>...</td>\n    </tr>\n    <tr>\n      <th>2914</th>\n      <td>RM</td>\n      <td>Inside</td>\n      <td>Twnhs</td>\n      <td>CemntBd</td>\n    </tr>\n    <tr>\n      <th>2915</th>\n      <td>RM</td>\n      <td>Inside</td>\n      <td>TwnhsE</td>\n      <td>CemntBd</td>\n    </tr>\n    <tr>\n      <th>2916</th>\n      <td>RL</td>\n      <td>Inside</td>\n      <td>1Fam</td>\n      <td>VinylSd</td>\n    </tr>\n    <tr>\n      <th>2917</th>\n      <td>RL</td>\n      <td>Inside</td>\n      <td>1Fam</td>\n      <td>HdBoard</td>\n    </tr>\n    <tr>\n      <th>2918</th>\n      <td>RL</td>\n      <td>Inside</td>\n      <td>1Fam</td>\n      <td>HdBoard</td>\n    </tr>\n  </tbody>\n</table>\n<p>2919 rows × 4 columns</p>\n</div>"
     },
     "execution_count": 14,
     "metadata": {},
     "output_type": "execute_result"
    }
   ],
   "source": [
    "dataset_cat"
   ],
   "metadata": {
    "collapsed": false,
    "ExecuteTime": {
     "end_time": "2023-06-21T18:36:05.709732Z",
     "start_time": "2023-06-21T18:36:05.705440Z"
    }
   }
  },
  {
   "cell_type": "code",
   "execution_count": 15,
   "outputs": [
    {
     "data": {
      "text/plain": "Id                int64\nMSSubClass        int64\nMSZoning         object\nLotArea           int64\nLotConfig        object\nBldgType         object\nOverallCond       int64\nYearBuilt         int64\nYearRemodAdd      int64\nExterior1st      object\nBsmtFinSF2      float64\nTotalBsmtSF     float64\nSalePrice       float64\ndtype: object"
     },
     "execution_count": 15,
     "metadata": {},
     "output_type": "execute_result"
    }
   ],
   "source": [
    "dt = dataset.dtypes\n",
    "dt"
   ],
   "metadata": {
    "collapsed": false,
    "ExecuteTime": {
     "end_time": "2023-06-21T18:36:06.431118Z",
     "start_time": "2023-06-21T18:36:06.427572Z"
    }
   }
  },
  {
   "cell_type": "code",
   "execution_count": 16,
   "outputs": [],
   "source": [
    "num = dt[dt!=\"object\"]\n",
    "cat = dt[dt==\"object\"]\n",
    "numerical_columns = num.index.values\n",
    "categorical_columns = cat.index.values"
   ],
   "metadata": {
    "collapsed": false,
    "ExecuteTime": {
     "end_time": "2023-06-21T18:36:07.348620Z",
     "start_time": "2023-06-21T18:36:07.338402Z"
    }
   }
  },
  {
   "cell_type": "code",
   "execution_count": 17,
   "outputs": [
    {
     "data": {
      "text/plain": "array(['MSZoning', 'LotConfig', 'BldgType', 'Exterior1st'], dtype=object)"
     },
     "execution_count": 17,
     "metadata": {},
     "output_type": "execute_result"
    }
   ],
   "source": [
    "categorical_columns"
   ],
   "metadata": {
    "collapsed": false,
    "ExecuteTime": {
     "end_time": "2023-06-21T18:36:07.977887Z",
     "start_time": "2023-06-21T18:36:07.973440Z"
    }
   }
  },
  {
   "cell_type": "code",
   "execution_count": 18,
   "outputs": [
    {
     "data": {
      "text/plain": "array(['Id', 'MSSubClass', 'LotArea', 'OverallCond', 'YearBuilt',\n       'YearRemodAdd', 'BsmtFinSF2', 'TotalBsmtSF', 'SalePrice'],\n      dtype=object)"
     },
     "execution_count": 18,
     "metadata": {},
     "output_type": "execute_result"
    }
   ],
   "source": [
    "numerical_columns"
   ],
   "metadata": {
    "collapsed": false,
    "ExecuteTime": {
     "end_time": "2023-06-21T18:36:08.922638Z",
     "start_time": "2023-06-21T18:36:08.914437Z"
    }
   }
  },
  {
   "cell_type": "code",
   "execution_count": 19,
   "outputs": [
    {
     "data": {
      "text/plain": "        Id  MSSubClass MSZoning  LotArea LotConfig BldgType  OverallCond   \n0        0          60       RL     8450    Inside     1Fam            5  \\\n1        1          20       RL     9600       FR2     1Fam            8   \n2        2          60       RL    11250    Inside     1Fam            5   \n3        3          70       RL     9550    Corner     1Fam            5   \n4        4          60       RL    14260       FR2     1Fam            5   \n...    ...         ...      ...      ...       ...      ...          ...   \n2914  2914         160       RM     1936    Inside    Twnhs            7   \n2915  2915         160       RM     1894    Inside   TwnhsE            5   \n2916  2916          20       RL    20000    Inside     1Fam            7   \n2917  2917          85       RL    10441    Inside     1Fam            5   \n2918  2918          60       RL     9627    Inside     1Fam            5   \n\n      YearBuilt  YearRemodAdd Exterior1st  BsmtFinSF2  TotalBsmtSF  SalePrice  \n0          2003          2003     VinylSd         0.0        856.0   208500.0  \n1          1976          1976     MetalSd         0.0       1262.0   181500.0  \n2          2001          2002     VinylSd         0.0        920.0   223500.0  \n3          1915          1970     Wd Sdng         0.0        756.0   140000.0  \n4          2000          2000     VinylSd         0.0       1145.0   250000.0  \n...         ...           ...         ...         ...          ...        ...  \n2914       1970          1970     CemntBd         0.0        546.0        NaN  \n2915       1970          1970     CemntBd         0.0        546.0        NaN  \n2916       1960          1996     VinylSd         0.0       1224.0        NaN  \n2917       1992          1992     HdBoard         0.0        912.0        NaN  \n2918       1993          1994     HdBoard         0.0        996.0        NaN  \n\n[2919 rows x 13 columns]",
      "text/html": "<div>\n<style scoped>\n    .dataframe tbody tr th:only-of-type {\n        vertical-align: middle;\n    }\n\n    .dataframe tbody tr th {\n        vertical-align: top;\n    }\n\n    .dataframe thead th {\n        text-align: right;\n    }\n</style>\n<table border=\"1\" class=\"dataframe\">\n  <thead>\n    <tr style=\"text-align: right;\">\n      <th></th>\n      <th>Id</th>\n      <th>MSSubClass</th>\n      <th>MSZoning</th>\n      <th>LotArea</th>\n      <th>LotConfig</th>\n      <th>BldgType</th>\n      <th>OverallCond</th>\n      <th>YearBuilt</th>\n      <th>YearRemodAdd</th>\n      <th>Exterior1st</th>\n      <th>BsmtFinSF2</th>\n      <th>TotalBsmtSF</th>\n      <th>SalePrice</th>\n    </tr>\n  </thead>\n  <tbody>\n    <tr>\n      <th>0</th>\n      <td>0</td>\n      <td>60</td>\n      <td>RL</td>\n      <td>8450</td>\n      <td>Inside</td>\n      <td>1Fam</td>\n      <td>5</td>\n      <td>2003</td>\n      <td>2003</td>\n      <td>VinylSd</td>\n      <td>0.0</td>\n      <td>856.0</td>\n      <td>208500.0</td>\n    </tr>\n    <tr>\n      <th>1</th>\n      <td>1</td>\n      <td>20</td>\n      <td>RL</td>\n      <td>9600</td>\n      <td>FR2</td>\n      <td>1Fam</td>\n      <td>8</td>\n      <td>1976</td>\n      <td>1976</td>\n      <td>MetalSd</td>\n      <td>0.0</td>\n      <td>1262.0</td>\n      <td>181500.0</td>\n    </tr>\n    <tr>\n      <th>2</th>\n      <td>2</td>\n      <td>60</td>\n      <td>RL</td>\n      <td>11250</td>\n      <td>Inside</td>\n      <td>1Fam</td>\n      <td>5</td>\n      <td>2001</td>\n      <td>2002</td>\n      <td>VinylSd</td>\n      <td>0.0</td>\n      <td>920.0</td>\n      <td>223500.0</td>\n    </tr>\n    <tr>\n      <th>3</th>\n      <td>3</td>\n      <td>70</td>\n      <td>RL</td>\n      <td>9550</td>\n      <td>Corner</td>\n      <td>1Fam</td>\n      <td>5</td>\n      <td>1915</td>\n      <td>1970</td>\n      <td>Wd Sdng</td>\n      <td>0.0</td>\n      <td>756.0</td>\n      <td>140000.0</td>\n    </tr>\n    <tr>\n      <th>4</th>\n      <td>4</td>\n      <td>60</td>\n      <td>RL</td>\n      <td>14260</td>\n      <td>FR2</td>\n      <td>1Fam</td>\n      <td>5</td>\n      <td>2000</td>\n      <td>2000</td>\n      <td>VinylSd</td>\n      <td>0.0</td>\n      <td>1145.0</td>\n      <td>250000.0</td>\n    </tr>\n    <tr>\n      <th>...</th>\n      <td>...</td>\n      <td>...</td>\n      <td>...</td>\n      <td>...</td>\n      <td>...</td>\n      <td>...</td>\n      <td>...</td>\n      <td>...</td>\n      <td>...</td>\n      <td>...</td>\n      <td>...</td>\n      <td>...</td>\n      <td>...</td>\n    </tr>\n    <tr>\n      <th>2914</th>\n      <td>2914</td>\n      <td>160</td>\n      <td>RM</td>\n      <td>1936</td>\n      <td>Inside</td>\n      <td>Twnhs</td>\n      <td>7</td>\n      <td>1970</td>\n      <td>1970</td>\n      <td>CemntBd</td>\n      <td>0.0</td>\n      <td>546.0</td>\n      <td>NaN</td>\n    </tr>\n    <tr>\n      <th>2915</th>\n      <td>2915</td>\n      <td>160</td>\n      <td>RM</td>\n      <td>1894</td>\n      <td>Inside</td>\n      <td>TwnhsE</td>\n      <td>5</td>\n      <td>1970</td>\n      <td>1970</td>\n      <td>CemntBd</td>\n      <td>0.0</td>\n      <td>546.0</td>\n      <td>NaN</td>\n    </tr>\n    <tr>\n      <th>2916</th>\n      <td>2916</td>\n      <td>20</td>\n      <td>RL</td>\n      <td>20000</td>\n      <td>Inside</td>\n      <td>1Fam</td>\n      <td>7</td>\n      <td>1960</td>\n      <td>1996</td>\n      <td>VinylSd</td>\n      <td>0.0</td>\n      <td>1224.0</td>\n      <td>NaN</td>\n    </tr>\n    <tr>\n      <th>2917</th>\n      <td>2917</td>\n      <td>85</td>\n      <td>RL</td>\n      <td>10441</td>\n      <td>Inside</td>\n      <td>1Fam</td>\n      <td>5</td>\n      <td>1992</td>\n      <td>1992</td>\n      <td>HdBoard</td>\n      <td>0.0</td>\n      <td>912.0</td>\n      <td>NaN</td>\n    </tr>\n    <tr>\n      <th>2918</th>\n      <td>2918</td>\n      <td>60</td>\n      <td>RL</td>\n      <td>9627</td>\n      <td>Inside</td>\n      <td>1Fam</td>\n      <td>5</td>\n      <td>1993</td>\n      <td>1994</td>\n      <td>HdBoard</td>\n      <td>0.0</td>\n      <td>996.0</td>\n      <td>NaN</td>\n    </tr>\n  </tbody>\n</table>\n<p>2919 rows × 13 columns</p>\n</div>"
     },
     "execution_count": 19,
     "metadata": {},
     "output_type": "execute_result"
    }
   ],
   "source": [
    "dataset"
   ],
   "metadata": {
    "collapsed": false,
    "ExecuteTime": {
     "end_time": "2023-06-21T18:36:09.629472Z",
     "start_time": "2023-06-21T18:36:09.623282Z"
    }
   }
  },
  {
   "cell_type": "code",
   "execution_count": 20,
   "outputs": [
    {
     "data": {
      "text/plain": "[0, 0, 4, 0, 0, 0, 0, 0, 0, 1, 1, 1, 1459]"
     },
     "execution_count": 20,
     "metadata": {},
     "output_type": "execute_result"
    }
   ],
   "source": [
    "list(dataset.isnull().sum())"
   ],
   "metadata": {
    "collapsed": false,
    "ExecuteTime": {
     "end_time": "2023-06-21T18:36:10.648946Z",
     "start_time": "2023-06-21T18:36:10.640464Z"
    }
   }
  },
  {
   "cell_type": "code",
   "execution_count": 21,
   "outputs": [],
   "source": [
    "sale = dataset[\"SalePrice\"].fillna(dataset[\"SalePrice\"].mean())"
   ],
   "metadata": {
    "collapsed": false,
    "ExecuteTime": {
     "end_time": "2023-06-21T18:36:11.125353Z",
     "start_time": "2023-06-21T18:36:11.118117Z"
    }
   }
  },
  {
   "cell_type": "code",
   "execution_count": 22,
   "outputs": [],
   "source": [
    "dataset[\"SalePrice\"] = sale"
   ],
   "metadata": {
    "collapsed": false,
    "ExecuteTime": {
     "end_time": "2023-06-21T18:36:11.568563Z",
     "start_time": "2023-06-21T18:36:11.564772Z"
    }
   }
  },
  {
   "cell_type": "code",
   "execution_count": 23,
   "outputs": [],
   "source": [
    "dataset_1 = dataset.dropna(axis=0,inplace=False)"
   ],
   "metadata": {
    "collapsed": false,
    "ExecuteTime": {
     "end_time": "2023-06-21T18:36:12.021338Z",
     "start_time": "2023-06-21T18:36:12.014560Z"
    }
   }
  },
  {
   "cell_type": "code",
   "execution_count": 24,
   "outputs": [
    {
     "data": {
      "text/plain": "        Id  MSSubClass MSZoning  LotArea LotConfig BldgType  OverallCond   \n0        0          60       RL     8450    Inside     1Fam            5  \\\n1        1          20       RL     9600       FR2     1Fam            8   \n2        2          60       RL    11250    Inside     1Fam            5   \n3        3          70       RL     9550    Corner     1Fam            5   \n4        4          60       RL    14260       FR2     1Fam            5   \n...    ...         ...      ...      ...       ...      ...          ...   \n2914  2914         160       RM     1936    Inside    Twnhs            7   \n2915  2915         160       RM     1894    Inside   TwnhsE            5   \n2916  2916          20       RL    20000    Inside     1Fam            7   \n2917  2917          85       RL    10441    Inside     1Fam            5   \n2918  2918          60       RL     9627    Inside     1Fam            5   \n\n      YearBuilt  YearRemodAdd Exterior1st  BsmtFinSF2  TotalBsmtSF   \n0          2003          2003     VinylSd         0.0        856.0  \\\n1          1976          1976     MetalSd         0.0       1262.0   \n2          2001          2002     VinylSd         0.0        920.0   \n3          1915          1970     Wd Sdng         0.0        756.0   \n4          2000          2000     VinylSd         0.0       1145.0   \n...         ...           ...         ...         ...          ...   \n2914       1970          1970     CemntBd         0.0        546.0   \n2915       1970          1970     CemntBd         0.0        546.0   \n2916       1960          1996     VinylSd         0.0       1224.0   \n2917       1992          1992     HdBoard         0.0        912.0   \n2918       1993          1994     HdBoard         0.0        996.0   \n\n         SalePrice  \n0     208500.00000  \n1     181500.00000  \n2     223500.00000  \n3     140000.00000  \n4     250000.00000  \n...            ...  \n2914  180921.19589  \n2915  180921.19589  \n2916  180921.19589  \n2917  180921.19589  \n2918  180921.19589  \n\n[2913 rows x 13 columns]",
      "text/html": "<div>\n<style scoped>\n    .dataframe tbody tr th:only-of-type {\n        vertical-align: middle;\n    }\n\n    .dataframe tbody tr th {\n        vertical-align: top;\n    }\n\n    .dataframe thead th {\n        text-align: right;\n    }\n</style>\n<table border=\"1\" class=\"dataframe\">\n  <thead>\n    <tr style=\"text-align: right;\">\n      <th></th>\n      <th>Id</th>\n      <th>MSSubClass</th>\n      <th>MSZoning</th>\n      <th>LotArea</th>\n      <th>LotConfig</th>\n      <th>BldgType</th>\n      <th>OverallCond</th>\n      <th>YearBuilt</th>\n      <th>YearRemodAdd</th>\n      <th>Exterior1st</th>\n      <th>BsmtFinSF2</th>\n      <th>TotalBsmtSF</th>\n      <th>SalePrice</th>\n    </tr>\n  </thead>\n  <tbody>\n    <tr>\n      <th>0</th>\n      <td>0</td>\n      <td>60</td>\n      <td>RL</td>\n      <td>8450</td>\n      <td>Inside</td>\n      <td>1Fam</td>\n      <td>5</td>\n      <td>2003</td>\n      <td>2003</td>\n      <td>VinylSd</td>\n      <td>0.0</td>\n      <td>856.0</td>\n      <td>208500.00000</td>\n    </tr>\n    <tr>\n      <th>1</th>\n      <td>1</td>\n      <td>20</td>\n      <td>RL</td>\n      <td>9600</td>\n      <td>FR2</td>\n      <td>1Fam</td>\n      <td>8</td>\n      <td>1976</td>\n      <td>1976</td>\n      <td>MetalSd</td>\n      <td>0.0</td>\n      <td>1262.0</td>\n      <td>181500.00000</td>\n    </tr>\n    <tr>\n      <th>2</th>\n      <td>2</td>\n      <td>60</td>\n      <td>RL</td>\n      <td>11250</td>\n      <td>Inside</td>\n      <td>1Fam</td>\n      <td>5</td>\n      <td>2001</td>\n      <td>2002</td>\n      <td>VinylSd</td>\n      <td>0.0</td>\n      <td>920.0</td>\n      <td>223500.00000</td>\n    </tr>\n    <tr>\n      <th>3</th>\n      <td>3</td>\n      <td>70</td>\n      <td>RL</td>\n      <td>9550</td>\n      <td>Corner</td>\n      <td>1Fam</td>\n      <td>5</td>\n      <td>1915</td>\n      <td>1970</td>\n      <td>Wd Sdng</td>\n      <td>0.0</td>\n      <td>756.0</td>\n      <td>140000.00000</td>\n    </tr>\n    <tr>\n      <th>4</th>\n      <td>4</td>\n      <td>60</td>\n      <td>RL</td>\n      <td>14260</td>\n      <td>FR2</td>\n      <td>1Fam</td>\n      <td>5</td>\n      <td>2000</td>\n      <td>2000</td>\n      <td>VinylSd</td>\n      <td>0.0</td>\n      <td>1145.0</td>\n      <td>250000.00000</td>\n    </tr>\n    <tr>\n      <th>...</th>\n      <td>...</td>\n      <td>...</td>\n      <td>...</td>\n      <td>...</td>\n      <td>...</td>\n      <td>...</td>\n      <td>...</td>\n      <td>...</td>\n      <td>...</td>\n      <td>...</td>\n      <td>...</td>\n      <td>...</td>\n      <td>...</td>\n    </tr>\n    <tr>\n      <th>2914</th>\n      <td>2914</td>\n      <td>160</td>\n      <td>RM</td>\n      <td>1936</td>\n      <td>Inside</td>\n      <td>Twnhs</td>\n      <td>7</td>\n      <td>1970</td>\n      <td>1970</td>\n      <td>CemntBd</td>\n      <td>0.0</td>\n      <td>546.0</td>\n      <td>180921.19589</td>\n    </tr>\n    <tr>\n      <th>2915</th>\n      <td>2915</td>\n      <td>160</td>\n      <td>RM</td>\n      <td>1894</td>\n      <td>Inside</td>\n      <td>TwnhsE</td>\n      <td>5</td>\n      <td>1970</td>\n      <td>1970</td>\n      <td>CemntBd</td>\n      <td>0.0</td>\n      <td>546.0</td>\n      <td>180921.19589</td>\n    </tr>\n    <tr>\n      <th>2916</th>\n      <td>2916</td>\n      <td>20</td>\n      <td>RL</td>\n      <td>20000</td>\n      <td>Inside</td>\n      <td>1Fam</td>\n      <td>7</td>\n      <td>1960</td>\n      <td>1996</td>\n      <td>VinylSd</td>\n      <td>0.0</td>\n      <td>1224.0</td>\n      <td>180921.19589</td>\n    </tr>\n    <tr>\n      <th>2917</th>\n      <td>2917</td>\n      <td>85</td>\n      <td>RL</td>\n      <td>10441</td>\n      <td>Inside</td>\n      <td>1Fam</td>\n      <td>5</td>\n      <td>1992</td>\n      <td>1992</td>\n      <td>HdBoard</td>\n      <td>0.0</td>\n      <td>912.0</td>\n      <td>180921.19589</td>\n    </tr>\n    <tr>\n      <th>2918</th>\n      <td>2918</td>\n      <td>60</td>\n      <td>RL</td>\n      <td>9627</td>\n      <td>Inside</td>\n      <td>1Fam</td>\n      <td>5</td>\n      <td>1993</td>\n      <td>1994</td>\n      <td>HdBoard</td>\n      <td>0.0</td>\n      <td>996.0</td>\n      <td>180921.19589</td>\n    </tr>\n  </tbody>\n</table>\n<p>2913 rows × 13 columns</p>\n</div>"
     },
     "execution_count": 24,
     "metadata": {},
     "output_type": "execute_result"
    }
   ],
   "source": [
    "dataset_1"
   ],
   "metadata": {
    "collapsed": false,
    "ExecuteTime": {
     "end_time": "2023-06-21T18:36:12.660213Z",
     "start_time": "2023-06-21T18:36:12.657283Z"
    }
   }
  },
  {
   "cell_type": "code",
   "execution_count": 30,
   "outputs": [
    {
     "data": {
      "text/plain": "      MSSubClass MSZoning  LotArea LotConfig BldgType  OverallCond  YearBuilt   \n0             60       RL     8450    Inside     1Fam            5       2003  \\\n1             20       RL     9600       FR2     1Fam            8       1976   \n2             60       RL    11250    Inside     1Fam            5       2001   \n3             70       RL     9550    Corner     1Fam            5       1915   \n4             60       RL    14260       FR2     1Fam            5       2000   \n...          ...      ...      ...       ...      ...          ...        ...   \n2914         160       RM     1936    Inside    Twnhs            7       1970   \n2915         160       RM     1894    Inside   TwnhsE            5       1970   \n2916          20       RL    20000    Inside     1Fam            7       1960   \n2917          85       RL    10441    Inside     1Fam            5       1992   \n2918          60       RL     9627    Inside     1Fam            5       1993   \n\n      YearRemodAdd Exterior1st  BsmtFinSF2  TotalBsmtSF     SalePrice  \n0             2003     VinylSd         0.0        856.0  208500.00000  \n1             1976     MetalSd         0.0       1262.0  181500.00000  \n2             2002     VinylSd         0.0        920.0  223500.00000  \n3             1970     Wd Sdng         0.0        756.0  140000.00000  \n4             2000     VinylSd         0.0       1145.0  250000.00000  \n...            ...         ...         ...          ...           ...  \n2914          1970     CemntBd         0.0        546.0  180921.19589  \n2915          1970     CemntBd         0.0        546.0  180921.19589  \n2916          1996     VinylSd         0.0       1224.0  180921.19589  \n2917          1992     HdBoard         0.0        912.0  180921.19589  \n2918          1994     HdBoard         0.0        996.0  180921.19589  \n\n[2913 rows x 12 columns]",
      "text/html": "<div>\n<style scoped>\n    .dataframe tbody tr th:only-of-type {\n        vertical-align: middle;\n    }\n\n    .dataframe tbody tr th {\n        vertical-align: top;\n    }\n\n    .dataframe thead th {\n        text-align: right;\n    }\n</style>\n<table border=\"1\" class=\"dataframe\">\n  <thead>\n    <tr style=\"text-align: right;\">\n      <th></th>\n      <th>MSSubClass</th>\n      <th>MSZoning</th>\n      <th>LotArea</th>\n      <th>LotConfig</th>\n      <th>BldgType</th>\n      <th>OverallCond</th>\n      <th>YearBuilt</th>\n      <th>YearRemodAdd</th>\n      <th>Exterior1st</th>\n      <th>BsmtFinSF2</th>\n      <th>TotalBsmtSF</th>\n      <th>SalePrice</th>\n    </tr>\n  </thead>\n  <tbody>\n    <tr>\n      <th>0</th>\n      <td>60</td>\n      <td>RL</td>\n      <td>8450</td>\n      <td>Inside</td>\n      <td>1Fam</td>\n      <td>5</td>\n      <td>2003</td>\n      <td>2003</td>\n      <td>VinylSd</td>\n      <td>0.0</td>\n      <td>856.0</td>\n      <td>208500.00000</td>\n    </tr>\n    <tr>\n      <th>1</th>\n      <td>20</td>\n      <td>RL</td>\n      <td>9600</td>\n      <td>FR2</td>\n      <td>1Fam</td>\n      <td>8</td>\n      <td>1976</td>\n      <td>1976</td>\n      <td>MetalSd</td>\n      <td>0.0</td>\n      <td>1262.0</td>\n      <td>181500.00000</td>\n    </tr>\n    <tr>\n      <th>2</th>\n      <td>60</td>\n      <td>RL</td>\n      <td>11250</td>\n      <td>Inside</td>\n      <td>1Fam</td>\n      <td>5</td>\n      <td>2001</td>\n      <td>2002</td>\n      <td>VinylSd</td>\n      <td>0.0</td>\n      <td>920.0</td>\n      <td>223500.00000</td>\n    </tr>\n    <tr>\n      <th>3</th>\n      <td>70</td>\n      <td>RL</td>\n      <td>9550</td>\n      <td>Corner</td>\n      <td>1Fam</td>\n      <td>5</td>\n      <td>1915</td>\n      <td>1970</td>\n      <td>Wd Sdng</td>\n      <td>0.0</td>\n      <td>756.0</td>\n      <td>140000.00000</td>\n    </tr>\n    <tr>\n      <th>4</th>\n      <td>60</td>\n      <td>RL</td>\n      <td>14260</td>\n      <td>FR2</td>\n      <td>1Fam</td>\n      <td>5</td>\n      <td>2000</td>\n      <td>2000</td>\n      <td>VinylSd</td>\n      <td>0.0</td>\n      <td>1145.0</td>\n      <td>250000.00000</td>\n    </tr>\n    <tr>\n      <th>...</th>\n      <td>...</td>\n      <td>...</td>\n      <td>...</td>\n      <td>...</td>\n      <td>...</td>\n      <td>...</td>\n      <td>...</td>\n      <td>...</td>\n      <td>...</td>\n      <td>...</td>\n      <td>...</td>\n      <td>...</td>\n    </tr>\n    <tr>\n      <th>2914</th>\n      <td>160</td>\n      <td>RM</td>\n      <td>1936</td>\n      <td>Inside</td>\n      <td>Twnhs</td>\n      <td>7</td>\n      <td>1970</td>\n      <td>1970</td>\n      <td>CemntBd</td>\n      <td>0.0</td>\n      <td>546.0</td>\n      <td>180921.19589</td>\n    </tr>\n    <tr>\n      <th>2915</th>\n      <td>160</td>\n      <td>RM</td>\n      <td>1894</td>\n      <td>Inside</td>\n      <td>TwnhsE</td>\n      <td>5</td>\n      <td>1970</td>\n      <td>1970</td>\n      <td>CemntBd</td>\n      <td>0.0</td>\n      <td>546.0</td>\n      <td>180921.19589</td>\n    </tr>\n    <tr>\n      <th>2916</th>\n      <td>20</td>\n      <td>RL</td>\n      <td>20000</td>\n      <td>Inside</td>\n      <td>1Fam</td>\n      <td>7</td>\n      <td>1960</td>\n      <td>1996</td>\n      <td>VinylSd</td>\n      <td>0.0</td>\n      <td>1224.0</td>\n      <td>180921.19589</td>\n    </tr>\n    <tr>\n      <th>2917</th>\n      <td>85</td>\n      <td>RL</td>\n      <td>10441</td>\n      <td>Inside</td>\n      <td>1Fam</td>\n      <td>5</td>\n      <td>1992</td>\n      <td>1992</td>\n      <td>HdBoard</td>\n      <td>0.0</td>\n      <td>912.0</td>\n      <td>180921.19589</td>\n    </tr>\n    <tr>\n      <th>2918</th>\n      <td>60</td>\n      <td>RL</td>\n      <td>9627</td>\n      <td>Inside</td>\n      <td>1Fam</td>\n      <td>5</td>\n      <td>1993</td>\n      <td>1994</td>\n      <td>HdBoard</td>\n      <td>0.0</td>\n      <td>996.0</td>\n      <td>180921.19589</td>\n    </tr>\n  </tbody>\n</table>\n<p>2913 rows × 12 columns</p>\n</div>"
     },
     "execution_count": 30,
     "metadata": {},
     "output_type": "execute_result"
    }
   ],
   "source": [
    "df = dataset_1.drop(\"Id\",axis=1,inplace=False)\n",
    "df"
   ],
   "metadata": {
    "collapsed": false,
    "ExecuteTime": {
     "end_time": "2023-06-21T18:44:26.217537Z",
     "start_time": "2023-06-21T18:44:26.212459Z"
    }
   }
  },
  {
   "cell_type": "code",
   "execution_count": 31,
   "outputs": [
    {
     "data": {
      "text/plain": "              MSSubClass   LotArea  OverallCond  YearBuilt  YearRemodAdd   \nMSSubClass      1.000000 -0.202661    -0.066033   0.033428      0.042057  \\\nLotArea        -0.202661  1.000000    -0.025024   0.031226      0.027047   \nOverallCond    -0.066033 -0.025024     1.000000  -0.375150      0.043586   \nYearBuilt       0.033428  0.031226    -0.375150   1.000000      0.611755   \nYearRemodAdd    0.042057  0.027047     0.043586   0.611755      1.000000   \nBsmtFinSF2     -0.072839  0.085927     0.040980  -0.028329     -0.062818   \nTotalBsmtSF    -0.222397  0.262102    -0.180554   0.407691      0.294832   \nSalePrice      -0.059326  0.237990    -0.055299   0.369442      0.355167   \n\n              BsmtFinSF2  TotalBsmtSF  SalePrice  \nMSSubClass     -0.072839    -0.222397  -0.059326  \nLotArea         0.085927     0.262102   0.237990  \nOverallCond     0.040980    -0.180554  -0.055299  \nYearBuilt      -0.028329     0.407691   0.369442  \nYearRemodAdd   -0.062818     0.294832   0.355167  \nBsmtFinSF2      1.000000     0.089027  -0.007672  \nTotalBsmtSF     0.089027     1.000000   0.433343  \nSalePrice      -0.007672     0.433343   1.000000  ",
      "text/html": "<div>\n<style scoped>\n    .dataframe tbody tr th:only-of-type {\n        vertical-align: middle;\n    }\n\n    .dataframe tbody tr th {\n        vertical-align: top;\n    }\n\n    .dataframe thead th {\n        text-align: right;\n    }\n</style>\n<table border=\"1\" class=\"dataframe\">\n  <thead>\n    <tr style=\"text-align: right;\">\n      <th></th>\n      <th>MSSubClass</th>\n      <th>LotArea</th>\n      <th>OverallCond</th>\n      <th>YearBuilt</th>\n      <th>YearRemodAdd</th>\n      <th>BsmtFinSF2</th>\n      <th>TotalBsmtSF</th>\n      <th>SalePrice</th>\n    </tr>\n  </thead>\n  <tbody>\n    <tr>\n      <th>MSSubClass</th>\n      <td>1.000000</td>\n      <td>-0.202661</td>\n      <td>-0.066033</td>\n      <td>0.033428</td>\n      <td>0.042057</td>\n      <td>-0.072839</td>\n      <td>-0.222397</td>\n      <td>-0.059326</td>\n    </tr>\n    <tr>\n      <th>LotArea</th>\n      <td>-0.202661</td>\n      <td>1.000000</td>\n      <td>-0.025024</td>\n      <td>0.031226</td>\n      <td>0.027047</td>\n      <td>0.085927</td>\n      <td>0.262102</td>\n      <td>0.237990</td>\n    </tr>\n    <tr>\n      <th>OverallCond</th>\n      <td>-0.066033</td>\n      <td>-0.025024</td>\n      <td>1.000000</td>\n      <td>-0.375150</td>\n      <td>0.043586</td>\n      <td>0.040980</td>\n      <td>-0.180554</td>\n      <td>-0.055299</td>\n    </tr>\n    <tr>\n      <th>YearBuilt</th>\n      <td>0.033428</td>\n      <td>0.031226</td>\n      <td>-0.375150</td>\n      <td>1.000000</td>\n      <td>0.611755</td>\n      <td>-0.028329</td>\n      <td>0.407691</td>\n      <td>0.369442</td>\n    </tr>\n    <tr>\n      <th>YearRemodAdd</th>\n      <td>0.042057</td>\n      <td>0.027047</td>\n      <td>0.043586</td>\n      <td>0.611755</td>\n      <td>1.000000</td>\n      <td>-0.062818</td>\n      <td>0.294832</td>\n      <td>0.355167</td>\n    </tr>\n    <tr>\n      <th>BsmtFinSF2</th>\n      <td>-0.072839</td>\n      <td>0.085927</td>\n      <td>0.040980</td>\n      <td>-0.028329</td>\n      <td>-0.062818</td>\n      <td>1.000000</td>\n      <td>0.089027</td>\n      <td>-0.007672</td>\n    </tr>\n    <tr>\n      <th>TotalBsmtSF</th>\n      <td>-0.222397</td>\n      <td>0.262102</td>\n      <td>-0.180554</td>\n      <td>0.407691</td>\n      <td>0.294832</td>\n      <td>0.089027</td>\n      <td>1.000000</td>\n      <td>0.433343</td>\n    </tr>\n    <tr>\n      <th>SalePrice</th>\n      <td>-0.059326</td>\n      <td>0.237990</td>\n      <td>-0.055299</td>\n      <td>0.369442</td>\n      <td>0.355167</td>\n      <td>-0.007672</td>\n      <td>0.433343</td>\n      <td>1.000000</td>\n    </tr>\n  </tbody>\n</table>\n</div>"
     },
     "execution_count": 31,
     "metadata": {},
     "output_type": "execute_result"
    }
   ],
   "source": [
    "df.corr(numeric_only=True)"
   ],
   "metadata": {
    "collapsed": false,
    "ExecuteTime": {
     "end_time": "2023-06-21T18:44:29.649939Z",
     "start_time": "2023-06-21T18:44:29.640842Z"
    }
   }
  },
  {
   "cell_type": "code",
   "execution_count": 47,
   "outputs": [],
   "source": [
    "k = df.dtypes\n",
    "num_types = k[k!=\"object\"]\n",
    "cat_types = k[k==\"object\"]"
   ],
   "metadata": {
    "collapsed": false,
    "ExecuteTime": {
     "end_time": "2023-06-21T18:52:10.138480Z",
     "start_time": "2023-06-21T18:52:10.134904Z"
    }
   }
  },
  {
   "cell_type": "code",
   "execution_count": 48,
   "outputs": [],
   "source": [
    "num = df[num_types.index.values]\n",
    "cat = df[cat_types.index.values]"
   ],
   "metadata": {
    "collapsed": false,
    "ExecuteTime": {
     "end_time": "2023-06-21T18:52:30.604713Z",
     "start_time": "2023-06-21T18:52:30.598779Z"
    }
   }
  },
  {
   "cell_type": "code",
   "execution_count": 49,
   "outputs": [
    {
     "data": {
      "text/plain": "      MSSubClass  LotArea  OverallCond  YearBuilt  YearRemodAdd  BsmtFinSF2   \n0             60     8450            5       2003          2003         0.0  \\\n1             20     9600            8       1976          1976         0.0   \n2             60    11250            5       2001          2002         0.0   \n3             70     9550            5       1915          1970         0.0   \n4             60    14260            5       2000          2000         0.0   \n...          ...      ...          ...        ...           ...         ...   \n2914         160     1936            7       1970          1970         0.0   \n2915         160     1894            5       1970          1970         0.0   \n2916          20    20000            7       1960          1996         0.0   \n2917          85    10441            5       1992          1992         0.0   \n2918          60     9627            5       1993          1994         0.0   \n\n      TotalBsmtSF     SalePrice  \n0           856.0  208500.00000  \n1          1262.0  181500.00000  \n2           920.0  223500.00000  \n3           756.0  140000.00000  \n4          1145.0  250000.00000  \n...           ...           ...  \n2914        546.0  180921.19589  \n2915        546.0  180921.19589  \n2916       1224.0  180921.19589  \n2917        912.0  180921.19589  \n2918        996.0  180921.19589  \n\n[2913 rows x 8 columns]",
      "text/html": "<div>\n<style scoped>\n    .dataframe tbody tr th:only-of-type {\n        vertical-align: middle;\n    }\n\n    .dataframe tbody tr th {\n        vertical-align: top;\n    }\n\n    .dataframe thead th {\n        text-align: right;\n    }\n</style>\n<table border=\"1\" class=\"dataframe\">\n  <thead>\n    <tr style=\"text-align: right;\">\n      <th></th>\n      <th>MSSubClass</th>\n      <th>LotArea</th>\n      <th>OverallCond</th>\n      <th>YearBuilt</th>\n      <th>YearRemodAdd</th>\n      <th>BsmtFinSF2</th>\n      <th>TotalBsmtSF</th>\n      <th>SalePrice</th>\n    </tr>\n  </thead>\n  <tbody>\n    <tr>\n      <th>0</th>\n      <td>60</td>\n      <td>8450</td>\n      <td>5</td>\n      <td>2003</td>\n      <td>2003</td>\n      <td>0.0</td>\n      <td>856.0</td>\n      <td>208500.00000</td>\n    </tr>\n    <tr>\n      <th>1</th>\n      <td>20</td>\n      <td>9600</td>\n      <td>8</td>\n      <td>1976</td>\n      <td>1976</td>\n      <td>0.0</td>\n      <td>1262.0</td>\n      <td>181500.00000</td>\n    </tr>\n    <tr>\n      <th>2</th>\n      <td>60</td>\n      <td>11250</td>\n      <td>5</td>\n      <td>2001</td>\n      <td>2002</td>\n      <td>0.0</td>\n      <td>920.0</td>\n      <td>223500.00000</td>\n    </tr>\n    <tr>\n      <th>3</th>\n      <td>70</td>\n      <td>9550</td>\n      <td>5</td>\n      <td>1915</td>\n      <td>1970</td>\n      <td>0.0</td>\n      <td>756.0</td>\n      <td>140000.00000</td>\n    </tr>\n    <tr>\n      <th>4</th>\n      <td>60</td>\n      <td>14260</td>\n      <td>5</td>\n      <td>2000</td>\n      <td>2000</td>\n      <td>0.0</td>\n      <td>1145.0</td>\n      <td>250000.00000</td>\n    </tr>\n    <tr>\n      <th>...</th>\n      <td>...</td>\n      <td>...</td>\n      <td>...</td>\n      <td>...</td>\n      <td>...</td>\n      <td>...</td>\n      <td>...</td>\n      <td>...</td>\n    </tr>\n    <tr>\n      <th>2914</th>\n      <td>160</td>\n      <td>1936</td>\n      <td>7</td>\n      <td>1970</td>\n      <td>1970</td>\n      <td>0.0</td>\n      <td>546.0</td>\n      <td>180921.19589</td>\n    </tr>\n    <tr>\n      <th>2915</th>\n      <td>160</td>\n      <td>1894</td>\n      <td>5</td>\n      <td>1970</td>\n      <td>1970</td>\n      <td>0.0</td>\n      <td>546.0</td>\n      <td>180921.19589</td>\n    </tr>\n    <tr>\n      <th>2916</th>\n      <td>20</td>\n      <td>20000</td>\n      <td>7</td>\n      <td>1960</td>\n      <td>1996</td>\n      <td>0.0</td>\n      <td>1224.0</td>\n      <td>180921.19589</td>\n    </tr>\n    <tr>\n      <th>2917</th>\n      <td>85</td>\n      <td>10441</td>\n      <td>5</td>\n      <td>1992</td>\n      <td>1992</td>\n      <td>0.0</td>\n      <td>912.0</td>\n      <td>180921.19589</td>\n    </tr>\n    <tr>\n      <th>2918</th>\n      <td>60</td>\n      <td>9627</td>\n      <td>5</td>\n      <td>1993</td>\n      <td>1994</td>\n      <td>0.0</td>\n      <td>996.0</td>\n      <td>180921.19589</td>\n    </tr>\n  </tbody>\n</table>\n<p>2913 rows × 8 columns</p>\n</div>"
     },
     "execution_count": 49,
     "metadata": {},
     "output_type": "execute_result"
    }
   ],
   "source": [
    "num"
   ],
   "metadata": {
    "collapsed": false,
    "ExecuteTime": {
     "end_time": "2023-06-21T18:52:32.927703Z",
     "start_time": "2023-06-21T18:52:32.922877Z"
    }
   }
  },
  {
   "cell_type": "code",
   "execution_count": 50,
   "outputs": [
    {
     "data": {
      "text/plain": "     MSZoning LotConfig BldgType Exterior1st\n0          RL    Inside     1Fam     VinylSd\n1          RL       FR2     1Fam     MetalSd\n2          RL    Inside     1Fam     VinylSd\n3          RL    Corner     1Fam     Wd Sdng\n4          RL       FR2     1Fam     VinylSd\n...       ...       ...      ...         ...\n2914       RM    Inside    Twnhs     CemntBd\n2915       RM    Inside   TwnhsE     CemntBd\n2916       RL    Inside     1Fam     VinylSd\n2917       RL    Inside     1Fam     HdBoard\n2918       RL    Inside     1Fam     HdBoard\n\n[2913 rows x 4 columns]",
      "text/html": "<div>\n<style scoped>\n    .dataframe tbody tr th:only-of-type {\n        vertical-align: middle;\n    }\n\n    .dataframe tbody tr th {\n        vertical-align: top;\n    }\n\n    .dataframe thead th {\n        text-align: right;\n    }\n</style>\n<table border=\"1\" class=\"dataframe\">\n  <thead>\n    <tr style=\"text-align: right;\">\n      <th></th>\n      <th>MSZoning</th>\n      <th>LotConfig</th>\n      <th>BldgType</th>\n      <th>Exterior1st</th>\n    </tr>\n  </thead>\n  <tbody>\n    <tr>\n      <th>0</th>\n      <td>RL</td>\n      <td>Inside</td>\n      <td>1Fam</td>\n      <td>VinylSd</td>\n    </tr>\n    <tr>\n      <th>1</th>\n      <td>RL</td>\n      <td>FR2</td>\n      <td>1Fam</td>\n      <td>MetalSd</td>\n    </tr>\n    <tr>\n      <th>2</th>\n      <td>RL</td>\n      <td>Inside</td>\n      <td>1Fam</td>\n      <td>VinylSd</td>\n    </tr>\n    <tr>\n      <th>3</th>\n      <td>RL</td>\n      <td>Corner</td>\n      <td>1Fam</td>\n      <td>Wd Sdng</td>\n    </tr>\n    <tr>\n      <th>4</th>\n      <td>RL</td>\n      <td>FR2</td>\n      <td>1Fam</td>\n      <td>VinylSd</td>\n    </tr>\n    <tr>\n      <th>...</th>\n      <td>...</td>\n      <td>...</td>\n      <td>...</td>\n      <td>...</td>\n    </tr>\n    <tr>\n      <th>2914</th>\n      <td>RM</td>\n      <td>Inside</td>\n      <td>Twnhs</td>\n      <td>CemntBd</td>\n    </tr>\n    <tr>\n      <th>2915</th>\n      <td>RM</td>\n      <td>Inside</td>\n      <td>TwnhsE</td>\n      <td>CemntBd</td>\n    </tr>\n    <tr>\n      <th>2916</th>\n      <td>RL</td>\n      <td>Inside</td>\n      <td>1Fam</td>\n      <td>VinylSd</td>\n    </tr>\n    <tr>\n      <th>2917</th>\n      <td>RL</td>\n      <td>Inside</td>\n      <td>1Fam</td>\n      <td>HdBoard</td>\n    </tr>\n    <tr>\n      <th>2918</th>\n      <td>RL</td>\n      <td>Inside</td>\n      <td>1Fam</td>\n      <td>HdBoard</td>\n    </tr>\n  </tbody>\n</table>\n<p>2913 rows × 4 columns</p>\n</div>"
     },
     "execution_count": 50,
     "metadata": {},
     "output_type": "execute_result"
    }
   ],
   "source": [
    "cat"
   ],
   "metadata": {
    "collapsed": false,
    "ExecuteTime": {
     "end_time": "2023-06-21T18:52:49.126960Z",
     "start_time": "2023-06-21T18:52:49.121778Z"
    }
   }
  },
  {
   "cell_type": "code",
   "execution_count": 66,
   "outputs": [],
   "source": [
    "p = dict()\n",
    "for i in cat:\n",
    "\tuni = cat[i].value_counts()\n",
    "\tl = dict(uni)\n",
    "\tp[i] = l"
   ],
   "metadata": {
    "collapsed": false,
    "ExecuteTime": {
     "end_time": "2023-06-21T18:59:20.138988Z",
     "start_time": "2023-06-21T18:59:20.133691Z"
    }
   }
  },
  {
   "cell_type": "code",
   "execution_count": 67,
   "outputs": [
    {
     "data": {
      "text/plain": "{'MSZoning': {'RL': 2264, 'RM': 459, 'FV': 139, 'RH': 26, 'C (all)': 25},\n 'LotConfig': {'Inside': 2128,\n  'Corner': 511,\n  'CulDSac': 176,\n  'FR2': 85,\n  'FR3': 13},\n 'BldgType': {'1Fam': 2419,\n  'TwnhsE': 227,\n  'Duplex': 109,\n  'Twnhs': 96,\n  '2fmCon': 62},\n 'Exterior1st': {'VinylSd': 1025,\n  'MetalSd': 449,\n  'HdBoard': 442,\n  'Wd Sdng': 409,\n  'Plywood': 221,\n  'CemntBd': 126,\n  'BrkFace': 87,\n  'WdShing': 56,\n  'AsbShng': 43,\n  'Stucco': 43,\n  'BrkComm': 6,\n  'AsphShn': 2,\n  'Stone': 2,\n  'ImStucc': 1,\n  'CBlock': 1}}"
     },
     "execution_count": 67,
     "metadata": {},
     "output_type": "execute_result"
    }
   ],
   "source": [
    "p"
   ],
   "metadata": {
    "collapsed": false,
    "ExecuteTime": {
     "end_time": "2023-06-21T18:59:26.740322Z",
     "start_time": "2023-06-21T18:59:26.734811Z"
    }
   }
  },
  {
   "cell_type": "code",
   "execution_count": 71,
   "outputs": [],
   "source": [
    "from sklearn.preprocessing import OneHotEncoder"
   ],
   "metadata": {
    "collapsed": false,
    "ExecuteTime": {
     "end_time": "2023-06-21T19:04:10.236546Z",
     "start_time": "2023-06-21T19:04:10.232080Z"
    }
   }
  },
  {
   "cell_type": "code",
   "execution_count": 74,
   "outputs": [
    {
     "data": {
      "text/plain": "     MSZoning LotConfig BldgType Exterior1st\n0          RL    Inside     1Fam     VinylSd\n1          RL       FR2     1Fam     MetalSd\n2          RL    Inside     1Fam     VinylSd\n3          RL    Corner     1Fam     Wd Sdng\n4          RL       FR2     1Fam     VinylSd\n...       ...       ...      ...         ...\n2914       RM    Inside    Twnhs     CemntBd\n2915       RM    Inside   TwnhsE     CemntBd\n2916       RL    Inside     1Fam     VinylSd\n2917       RL    Inside     1Fam     HdBoard\n2918       RL    Inside     1Fam     HdBoard\n\n[2913 rows x 4 columns]",
      "text/html": "<div>\n<style scoped>\n    .dataframe tbody tr th:only-of-type {\n        vertical-align: middle;\n    }\n\n    .dataframe tbody tr th {\n        vertical-align: top;\n    }\n\n    .dataframe thead th {\n        text-align: right;\n    }\n</style>\n<table border=\"1\" class=\"dataframe\">\n  <thead>\n    <tr style=\"text-align: right;\">\n      <th></th>\n      <th>MSZoning</th>\n      <th>LotConfig</th>\n      <th>BldgType</th>\n      <th>Exterior1st</th>\n    </tr>\n  </thead>\n  <tbody>\n    <tr>\n      <th>0</th>\n      <td>RL</td>\n      <td>Inside</td>\n      <td>1Fam</td>\n      <td>VinylSd</td>\n    </tr>\n    <tr>\n      <th>1</th>\n      <td>RL</td>\n      <td>FR2</td>\n      <td>1Fam</td>\n      <td>MetalSd</td>\n    </tr>\n    <tr>\n      <th>2</th>\n      <td>RL</td>\n      <td>Inside</td>\n      <td>1Fam</td>\n      <td>VinylSd</td>\n    </tr>\n    <tr>\n      <th>3</th>\n      <td>RL</td>\n      <td>Corner</td>\n      <td>1Fam</td>\n      <td>Wd Sdng</td>\n    </tr>\n    <tr>\n      <th>4</th>\n      <td>RL</td>\n      <td>FR2</td>\n      <td>1Fam</td>\n      <td>VinylSd</td>\n    </tr>\n    <tr>\n      <th>...</th>\n      <td>...</td>\n      <td>...</td>\n      <td>...</td>\n      <td>...</td>\n    </tr>\n    <tr>\n      <th>2914</th>\n      <td>RM</td>\n      <td>Inside</td>\n      <td>Twnhs</td>\n      <td>CemntBd</td>\n    </tr>\n    <tr>\n      <th>2915</th>\n      <td>RM</td>\n      <td>Inside</td>\n      <td>TwnhsE</td>\n      <td>CemntBd</td>\n    </tr>\n    <tr>\n      <th>2916</th>\n      <td>RL</td>\n      <td>Inside</td>\n      <td>1Fam</td>\n      <td>VinylSd</td>\n    </tr>\n    <tr>\n      <th>2917</th>\n      <td>RL</td>\n      <td>Inside</td>\n      <td>1Fam</td>\n      <td>HdBoard</td>\n    </tr>\n    <tr>\n      <th>2918</th>\n      <td>RL</td>\n      <td>Inside</td>\n      <td>1Fam</td>\n      <td>HdBoard</td>\n    </tr>\n  </tbody>\n</table>\n<p>2913 rows × 4 columns</p>\n</div>"
     },
     "execution_count": 74,
     "metadata": {},
     "output_type": "execute_result"
    }
   ],
   "source": [
    "k = df.dtypes\n",
    "num_types = k[k!=\"object\"]\n",
    "cat_types = k[k==\"object\"]\n",
    "num = df[num_types.index.values]\n",
    "cat = df[cat_types.index.values]\n",
    "cat"
   ],
   "metadata": {
    "collapsed": false,
    "ExecuteTime": {
     "end_time": "2023-06-21T19:05:06.912691Z",
     "start_time": "2023-06-21T19:05:06.910133Z"
    }
   }
  },
  {
   "cell_type": "code",
   "execution_count": 92,
   "outputs": [
    {
     "data": {
      "text/plain": "<2913x26 sparse matrix of type '<class 'numpy.float64'>'\n\twith 8654 stored elements in Compressed Sparse Row format>"
     },
     "execution_count": 92,
     "metadata": {},
     "output_type": "execute_result"
    }
   ],
   "source": [
    "enc = OneHotEncoder(drop=\"first\")\n",
    "model = enc.fit(cat)\n",
    "model.transform(cat)"
   ],
   "metadata": {
    "collapsed": false,
    "ExecuteTime": {
     "end_time": "2023-06-21T19:10:09.306299Z",
     "start_time": "2023-06-21T19:10:09.293292Z"
    }
   }
  },
  {
   "cell_type": "code",
   "execution_count": 93,
   "outputs": [],
   "source": [
    "k = model.transform(cat).toarray()"
   ],
   "metadata": {
    "collapsed": false,
    "ExecuteTime": {
     "end_time": "2023-06-21T19:10:09.698391Z",
     "start_time": "2023-06-21T19:10:09.695190Z"
    }
   }
  },
  {
   "cell_type": "code",
   "execution_count": 94,
   "outputs": [
    {
     "data": {
      "text/plain": "array([[0., 0., 1., ..., 1., 0., 0.],\n       [0., 0., 1., ..., 0., 0., 0.],\n       [0., 0., 1., ..., 1., 0., 0.],\n       ...,\n       [0., 0., 1., ..., 1., 0., 0.],\n       [0., 0., 1., ..., 0., 0., 0.],\n       [0., 0., 1., ..., 0., 0., 0.]])"
     },
     "execution_count": 94,
     "metadata": {},
     "output_type": "execute_result"
    }
   ],
   "source": [
    "k"
   ],
   "metadata": {
    "collapsed": false,
    "ExecuteTime": {
     "end_time": "2023-06-21T19:10:10.072372Z",
     "start_time": "2023-06-21T19:10:10.066715Z"
    }
   }
  },
  {
   "cell_type": "code",
   "execution_count": 103,
   "outputs": [
    {
     "data": {
      "text/plain": "         MSZoning  LotConfig  BldgType  Exterior1st\nRL         2264.0        NaN       NaN          NaN\nRM          459.0        NaN       NaN          NaN\nFV          139.0        NaN       NaN          NaN\nRH           26.0        NaN       NaN          NaN\nC (all)      25.0        NaN       NaN          NaN\nInside        NaN     2128.0       NaN          NaN\nCorner        NaN      511.0       NaN          NaN\nCulDSac       NaN      176.0       NaN          NaN\nFR2           NaN       85.0       NaN          NaN\nFR3           NaN       13.0       NaN          NaN\n1Fam          NaN        NaN    2419.0          NaN\nTwnhsE        NaN        NaN     227.0          NaN\nDuplex        NaN        NaN     109.0          NaN\nTwnhs         NaN        NaN      96.0          NaN\n2fmCon        NaN        NaN      62.0          NaN\nVinylSd       NaN        NaN       NaN       1025.0\nMetalSd       NaN        NaN       NaN        449.0\nHdBoard       NaN        NaN       NaN        442.0\nWd Sdng       NaN        NaN       NaN        409.0\nPlywood       NaN        NaN       NaN        221.0\nCemntBd       NaN        NaN       NaN        126.0\nBrkFace       NaN        NaN       NaN         87.0\nWdShing       NaN        NaN       NaN         56.0\nAsbShng       NaN        NaN       NaN         43.0\nStucco        NaN        NaN       NaN         43.0\nBrkComm       NaN        NaN       NaN          6.0\nAsphShn       NaN        NaN       NaN          2.0\nStone         NaN        NaN       NaN          2.0\nImStucc       NaN        NaN       NaN          1.0\nCBlock        NaN        NaN       NaN          1.0",
      "text/html": "<div>\n<style scoped>\n    .dataframe tbody tr th:only-of-type {\n        vertical-align: middle;\n    }\n\n    .dataframe tbody tr th {\n        vertical-align: top;\n    }\n\n    .dataframe thead th {\n        text-align: right;\n    }\n</style>\n<table border=\"1\" class=\"dataframe\">\n  <thead>\n    <tr style=\"text-align: right;\">\n      <th></th>\n      <th>MSZoning</th>\n      <th>LotConfig</th>\n      <th>BldgType</th>\n      <th>Exterior1st</th>\n    </tr>\n  </thead>\n  <tbody>\n    <tr>\n      <th>RL</th>\n      <td>2264.0</td>\n      <td>NaN</td>\n      <td>NaN</td>\n      <td>NaN</td>\n    </tr>\n    <tr>\n      <th>RM</th>\n      <td>459.0</td>\n      <td>NaN</td>\n      <td>NaN</td>\n      <td>NaN</td>\n    </tr>\n    <tr>\n      <th>FV</th>\n      <td>139.0</td>\n      <td>NaN</td>\n      <td>NaN</td>\n      <td>NaN</td>\n    </tr>\n    <tr>\n      <th>RH</th>\n      <td>26.0</td>\n      <td>NaN</td>\n      <td>NaN</td>\n      <td>NaN</td>\n    </tr>\n    <tr>\n      <th>C (all)</th>\n      <td>25.0</td>\n      <td>NaN</td>\n      <td>NaN</td>\n      <td>NaN</td>\n    </tr>\n    <tr>\n      <th>Inside</th>\n      <td>NaN</td>\n      <td>2128.0</td>\n      <td>NaN</td>\n      <td>NaN</td>\n    </tr>\n    <tr>\n      <th>Corner</th>\n      <td>NaN</td>\n      <td>511.0</td>\n      <td>NaN</td>\n      <td>NaN</td>\n    </tr>\n    <tr>\n      <th>CulDSac</th>\n      <td>NaN</td>\n      <td>176.0</td>\n      <td>NaN</td>\n      <td>NaN</td>\n    </tr>\n    <tr>\n      <th>FR2</th>\n      <td>NaN</td>\n      <td>85.0</td>\n      <td>NaN</td>\n      <td>NaN</td>\n    </tr>\n    <tr>\n      <th>FR3</th>\n      <td>NaN</td>\n      <td>13.0</td>\n      <td>NaN</td>\n      <td>NaN</td>\n    </tr>\n    <tr>\n      <th>1Fam</th>\n      <td>NaN</td>\n      <td>NaN</td>\n      <td>2419.0</td>\n      <td>NaN</td>\n    </tr>\n    <tr>\n      <th>TwnhsE</th>\n      <td>NaN</td>\n      <td>NaN</td>\n      <td>227.0</td>\n      <td>NaN</td>\n    </tr>\n    <tr>\n      <th>Duplex</th>\n      <td>NaN</td>\n      <td>NaN</td>\n      <td>109.0</td>\n      <td>NaN</td>\n    </tr>\n    <tr>\n      <th>Twnhs</th>\n      <td>NaN</td>\n      <td>NaN</td>\n      <td>96.0</td>\n      <td>NaN</td>\n    </tr>\n    <tr>\n      <th>2fmCon</th>\n      <td>NaN</td>\n      <td>NaN</td>\n      <td>62.0</td>\n      <td>NaN</td>\n    </tr>\n    <tr>\n      <th>VinylSd</th>\n      <td>NaN</td>\n      <td>NaN</td>\n      <td>NaN</td>\n      <td>1025.0</td>\n    </tr>\n    <tr>\n      <th>MetalSd</th>\n      <td>NaN</td>\n      <td>NaN</td>\n      <td>NaN</td>\n      <td>449.0</td>\n    </tr>\n    <tr>\n      <th>HdBoard</th>\n      <td>NaN</td>\n      <td>NaN</td>\n      <td>NaN</td>\n      <td>442.0</td>\n    </tr>\n    <tr>\n      <th>Wd Sdng</th>\n      <td>NaN</td>\n      <td>NaN</td>\n      <td>NaN</td>\n      <td>409.0</td>\n    </tr>\n    <tr>\n      <th>Plywood</th>\n      <td>NaN</td>\n      <td>NaN</td>\n      <td>NaN</td>\n      <td>221.0</td>\n    </tr>\n    <tr>\n      <th>CemntBd</th>\n      <td>NaN</td>\n      <td>NaN</td>\n      <td>NaN</td>\n      <td>126.0</td>\n    </tr>\n    <tr>\n      <th>BrkFace</th>\n      <td>NaN</td>\n      <td>NaN</td>\n      <td>NaN</td>\n      <td>87.0</td>\n    </tr>\n    <tr>\n      <th>WdShing</th>\n      <td>NaN</td>\n      <td>NaN</td>\n      <td>NaN</td>\n      <td>56.0</td>\n    </tr>\n    <tr>\n      <th>AsbShng</th>\n      <td>NaN</td>\n      <td>NaN</td>\n      <td>NaN</td>\n      <td>43.0</td>\n    </tr>\n    <tr>\n      <th>Stucco</th>\n      <td>NaN</td>\n      <td>NaN</td>\n      <td>NaN</td>\n      <td>43.0</td>\n    </tr>\n    <tr>\n      <th>BrkComm</th>\n      <td>NaN</td>\n      <td>NaN</td>\n      <td>NaN</td>\n      <td>6.0</td>\n    </tr>\n    <tr>\n      <th>AsphShn</th>\n      <td>NaN</td>\n      <td>NaN</td>\n      <td>NaN</td>\n      <td>2.0</td>\n    </tr>\n    <tr>\n      <th>Stone</th>\n      <td>NaN</td>\n      <td>NaN</td>\n      <td>NaN</td>\n      <td>2.0</td>\n    </tr>\n    <tr>\n      <th>ImStucc</th>\n      <td>NaN</td>\n      <td>NaN</td>\n      <td>NaN</td>\n      <td>1.0</td>\n    </tr>\n    <tr>\n      <th>CBlock</th>\n      <td>NaN</td>\n      <td>NaN</td>\n      <td>NaN</td>\n      <td>1.0</td>\n    </tr>\n  </tbody>\n</table>\n</div>"
     },
     "execution_count": 103,
     "metadata": {},
     "output_type": "execute_result"
    }
   ],
   "source": [
    "list_of_columns = pd.DataFrame(p)\n",
    "list_of_columns"
   ],
   "metadata": {
    "collapsed": false,
    "ExecuteTime": {
     "end_time": "2023-06-21T19:13:24.872555Z",
     "start_time": "2023-06-21T19:13:24.866802Z"
    }
   }
  },
  {
   "cell_type": "code",
   "execution_count": 96,
   "outputs": [
    {
     "data": {
      "text/plain": "30"
     },
     "execution_count": 96,
     "metadata": {},
     "output_type": "execute_result"
    }
   ],
   "source": [
    "ctr = 0\n",
    "for i in p:\n",
    "\tctr += len(p[i])\n",
    "ctr"
   ],
   "metadata": {
    "collapsed": false,
    "ExecuteTime": {
     "end_time": "2023-06-21T19:10:12.103042Z",
     "start_time": "2023-06-21T19:10:12.096774Z"
    }
   }
  },
  {
   "cell_type": "code",
   "execution_count": 102,
   "outputs": [
    {
     "data": {
      "text/plain": "array(['RL', 'Inside', '1Fam', 'VinylSd'], dtype=object)"
     },
     "execution_count": 102,
     "metadata": {},
     "output_type": "execute_result"
    }
   ],
   "source": [
    "a = np.array(cat.loc[0,:])\n",
    "a"
   ],
   "metadata": {
    "collapsed": false,
    "ExecuteTime": {
     "end_time": "2023-06-21T19:12:24.746533Z",
     "start_time": "2023-06-21T19:12:24.742937Z"
    }
   }
  },
  {
   "cell_type": "code",
   "execution_count": 105,
   "outputs": [
    {
     "data": {
      "text/plain": "array(['RL', 'RM', 'FV', 'RH', 'C (all)', 'Inside', 'Corner', 'CulDSac',\n       'FR2', 'FR3', '1Fam', 'TwnhsE', 'Duplex', 'Twnhs', '2fmCon',\n       'VinylSd', 'MetalSd', 'HdBoard', 'Wd Sdng', 'Plywood', 'CemntBd',\n       'BrkFace', 'WdShing', 'AsbShng', 'Stucco', 'BrkComm', 'AsphShn',\n       'Stone', 'ImStucc', 'CBlock'], dtype=object)"
     },
     "execution_count": 105,
     "metadata": {},
     "output_type": "execute_result"
    }
   ],
   "source": [
    "b = list_of_columns.index.values\n",
    "b\n"
   ],
   "metadata": {
    "collapsed": false,
    "ExecuteTime": {
     "end_time": "2023-06-21T19:13:51.743059Z",
     "start_time": "2023-06-21T19:13:51.738488Z"
    }
   }
  },
  {
   "cell_type": "code",
   "execution_count": 115,
   "outputs": [
    {
     "data": {
      "text/plain": "array(['RM', 'FV', 'RH', 'C (all)', 'Inside', 'Corner', 'CulDSac', 'FR2',\n       'FR3', '1Fam', 'TwnhsE', 'Duplex', 'Twnhs', '2fmCon', 'VinylSd',\n       'MetalSd', 'HdBoard', 'Wd Sdng', 'Plywood', 'CemntBd', 'BrkFace',\n       'WdShing', 'AsbShng', 'Stucco', 'BrkComm', 'AsphShn', 'Stone',\n       'ImStucc', 'CBlock'], dtype=object)"
     },
     "execution_count": 115,
     "metadata": {},
     "output_type": "execute_result"
    }
   ],
   "source": [
    "b[b!=a[0]]"
   ],
   "metadata": {
    "collapsed": false,
    "ExecuteTime": {
     "end_time": "2023-06-21T19:23:39.993152Z",
     "start_time": "2023-06-21T19:23:39.986633Z"
    }
   }
  },
  {
   "cell_type": "code",
   "execution_count": 116,
   "outputs": [
    {
     "data": {
      "text/plain": "array(['RM', 'FV', 'RH', 'C (all)', 'Corner', 'CulDSac', 'FR2', 'FR3',\n       'TwnhsE', 'Duplex', 'Twnhs', '2fmCon', 'MetalSd', 'HdBoard',\n       'Wd Sdng', 'Plywood', 'CemntBd', 'BrkFace', 'WdShing', 'AsbShng',\n       'Stucco', 'BrkComm', 'AsphShn', 'Stone', 'ImStucc', 'CBlock'],\n      dtype=object)"
     },
     "execution_count": 116,
     "metadata": {},
     "output_type": "execute_result"
    }
   ],
   "source": [
    "for i in a:\n",
    "\tb = b[b!=i]\n",
    "b"
   ],
   "metadata": {
    "collapsed": false,
    "ExecuteTime": {
     "end_time": "2023-06-21T19:24:14.075434Z",
     "start_time": "2023-06-21T19:24:14.061782Z"
    }
   }
  },
  {
   "cell_type": "code",
   "execution_count": 123,
   "outputs": [
    {
     "data": {
      "text/plain": "       RM   FV   RH  C (all)  Corner  CulDSac  FR2  FR3  TwnhsE  Duplex  ...   \n0     0.0  0.0  1.0      0.0     0.0      0.0  0.0  1.0     0.0     0.0  ...  \\\n1     0.0  0.0  1.0      0.0     0.0      1.0  0.0  0.0     0.0     0.0  ...   \n2     0.0  0.0  1.0      0.0     0.0      0.0  0.0  1.0     0.0     0.0  ...   \n3     0.0  0.0  1.0      0.0     0.0      0.0  0.0  0.0     0.0     0.0  ...   \n4     0.0  0.0  1.0      0.0     0.0      1.0  0.0  0.0     0.0     0.0  ...   \n...   ...  ...  ...      ...     ...      ...  ...  ...     ...     ...  ...   \n2908  0.0  0.0  0.0      1.0     0.0      0.0  0.0  1.0     0.0     0.0  ...   \n2909  0.0  0.0  0.0      1.0     0.0      0.0  0.0  1.0     0.0     0.0  ...   \n2910  0.0  0.0  1.0      0.0     0.0      0.0  0.0  1.0     0.0     0.0  ...   \n2911  0.0  0.0  1.0      0.0     0.0      0.0  0.0  1.0     0.0     0.0  ...   \n2912  0.0  0.0  1.0      0.0     0.0      0.0  0.0  1.0     0.0     0.0  ...   \n\n      CemntBd  BrkFace  WdShing  AsbShng  Stucco  BrkComm  AsphShn  Stone   \n0         0.0      0.0      0.0      0.0     0.0      0.0      0.0    1.0  \\\n1         0.0      0.0      0.0      1.0     0.0      0.0      0.0    0.0   \n2         0.0      0.0      0.0      0.0     0.0      0.0      0.0    1.0   \n3         0.0      0.0      0.0      0.0     0.0      0.0      0.0    0.0   \n4         0.0      0.0      0.0      0.0     0.0      0.0      0.0    1.0   \n...       ...      ...      ...      ...     ...      ...      ...    ...   \n2908      1.0      0.0      0.0      0.0     0.0      0.0      0.0    0.0   \n2909      1.0      0.0      0.0      0.0     0.0      0.0      0.0    0.0   \n2910      0.0      0.0      0.0      0.0     0.0      0.0      0.0    1.0   \n2911      0.0      1.0      0.0      0.0     0.0      0.0      0.0    0.0   \n2912      0.0      1.0      0.0      0.0     0.0      0.0      0.0    0.0   \n\n      ImStucc  CBlock  \n0         0.0     0.0  \n1         0.0     0.0  \n2         0.0     0.0  \n3         1.0     0.0  \n4         0.0     0.0  \n...       ...     ...  \n2908      0.0     0.0  \n2909      0.0     0.0  \n2910      0.0     0.0  \n2911      0.0     0.0  \n2912      0.0     0.0  \n\n[2913 rows x 26 columns]",
      "text/html": "<div>\n<style scoped>\n    .dataframe tbody tr th:only-of-type {\n        vertical-align: middle;\n    }\n\n    .dataframe tbody tr th {\n        vertical-align: top;\n    }\n\n    .dataframe thead th {\n        text-align: right;\n    }\n</style>\n<table border=\"1\" class=\"dataframe\">\n  <thead>\n    <tr style=\"text-align: right;\">\n      <th></th>\n      <th>RM</th>\n      <th>FV</th>\n      <th>RH</th>\n      <th>C (all)</th>\n      <th>Corner</th>\n      <th>CulDSac</th>\n      <th>FR2</th>\n      <th>FR3</th>\n      <th>TwnhsE</th>\n      <th>Duplex</th>\n      <th>...</th>\n      <th>CemntBd</th>\n      <th>BrkFace</th>\n      <th>WdShing</th>\n      <th>AsbShng</th>\n      <th>Stucco</th>\n      <th>BrkComm</th>\n      <th>AsphShn</th>\n      <th>Stone</th>\n      <th>ImStucc</th>\n      <th>CBlock</th>\n    </tr>\n  </thead>\n  <tbody>\n    <tr>\n      <th>0</th>\n      <td>0.0</td>\n      <td>0.0</td>\n      <td>1.0</td>\n      <td>0.0</td>\n      <td>0.0</td>\n      <td>0.0</td>\n      <td>0.0</td>\n      <td>1.0</td>\n      <td>0.0</td>\n      <td>0.0</td>\n      <td>...</td>\n      <td>0.0</td>\n      <td>0.0</td>\n      <td>0.0</td>\n      <td>0.0</td>\n      <td>0.0</td>\n      <td>0.0</td>\n      <td>0.0</td>\n      <td>1.0</td>\n      <td>0.0</td>\n      <td>0.0</td>\n    </tr>\n    <tr>\n      <th>1</th>\n      <td>0.0</td>\n      <td>0.0</td>\n      <td>1.0</td>\n      <td>0.0</td>\n      <td>0.0</td>\n      <td>1.0</td>\n      <td>0.0</td>\n      <td>0.0</td>\n      <td>0.0</td>\n      <td>0.0</td>\n      <td>...</td>\n      <td>0.0</td>\n      <td>0.0</td>\n      <td>0.0</td>\n      <td>1.0</td>\n      <td>0.0</td>\n      <td>0.0</td>\n      <td>0.0</td>\n      <td>0.0</td>\n      <td>0.0</td>\n      <td>0.0</td>\n    </tr>\n    <tr>\n      <th>2</th>\n      <td>0.0</td>\n      <td>0.0</td>\n      <td>1.0</td>\n      <td>0.0</td>\n      <td>0.0</td>\n      <td>0.0</td>\n      <td>0.0</td>\n      <td>1.0</td>\n      <td>0.0</td>\n      <td>0.0</td>\n      <td>...</td>\n      <td>0.0</td>\n      <td>0.0</td>\n      <td>0.0</td>\n      <td>0.0</td>\n      <td>0.0</td>\n      <td>0.0</td>\n      <td>0.0</td>\n      <td>1.0</td>\n      <td>0.0</td>\n      <td>0.0</td>\n    </tr>\n    <tr>\n      <th>3</th>\n      <td>0.0</td>\n      <td>0.0</td>\n      <td>1.0</td>\n      <td>0.0</td>\n      <td>0.0</td>\n      <td>0.0</td>\n      <td>0.0</td>\n      <td>0.0</td>\n      <td>0.0</td>\n      <td>0.0</td>\n      <td>...</td>\n      <td>0.0</td>\n      <td>0.0</td>\n      <td>0.0</td>\n      <td>0.0</td>\n      <td>0.0</td>\n      <td>0.0</td>\n      <td>0.0</td>\n      <td>0.0</td>\n      <td>1.0</td>\n      <td>0.0</td>\n    </tr>\n    <tr>\n      <th>4</th>\n      <td>0.0</td>\n      <td>0.0</td>\n      <td>1.0</td>\n      <td>0.0</td>\n      <td>0.0</td>\n      <td>1.0</td>\n      <td>0.0</td>\n      <td>0.0</td>\n      <td>0.0</td>\n      <td>0.0</td>\n      <td>...</td>\n      <td>0.0</td>\n      <td>0.0</td>\n      <td>0.0</td>\n      <td>0.0</td>\n      <td>0.0</td>\n      <td>0.0</td>\n      <td>0.0</td>\n      <td>1.0</td>\n      <td>0.0</td>\n      <td>0.0</td>\n    </tr>\n    <tr>\n      <th>...</th>\n      <td>...</td>\n      <td>...</td>\n      <td>...</td>\n      <td>...</td>\n      <td>...</td>\n      <td>...</td>\n      <td>...</td>\n      <td>...</td>\n      <td>...</td>\n      <td>...</td>\n      <td>...</td>\n      <td>...</td>\n      <td>...</td>\n      <td>...</td>\n      <td>...</td>\n      <td>...</td>\n      <td>...</td>\n      <td>...</td>\n      <td>...</td>\n      <td>...</td>\n      <td>...</td>\n    </tr>\n    <tr>\n      <th>2908</th>\n      <td>0.0</td>\n      <td>0.0</td>\n      <td>0.0</td>\n      <td>1.0</td>\n      <td>0.0</td>\n      <td>0.0</td>\n      <td>0.0</td>\n      <td>1.0</td>\n      <td>0.0</td>\n      <td>0.0</td>\n      <td>...</td>\n      <td>1.0</td>\n      <td>0.0</td>\n      <td>0.0</td>\n      <td>0.0</td>\n      <td>0.0</td>\n      <td>0.0</td>\n      <td>0.0</td>\n      <td>0.0</td>\n      <td>0.0</td>\n      <td>0.0</td>\n    </tr>\n    <tr>\n      <th>2909</th>\n      <td>0.0</td>\n      <td>0.0</td>\n      <td>0.0</td>\n      <td>1.0</td>\n      <td>0.0</td>\n      <td>0.0</td>\n      <td>0.0</td>\n      <td>1.0</td>\n      <td>0.0</td>\n      <td>0.0</td>\n      <td>...</td>\n      <td>1.0</td>\n      <td>0.0</td>\n      <td>0.0</td>\n      <td>0.0</td>\n      <td>0.0</td>\n      <td>0.0</td>\n      <td>0.0</td>\n      <td>0.0</td>\n      <td>0.0</td>\n      <td>0.0</td>\n    </tr>\n    <tr>\n      <th>2910</th>\n      <td>0.0</td>\n      <td>0.0</td>\n      <td>1.0</td>\n      <td>0.0</td>\n      <td>0.0</td>\n      <td>0.0</td>\n      <td>0.0</td>\n      <td>1.0</td>\n      <td>0.0</td>\n      <td>0.0</td>\n      <td>...</td>\n      <td>0.0</td>\n      <td>0.0</td>\n      <td>0.0</td>\n      <td>0.0</td>\n      <td>0.0</td>\n      <td>0.0</td>\n      <td>0.0</td>\n      <td>1.0</td>\n      <td>0.0</td>\n      <td>0.0</td>\n    </tr>\n    <tr>\n      <th>2911</th>\n      <td>0.0</td>\n      <td>0.0</td>\n      <td>1.0</td>\n      <td>0.0</td>\n      <td>0.0</td>\n      <td>0.0</td>\n      <td>0.0</td>\n      <td>1.0</td>\n      <td>0.0</td>\n      <td>0.0</td>\n      <td>...</td>\n      <td>0.0</td>\n      <td>1.0</td>\n      <td>0.0</td>\n      <td>0.0</td>\n      <td>0.0</td>\n      <td>0.0</td>\n      <td>0.0</td>\n      <td>0.0</td>\n      <td>0.0</td>\n      <td>0.0</td>\n    </tr>\n    <tr>\n      <th>2912</th>\n      <td>0.0</td>\n      <td>0.0</td>\n      <td>1.0</td>\n      <td>0.0</td>\n      <td>0.0</td>\n      <td>0.0</td>\n      <td>0.0</td>\n      <td>1.0</td>\n      <td>0.0</td>\n      <td>0.0</td>\n      <td>...</td>\n      <td>0.0</td>\n      <td>1.0</td>\n      <td>0.0</td>\n      <td>0.0</td>\n      <td>0.0</td>\n      <td>0.0</td>\n      <td>0.0</td>\n      <td>0.0</td>\n      <td>0.0</td>\n      <td>0.0</td>\n    </tr>\n  </tbody>\n</table>\n<p>2913 rows × 26 columns</p>\n</div>"
     },
     "execution_count": 123,
     "metadata": {},
     "output_type": "execute_result"
    }
   ],
   "source": [
    "enc = OneHotEncoder(drop=\"first\")\n",
    "model = enc.fit(cat)\n",
    "k = model.transform(cat).toarray()\n",
    "list_of_columns = pd.DataFrame(p)\n",
    "a = np.array(cat.loc[0,:])\n",
    "b = list_of_columns.index.values\n",
    "for i in a:\n",
    "    b = b[b!=i]\n",
    "k = pd.DataFrame(data=k,columns=b)\n",
    "k"
   ],
   "metadata": {
    "collapsed": false,
    "ExecuteTime": {
     "end_time": "2023-06-21T19:28:47.608132Z",
     "start_time": "2023-06-21T19:28:47.588690Z"
    }
   }
  },
  {
   "cell_type": "code",
   "execution_count": 129,
   "outputs": [
    {
     "data": {
      "text/plain": "      MSSubClass  LotArea  OverallCond  YearBuilt  YearRemodAdd  BsmtFinSF2   \n0             60     8450            5       2003          2003         0.0  \\\n1             20     9600            8       1976          1976         0.0   \n2             60    11250            5       2001          2002         0.0   \n3             70     9550            5       1915          1970         0.0   \n4             60    14260            5       2000          2000         0.0   \n...          ...      ...          ...        ...           ...         ...   \n2914         160     1936            7       1970          1970         0.0   \n2915         160     1894            5       1970          1970         0.0   \n2916          20    20000            7       1960          1996         0.0   \n2917          85    10441            5       1992          1992         0.0   \n2918          60     9627            5       1993          1994         0.0   \n\n      TotalBsmtSF     SalePrice  \n0           856.0  208500.00000  \n1          1262.0  181500.00000  \n2           920.0  223500.00000  \n3           756.0  140000.00000  \n4          1145.0  250000.00000  \n...           ...           ...  \n2914        546.0  180921.19589  \n2915        546.0  180921.19589  \n2916       1224.0  180921.19589  \n2917        912.0  180921.19589  \n2918        996.0  180921.19589  \n\n[2913 rows x 8 columns]",
      "text/html": "<div>\n<style scoped>\n    .dataframe tbody tr th:only-of-type {\n        vertical-align: middle;\n    }\n\n    .dataframe tbody tr th {\n        vertical-align: top;\n    }\n\n    .dataframe thead th {\n        text-align: right;\n    }\n</style>\n<table border=\"1\" class=\"dataframe\">\n  <thead>\n    <tr style=\"text-align: right;\">\n      <th></th>\n      <th>MSSubClass</th>\n      <th>LotArea</th>\n      <th>OverallCond</th>\n      <th>YearBuilt</th>\n      <th>YearRemodAdd</th>\n      <th>BsmtFinSF2</th>\n      <th>TotalBsmtSF</th>\n      <th>SalePrice</th>\n    </tr>\n  </thead>\n  <tbody>\n    <tr>\n      <th>0</th>\n      <td>60</td>\n      <td>8450</td>\n      <td>5</td>\n      <td>2003</td>\n      <td>2003</td>\n      <td>0.0</td>\n      <td>856.0</td>\n      <td>208500.00000</td>\n    </tr>\n    <tr>\n      <th>1</th>\n      <td>20</td>\n      <td>9600</td>\n      <td>8</td>\n      <td>1976</td>\n      <td>1976</td>\n      <td>0.0</td>\n      <td>1262.0</td>\n      <td>181500.00000</td>\n    </tr>\n    <tr>\n      <th>2</th>\n      <td>60</td>\n      <td>11250</td>\n      <td>5</td>\n      <td>2001</td>\n      <td>2002</td>\n      <td>0.0</td>\n      <td>920.0</td>\n      <td>223500.00000</td>\n    </tr>\n    <tr>\n      <th>3</th>\n      <td>70</td>\n      <td>9550</td>\n      <td>5</td>\n      <td>1915</td>\n      <td>1970</td>\n      <td>0.0</td>\n      <td>756.0</td>\n      <td>140000.00000</td>\n    </tr>\n    <tr>\n      <th>4</th>\n      <td>60</td>\n      <td>14260</td>\n      <td>5</td>\n      <td>2000</td>\n      <td>2000</td>\n      <td>0.0</td>\n      <td>1145.0</td>\n      <td>250000.00000</td>\n    </tr>\n    <tr>\n      <th>...</th>\n      <td>...</td>\n      <td>...</td>\n      <td>...</td>\n      <td>...</td>\n      <td>...</td>\n      <td>...</td>\n      <td>...</td>\n      <td>...</td>\n    </tr>\n    <tr>\n      <th>2914</th>\n      <td>160</td>\n      <td>1936</td>\n      <td>7</td>\n      <td>1970</td>\n      <td>1970</td>\n      <td>0.0</td>\n      <td>546.0</td>\n      <td>180921.19589</td>\n    </tr>\n    <tr>\n      <th>2915</th>\n      <td>160</td>\n      <td>1894</td>\n      <td>5</td>\n      <td>1970</td>\n      <td>1970</td>\n      <td>0.0</td>\n      <td>546.0</td>\n      <td>180921.19589</td>\n    </tr>\n    <tr>\n      <th>2916</th>\n      <td>20</td>\n      <td>20000</td>\n      <td>7</td>\n      <td>1960</td>\n      <td>1996</td>\n      <td>0.0</td>\n      <td>1224.0</td>\n      <td>180921.19589</td>\n    </tr>\n    <tr>\n      <th>2917</th>\n      <td>85</td>\n      <td>10441</td>\n      <td>5</td>\n      <td>1992</td>\n      <td>1992</td>\n      <td>0.0</td>\n      <td>912.0</td>\n      <td>180921.19589</td>\n    </tr>\n    <tr>\n      <th>2918</th>\n      <td>60</td>\n      <td>9627</td>\n      <td>5</td>\n      <td>1993</td>\n      <td>1994</td>\n      <td>0.0</td>\n      <td>996.0</td>\n      <td>180921.19589</td>\n    </tr>\n  </tbody>\n</table>\n<p>2913 rows × 8 columns</p>\n</div>"
     },
     "execution_count": 129,
     "metadata": {},
     "output_type": "execute_result"
    }
   ],
   "source": [
    "num"
   ],
   "metadata": {
    "collapsed": false,
    "ExecuteTime": {
     "end_time": "2023-06-21T19:30:10.069531Z",
     "start_time": "2023-06-21T19:30:10.055383Z"
    }
   }
  },
  {
   "cell_type": "code",
   "execution_count": 149,
   "outputs": [
    {
     "data": {
      "text/plain": "      MSSubClass  LotArea  OverallCond  YearBuilt  YearRemodAdd  BsmtFinSF2   \n0             60     8450            5       2003          2003         0.0  \\\n1             20     9600            8       1976          1976         0.0   \n2             60    11250            5       2001          2002         0.0   \n3             70     9550            5       1915          1970         0.0   \n4             60    14260            5       2000          2000         0.0   \n...          ...      ...          ...        ...           ...         ...   \n2914         160     1936            7       1970          1970         0.0   \n2915         160     1894            5       1970          1970         0.0   \n2916          20    20000            7       1960          1996         0.0   \n2917          85    10441            5       1992          1992         0.0   \n2918          60     9627            5       1993          1994         0.0   \n\n      TotalBsmtSF   RM   FV   RH  ...  BrkFace  WdShing  AsbShng  Stucco   \n0           856.0  0.0  0.0  1.0  ...      0.0      0.0      0.0     0.0  \\\n1          1262.0  0.0  0.0  1.0  ...      0.0      0.0      1.0     0.0   \n2           920.0  0.0  0.0  1.0  ...      0.0      0.0      0.0     0.0   \n3           756.0  0.0  0.0  1.0  ...      0.0      0.0      0.0     0.0   \n4          1145.0  0.0  0.0  1.0  ...      0.0      0.0      0.0     0.0   \n...           ...  ...  ...  ...  ...      ...      ...      ...     ...   \n2914        546.0  NaN  NaN  NaN  ...      NaN      NaN      NaN     NaN   \n2915        546.0  NaN  NaN  NaN  ...      NaN      NaN      NaN     NaN   \n2916       1224.0  NaN  NaN  NaN  ...      NaN      NaN      NaN     NaN   \n2917        912.0  NaN  NaN  NaN  ...      NaN      NaN      NaN     NaN   \n2918        996.0  NaN  NaN  NaN  ...      NaN      NaN      NaN     NaN   \n\n      BrkComm  AsphShn  Stone  ImStucc  CBlock     SalePrice  \n0         0.0      0.0    1.0      0.0     0.0  208500.00000  \n1         0.0      0.0    0.0      0.0     0.0  181500.00000  \n2         0.0      0.0    1.0      0.0     0.0  223500.00000  \n3         0.0      0.0    0.0      1.0     0.0  140000.00000  \n4         0.0      0.0    1.0      0.0     0.0  250000.00000  \n...       ...      ...    ...      ...     ...           ...  \n2914      NaN      NaN    NaN      NaN     NaN  180921.19589  \n2915      NaN      NaN    NaN      NaN     NaN  180921.19589  \n2916      NaN      NaN    NaN      NaN     NaN  180921.19589  \n2917      NaN      NaN    NaN      NaN     NaN  180921.19589  \n2918      NaN      NaN    NaN      NaN     NaN  180921.19589  \n\n[2913 rows x 34 columns]",
      "text/html": "<div>\n<style scoped>\n    .dataframe tbody tr th:only-of-type {\n        vertical-align: middle;\n    }\n\n    .dataframe tbody tr th {\n        vertical-align: top;\n    }\n\n    .dataframe thead th {\n        text-align: right;\n    }\n</style>\n<table border=\"1\" class=\"dataframe\">\n  <thead>\n    <tr style=\"text-align: right;\">\n      <th></th>\n      <th>MSSubClass</th>\n      <th>LotArea</th>\n      <th>OverallCond</th>\n      <th>YearBuilt</th>\n      <th>YearRemodAdd</th>\n      <th>BsmtFinSF2</th>\n      <th>TotalBsmtSF</th>\n      <th>RM</th>\n      <th>FV</th>\n      <th>RH</th>\n      <th>...</th>\n      <th>BrkFace</th>\n      <th>WdShing</th>\n      <th>AsbShng</th>\n      <th>Stucco</th>\n      <th>BrkComm</th>\n      <th>AsphShn</th>\n      <th>Stone</th>\n      <th>ImStucc</th>\n      <th>CBlock</th>\n      <th>SalePrice</th>\n    </tr>\n  </thead>\n  <tbody>\n    <tr>\n      <th>0</th>\n      <td>60</td>\n      <td>8450</td>\n      <td>5</td>\n      <td>2003</td>\n      <td>2003</td>\n      <td>0.0</td>\n      <td>856.0</td>\n      <td>0.0</td>\n      <td>0.0</td>\n      <td>1.0</td>\n      <td>...</td>\n      <td>0.0</td>\n      <td>0.0</td>\n      <td>0.0</td>\n      <td>0.0</td>\n      <td>0.0</td>\n      <td>0.0</td>\n      <td>1.0</td>\n      <td>0.0</td>\n      <td>0.0</td>\n      <td>208500.00000</td>\n    </tr>\n    <tr>\n      <th>1</th>\n      <td>20</td>\n      <td>9600</td>\n      <td>8</td>\n      <td>1976</td>\n      <td>1976</td>\n      <td>0.0</td>\n      <td>1262.0</td>\n      <td>0.0</td>\n      <td>0.0</td>\n      <td>1.0</td>\n      <td>...</td>\n      <td>0.0</td>\n      <td>0.0</td>\n      <td>1.0</td>\n      <td>0.0</td>\n      <td>0.0</td>\n      <td>0.0</td>\n      <td>0.0</td>\n      <td>0.0</td>\n      <td>0.0</td>\n      <td>181500.00000</td>\n    </tr>\n    <tr>\n      <th>2</th>\n      <td>60</td>\n      <td>11250</td>\n      <td>5</td>\n      <td>2001</td>\n      <td>2002</td>\n      <td>0.0</td>\n      <td>920.0</td>\n      <td>0.0</td>\n      <td>0.0</td>\n      <td>1.0</td>\n      <td>...</td>\n      <td>0.0</td>\n      <td>0.0</td>\n      <td>0.0</td>\n      <td>0.0</td>\n      <td>0.0</td>\n      <td>0.0</td>\n      <td>1.0</td>\n      <td>0.0</td>\n      <td>0.0</td>\n      <td>223500.00000</td>\n    </tr>\n    <tr>\n      <th>3</th>\n      <td>70</td>\n      <td>9550</td>\n      <td>5</td>\n      <td>1915</td>\n      <td>1970</td>\n      <td>0.0</td>\n      <td>756.0</td>\n      <td>0.0</td>\n      <td>0.0</td>\n      <td>1.0</td>\n      <td>...</td>\n      <td>0.0</td>\n      <td>0.0</td>\n      <td>0.0</td>\n      <td>0.0</td>\n      <td>0.0</td>\n      <td>0.0</td>\n      <td>0.0</td>\n      <td>1.0</td>\n      <td>0.0</td>\n      <td>140000.00000</td>\n    </tr>\n    <tr>\n      <th>4</th>\n      <td>60</td>\n      <td>14260</td>\n      <td>5</td>\n      <td>2000</td>\n      <td>2000</td>\n      <td>0.0</td>\n      <td>1145.0</td>\n      <td>0.0</td>\n      <td>0.0</td>\n      <td>1.0</td>\n      <td>...</td>\n      <td>0.0</td>\n      <td>0.0</td>\n      <td>0.0</td>\n      <td>0.0</td>\n      <td>0.0</td>\n      <td>0.0</td>\n      <td>1.0</td>\n      <td>0.0</td>\n      <td>0.0</td>\n      <td>250000.00000</td>\n    </tr>\n    <tr>\n      <th>...</th>\n      <td>...</td>\n      <td>...</td>\n      <td>...</td>\n      <td>...</td>\n      <td>...</td>\n      <td>...</td>\n      <td>...</td>\n      <td>...</td>\n      <td>...</td>\n      <td>...</td>\n      <td>...</td>\n      <td>...</td>\n      <td>...</td>\n      <td>...</td>\n      <td>...</td>\n      <td>...</td>\n      <td>...</td>\n      <td>...</td>\n      <td>...</td>\n      <td>...</td>\n      <td>...</td>\n    </tr>\n    <tr>\n      <th>2914</th>\n      <td>160</td>\n      <td>1936</td>\n      <td>7</td>\n      <td>1970</td>\n      <td>1970</td>\n      <td>0.0</td>\n      <td>546.0</td>\n      <td>NaN</td>\n      <td>NaN</td>\n      <td>NaN</td>\n      <td>...</td>\n      <td>NaN</td>\n      <td>NaN</td>\n      <td>NaN</td>\n      <td>NaN</td>\n      <td>NaN</td>\n      <td>NaN</td>\n      <td>NaN</td>\n      <td>NaN</td>\n      <td>NaN</td>\n      <td>180921.19589</td>\n    </tr>\n    <tr>\n      <th>2915</th>\n      <td>160</td>\n      <td>1894</td>\n      <td>5</td>\n      <td>1970</td>\n      <td>1970</td>\n      <td>0.0</td>\n      <td>546.0</td>\n      <td>NaN</td>\n      <td>NaN</td>\n      <td>NaN</td>\n      <td>...</td>\n      <td>NaN</td>\n      <td>NaN</td>\n      <td>NaN</td>\n      <td>NaN</td>\n      <td>NaN</td>\n      <td>NaN</td>\n      <td>NaN</td>\n      <td>NaN</td>\n      <td>NaN</td>\n      <td>180921.19589</td>\n    </tr>\n    <tr>\n      <th>2916</th>\n      <td>20</td>\n      <td>20000</td>\n      <td>7</td>\n      <td>1960</td>\n      <td>1996</td>\n      <td>0.0</td>\n      <td>1224.0</td>\n      <td>NaN</td>\n      <td>NaN</td>\n      <td>NaN</td>\n      <td>...</td>\n      <td>NaN</td>\n      <td>NaN</td>\n      <td>NaN</td>\n      <td>NaN</td>\n      <td>NaN</td>\n      <td>NaN</td>\n      <td>NaN</td>\n      <td>NaN</td>\n      <td>NaN</td>\n      <td>180921.19589</td>\n    </tr>\n    <tr>\n      <th>2917</th>\n      <td>85</td>\n      <td>10441</td>\n      <td>5</td>\n      <td>1992</td>\n      <td>1992</td>\n      <td>0.0</td>\n      <td>912.0</td>\n      <td>NaN</td>\n      <td>NaN</td>\n      <td>NaN</td>\n      <td>...</td>\n      <td>NaN</td>\n      <td>NaN</td>\n      <td>NaN</td>\n      <td>NaN</td>\n      <td>NaN</td>\n      <td>NaN</td>\n      <td>NaN</td>\n      <td>NaN</td>\n      <td>NaN</td>\n      <td>180921.19589</td>\n    </tr>\n    <tr>\n      <th>2918</th>\n      <td>60</td>\n      <td>9627</td>\n      <td>5</td>\n      <td>1993</td>\n      <td>1994</td>\n      <td>0.0</td>\n      <td>996.0</td>\n      <td>NaN</td>\n      <td>NaN</td>\n      <td>NaN</td>\n      <td>...</td>\n      <td>NaN</td>\n      <td>NaN</td>\n      <td>NaN</td>\n      <td>NaN</td>\n      <td>NaN</td>\n      <td>NaN</td>\n      <td>NaN</td>\n      <td>NaN</td>\n      <td>NaN</td>\n      <td>180921.19589</td>\n    </tr>\n  </tbody>\n</table>\n<p>2913 rows × 34 columns</p>\n</div>"
     },
     "execution_count": 149,
     "metadata": {},
     "output_type": "execute_result"
    }
   ],
   "source": [
    "a1 = list(num.columns.values)\n",
    "a2 = list(k.columns.values)\n",
    "lis = a1+a2\n",
    "ls = pd.DataFrame(columns=lis)\n",
    "ls[a1] = num\n",
    "ls[a2] = k\n",
    "sales = ls[\"SalePrice\"]\n",
    "ls.drop(\"SalePrice\",axis=1,inplace=True)\n",
    "ls[\"SalePrice\"] = sales\n",
    "ls"
   ],
   "metadata": {
    "collapsed": false,
    "ExecuteTime": {
     "end_time": "2023-06-21T19:40:00.129721Z",
     "start_time": "2023-06-21T19:40:00.104589Z"
    }
   }
  },
  {
   "cell_type": "code",
   "execution_count": 1,
   "outputs": [
    {
     "ename": "NameError",
     "evalue": "name 'df' is not defined",
     "output_type": "error",
     "traceback": [
      "\u001B[0;31m---------------------------------------------------------------------------\u001B[0m",
      "\u001B[0;31mNameError\u001B[0m                                 Traceback (most recent call last)",
      "Cell \u001B[0;32mIn[1], line 1\u001B[0m\n\u001B[0;32m----> 1\u001B[0m \u001B[43mdf\u001B[49m\n",
      "\u001B[0;31mNameError\u001B[0m: name 'df' is not defined"
     ]
    }
   ],
   "source": [
    "df"
   ],
   "metadata": {
    "collapsed": false,
    "ExecuteTime": {
     "end_time": "2023-06-21T19:52:16.802423Z",
     "start_time": "2023-06-21T19:52:16.706773Z"
    }
   }
  },
  {
   "cell_type": "code",
   "execution_count": null,
   "outputs": [],
   "source": [],
   "metadata": {
    "collapsed": false
   }
  }
 ],
 "metadata": {
  "kernelspec": {
   "display_name": "Python 3",
   "language": "python",
   "name": "python3"
  },
  "language_info": {
   "codemirror_mode": {
    "name": "ipython",
    "version": 2
   },
   "file_extension": ".py",
   "mimetype": "text/x-python",
   "name": "python",
   "nbconvert_exporter": "python",
   "pygments_lexer": "ipython2",
   "version": "2.7.6"
  }
 },
 "nbformat": 4,
 "nbformat_minor": 0
}
