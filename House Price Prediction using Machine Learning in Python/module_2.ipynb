{
 "cells": [
  {
   "cell_type": "code",
   "execution_count": 126,
   "metadata": {
    "collapsed": true,
    "ExecuteTime": {
     "end_time": "2023-06-21T22:24:07.035407Z",
     "start_time": "2023-06-21T22:24:07.033601Z"
    }
   },
   "outputs": [],
   "source": [
    "import numpy as np\n",
    "import pandas as pd\n",
    "import matplotlib.pyplot as plt\n",
    "%matplotlib inline\n",
    "import seaborn as sns\n",
    "sns.set()\n",
    "from sklearn.preprocessing import OneHotEncoder\n",
    "from sklearn.model_selection import train_test_split\n",
    "from sklearn.linear_model import LinearRegression,Ridge\n",
    "from sklearn.ensemble import RandomForestRegressor\n",
    "from sklearn.svm import SVR\n",
    "from sklearn.metrics import *\n",
    "import math"
   ]
  },
  {
   "cell_type": "code",
   "execution_count": 127,
   "outputs": [],
   "source": [
    "def load_dataset():\n",
    "    #write your code here\n",
    "    dataset = pd.read_csv(\"HousePricePrediction.csv\")\n",
    "    return dataset\n",
    "\n",
    "def dataframe_shape():\n",
    "    dataset = load_dataset()\n",
    "    shape = dataset.shape\n",
    "    return shape"
   ],
   "metadata": {
    "collapsed": false,
    "ExecuteTime": {
     "end_time": "2023-06-21T22:24:07.204913Z",
     "start_time": "2023-06-21T22:24:07.201315Z"
    }
   }
  },
  {
   "cell_type": "code",
   "execution_count": 128,
   "outputs": [],
   "source": [
    "def get_categorical_numerical_features():\n",
    "    #This function should return the list of both categorical and numberical feautures\n",
    "    dataset = load_dataset()\n",
    "    dt = dataset.dtypes\n",
    "    num = dt[dt!=\"object\"]\n",
    "    cat = dt[dt==\"object\"]\n",
    "    numerical_columns = num.index.values\n",
    "    categorical_columns = cat.index.values\n",
    "    return categorical_columns, numerical_columns"
   ],
   "metadata": {
    "collapsed": false,
    "ExecuteTime": {
     "end_time": "2023-06-21T22:24:07.420636Z",
     "start_time": "2023-06-21T22:24:07.414774Z"
    }
   }
  },
  {
   "cell_type": "code",
   "execution_count": 129,
   "outputs": [],
   "source": [
    "def sum_of_null_values():\n",
    "    #This function should return the sum of null values in all column in the dataset\n",
    "    # write your code here\n",
    "    dataset = load_dataset()\n",
    "    sumofnull = dataset.isnull().sum()\n",
    "    return sumofnull"
   ],
   "metadata": {
    "collapsed": false,
    "ExecuteTime": {
     "end_time": "2023-06-21T22:24:07.601571Z",
     "start_time": "2023-06-21T22:24:07.595990Z"
    }
   }
  },
  {
   "cell_type": "code",
   "execution_count": 130,
   "outputs": [],
   "source": [
    "def fill_missing_values_salesprice_col():\n",
    "    # write your code here\n",
    "    #From the previous task result, you may have noticed our target variable has a higher number of missing values. We can't drop these rows because it will affect efficiency. The empty space needs to be filled with the values that are appropriate.\n",
    "    #Fill the 'SalePrice' our target column with mean values.\n",
    "    dataset = load_dataset()\n",
    "    sale = dataset[\"SalePrice\"].fillna(dataset[\"SalePrice\"].mean())\n",
    "    dataset[\"SalePrice\"] = sale\n",
    "    return dataset\n",
    "\n",
    "df = fill_missing_values_salesprice_col()"
   ],
   "metadata": {
    "collapsed": false,
    "ExecuteTime": {
     "end_time": "2023-06-21T22:24:07.795576Z",
     "start_time": "2023-06-21T22:24:07.784873Z"
    }
   }
  },
  {
   "cell_type": "code",
   "execution_count": 131,
   "outputs": [],
   "source": [
    "def dataframe_without_nan_values():\n",
    "    # write your code here\n",
    "    #Use \"dropna\" method to remove all the nan containing rows and return the final dataframe.\n",
    "    dataset = fill_missing_values_salesprice_col()\n",
    "    new_dataset = dataset.dropna(axis=0,inplace=False)\n",
    "    return new_dataset\n",
    "\n",
    "df = dataframe_without_nan_values()"
   ],
   "metadata": {
    "collapsed": false,
    "ExecuteTime": {
     "end_time": "2023-06-21T22:24:08.012860Z",
     "start_time": "2023-06-21T22:24:08.004320Z"
    }
   }
  },
  {
   "cell_type": "code",
   "execution_count": 132,
   "outputs": [],
   "source": [
    "def drop_unneccesary_columns():\n",
    "    # write your code here\n",
    "    df = dataframe_without_nan_values()\n",
    "    df_new = df.drop(\"Id\",axis=1,inplace=False)\n",
    "    return df_new\n",
    "\n",
    "df = drop_unneccesary_columns()"
   ],
   "metadata": {
    "collapsed": false,
    "ExecuteTime": {
     "end_time": "2023-06-21T22:24:08.180924Z",
     "start_time": "2023-06-21T22:24:08.170657Z"
    }
   }
  },
  {
   "cell_type": "code",
   "execution_count": 133,
   "outputs": [],
   "source": [
    "def corr_matrix():\n",
    "    df = drop_unneccesary_columns()\n",
    "    new_df = df[[\"SalePrice\",\"TotalBsmtSF\",\"LotArea\",\"YearBuilt\",\"OverallCond\",\"MSSubClass\",\"YearRemodAdd\",\"BsmtFinSF2\"]]\n",
    "    corr = new_df.corr()\n",
    "    return corr"
   ],
   "metadata": {
    "collapsed": false,
    "ExecuteTime": {
     "end_time": "2023-06-21T22:24:08.386812Z",
     "start_time": "2023-06-21T22:24:08.381973Z"
    }
   }
  },
  {
   "cell_type": "code",
   "execution_count": 134,
   "outputs": [],
   "source": [
    "def unique_value_count_in_each_category():\n",
    "    df = drop_unneccesary_columns()\n",
    "    k = df.dtypes\n",
    "    num_types = k[k!=\"object\"]\n",
    "    cat_types = k[k==\"object\"]\n",
    "    num = df[num_types.index.values]\n",
    "    cat = df[cat_types.index.values]\n",
    "    counts = dict()\n",
    "    for i in cat:\n",
    "        uni = cat[i].value_counts()\n",
    "        l = dict(uni)\n",
    "        counts[i] = l\n",
    "    return counts"
   ],
   "metadata": {
    "collapsed": false,
    "ExecuteTime": {
     "end_time": "2023-06-21T22:24:08.554326Z",
     "start_time": "2023-06-21T22:24:08.549481Z"
    }
   }
  },
  {
   "cell_type": "code",
   "execution_count": 135,
   "outputs": [
    {
     "name": "stderr",
     "output_type": "stream",
     "text": [
      "/var/folders/jr/n6xg6f857cgdlh5dpc_fd2ym0000gn/T/ipykernel_1381/2970372526.py:8: SettingWithCopyWarning: \n",
      "A value is trying to be set on a copy of a slice from a DataFrame.\n",
      "Try using .loc[row_indexer,col_indexer] = value instead\n",
      "\n",
      "See the caveats in the documentation: https://pandas.pydata.org/pandas-docs/stable/user_guide/indexing.html#returning-a-view-versus-a-copy\n",
      "  cat[i] = cat[i].map({True:1,False:0})\n"
     ]
    }
   ],
   "source": [
    "df = drop_unneccesary_columns()\n",
    "gf = pd.get_dummies(df)\n",
    "types = gf.dtypes\n",
    "cat_1 = gf[types[types==bool].index.values]\n",
    "cat = gf[types[types==bool].index.values]\n",
    "num = gf[types[types!=bool].index.values]\n",
    "for i in cat:\n",
    "    cat[i] = cat[i].map({True:1,False:0})"
   ],
   "metadata": {
    "collapsed": false,
    "ExecuteTime": {
     "end_time": "2023-06-21T22:24:08.755849Z",
     "start_time": "2023-06-21T22:24:08.731043Z"
    }
   }
  },
  {
   "cell_type": "code",
   "execution_count": 136,
   "outputs": [
    {
     "data": {
      "text/plain": "      MSSubClass  LotArea  OverallCond  YearBuilt  YearRemodAdd  BsmtFinSF2   \n0             60     8450            5       2003          2003         0.0  \\\n1             20     9600            8       1976          1976         0.0   \n2             60    11250            5       2001          2002         0.0   \n3             70     9550            5       1915          1970         0.0   \n4             60    14260            5       2000          2000         0.0   \n...          ...      ...          ...        ...           ...         ...   \n2914         160     1936            7       1970          1970         0.0   \n2915         160     1894            5       1970          1970         0.0   \n2916          20    20000            7       1960          1996         0.0   \n2917          85    10441            5       1992          1992         0.0   \n2918          60     9627            5       1993          1994         0.0   \n\n      TotalBsmtSF     SalePrice  MSZoning_C (all)  MSZoning_FV  ...   \n0           856.0  208500.00000                 0            0  ...  \\\n1          1262.0  181500.00000                 0            0  ...   \n2           920.0  223500.00000                 0            0  ...   \n3           756.0  140000.00000                 0            0  ...   \n4          1145.0  250000.00000                 0            0  ...   \n...           ...           ...               ...          ...  ...   \n2914        546.0  180921.19589                 0            0  ...   \n2915        546.0  180921.19589                 0            0  ...   \n2916       1224.0  180921.19589                 0            0  ...   \n2917        912.0  180921.19589                 0            0  ...   \n2918        996.0  180921.19589                 0            0  ...   \n\n      Exterior1st_CemntBd  Exterior1st_HdBoard  Exterior1st_ImStucc   \n0                       0                    0                    0  \\\n1                       0                    0                    0   \n2                       0                    0                    0   \n3                       0                    0                    0   \n4                       0                    0                    0   \n...                   ...                  ...                  ...   \n2914                    1                    0                    0   \n2915                    1                    0                    0   \n2916                    0                    0                    0   \n2917                    0                    1                    0   \n2918                    0                    1                    0   \n\n      Exterior1st_MetalSd  Exterior1st_Plywood  Exterior1st_Stone   \n0                       0                    0                  0  \\\n1                       1                    0                  0   \n2                       0                    0                  0   \n3                       0                    0                  0   \n4                       0                    0                  0   \n...                   ...                  ...                ...   \n2914                    0                    0                  0   \n2915                    0                    0                  0   \n2916                    0                    0                  0   \n2917                    0                    0                  0   \n2918                    0                    0                  0   \n\n      Exterior1st_Stucco  Exterior1st_VinylSd  Exterior1st_Wd Sdng   \n0                      0                    1                    0  \\\n1                      0                    0                    0   \n2                      0                    1                    0   \n3                      0                    0                    1   \n4                      0                    1                    0   \n...                  ...                  ...                  ...   \n2914                   0                    0                    0   \n2915                   0                    0                    0   \n2916                   0                    1                    0   \n2917                   0                    0                    0   \n2918                   0                    0                    0   \n\n      Exterior1st_WdShing  \n0                       0  \n1                       0  \n2                       0  \n3                       0  \n4                       0  \n...                   ...  \n2914                    0  \n2915                    0  \n2916                    0  \n2917                    0  \n2918                    0  \n\n[2913 rows x 38 columns]",
      "text/html": "<div>\n<style scoped>\n    .dataframe tbody tr th:only-of-type {\n        vertical-align: middle;\n    }\n\n    .dataframe tbody tr th {\n        vertical-align: top;\n    }\n\n    .dataframe thead th {\n        text-align: right;\n    }\n</style>\n<table border=\"1\" class=\"dataframe\">\n  <thead>\n    <tr style=\"text-align: right;\">\n      <th></th>\n      <th>MSSubClass</th>\n      <th>LotArea</th>\n      <th>OverallCond</th>\n      <th>YearBuilt</th>\n      <th>YearRemodAdd</th>\n      <th>BsmtFinSF2</th>\n      <th>TotalBsmtSF</th>\n      <th>SalePrice</th>\n      <th>MSZoning_C (all)</th>\n      <th>MSZoning_FV</th>\n      <th>...</th>\n      <th>Exterior1st_CemntBd</th>\n      <th>Exterior1st_HdBoard</th>\n      <th>Exterior1st_ImStucc</th>\n      <th>Exterior1st_MetalSd</th>\n      <th>Exterior1st_Plywood</th>\n      <th>Exterior1st_Stone</th>\n      <th>Exterior1st_Stucco</th>\n      <th>Exterior1st_VinylSd</th>\n      <th>Exterior1st_Wd Sdng</th>\n      <th>Exterior1st_WdShing</th>\n    </tr>\n  </thead>\n  <tbody>\n    <tr>\n      <th>0</th>\n      <td>60</td>\n      <td>8450</td>\n      <td>5</td>\n      <td>2003</td>\n      <td>2003</td>\n      <td>0.0</td>\n      <td>856.0</td>\n      <td>208500.00000</td>\n      <td>0</td>\n      <td>0</td>\n      <td>...</td>\n      <td>0</td>\n      <td>0</td>\n      <td>0</td>\n      <td>0</td>\n      <td>0</td>\n      <td>0</td>\n      <td>0</td>\n      <td>1</td>\n      <td>0</td>\n      <td>0</td>\n    </tr>\n    <tr>\n      <th>1</th>\n      <td>20</td>\n      <td>9600</td>\n      <td>8</td>\n      <td>1976</td>\n      <td>1976</td>\n      <td>0.0</td>\n      <td>1262.0</td>\n      <td>181500.00000</td>\n      <td>0</td>\n      <td>0</td>\n      <td>...</td>\n      <td>0</td>\n      <td>0</td>\n      <td>0</td>\n      <td>1</td>\n      <td>0</td>\n      <td>0</td>\n      <td>0</td>\n      <td>0</td>\n      <td>0</td>\n      <td>0</td>\n    </tr>\n    <tr>\n      <th>2</th>\n      <td>60</td>\n      <td>11250</td>\n      <td>5</td>\n      <td>2001</td>\n      <td>2002</td>\n      <td>0.0</td>\n      <td>920.0</td>\n      <td>223500.00000</td>\n      <td>0</td>\n      <td>0</td>\n      <td>...</td>\n      <td>0</td>\n      <td>0</td>\n      <td>0</td>\n      <td>0</td>\n      <td>0</td>\n      <td>0</td>\n      <td>0</td>\n      <td>1</td>\n      <td>0</td>\n      <td>0</td>\n    </tr>\n    <tr>\n      <th>3</th>\n      <td>70</td>\n      <td>9550</td>\n      <td>5</td>\n      <td>1915</td>\n      <td>1970</td>\n      <td>0.0</td>\n      <td>756.0</td>\n      <td>140000.00000</td>\n      <td>0</td>\n      <td>0</td>\n      <td>...</td>\n      <td>0</td>\n      <td>0</td>\n      <td>0</td>\n      <td>0</td>\n      <td>0</td>\n      <td>0</td>\n      <td>0</td>\n      <td>0</td>\n      <td>1</td>\n      <td>0</td>\n    </tr>\n    <tr>\n      <th>4</th>\n      <td>60</td>\n      <td>14260</td>\n      <td>5</td>\n      <td>2000</td>\n      <td>2000</td>\n      <td>0.0</td>\n      <td>1145.0</td>\n      <td>250000.00000</td>\n      <td>0</td>\n      <td>0</td>\n      <td>...</td>\n      <td>0</td>\n      <td>0</td>\n      <td>0</td>\n      <td>0</td>\n      <td>0</td>\n      <td>0</td>\n      <td>0</td>\n      <td>1</td>\n      <td>0</td>\n      <td>0</td>\n    </tr>\n    <tr>\n      <th>...</th>\n      <td>...</td>\n      <td>...</td>\n      <td>...</td>\n      <td>...</td>\n      <td>...</td>\n      <td>...</td>\n      <td>...</td>\n      <td>...</td>\n      <td>...</td>\n      <td>...</td>\n      <td>...</td>\n      <td>...</td>\n      <td>...</td>\n      <td>...</td>\n      <td>...</td>\n      <td>...</td>\n      <td>...</td>\n      <td>...</td>\n      <td>...</td>\n      <td>...</td>\n      <td>...</td>\n    </tr>\n    <tr>\n      <th>2914</th>\n      <td>160</td>\n      <td>1936</td>\n      <td>7</td>\n      <td>1970</td>\n      <td>1970</td>\n      <td>0.0</td>\n      <td>546.0</td>\n      <td>180921.19589</td>\n      <td>0</td>\n      <td>0</td>\n      <td>...</td>\n      <td>1</td>\n      <td>0</td>\n      <td>0</td>\n      <td>0</td>\n      <td>0</td>\n      <td>0</td>\n      <td>0</td>\n      <td>0</td>\n      <td>0</td>\n      <td>0</td>\n    </tr>\n    <tr>\n      <th>2915</th>\n      <td>160</td>\n      <td>1894</td>\n      <td>5</td>\n      <td>1970</td>\n      <td>1970</td>\n      <td>0.0</td>\n      <td>546.0</td>\n      <td>180921.19589</td>\n      <td>0</td>\n      <td>0</td>\n      <td>...</td>\n      <td>1</td>\n      <td>0</td>\n      <td>0</td>\n      <td>0</td>\n      <td>0</td>\n      <td>0</td>\n      <td>0</td>\n      <td>0</td>\n      <td>0</td>\n      <td>0</td>\n    </tr>\n    <tr>\n      <th>2916</th>\n      <td>20</td>\n      <td>20000</td>\n      <td>7</td>\n      <td>1960</td>\n      <td>1996</td>\n      <td>0.0</td>\n      <td>1224.0</td>\n      <td>180921.19589</td>\n      <td>0</td>\n      <td>0</td>\n      <td>...</td>\n      <td>0</td>\n      <td>0</td>\n      <td>0</td>\n      <td>0</td>\n      <td>0</td>\n      <td>0</td>\n      <td>0</td>\n      <td>1</td>\n      <td>0</td>\n      <td>0</td>\n    </tr>\n    <tr>\n      <th>2917</th>\n      <td>85</td>\n      <td>10441</td>\n      <td>5</td>\n      <td>1992</td>\n      <td>1992</td>\n      <td>0.0</td>\n      <td>912.0</td>\n      <td>180921.19589</td>\n      <td>0</td>\n      <td>0</td>\n      <td>...</td>\n      <td>0</td>\n      <td>1</td>\n      <td>0</td>\n      <td>0</td>\n      <td>0</td>\n      <td>0</td>\n      <td>0</td>\n      <td>0</td>\n      <td>0</td>\n      <td>0</td>\n    </tr>\n    <tr>\n      <th>2918</th>\n      <td>60</td>\n      <td>9627</td>\n      <td>5</td>\n      <td>1993</td>\n      <td>1994</td>\n      <td>0.0</td>\n      <td>996.0</td>\n      <td>180921.19589</td>\n      <td>0</td>\n      <td>0</td>\n      <td>...</td>\n      <td>0</td>\n      <td>1</td>\n      <td>0</td>\n      <td>0</td>\n      <td>0</td>\n      <td>0</td>\n      <td>0</td>\n      <td>0</td>\n      <td>0</td>\n      <td>0</td>\n    </tr>\n  </tbody>\n</table>\n<p>2913 rows × 38 columns</p>\n</div>"
     },
     "execution_count": 136,
     "metadata": {},
     "output_type": "execute_result"
    }
   ],
   "source": [
    "df_encoded = pd.DataFrame(columns=(list(num.columns.values)+list(cat.columns.values)))\n",
    "df_encoded[num.columns.values] = num\n",
    "df_encoded[cat.columns.values] = cat\n",
    "df_encoded"
   ],
   "metadata": {
    "collapsed": false,
    "ExecuteTime": {
     "end_time": "2023-06-21T22:24:08.938720Z",
     "start_time": "2023-06-21T22:24:08.925019Z"
    }
   }
  },
  {
   "cell_type": "code",
   "execution_count": 137,
   "outputs": [
    {
     "name": "stderr",
     "output_type": "stream",
     "text": [
      "/var/folders/jr/n6xg6f857cgdlh5dpc_fd2ym0000gn/T/ipykernel_1381/2782275937.py:10: SettingWithCopyWarning: \n",
      "A value is trying to be set on a copy of a slice from a DataFrame.\n",
      "Try using .loc[row_indexer,col_indexer] = value instead\n",
      "\n",
      "See the caveats in the documentation: https://pandas.pydata.org/pandas-docs/stable/user_guide/indexing.html#returning-a-view-versus-a-copy\n",
      "  cat[i] = cat[i].map({True:1,False:0})\n"
     ]
    }
   ],
   "source": [
    "def one_hot_encoding():\n",
    "    # write your code here\n",
    "    #Do one hot encoding for all four categorical features and return the updated dataframe.\n",
    "    df = drop_unneccesary_columns()\n",
    "    gf = pd.get_dummies(df)\n",
    "    types = gf.dtypes\n",
    "    cat = gf[types[types==bool].index.values]\n",
    "    num = gf[types[types!=bool].index.values]\n",
    "    for i in cat:\n",
    "        cat[i] = cat[i].map({True:1,False:0})\n",
    "    df_encoded = pd.DataFrame(columns=(list(num.columns.values)+list(cat.columns.values)))\n",
    "    df_encoded[num.columns.values] = num\n",
    "    df_encoded[cat.columns.values] = cat\n",
    "    return df_encoded\n",
    "\n",
    "data = one_hot_encoding()"
   ],
   "metadata": {
    "collapsed": false,
    "ExecuteTime": {
     "end_time": "2023-06-21T22:24:09.132572Z",
     "start_time": "2023-06-21T22:24:09.104707Z"
    }
   }
  },
  {
   "cell_type": "code",
   "execution_count": 138,
   "outputs": [],
   "source": [
    "def split_data():\n",
    "    # write your code here\n",
    "    df = one_hot_encoding()\n",
    "    X = df.drop(\"SalePrice\",axis=1,inplace=False)\n",
    "    Y = df[\"SalePrice\"]\n",
    "    X_train, X_valid, Y_train, Y_valid = train_test_split(X,Y,train_size=0.8,test_size=0.2,random_state=0)\n",
    "    return X_train, X_valid, Y_train, Y_valid"
   ],
   "metadata": {
    "collapsed": false,
    "ExecuteTime": {
     "end_time": "2023-06-21T22:24:09.312816Z",
     "start_time": "2023-06-21T22:24:09.308632Z"
    }
   }
  },
  {
   "cell_type": "code",
   "execution_count": 139,
   "outputs": [
    {
     "name": "stderr",
     "output_type": "stream",
     "text": [
      "/var/folders/jr/n6xg6f857cgdlh5dpc_fd2ym0000gn/T/ipykernel_1381/2782275937.py:10: SettingWithCopyWarning: \n",
      "A value is trying to be set on a copy of a slice from a DataFrame.\n",
      "Try using .loc[row_indexer,col_indexer] = value instead\n",
      "\n",
      "See the caveats in the documentation: https://pandas.pydata.org/pandas-docs/stable/user_guide/indexing.html#returning-a-view-versus-a-copy\n",
      "  cat[i] = cat[i].map({True:1,False:0})\n"
     ]
    }
   ],
   "source": [
    "X_train, X_valid, Y_train, Y_valid = split_data()"
   ],
   "metadata": {
    "collapsed": false,
    "ExecuteTime": {
     "end_time": "2023-06-21T22:24:09.592605Z",
     "start_time": "2023-06-21T22:24:09.564221Z"
    }
   }
  },
  {
   "cell_type": "code",
   "execution_count": 140,
   "outputs": [],
   "source": [
    "def fit_linear_regression():\n",
    "    # write your code here\n",
    "    X_train, X_valid, Y_train, Y_valid = split_data()\n",
    "    regr = LinearRegression()\n",
    "    model = regr.fit(X_train,Y_train)\n",
    "    Y_predict = model.predict(X_valid)\n",
    "    mape = mean_absolute_percentage_error(Y_valid,Y_predict)\n",
    "    return mape\n",
    "\n",
    "def fit_Random_Forest_Regression():\n",
    "    # write your code here\n",
    "    X_train, X_valid, Y_train, Y_valid = split_data()\n",
    "    regr = RandomForestRegressor()\n",
    "    model = regr.fit(X_train,Y_train)\n",
    "    Y_predict = model.predict(X_valid)\n",
    "    mape = mean_absolute_percentage_error(Y_valid,Y_predict)\n",
    "    return mape\n",
    "\n",
    "def fit_Support_vector_Machine():\n",
    "    # write your code here\n",
    "    X_train, X_valid, Y_train, Y_valid = split_data()\n",
    "    regr = SVR()\n",
    "    model = regr.fit(X_train,Y_train)\n",
    "    Y_predict = model.predict(X_valid)\n",
    "    mape = mean_absolute_percentage_error(Y_valid,Y_predict)\n",
    "    return mape\n",
    "\n",
    "\n",
    "def fit_ridge_regression():\n",
    "    # write your code here\n",
    "    X_train, X_valid, Y_train, Y_valid = split_data()\n",
    "    regr = Ridge()\n",
    "    model = regr.fit(X_train,Y_train)\n",
    "    Y_predict = model.predict(X_valid)\n",
    "    mape = mean_absolute_percentage_error(Y_valid,Y_predict)\n",
    "    return mape"
   ],
   "metadata": {
    "collapsed": false,
    "ExecuteTime": {
     "end_time": "2023-06-21T22:24:09.829252Z",
     "start_time": "2023-06-21T22:24:09.825060Z"
    }
   }
  },
  {
   "cell_type": "code",
   "execution_count": 141,
   "outputs": [],
   "source": [
    "def evaluate_model():\n",
    "    X_train, X_valid, Y_train, Y_valid = split_data()\n",
    "    mape_1 = []\n",
    "    mape_1.append(fit_linear_regression())\n",
    "    mape_1.append(fit_Random_Forest_Regression())\n",
    "    mape_1.append(fit_Support_vector_Machine())\n",
    "    mape_1.append(fit_ridge_regression())\n",
    "    mape = mape_1.copy()\n",
    "    mape_1.remove(min(mape))\n",
    "    mini = min(mape_1)\n",
    "    location = mape.index(mini)\n",
    "    if location==0:\n",
    "        regr = LinearRegression()\n",
    "    elif location==1:\n",
    "        regr = RandomForestRegressor()\n",
    "    elif location==2:\n",
    "        regr = SVR()\n",
    "    else:\n",
    "        regr = Ridge()\n",
    "    model = regr.fit(X_train,Y_train)\n",
    "    Y_predict = model.predict(X_valid)\n",
    "    r2 = r2_score(Y_valid,Y_predict)\n",
    "    mae = mean_absolute_error(Y_valid,Y_predict)\n",
    "    rmse = math.sqrt(mean_squared_error(Y_valid,Y_predict))\n",
    "    return r2,mae,rmse"
   ],
   "metadata": {
    "collapsed": false,
    "ExecuteTime": {
     "end_time": "2023-06-21T22:24:10.093220Z",
     "start_time": "2023-06-21T22:24:10.087349Z"
    }
   }
  },
  {
   "cell_type": "code",
   "execution_count": 142,
   "outputs": [
    {
     "name": "stderr",
     "output_type": "stream",
     "text": [
      "/var/folders/jr/n6xg6f857cgdlh5dpc_fd2ym0000gn/T/ipykernel_1381/2782275937.py:10: SettingWithCopyWarning: \n",
      "A value is trying to be set on a copy of a slice from a DataFrame.\n",
      "Try using .loc[row_indexer,col_indexer] = value instead\n",
      "\n",
      "See the caveats in the documentation: https://pandas.pydata.org/pandas-docs/stable/user_guide/indexing.html#returning-a-view-versus-a-copy\n",
      "  cat[i] = cat[i].map({True:1,False:0})\n",
      "/var/folders/jr/n6xg6f857cgdlh5dpc_fd2ym0000gn/T/ipykernel_1381/2782275937.py:10: SettingWithCopyWarning: \n",
      "A value is trying to be set on a copy of a slice from a DataFrame.\n",
      "Try using .loc[row_indexer,col_indexer] = value instead\n",
      "\n",
      "See the caveats in the documentation: https://pandas.pydata.org/pandas-docs/stable/user_guide/indexing.html#returning-a-view-versus-a-copy\n",
      "  cat[i] = cat[i].map({True:1,False:0})\n",
      "/var/folders/jr/n6xg6f857cgdlh5dpc_fd2ym0000gn/T/ipykernel_1381/2782275937.py:10: SettingWithCopyWarning: \n",
      "A value is trying to be set on a copy of a slice from a DataFrame.\n",
      "Try using .loc[row_indexer,col_indexer] = value instead\n",
      "\n",
      "See the caveats in the documentation: https://pandas.pydata.org/pandas-docs/stable/user_guide/indexing.html#returning-a-view-versus-a-copy\n",
      "  cat[i] = cat[i].map({True:1,False:0})\n",
      "/var/folders/jr/n6xg6f857cgdlh5dpc_fd2ym0000gn/T/ipykernel_1381/2782275937.py:10: SettingWithCopyWarning: \n",
      "A value is trying to be set on a copy of a slice from a DataFrame.\n",
      "Try using .loc[row_indexer,col_indexer] = value instead\n",
      "\n",
      "See the caveats in the documentation: https://pandas.pydata.org/pandas-docs/stable/user_guide/indexing.html#returning-a-view-versus-a-copy\n",
      "  cat[i] = cat[i].map({True:1,False:0})\n",
      "/var/folders/jr/n6xg6f857cgdlh5dpc_fd2ym0000gn/T/ipykernel_1381/2782275937.py:10: SettingWithCopyWarning: \n",
      "A value is trying to be set on a copy of a slice from a DataFrame.\n",
      "Try using .loc[row_indexer,col_indexer] = value instead\n",
      "\n",
      "See the caveats in the documentation: https://pandas.pydata.org/pandas-docs/stable/user_guide/indexing.html#returning-a-view-versus-a-copy\n",
      "  cat[i] = cat[i].map({True:1,False:0})\n"
     ]
    },
    {
     "data": {
      "text/plain": "(1.6224524168606536e-06, 28848.681203988202, 52000.90213813493)"
     },
     "execution_count": 142,
     "metadata": {},
     "output_type": "execute_result"
    }
   ],
   "source": [
    "evaluate_model()"
   ],
   "metadata": {
    "collapsed": false,
    "ExecuteTime": {
     "end_time": "2023-06-21T22:24:11.696758Z",
     "start_time": "2023-06-21T22:24:10.354025Z"
    }
   }
  }
 ],
 "metadata": {
  "kernelspec": {
   "display_name": "Python 3",
   "language": "python",
   "name": "python3"
  },
  "language_info": {
   "codemirror_mode": {
    "name": "ipython",
    "version": 2
   },
   "file_extension": ".py",
   "mimetype": "text/x-python",
   "name": "python",
   "nbconvert_exporter": "python",
   "pygments_lexer": "ipython2",
   "version": "2.7.6"
  }
 },
 "nbformat": 4,
 "nbformat_minor": 0
}
