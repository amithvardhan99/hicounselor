{
 "cells": [
  {
   "cell_type": "markdown",
   "id": "37e3b13a",
   "metadata": {},
   "source": [
    "### Food Delivery App Data Analysis\n",
    "In the world of culinary delights and gastronomic adventures, the Zomato dataset project takes center stage. Just as millions of food enthusiasts use the Zomato platform to satisfy their culinary cravings, you step into the role of a data maestro, ready to unlock the secrets hidden within this treasure trove of information.\n",
    "\n",
    "Your journey in this project begins with a task as vital as preparing the finest ingredients for a gourmet meal—cleaning the dataset. Much like a skilled chef ensuring that every component is pristine and ready for the culinary masterpiece, you meticulously clean and prepare the data. It's about setting the stage for a culinary data symphony.\n",
    "\n",
    "Once the dataset is impeccably prepped, you delve into the heart of this gastronomic world—the analysis. You become the culinary critic of data, deciphering what makes a restaurant shine, identifying trends in dining preferences, and uncovering the secrets behind customer choices. It's about distilling raw data into flavorful insights.\n",
    "\n",
    "As the project unfolds, you become the unsung hero behind the scenes. Just like in a bustling kitchen where chefs work tirelessly to create unforgettable dishes, your work enhances the Zomato experience for users and restaurant owners alike. Your insights help restaurants refine their offerings, and diners discover the perfect place to satisfy their cravings.\n",
    "\n",
    "In this world of data-driven gastronomy, you are the master chef, the data virtuoso, and the storyteller. Your dedication to cleaning, analyzing, and visualizing the Zomato dataset contributes to the magic of discovering new culinary delights and makes every dining experience that much more extraordinary."
   ]
  },
  {
   "cell_type": "markdown",
   "id": "ea4e2d3c",
   "metadata": {},
   "source": [
    "### Module 1\n",
    "\n",
    "\n",
    "#### Task 1: Unlocking Zomato's Flavorful Universe\n",
    "\n",
    "Within the vast Zomato dataset, we hold the keys to a flavorful universe. With hotel names, addresses, ratings, and more at our fingertips, our culinary odyssey is in full swing. Each data point is a hidden gem, guiding us to uncover the secrets of exceptional dining. We aim to unearth patterns, fuel innovation, and inspire future culinary endeavors. Beyond data analysis, it's a journey to enhance the world's dining experiences, one bite at a time. Join us as we explore the flavors that will shape the future of food."
   ]
  },
  {
   "cell_type": "code",
   "execution_count": null,
   "id": "549282f4",
   "metadata": {},
   "outputs": [],
   "source": []
  },
  {
   "cell_type": "markdown",
   "id": "90c4029a",
   "metadata": {},
   "source": [
    "#### Task 2: Dropping Unneccessary Columns\n",
    "\n",
    "For our analysis, we dont need address and phone number column. So your task it drop these two columns from our dataframe."
   ]
  },
  {
   "cell_type": "code",
   "execution_count": null,
   "id": "ac111f8e",
   "metadata": {},
   "outputs": [],
   "source": []
  },
  {
   "cell_type": "markdown",
   "id": "5f37ab7d",
   "metadata": {},
   "source": [
    "#### Task 3: Renaming Columns for Clarity\n",
    "\n",
    "Your task is to rename certain columns to improve readability. Specifically, you'll change rate to rating, approx_cost(for two people) to approx_cost, and listed_in(type) to type. This will make the column names more intuitive for further analysis."
   ]
  },
  {
   "cell_type": "code",
   "execution_count": null,
   "id": "611f405e",
   "metadata": {},
   "outputs": [],
   "source": []
  },
  {
   "cell_type": "markdown",
   "id": "fba8fcaf",
   "metadata": {},
   "source": [
    "#### Task 4: Dropping Rows with Missing Values in the 'Name' Column\n",
    "\n",
    "In this task, you'll remove any rows from the dataset where the 'name' column has missing values. This ensures that our analysis only includes entries with valid and complete data in the 'name' field."
   ]
  },
  {
   "cell_type": "code",
   "execution_count": null,
   "id": "92f14165",
   "metadata": {},
   "outputs": [],
   "source": []
  },
  {
   "cell_type": "markdown",
   "id": "252f01c0",
   "metadata": {},
   "source": [
    "#### Task 5: Filling Missing Values in the 'Online Order' Column\n",
    "\n",
    "Your task is to fill any missing values in the 'online_order' column with 'NA'. This step ensures that our dataset doesn't have any gaps in this field, which is important for consistent analysis."
   ]
  },
  {
   "cell_type": "code",
   "execution_count": null,
   "id": "40449d17",
   "metadata": {},
   "outputs": [],
   "source": []
  },
  {
   "cell_type": "markdown",
   "id": "481d0586",
   "metadata": {},
   "source": [
    "#### Task 6: Filling Missing Values in the 'Book Table' Column\n",
    "\n",
    "In this task, you'll fill any missing values in the 'book_table' column with 'NA'. This ensures that the dataset remains complete, particularly in the 'book_table' field, which is crucial for our analysis."
   ]
  },
  {
   "cell_type": "code",
   "execution_count": null,
   "id": "2d27b6a2",
   "metadata": {},
   "outputs": [],
   "source": []
  },
  {
   "cell_type": "markdown",
   "id": "065539bc",
   "metadata": {},
   "source": [
    "#### Task 7: Filling Missing Values in the 'Rating' Column\n",
    "\n",
    "Your task is to replace any missing values in the 'rating' column with 0. This step is important to maintain numerical consistency in the dataset, ensuring that the 'rating' field has no gaps."
   ]
  },
  {
   "cell_type": "code",
   "execution_count": null,
   "id": "ed9b9627",
   "metadata": {},
   "outputs": [],
   "source": []
  },
  {
   "cell_type": "markdown",
   "id": "5658df1d",
   "metadata": {},
   "source": [
    "#### Task 8: Filling Missing Values in the 'Votes' Column\n",
    "\n",
    "In this task, you'll fill any missing values in the 'votes' column with 0. This ensures that the dataset remains complete and that the 'votes' field accurately reflects the data, even where no votes were recorded."
   ]
  },
  {
   "cell_type": "code",
   "execution_count": null,
   "id": "875c55b3",
   "metadata": {},
   "outputs": [],
   "source": []
  },
  {
   "cell_type": "markdown",
   "id": "d30b5863",
   "metadata": {},
   "source": [
    "#### Task 9: Filling Missing Values in the 'Location' Column\n",
    "\n",
    "Your task is to fill any missing values in the 'location' column with 'NA'. This step ensures that the dataset is complete and that the 'location' field consistently contains data, even if the exact location is not available."
   ]
  },
  {
   "cell_type": "code",
   "execution_count": null,
   "id": "35c7c385",
   "metadata": {},
   "outputs": [],
   "source": []
  },
  {
   "cell_type": "markdown",
   "id": "942d65d4",
   "metadata": {},
   "source": [
    "#### Task 10: Filling Missing Values in the 'Rest Type' Column\n",
    "\n",
    "In this task, you'll replace any missing values in the 'rest_type' column with 'NA'. This ensures that the dataset has a consistent value in the 'rest_type' field, even where specific restaurant types are not provided."
   ]
  },
  {
   "cell_type": "code",
   "execution_count": null,
   "id": "4e9848ec",
   "metadata": {},
   "outputs": [],
   "source": []
  },
  {
   "cell_type": "markdown",
   "id": "8eeec049",
   "metadata": {},
   "source": [
    "#### Task 11: Filling Missing Values in the 'Dish Liked' Column\n",
    "\n",
    "Your task is to fill any missing values in the 'dish_liked' column with 'NA'. This step helps to ensure that the dataset is complete and that the 'dish_liked' field consistently contains data, even if no specific dishes were liked."
   ]
  },
  {
   "cell_type": "code",
   "execution_count": null,
   "id": "b3022cac",
   "metadata": {},
   "outputs": [],
   "source": []
  },
  {
   "cell_type": "markdown",
   "id": "f13979f8",
   "metadata": {},
   "source": [
    "#### Task 12: Filling Missing Values in the 'Cuisines' Column\n",
    "\n",
    "In this task, you'll replace any missing values in the 'cuisines' column with 'NA'. This ensures that the dataset remains complete and that the 'cuisines' field is consistently filled, even when the specific cuisines are not provided."
   ]
  },
  {
   "cell_type": "code",
   "execution_count": null,
   "id": "1398c6bc",
   "metadata": {},
   "outputs": [],
   "source": []
  },
  {
   "cell_type": "markdown",
   "id": "5050eecb",
   "metadata": {},
   "source": [
    "#### Task 13: Filling Missing Values in the 'Approx Cost' Column\n",
    "\n",
    "Your task is to fill any missing values in the 'approx_cost' column with 0. This step ensures that the dataset has no gaps in the 'approx_cost' field, providing a complete set of data for analysis."
   ]
  },
  {
   "cell_type": "code",
   "execution_count": null,
   "id": "9ff5fe3b",
   "metadata": {},
   "outputs": [],
   "source": []
  },
  {
   "cell_type": "markdown",
   "id": "647cf962",
   "metadata": {},
   "source": [
    "#### Task 14: Filling Missing Values in the 'Type' Column\n",
    "\n",
    "In this task, you'll replace any missing values in the 'type' column with 'NA'. This ensures that the dataset remains complete, with the 'type' field consistently containing data even when the specific type is not provided."
   ]
  },
  {
   "cell_type": "code",
   "execution_count": null,
   "id": "4dff952a",
   "metadata": {},
   "outputs": [],
   "source": []
  },
  {
   "cell_type": "markdown",
   "id": "a6f20228",
   "metadata": {},
   "source": [
    "#### Task 15: Purifying Zomato's Culinary Canvas.\n",
    "\n",
    "Our exploration of the Zomato dataset continues as we embark on a mission to eliminate duplicates. Just as astronomers seek clarity in the night sky, we strive for a clearer understanding of the culinary world. By removing redundancy, we refine our data, ensuring that each restaurant shines uniquely, guiding us toward the essence of exceptional dining."
   ]
  },
  {
   "cell_type": "code",
   "execution_count": null,
   "id": "4d85613b",
   "metadata": {},
   "outputs": [],
   "source": []
  },
  {
   "cell_type": "markdown",
   "id": "4a33b0f9",
   "metadata": {},
   "source": [
    "#### Task 16: Removing Rows with 'RATED' or 'Rated' in the 'Name' Column\n",
    "\n",
    "Your task is to filter out any rows where the 'name' column contains the text 'RATED' or 'Rated'. This step helps to clean the dataset by excluding entries that might be incorrectly labeled or irrelevant for the analysis."
   ]
  },
  {
   "cell_type": "code",
   "execution_count": null,
   "id": "0f24caa5",
   "metadata": {},
   "outputs": [],
   "source": []
  },
  {
   "cell_type": "markdown",
   "id": "b3031b53",
   "metadata": {},
   "source": [
    "#### Task 17: Removing Rows with 'RATED' or 'Rated' in the 'Type' Column\n",
    "\n",
    "In this task, you'll filter out any rows where the 'type' column contains the text 'RATED' or 'Rated'. This ensures that the dataset is cleaned of entries with potentially incorrect or irrelevant type labels, improving the quality of the analysis."
   ]
  },
  {
   "cell_type": "code",
   "execution_count": null,
   "id": "283bb102",
   "metadata": {},
   "outputs": [],
   "source": []
  },
  {
   "cell_type": "markdown",
   "id": "39714561",
   "metadata": {},
   "source": [
    "#### Task 18: Removing Rows with 'RATED' or 'Rated' in the 'Approx Cost' Column\n",
    "\n",
    "Your task is to filter out any rows where the 'approx_cost' column contains the text 'RATED' or 'Rated'. This step helps to clean the dataset by excluding entries where the 'approx_cost' field might have been incorrectly labeled, ensuring more accurate analysis."
   ]
  },
  {
   "cell_type": "code",
   "execution_count": null,
   "id": "1d8a2a4f",
   "metadata": {},
   "outputs": [],
   "source": []
  },
  {
   "cell_type": "markdown",
   "id": "b77c40d2",
   "metadata": {},
   "source": [
    "#### Task 19: Removing Rows with 'RATED' or 'Rated' in the 'Cuisines' Column\n",
    "\n",
    "In this task, you'll filter out any rows where the 'cuisines' column contains the text 'RATED' or 'Rated'. This helps to clean the dataset by removing entries with potentially incorrect or irrelevant cuisine information, enhancing the accuracy of your analysis."
   ]
  },
  {
   "cell_type": "code",
   "execution_count": null,
   "id": "997ca961",
   "metadata": {},
   "outputs": [],
   "source": []
  },
  {
   "cell_type": "markdown",
   "id": "f6e4b13a",
   "metadata": {},
   "source": [
    "#### Task 20: Removing Rows with 'RATED' or 'Rated' in the 'Dish Liked' Column\n",
    "\n",
    "Your task is to filter out any rows where the 'dish_liked' column contains the text 'RATED' or 'Rated'. This step cleans the dataset by excluding entries where the 'dish_liked' field might be incorrectly labeled, ensuring that the data used for analysis is more accurate."
   ]
  },
  {
   "cell_type": "code",
   "execution_count": null,
   "id": "2981d97d",
   "metadata": {},
   "outputs": [],
   "source": []
  },
  {
   "cell_type": "markdown",
   "id": "b3030f04",
   "metadata": {},
   "source": [
    "#### Task 21: Removing Rows with 'RATED' or 'Rated' in the 'Rest Type' Column\n",
    "\n",
    "In this task, you'll filter out any rows where the 'rest_type' column contains the text 'RATED' or 'Rated'. This step helps to clean the dataset by excluding entries with potentially incorrect or irrelevant restaurant type information, improving the quality of the analysis."
   ]
  },
  {
   "cell_type": "code",
   "execution_count": null,
   "id": "01cafc12",
   "metadata": {},
   "outputs": [],
   "source": []
  },
  {
   "cell_type": "markdown",
   "id": "768beeb9",
   "metadata": {},
   "source": [
    "#### Task 22: Removing Rows with 'RATED' or 'Rated' in the 'Location' Column\n",
    "\n",
    "Your task is to filter out any rows where the 'location' column contains the text 'RATED' or 'Rated'. This ensures that the dataset is free from entries with potentially incorrect or irrelevant location information, enhancing the accuracy of your analysis."
   ]
  },
  {
   "cell_type": "code",
   "execution_count": null,
   "id": "cd17ed01",
   "metadata": {},
   "outputs": [],
   "source": []
  },
  {
   "cell_type": "markdown",
   "id": "bccf365f",
   "metadata": {},
   "source": [
    "#### Task 23: Removing Rows with 'RATED' or 'Rated' in the 'Votes' Column\n",
    "\n",
    "In this task, you'll filter out any rows where the 'votes' column contains the text 'RATED' or 'Rated'. This step helps to clean the dataset by excluding entries where the 'votes' field might be incorrectly labeled, ensuring that the data used for analysis is accurate and reliable."
   ]
  },
  {
   "cell_type": "code",
   "execution_count": null,
   "id": "a5e3830f",
   "metadata": {},
   "outputs": [],
   "source": []
  },
  {
   "cell_type": "markdown",
   "id": "dd70e1ad",
   "metadata": {},
   "source": [
    "#### Task 24: Removing Rows with 'RATED' or 'Rated' in the 'Rating' Column\n",
    "\n",
    "Your task is to filter out any rows where the 'rating' column contains the text 'RATED' or 'Rated'. This step cleans the dataset by excluding entries with potentially incorrect or irrelevant rating information, ensuring a more accurate dataset for analysis."
   ]
  },
  {
   "cell_type": "code",
   "execution_count": null,
   "id": "289fcff1",
   "metadata": {},
   "outputs": [],
   "source": []
  },
  {
   "cell_type": "markdown",
   "id": "f33f1785",
   "metadata": {},
   "source": [
    "#### Task 25: Removing Rows with 'RATED' or 'Rated' in the 'Book Table' Column\n",
    "\n",
    "In this task, you'll filter out any rows where the 'book_table' column contains the text 'RATED' or 'Rated'. This ensures that the dataset is cleaned of entries with potentially incorrect or irrelevant booking information, leading to more accurate analysis"
   ]
  },
  {
   "cell_type": "code",
   "execution_count": null,
   "id": "3c940071",
   "metadata": {},
   "outputs": [],
   "source": []
  },
  {
   "cell_type": "markdown",
   "id": "f4913723",
   "metadata": {},
   "source": [
    "#### Task 26: Filtering Rows with 'Yes' or 'No' in the 'Online Order' Column\n",
    "\n",
    "Your task is to keep only the rows where the 'online_order' column contains 'Yes' or 'No'. This step filters the dataset to include only entries with valid online ordering information, ensuring that the analysis is based on relevant and accurate data."
   ]
  },
  {
   "cell_type": "code",
   "execution_count": null,
   "id": "4473bef7",
   "metadata": {},
   "outputs": [],
   "source": []
  },
  {
   "cell_type": "markdown",
   "id": "c6dcccb2",
   "metadata": {},
   "source": [
    "#### Task 27: Replacing 'NEW','-', Values with 0 and Removing '/5' Suffix from the 'Rating' Column\n",
    "\n",
    "In this task, you'll replace any occurrences of 'NEW','-' in the 'rating' column with 0 and remove the '/5' suffix. This step ensures that the dataset has consistent numerical values in the 'rating' field, improving the accuracy of the analysis by handling special or placeholder values."
   ]
  },
  {
   "cell_type": "code",
   "execution_count": null,
   "id": "6f8229ba",
   "metadata": {},
   "outputs": [],
   "source": []
  }
 ],
 "metadata": {
  "kernelspec": {
   "display_name": "Python 3",
   "language": "python",
   "name": "python3"
  },
  "language_info": {
   "codemirror_mode": {
    "name": "ipython",
    "version": 3
   },
   "file_extension": ".py",
   "mimetype": "text/x-python",
   "name": "python",
   "nbconvert_exporter": "python",
   "pygments_lexer": "ipython3",
   "version": "3.12.8"
  }
 },
 "nbformat": 4,
 "nbformat_minor": 5
}
