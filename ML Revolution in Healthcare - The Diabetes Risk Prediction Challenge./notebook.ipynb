{
 "cells": [
  {
   "cell_type": "markdown",
   "source": [
    "## ML Revolution in Healthcare: The Diabetes Risk Prediction Challenge.\n",
    "Dive into our project, 'ML Revolution in Healthcare: The Diabetes Risk Prediction Challenge Using BRFSS Survey Data.' With 50,000 responses from the Behavioral Risk Factor Surveillance System at your fingertips, your mission is to navigate data intricacies and class imbalances.\n",
    "\n",
    "Join the community in constructing various models, including Logistic Regression, Decision Tree, Random Forest, KNN, XGBoost, and AdaBoost. As a registered participant, your task is to preprocess the provided dataset, build robust models, and make predictions on the test data.\n",
    "\n",
    "This is more than just a challenge; it's an open competition where your skills can reshape the landscape of risk assessment. Your efforts will contribute to proactive interventions and play a vital role in the evolution of public health initiatives.\n",
    "\n",
    "You're all set! Get ready to make an impact and be a part of the future of healthcare with your innovative machine learning solutions!\n",
    "\n",
    "**Problem Statement:**\n",
    "This project addresses the pressing issue of diabetes prevalence in the United States, aiming to predict distinct risk categories using the Behavioral Risk Factor Surveillance System (BRFSS) 2015 dataset. The dataset, comprising 50,000 survey responses, poses a challenge due to class imbalance. The objective is to develop a predictive model that effectively classifies individuals into three categories: 0 for no diabetes/only during pregnancy, 1 for prediabetes, and 2 for diabetes. The emphasis is on mitigating class imbalance to enhance the accuracy of the predictive modeling process.\n",
    "\n",
    "**About the Dataset:**\n",
    "The dataset used in this project is sourced from the CDC's Behavioral Risk Factor Surveillance System (BRFSS) 2015, obtained from the UC Irvine Machine Learning Repository. It comprises 21 feature variables and a target variable (Diabetes_012) categorizing respondents into stages: 0 for no diabetes/only during pregnancy, 1 for prediabetes, and 2 for diabetes."
   ],
   "metadata": {
    "collapsed": false
   },
   "id": "870793ae6fb43fde"
  },
  {
   "cell_type": "code",
   "outputs": [],
   "source": [
    "import numpy as np\n",
    "import pandas as pd\n",
    "import matplotlib.pyplot as plt\n",
    "import seaborn as sns\n",
    "import warnings\n",
    "\n",
    "from sklearn.tree import *\n",
    "from sklearn.linear_model import *\n",
    "from sklearn.neighbors import *\n",
    "from xgboost import *\n",
    "from sklearn.ensemble import *\n",
    "from sklearn.metrics import *\n",
    "\n",
    "warnings.filterwarnings(\"ignore\")\n",
    "from sklearn.preprocessing import *\n",
    "from sklearn.model_selection import *"
   ],
   "metadata": {
    "collapsed": false
   },
   "id": "64ced69a3bfbaf43",
   "execution_count": null
  },
  {
   "cell_type": "markdown",
   "source": [
    "### Intial Exploration:\n",
    "In the initial exploration, the dataset is read, and its shape is checked to understand its structure and dimensions."
   ],
   "metadata": {
    "collapsed": false
   },
   "id": "18ab243634c3a7e5"
  },
  {
   "cell_type": "code",
   "outputs": [],
   "source": [
    "train = pd.read_csv(\"train_dataset.csv\")\n",
    "test = pd.read_csv(\"holdout.csv\")"
   ],
   "metadata": {
    "collapsed": false
   },
   "id": "9bde7e70ab6672dc",
   "execution_count": null
  },
  {
   "cell_type": "code",
   "outputs": [],
   "source": [
    "train"
   ],
   "metadata": {
    "collapsed": false
   },
   "id": "2903eb2e63b3394",
   "execution_count": null
  },
  {
   "cell_type": "markdown",
   "source": [
    "### Data Cleaning:\n",
    "Data preprocessing involves cleaning the dataset by handling missing values, removing duplicates, and addressing any inconsistencies or errors. This ensures the data is accurate and reliable for analysis."
   ],
   "metadata": {
    "collapsed": false
   },
   "id": "751c31f7219f6d6c"
  },
  {
   "cell_type": "code",
   "outputs": [],
   "source": [
    "train_1 = train.drop_duplicates(ignore_index=True)\n",
    "test_1 = test.drop_duplicates(ignore_index=True)\n",
    "\n",
    "train_1[\"Diabetes_012\"] = train[\"Diabetes_012\"].astype(\"int64\")"
   ],
   "metadata": {
    "collapsed": false
   },
   "id": "298fa330ee56fb0b",
   "execution_count": null
  },
  {
   "cell_type": "code",
   "outputs": [],
   "source": [
    "yes_no_columns = []\n",
    "for i in train_1.columns.values:\n",
    "    unique_values = train_1[i].unique()\n",
    "    if \"Yes\" in unique_values or \"No\" in unique_values:\n",
    "        train_1[i] = train_1[i].map({\"Yes\":1,\"No\":0})\n",
    "        test_1[i] = test_1[i].map({\"Yes\":1,\"No\":0})"
   ],
   "metadata": {
    "collapsed": false
   },
   "id": "a2bd1220b6221503",
   "execution_count": null
  },
  {
   "cell_type": "code",
   "outputs": [],
   "source": [
    "train_1[\"BMI\"] = train_1[\"BMI\"].fillna(train_1[\"BMI\"].median())\n",
    "train_1[\"PhysActivity\"] = train_1[\"PhysActivity\"].fillna(0.0)\n",
    "train_1[\"Veggies\"] = train_1[\"Veggies\"].fillna(0.0)\n",
    "train_1[\"Age\"] = train_1[\"Age\"].fillna(train_1[\"Age\"].median())\n",
    "train_1[\"Education\"] = train_1[\"Education\"].fillna(train_1[\"Education\"].median())\n",
    "train_1[\"Income\"] = train_1[\"Income\"].fillna(train_1[\"Income\"].median())\n",
    "train_1[\"Sex\"] = train_1[\"Sex\"].map({\"Male\":1,\"Female\":0})\n",
    "\n",
    "train_1 = train_1.astype(\"int64\")"
   ],
   "metadata": {
    "collapsed": false
   },
   "id": "e6c5f53c54edbbbd",
   "execution_count": null
  },
  {
   "cell_type": "code",
   "outputs": [],
   "source": [
    "test_1[\"BMI\"] = test_1[\"BMI\"].fillna(test_1[\"BMI\"].median())\n",
    "test_1[\"PhysActivity\"] = test_1[\"PhysActivity\"].fillna(0.0)\n",
    "test_1[\"Veggies\"] = test_1[\"Veggies\"].fillna(0.0)\n",
    "test_1[\"Age\"] = test_1[\"Age\"].fillna(test_1[\"Age\"].median())\n",
    "test_1[\"Education\"] = test_1[\"Education\"].fillna(test_1[\"Education\"].median())\n",
    "test_1[\"Income\"] = test_1[\"Income\"].fillna(test_1[\"Income\"].median())\n",
    "test_1[\"Sex\"] = test_1[\"Sex\"].map({\"Male\":1,\"Female\":0})\n",
    "\n",
    "test_1 = test_1.astype(\"int64\")"
   ],
   "metadata": {
    "collapsed": false
   },
   "id": "5629e115302befa8",
   "execution_count": null
  },
  {
   "cell_type": "markdown",
   "source": [
    "### Transforming Data:\n",
    "This step includes transforming variables or features through methods like scaling, normalization, or encoding categorical variables. Transformation ensures that the data is on a consistent scale and format, preventing certain features from dominating the analysis due to their scale."
   ],
   "metadata": {
    "collapsed": false
   },
   "id": "6eee209c7a8d8f23"
  },
  {
   "cell_type": "code",
   "outputs": [],
   "source": [
    "cols = test_1.columns.values\n",
    "mms = MinMaxScaler()\n",
    "\n",
    "train_2 = train_1.copy()\n",
    "test_2 = test_1.copy()\n",
    "\n",
    "train_2[cols] = pd.DataFrame(mms.fit_transform(train_1[cols]),columns=test_1.columns)\n",
    "test_2 = pd.DataFrame(mms.fit_transform(test_1),columns=test_1.columns)"
   ],
   "metadata": {
    "collapsed": false
   },
   "id": "b1e2dbed44351bdf",
   "execution_count": null
  },
  {
   "cell_type": "markdown",
   "source": [
    "### Handling Outliers: \n",
    "Data preprocessing includes identifying and handling outliers—data points that deviate significantly from the majority. Techniques such as truncation, imputation, or applying statistical methods are employed to manage outliers and prevent them from unduly influencing analysis or modeling."
   ],
   "metadata": {
    "collapsed": false
   },
   "id": "72ec6e5be419319"
  },
  {
   "cell_type": "code",
   "outputs": [],
   "source": [
    "sns.boxplot(train_2[\"BMI\"])"
   ],
   "metadata": {
    "collapsed": false
   },
   "id": "80774b205aeaa766",
   "execution_count": null
  },
  {
   "cell_type": "code",
   "outputs": [],
   "source": [
    "def tackle_outliers(df):\n",
    "    first_quartile = df[\"BMI\"].quantile(0.25)\n",
    "    third_quartile = df[\"BMI\"].quantile(0.75)\n",
    "    inter_quartile_range = abs(third_quartile - first_quartile)\n",
    "    low = first_quartile - 1.5 * inter_quartile_range\n",
    "    up = third_quartile + 1.5 * inter_quartile_range\n",
    "    outliers = df[(df[\"BMI\"]<low) | (df[\"BMI\"]>up)]\n",
    "    normal_data = df[(df[\"BMI\"]>low) & (df[\"BMI\"]<up)]\n",
    "\n",
    "    normal_data.reset_index(drop=True, inplace=True)\n",
    "    outliers.reset_index(drop=True, inplace=True)\n",
    "    \n",
    "    return normal_data,outliers"
   ],
   "metadata": {
    "collapsed": false
   },
   "id": "a58ecbc98f70c4d1",
   "execution_count": null
  },
  {
   "cell_type": "code",
   "outputs": [],
   "source": [
    "train_normal,train_outliers = tackle_outliers(train_2)\n",
    "test_normal,test_outliers = tackle_outliers(train_2)"
   ],
   "metadata": {
    "collapsed": false
   },
   "id": "69206c6590365aa",
   "execution_count": null
  },
  {
   "cell_type": "markdown",
   "source": [
    "**Apply the same steps as described above to the holdout data.**"
   ],
   "metadata": {
    "collapsed": false
   },
   "id": "2047e9dd6fd16f5f"
  },
  {
   "cell_type": "markdown",
   "source": [
    "### Data Splitting:\n",
    "The dataset is split into training and testing sets. The training set is used to train the ML model, and the testing set is used to evaluate its performance."
   ],
   "metadata": {
    "collapsed": false
   },
   "id": "f963eebed8c02e97"
  },
  {
   "cell_type": "code",
   "outputs": [],
   "source": [
    "X = train_normal.drop(columns=[\"Diabetes_012\"])\n",
    "y = train_normal[\"Diabetes_012\"]\n",
    "\n",
    "X_train, X_test, y_train, y_test = train_test_split(X,y,test_size=0.2,random_state=42,shuffle=True)"
   ],
   "metadata": {
    "collapsed": false
   },
   "id": "f02a4a89a11b73fb",
   "execution_count": null
  },
  {
   "cell_type": "markdown",
   "source": [
    "### Model Selection:\n",
    "Choose an appropriate ML model based on the nature of the problem (classification) and the characteristics of the data. Common models include Logistic Regression, Decision Tree, Random Forest, KNN, XGBoost, and AdaBoost."
   ],
   "metadata": {
    "collapsed": false
   },
   "id": "6612837c63f4ca05"
  },
  {
   "cell_type": "code",
   "outputs": [],
   "source": [
    "logistic_regression = LogisticRegression()\n",
    "logistic_regression.fit(X_train,y_train)\n",
    "y_pred_lr = logistic_regression.predict(X_test)\n",
    "lr_acc = balanced_accuracy_score(y_test,y_pred_lr)\n",
    "\n",
    "decision_tree = DecisionTreeClassifier()\n",
    "decision_tree.fit(X_train,y_train)\n",
    "y_pred_dtree = decision_tree.predict(X_test)\n",
    "dtree_acc = balanced_accuracy_score(y_test,y_pred_dtree)\n",
    "\n",
    "knn = KNeighborsClassifier(n_neighbors=3)\n",
    "knn.fit(X_train,y_train)\n",
    "y_pred_knn = knn.predict(X_test)\n",
    "knn_acc = balanced_accuracy_score(y_test,y_pred_knn)\n",
    "\n",
    "xg_boost = XGBClassifier()\n",
    "xg_boost.fit(X_train,y_train)\n",
    "y_pred_xg_boost = xg_boost.predict(X_test)\n",
    "xg_boost_acc = balanced_accuracy_score(y_test,y_pred_xg_boost)\n",
    "\n",
    "ada_boost = AdaBoostClassifier(n_estimators=3)\n",
    "ada_boost.fit(X_train,y_train)\n",
    "y_pred_ada_boost = ada_boost.predict(X_test)\n",
    "ada_boost_acc = balanced_accuracy_score(y_test,y_pred_ada_boost)\n",
    "\n",
    "acc_scores = [lr_acc,dtree_acc,knn_acc,xg_boost_acc,ada_boost_acc]\n",
    "models = [\"Logistic Regression\",\"Decision Tree\",\"K Nearest Neighbors\",\"XG Boost\",\"AdaBoost\"]"
   ],
   "metadata": {
    "collapsed": false
   },
   "id": "519e4a8980a4f6bb",
   "execution_count": null
  },
  {
   "cell_type": "code",
   "outputs": [],
   "source": [
    "models[acc_scores.index(max(acc_scores))]"
   ],
   "metadata": {
    "collapsed": false
   },
   "id": "163ea67776d71ecc",
   "execution_count": null
  },
  {
   "cell_type": "markdown",
   "source": [
    "### Model Training:\n",
    "Train the selected model on the training data. This involves feeding the model the input data and allowing it to learn the patterns within the data."
   ],
   "metadata": {
    "collapsed": false
   },
   "id": "7b8dc989fda31bfe"
  },
  {
   "cell_type": "code",
   "outputs": [
    {
     "data": {
      "text/plain": "DecisionTreeClassifier()",
      "text/html": "<style>#sk-container-id-3 {color: black;}#sk-container-id-3 pre{padding: 0;}#sk-container-id-3 div.sk-toggleable {background-color: white;}#sk-container-id-3 label.sk-toggleable__label {cursor: pointer;display: block;width: 100%;margin-bottom: 0;padding: 0.3em;box-sizing: border-box;text-align: center;}#sk-container-id-3 label.sk-toggleable__label-arrow:before {content: \"▸\";float: left;margin-right: 0.25em;color: #696969;}#sk-container-id-3 label.sk-toggleable__label-arrow:hover:before {color: black;}#sk-container-id-3 div.sk-estimator:hover label.sk-toggleable__label-arrow:before {color: black;}#sk-container-id-3 div.sk-toggleable__content {max-height: 0;max-width: 0;overflow: hidden;text-align: left;background-color: #f0f8ff;}#sk-container-id-3 div.sk-toggleable__content pre {margin: 0.2em;color: black;border-radius: 0.25em;background-color: #f0f8ff;}#sk-container-id-3 input.sk-toggleable__control:checked~div.sk-toggleable__content {max-height: 200px;max-width: 100%;overflow: auto;}#sk-container-id-3 input.sk-toggleable__control:checked~label.sk-toggleable__label-arrow:before {content: \"▾\";}#sk-container-id-3 div.sk-estimator input.sk-toggleable__control:checked~label.sk-toggleable__label {background-color: #d4ebff;}#sk-container-id-3 div.sk-label input.sk-toggleable__control:checked~label.sk-toggleable__label {background-color: #d4ebff;}#sk-container-id-3 input.sk-hidden--visually {border: 0;clip: rect(1px 1px 1px 1px);clip: rect(1px, 1px, 1px, 1px);height: 1px;margin: -1px;overflow: hidden;padding: 0;position: absolute;width: 1px;}#sk-container-id-3 div.sk-estimator {font-family: monospace;background-color: #f0f8ff;border: 1px dotted black;border-radius: 0.25em;box-sizing: border-box;margin-bottom: 0.5em;}#sk-container-id-3 div.sk-estimator:hover {background-color: #d4ebff;}#sk-container-id-3 div.sk-parallel-item::after {content: \"\";width: 100%;border-bottom: 1px solid gray;flex-grow: 1;}#sk-container-id-3 div.sk-label:hover label.sk-toggleable__label {background-color: #d4ebff;}#sk-container-id-3 div.sk-serial::before {content: \"\";position: absolute;border-left: 1px solid gray;box-sizing: border-box;top: 0;bottom: 0;left: 50%;z-index: 0;}#sk-container-id-3 div.sk-serial {display: flex;flex-direction: column;align-items: center;background-color: white;padding-right: 0.2em;padding-left: 0.2em;position: relative;}#sk-container-id-3 div.sk-item {position: relative;z-index: 1;}#sk-container-id-3 div.sk-parallel {display: flex;align-items: stretch;justify-content: center;background-color: white;position: relative;}#sk-container-id-3 div.sk-item::before, #sk-container-id-3 div.sk-parallel-item::before {content: \"\";position: absolute;border-left: 1px solid gray;box-sizing: border-box;top: 0;bottom: 0;left: 50%;z-index: -1;}#sk-container-id-3 div.sk-parallel-item {display: flex;flex-direction: column;z-index: 1;position: relative;background-color: white;}#sk-container-id-3 div.sk-parallel-item:first-child::after {align-self: flex-end;width: 50%;}#sk-container-id-3 div.sk-parallel-item:last-child::after {align-self: flex-start;width: 50%;}#sk-container-id-3 div.sk-parallel-item:only-child::after {width: 0;}#sk-container-id-3 div.sk-dashed-wrapped {border: 1px dashed gray;margin: 0 0.4em 0.5em 0.4em;box-sizing: border-box;padding-bottom: 0.4em;background-color: white;}#sk-container-id-3 div.sk-label label {font-family: monospace;font-weight: bold;display: inline-block;line-height: 1.2em;}#sk-container-id-3 div.sk-label-container {text-align: center;}#sk-container-id-3 div.sk-container {/* jupyter's `normalize.less` sets `[hidden] { display: none; }` but bootstrap.min.css set `[hidden] { display: none !important; }` so we also need the `!important` here to be able to override the default hidden behavior on the sphinx rendered scikit-learn.org. See: https://github.com/scikit-learn/scikit-learn/issues/21755 */display: inline-block !important;position: relative;}#sk-container-id-3 div.sk-text-repr-fallback {display: none;}</style><div id=\"sk-container-id-3\" class=\"sk-top-container\"><div class=\"sk-text-repr-fallback\"><pre>DecisionTreeClassifier()</pre><b>In a Jupyter environment, please rerun this cell to show the HTML representation or trust the notebook. <br />On GitHub, the HTML representation is unable to render, please try loading this page with nbviewer.org.</b></div><div class=\"sk-container\" hidden><div class=\"sk-item\"><div class=\"sk-estimator sk-toggleable\"><input class=\"sk-toggleable__control sk-hidden--visually\" id=\"sk-estimator-id-3\" type=\"checkbox\" checked><label for=\"sk-estimator-id-3\" class=\"sk-toggleable__label sk-toggleable__label-arrow\">DecisionTreeClassifier</label><div class=\"sk-toggleable__content\"><pre>DecisionTreeClassifier()</pre></div></div></div></div></div>"
     },
     "execution_count": 74,
     "metadata": {},
     "output_type": "execute_result"
    }
   ],
   "source": [
    "decision_tree.fit(X,y)"
   ],
   "metadata": {
    "collapsed": false,
    "ExecuteTime": {
     "end_time": "2023-12-23T00:05:32.459212Z",
     "start_time": "2023-12-23T00:05:32.280224Z"
    }
   },
   "id": "d84e59dad11c2368",
   "execution_count": 74
  },
  {
   "cell_type": "code",
   "outputs": [],
   "source": [],
   "metadata": {
    "collapsed": false,
    "ExecuteTime": {
     "end_time": "2023-12-23T00:05:32.636034Z",
     "start_time": "2023-12-23T00:05:32.632591Z"
    }
   },
   "id": "4bb24cd7c87fdda1",
   "execution_count": 74
  },
  {
   "cell_type": "markdown",
   "source": [
    "### Hyperparameter Tuning:\n",
    "Fine-tune the model's hyperparameters to optimize its performance. This may involve using techniques like grid search or random search."
   ],
   "metadata": {
    "collapsed": false
   },
   "id": "d06b135357576ba2"
  },
  {
   "cell_type": "code",
   "outputs": [
    {
     "name": "stdout",
     "output_type": "stream",
     "text": [
      "Fitting 5 folds for each of 162 candidates, totalling 810 fits\n",
      "Best Parameters: {'criterion': 'entropy', 'max_depth': 5, 'min_samples_leaf': 4, 'min_samples_split': 2, 'splitter': 'random'}\n"
     ]
    }
   ],
   "source": [
    "parameters = {\n",
    "    \"criterion\" : [\"gini\", \"entropy\", \"log_loss\"],\n",
    "    \"splitter\"  : [\"best\", \"random\"],\n",
    "    \"max_depth\" : [5,10,15],\n",
    "    \"min_samples_split\": [2,5,10],\n",
    "    \"min_samples_leaf\": [1,2,4]\n",
    "}\n",
    "\n",
    "grid_search = GridSearchCV(estimator=decision_tree,param_grid=parameters,cv=5, n_jobs=-1,verbose=2)\n",
    "grid_search.fit(X,y)\n",
    "print(\"Best Parameters:\", grid_search.best_params_)\n",
    "best_model = grid_search.best_estimator_\n"
   ],
   "metadata": {
    "collapsed": false,
    "ExecuteTime": {
     "end_time": "2023-12-23T00:16:00.149151Z",
     "start_time": "2023-12-23T00:15:38.541524Z"
    }
   },
   "id": "7ba3beda01e871b7",
   "execution_count": 75
  },
  {
   "cell_type": "markdown",
   "source": [
    "### Predicting:\n",
    "Once the machine learning model is trained and validated, apply it to the holdout data—previously unseen data reserved for testing purposes. This step involves utilizing the trained model to generate predictions or classifications for the holdout dataset, providing insights into how well the model generalizes to new, independent observations."
   ],
   "metadata": {
    "collapsed": false
   },
   "id": "a4645fa7b2cbd5d0"
  },
  {
   "cell_type": "code",
   "outputs": [
    {
     "data": {
      "text/plain": "array([0, 0, 0, ..., 0, 0, 0])"
     },
     "execution_count": 78,
     "metadata": {},
     "output_type": "execute_result"
    }
   ],
   "source": [
    "y_pred = best_model.predict(test_2)\n",
    "y_pred"
   ],
   "metadata": {
    "collapsed": false,
    "ExecuteTime": {
     "end_time": "2023-12-23T00:16:58.945121Z",
     "start_time": "2023-12-23T00:16:58.925515Z"
    }
   },
   "id": "7889c3c12ccc7cf2",
   "execution_count": 78
  },
  {
   "cell_type": "code",
   "outputs": [],
   "source": [
    "df_final = pd.DataFrame(columns=train_1.columns)\n",
    "df_final[\"Diabetes_012\"] = y_pred\n",
    "df_final[test_1.columns.values] = test_1.copy()"
   ],
   "metadata": {
    "collapsed": false,
    "ExecuteTime": {
     "end_time": "2023-12-23T00:19:35.647989Z",
     "start_time": "2023-12-23T00:19:35.641834Z"
    }
   },
   "id": "bc0a5d8aa2d15b6b",
   "execution_count": 85
  },
  {
   "cell_type": "markdown",
   "source": [
    "### Post-Prediction Processing:\n",
    "Convert Predicted Values to DataFrame and Export to CSV."
   ],
   "metadata": {
    "collapsed": false
   },
   "id": "eef0197fa379f9e6"
  },
  {
   "cell_type": "code",
   "outputs": [],
   "source": [
    "df_final.to_csv(\"predictions.csv\",index=False,header=True)"
   ],
   "metadata": {
    "collapsed": false,
    "ExecuteTime": {
     "end_time": "2023-12-23T00:21:01.260178Z",
     "start_time": "2023-12-23T00:21:01.237277Z"
    }
   },
   "id": "2d20e1a496001304",
   "execution_count": 88
  },
  {
   "cell_type": "code",
   "outputs": [],
   "source": [],
   "metadata": {
    "collapsed": false
   },
   "id": "cccc467d4f5d640e"
  }
 ],
 "metadata": {
  "kernelspec": {
   "display_name": "Python 3",
   "language": "python",
   "name": "python3"
  },
  "language_info": {
   "codemirror_mode": {
    "name": "ipython",
    "version": 2
   },
   "file_extension": ".py",
   "mimetype": "text/x-python",
   "name": "python",
   "nbconvert_exporter": "python",
   "pygments_lexer": "ipython2",
   "version": "2.7.6"
  }
 },
 "nbformat": 4,
 "nbformat_minor": 5
}
