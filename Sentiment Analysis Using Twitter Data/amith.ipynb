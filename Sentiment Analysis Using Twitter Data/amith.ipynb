{
 "cells": [
  {
   "cell_type": "code",
   "execution_count": 21,
   "id": "initial_id",
   "metadata": {
    "collapsed": true,
    "ExecuteTime": {
     "end_time": "2023-08-05T21:54:22.088028Z",
     "start_time": "2023-08-05T21:54:22.079444Z"
    }
   },
   "outputs": [],
   "source": [
    "from task1 import *\n",
    "from task2 import *\n",
    "from task3 import *\n",
    "from task4 import *\n",
    "from task5 import *\n",
    "import numpy as np\n",
    "import pandas as pd\n",
    "import matplotlib.pyplot as plt\n",
    "import seaborn as sns\n",
    "from sklearn.model_selection import train_test_split\n",
    "from sklearn.linear_model import LinearRegression\n",
    "from sklearn.preprocessing import *\n",
    "from sklearn import preprocessing\n",
    "from nltk.stem.wordnet import WordNetLemmatizer\n",
    "from nltk.tokenize.casual import TweetTokenizer\n",
    "from nltk.tokenize import word_tokenize\n",
    "from nltk.tokenize import regexp_tokenize\n",
    "import re\n",
    "import nltk\n",
    "import string\n",
    "from sklearn.svm import LinearSVC\n",
    "from sklearn.naive_bayes import BernoulliNB\n",
    "from sklearn.linear_model import LogisticRegression\n",
    "from sklearn.model_selection import train_test_split\n",
    "from sklearn.feature_extraction.text import TfidfVectorizer\n",
    "from sklearn.metrics import confusion_matrix, classification_report\n",
    "import pickle\n",
    "import warnings\n",
    "warnings.filterwarnings('ignore')"
   ]
  },
  {
   "cell_type": "code",
   "execution_count": 22,
   "outputs": [],
   "source": [
    "def predict():\n",
    "    text = [\"I hate twitter\",\n",
    "            \"May the Force be with you.\",\n",
    "            \"Mr. Stark, I don't feel so good\"]\n",
    "    model = lr_model()\n",
    "    vectoriser1 = vectoriser()\n",
    "    processed_text = preprocess()\n",
    "    trans_text = vectoriser1.transform(processed_text)\n",
    "    text1,sentiment_actual = store_data()\n",
    "    model = model.fit(trans_text,sentiment_actual)\n",
    "    tr_text = vectoriser1.transform(text)\n",
    "    sentiment_pred = model.predict(tr_text)\n",
    "    df = pd.DataFrame(columns=[\"text\",\"sentiment predictions\"])\n",
    "    df[\"text\"] = text\n",
    "    df[\"sentiment predictions\"] = sentiment_pred\n",
    "    df_1 = df.copy()\n",
    "    y = lambda x: \"Negative\" if x==0 else \"Positive\"\n",
    "    g = map(y,df[\"sentiment predictions\"])\n",
    "    h = list(g)\n",
    "    df_1[\"sentiment predictions\"] = h\n",
    "    return df_1.head()"
   ],
   "metadata": {
    "collapsed": false,
    "ExecuteTime": {
     "end_time": "2023-08-05T21:55:05.955455Z",
     "start_time": "2023-08-05T21:55:05.946603Z"
    }
   },
   "id": "719c5a4291f61703"
  },
  {
   "cell_type": "code",
   "execution_count": 23,
   "outputs": [
    {
     "data": {
      "text/plain": "                              text sentiment predictions\n0                   I hate twitter              Negative\n1       May the Force be with you.              Positive\n2  Mr. Stark, I don't feel so good              Positive",
      "text/html": "<div>\n<style scoped>\n    .dataframe tbody tr th:only-of-type {\n        vertical-align: middle;\n    }\n\n    .dataframe tbody tr th {\n        vertical-align: top;\n    }\n\n    .dataframe thead th {\n        text-align: right;\n    }\n</style>\n<table border=\"1\" class=\"dataframe\">\n  <thead>\n    <tr style=\"text-align: right;\">\n      <th></th>\n      <th>text</th>\n      <th>sentiment predictions</th>\n    </tr>\n  </thead>\n  <tbody>\n    <tr>\n      <th>0</th>\n      <td>I hate twitter</td>\n      <td>Negative</td>\n    </tr>\n    <tr>\n      <th>1</th>\n      <td>May the Force be with you.</td>\n      <td>Positive</td>\n    </tr>\n    <tr>\n      <th>2</th>\n      <td>Mr. Stark, I don't feel so good</td>\n      <td>Positive</td>\n    </tr>\n  </tbody>\n</table>\n</div>"
     },
     "execution_count": 23,
     "metadata": {},
     "output_type": "execute_result"
    }
   ],
   "source": [
    "df = predict()\n",
    "df"
   ],
   "metadata": {
    "collapsed": false,
    "ExecuteTime": {
     "end_time": "2023-08-05T21:55:17.669093Z",
     "start_time": "2023-08-05T21:55:13.100158Z"
    }
   },
   "id": "8895f54f9d4b9b49"
  },
  {
   "cell_type": "code",
   "execution_count": null,
   "outputs": [],
   "source": [],
   "metadata": {
    "collapsed": false
   },
   "id": "e847764da2253f9c"
  }
 ],
 "metadata": {
  "kernelspec": {
   "display_name": "Python 3",
   "language": "python",
   "name": "python3"
  },
  "language_info": {
   "codemirror_mode": {
    "name": "ipython",
    "version": 2
   },
   "file_extension": ".py",
   "mimetype": "text/x-python",
   "name": "python",
   "nbconvert_exporter": "python",
   "pygments_lexer": "ipython2",
   "version": "2.7.6"
  }
 },
 "nbformat": 4,
 "nbformat_minor": 5
}
