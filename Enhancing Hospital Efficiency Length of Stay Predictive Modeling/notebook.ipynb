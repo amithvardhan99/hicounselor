{
 "cells": [
  {
   "cell_type": "markdown",
   "source": [
    "## Enhancing Hospital Efficiency with ML: Data Cleaning, XGBoost, and Predictive Modeling.\n",
    "In the ever-evolving landscape of healthcare, the quest to enhance patient care outcomes and elevate the quality of healthcare services is an ongoing mission. Healthcare organizations are navigating a complex web of challenges, but within these challenges, lies a remarkable opportunity – the power of data.\n",
    "\n",
    "Healthcare analytics is the compass that guides organizations towards this opportunity. It's the art of dissecting and interpreting data, employing both quantitative and qualitative techniques to unveil the hidden gems of insights and patterns within the wealth of healthcare information. Among the multitude of metrics used for performance evaluation, one vital indicator stands out - the Length of Stay (LOS) for patients.\n",
    "\n",
    "Predicting a patient's Length of Stay is akin to holding a key that unlocks a world of possibilities. It empowers hospitals to optimize their treatment plans with precision, a measure that not only reduces LOS but also minimizes infection rates among patients, staff, and visitors. In essence, it's a pathway to not just improving patient care but revolutionizing healthcare management as a whole.\n",
    "\n",
    "In this journey towards better healthcare, you play a pivotal role. You are the data virtuoso, armed with the latest tools and techniques in healthcare analytics. Your mission is to transform raw data into meaningful insights that illuminate the intricate web of patient care. Through the lens of data analysis, you decode the mysteries of patient LOS, revealing trends and patterns that hold the key to more efficient and effective healthcare delivery.\n",
    "\n",
    "Collaborating closely with the healthcare team, you craft compelling data visualizations that bring these insights to life. Your data-driven creations become the guiding stars, steering healthcare professionals towards better decision-making, enhanced care, and safer environments. While the intricacies of your work may often go unnoticed, its impact reverberates throughout the healthcare organization.\n",
    "\n",
    "In the world of healthcare analytics, you are the unsung hero, the one who helps unveil the extraordinary stories of improved patient care and streamlined healthcare management. Your dedication to data and your ability to transform it into illuminating insights contribute to the ongoing saga of healthcare excellence, making every patient's journey towards better health that much more extraordinary."
   ],
   "metadata": {
    "collapsed": false
   },
   "id": "161abfab56690473"
  },
  {
   "cell_type": "markdown",
   "source": [
    "## Module 1\n",
    "### Task 1: Analyzing the train data.\n",
    "In a workspace, an data scientist initiated \"train.csv\" with a distinct sense of purpose. This dataset, an intricate tapestry of numbers and records, held the potential to unveil a concealed revelation. The task at hand was far more than routine; it stood as a pivotal endeavor to uncover the essential component in a pioneering scientific inquiry. Within each row and column, lay the capacity to redefine an entire domain of knowledge. With each scrutinized line, the motivation to unearth the elusive truth intensified, as the underlying reason for this undertaking gradually unveiled itself."
   ],
   "metadata": {
    "collapsed": false
   },
   "id": "43ddfa5d51502f91"
  },
  {
   "cell_type": "code",
   "execution_count": 85,
   "outputs": [
    {
     "data": {
      "text/plain": "      case_id  Hospital_code Hospital_type_code  City_Code_Hospital  \\\n0           1              8                  c                   3   \n1           2              2                  c                   5   \n2           3             10                  e                   1   \n3           4             26                  b                   2   \n4           5             26                  b                   2   \n...       ...            ...                ...                 ...   \n4995     4996             19                  a                   7   \n4996     4997             26                  b                   2   \n4997     4998             32                  f                   9   \n4998     4999             26                  b                   2   \n4999     5000              9                  d                   5   \n\n     Hospital_region_code  Available Extra Rooms in Hospital    Department  \\\n0                       Z                                  3  radiotherapy   \n1                       Z                                  2  radiotherapy   \n2                       X                                  2    anesthesia   \n3                       Y                                  2  radiotherapy   \n4                       Y                                  2  radiotherapy   \n...                   ...                                ...           ...   \n4995                    Y                                  2    gynecology   \n4996                    Y                                  2    gynecology   \n4997                    Y                                  3    gynecology   \n4998                    Y                                  3    gynecology   \n4999                    Z                                  4    anesthesia   \n\n     Ward_Type Ward_Facility_Code  Bed Grade  patientid  City_Code_Patient  \\\n0            R                  F        2.0      31397                7.0   \n1            S                  F        2.0      31397                7.0   \n2            S                  E        2.0      31397                7.0   \n3            R                  D        2.0      31397                7.0   \n4            S                  D        2.0      31397                7.0   \n...        ...                ...        ...        ...                ...   \n4995         S                  C        2.0     104970                8.0   \n4996         Q                  D        4.0     104970                8.0   \n4997         S                  B        2.0      68447                5.0   \n4998         R                  D        2.0      68447                5.0   \n4999         R                  F        4.0      68447                5.0   \n\n     Type of Admission Severity of Illness  Visitors with Patient    Age  \\\n0            Emergency             Extreme                      2  51-60   \n1               Trauma             Extreme                      2  51-60   \n2               Trauma             Extreme                      2  51-60   \n3               Trauma             Extreme                      2  51-60   \n4               Trauma             Extreme                      2  51-60   \n...                ...                 ...                    ...    ...   \n4995         Emergency               Minor                      2  11-20   \n4996            Trauma               Minor                      2  11-20   \n4997         Emergency            Moderate                      4  41-50   \n4998            Trauma            Moderate                      3  41-50   \n4999            Trauma            Moderate                      2  41-50   \n\n      Admission_Deposit   Stay  \n0                4911.0   0-10  \n1                5954.0  41-50  \n2                4745.0  31-40  \n3                7272.0  41-50  \n4                5558.0  41-50  \n...                 ...    ...  \n4995             4894.0   0-10  \n4996             6987.0  31-40  \n4997             4196.0  51-60  \n4998             4560.0  21-30  \n4999             6315.0  11-20  \n\n[5000 rows x 18 columns]",
      "text/html": "<div>\n<style scoped>\n    .dataframe tbody tr th:only-of-type {\n        vertical-align: middle;\n    }\n\n    .dataframe tbody tr th {\n        vertical-align: top;\n    }\n\n    .dataframe thead th {\n        text-align: right;\n    }\n</style>\n<table border=\"1\" class=\"dataframe\">\n  <thead>\n    <tr style=\"text-align: right;\">\n      <th></th>\n      <th>case_id</th>\n      <th>Hospital_code</th>\n      <th>Hospital_type_code</th>\n      <th>City_Code_Hospital</th>\n      <th>Hospital_region_code</th>\n      <th>Available Extra Rooms in Hospital</th>\n      <th>Department</th>\n      <th>Ward_Type</th>\n      <th>Ward_Facility_Code</th>\n      <th>Bed Grade</th>\n      <th>patientid</th>\n      <th>City_Code_Patient</th>\n      <th>Type of Admission</th>\n      <th>Severity of Illness</th>\n      <th>Visitors with Patient</th>\n      <th>Age</th>\n      <th>Admission_Deposit</th>\n      <th>Stay</th>\n    </tr>\n  </thead>\n  <tbody>\n    <tr>\n      <th>0</th>\n      <td>1</td>\n      <td>8</td>\n      <td>c</td>\n      <td>3</td>\n      <td>Z</td>\n      <td>3</td>\n      <td>radiotherapy</td>\n      <td>R</td>\n      <td>F</td>\n      <td>2.0</td>\n      <td>31397</td>\n      <td>7.0</td>\n      <td>Emergency</td>\n      <td>Extreme</td>\n      <td>2</td>\n      <td>51-60</td>\n      <td>4911.0</td>\n      <td>0-10</td>\n    </tr>\n    <tr>\n      <th>1</th>\n      <td>2</td>\n      <td>2</td>\n      <td>c</td>\n      <td>5</td>\n      <td>Z</td>\n      <td>2</td>\n      <td>radiotherapy</td>\n      <td>S</td>\n      <td>F</td>\n      <td>2.0</td>\n      <td>31397</td>\n      <td>7.0</td>\n      <td>Trauma</td>\n      <td>Extreme</td>\n      <td>2</td>\n      <td>51-60</td>\n      <td>5954.0</td>\n      <td>41-50</td>\n    </tr>\n    <tr>\n      <th>2</th>\n      <td>3</td>\n      <td>10</td>\n      <td>e</td>\n      <td>1</td>\n      <td>X</td>\n      <td>2</td>\n      <td>anesthesia</td>\n      <td>S</td>\n      <td>E</td>\n      <td>2.0</td>\n      <td>31397</td>\n      <td>7.0</td>\n      <td>Trauma</td>\n      <td>Extreme</td>\n      <td>2</td>\n      <td>51-60</td>\n      <td>4745.0</td>\n      <td>31-40</td>\n    </tr>\n    <tr>\n      <th>3</th>\n      <td>4</td>\n      <td>26</td>\n      <td>b</td>\n      <td>2</td>\n      <td>Y</td>\n      <td>2</td>\n      <td>radiotherapy</td>\n      <td>R</td>\n      <td>D</td>\n      <td>2.0</td>\n      <td>31397</td>\n      <td>7.0</td>\n      <td>Trauma</td>\n      <td>Extreme</td>\n      <td>2</td>\n      <td>51-60</td>\n      <td>7272.0</td>\n      <td>41-50</td>\n    </tr>\n    <tr>\n      <th>4</th>\n      <td>5</td>\n      <td>26</td>\n      <td>b</td>\n      <td>2</td>\n      <td>Y</td>\n      <td>2</td>\n      <td>radiotherapy</td>\n      <td>S</td>\n      <td>D</td>\n      <td>2.0</td>\n      <td>31397</td>\n      <td>7.0</td>\n      <td>Trauma</td>\n      <td>Extreme</td>\n      <td>2</td>\n      <td>51-60</td>\n      <td>5558.0</td>\n      <td>41-50</td>\n    </tr>\n    <tr>\n      <th>...</th>\n      <td>...</td>\n      <td>...</td>\n      <td>...</td>\n      <td>...</td>\n      <td>...</td>\n      <td>...</td>\n      <td>...</td>\n      <td>...</td>\n      <td>...</td>\n      <td>...</td>\n      <td>...</td>\n      <td>...</td>\n      <td>...</td>\n      <td>...</td>\n      <td>...</td>\n      <td>...</td>\n      <td>...</td>\n      <td>...</td>\n    </tr>\n    <tr>\n      <th>4995</th>\n      <td>4996</td>\n      <td>19</td>\n      <td>a</td>\n      <td>7</td>\n      <td>Y</td>\n      <td>2</td>\n      <td>gynecology</td>\n      <td>S</td>\n      <td>C</td>\n      <td>2.0</td>\n      <td>104970</td>\n      <td>8.0</td>\n      <td>Emergency</td>\n      <td>Minor</td>\n      <td>2</td>\n      <td>11-20</td>\n      <td>4894.0</td>\n      <td>0-10</td>\n    </tr>\n    <tr>\n      <th>4996</th>\n      <td>4997</td>\n      <td>26</td>\n      <td>b</td>\n      <td>2</td>\n      <td>Y</td>\n      <td>2</td>\n      <td>gynecology</td>\n      <td>Q</td>\n      <td>D</td>\n      <td>4.0</td>\n      <td>104970</td>\n      <td>8.0</td>\n      <td>Trauma</td>\n      <td>Minor</td>\n      <td>2</td>\n      <td>11-20</td>\n      <td>6987.0</td>\n      <td>31-40</td>\n    </tr>\n    <tr>\n      <th>4997</th>\n      <td>4998</td>\n      <td>32</td>\n      <td>f</td>\n      <td>9</td>\n      <td>Y</td>\n      <td>3</td>\n      <td>gynecology</td>\n      <td>S</td>\n      <td>B</td>\n      <td>2.0</td>\n      <td>68447</td>\n      <td>5.0</td>\n      <td>Emergency</td>\n      <td>Moderate</td>\n      <td>4</td>\n      <td>41-50</td>\n      <td>4196.0</td>\n      <td>51-60</td>\n    </tr>\n    <tr>\n      <th>4998</th>\n      <td>4999</td>\n      <td>26</td>\n      <td>b</td>\n      <td>2</td>\n      <td>Y</td>\n      <td>3</td>\n      <td>gynecology</td>\n      <td>R</td>\n      <td>D</td>\n      <td>2.0</td>\n      <td>68447</td>\n      <td>5.0</td>\n      <td>Trauma</td>\n      <td>Moderate</td>\n      <td>3</td>\n      <td>41-50</td>\n      <td>4560.0</td>\n      <td>21-30</td>\n    </tr>\n    <tr>\n      <th>4999</th>\n      <td>5000</td>\n      <td>9</td>\n      <td>d</td>\n      <td>5</td>\n      <td>Z</td>\n      <td>4</td>\n      <td>anesthesia</td>\n      <td>R</td>\n      <td>F</td>\n      <td>4.0</td>\n      <td>68447</td>\n      <td>5.0</td>\n      <td>Trauma</td>\n      <td>Moderate</td>\n      <td>2</td>\n      <td>41-50</td>\n      <td>6315.0</td>\n      <td>11-20</td>\n    </tr>\n  </tbody>\n</table>\n<p>5000 rows × 18 columns</p>\n</div>"
     },
     "execution_count": 85,
     "metadata": {},
     "output_type": "execute_result"
    }
   ],
   "source": [
    "#--- Import Pandas ---\n",
    "import pandas as pd\n",
    "#--- Read in dataset ----\n",
    "train = pd.read_csv(\"./train.csv\")\n",
    "\n",
    "# ---WRITE YOUR CODE FOR TASK 1 ---\n",
    "train"
   ],
   "metadata": {
    "collapsed": false,
    "ExecuteTime": {
     "end_time": "2023-11-08T20:43:13.284291Z",
     "start_time": "2023-11-08T20:43:13.264400Z"
    }
   },
   "id": "3c1c1d44b4dab49f"
  },
  {
   "cell_type": "markdown",
   "source": [
    "### Task 2: Decoding the test data.\n",
    "In the dim glow of the computer screen, the data scientist continued the intricate puzzle of data analysis. Having meticulously deciphered \"train.csv,\" the next chapter had arrived: \"test.csv.\" The two datasets were like twin siblings, sharing almost identical traits, but for one crucial distinction - a lone, enigmatic column to be predicted."
   ],
   "metadata": {
    "collapsed": false
   },
   "id": "ac36d4ec3a6321ed"
  },
  {
   "cell_type": "code",
   "execution_count": 86,
   "outputs": [
    {
     "data": {
      "text/plain": "      case_id  Hospital_code Hospital_type_code  City_Code_Hospital  \\\n0      318439             21                  c                   3   \n1      318440             29                  a                   4   \n2      318441             26                  b                   2   \n3      318442              6                  a                   6   \n4      318443             28                  b                  11   \n...       ...            ...                ...                 ...   \n1995   320434             26                  b                   2   \n1996   320435             26                  b                   2   \n1997   320436             23                  a                   6   \n1998   320437             25                  e                   1   \n1999   320438             10                  e                   1   \n\n     Hospital_region_code  Available Extra Rooms in Hospital  Department  \\\n0                       Z                                  3  gynecology   \n1                       X                                  2  gynecology   \n2                       Y                                  3  gynecology   \n3                       X                                  3  gynecology   \n4                       X                                  2  gynecology   \n...                   ...                                ...         ...   \n1995                    Y                                  1  anesthesia   \n1996                    Y                                  4  gynecology   \n1997                    X                                  3  gynecology   \n1998                    X                                  4  gynecology   \n1999                    X                                  4  gynecology   \n\n     Ward_Type Ward_Facility_Code  Bed Grade  patientid  City_Code_Patient  \\\n0            S                  A        2.0      17006                2.0   \n1            S                  F        2.0      17006                2.0   \n2            Q                  D        4.0      17006                2.0   \n3            Q                  F        2.0      17006                2.0   \n4            R                  F        2.0      17006                2.0   \n...        ...                ...        ...        ...                ...   \n1995         R                  D        2.0      19303                8.0   \n1996         R                  D        1.0      19303                8.0   \n1997         Q                  F        1.0      19303                8.0   \n1998         Q                  E        3.0      19303                8.0   \n1999         Q                  E        2.0      19303                8.0   \n\n     Type of Admission Severity of Illness  Visitors with Patient    Age  \\\n0            Emergency            Moderate                      2  71-80   \n1               Trauma            Moderate                      4  71-80   \n2            Emergency            Moderate                      3  71-80   \n3               Trauma            Moderate                      3  71-80   \n4               Trauma            Moderate                      4  71-80   \n...                ...                 ...                    ...    ...   \n1995            Trauma             Extreme                      4  51-60   \n1996            Trauma             Extreme                      6  51-60   \n1997            Trauma             Extreme                      3  51-60   \n1998         Emergency             Extreme                      4  51-60   \n1999         Emergency             Extreme                      3  51-60   \n\n      Admission_Deposit  \n0                3095.0  \n1                4018.0  \n2                4492.0  \n3                4173.0  \n4                4161.0  \n...                 ...  \n1995             8829.0  \n1996             3507.0  \n1997             4109.0  \n1998             4155.0  \n1999             4161.0  \n\n[2000 rows x 17 columns]",
      "text/html": "<div>\n<style scoped>\n    .dataframe tbody tr th:only-of-type {\n        vertical-align: middle;\n    }\n\n    .dataframe tbody tr th {\n        vertical-align: top;\n    }\n\n    .dataframe thead th {\n        text-align: right;\n    }\n</style>\n<table border=\"1\" class=\"dataframe\">\n  <thead>\n    <tr style=\"text-align: right;\">\n      <th></th>\n      <th>case_id</th>\n      <th>Hospital_code</th>\n      <th>Hospital_type_code</th>\n      <th>City_Code_Hospital</th>\n      <th>Hospital_region_code</th>\n      <th>Available Extra Rooms in Hospital</th>\n      <th>Department</th>\n      <th>Ward_Type</th>\n      <th>Ward_Facility_Code</th>\n      <th>Bed Grade</th>\n      <th>patientid</th>\n      <th>City_Code_Patient</th>\n      <th>Type of Admission</th>\n      <th>Severity of Illness</th>\n      <th>Visitors with Patient</th>\n      <th>Age</th>\n      <th>Admission_Deposit</th>\n    </tr>\n  </thead>\n  <tbody>\n    <tr>\n      <th>0</th>\n      <td>318439</td>\n      <td>21</td>\n      <td>c</td>\n      <td>3</td>\n      <td>Z</td>\n      <td>3</td>\n      <td>gynecology</td>\n      <td>S</td>\n      <td>A</td>\n      <td>2.0</td>\n      <td>17006</td>\n      <td>2.0</td>\n      <td>Emergency</td>\n      <td>Moderate</td>\n      <td>2</td>\n      <td>71-80</td>\n      <td>3095.0</td>\n    </tr>\n    <tr>\n      <th>1</th>\n      <td>318440</td>\n      <td>29</td>\n      <td>a</td>\n      <td>4</td>\n      <td>X</td>\n      <td>2</td>\n      <td>gynecology</td>\n      <td>S</td>\n      <td>F</td>\n      <td>2.0</td>\n      <td>17006</td>\n      <td>2.0</td>\n      <td>Trauma</td>\n      <td>Moderate</td>\n      <td>4</td>\n      <td>71-80</td>\n      <td>4018.0</td>\n    </tr>\n    <tr>\n      <th>2</th>\n      <td>318441</td>\n      <td>26</td>\n      <td>b</td>\n      <td>2</td>\n      <td>Y</td>\n      <td>3</td>\n      <td>gynecology</td>\n      <td>Q</td>\n      <td>D</td>\n      <td>4.0</td>\n      <td>17006</td>\n      <td>2.0</td>\n      <td>Emergency</td>\n      <td>Moderate</td>\n      <td>3</td>\n      <td>71-80</td>\n      <td>4492.0</td>\n    </tr>\n    <tr>\n      <th>3</th>\n      <td>318442</td>\n      <td>6</td>\n      <td>a</td>\n      <td>6</td>\n      <td>X</td>\n      <td>3</td>\n      <td>gynecology</td>\n      <td>Q</td>\n      <td>F</td>\n      <td>2.0</td>\n      <td>17006</td>\n      <td>2.0</td>\n      <td>Trauma</td>\n      <td>Moderate</td>\n      <td>3</td>\n      <td>71-80</td>\n      <td>4173.0</td>\n    </tr>\n    <tr>\n      <th>4</th>\n      <td>318443</td>\n      <td>28</td>\n      <td>b</td>\n      <td>11</td>\n      <td>X</td>\n      <td>2</td>\n      <td>gynecology</td>\n      <td>R</td>\n      <td>F</td>\n      <td>2.0</td>\n      <td>17006</td>\n      <td>2.0</td>\n      <td>Trauma</td>\n      <td>Moderate</td>\n      <td>4</td>\n      <td>71-80</td>\n      <td>4161.0</td>\n    </tr>\n    <tr>\n      <th>...</th>\n      <td>...</td>\n      <td>...</td>\n      <td>...</td>\n      <td>...</td>\n      <td>...</td>\n      <td>...</td>\n      <td>...</td>\n      <td>...</td>\n      <td>...</td>\n      <td>...</td>\n      <td>...</td>\n      <td>...</td>\n      <td>...</td>\n      <td>...</td>\n      <td>...</td>\n      <td>...</td>\n      <td>...</td>\n    </tr>\n    <tr>\n      <th>1995</th>\n      <td>320434</td>\n      <td>26</td>\n      <td>b</td>\n      <td>2</td>\n      <td>Y</td>\n      <td>1</td>\n      <td>anesthesia</td>\n      <td>R</td>\n      <td>D</td>\n      <td>2.0</td>\n      <td>19303</td>\n      <td>8.0</td>\n      <td>Trauma</td>\n      <td>Extreme</td>\n      <td>4</td>\n      <td>51-60</td>\n      <td>8829.0</td>\n    </tr>\n    <tr>\n      <th>1996</th>\n      <td>320435</td>\n      <td>26</td>\n      <td>b</td>\n      <td>2</td>\n      <td>Y</td>\n      <td>4</td>\n      <td>gynecology</td>\n      <td>R</td>\n      <td>D</td>\n      <td>1.0</td>\n      <td>19303</td>\n      <td>8.0</td>\n      <td>Trauma</td>\n      <td>Extreme</td>\n      <td>6</td>\n      <td>51-60</td>\n      <td>3507.0</td>\n    </tr>\n    <tr>\n      <th>1997</th>\n      <td>320436</td>\n      <td>23</td>\n      <td>a</td>\n      <td>6</td>\n      <td>X</td>\n      <td>3</td>\n      <td>gynecology</td>\n      <td>Q</td>\n      <td>F</td>\n      <td>1.0</td>\n      <td>19303</td>\n      <td>8.0</td>\n      <td>Trauma</td>\n      <td>Extreme</td>\n      <td>3</td>\n      <td>51-60</td>\n      <td>4109.0</td>\n    </tr>\n    <tr>\n      <th>1998</th>\n      <td>320437</td>\n      <td>25</td>\n      <td>e</td>\n      <td>1</td>\n      <td>X</td>\n      <td>4</td>\n      <td>gynecology</td>\n      <td>Q</td>\n      <td>E</td>\n      <td>3.0</td>\n      <td>19303</td>\n      <td>8.0</td>\n      <td>Emergency</td>\n      <td>Extreme</td>\n      <td>4</td>\n      <td>51-60</td>\n      <td>4155.0</td>\n    </tr>\n    <tr>\n      <th>1999</th>\n      <td>320438</td>\n      <td>10</td>\n      <td>e</td>\n      <td>1</td>\n      <td>X</td>\n      <td>4</td>\n      <td>gynecology</td>\n      <td>Q</td>\n      <td>E</td>\n      <td>2.0</td>\n      <td>19303</td>\n      <td>8.0</td>\n      <td>Emergency</td>\n      <td>Extreme</td>\n      <td>3</td>\n      <td>51-60</td>\n      <td>4161.0</td>\n    </tr>\n  </tbody>\n</table>\n<p>2000 rows × 17 columns</p>\n</div>"
     },
     "execution_count": 86,
     "metadata": {},
     "output_type": "execute_result"
    }
   ],
   "source": [
    "#--- Read in dataset ----\n",
    "test = pd.read_csv(\"./test.csv\")\n",
    "\n",
    "# ---WRITE YOUR CODE FOR TASK 2 ---\n",
    "test"
   ],
   "metadata": {
    "collapsed": false,
    "ExecuteTime": {
     "end_time": "2023-11-08T20:43:13.724719Z",
     "start_time": "2023-11-08T20:43:13.711685Z"
    }
   },
   "id": "e29d1b973de03cc9"
  },
  {
   "cell_type": "markdown",
   "source": [
    "### Task 3: Navigating the Missing Values.\n",
    "As the data scientist delved into the dataset, a new challenge emerged—missing values. The code snippet \"null_values_train\" unveiled the extent of these gaps within \"train.csv.\" Each missing value represented a hidden aspect of the data that begged to be uncovered.\n",
    "\n",
    "This task was more than code; it was a quest for the data scientist to unearth hidden knowledge. The null values were the enigmatic pieces in a grand puzzle, vital to the project's success. The data scientist was resolute, devising strategies to address these gaps and ensure the dataset's completeness. With every null value tackled, the path to insights became clearer, one step closer to the ultimate goal."
   ],
   "metadata": {
    "collapsed": false
   },
   "id": "412f6b6bdd62c2c3"
  },
  {
   "cell_type": "code",
   "execution_count": 87,
   "outputs": [
    {
     "data": {
      "text/plain": "case_id                               0\nHospital_code                         0\nHospital_type_code                    0\nCity_Code_Hospital                    0\nHospital_region_code                  0\nAvailable Extra Rooms in Hospital     0\nDepartment                            0\nWard_Type                             0\nWard_Facility_Code                    0\nBed Grade                             2\npatientid                             0\nCity_Code_Patient                    42\nType of Admission                     0\nSeverity of Illness                   0\nVisitors with Patient                 0\nAge                                   0\nAdmission_Deposit                     0\nStay                                  0\ndtype: int64"
     },
     "execution_count": 87,
     "metadata": {},
     "output_type": "execute_result"
    }
   ],
   "source": [
    "# --- WRITE YOUR CODE FOR TASK 3 ---\n",
    "null_values_train = train.isnull().sum()\n",
    "\n",
    "null_values_train"
   ],
   "metadata": {
    "collapsed": false,
    "ExecuteTime": {
     "end_time": "2023-11-08T20:43:14.103825Z",
     "start_time": "2023-11-08T20:43:14.099824Z"
    }
   },
   "id": "c5f9e76e18856602"
  },
  {
   "cell_type": "markdown",
   "source": [
    "### Task 4: Conquering the Enigma of Missing Values.\n",
    "With a sense of unwavering dedication, the data scientist shifted their focus to the \"test.csv\" dataset, ready to face another formidable challenge. The code snippet \"null_values_test\" unveiled a fresh perspective on the missing values within this new dataset. Each null value represented a potential hurdle, an element of the story that was yet to be fully understood."
   ],
   "metadata": {
    "collapsed": false
   },
   "id": "173ad99b0d2aa3c1"
  },
  {
   "cell_type": "code",
   "execution_count": 88,
   "outputs": [
    {
     "data": {
      "text/plain": "case_id                               0\nHospital_code                         0\nHospital_type_code                    0\nCity_Code_Hospital                    0\nHospital_region_code                  0\nAvailable Extra Rooms in Hospital     0\nDepartment                            0\nWard_Type                             0\nWard_Facility_Code                    0\nBed Grade                             2\npatientid                             0\nCity_Code_Patient                    21\nType of Admission                     0\nSeverity of Illness                   0\nVisitors with Patient                 0\nAge                                   0\nAdmission_Deposit                     0\ndtype: int64"
     },
     "execution_count": 88,
     "metadata": {},
     "output_type": "execute_result"
    }
   ],
   "source": [
    "# --- WRITE YOUR CODE FOR TASK 4 ---\n",
    "null_values_test = test.isnull().sum()\n",
    "\n",
    "null_values_test"
   ],
   "metadata": {
    "collapsed": false,
    "ExecuteTime": {
     "end_time": "2023-11-08T20:43:14.458717Z",
     "start_time": "2023-11-08T20:43:14.454444Z"
    }
   },
   "id": "a3a810e6df965cd6"
  },
  {
   "cell_type": "markdown",
   "source": [
    "### Task 5: Data Healing.\n",
    "With each line of code executed, the data scientist meticulously filled in the missing pieces of the puzzle. The \"Bed Grade\" column, which held information critical to the project, saw its gaps mended. By replacing the NA values with the mode of the column, the data scientist ensured that this aspect of the data was now complete and ready for analysis.\n",
    "\n",
    "The same diligent approach was applied to the \"City_Code_Patient\" column, both in the training and test datasets. With missing values replaced by the mode, the data scientist breathed life back into these columns, making the data more robust and insightful. The journey to harness the full potential of the datasets continued, as these enhancements brought the data scientist closer to the moment of revelation."
   ],
   "metadata": {
    "collapsed": false
   },
   "id": "bcff5bcbf287c8f1"
  },
  {
   "cell_type": "code",
   "execution_count": 89,
   "outputs": [],
   "source": [
    "#--- WRITE YOUR CODE FOR TASK 5 ---\n",
    "train[\"Bed Grade\"].fillna(train[\"Bed Grade\"].mode(),inplace=True)\n",
    "train[\"City_Code_Patient\"].fillna(train[\"City_Code_Patient\"].mode(),inplace=True)\n",
    "#--- Inspect data ---"
   ],
   "metadata": {
    "collapsed": false,
    "ExecuteTime": {
     "end_time": "2023-11-08T20:43:14.890214Z",
     "start_time": "2023-11-08T20:43:14.886783Z"
    }
   },
   "id": "a1460ac960c014b2"
  },
  {
   "cell_type": "markdown",
   "source": [
    "### Task 6: Data Completeness.\n",
    "With precision and dedication, the data scientist extended their data preparation process to the \"test.csv\" dataset. Just as they had done for the training data, the missing values in the \"Bed Grade\" and \"City_Code_Patient\" columns were diligently addressed.\n",
    "\n",
    "By filling in these gaps with the mode of their respective columns, the data scientist ensured that the test data was now equally robust and well-prepared. The two datasets were now harmonized, ready to undergo analysis, and the stage was set for the critical next steps in the project."
   ],
   "metadata": {
    "collapsed": false
   },
   "id": "c1723797c0677b9b"
  },
  {
   "cell_type": "code",
   "execution_count": 90,
   "outputs": [],
   "source": [
    "#--- WRITE YOUR CODE FOR TASK 6 ---\n",
    "test[\"Bed Grade\"].fillna(test[\"Bed Grade\"].mode(),inplace=True)\n",
    "test[\"City_Code_Patient\"].fillna(test[\"City_Code_Patient\"].mode(),inplace=True)\n",
    "\n",
    "#--- Inspect data ---"
   ],
   "metadata": {
    "collapsed": false,
    "ExecuteTime": {
     "end_time": "2023-11-08T20:43:15.254229Z",
     "start_time": "2023-11-08T20:43:15.248590Z"
    }
   },
   "id": "3af1a46f158477a4"
  },
  {
   "cell_type": "markdown",
   "source": [
    "## Module 2\n",
    "### Task 1: Transforming 'Stay' with LabelEncoder.\n",
    "In the data scientist's relentless pursuit of knowledge, they ventured into the realm of feature transformation. The code snippet employing the LabelEncoder was a pivotal step in the journey. The \"Stay\" column, a critical factor in the dataset, was now transformed into numerical values for the machine to comprehend.\n",
    "\n",
    "This transformation was essential to enable predictive modeling and machine learning algorithms to make sense of the data. The data scientist watched as the \"Stay\" column, once a collection of varied labels, became a structured numerical representation, opening the door to new possibilities in analysis."
   ],
   "metadata": {
    "collapsed": false
   },
   "id": "359813b481a61a22"
  },
  {
   "cell_type": "code",
   "execution_count": 91,
   "outputs": [
    {
     "data": {
      "text/plain": "0       0\n1       4\n2       3\n3       4\n4       4\n       ..\n4995    0\n4996    3\n4997    5\n4998    2\n4999    1\nName: Stay, Length: 5000, dtype: int64"
     },
     "execution_count": 91,
     "metadata": {},
     "output_type": "execute_result"
    }
   ],
   "source": [
    "from sklearn.preprocessing import LabelEncoder\n",
    "le = LabelEncoder()\n",
    "#--- WRITE YOUR CODE FOR TASK 1 ---\n",
    "train[\"Stay\"] = le.fit_transform(train[\"Stay\"].astype(\"str\"))\n",
    "\n",
    "train[\"Stay\"]"
   ],
   "metadata": {
    "collapsed": false,
    "ExecuteTime": {
     "end_time": "2023-11-08T20:43:15.720211Z",
     "start_time": "2023-11-08T20:43:15.712749Z"
    }
   },
   "id": "ff1e7d96489d5a32"
  },
  {
   "cell_type": "markdown",
   "source": [
    "### Task 2: Charting the Unknown.\n",
    "In the next chapter of the data scientist's story, they turned their attention to the \"test.csv\" dataset. Here, they encountered an intriguing challenge. The \"Stay\" column, vital for the project, was initially left blank. Without missing a beat, the data scientist boldly assigned a default value of -1 to this column, setting the stage for further data manipulation and analysis.\n",
    "\n",
    "The reasons for this move lay hidden within the algorithmic realm, a placeholder to be eventually replaced by machine-generated predictions. As the data scientist executed this change, it symbolized the start of a new phase in their mission – the one where the algorithm would craft predictions and, in turn, determine the lengths of patients' stays."
   ],
   "metadata": {
    "collapsed": false
   },
   "id": "cb84ba8ff1420957"
  },
  {
   "cell_type": "code",
   "execution_count": 92,
   "outputs": [
    {
     "data": {
      "text/plain": "      case_id  Hospital_code Hospital_type_code  City_Code_Hospital  \\\n0      318439             21                  c                   3   \n1      318440             29                  a                   4   \n2      318441             26                  b                   2   \n3      318442              6                  a                   6   \n4      318443             28                  b                  11   \n...       ...            ...                ...                 ...   \n1995   320434             26                  b                   2   \n1996   320435             26                  b                   2   \n1997   320436             23                  a                   6   \n1998   320437             25                  e                   1   \n1999   320438             10                  e                   1   \n\n     Hospital_region_code  Available Extra Rooms in Hospital  Department  \\\n0                       Z                                  3  gynecology   \n1                       X                                  2  gynecology   \n2                       Y                                  3  gynecology   \n3                       X                                  3  gynecology   \n4                       X                                  2  gynecology   \n...                   ...                                ...         ...   \n1995                    Y                                  1  anesthesia   \n1996                    Y                                  4  gynecology   \n1997                    X                                  3  gynecology   \n1998                    X                                  4  gynecology   \n1999                    X                                  4  gynecology   \n\n     Ward_Type Ward_Facility_Code  Bed Grade  patientid  City_Code_Patient  \\\n0            S                  A        2.0      17006                2.0   \n1            S                  F        2.0      17006                2.0   \n2            Q                  D        4.0      17006                2.0   \n3            Q                  F        2.0      17006                2.0   \n4            R                  F        2.0      17006                2.0   \n...        ...                ...        ...        ...                ...   \n1995         R                  D        2.0      19303                8.0   \n1996         R                  D        1.0      19303                8.0   \n1997         Q                  F        1.0      19303                8.0   \n1998         Q                  E        3.0      19303                8.0   \n1999         Q                  E        2.0      19303                8.0   \n\n     Type of Admission Severity of Illness  Visitors with Patient    Age  \\\n0            Emergency            Moderate                      2  71-80   \n1               Trauma            Moderate                      4  71-80   \n2            Emergency            Moderate                      3  71-80   \n3               Trauma            Moderate                      3  71-80   \n4               Trauma            Moderate                      4  71-80   \n...                ...                 ...                    ...    ...   \n1995            Trauma             Extreme                      4  51-60   \n1996            Trauma             Extreme                      6  51-60   \n1997            Trauma             Extreme                      3  51-60   \n1998         Emergency             Extreme                      4  51-60   \n1999         Emergency             Extreme                      3  51-60   \n\n      Admission_Deposit  Stay  \n0                3095.0    -1  \n1                4018.0    -1  \n2                4492.0    -1  \n3                4173.0    -1  \n4                4161.0    -1  \n...                 ...   ...  \n1995             8829.0    -1  \n1996             3507.0    -1  \n1997             4109.0    -1  \n1998             4155.0    -1  \n1999             4161.0    -1  \n\n[2000 rows x 18 columns]",
      "text/html": "<div>\n<style scoped>\n    .dataframe tbody tr th:only-of-type {\n        vertical-align: middle;\n    }\n\n    .dataframe tbody tr th {\n        vertical-align: top;\n    }\n\n    .dataframe thead th {\n        text-align: right;\n    }\n</style>\n<table border=\"1\" class=\"dataframe\">\n  <thead>\n    <tr style=\"text-align: right;\">\n      <th></th>\n      <th>case_id</th>\n      <th>Hospital_code</th>\n      <th>Hospital_type_code</th>\n      <th>City_Code_Hospital</th>\n      <th>Hospital_region_code</th>\n      <th>Available Extra Rooms in Hospital</th>\n      <th>Department</th>\n      <th>Ward_Type</th>\n      <th>Ward_Facility_Code</th>\n      <th>Bed Grade</th>\n      <th>patientid</th>\n      <th>City_Code_Patient</th>\n      <th>Type of Admission</th>\n      <th>Severity of Illness</th>\n      <th>Visitors with Patient</th>\n      <th>Age</th>\n      <th>Admission_Deposit</th>\n      <th>Stay</th>\n    </tr>\n  </thead>\n  <tbody>\n    <tr>\n      <th>0</th>\n      <td>318439</td>\n      <td>21</td>\n      <td>c</td>\n      <td>3</td>\n      <td>Z</td>\n      <td>3</td>\n      <td>gynecology</td>\n      <td>S</td>\n      <td>A</td>\n      <td>2.0</td>\n      <td>17006</td>\n      <td>2.0</td>\n      <td>Emergency</td>\n      <td>Moderate</td>\n      <td>2</td>\n      <td>71-80</td>\n      <td>3095.0</td>\n      <td>-1</td>\n    </tr>\n    <tr>\n      <th>1</th>\n      <td>318440</td>\n      <td>29</td>\n      <td>a</td>\n      <td>4</td>\n      <td>X</td>\n      <td>2</td>\n      <td>gynecology</td>\n      <td>S</td>\n      <td>F</td>\n      <td>2.0</td>\n      <td>17006</td>\n      <td>2.0</td>\n      <td>Trauma</td>\n      <td>Moderate</td>\n      <td>4</td>\n      <td>71-80</td>\n      <td>4018.0</td>\n      <td>-1</td>\n    </tr>\n    <tr>\n      <th>2</th>\n      <td>318441</td>\n      <td>26</td>\n      <td>b</td>\n      <td>2</td>\n      <td>Y</td>\n      <td>3</td>\n      <td>gynecology</td>\n      <td>Q</td>\n      <td>D</td>\n      <td>4.0</td>\n      <td>17006</td>\n      <td>2.0</td>\n      <td>Emergency</td>\n      <td>Moderate</td>\n      <td>3</td>\n      <td>71-80</td>\n      <td>4492.0</td>\n      <td>-1</td>\n    </tr>\n    <tr>\n      <th>3</th>\n      <td>318442</td>\n      <td>6</td>\n      <td>a</td>\n      <td>6</td>\n      <td>X</td>\n      <td>3</td>\n      <td>gynecology</td>\n      <td>Q</td>\n      <td>F</td>\n      <td>2.0</td>\n      <td>17006</td>\n      <td>2.0</td>\n      <td>Trauma</td>\n      <td>Moderate</td>\n      <td>3</td>\n      <td>71-80</td>\n      <td>4173.0</td>\n      <td>-1</td>\n    </tr>\n    <tr>\n      <th>4</th>\n      <td>318443</td>\n      <td>28</td>\n      <td>b</td>\n      <td>11</td>\n      <td>X</td>\n      <td>2</td>\n      <td>gynecology</td>\n      <td>R</td>\n      <td>F</td>\n      <td>2.0</td>\n      <td>17006</td>\n      <td>2.0</td>\n      <td>Trauma</td>\n      <td>Moderate</td>\n      <td>4</td>\n      <td>71-80</td>\n      <td>4161.0</td>\n      <td>-1</td>\n    </tr>\n    <tr>\n      <th>...</th>\n      <td>...</td>\n      <td>...</td>\n      <td>...</td>\n      <td>...</td>\n      <td>...</td>\n      <td>...</td>\n      <td>...</td>\n      <td>...</td>\n      <td>...</td>\n      <td>...</td>\n      <td>...</td>\n      <td>...</td>\n      <td>...</td>\n      <td>...</td>\n      <td>...</td>\n      <td>...</td>\n      <td>...</td>\n      <td>...</td>\n    </tr>\n    <tr>\n      <th>1995</th>\n      <td>320434</td>\n      <td>26</td>\n      <td>b</td>\n      <td>2</td>\n      <td>Y</td>\n      <td>1</td>\n      <td>anesthesia</td>\n      <td>R</td>\n      <td>D</td>\n      <td>2.0</td>\n      <td>19303</td>\n      <td>8.0</td>\n      <td>Trauma</td>\n      <td>Extreme</td>\n      <td>4</td>\n      <td>51-60</td>\n      <td>8829.0</td>\n      <td>-1</td>\n    </tr>\n    <tr>\n      <th>1996</th>\n      <td>320435</td>\n      <td>26</td>\n      <td>b</td>\n      <td>2</td>\n      <td>Y</td>\n      <td>4</td>\n      <td>gynecology</td>\n      <td>R</td>\n      <td>D</td>\n      <td>1.0</td>\n      <td>19303</td>\n      <td>8.0</td>\n      <td>Trauma</td>\n      <td>Extreme</td>\n      <td>6</td>\n      <td>51-60</td>\n      <td>3507.0</td>\n      <td>-1</td>\n    </tr>\n    <tr>\n      <th>1997</th>\n      <td>320436</td>\n      <td>23</td>\n      <td>a</td>\n      <td>6</td>\n      <td>X</td>\n      <td>3</td>\n      <td>gynecology</td>\n      <td>Q</td>\n      <td>F</td>\n      <td>1.0</td>\n      <td>19303</td>\n      <td>8.0</td>\n      <td>Trauma</td>\n      <td>Extreme</td>\n      <td>3</td>\n      <td>51-60</td>\n      <td>4109.0</td>\n      <td>-1</td>\n    </tr>\n    <tr>\n      <th>1998</th>\n      <td>320437</td>\n      <td>25</td>\n      <td>e</td>\n      <td>1</td>\n      <td>X</td>\n      <td>4</td>\n      <td>gynecology</td>\n      <td>Q</td>\n      <td>E</td>\n      <td>3.0</td>\n      <td>19303</td>\n      <td>8.0</td>\n      <td>Emergency</td>\n      <td>Extreme</td>\n      <td>4</td>\n      <td>51-60</td>\n      <td>4155.0</td>\n      <td>-1</td>\n    </tr>\n    <tr>\n      <th>1999</th>\n      <td>320438</td>\n      <td>10</td>\n      <td>e</td>\n      <td>1</td>\n      <td>X</td>\n      <td>4</td>\n      <td>gynecology</td>\n      <td>Q</td>\n      <td>E</td>\n      <td>2.0</td>\n      <td>19303</td>\n      <td>8.0</td>\n      <td>Emergency</td>\n      <td>Extreme</td>\n      <td>3</td>\n      <td>51-60</td>\n      <td>4161.0</td>\n      <td>-1</td>\n    </tr>\n  </tbody>\n</table>\n<p>2000 rows × 18 columns</p>\n</div>"
     },
     "execution_count": 92,
     "metadata": {},
     "output_type": "execute_result"
    }
   ],
   "source": [
    "#--- WRITE YOUR CODE FOR TASK 2 ---\n",
    "test[\"Stay\"] = -1\n",
    "\n",
    "test"
   ],
   "metadata": {
    "collapsed": false,
    "ExecuteTime": {
     "end_time": "2023-11-08T20:43:16.126123Z",
     "start_time": "2023-11-08T20:43:16.112408Z"
    }
   },
   "id": "93fabf52445fdca4"
  },
  {
   "cell_type": "markdown",
   "source": [
    "### Task 3: Data Convergence.\n",
    "As the data scientist continued their quest for insights, they faced a pivotal moment in their journey. The merging of the \"train\" and \"test\" datasets marked a significant milestone. By creating a single, consolidated dataset named \"df,\" they brought together the entirety of their data resources."
   ],
   "metadata": {
    "collapsed": false
   },
   "id": "1f9a46c078da6c67"
  },
  {
   "cell_type": "code",
   "execution_count": 93,
   "outputs": [
    {
     "data": {
      "text/plain": "      case_id  Hospital_code Hospital_type_code  City_Code_Hospital  \\\n0           1              8                  c                   3   \n1           2              2                  c                   5   \n2           3             10                  e                   1   \n3           4             26                  b                   2   \n4           5             26                  b                   2   \n...       ...            ...                ...                 ...   \n6995   320434             26                  b                   2   \n6996   320435             26                  b                   2   \n6997   320436             23                  a                   6   \n6998   320437             25                  e                   1   \n6999   320438             10                  e                   1   \n\n     Hospital_region_code  Available Extra Rooms in Hospital    Department  \\\n0                       Z                                  3  radiotherapy   \n1                       Z                                  2  radiotherapy   \n2                       X                                  2    anesthesia   \n3                       Y                                  2  radiotherapy   \n4                       Y                                  2  radiotherapy   \n...                   ...                                ...           ...   \n6995                    Y                                  1    anesthesia   \n6996                    Y                                  4    gynecology   \n6997                    X                                  3    gynecology   \n6998                    X                                  4    gynecology   \n6999                    X                                  4    gynecology   \n\n     Ward_Type Ward_Facility_Code  Bed Grade  patientid  City_Code_Patient  \\\n0            R                  F        2.0      31397                7.0   \n1            S                  F        2.0      31397                7.0   \n2            S                  E        2.0      31397                7.0   \n3            R                  D        2.0      31397                7.0   \n4            S                  D        2.0      31397                7.0   \n...        ...                ...        ...        ...                ...   \n6995         R                  D        2.0      19303                8.0   \n6996         R                  D        1.0      19303                8.0   \n6997         Q                  F        1.0      19303                8.0   \n6998         Q                  E        3.0      19303                8.0   \n6999         Q                  E        2.0      19303                8.0   \n\n     Type of Admission Severity of Illness  Visitors with Patient    Age  \\\n0            Emergency             Extreme                      2  51-60   \n1               Trauma             Extreme                      2  51-60   \n2               Trauma             Extreme                      2  51-60   \n3               Trauma             Extreme                      2  51-60   \n4               Trauma             Extreme                      2  51-60   \n...                ...                 ...                    ...    ...   \n6995            Trauma             Extreme                      4  51-60   \n6996            Trauma             Extreme                      6  51-60   \n6997            Trauma             Extreme                      3  51-60   \n6998         Emergency             Extreme                      4  51-60   \n6999         Emergency             Extreme                      3  51-60   \n\n      Admission_Deposit  Stay  \n0                4911.0     0  \n1                5954.0     4  \n2                4745.0     3  \n3                7272.0     4  \n4                5558.0     4  \n...                 ...   ...  \n6995             8829.0    -1  \n6996             3507.0    -1  \n6997             4109.0    -1  \n6998             4155.0    -1  \n6999             4161.0    -1  \n\n[7000 rows x 18 columns]",
      "text/html": "<div>\n<style scoped>\n    .dataframe tbody tr th:only-of-type {\n        vertical-align: middle;\n    }\n\n    .dataframe tbody tr th {\n        vertical-align: top;\n    }\n\n    .dataframe thead th {\n        text-align: right;\n    }\n</style>\n<table border=\"1\" class=\"dataframe\">\n  <thead>\n    <tr style=\"text-align: right;\">\n      <th></th>\n      <th>case_id</th>\n      <th>Hospital_code</th>\n      <th>Hospital_type_code</th>\n      <th>City_Code_Hospital</th>\n      <th>Hospital_region_code</th>\n      <th>Available Extra Rooms in Hospital</th>\n      <th>Department</th>\n      <th>Ward_Type</th>\n      <th>Ward_Facility_Code</th>\n      <th>Bed Grade</th>\n      <th>patientid</th>\n      <th>City_Code_Patient</th>\n      <th>Type of Admission</th>\n      <th>Severity of Illness</th>\n      <th>Visitors with Patient</th>\n      <th>Age</th>\n      <th>Admission_Deposit</th>\n      <th>Stay</th>\n    </tr>\n  </thead>\n  <tbody>\n    <tr>\n      <th>0</th>\n      <td>1</td>\n      <td>8</td>\n      <td>c</td>\n      <td>3</td>\n      <td>Z</td>\n      <td>3</td>\n      <td>radiotherapy</td>\n      <td>R</td>\n      <td>F</td>\n      <td>2.0</td>\n      <td>31397</td>\n      <td>7.0</td>\n      <td>Emergency</td>\n      <td>Extreme</td>\n      <td>2</td>\n      <td>51-60</td>\n      <td>4911.0</td>\n      <td>0</td>\n    </tr>\n    <tr>\n      <th>1</th>\n      <td>2</td>\n      <td>2</td>\n      <td>c</td>\n      <td>5</td>\n      <td>Z</td>\n      <td>2</td>\n      <td>radiotherapy</td>\n      <td>S</td>\n      <td>F</td>\n      <td>2.0</td>\n      <td>31397</td>\n      <td>7.0</td>\n      <td>Trauma</td>\n      <td>Extreme</td>\n      <td>2</td>\n      <td>51-60</td>\n      <td>5954.0</td>\n      <td>4</td>\n    </tr>\n    <tr>\n      <th>2</th>\n      <td>3</td>\n      <td>10</td>\n      <td>e</td>\n      <td>1</td>\n      <td>X</td>\n      <td>2</td>\n      <td>anesthesia</td>\n      <td>S</td>\n      <td>E</td>\n      <td>2.0</td>\n      <td>31397</td>\n      <td>7.0</td>\n      <td>Trauma</td>\n      <td>Extreme</td>\n      <td>2</td>\n      <td>51-60</td>\n      <td>4745.0</td>\n      <td>3</td>\n    </tr>\n    <tr>\n      <th>3</th>\n      <td>4</td>\n      <td>26</td>\n      <td>b</td>\n      <td>2</td>\n      <td>Y</td>\n      <td>2</td>\n      <td>radiotherapy</td>\n      <td>R</td>\n      <td>D</td>\n      <td>2.0</td>\n      <td>31397</td>\n      <td>7.0</td>\n      <td>Trauma</td>\n      <td>Extreme</td>\n      <td>2</td>\n      <td>51-60</td>\n      <td>7272.0</td>\n      <td>4</td>\n    </tr>\n    <tr>\n      <th>4</th>\n      <td>5</td>\n      <td>26</td>\n      <td>b</td>\n      <td>2</td>\n      <td>Y</td>\n      <td>2</td>\n      <td>radiotherapy</td>\n      <td>S</td>\n      <td>D</td>\n      <td>2.0</td>\n      <td>31397</td>\n      <td>7.0</td>\n      <td>Trauma</td>\n      <td>Extreme</td>\n      <td>2</td>\n      <td>51-60</td>\n      <td>5558.0</td>\n      <td>4</td>\n    </tr>\n    <tr>\n      <th>...</th>\n      <td>...</td>\n      <td>...</td>\n      <td>...</td>\n      <td>...</td>\n      <td>...</td>\n      <td>...</td>\n      <td>...</td>\n      <td>...</td>\n      <td>...</td>\n      <td>...</td>\n      <td>...</td>\n      <td>...</td>\n      <td>...</td>\n      <td>...</td>\n      <td>...</td>\n      <td>...</td>\n      <td>...</td>\n      <td>...</td>\n    </tr>\n    <tr>\n      <th>6995</th>\n      <td>320434</td>\n      <td>26</td>\n      <td>b</td>\n      <td>2</td>\n      <td>Y</td>\n      <td>1</td>\n      <td>anesthesia</td>\n      <td>R</td>\n      <td>D</td>\n      <td>2.0</td>\n      <td>19303</td>\n      <td>8.0</td>\n      <td>Trauma</td>\n      <td>Extreme</td>\n      <td>4</td>\n      <td>51-60</td>\n      <td>8829.0</td>\n      <td>-1</td>\n    </tr>\n    <tr>\n      <th>6996</th>\n      <td>320435</td>\n      <td>26</td>\n      <td>b</td>\n      <td>2</td>\n      <td>Y</td>\n      <td>4</td>\n      <td>gynecology</td>\n      <td>R</td>\n      <td>D</td>\n      <td>1.0</td>\n      <td>19303</td>\n      <td>8.0</td>\n      <td>Trauma</td>\n      <td>Extreme</td>\n      <td>6</td>\n      <td>51-60</td>\n      <td>3507.0</td>\n      <td>-1</td>\n    </tr>\n    <tr>\n      <th>6997</th>\n      <td>320436</td>\n      <td>23</td>\n      <td>a</td>\n      <td>6</td>\n      <td>X</td>\n      <td>3</td>\n      <td>gynecology</td>\n      <td>Q</td>\n      <td>F</td>\n      <td>1.0</td>\n      <td>19303</td>\n      <td>8.0</td>\n      <td>Trauma</td>\n      <td>Extreme</td>\n      <td>3</td>\n      <td>51-60</td>\n      <td>4109.0</td>\n      <td>-1</td>\n    </tr>\n    <tr>\n      <th>6998</th>\n      <td>320437</td>\n      <td>25</td>\n      <td>e</td>\n      <td>1</td>\n      <td>X</td>\n      <td>4</td>\n      <td>gynecology</td>\n      <td>Q</td>\n      <td>E</td>\n      <td>3.0</td>\n      <td>19303</td>\n      <td>8.0</td>\n      <td>Emergency</td>\n      <td>Extreme</td>\n      <td>4</td>\n      <td>51-60</td>\n      <td>4155.0</td>\n      <td>-1</td>\n    </tr>\n    <tr>\n      <th>6999</th>\n      <td>320438</td>\n      <td>10</td>\n      <td>e</td>\n      <td>1</td>\n      <td>X</td>\n      <td>4</td>\n      <td>gynecology</td>\n      <td>Q</td>\n      <td>E</td>\n      <td>2.0</td>\n      <td>19303</td>\n      <td>8.0</td>\n      <td>Emergency</td>\n      <td>Extreme</td>\n      <td>3</td>\n      <td>51-60</td>\n      <td>4161.0</td>\n      <td>-1</td>\n    </tr>\n  </tbody>\n</table>\n<p>7000 rows × 18 columns</p>\n</div>"
     },
     "execution_count": 93,
     "metadata": {},
     "output_type": "execute_result"
    }
   ],
   "source": [
    "#--- WRITE YOUR CODE FOR TASK 3 ---\n",
    "df = pd.concat([train,test],ignore_index=True)\n",
    "\n",
    "df"
   ],
   "metadata": {
    "collapsed": false,
    "ExecuteTime": {
     "end_time": "2023-11-08T20:43:16.579899Z",
     "start_time": "2023-11-08T20:43:16.566500Z"
    }
   },
   "id": "e22ef3ad1443a51e"
  },
  {
   "cell_type": "markdown",
   "source": [
    "### Task 4: Transforming Categories into Numbers.\n",
    "With each loop iteration, the data scientist's journey into data transformation continued to unfold. They recognized the importance of encoding categorical variables, as it was a pivotal step in preparing the data for machine learning algorithms. For every feature in the list, including \"Hospital_type_code,\" \"Department,\" \"Age,\" and more, the LabelEncoder was brought into play.\n",
    "\n",
    "This transformation turned the categorical variables into numerical representations, providing a common language for the algorithms to interpret. It was as if these once-diverse variables were now speaking a unified numerical dialect."
   ],
   "metadata": {
    "collapsed": false
   },
   "id": "33229d1f3aa8fc62"
  },
  {
   "cell_type": "code",
   "execution_count": 94,
   "outputs": [
    {
     "data": {
      "text/plain": "      case_id  Hospital_code  Hospital_type_code  City_Code_Hospital  \\\n0           1              8                   2                   3   \n1           2              2                   2                   5   \n2           3             10                   4                   1   \n3           4             26                   1                   2   \n4           5             26                   1                   2   \n...       ...            ...                 ...                 ...   \n6995   320434             26                   1                   2   \n6996   320435             26                   1                   2   \n6997   320436             23                   0                   6   \n6998   320437             25                   4                   1   \n6999   320438             10                   4                   1   \n\n      Hospital_region_code  Available Extra Rooms in Hospital  Department  \\\n0                        2                                  3           3   \n1                        2                                  2           3   \n2                        0                                  2           1   \n3                        1                                  2           3   \n4                        1                                  2           3   \n...                    ...                                ...         ...   \n6995                     1                                  1           1   \n6996                     1                                  4           2   \n6997                     0                                  3           2   \n6998                     0                                  4           2   \n6999                     0                                  4           2   \n\n      Ward_Type  Ward_Facility_Code  Bed Grade  patientid  City_Code_Patient  \\\n0             2                   5        2.0      31397                7.0   \n1             3                   5        2.0      31397                7.0   \n2             3                   4        2.0      31397                7.0   \n3             2                   3        2.0      31397                7.0   \n4             3                   3        2.0      31397                7.0   \n...         ...                 ...        ...        ...                ...   \n6995          2                   3        2.0      19303                8.0   \n6996          2                   3        1.0      19303                8.0   \n6997          1                   5        1.0      19303                8.0   \n6998          1                   4        3.0      19303                8.0   \n6999          1                   4        2.0      19303                8.0   \n\n      Type of Admission  Severity of Illness  Visitors with Patient  Age  \\\n0                     0                    0                      2    5   \n1                     1                    0                      2    5   \n2                     1                    0                      2    5   \n3                     1                    0                      2    5   \n4                     1                    0                      2    5   \n...                 ...                  ...                    ...  ...   \n6995                  1                    0                      4    5   \n6996                  1                    0                      6    5   \n6997                  1                    0                      3    5   \n6998                  0                    0                      4    5   \n6999                  0                    0                      3    5   \n\n      Admission_Deposit  Stay  \n0                4911.0     0  \n1                5954.0     4  \n2                4745.0     3  \n3                7272.0     4  \n4                5558.0     4  \n...                 ...   ...  \n6995             8829.0    -1  \n6996             3507.0    -1  \n6997             4109.0    -1  \n6998             4155.0    -1  \n6999             4161.0    -1  \n\n[7000 rows x 18 columns]",
      "text/html": "<div>\n<style scoped>\n    .dataframe tbody tr th:only-of-type {\n        vertical-align: middle;\n    }\n\n    .dataframe tbody tr th {\n        vertical-align: top;\n    }\n\n    .dataframe thead th {\n        text-align: right;\n    }\n</style>\n<table border=\"1\" class=\"dataframe\">\n  <thead>\n    <tr style=\"text-align: right;\">\n      <th></th>\n      <th>case_id</th>\n      <th>Hospital_code</th>\n      <th>Hospital_type_code</th>\n      <th>City_Code_Hospital</th>\n      <th>Hospital_region_code</th>\n      <th>Available Extra Rooms in Hospital</th>\n      <th>Department</th>\n      <th>Ward_Type</th>\n      <th>Ward_Facility_Code</th>\n      <th>Bed Grade</th>\n      <th>patientid</th>\n      <th>City_Code_Patient</th>\n      <th>Type of Admission</th>\n      <th>Severity of Illness</th>\n      <th>Visitors with Patient</th>\n      <th>Age</th>\n      <th>Admission_Deposit</th>\n      <th>Stay</th>\n    </tr>\n  </thead>\n  <tbody>\n    <tr>\n      <th>0</th>\n      <td>1</td>\n      <td>8</td>\n      <td>2</td>\n      <td>3</td>\n      <td>2</td>\n      <td>3</td>\n      <td>3</td>\n      <td>2</td>\n      <td>5</td>\n      <td>2.0</td>\n      <td>31397</td>\n      <td>7.0</td>\n      <td>0</td>\n      <td>0</td>\n      <td>2</td>\n      <td>5</td>\n      <td>4911.0</td>\n      <td>0</td>\n    </tr>\n    <tr>\n      <th>1</th>\n      <td>2</td>\n      <td>2</td>\n      <td>2</td>\n      <td>5</td>\n      <td>2</td>\n      <td>2</td>\n      <td>3</td>\n      <td>3</td>\n      <td>5</td>\n      <td>2.0</td>\n      <td>31397</td>\n      <td>7.0</td>\n      <td>1</td>\n      <td>0</td>\n      <td>2</td>\n      <td>5</td>\n      <td>5954.0</td>\n      <td>4</td>\n    </tr>\n    <tr>\n      <th>2</th>\n      <td>3</td>\n      <td>10</td>\n      <td>4</td>\n      <td>1</td>\n      <td>0</td>\n      <td>2</td>\n      <td>1</td>\n      <td>3</td>\n      <td>4</td>\n      <td>2.0</td>\n      <td>31397</td>\n      <td>7.0</td>\n      <td>1</td>\n      <td>0</td>\n      <td>2</td>\n      <td>5</td>\n      <td>4745.0</td>\n      <td>3</td>\n    </tr>\n    <tr>\n      <th>3</th>\n      <td>4</td>\n      <td>26</td>\n      <td>1</td>\n      <td>2</td>\n      <td>1</td>\n      <td>2</td>\n      <td>3</td>\n      <td>2</td>\n      <td>3</td>\n      <td>2.0</td>\n      <td>31397</td>\n      <td>7.0</td>\n      <td>1</td>\n      <td>0</td>\n      <td>2</td>\n      <td>5</td>\n      <td>7272.0</td>\n      <td>4</td>\n    </tr>\n    <tr>\n      <th>4</th>\n      <td>5</td>\n      <td>26</td>\n      <td>1</td>\n      <td>2</td>\n      <td>1</td>\n      <td>2</td>\n      <td>3</td>\n      <td>3</td>\n      <td>3</td>\n      <td>2.0</td>\n      <td>31397</td>\n      <td>7.0</td>\n      <td>1</td>\n      <td>0</td>\n      <td>2</td>\n      <td>5</td>\n      <td>5558.0</td>\n      <td>4</td>\n    </tr>\n    <tr>\n      <th>...</th>\n      <td>...</td>\n      <td>...</td>\n      <td>...</td>\n      <td>...</td>\n      <td>...</td>\n      <td>...</td>\n      <td>...</td>\n      <td>...</td>\n      <td>...</td>\n      <td>...</td>\n      <td>...</td>\n      <td>...</td>\n      <td>...</td>\n      <td>...</td>\n      <td>...</td>\n      <td>...</td>\n      <td>...</td>\n      <td>...</td>\n    </tr>\n    <tr>\n      <th>6995</th>\n      <td>320434</td>\n      <td>26</td>\n      <td>1</td>\n      <td>2</td>\n      <td>1</td>\n      <td>1</td>\n      <td>1</td>\n      <td>2</td>\n      <td>3</td>\n      <td>2.0</td>\n      <td>19303</td>\n      <td>8.0</td>\n      <td>1</td>\n      <td>0</td>\n      <td>4</td>\n      <td>5</td>\n      <td>8829.0</td>\n      <td>-1</td>\n    </tr>\n    <tr>\n      <th>6996</th>\n      <td>320435</td>\n      <td>26</td>\n      <td>1</td>\n      <td>2</td>\n      <td>1</td>\n      <td>4</td>\n      <td>2</td>\n      <td>2</td>\n      <td>3</td>\n      <td>1.0</td>\n      <td>19303</td>\n      <td>8.0</td>\n      <td>1</td>\n      <td>0</td>\n      <td>6</td>\n      <td>5</td>\n      <td>3507.0</td>\n      <td>-1</td>\n    </tr>\n    <tr>\n      <th>6997</th>\n      <td>320436</td>\n      <td>23</td>\n      <td>0</td>\n      <td>6</td>\n      <td>0</td>\n      <td>3</td>\n      <td>2</td>\n      <td>1</td>\n      <td>5</td>\n      <td>1.0</td>\n      <td>19303</td>\n      <td>8.0</td>\n      <td>1</td>\n      <td>0</td>\n      <td>3</td>\n      <td>5</td>\n      <td>4109.0</td>\n      <td>-1</td>\n    </tr>\n    <tr>\n      <th>6998</th>\n      <td>320437</td>\n      <td>25</td>\n      <td>4</td>\n      <td>1</td>\n      <td>0</td>\n      <td>4</td>\n      <td>2</td>\n      <td>1</td>\n      <td>4</td>\n      <td>3.0</td>\n      <td>19303</td>\n      <td>8.0</td>\n      <td>0</td>\n      <td>0</td>\n      <td>4</td>\n      <td>5</td>\n      <td>4155.0</td>\n      <td>-1</td>\n    </tr>\n    <tr>\n      <th>6999</th>\n      <td>320438</td>\n      <td>10</td>\n      <td>4</td>\n      <td>1</td>\n      <td>0</td>\n      <td>4</td>\n      <td>2</td>\n      <td>1</td>\n      <td>4</td>\n      <td>2.0</td>\n      <td>19303</td>\n      <td>8.0</td>\n      <td>0</td>\n      <td>0</td>\n      <td>3</td>\n      <td>5</td>\n      <td>4161.0</td>\n      <td>-1</td>\n    </tr>\n  </tbody>\n</table>\n<p>7000 rows × 18 columns</p>\n</div>"
     },
     "execution_count": 94,
     "metadata": {},
     "output_type": "execute_result"
    }
   ],
   "source": [
    "#--- WRITE YOUR CODE FOR TASK 4 ---\n",
    "for i in df[['Hospital_type_code', 'Hospital_region_code', 'Department', 'Ward_Type', 'Ward_Facility_Code', 'Type of Admission', 'Severity of Illness','Age']]:\n",
    "    le = LabelEncoder()\n",
    "    df[i] = le.fit_transform(df[i].astype(\"str\"))\n",
    "\n",
    "df"
   ],
   "metadata": {
    "collapsed": false,
    "ExecuteTime": {
     "end_time": "2023-11-08T20:43:17.016374Z",
     "start_time": "2023-11-08T20:43:16.999221Z"
    }
   },
   "id": "e0be763308d7d4e1"
  },
  {
   "cell_type": "markdown",
   "source": [
    "## Module 3\n",
    "### Task 1: Data Segmentation.\n",
    "In the ever-evolving data scientist's tale, a pivotal moment arrived. The \"train\" dataset, known as \"df\" from earlier, underwent a transformation. With the code snippet, the data scientist carefully filtered the data, creating a refined version where \"Stay\" values did not equal -1. This decision marked the separation of data meant for training and data that would be used for predictions.\n",
    "\n",
    "The \"train\" dataset now held only the rows where the outcomes were known, and it was this dataset that would be the cornerstone for developing and validating predictive models. It was a focused, purpose-driven dataset where patterns and insights would be uncovered to guide the project."
   ],
   "metadata": {
    "collapsed": false
   },
   "id": "9d7b2ff3c4e113b2"
  },
  {
   "cell_type": "code",
   "execution_count": 95,
   "outputs": [
    {
     "data": {
      "text/plain": "      case_id  Hospital_code  Hospital_type_code  City_Code_Hospital  \\\n0           1              8                   2                   3   \n1           2              2                   2                   5   \n2           3             10                   4                   1   \n3           4             26                   1                   2   \n4           5             26                   1                   2   \n...       ...            ...                 ...                 ...   \n4995     4996             19                   0                   7   \n4996     4997             26                   1                   2   \n4997     4998             32                   5                   9   \n4998     4999             26                   1                   2   \n4999     5000              9                   3                   5   \n\n      Hospital_region_code  Available Extra Rooms in Hospital  Department  \\\n0                        2                                  3           3   \n1                        2                                  2           3   \n2                        0                                  2           1   \n3                        1                                  2           3   \n4                        1                                  2           3   \n...                    ...                                ...         ...   \n4995                     1                                  2           2   \n4996                     1                                  2           2   \n4997                     1                                  3           2   \n4998                     1                                  3           2   \n4999                     2                                  4           1   \n\n      Ward_Type  Ward_Facility_Code  Bed Grade  patientid  City_Code_Patient  \\\n0             2                   5        2.0      31397                7.0   \n1             3                   5        2.0      31397                7.0   \n2             3                   4        2.0      31397                7.0   \n3             2                   3        2.0      31397                7.0   \n4             3                   3        2.0      31397                7.0   \n...         ...                 ...        ...        ...                ...   \n4995          3                   2        2.0     104970                8.0   \n4996          1                   3        4.0     104970                8.0   \n4997          3                   1        2.0      68447                5.0   \n4998          2                   3        2.0      68447                5.0   \n4999          2                   5        4.0      68447                5.0   \n\n      Type of Admission  Severity of Illness  Visitors with Patient  Age  \\\n0                     0                    0                      2    5   \n1                     1                    0                      2    5   \n2                     1                    0                      2    5   \n3                     1                    0                      2    5   \n4                     1                    0                      2    5   \n...                 ...                  ...                    ...  ...   \n4995                  0                    1                      2    1   \n4996                  1                    1                      2    1   \n4997                  0                    2                      4    4   \n4998                  1                    2                      3    4   \n4999                  1                    2                      2    4   \n\n      Admission_Deposit  Stay  \n0                4911.0     0  \n1                5954.0     4  \n2                4745.0     3  \n3                7272.0     4  \n4                5558.0     4  \n...                 ...   ...  \n4995             4894.0     0  \n4996             6987.0     3  \n4997             4196.0     5  \n4998             4560.0     2  \n4999             6315.0     1  \n\n[5000 rows x 18 columns]",
      "text/html": "<div>\n<style scoped>\n    .dataframe tbody tr th:only-of-type {\n        vertical-align: middle;\n    }\n\n    .dataframe tbody tr th {\n        vertical-align: top;\n    }\n\n    .dataframe thead th {\n        text-align: right;\n    }\n</style>\n<table border=\"1\" class=\"dataframe\">\n  <thead>\n    <tr style=\"text-align: right;\">\n      <th></th>\n      <th>case_id</th>\n      <th>Hospital_code</th>\n      <th>Hospital_type_code</th>\n      <th>City_Code_Hospital</th>\n      <th>Hospital_region_code</th>\n      <th>Available Extra Rooms in Hospital</th>\n      <th>Department</th>\n      <th>Ward_Type</th>\n      <th>Ward_Facility_Code</th>\n      <th>Bed Grade</th>\n      <th>patientid</th>\n      <th>City_Code_Patient</th>\n      <th>Type of Admission</th>\n      <th>Severity of Illness</th>\n      <th>Visitors with Patient</th>\n      <th>Age</th>\n      <th>Admission_Deposit</th>\n      <th>Stay</th>\n    </tr>\n  </thead>\n  <tbody>\n    <tr>\n      <th>0</th>\n      <td>1</td>\n      <td>8</td>\n      <td>2</td>\n      <td>3</td>\n      <td>2</td>\n      <td>3</td>\n      <td>3</td>\n      <td>2</td>\n      <td>5</td>\n      <td>2.0</td>\n      <td>31397</td>\n      <td>7.0</td>\n      <td>0</td>\n      <td>0</td>\n      <td>2</td>\n      <td>5</td>\n      <td>4911.0</td>\n      <td>0</td>\n    </tr>\n    <tr>\n      <th>1</th>\n      <td>2</td>\n      <td>2</td>\n      <td>2</td>\n      <td>5</td>\n      <td>2</td>\n      <td>2</td>\n      <td>3</td>\n      <td>3</td>\n      <td>5</td>\n      <td>2.0</td>\n      <td>31397</td>\n      <td>7.0</td>\n      <td>1</td>\n      <td>0</td>\n      <td>2</td>\n      <td>5</td>\n      <td>5954.0</td>\n      <td>4</td>\n    </tr>\n    <tr>\n      <th>2</th>\n      <td>3</td>\n      <td>10</td>\n      <td>4</td>\n      <td>1</td>\n      <td>0</td>\n      <td>2</td>\n      <td>1</td>\n      <td>3</td>\n      <td>4</td>\n      <td>2.0</td>\n      <td>31397</td>\n      <td>7.0</td>\n      <td>1</td>\n      <td>0</td>\n      <td>2</td>\n      <td>5</td>\n      <td>4745.0</td>\n      <td>3</td>\n    </tr>\n    <tr>\n      <th>3</th>\n      <td>4</td>\n      <td>26</td>\n      <td>1</td>\n      <td>2</td>\n      <td>1</td>\n      <td>2</td>\n      <td>3</td>\n      <td>2</td>\n      <td>3</td>\n      <td>2.0</td>\n      <td>31397</td>\n      <td>7.0</td>\n      <td>1</td>\n      <td>0</td>\n      <td>2</td>\n      <td>5</td>\n      <td>7272.0</td>\n      <td>4</td>\n    </tr>\n    <tr>\n      <th>4</th>\n      <td>5</td>\n      <td>26</td>\n      <td>1</td>\n      <td>2</td>\n      <td>1</td>\n      <td>2</td>\n      <td>3</td>\n      <td>3</td>\n      <td>3</td>\n      <td>2.0</td>\n      <td>31397</td>\n      <td>7.0</td>\n      <td>1</td>\n      <td>0</td>\n      <td>2</td>\n      <td>5</td>\n      <td>5558.0</td>\n      <td>4</td>\n    </tr>\n    <tr>\n      <th>...</th>\n      <td>...</td>\n      <td>...</td>\n      <td>...</td>\n      <td>...</td>\n      <td>...</td>\n      <td>...</td>\n      <td>...</td>\n      <td>...</td>\n      <td>...</td>\n      <td>...</td>\n      <td>...</td>\n      <td>...</td>\n      <td>...</td>\n      <td>...</td>\n      <td>...</td>\n      <td>...</td>\n      <td>...</td>\n      <td>...</td>\n    </tr>\n    <tr>\n      <th>4995</th>\n      <td>4996</td>\n      <td>19</td>\n      <td>0</td>\n      <td>7</td>\n      <td>1</td>\n      <td>2</td>\n      <td>2</td>\n      <td>3</td>\n      <td>2</td>\n      <td>2.0</td>\n      <td>104970</td>\n      <td>8.0</td>\n      <td>0</td>\n      <td>1</td>\n      <td>2</td>\n      <td>1</td>\n      <td>4894.0</td>\n      <td>0</td>\n    </tr>\n    <tr>\n      <th>4996</th>\n      <td>4997</td>\n      <td>26</td>\n      <td>1</td>\n      <td>2</td>\n      <td>1</td>\n      <td>2</td>\n      <td>2</td>\n      <td>1</td>\n      <td>3</td>\n      <td>4.0</td>\n      <td>104970</td>\n      <td>8.0</td>\n      <td>1</td>\n      <td>1</td>\n      <td>2</td>\n      <td>1</td>\n      <td>6987.0</td>\n      <td>3</td>\n    </tr>\n    <tr>\n      <th>4997</th>\n      <td>4998</td>\n      <td>32</td>\n      <td>5</td>\n      <td>9</td>\n      <td>1</td>\n      <td>3</td>\n      <td>2</td>\n      <td>3</td>\n      <td>1</td>\n      <td>2.0</td>\n      <td>68447</td>\n      <td>5.0</td>\n      <td>0</td>\n      <td>2</td>\n      <td>4</td>\n      <td>4</td>\n      <td>4196.0</td>\n      <td>5</td>\n    </tr>\n    <tr>\n      <th>4998</th>\n      <td>4999</td>\n      <td>26</td>\n      <td>1</td>\n      <td>2</td>\n      <td>1</td>\n      <td>3</td>\n      <td>2</td>\n      <td>2</td>\n      <td>3</td>\n      <td>2.0</td>\n      <td>68447</td>\n      <td>5.0</td>\n      <td>1</td>\n      <td>2</td>\n      <td>3</td>\n      <td>4</td>\n      <td>4560.0</td>\n      <td>2</td>\n    </tr>\n    <tr>\n      <th>4999</th>\n      <td>5000</td>\n      <td>9</td>\n      <td>3</td>\n      <td>5</td>\n      <td>2</td>\n      <td>4</td>\n      <td>1</td>\n      <td>2</td>\n      <td>5</td>\n      <td>4.0</td>\n      <td>68447</td>\n      <td>5.0</td>\n      <td>1</td>\n      <td>2</td>\n      <td>2</td>\n      <td>4</td>\n      <td>6315.0</td>\n      <td>1</td>\n    </tr>\n  </tbody>\n</table>\n<p>5000 rows × 18 columns</p>\n</div>"
     },
     "execution_count": 95,
     "metadata": {},
     "output_type": "execute_result"
    }
   ],
   "source": [
    "#--- WRITE YOUR CODE FOR TASK 1 ---\n",
    "train = df[df[\"Stay\"]!=-1]\n",
    "\n",
    "train"
   ],
   "metadata": {
    "collapsed": false,
    "ExecuteTime": {
     "end_time": "2023-11-08T20:43:17.447257Z",
     "start_time": "2023-11-08T20:43:17.438625Z"
    }
   },
   "id": "38249307f35fa69b"
  },
  {
   "cell_type": "markdown",
   "source": [
    "### Task 2: Preparation for Prediction.\n",
    "In the data scientist's ongoing quest for knowledge, another crucial step unfolded. The \"test\" dataset, born from the depths of the \"df\" dataset, was carved out with precision. The code snippet effortlessly separated data where \"Stay\" values equaled -1, signifying the portion of the dataset meant for predictions.\n",
    "\n",
    "This division marked the birth of the \"test\" dataset, where the outcome was still shrouded in mystery and yet to be revealed. It was this dataset that would soon become the canvas for the predictive models, where the machine would strive to unlock the riddles of patient stay durations."
   ],
   "metadata": {
    "collapsed": false
   },
   "id": "dc85523d125c4dfd"
  },
  {
   "cell_type": "code",
   "execution_count": 96,
   "outputs": [
    {
     "data": {
      "text/plain": "      case_id  Hospital_code  Hospital_type_code  City_Code_Hospital  \\\n5000   318439             21                   2                   3   \n5001   318440             29                   0                   4   \n5002   318441             26                   1                   2   \n5003   318442              6                   0                   6   \n5004   318443             28                   1                  11   \n...       ...            ...                 ...                 ...   \n6995   320434             26                   1                   2   \n6996   320435             26                   1                   2   \n6997   320436             23                   0                   6   \n6998   320437             25                   4                   1   \n6999   320438             10                   4                   1   \n\n      Hospital_region_code  Available Extra Rooms in Hospital  Department  \\\n5000                     2                                  3           2   \n5001                     0                                  2           2   \n5002                     1                                  3           2   \n5003                     0                                  3           2   \n5004                     0                                  2           2   \n...                    ...                                ...         ...   \n6995                     1                                  1           1   \n6996                     1                                  4           2   \n6997                     0                                  3           2   \n6998                     0                                  4           2   \n6999                     0                                  4           2   \n\n      Ward_Type  Ward_Facility_Code  Bed Grade  patientid  City_Code_Patient  \\\n5000          3                   0        2.0      17006                2.0   \n5001          3                   5        2.0      17006                2.0   \n5002          1                   3        4.0      17006                2.0   \n5003          1                   5        2.0      17006                2.0   \n5004          2                   5        2.0      17006                2.0   \n...         ...                 ...        ...        ...                ...   \n6995          2                   3        2.0      19303                8.0   \n6996          2                   3        1.0      19303                8.0   \n6997          1                   5        1.0      19303                8.0   \n6998          1                   4        3.0      19303                8.0   \n6999          1                   4        2.0      19303                8.0   \n\n      Type of Admission  Severity of Illness  Visitors with Patient  Age  \\\n5000                  0                    2                      2    7   \n5001                  1                    2                      4    7   \n5002                  0                    2                      3    7   \n5003                  1                    2                      3    7   \n5004                  1                    2                      4    7   \n...                 ...                  ...                    ...  ...   \n6995                  1                    0                      4    5   \n6996                  1                    0                      6    5   \n6997                  1                    0                      3    5   \n6998                  0                    0                      4    5   \n6999                  0                    0                      3    5   \n\n      Admission_Deposit  Stay  \n5000             3095.0    -1  \n5001             4018.0    -1  \n5002             4492.0    -1  \n5003             4173.0    -1  \n5004             4161.0    -1  \n...                 ...   ...  \n6995             8829.0    -1  \n6996             3507.0    -1  \n6997             4109.0    -1  \n6998             4155.0    -1  \n6999             4161.0    -1  \n\n[2000 rows x 18 columns]",
      "text/html": "<div>\n<style scoped>\n    .dataframe tbody tr th:only-of-type {\n        vertical-align: middle;\n    }\n\n    .dataframe tbody tr th {\n        vertical-align: top;\n    }\n\n    .dataframe thead th {\n        text-align: right;\n    }\n</style>\n<table border=\"1\" class=\"dataframe\">\n  <thead>\n    <tr style=\"text-align: right;\">\n      <th></th>\n      <th>case_id</th>\n      <th>Hospital_code</th>\n      <th>Hospital_type_code</th>\n      <th>City_Code_Hospital</th>\n      <th>Hospital_region_code</th>\n      <th>Available Extra Rooms in Hospital</th>\n      <th>Department</th>\n      <th>Ward_Type</th>\n      <th>Ward_Facility_Code</th>\n      <th>Bed Grade</th>\n      <th>patientid</th>\n      <th>City_Code_Patient</th>\n      <th>Type of Admission</th>\n      <th>Severity of Illness</th>\n      <th>Visitors with Patient</th>\n      <th>Age</th>\n      <th>Admission_Deposit</th>\n      <th>Stay</th>\n    </tr>\n  </thead>\n  <tbody>\n    <tr>\n      <th>5000</th>\n      <td>318439</td>\n      <td>21</td>\n      <td>2</td>\n      <td>3</td>\n      <td>2</td>\n      <td>3</td>\n      <td>2</td>\n      <td>3</td>\n      <td>0</td>\n      <td>2.0</td>\n      <td>17006</td>\n      <td>2.0</td>\n      <td>0</td>\n      <td>2</td>\n      <td>2</td>\n      <td>7</td>\n      <td>3095.0</td>\n      <td>-1</td>\n    </tr>\n    <tr>\n      <th>5001</th>\n      <td>318440</td>\n      <td>29</td>\n      <td>0</td>\n      <td>4</td>\n      <td>0</td>\n      <td>2</td>\n      <td>2</td>\n      <td>3</td>\n      <td>5</td>\n      <td>2.0</td>\n      <td>17006</td>\n      <td>2.0</td>\n      <td>1</td>\n      <td>2</td>\n      <td>4</td>\n      <td>7</td>\n      <td>4018.0</td>\n      <td>-1</td>\n    </tr>\n    <tr>\n      <th>5002</th>\n      <td>318441</td>\n      <td>26</td>\n      <td>1</td>\n      <td>2</td>\n      <td>1</td>\n      <td>3</td>\n      <td>2</td>\n      <td>1</td>\n      <td>3</td>\n      <td>4.0</td>\n      <td>17006</td>\n      <td>2.0</td>\n      <td>0</td>\n      <td>2</td>\n      <td>3</td>\n      <td>7</td>\n      <td>4492.0</td>\n      <td>-1</td>\n    </tr>\n    <tr>\n      <th>5003</th>\n      <td>318442</td>\n      <td>6</td>\n      <td>0</td>\n      <td>6</td>\n      <td>0</td>\n      <td>3</td>\n      <td>2</td>\n      <td>1</td>\n      <td>5</td>\n      <td>2.0</td>\n      <td>17006</td>\n      <td>2.0</td>\n      <td>1</td>\n      <td>2</td>\n      <td>3</td>\n      <td>7</td>\n      <td>4173.0</td>\n      <td>-1</td>\n    </tr>\n    <tr>\n      <th>5004</th>\n      <td>318443</td>\n      <td>28</td>\n      <td>1</td>\n      <td>11</td>\n      <td>0</td>\n      <td>2</td>\n      <td>2</td>\n      <td>2</td>\n      <td>5</td>\n      <td>2.0</td>\n      <td>17006</td>\n      <td>2.0</td>\n      <td>1</td>\n      <td>2</td>\n      <td>4</td>\n      <td>7</td>\n      <td>4161.0</td>\n      <td>-1</td>\n    </tr>\n    <tr>\n      <th>...</th>\n      <td>...</td>\n      <td>...</td>\n      <td>...</td>\n      <td>...</td>\n      <td>...</td>\n      <td>...</td>\n      <td>...</td>\n      <td>...</td>\n      <td>...</td>\n      <td>...</td>\n      <td>...</td>\n      <td>...</td>\n      <td>...</td>\n      <td>...</td>\n      <td>...</td>\n      <td>...</td>\n      <td>...</td>\n      <td>...</td>\n    </tr>\n    <tr>\n      <th>6995</th>\n      <td>320434</td>\n      <td>26</td>\n      <td>1</td>\n      <td>2</td>\n      <td>1</td>\n      <td>1</td>\n      <td>1</td>\n      <td>2</td>\n      <td>3</td>\n      <td>2.0</td>\n      <td>19303</td>\n      <td>8.0</td>\n      <td>1</td>\n      <td>0</td>\n      <td>4</td>\n      <td>5</td>\n      <td>8829.0</td>\n      <td>-1</td>\n    </tr>\n    <tr>\n      <th>6996</th>\n      <td>320435</td>\n      <td>26</td>\n      <td>1</td>\n      <td>2</td>\n      <td>1</td>\n      <td>4</td>\n      <td>2</td>\n      <td>2</td>\n      <td>3</td>\n      <td>1.0</td>\n      <td>19303</td>\n      <td>8.0</td>\n      <td>1</td>\n      <td>0</td>\n      <td>6</td>\n      <td>5</td>\n      <td>3507.0</td>\n      <td>-1</td>\n    </tr>\n    <tr>\n      <th>6997</th>\n      <td>320436</td>\n      <td>23</td>\n      <td>0</td>\n      <td>6</td>\n      <td>0</td>\n      <td>3</td>\n      <td>2</td>\n      <td>1</td>\n      <td>5</td>\n      <td>1.0</td>\n      <td>19303</td>\n      <td>8.0</td>\n      <td>1</td>\n      <td>0</td>\n      <td>3</td>\n      <td>5</td>\n      <td>4109.0</td>\n      <td>-1</td>\n    </tr>\n    <tr>\n      <th>6998</th>\n      <td>320437</td>\n      <td>25</td>\n      <td>4</td>\n      <td>1</td>\n      <td>0</td>\n      <td>4</td>\n      <td>2</td>\n      <td>1</td>\n      <td>4</td>\n      <td>3.0</td>\n      <td>19303</td>\n      <td>8.0</td>\n      <td>0</td>\n      <td>0</td>\n      <td>4</td>\n      <td>5</td>\n      <td>4155.0</td>\n      <td>-1</td>\n    </tr>\n    <tr>\n      <th>6999</th>\n      <td>320438</td>\n      <td>10</td>\n      <td>4</td>\n      <td>1</td>\n      <td>0</td>\n      <td>4</td>\n      <td>2</td>\n      <td>1</td>\n      <td>4</td>\n      <td>2.0</td>\n      <td>19303</td>\n      <td>8.0</td>\n      <td>0</td>\n      <td>0</td>\n      <td>3</td>\n      <td>5</td>\n      <td>4161.0</td>\n      <td>-1</td>\n    </tr>\n  </tbody>\n</table>\n<p>2000 rows × 18 columns</p>\n</div>"
     },
     "execution_count": 96,
     "metadata": {},
     "output_type": "execute_result"
    }
   ],
   "source": [
    "#--- WRITE YOUR CODE FOR TASK 2 ---\n",
    "test = df[df[\"Stay\"]==-1]\n",
    "\n",
    "test"
   ],
   "metadata": {
    "collapsed": false,
    "ExecuteTime": {
     "end_time": "2023-11-08T20:43:17.889502Z",
     "start_time": "2023-11-08T20:43:17.882425Z"
    }
   },
   "id": "c8d11d7c84f8d4da"
  },
  {
   "cell_type": "markdown",
   "source": [
    "### Task 3: Feature Engineering for Enhanced Predictive Analysis.\n",
    "As the data scientist's journey unfolded, a new chapter of feature engineering and data enrichment began. The code snippet provided a function, \"get_countid_enocde,\" designed to extract valuable information from the dataset.\n",
    "\n",
    "Using this function, the data scientist grouped data by different combinations of features such as 'patientid,' 'Hospital_region_code,' and 'Ward_Facility_Code' to calculate counts and then merged these counts back into the datasets for both training and testing data. This process created new features, such as 'count_id_patient' and 'count_id_patient_hospitalCode,' that reflected the frequency of each combination, offering deeper insights into the data.\n",
    "\n",
    "With each transformation, the data scientist was enhancing the dataset, preparing it for the predictive modeling phase. The result was a dataset, \"test1,\" meticulously refined, and now poised for predictive analysis, with features engineered to uncover hidden patterns in patient stays."
   ],
   "metadata": {
    "collapsed": false
   },
   "id": "163d3b546accb29d"
  },
  {
   "cell_type": "code",
   "execution_count": 97,
   "outputs": [
    {
     "data": {
      "text/plain": "      case_id  Hospital_code  Hospital_type_code  City_Code_Hospital  \\\n0      318439             21                   2                   3   \n1      318440             29                   0                   4   \n2      318441             26                   1                   2   \n3      318442              6                   0                   6   \n4      318443             28                   1                  11   \n...       ...            ...                 ...                 ...   \n1995   320434             26                   1                   2   \n1996   320435             26                   1                   2   \n1997   320436             23                   0                   6   \n1998   320437             25                   4                   1   \n1999   320438             10                   4                   1   \n\n      Available Extra Rooms in Hospital  Department  Ward_Type  Bed Grade  \\\n0                                     3           2          3        2.0   \n1                                     2           2          3        2.0   \n2                                     3           2          1        4.0   \n3                                     3           2          1        2.0   \n4                                     2           2          2        2.0   \n...                                 ...         ...        ...        ...   \n1995                                  1           1          2        2.0   \n1996                                  4           2          2        1.0   \n1997                                  3           2          1        1.0   \n1998                                  4           2          1        3.0   \n1999                                  4           2          1        2.0   \n\n      City_Code_Patient  Type of Admission  Severity of Illness  \\\n0                   2.0                  0                    2   \n1                   2.0                  1                    2   \n2                   2.0                  0                    2   \n3                   2.0                  1                    2   \n4                   2.0                  1                    2   \n...                 ...                ...                  ...   \n1995                8.0                  1                    0   \n1996                8.0                  1                    0   \n1997                8.0                  1                    0   \n1998                8.0                  0                    0   \n1999                8.0                  0                    0   \n\n      Visitors with Patient  Age  Admission_Deposit  count_id_patient  \\\n0                         2    7             3095.0               7.0   \n1                         4    7             4018.0               7.0   \n2                         3    7             4492.0               7.0   \n3                         3    7             4173.0               7.0   \n4                         4    7             4161.0               7.0   \n...                     ...  ...                ...               ...   \n1995                      4    5             8829.0               5.0   \n1996                      6    5             3507.0               5.0   \n1997                      3    5             4109.0               5.0   \n1998                      4    5             4155.0               5.0   \n1999                      3    5             4161.0               5.0   \n\n      count_id_patient_hospitalCode  count_id_patient_wardfacilityCode  \n0                               1.0                                1.0  \n1                               4.0                                4.0  \n2                               2.0                                2.0  \n3                               4.0                                4.0  \n4                               4.0                                4.0  \n...                             ...                                ...  \n1995                            2.0                                2.0  \n1996                            2.0                                2.0  \n1997                            3.0                                1.0  \n1998                            3.0                                2.0  \n1999                            3.0                                2.0  \n\n[2000 rows x 17 columns]",
      "text/html": "<div>\n<style scoped>\n    .dataframe tbody tr th:only-of-type {\n        vertical-align: middle;\n    }\n\n    .dataframe tbody tr th {\n        vertical-align: top;\n    }\n\n    .dataframe thead th {\n        text-align: right;\n    }\n</style>\n<table border=\"1\" class=\"dataframe\">\n  <thead>\n    <tr style=\"text-align: right;\">\n      <th></th>\n      <th>case_id</th>\n      <th>Hospital_code</th>\n      <th>Hospital_type_code</th>\n      <th>City_Code_Hospital</th>\n      <th>Available Extra Rooms in Hospital</th>\n      <th>Department</th>\n      <th>Ward_Type</th>\n      <th>Bed Grade</th>\n      <th>City_Code_Patient</th>\n      <th>Type of Admission</th>\n      <th>Severity of Illness</th>\n      <th>Visitors with Patient</th>\n      <th>Age</th>\n      <th>Admission_Deposit</th>\n      <th>count_id_patient</th>\n      <th>count_id_patient_hospitalCode</th>\n      <th>count_id_patient_wardfacilityCode</th>\n    </tr>\n  </thead>\n  <tbody>\n    <tr>\n      <th>0</th>\n      <td>318439</td>\n      <td>21</td>\n      <td>2</td>\n      <td>3</td>\n      <td>3</td>\n      <td>2</td>\n      <td>3</td>\n      <td>2.0</td>\n      <td>2.0</td>\n      <td>0</td>\n      <td>2</td>\n      <td>2</td>\n      <td>7</td>\n      <td>3095.0</td>\n      <td>7.0</td>\n      <td>1.0</td>\n      <td>1.0</td>\n    </tr>\n    <tr>\n      <th>1</th>\n      <td>318440</td>\n      <td>29</td>\n      <td>0</td>\n      <td>4</td>\n      <td>2</td>\n      <td>2</td>\n      <td>3</td>\n      <td>2.0</td>\n      <td>2.0</td>\n      <td>1</td>\n      <td>2</td>\n      <td>4</td>\n      <td>7</td>\n      <td>4018.0</td>\n      <td>7.0</td>\n      <td>4.0</td>\n      <td>4.0</td>\n    </tr>\n    <tr>\n      <th>2</th>\n      <td>318441</td>\n      <td>26</td>\n      <td>1</td>\n      <td>2</td>\n      <td>3</td>\n      <td>2</td>\n      <td>1</td>\n      <td>4.0</td>\n      <td>2.0</td>\n      <td>0</td>\n      <td>2</td>\n      <td>3</td>\n      <td>7</td>\n      <td>4492.0</td>\n      <td>7.0</td>\n      <td>2.0</td>\n      <td>2.0</td>\n    </tr>\n    <tr>\n      <th>3</th>\n      <td>318442</td>\n      <td>6</td>\n      <td>0</td>\n      <td>6</td>\n      <td>3</td>\n      <td>2</td>\n      <td>1</td>\n      <td>2.0</td>\n      <td>2.0</td>\n      <td>1</td>\n      <td>2</td>\n      <td>3</td>\n      <td>7</td>\n      <td>4173.0</td>\n      <td>7.0</td>\n      <td>4.0</td>\n      <td>4.0</td>\n    </tr>\n    <tr>\n      <th>4</th>\n      <td>318443</td>\n      <td>28</td>\n      <td>1</td>\n      <td>11</td>\n      <td>2</td>\n      <td>2</td>\n      <td>2</td>\n      <td>2.0</td>\n      <td>2.0</td>\n      <td>1</td>\n      <td>2</td>\n      <td>4</td>\n      <td>7</td>\n      <td>4161.0</td>\n      <td>7.0</td>\n      <td>4.0</td>\n      <td>4.0</td>\n    </tr>\n    <tr>\n      <th>...</th>\n      <td>...</td>\n      <td>...</td>\n      <td>...</td>\n      <td>...</td>\n      <td>...</td>\n      <td>...</td>\n      <td>...</td>\n      <td>...</td>\n      <td>...</td>\n      <td>...</td>\n      <td>...</td>\n      <td>...</td>\n      <td>...</td>\n      <td>...</td>\n      <td>...</td>\n      <td>...</td>\n      <td>...</td>\n    </tr>\n    <tr>\n      <th>1995</th>\n      <td>320434</td>\n      <td>26</td>\n      <td>1</td>\n      <td>2</td>\n      <td>1</td>\n      <td>1</td>\n      <td>2</td>\n      <td>2.0</td>\n      <td>8.0</td>\n      <td>1</td>\n      <td>0</td>\n      <td>4</td>\n      <td>5</td>\n      <td>8829.0</td>\n      <td>5.0</td>\n      <td>2.0</td>\n      <td>2.0</td>\n    </tr>\n    <tr>\n      <th>1996</th>\n      <td>320435</td>\n      <td>26</td>\n      <td>1</td>\n      <td>2</td>\n      <td>4</td>\n      <td>2</td>\n      <td>2</td>\n      <td>1.0</td>\n      <td>8.0</td>\n      <td>1</td>\n      <td>0</td>\n      <td>6</td>\n      <td>5</td>\n      <td>3507.0</td>\n      <td>5.0</td>\n      <td>2.0</td>\n      <td>2.0</td>\n    </tr>\n    <tr>\n      <th>1997</th>\n      <td>320436</td>\n      <td>23</td>\n      <td>0</td>\n      <td>6</td>\n      <td>3</td>\n      <td>2</td>\n      <td>1</td>\n      <td>1.0</td>\n      <td>8.0</td>\n      <td>1</td>\n      <td>0</td>\n      <td>3</td>\n      <td>5</td>\n      <td>4109.0</td>\n      <td>5.0</td>\n      <td>3.0</td>\n      <td>1.0</td>\n    </tr>\n    <tr>\n      <th>1998</th>\n      <td>320437</td>\n      <td>25</td>\n      <td>4</td>\n      <td>1</td>\n      <td>4</td>\n      <td>2</td>\n      <td>1</td>\n      <td>3.0</td>\n      <td>8.0</td>\n      <td>0</td>\n      <td>0</td>\n      <td>4</td>\n      <td>5</td>\n      <td>4155.0</td>\n      <td>5.0</td>\n      <td>3.0</td>\n      <td>2.0</td>\n    </tr>\n    <tr>\n      <th>1999</th>\n      <td>320438</td>\n      <td>10</td>\n      <td>4</td>\n      <td>1</td>\n      <td>4</td>\n      <td>2</td>\n      <td>1</td>\n      <td>2.0</td>\n      <td>8.0</td>\n      <td>0</td>\n      <td>0</td>\n      <td>3</td>\n      <td>5</td>\n      <td>4161.0</td>\n      <td>5.0</td>\n      <td>3.0</td>\n      <td>2.0</td>\n    </tr>\n  </tbody>\n</table>\n<p>2000 rows × 17 columns</p>\n</div>"
     },
     "execution_count": 97,
     "metadata": {},
     "output_type": "execute_result"
    }
   ],
   "source": [
    "import numpy as np\n",
    "def get_countid_enocde(train, test, cols, name):\n",
    "    temp = train.groupby(cols)['case_id'].count().reset_index().rename(columns = {'case_id': name})\n",
    "    temp2 = test.groupby(cols)['case_id'].count().reset_index().rename(columns = {'case_id': name})\n",
    "    train = pd.merge(train, temp, how='left', on= cols)\n",
    "    test = pd.merge(test,temp2, how='left', on= cols)\n",
    "    train[name] = train[name].astype('float')\n",
    "    test[name] = test[name].astype('float')\n",
    "    train[name].fillna(np.median(temp[name]), inplace = True)\n",
    "    test[name].fillna(np.median(temp2[name]), inplace = True)\n",
    "    return train, test\n",
    "\n",
    "\n",
    "\n",
    "# Uncomment the code below when running this task\n",
    "train, test = get_countid_enocde(train, test, ['patientid'], name = 'count_id_patient')\n",
    "train, test = get_countid_enocde(train, test, ['patientid', 'Hospital_region_code'], name = 'count_id_patient_hospitalCode')\n",
    "train, test = get_countid_enocde(train, test, ['patientid', 'Ward_Facility_Code'], name = 'count_id_patient_wardfacilityCode')\n",
    "\n",
    "#--- WRITE YOUR CODE FOR TASK 3 ---\n",
    "test1 = test.drop(['Stay', 'patientid', 'Hospital_region_code','Ward_Facility_Code'],axis=1)\n",
    "\n",
    "test1"
   ],
   "metadata": {
    "collapsed": false,
    "ExecuteTime": {
     "end_time": "2023-11-08T20:43:18.411381Z",
     "start_time": "2023-11-08T20:43:18.384265Z"
    }
   },
   "id": "e5160669414bab1b"
  },
  {
   "cell_type": "markdown",
   "source": [
    "### Task 4: Sculpting the Data.\n",
    "The \"train1\" dataset emerged as the refined version of the training data. With precision, the data scientist executed the code to eliminate certain columns, including 'case_id,' 'patientid,' 'Hospital_region_code,' and 'Ward_Facility_Code.' These exclusions were made to streamline the dataset for predictive modeling.\n",
    "\n",
    "By removing these variables, the data scientist aimed to reduce noise and focus on the most relevant features for predicting patient stays. The \"train1\" dataset now stood as a lean, purpose-built platform for the upcoming modeling stage, where machine learning algorithms would uncover the intricate patterns within the data, taking the project one step closer to its conclusion."
   ],
   "metadata": {
    "collapsed": false
   },
   "id": "b12fdca999acf567"
  },
  {
   "cell_type": "code",
   "execution_count": 98,
   "outputs": [
    {
     "data": {
      "text/plain": "      Hospital_code  Hospital_type_code  City_Code_Hospital  \\\n0                 8                   2                   3   \n1                 2                   2                   5   \n2                10                   4                   1   \n3                26                   1                   2   \n4                26                   1                   2   \n...             ...                 ...                 ...   \n4995             19                   0                   7   \n4996             26                   1                   2   \n4997             32                   5                   9   \n4998             26                   1                   2   \n4999              9                   3                   5   \n\n      Available Extra Rooms in Hospital  Department  Ward_Type  Bed Grade  \\\n0                                     3           3          2        2.0   \n1                                     2           3          3        2.0   \n2                                     2           1          3        2.0   \n3                                     2           3          2        2.0   \n4                                     2           3          3        2.0   \n...                                 ...         ...        ...        ...   \n4995                                  2           2          3        2.0   \n4996                                  2           2          1        4.0   \n4997                                  3           2          3        2.0   \n4998                                  3           2          2        2.0   \n4999                                  4           1          2        4.0   \n\n      City_Code_Patient  Type of Admission  Severity of Illness  \\\n0                   7.0                  0                    0   \n1                   7.0                  1                    0   \n2                   7.0                  1                    0   \n3                   7.0                  1                    0   \n4                   7.0                  1                    0   \n...                 ...                ...                  ...   \n4995                8.0                  0                    1   \n4996                8.0                  1                    1   \n4997                5.0                  0                    2   \n4998                5.0                  1                    2   \n4999                5.0                  1                    2   \n\n      Visitors with Patient  Age  Admission_Deposit  Stay  count_id_patient  \\\n0                         2    5             4911.0     0              14.0   \n1                         2    5             5954.0     4              14.0   \n2                         2    5             4745.0     3              14.0   \n3                         2    5             7272.0     4              14.0   \n4                         2    5             5558.0     4              14.0   \n...                     ...  ...                ...   ...               ...   \n4995                      2    1             4894.0     0               3.0   \n4996                      2    1             6987.0     3               3.0   \n4997                      4    4             4196.0     5               3.0   \n4998                      3    4             4560.0     2               3.0   \n4999                      2    4             6315.0     1               3.0   \n\n      count_id_patient_hospitalCode  count_id_patient_wardfacilityCode  \n0                               4.0                                5.0  \n1                               4.0                                5.0  \n2                               4.0                                2.0  \n3                               6.0                                3.0  \n4                               6.0                                3.0  \n...                             ...                                ...  \n4995                            3.0                                2.0  \n4996                            3.0                                1.0  \n4997                            2.0                                1.0  \n4998                            2.0                                1.0  \n4999                            1.0                                1.0  \n\n[5000 rows x 17 columns]",
      "text/html": "<div>\n<style scoped>\n    .dataframe tbody tr th:only-of-type {\n        vertical-align: middle;\n    }\n\n    .dataframe tbody tr th {\n        vertical-align: top;\n    }\n\n    .dataframe thead th {\n        text-align: right;\n    }\n</style>\n<table border=\"1\" class=\"dataframe\">\n  <thead>\n    <tr style=\"text-align: right;\">\n      <th></th>\n      <th>Hospital_code</th>\n      <th>Hospital_type_code</th>\n      <th>City_Code_Hospital</th>\n      <th>Available Extra Rooms in Hospital</th>\n      <th>Department</th>\n      <th>Ward_Type</th>\n      <th>Bed Grade</th>\n      <th>City_Code_Patient</th>\n      <th>Type of Admission</th>\n      <th>Severity of Illness</th>\n      <th>Visitors with Patient</th>\n      <th>Age</th>\n      <th>Admission_Deposit</th>\n      <th>Stay</th>\n      <th>count_id_patient</th>\n      <th>count_id_patient_hospitalCode</th>\n      <th>count_id_patient_wardfacilityCode</th>\n    </tr>\n  </thead>\n  <tbody>\n    <tr>\n      <th>0</th>\n      <td>8</td>\n      <td>2</td>\n      <td>3</td>\n      <td>3</td>\n      <td>3</td>\n      <td>2</td>\n      <td>2.0</td>\n      <td>7.0</td>\n      <td>0</td>\n      <td>0</td>\n      <td>2</td>\n      <td>5</td>\n      <td>4911.0</td>\n      <td>0</td>\n      <td>14.0</td>\n      <td>4.0</td>\n      <td>5.0</td>\n    </tr>\n    <tr>\n      <th>1</th>\n      <td>2</td>\n      <td>2</td>\n      <td>5</td>\n      <td>2</td>\n      <td>3</td>\n      <td>3</td>\n      <td>2.0</td>\n      <td>7.0</td>\n      <td>1</td>\n      <td>0</td>\n      <td>2</td>\n      <td>5</td>\n      <td>5954.0</td>\n      <td>4</td>\n      <td>14.0</td>\n      <td>4.0</td>\n      <td>5.0</td>\n    </tr>\n    <tr>\n      <th>2</th>\n      <td>10</td>\n      <td>4</td>\n      <td>1</td>\n      <td>2</td>\n      <td>1</td>\n      <td>3</td>\n      <td>2.0</td>\n      <td>7.0</td>\n      <td>1</td>\n      <td>0</td>\n      <td>2</td>\n      <td>5</td>\n      <td>4745.0</td>\n      <td>3</td>\n      <td>14.0</td>\n      <td>4.0</td>\n      <td>2.0</td>\n    </tr>\n    <tr>\n      <th>3</th>\n      <td>26</td>\n      <td>1</td>\n      <td>2</td>\n      <td>2</td>\n      <td>3</td>\n      <td>2</td>\n      <td>2.0</td>\n      <td>7.0</td>\n      <td>1</td>\n      <td>0</td>\n      <td>2</td>\n      <td>5</td>\n      <td>7272.0</td>\n      <td>4</td>\n      <td>14.0</td>\n      <td>6.0</td>\n      <td>3.0</td>\n    </tr>\n    <tr>\n      <th>4</th>\n      <td>26</td>\n      <td>1</td>\n      <td>2</td>\n      <td>2</td>\n      <td>3</td>\n      <td>3</td>\n      <td>2.0</td>\n      <td>7.0</td>\n      <td>1</td>\n      <td>0</td>\n      <td>2</td>\n      <td>5</td>\n      <td>5558.0</td>\n      <td>4</td>\n      <td>14.0</td>\n      <td>6.0</td>\n      <td>3.0</td>\n    </tr>\n    <tr>\n      <th>...</th>\n      <td>...</td>\n      <td>...</td>\n      <td>...</td>\n      <td>...</td>\n      <td>...</td>\n      <td>...</td>\n      <td>...</td>\n      <td>...</td>\n      <td>...</td>\n      <td>...</td>\n      <td>...</td>\n      <td>...</td>\n      <td>...</td>\n      <td>...</td>\n      <td>...</td>\n      <td>...</td>\n      <td>...</td>\n    </tr>\n    <tr>\n      <th>4995</th>\n      <td>19</td>\n      <td>0</td>\n      <td>7</td>\n      <td>2</td>\n      <td>2</td>\n      <td>3</td>\n      <td>2.0</td>\n      <td>8.0</td>\n      <td>0</td>\n      <td>1</td>\n      <td>2</td>\n      <td>1</td>\n      <td>4894.0</td>\n      <td>0</td>\n      <td>3.0</td>\n      <td>3.0</td>\n      <td>2.0</td>\n    </tr>\n    <tr>\n      <th>4996</th>\n      <td>26</td>\n      <td>1</td>\n      <td>2</td>\n      <td>2</td>\n      <td>2</td>\n      <td>1</td>\n      <td>4.0</td>\n      <td>8.0</td>\n      <td>1</td>\n      <td>1</td>\n      <td>2</td>\n      <td>1</td>\n      <td>6987.0</td>\n      <td>3</td>\n      <td>3.0</td>\n      <td>3.0</td>\n      <td>1.0</td>\n    </tr>\n    <tr>\n      <th>4997</th>\n      <td>32</td>\n      <td>5</td>\n      <td>9</td>\n      <td>3</td>\n      <td>2</td>\n      <td>3</td>\n      <td>2.0</td>\n      <td>5.0</td>\n      <td>0</td>\n      <td>2</td>\n      <td>4</td>\n      <td>4</td>\n      <td>4196.0</td>\n      <td>5</td>\n      <td>3.0</td>\n      <td>2.0</td>\n      <td>1.0</td>\n    </tr>\n    <tr>\n      <th>4998</th>\n      <td>26</td>\n      <td>1</td>\n      <td>2</td>\n      <td>3</td>\n      <td>2</td>\n      <td>2</td>\n      <td>2.0</td>\n      <td>5.0</td>\n      <td>1</td>\n      <td>2</td>\n      <td>3</td>\n      <td>4</td>\n      <td>4560.0</td>\n      <td>2</td>\n      <td>3.0</td>\n      <td>2.0</td>\n      <td>1.0</td>\n    </tr>\n    <tr>\n      <th>4999</th>\n      <td>9</td>\n      <td>3</td>\n      <td>5</td>\n      <td>4</td>\n      <td>1</td>\n      <td>2</td>\n      <td>4.0</td>\n      <td>5.0</td>\n      <td>1</td>\n      <td>2</td>\n      <td>2</td>\n      <td>4</td>\n      <td>6315.0</td>\n      <td>1</td>\n      <td>3.0</td>\n      <td>1.0</td>\n      <td>1.0</td>\n    </tr>\n  </tbody>\n</table>\n<p>5000 rows × 17 columns</p>\n</div>"
     },
     "execution_count": 98,
     "metadata": {},
     "output_type": "execute_result"
    }
   ],
   "source": [
    "#--- WRITE YOUR CODE FOR TASK 4 ---\n",
    "train1 = train.drop(['case_id', 'patientid', 'Hospital_region_code','Ward_Facility_Code'],axis=1)\n",
    "\n",
    "train1"
   ],
   "metadata": {
    "collapsed": false,
    "ExecuteTime": {
     "end_time": "2023-11-08T20:43:18.860199Z",
     "start_time": "2023-11-08T20:43:18.855265Z"
    }
   },
   "id": "af5de97b98a2ee8d"
  },
  {
   "cell_type": "markdown",
   "source": [
    "## Module 4\n",
    "### Task 1: Data Splitting for Model Mastery.\n",
    "With a sense of purpose, the data scientist transitioned to the realm of model preparation and evaluation. The code snippet utilizing \"train_test_split\" played a pivotal role in splitting the \"train1\" dataset into two distinct subsets - one for training and the other for testing.\n",
    "\n",
    "The features, designated as 'X1,' and the target variable, 'y1' (in this case, 'Stay'), were segregated. The split into 'X_train' and 'X_test' along with their corresponding 'y_train' and 'y_test' counterparts was carried out to create a controlled environment for model development and evaluation.\n",
    "\n",
    "This division of data was a fundamental step in the process, essential for training and assessing the performance of machine learning models. With the training and testing datasets now established, the data scientist was poised to embark on the final phases of their data-driven journey, where predictive modeling would unveil insights, guide decision-making, and bring the project to its ultimate conclusion."
   ],
   "metadata": {
    "collapsed": false
   },
   "id": "745d23f98913dcd2"
  },
  {
   "cell_type": "code",
   "execution_count": 99,
   "outputs": [],
   "source": [
    "from sklearn.model_selection import train_test_split\n",
    "\n",
    "X1 = train1.drop(\"Stay\",axis=1)\n",
    "y1 = train1[\"Stay\"]\n",
    "# --- WRITE YOUR CODE FOR TASK 1 ---\n",
    "X_train, X_test, y_train, y_test = train_test_split(X1,y1,test_size=0.2,random_state=100)\n",
    "\n",
    "#--- Inspect data ---"
   ],
   "metadata": {
    "collapsed": false,
    "ExecuteTime": {
     "end_time": "2023-11-08T20:43:19.320982Z",
     "start_time": "2023-11-08T20:43:19.307006Z"
    }
   },
   "id": "39ab7ee4f8d22ff6"
  },
  {
   "cell_type": "markdown",
   "source": [
    "### Task 2: The XGBoost Model Story.\n",
    "In the final stages of their data scientist's journey, the spotlight shone on predictive modeling. The XGBoost algorithm, a powerful machine learning tool, was enlisted to unlock the hidden patterns within the data. With a meticulously crafted configuration of hyperparameters, including 'max_depth,' 'learning_rate,' and 'n_estimators,' the XGBoost classifier was primed for action.\n",
    "\n",
    "With precision, the classifier was trained on the \"X_train\" and \"y_train\" datasets, learning from the patterns embedded within the training data. Once the model was honed, it embarked on the critical phase of prediction. 'X_test' became the testing ground where the model's capabilities were put to the test.\n",
    "\n",
    "The accuracy score was the final judgment, quantifying the model's performance. With an accuracy score rounded to two decimal places, the data scientist had a clear measure of the model's ability to predict patient stays, bringing the project to its ultimate conclusion."
   ],
   "metadata": {
    "collapsed": false
   },
   "id": "6ca202f86d23779"
  },
  {
   "cell_type": "code",
   "execution_count": 100,
   "outputs": [
    {
     "data": {
      "text/plain": "0.4"
     },
     "execution_count": 100,
     "metadata": {},
     "output_type": "execute_result"
    }
   ],
   "source": [
    "import xgboost\n",
    "from sklearn.metrics import accuracy_score\n",
    "\n",
    "\n",
    "classifier_xgb = xgboost.XGBClassifier(max_depth=4, learning_rate=0.1, n_estimators=800,\n",
    "                                       objective='multi:softmax', reg_alpha=0.5, reg_lambda=1.5,\n",
    "                                       booster='gbtree', n_jobs=4, min_child_weight=2, base_score= 0.75)\n",
    "\n",
    "# --- WRITE YOUR CODE FOR TASK 2 ---\n",
    "model_xgb = classifier_xgb.fit(X_train,y_train)\n",
    "\n",
    "prediction_xgb = model_xgb.predict(X_test)\n",
    "\n",
    "acc_score_xgb = round(accuracy_score(y_test,prediction_xgb),2)\n",
    "acc_score_xgb"
   ],
   "metadata": {
    "collapsed": false,
    "ExecuteTime": {
     "end_time": "2023-11-08T20:43:21.708854Z",
     "start_time": "2023-11-08T20:43:19.736603Z"
    }
   },
   "id": "d63b64cb858f07f0"
  },
  {
   "cell_type": "markdown",
   "source": [
    "### Task 3: The Final Predictive Model Transformation.\n",
    "In the final chapter of this data science journey, the predictive model's capabilities were put into action for real-world predictions. Using the trained XGBoost classifier, the data scientist made predictions on the \"test1\" dataset. These predictions were based on the features in \"test1\" and stored as \"pred_xgb.\"\n",
    "\n",
    "The data scientist's meticulous work continued as they assembled the results. A DataFrame, \"result_xgb,\" was crafted, capturing the case ID of each prediction alongside the corresponding \"Stay\" values.\n",
    "\n",
    "To enhance the readability and understanding of the results, the data scientist mapped the numeric labels of \"Stay\" to their corresponding meaningful categories. The predictions now represented patient stays in terms of the actual durations, making them more accessible and valuable for practical use."
   ],
   "metadata": {
    "collapsed": false
   },
   "id": "6cc29c58b03fd1b6"
  },
  {
   "cell_type": "code",
   "execution_count": 101,
   "outputs": [
    {
     "data": {
      "text/plain": "      case_id   Stay\n0      318439  21-30\n1      318440  51-60\n2      318441  11-20\n3      318442  21-30\n4      318443  51-60\n...       ...    ...\n1995   320434  51-60\n1996   320435  71-80\n1997   320436  31-40\n1998   320437  21-30\n1999   320438  21-30\n\n[2000 rows x 2 columns]",
      "text/html": "<div>\n<style scoped>\n    .dataframe tbody tr th:only-of-type {\n        vertical-align: middle;\n    }\n\n    .dataframe tbody tr th {\n        vertical-align: top;\n    }\n\n    .dataframe thead th {\n        text-align: right;\n    }\n</style>\n<table border=\"1\" class=\"dataframe\">\n  <thead>\n    <tr style=\"text-align: right;\">\n      <th></th>\n      <th>case_id</th>\n      <th>Stay</th>\n    </tr>\n  </thead>\n  <tbody>\n    <tr>\n      <th>0</th>\n      <td>318439</td>\n      <td>21-30</td>\n    </tr>\n    <tr>\n      <th>1</th>\n      <td>318440</td>\n      <td>51-60</td>\n    </tr>\n    <tr>\n      <th>2</th>\n      <td>318441</td>\n      <td>11-20</td>\n    </tr>\n    <tr>\n      <th>3</th>\n      <td>318442</td>\n      <td>21-30</td>\n    </tr>\n    <tr>\n      <th>4</th>\n      <td>318443</td>\n      <td>51-60</td>\n    </tr>\n    <tr>\n      <th>...</th>\n      <td>...</td>\n      <td>...</td>\n    </tr>\n    <tr>\n      <th>1995</th>\n      <td>320434</td>\n      <td>51-60</td>\n    </tr>\n    <tr>\n      <th>1996</th>\n      <td>320435</td>\n      <td>71-80</td>\n    </tr>\n    <tr>\n      <th>1997</th>\n      <td>320436</td>\n      <td>31-40</td>\n    </tr>\n    <tr>\n      <th>1998</th>\n      <td>320437</td>\n      <td>21-30</td>\n    </tr>\n    <tr>\n      <th>1999</th>\n      <td>320438</td>\n      <td>21-30</td>\n    </tr>\n  </tbody>\n</table>\n<p>2000 rows × 2 columns</p>\n</div>"
     },
     "execution_count": 101,
     "metadata": {},
     "output_type": "execute_result"
    }
   ],
   "source": [
    "# --- WRITE YOUR CODE FOR TASK 2 ---\n",
    "pred_xgb = model_xgb.predict(test1.drop(\"case_id\",axis=1))\n",
    "\n",
    "result_xgb = pd.DataFrame(columns=[\"case_id\",\"Stay\"])\n",
    "result_xgb[\"Stay\"] = pred_xgb\n",
    "result_xgb[\"case_id\"] = test1[\"case_id\"].copy()\n",
    "\n",
    "result_xgb[\"Stay\"] = result_xgb[\"Stay\"].replace(dict(pd.Series(le.classes_)))\n",
    "\n",
    "result_xgb"
   ],
   "metadata": {
    "collapsed": false,
    "ExecuteTime": {
     "end_time": "2023-11-08T20:43:21.762882Z",
     "start_time": "2023-11-08T20:43:21.710990Z"
    }
   },
   "id": "ee11c3fd965d021d"
  },
  {
   "cell_type": "markdown",
   "source": [
    "### Task 4: Decoding Patient Stays.\n",
    "In the closing chapters of this data-driven saga, the data scientist's journey took a significant turn. With the \"result_xgb\" DataFrame, they embarked on an insightful exploration. The code snippet, with \"groupby\" and \"nunique\" operations, provided a bird's-eye view of the distribution of predicted patient stays.\n",
    "\n",
    "Each category, ranging from '0-10' to 'More than 100 Days,' was meticulously examined. The \"case_id\" count for each group was tallied, offering a clear understanding of the predicted distribution of patient stays.\n",
    "\n",
    "This information was not just a collection of numbers; it was a crucial piece of the puzzle. It provided a snapshot of how the predictive model envisioned the durations of patient stays, which could be pivotal for making informed decisions in a healthcare setting."
   ],
   "metadata": {
    "collapsed": false
   },
   "id": "3fc9f2346fcddaed"
  },
  {
   "cell_type": "code",
   "execution_count": 102,
   "outputs": [
    {
     "data": {
      "text/plain": "        case_id\nStay           \n10           29\n0-10         64\n11-20       380\n21-30       862\n31-40       243\n41-50        35\n51-60       304\n61-70         8\n71-80        43\n81-90        26\n91-100        6",
      "text/html": "<div>\n<style scoped>\n    .dataframe tbody tr th:only-of-type {\n        vertical-align: middle;\n    }\n\n    .dataframe tbody tr th {\n        vertical-align: top;\n    }\n\n    .dataframe thead th {\n        text-align: right;\n    }\n</style>\n<table border=\"1\" class=\"dataframe\">\n  <thead>\n    <tr style=\"text-align: right;\">\n      <th></th>\n      <th>case_id</th>\n    </tr>\n    <tr>\n      <th>Stay</th>\n      <th></th>\n    </tr>\n  </thead>\n  <tbody>\n    <tr>\n      <th>10</th>\n      <td>29</td>\n    </tr>\n    <tr>\n      <th>0-10</th>\n      <td>64</td>\n    </tr>\n    <tr>\n      <th>11-20</th>\n      <td>380</td>\n    </tr>\n    <tr>\n      <th>21-30</th>\n      <td>862</td>\n    </tr>\n    <tr>\n      <th>31-40</th>\n      <td>243</td>\n    </tr>\n    <tr>\n      <th>41-50</th>\n      <td>35</td>\n    </tr>\n    <tr>\n      <th>51-60</th>\n      <td>304</td>\n    </tr>\n    <tr>\n      <th>61-70</th>\n      <td>8</td>\n    </tr>\n    <tr>\n      <th>71-80</th>\n      <td>43</td>\n    </tr>\n    <tr>\n      <th>81-90</th>\n      <td>26</td>\n    </tr>\n    <tr>\n      <th>91-100</th>\n      <td>6</td>\n    </tr>\n  </tbody>\n</table>\n</div>"
     },
     "execution_count": 102,
     "metadata": {},
     "output_type": "execute_result"
    }
   ],
   "source": [
    "# --- WRITE YOUR CODE FOR TASK 2 ---\n",
    "result = result_xgb.groupby(\"Stay\").nunique(\"case_id\")\n",
    "\n",
    "result"
   ],
   "metadata": {
    "collapsed": false,
    "ExecuteTime": {
     "end_time": "2023-11-08T20:43:21.766493Z",
     "start_time": "2023-11-08T20:43:21.761699Z"
    }
   },
   "id": "1d8db75482889261"
  },
  {
   "cell_type": "code",
   "execution_count": 102,
   "outputs": [],
   "source": [],
   "metadata": {
    "collapsed": false,
    "ExecuteTime": {
     "end_time": "2023-11-08T20:43:21.767096Z",
     "start_time": "2023-11-08T20:43:21.766326Z"
    }
   },
   "id": "12723d1f869c9177"
  },
  {
   "cell_type": "code",
   "execution_count": null,
   "outputs": [],
   "source": [],
   "metadata": {
    "collapsed": false
   },
   "id": "1c177f65fb6486bb"
  }
 ],
 "metadata": {
  "kernelspec": {
   "display_name": "Python 3",
   "language": "python",
   "name": "python3"
  },
  "language_info": {
   "codemirror_mode": {
    "name": "ipython",
    "version": 2
   },
   "file_extension": ".py",
   "mimetype": "text/x-python",
   "name": "python",
   "nbconvert_exporter": "python",
   "pygments_lexer": "ipython2",
   "version": "2.7.6"
  }
 },
 "nbformat": 4,
 "nbformat_minor": 5
}
