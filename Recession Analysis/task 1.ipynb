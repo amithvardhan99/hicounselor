{
 "cells": [
  {
   "cell_type": "code",
   "execution_count": null,
   "outputs": [],
   "source": [
    "import numpy as np\n",
    "import pandas as pd\n",
    "import matplotlib.pyplot as plt\n",
    "import seaborn as sns\n",
    "from sklearn.linear_model import *\n",
    "from sklearn.ensemble import *\n",
    "from sklearn.neighbors import *\n",
    "from sklearn.metrics import *\n",
    "import plotly.graph_objs as go\n",
    "import plotly.express as px\n",
    "import plotly.io as pio\n",
    "pio.templates.default = \"plotly_white\""
   ],
   "metadata": {
    "collapsed": false,
    "is_executing": true
   }
  },
  {
   "cell_type": "code",
   "execution_count": 30,
   "outputs": [],
   "source": [
    "def load_the_dataset():\n",
    "    data = pd.read_csv(\"UK_monthly_gdp.csv\")\n",
    "    return data"
   ],
   "metadata": {
    "collapsed": false,
    "ExecuteTime": {
     "end_time": "2023-06-13T21:05:49.940801400Z",
     "start_time": "2023-06-13T21:05:49.936117800Z"
    }
   }
  },
  {
   "cell_type": "code",
   "execution_count": 31,
   "outputs": [],
   "source": [
    "def GDP_growth_over_time():\n",
    "    data = load_the_dataset()\n",
    "    return data"
   ],
   "metadata": {
    "collapsed": false,
    "ExecuteTime": {
     "end_time": "2023-06-13T21:05:50.186073400Z",
     "start_time": "2023-06-13T21:05:50.181483600Z"
    }
   }
  },
  {
   "cell_type": "code",
   "execution_count": 32,
   "outputs": [],
   "source": [
    "def monthly_to_quarterly_data():\n",
    "    data = load_the_dataset()\n",
    "    df_1 = data.copy()\n",
    "    df_1[\"Time Period\"] = pd.to_datetime(df_1[\"Time Period\"])\n",
    "    df_2 = df_1.copy()\n",
    "    df_2 = df_2.set_index(\"Time Period\")\n",
    "    df_3 = df_2.resample(\"3M\",closed=\"left\")\n",
    "    quarterly_data = df_3.mean()\n",
    "    return quarterly_data"
   ],
   "metadata": {
    "collapsed": false,
    "ExecuteTime": {
     "end_time": "2023-06-13T21:05:50.547745700Z",
     "start_time": "2023-06-13T21:05:50.542496300Z"
    }
   }
  },
  {
   "cell_type": "code",
   "execution_count": 33,
   "outputs": [],
   "source": [
    "def recession_quarterly_GDP():\n",
    "    quarterly_data = monthly_to_quarterly_data()\n",
    "    df_5 = pd.DataFrame(quarterly_data)\n",
    "    df_5[\"Recession\"] = False\n",
    "    indices = df_5.index.values\n",
    "    for i in range(1,len(df_5)):\n",
    "        if df_5[\"GDP Growth\"][indices[i]]<0 and df_5[\"GDP Growth\"][indices[i-1]]<0:\n",
    "            df_5[\"Recession\"][indices[i]] = True\n",
    "    quarterly_data = df_5.copy()\n",
    "    recess_data = df_5[\"GDP Growth\"][df_5[\"Recession\"]==True]\n",
    "    fig = px.scatter(x=df_5.index.values,y=df_5[\"GDP Growth\"])\n",
    "    fig.add_scattergl(x=df_5.index.values,y=df_5[\"GDP Growth\"],line={\"color\":\"green\"})\n",
    "    fig.add_scattergl(x=recess_data.index.values,y=recess_data,line={\"color\":\"red\"})\n",
    "    fig.write_html(\"fig1.html\")\n",
    "    return quarterly_data"
   ],
   "metadata": {
    "collapsed": false,
    "ExecuteTime": {
     "end_time": "2023-06-13T21:05:50.899986100Z",
     "start_time": "2023-06-13T21:05:50.896240900Z"
    }
   }
  },
  {
   "cell_type": "code",
   "execution_count": 34,
   "outputs": [],
   "source": [
    "def recession_severity():\n",
    "    quarterly_data = recession_quarterly_GDP()\n",
    "    ctr = 1\n",
    "    quarterly_data[\"Recession Start\"] = 0\n",
    "    quarterly_data.iloc[0,2] = 1\n",
    "    for i in range(1,len(quarterly_data.index)):\n",
    "        if quarterly_data.iloc[i,1] != quarterly_data.iloc[i-1,1]:\n",
    "            ctr+=1\n",
    "        quarterly_data.iloc[i,2] = ctr\n",
    "    return quarterly_data"
   ],
   "metadata": {
    "collapsed": false,
    "ExecuteTime": {
     "end_time": "2023-06-13T21:05:54.140307Z",
     "start_time": "2023-06-13T21:05:54.134758400Z"
    }
   }
  },
  {
   "cell_type": "code",
   "execution_count": 35,
   "outputs": [
    {
     "name": "stderr",
     "output_type": "stream",
     "text": [
      "C:\\Users\\asurasani001\\AppData\\Local\\Temp\\ipykernel_16528\\3131790668.py:4: UserWarning:\n",
      "\n",
      "Could not infer format, so each element will be parsed individually, falling back to `dateutil`. To ensure parsing is consistent and as-expected, please specify a format.\n",
      "\n",
      "C:\\Users\\asurasani001\\AppData\\Local\\Temp\\ipykernel_16528\\4016205262.py:8: SettingWithCopyWarning:\n",
      "\n",
      "\n",
      "A value is trying to be set on a copy of a slice from a DataFrame\n",
      "\n",
      "See the caveats in the documentation: https://pandas.pydata.org/pandas-docs/stable/user_guide/indexing.html#returning-a-view-versus-a-copy\n",
      "\n",
      "C:\\Users\\asurasani001\\AppData\\Local\\Temp\\ipykernel_16528\\4016205262.py:8: SettingWithCopyWarning:\n",
      "\n",
      "\n",
      "A value is trying to be set on a copy of a slice from a DataFrame\n",
      "\n",
      "See the caveats in the documentation: https://pandas.pydata.org/pandas-docs/stable/user_guide/indexing.html#returning-a-view-versus-a-copy\n",
      "\n"
     ]
    },
    {
     "data": {
      "text/plain": "             GDP Growth  Recession  Recession Start\nTime Period                                        \n2020-03-31    -2.400000      False                1\n2020-06-30    -2.900000       True                2\n2020-09-30     3.500000      False                3\n2020-12-31     0.200000      False                3\n2021-03-31     0.033333      False                3\n2021-06-30     1.800000      False                3\n2021-09-30     0.433333      False                3\n2021-12-31     0.400000      False                3\n2022-03-31     0.066667      False                3\n2022-06-30    -0.133333      False                3\n2022-09-30    -0.166667       True                4\n2022-12-31     0.033333      False                5",
      "text/html": "<div>\n<style scoped>\n    .dataframe tbody tr th:only-of-type {\n        vertical-align: middle;\n    }\n\n    .dataframe tbody tr th {\n        vertical-align: top;\n    }\n\n    .dataframe thead th {\n        text-align: right;\n    }\n</style>\n<table border=\"1\" class=\"dataframe\">\n  <thead>\n    <tr style=\"text-align: right;\">\n      <th></th>\n      <th>GDP Growth</th>\n      <th>Recession</th>\n      <th>Recession Start</th>\n    </tr>\n    <tr>\n      <th>Time Period</th>\n      <th></th>\n      <th></th>\n      <th></th>\n    </tr>\n  </thead>\n  <tbody>\n    <tr>\n      <th>2020-03-31</th>\n      <td>-2.400000</td>\n      <td>False</td>\n      <td>1</td>\n    </tr>\n    <tr>\n      <th>2020-06-30</th>\n      <td>-2.900000</td>\n      <td>True</td>\n      <td>2</td>\n    </tr>\n    <tr>\n      <th>2020-09-30</th>\n      <td>3.500000</td>\n      <td>False</td>\n      <td>3</td>\n    </tr>\n    <tr>\n      <th>2020-12-31</th>\n      <td>0.200000</td>\n      <td>False</td>\n      <td>3</td>\n    </tr>\n    <tr>\n      <th>2021-03-31</th>\n      <td>0.033333</td>\n      <td>False</td>\n      <td>3</td>\n    </tr>\n    <tr>\n      <th>2021-06-30</th>\n      <td>1.800000</td>\n      <td>False</td>\n      <td>3</td>\n    </tr>\n    <tr>\n      <th>2021-09-30</th>\n      <td>0.433333</td>\n      <td>False</td>\n      <td>3</td>\n    </tr>\n    <tr>\n      <th>2021-12-31</th>\n      <td>0.400000</td>\n      <td>False</td>\n      <td>3</td>\n    </tr>\n    <tr>\n      <th>2022-03-31</th>\n      <td>0.066667</td>\n      <td>False</td>\n      <td>3</td>\n    </tr>\n    <tr>\n      <th>2022-06-30</th>\n      <td>-0.133333</td>\n      <td>False</td>\n      <td>3</td>\n    </tr>\n    <tr>\n      <th>2022-09-30</th>\n      <td>-0.166667</td>\n      <td>True</td>\n      <td>4</td>\n    </tr>\n    <tr>\n      <th>2022-12-31</th>\n      <td>0.033333</td>\n      <td>False</td>\n      <td>5</td>\n    </tr>\n  </tbody>\n</table>\n</div>"
     },
     "execution_count": 35,
     "metadata": {},
     "output_type": "execute_result"
    }
   ],
   "source": [
    "recession_severity()"
   ],
   "metadata": {
    "collapsed": false,
    "ExecuteTime": {
     "end_time": "2023-06-13T21:05:56.133397400Z",
     "start_time": "2023-06-13T21:05:54.581572700Z"
    }
   }
  },
  {
   "cell_type": "code",
   "execution_count": null,
   "outputs": [],
   "source": [],
   "metadata": {
    "collapsed": false
   }
  }
 ],
 "metadata": {
  "kernelspec": {
   "display_name": "Python 3",
   "language": "python",
   "name": "python3"
  },
  "language_info": {
   "codemirror_mode": {
    "name": "ipython",
    "version": 2
   },
   "file_extension": ".py",
   "mimetype": "text/x-python",
   "name": "python",
   "nbconvert_exporter": "python",
   "pygments_lexer": "ipython2",
   "version": "2.7.6"
  }
 },
 "nbformat": 4,
 "nbformat_minor": 0
}
