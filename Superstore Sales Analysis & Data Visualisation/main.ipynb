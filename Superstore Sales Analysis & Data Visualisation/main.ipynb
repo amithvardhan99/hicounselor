{
 "cells": [
  {
   "cell_type": "code",
   "execution_count": 137,
   "metadata": {
    "collapsed": true,
    "ExecuteTime": {
     "end_time": "2023-07-08T16:54:37.950900Z",
     "start_time": "2023-07-08T16:54:37.948166Z"
    }
   },
   "outputs": [],
   "source": [
    "import numpy as np\n",
    "import pandas as pd"
   ]
  },
  {
   "cell_type": "code",
   "execution_count": 138,
   "outputs": [],
   "source": [
    "df = pd.read_csv(\"superstore_final_dataset.csv\")"
   ],
   "metadata": {
    "collapsed": false,
    "ExecuteTime": {
     "end_time": "2023-07-08T16:54:38.385542Z",
     "start_time": "2023-07-08T16:54:38.340193Z"
    }
   }
  },
  {
   "cell_type": "code",
   "execution_count": 139,
   "outputs": [
    {
     "data": {
      "text/plain": "      Row_ID        Order_ID  Order_Date   Ship_Date       Ship_Mode   \n0          1  CA-2017-152156  08/11/2017  11/11/2017    Second Class  \\\n1          2  CA-2017-152156  08/11/2017  11/11/2017    Second Class   \n2          3  CA-2017-138688  12/06/2017  16/06/2017    Second Class   \n3          4  US-2016-108966  11/10/2016  18/10/2016  Standard Class   \n4          5  US-2016-108966  11/10/2016  18/10/2016  Standard Class   \n...      ...             ...         ...         ...             ...   \n9795    9796  CA-2017-125920  21/05/2017  28/05/2017  Standard Class   \n9796    9797  CA-2016-128608  12/01/2016  17/01/2016  Standard Class   \n9797    9798  CA-2016-128608  12/01/2016  17/01/2016  Standard Class   \n9798    9799  CA-2016-128608  12/01/2016  17/01/2016  Standard Class   \n9799    9800  CA-2016-128608  12/01/2016  17/01/2016  Standard Class   \n\n     Customer_ID     Customer_Name    Segment        Country             City   \n0       CG-12520       Claire Gute   Consumer  United States        Henderson  \\\n1       CG-12520       Claire Gute   Consumer  United States        Henderson   \n2       DV-13045   Darrin Van Huff  Corporate  United States      Los Angeles   \n3       SO-20335     Sean O Donnel   Consumer  United States  Fort Lauderdale   \n4       SO-20335     Sean O Donnel   Consumer  United States  Fort Lauderdale   \n...          ...               ...        ...            ...              ...   \n9795    SH-19975     Sally Hughsby  Corporate  United States          Chicago   \n9796    CS-12490  Cindy Schnelling  Corporate  United States           Toledo   \n9797    CS-12490  Cindy Schnelling  Corporate  United States           Toledo   \n9798    CS-12490  Cindy Schnelling  Corporate  United States           Toledo   \n9799    CS-12490  Cindy Schnelling  Corporate  United States           Toledo   \n\n           State  Postal_Code   Region       Product_ID         Category   \n0       Kentucky      42420.0    South  FUR-BO-10001798        Furniture  \\\n1       Kentucky      42420.0    South  FUR-CH-10000454        Furniture   \n2     California      90036.0     West  OFF-LA-10000240  Office Supplies   \n3        Florida      33311.0    South  FUR-TA-10000577        Furniture   \n4        Florida      33311.0    South  OFF-ST-10000760  Office Supplies   \n...          ...          ...      ...              ...              ...   \n9795    Illinois      60610.0  Central  OFF-BI-10003429  Office Supplies   \n9796        Ohio      43615.0     East  OFF-AR-10001374  Office Supplies   \n9797        Ohio      43615.0     East  TEC-PH-10004977       Technology   \n9798        Ohio      43615.0     East  TEC-PH-10000912       Technology   \n9799        Ohio      43615.0     East  TEC-AC-10000487       Technology   \n\n     Sub_Category                                       Product_Name     Sales  \n0       Bookcases                  Bush Somerset Collection Bookcase  261.9600  \n1          Chairs  Hon Deluxe Fabric Upholstered Stacking Chairs,...  731.9400  \n2          Labels  Self-Adhesive Address Labels for Typewriters b...   14.6200  \n3          Tables      Bretford CR4500 Series Slim Rectangular Table  957.5775  \n4         Storage                      Eldon Fold N Roll Cart System   22.3680  \n...           ...                                                ...       ...  \n9795      Binders  Cardinal HOLDit! Binder Insert Strips,Extra St...    3.7980  \n9796          Art           BIC Brite Liner Highlighters, Chisel Tip   10.3680  \n9797       Phones                                        GE 30524EE4  235.1880  \n9798       Phones           Anker 24W Portable Micro USB Car Charger   26.3760  \n9799  Accessories                SanDisk Cruzer 4 GB USB Flash Drive   10.3840  \n\n[9800 rows x 18 columns]",
      "text/html": "<div>\n<style scoped>\n    .dataframe tbody tr th:only-of-type {\n        vertical-align: middle;\n    }\n\n    .dataframe tbody tr th {\n        vertical-align: top;\n    }\n\n    .dataframe thead th {\n        text-align: right;\n    }\n</style>\n<table border=\"1\" class=\"dataframe\">\n  <thead>\n    <tr style=\"text-align: right;\">\n      <th></th>\n      <th>Row_ID</th>\n      <th>Order_ID</th>\n      <th>Order_Date</th>\n      <th>Ship_Date</th>\n      <th>Ship_Mode</th>\n      <th>Customer_ID</th>\n      <th>Customer_Name</th>\n      <th>Segment</th>\n      <th>Country</th>\n      <th>City</th>\n      <th>State</th>\n      <th>Postal_Code</th>\n      <th>Region</th>\n      <th>Product_ID</th>\n      <th>Category</th>\n      <th>Sub_Category</th>\n      <th>Product_Name</th>\n      <th>Sales</th>\n    </tr>\n  </thead>\n  <tbody>\n    <tr>\n      <th>0</th>\n      <td>1</td>\n      <td>CA-2017-152156</td>\n      <td>08/11/2017</td>\n      <td>11/11/2017</td>\n      <td>Second Class</td>\n      <td>CG-12520</td>\n      <td>Claire Gute</td>\n      <td>Consumer</td>\n      <td>United States</td>\n      <td>Henderson</td>\n      <td>Kentucky</td>\n      <td>42420.0</td>\n      <td>South</td>\n      <td>FUR-BO-10001798</td>\n      <td>Furniture</td>\n      <td>Bookcases</td>\n      <td>Bush Somerset Collection Bookcase</td>\n      <td>261.9600</td>\n    </tr>\n    <tr>\n      <th>1</th>\n      <td>2</td>\n      <td>CA-2017-152156</td>\n      <td>08/11/2017</td>\n      <td>11/11/2017</td>\n      <td>Second Class</td>\n      <td>CG-12520</td>\n      <td>Claire Gute</td>\n      <td>Consumer</td>\n      <td>United States</td>\n      <td>Henderson</td>\n      <td>Kentucky</td>\n      <td>42420.0</td>\n      <td>South</td>\n      <td>FUR-CH-10000454</td>\n      <td>Furniture</td>\n      <td>Chairs</td>\n      <td>Hon Deluxe Fabric Upholstered Stacking Chairs,...</td>\n      <td>731.9400</td>\n    </tr>\n    <tr>\n      <th>2</th>\n      <td>3</td>\n      <td>CA-2017-138688</td>\n      <td>12/06/2017</td>\n      <td>16/06/2017</td>\n      <td>Second Class</td>\n      <td>DV-13045</td>\n      <td>Darrin Van Huff</td>\n      <td>Corporate</td>\n      <td>United States</td>\n      <td>Los Angeles</td>\n      <td>California</td>\n      <td>90036.0</td>\n      <td>West</td>\n      <td>OFF-LA-10000240</td>\n      <td>Office Supplies</td>\n      <td>Labels</td>\n      <td>Self-Adhesive Address Labels for Typewriters b...</td>\n      <td>14.6200</td>\n    </tr>\n    <tr>\n      <th>3</th>\n      <td>4</td>\n      <td>US-2016-108966</td>\n      <td>11/10/2016</td>\n      <td>18/10/2016</td>\n      <td>Standard Class</td>\n      <td>SO-20335</td>\n      <td>Sean O Donnel</td>\n      <td>Consumer</td>\n      <td>United States</td>\n      <td>Fort Lauderdale</td>\n      <td>Florida</td>\n      <td>33311.0</td>\n      <td>South</td>\n      <td>FUR-TA-10000577</td>\n      <td>Furniture</td>\n      <td>Tables</td>\n      <td>Bretford CR4500 Series Slim Rectangular Table</td>\n      <td>957.5775</td>\n    </tr>\n    <tr>\n      <th>4</th>\n      <td>5</td>\n      <td>US-2016-108966</td>\n      <td>11/10/2016</td>\n      <td>18/10/2016</td>\n      <td>Standard Class</td>\n      <td>SO-20335</td>\n      <td>Sean O Donnel</td>\n      <td>Consumer</td>\n      <td>United States</td>\n      <td>Fort Lauderdale</td>\n      <td>Florida</td>\n      <td>33311.0</td>\n      <td>South</td>\n      <td>OFF-ST-10000760</td>\n      <td>Office Supplies</td>\n      <td>Storage</td>\n      <td>Eldon Fold N Roll Cart System</td>\n      <td>22.3680</td>\n    </tr>\n    <tr>\n      <th>...</th>\n      <td>...</td>\n      <td>...</td>\n      <td>...</td>\n      <td>...</td>\n      <td>...</td>\n      <td>...</td>\n      <td>...</td>\n      <td>...</td>\n      <td>...</td>\n      <td>...</td>\n      <td>...</td>\n      <td>...</td>\n      <td>...</td>\n      <td>...</td>\n      <td>...</td>\n      <td>...</td>\n      <td>...</td>\n      <td>...</td>\n    </tr>\n    <tr>\n      <th>9795</th>\n      <td>9796</td>\n      <td>CA-2017-125920</td>\n      <td>21/05/2017</td>\n      <td>28/05/2017</td>\n      <td>Standard Class</td>\n      <td>SH-19975</td>\n      <td>Sally Hughsby</td>\n      <td>Corporate</td>\n      <td>United States</td>\n      <td>Chicago</td>\n      <td>Illinois</td>\n      <td>60610.0</td>\n      <td>Central</td>\n      <td>OFF-BI-10003429</td>\n      <td>Office Supplies</td>\n      <td>Binders</td>\n      <td>Cardinal HOLDit! Binder Insert Strips,Extra St...</td>\n      <td>3.7980</td>\n    </tr>\n    <tr>\n      <th>9796</th>\n      <td>9797</td>\n      <td>CA-2016-128608</td>\n      <td>12/01/2016</td>\n      <td>17/01/2016</td>\n      <td>Standard Class</td>\n      <td>CS-12490</td>\n      <td>Cindy Schnelling</td>\n      <td>Corporate</td>\n      <td>United States</td>\n      <td>Toledo</td>\n      <td>Ohio</td>\n      <td>43615.0</td>\n      <td>East</td>\n      <td>OFF-AR-10001374</td>\n      <td>Office Supplies</td>\n      <td>Art</td>\n      <td>BIC Brite Liner Highlighters, Chisel Tip</td>\n      <td>10.3680</td>\n    </tr>\n    <tr>\n      <th>9797</th>\n      <td>9798</td>\n      <td>CA-2016-128608</td>\n      <td>12/01/2016</td>\n      <td>17/01/2016</td>\n      <td>Standard Class</td>\n      <td>CS-12490</td>\n      <td>Cindy Schnelling</td>\n      <td>Corporate</td>\n      <td>United States</td>\n      <td>Toledo</td>\n      <td>Ohio</td>\n      <td>43615.0</td>\n      <td>East</td>\n      <td>TEC-PH-10004977</td>\n      <td>Technology</td>\n      <td>Phones</td>\n      <td>GE 30524EE4</td>\n      <td>235.1880</td>\n    </tr>\n    <tr>\n      <th>9798</th>\n      <td>9799</td>\n      <td>CA-2016-128608</td>\n      <td>12/01/2016</td>\n      <td>17/01/2016</td>\n      <td>Standard Class</td>\n      <td>CS-12490</td>\n      <td>Cindy Schnelling</td>\n      <td>Corporate</td>\n      <td>United States</td>\n      <td>Toledo</td>\n      <td>Ohio</td>\n      <td>43615.0</td>\n      <td>East</td>\n      <td>TEC-PH-10000912</td>\n      <td>Technology</td>\n      <td>Phones</td>\n      <td>Anker 24W Portable Micro USB Car Charger</td>\n      <td>26.3760</td>\n    </tr>\n    <tr>\n      <th>9799</th>\n      <td>9800</td>\n      <td>CA-2016-128608</td>\n      <td>12/01/2016</td>\n      <td>17/01/2016</td>\n      <td>Standard Class</td>\n      <td>CS-12490</td>\n      <td>Cindy Schnelling</td>\n      <td>Corporate</td>\n      <td>United States</td>\n      <td>Toledo</td>\n      <td>Ohio</td>\n      <td>43615.0</td>\n      <td>East</td>\n      <td>TEC-AC-10000487</td>\n      <td>Technology</td>\n      <td>Accessories</td>\n      <td>SanDisk Cruzer 4 GB USB Flash Drive</td>\n      <td>10.3840</td>\n    </tr>\n  </tbody>\n</table>\n<p>9800 rows × 18 columns</p>\n</div>"
     },
     "execution_count": 139,
     "metadata": {},
     "output_type": "execute_result"
    }
   ],
   "source": [
    "df"
   ],
   "metadata": {
    "collapsed": false,
    "ExecuteTime": {
     "end_time": "2023-07-08T16:54:38.693404Z",
     "start_time": "2023-07-08T16:54:38.689853Z"
    }
   }
  },
  {
   "cell_type": "code",
   "execution_count": 140,
   "outputs": [
    {
     "data": {
      "text/plain": "['Order_ID',\n 'Order_Date',\n 'Ship_Date',\n 'Ship_Mode',\n 'Customer_ID',\n 'Customer_Name',\n 'Segment',\n 'Country',\n 'City',\n 'State',\n 'Postal_Code',\n 'Region',\n 'Product_ID',\n 'Category',\n 'Sub_Category',\n 'Product_Name',\n 'Sales']"
     },
     "execution_count": 140,
     "metadata": {},
     "output_type": "execute_result"
    }
   ],
   "source": [
    "col = list(df.columns)\n",
    "col.remove(\"Row_ID\")\n",
    "col"
   ],
   "metadata": {
    "collapsed": false,
    "ExecuteTime": {
     "end_time": "2023-07-08T16:54:39.090412Z",
     "start_time": "2023-07-08T16:54:39.086345Z"
    }
   }
  },
  {
   "cell_type": "code",
   "execution_count": 141,
   "outputs": [
    {
     "data": {
      "text/plain": "      Row_ID        Order_ID  Order_Date   Ship_Date       Ship_Mode   \n0          1  CA-2017-152156  08/11/2017  11/11/2017    Second Class  \\\n1          2  CA-2017-152156  08/11/2017  11/11/2017    Second Class   \n2          3  CA-2017-138688  12/06/2017  16/06/2017    Second Class   \n3          4  US-2016-108966  11/10/2016  18/10/2016  Standard Class   \n4          5  US-2016-108966  11/10/2016  18/10/2016  Standard Class   \n...      ...             ...         ...         ...             ...   \n9794    9796  CA-2017-125920  21/05/2017  28/05/2017  Standard Class   \n9795    9797  CA-2016-128608  12/01/2016  17/01/2016  Standard Class   \n9796    9798  CA-2016-128608  12/01/2016  17/01/2016  Standard Class   \n9797    9799  CA-2016-128608  12/01/2016  17/01/2016  Standard Class   \n9798    9800  CA-2016-128608  12/01/2016  17/01/2016  Standard Class   \n\n     Customer_ID     Customer_Name    Segment        Country             City   \n0       CG-12520       Claire Gute   Consumer  United States        Henderson  \\\n1       CG-12520       Claire Gute   Consumer  United States        Henderson   \n2       DV-13045   Darrin Van Huff  Corporate  United States      Los Angeles   \n3       SO-20335     Sean O Donnel   Consumer  United States  Fort Lauderdale   \n4       SO-20335     Sean O Donnel   Consumer  United States  Fort Lauderdale   \n...          ...               ...        ...            ...              ...   \n9794    SH-19975     Sally Hughsby  Corporate  United States          Chicago   \n9795    CS-12490  Cindy Schnelling  Corporate  United States           Toledo   \n9796    CS-12490  Cindy Schnelling  Corporate  United States           Toledo   \n9797    CS-12490  Cindy Schnelling  Corporate  United States           Toledo   \n9798    CS-12490  Cindy Schnelling  Corporate  United States           Toledo   \n\n           State  Postal_Code   Region       Product_ID         Category   \n0       Kentucky      42420.0    South  FUR-BO-10001798        Furniture  \\\n1       Kentucky      42420.0    South  FUR-CH-10000454        Furniture   \n2     California      90036.0     West  OFF-LA-10000240  Office Supplies   \n3        Florida      33311.0    South  FUR-TA-10000577        Furniture   \n4        Florida      33311.0    South  OFF-ST-10000760  Office Supplies   \n...          ...          ...      ...              ...              ...   \n9794    Illinois      60610.0  Central  OFF-BI-10003429  Office Supplies   \n9795        Ohio      43615.0     East  OFF-AR-10001374  Office Supplies   \n9796        Ohio      43615.0     East  TEC-PH-10004977       Technology   \n9797        Ohio      43615.0     East  TEC-PH-10000912       Technology   \n9798        Ohio      43615.0     East  TEC-AC-10000487       Technology   \n\n     Sub_Category                                       Product_Name     Sales  \n0       Bookcases                  Bush Somerset Collection Bookcase  261.9600  \n1          Chairs  Hon Deluxe Fabric Upholstered Stacking Chairs,...  731.9400  \n2          Labels  Self-Adhesive Address Labels for Typewriters b...   14.6200  \n3          Tables      Bretford CR4500 Series Slim Rectangular Table  957.5775  \n4         Storage                      Eldon Fold N Roll Cart System   22.3680  \n...           ...                                                ...       ...  \n9794      Binders  Cardinal HOLDit! Binder Insert Strips,Extra St...    3.7980  \n9795          Art           BIC Brite Liner Highlighters, Chisel Tip   10.3680  \n9796       Phones                                        GE 30524EE4  235.1880  \n9797       Phones           Anker 24W Portable Micro USB Car Charger   26.3760  \n9798  Accessories                SanDisk Cruzer 4 GB USB Flash Drive   10.3840  \n\n[9799 rows x 18 columns]",
      "text/html": "<div>\n<style scoped>\n    .dataframe tbody tr th:only-of-type {\n        vertical-align: middle;\n    }\n\n    .dataframe tbody tr th {\n        vertical-align: top;\n    }\n\n    .dataframe thead th {\n        text-align: right;\n    }\n</style>\n<table border=\"1\" class=\"dataframe\">\n  <thead>\n    <tr style=\"text-align: right;\">\n      <th></th>\n      <th>Row_ID</th>\n      <th>Order_ID</th>\n      <th>Order_Date</th>\n      <th>Ship_Date</th>\n      <th>Ship_Mode</th>\n      <th>Customer_ID</th>\n      <th>Customer_Name</th>\n      <th>Segment</th>\n      <th>Country</th>\n      <th>City</th>\n      <th>State</th>\n      <th>Postal_Code</th>\n      <th>Region</th>\n      <th>Product_ID</th>\n      <th>Category</th>\n      <th>Sub_Category</th>\n      <th>Product_Name</th>\n      <th>Sales</th>\n    </tr>\n  </thead>\n  <tbody>\n    <tr>\n      <th>0</th>\n      <td>1</td>\n      <td>CA-2017-152156</td>\n      <td>08/11/2017</td>\n      <td>11/11/2017</td>\n      <td>Second Class</td>\n      <td>CG-12520</td>\n      <td>Claire Gute</td>\n      <td>Consumer</td>\n      <td>United States</td>\n      <td>Henderson</td>\n      <td>Kentucky</td>\n      <td>42420.0</td>\n      <td>South</td>\n      <td>FUR-BO-10001798</td>\n      <td>Furniture</td>\n      <td>Bookcases</td>\n      <td>Bush Somerset Collection Bookcase</td>\n      <td>261.9600</td>\n    </tr>\n    <tr>\n      <th>1</th>\n      <td>2</td>\n      <td>CA-2017-152156</td>\n      <td>08/11/2017</td>\n      <td>11/11/2017</td>\n      <td>Second Class</td>\n      <td>CG-12520</td>\n      <td>Claire Gute</td>\n      <td>Consumer</td>\n      <td>United States</td>\n      <td>Henderson</td>\n      <td>Kentucky</td>\n      <td>42420.0</td>\n      <td>South</td>\n      <td>FUR-CH-10000454</td>\n      <td>Furniture</td>\n      <td>Chairs</td>\n      <td>Hon Deluxe Fabric Upholstered Stacking Chairs,...</td>\n      <td>731.9400</td>\n    </tr>\n    <tr>\n      <th>2</th>\n      <td>3</td>\n      <td>CA-2017-138688</td>\n      <td>12/06/2017</td>\n      <td>16/06/2017</td>\n      <td>Second Class</td>\n      <td>DV-13045</td>\n      <td>Darrin Van Huff</td>\n      <td>Corporate</td>\n      <td>United States</td>\n      <td>Los Angeles</td>\n      <td>California</td>\n      <td>90036.0</td>\n      <td>West</td>\n      <td>OFF-LA-10000240</td>\n      <td>Office Supplies</td>\n      <td>Labels</td>\n      <td>Self-Adhesive Address Labels for Typewriters b...</td>\n      <td>14.6200</td>\n    </tr>\n    <tr>\n      <th>3</th>\n      <td>4</td>\n      <td>US-2016-108966</td>\n      <td>11/10/2016</td>\n      <td>18/10/2016</td>\n      <td>Standard Class</td>\n      <td>SO-20335</td>\n      <td>Sean O Donnel</td>\n      <td>Consumer</td>\n      <td>United States</td>\n      <td>Fort Lauderdale</td>\n      <td>Florida</td>\n      <td>33311.0</td>\n      <td>South</td>\n      <td>FUR-TA-10000577</td>\n      <td>Furniture</td>\n      <td>Tables</td>\n      <td>Bretford CR4500 Series Slim Rectangular Table</td>\n      <td>957.5775</td>\n    </tr>\n    <tr>\n      <th>4</th>\n      <td>5</td>\n      <td>US-2016-108966</td>\n      <td>11/10/2016</td>\n      <td>18/10/2016</td>\n      <td>Standard Class</td>\n      <td>SO-20335</td>\n      <td>Sean O Donnel</td>\n      <td>Consumer</td>\n      <td>United States</td>\n      <td>Fort Lauderdale</td>\n      <td>Florida</td>\n      <td>33311.0</td>\n      <td>South</td>\n      <td>OFF-ST-10000760</td>\n      <td>Office Supplies</td>\n      <td>Storage</td>\n      <td>Eldon Fold N Roll Cart System</td>\n      <td>22.3680</td>\n    </tr>\n    <tr>\n      <th>...</th>\n      <td>...</td>\n      <td>...</td>\n      <td>...</td>\n      <td>...</td>\n      <td>...</td>\n      <td>...</td>\n      <td>...</td>\n      <td>...</td>\n      <td>...</td>\n      <td>...</td>\n      <td>...</td>\n      <td>...</td>\n      <td>...</td>\n      <td>...</td>\n      <td>...</td>\n      <td>...</td>\n      <td>...</td>\n      <td>...</td>\n    </tr>\n    <tr>\n      <th>9794</th>\n      <td>9796</td>\n      <td>CA-2017-125920</td>\n      <td>21/05/2017</td>\n      <td>28/05/2017</td>\n      <td>Standard Class</td>\n      <td>SH-19975</td>\n      <td>Sally Hughsby</td>\n      <td>Corporate</td>\n      <td>United States</td>\n      <td>Chicago</td>\n      <td>Illinois</td>\n      <td>60610.0</td>\n      <td>Central</td>\n      <td>OFF-BI-10003429</td>\n      <td>Office Supplies</td>\n      <td>Binders</td>\n      <td>Cardinal HOLDit! Binder Insert Strips,Extra St...</td>\n      <td>3.7980</td>\n    </tr>\n    <tr>\n      <th>9795</th>\n      <td>9797</td>\n      <td>CA-2016-128608</td>\n      <td>12/01/2016</td>\n      <td>17/01/2016</td>\n      <td>Standard Class</td>\n      <td>CS-12490</td>\n      <td>Cindy Schnelling</td>\n      <td>Corporate</td>\n      <td>United States</td>\n      <td>Toledo</td>\n      <td>Ohio</td>\n      <td>43615.0</td>\n      <td>East</td>\n      <td>OFF-AR-10001374</td>\n      <td>Office Supplies</td>\n      <td>Art</td>\n      <td>BIC Brite Liner Highlighters, Chisel Tip</td>\n      <td>10.3680</td>\n    </tr>\n    <tr>\n      <th>9796</th>\n      <td>9798</td>\n      <td>CA-2016-128608</td>\n      <td>12/01/2016</td>\n      <td>17/01/2016</td>\n      <td>Standard Class</td>\n      <td>CS-12490</td>\n      <td>Cindy Schnelling</td>\n      <td>Corporate</td>\n      <td>United States</td>\n      <td>Toledo</td>\n      <td>Ohio</td>\n      <td>43615.0</td>\n      <td>East</td>\n      <td>TEC-PH-10004977</td>\n      <td>Technology</td>\n      <td>Phones</td>\n      <td>GE 30524EE4</td>\n      <td>235.1880</td>\n    </tr>\n    <tr>\n      <th>9797</th>\n      <td>9799</td>\n      <td>CA-2016-128608</td>\n      <td>12/01/2016</td>\n      <td>17/01/2016</td>\n      <td>Standard Class</td>\n      <td>CS-12490</td>\n      <td>Cindy Schnelling</td>\n      <td>Corporate</td>\n      <td>United States</td>\n      <td>Toledo</td>\n      <td>Ohio</td>\n      <td>43615.0</td>\n      <td>East</td>\n      <td>TEC-PH-10000912</td>\n      <td>Technology</td>\n      <td>Phones</td>\n      <td>Anker 24W Portable Micro USB Car Charger</td>\n      <td>26.3760</td>\n    </tr>\n    <tr>\n      <th>9798</th>\n      <td>9800</td>\n      <td>CA-2016-128608</td>\n      <td>12/01/2016</td>\n      <td>17/01/2016</td>\n      <td>Standard Class</td>\n      <td>CS-12490</td>\n      <td>Cindy Schnelling</td>\n      <td>Corporate</td>\n      <td>United States</td>\n      <td>Toledo</td>\n      <td>Ohio</td>\n      <td>43615.0</td>\n      <td>East</td>\n      <td>TEC-AC-10000487</td>\n      <td>Technology</td>\n      <td>Accessories</td>\n      <td>SanDisk Cruzer 4 GB USB Flash Drive</td>\n      <td>10.3840</td>\n    </tr>\n  </tbody>\n</table>\n<p>9799 rows × 18 columns</p>\n</div>"
     },
     "execution_count": 141,
     "metadata": {},
     "output_type": "execute_result"
    }
   ],
   "source": [
    "df_1 = df.drop_duplicates(col,inplace=False,ignore_index=True)\n",
    "df_1"
   ],
   "metadata": {
    "collapsed": false,
    "ExecuteTime": {
     "end_time": "2023-07-08T16:54:39.470798Z",
     "start_time": "2023-07-08T16:54:39.454117Z"
    }
   }
  },
  {
   "cell_type": "code",
   "execution_count": 142,
   "outputs": [
    {
     "data": {
      "text/plain": "      Row_ID        Order_ID  Order_Date   Ship_Date       Ship_Mode   \n0          1  CA-2017-152156  08/11/2017  11/11/2017    Second Class  \\\n1          2  CA-2017-152156  08/11/2017  11/11/2017    Second Class   \n2          3  CA-2017-138688  12/06/2017  16/06/2017    Second Class   \n3          4  US-2016-108966  11/10/2016  18/10/2016  Standard Class   \n4          5  US-2016-108966  11/10/2016  18/10/2016  Standard Class   \n...      ...             ...         ...         ...             ...   \n9794    9796  CA-2017-125920  21/05/2017  28/05/2017  Standard Class   \n9795    9797  CA-2016-128608  12/01/2016  17/01/2016  Standard Class   \n9796    9798  CA-2016-128608  12/01/2016  17/01/2016  Standard Class   \n9797    9799  CA-2016-128608  12/01/2016  17/01/2016  Standard Class   \n9798    9800  CA-2016-128608  12/01/2016  17/01/2016  Standard Class   \n\n     Customer_ID     Customer_Name    Segment        Country             City   \n0       CG-12520       Claire Gute   Consumer  United States        Henderson  \\\n1       CG-12520       Claire Gute   Consumer  United States        Henderson   \n2       DV-13045   Darrin Van Huff  Corporate  United States      Los Angeles   \n3       SO-20335     Sean O Donnel   Consumer  United States  Fort Lauderdale   \n4       SO-20335     Sean O Donnel   Consumer  United States  Fort Lauderdale   \n...          ...               ...        ...            ...              ...   \n9794    SH-19975     Sally Hughsby  Corporate  United States          Chicago   \n9795    CS-12490  Cindy Schnelling  Corporate  United States           Toledo   \n9796    CS-12490  Cindy Schnelling  Corporate  United States           Toledo   \n9797    CS-12490  Cindy Schnelling  Corporate  United States           Toledo   \n9798    CS-12490  Cindy Schnelling  Corporate  United States           Toledo   \n\n           State  Postal_Code   Region       Product_ID         Category   \n0       Kentucky      42420.0    South  FUR-BO-10001798        Furniture  \\\n1       Kentucky      42420.0    South  FUR-CH-10000454        Furniture   \n2     California      90036.0     West  OFF-LA-10000240  Office Supplies   \n3        Florida      33311.0    South  FUR-TA-10000577        Furniture   \n4        Florida      33311.0    South  OFF-ST-10000760  Office Supplies   \n...          ...          ...      ...              ...              ...   \n9794    Illinois      60610.0  Central  OFF-BI-10003429  Office Supplies   \n9795        Ohio      43615.0     East  OFF-AR-10001374  Office Supplies   \n9796        Ohio      43615.0     East  TEC-PH-10004977       Technology   \n9797        Ohio      43615.0     East  TEC-PH-10000912       Technology   \n9798        Ohio      43615.0     East  TEC-AC-10000487       Technology   \n\n     Sub_Category                                       Product_Name     Sales  \n0       Bookcases                  Bush Somerset Collection Bookcase  261.9600  \n1          Chairs  Hon Deluxe Fabric Upholstered Stacking Chairs,...  731.9400  \n2          Labels  Self-Adhesive Address Labels for Typewriters b...   14.6200  \n3          Tables      Bretford CR4500 Series Slim Rectangular Table  957.5775  \n4         Storage                      Eldon Fold N Roll Cart System   22.3680  \n...           ...                                                ...       ...  \n9794      Binders  Cardinal HOLDit! Binder Insert Strips,Extra St...    3.7980  \n9795          Art           BIC Brite Liner Highlighters, Chisel Tip   10.3680  \n9796       Phones                                        GE 30524EE4  235.1880  \n9797       Phones           Anker 24W Portable Micro USB Car Charger   26.3760  \n9798  Accessories                SanDisk Cruzer 4 GB USB Flash Drive   10.3840  \n\n[9788 rows x 18 columns]",
      "text/html": "<div>\n<style scoped>\n    .dataframe tbody tr th:only-of-type {\n        vertical-align: middle;\n    }\n\n    .dataframe tbody tr th {\n        vertical-align: top;\n    }\n\n    .dataframe thead th {\n        text-align: right;\n    }\n</style>\n<table border=\"1\" class=\"dataframe\">\n  <thead>\n    <tr style=\"text-align: right;\">\n      <th></th>\n      <th>Row_ID</th>\n      <th>Order_ID</th>\n      <th>Order_Date</th>\n      <th>Ship_Date</th>\n      <th>Ship_Mode</th>\n      <th>Customer_ID</th>\n      <th>Customer_Name</th>\n      <th>Segment</th>\n      <th>Country</th>\n      <th>City</th>\n      <th>State</th>\n      <th>Postal_Code</th>\n      <th>Region</th>\n      <th>Product_ID</th>\n      <th>Category</th>\n      <th>Sub_Category</th>\n      <th>Product_Name</th>\n      <th>Sales</th>\n    </tr>\n  </thead>\n  <tbody>\n    <tr>\n      <th>0</th>\n      <td>1</td>\n      <td>CA-2017-152156</td>\n      <td>08/11/2017</td>\n      <td>11/11/2017</td>\n      <td>Second Class</td>\n      <td>CG-12520</td>\n      <td>Claire Gute</td>\n      <td>Consumer</td>\n      <td>United States</td>\n      <td>Henderson</td>\n      <td>Kentucky</td>\n      <td>42420.0</td>\n      <td>South</td>\n      <td>FUR-BO-10001798</td>\n      <td>Furniture</td>\n      <td>Bookcases</td>\n      <td>Bush Somerset Collection Bookcase</td>\n      <td>261.9600</td>\n    </tr>\n    <tr>\n      <th>1</th>\n      <td>2</td>\n      <td>CA-2017-152156</td>\n      <td>08/11/2017</td>\n      <td>11/11/2017</td>\n      <td>Second Class</td>\n      <td>CG-12520</td>\n      <td>Claire Gute</td>\n      <td>Consumer</td>\n      <td>United States</td>\n      <td>Henderson</td>\n      <td>Kentucky</td>\n      <td>42420.0</td>\n      <td>South</td>\n      <td>FUR-CH-10000454</td>\n      <td>Furniture</td>\n      <td>Chairs</td>\n      <td>Hon Deluxe Fabric Upholstered Stacking Chairs,...</td>\n      <td>731.9400</td>\n    </tr>\n    <tr>\n      <th>2</th>\n      <td>3</td>\n      <td>CA-2017-138688</td>\n      <td>12/06/2017</td>\n      <td>16/06/2017</td>\n      <td>Second Class</td>\n      <td>DV-13045</td>\n      <td>Darrin Van Huff</td>\n      <td>Corporate</td>\n      <td>United States</td>\n      <td>Los Angeles</td>\n      <td>California</td>\n      <td>90036.0</td>\n      <td>West</td>\n      <td>OFF-LA-10000240</td>\n      <td>Office Supplies</td>\n      <td>Labels</td>\n      <td>Self-Adhesive Address Labels for Typewriters b...</td>\n      <td>14.6200</td>\n    </tr>\n    <tr>\n      <th>3</th>\n      <td>4</td>\n      <td>US-2016-108966</td>\n      <td>11/10/2016</td>\n      <td>18/10/2016</td>\n      <td>Standard Class</td>\n      <td>SO-20335</td>\n      <td>Sean O Donnel</td>\n      <td>Consumer</td>\n      <td>United States</td>\n      <td>Fort Lauderdale</td>\n      <td>Florida</td>\n      <td>33311.0</td>\n      <td>South</td>\n      <td>FUR-TA-10000577</td>\n      <td>Furniture</td>\n      <td>Tables</td>\n      <td>Bretford CR4500 Series Slim Rectangular Table</td>\n      <td>957.5775</td>\n    </tr>\n    <tr>\n      <th>4</th>\n      <td>5</td>\n      <td>US-2016-108966</td>\n      <td>11/10/2016</td>\n      <td>18/10/2016</td>\n      <td>Standard Class</td>\n      <td>SO-20335</td>\n      <td>Sean O Donnel</td>\n      <td>Consumer</td>\n      <td>United States</td>\n      <td>Fort Lauderdale</td>\n      <td>Florida</td>\n      <td>33311.0</td>\n      <td>South</td>\n      <td>OFF-ST-10000760</td>\n      <td>Office Supplies</td>\n      <td>Storage</td>\n      <td>Eldon Fold N Roll Cart System</td>\n      <td>22.3680</td>\n    </tr>\n    <tr>\n      <th>...</th>\n      <td>...</td>\n      <td>...</td>\n      <td>...</td>\n      <td>...</td>\n      <td>...</td>\n      <td>...</td>\n      <td>...</td>\n      <td>...</td>\n      <td>...</td>\n      <td>...</td>\n      <td>...</td>\n      <td>...</td>\n      <td>...</td>\n      <td>...</td>\n      <td>...</td>\n      <td>...</td>\n      <td>...</td>\n      <td>...</td>\n    </tr>\n    <tr>\n      <th>9794</th>\n      <td>9796</td>\n      <td>CA-2017-125920</td>\n      <td>21/05/2017</td>\n      <td>28/05/2017</td>\n      <td>Standard Class</td>\n      <td>SH-19975</td>\n      <td>Sally Hughsby</td>\n      <td>Corporate</td>\n      <td>United States</td>\n      <td>Chicago</td>\n      <td>Illinois</td>\n      <td>60610.0</td>\n      <td>Central</td>\n      <td>OFF-BI-10003429</td>\n      <td>Office Supplies</td>\n      <td>Binders</td>\n      <td>Cardinal HOLDit! Binder Insert Strips,Extra St...</td>\n      <td>3.7980</td>\n    </tr>\n    <tr>\n      <th>9795</th>\n      <td>9797</td>\n      <td>CA-2016-128608</td>\n      <td>12/01/2016</td>\n      <td>17/01/2016</td>\n      <td>Standard Class</td>\n      <td>CS-12490</td>\n      <td>Cindy Schnelling</td>\n      <td>Corporate</td>\n      <td>United States</td>\n      <td>Toledo</td>\n      <td>Ohio</td>\n      <td>43615.0</td>\n      <td>East</td>\n      <td>OFF-AR-10001374</td>\n      <td>Office Supplies</td>\n      <td>Art</td>\n      <td>BIC Brite Liner Highlighters, Chisel Tip</td>\n      <td>10.3680</td>\n    </tr>\n    <tr>\n      <th>9796</th>\n      <td>9798</td>\n      <td>CA-2016-128608</td>\n      <td>12/01/2016</td>\n      <td>17/01/2016</td>\n      <td>Standard Class</td>\n      <td>CS-12490</td>\n      <td>Cindy Schnelling</td>\n      <td>Corporate</td>\n      <td>United States</td>\n      <td>Toledo</td>\n      <td>Ohio</td>\n      <td>43615.0</td>\n      <td>East</td>\n      <td>TEC-PH-10004977</td>\n      <td>Technology</td>\n      <td>Phones</td>\n      <td>GE 30524EE4</td>\n      <td>235.1880</td>\n    </tr>\n    <tr>\n      <th>9797</th>\n      <td>9799</td>\n      <td>CA-2016-128608</td>\n      <td>12/01/2016</td>\n      <td>17/01/2016</td>\n      <td>Standard Class</td>\n      <td>CS-12490</td>\n      <td>Cindy Schnelling</td>\n      <td>Corporate</td>\n      <td>United States</td>\n      <td>Toledo</td>\n      <td>Ohio</td>\n      <td>43615.0</td>\n      <td>East</td>\n      <td>TEC-PH-10000912</td>\n      <td>Technology</td>\n      <td>Phones</td>\n      <td>Anker 24W Portable Micro USB Car Charger</td>\n      <td>26.3760</td>\n    </tr>\n    <tr>\n      <th>9798</th>\n      <td>9800</td>\n      <td>CA-2016-128608</td>\n      <td>12/01/2016</td>\n      <td>17/01/2016</td>\n      <td>Standard Class</td>\n      <td>CS-12490</td>\n      <td>Cindy Schnelling</td>\n      <td>Corporate</td>\n      <td>United States</td>\n      <td>Toledo</td>\n      <td>Ohio</td>\n      <td>43615.0</td>\n      <td>East</td>\n      <td>TEC-AC-10000487</td>\n      <td>Technology</td>\n      <td>Accessories</td>\n      <td>SanDisk Cruzer 4 GB USB Flash Drive</td>\n      <td>10.3840</td>\n    </tr>\n  </tbody>\n</table>\n<p>9788 rows × 18 columns</p>\n</div>"
     },
     "execution_count": 142,
     "metadata": {},
     "output_type": "execute_result"
    }
   ],
   "source": [
    "df_2 = df_1.dropna()\n",
    "df_2"
   ],
   "metadata": {
    "collapsed": false,
    "ExecuteTime": {
     "end_time": "2023-07-08T16:54:39.981928Z",
     "start_time": "2023-07-08T16:54:39.974881Z"
    }
   }
  },
  {
   "cell_type": "code",
   "execution_count": 143,
   "outputs": [],
   "source": [
    "df_3 = df_2.copy()\n",
    "df_3[\"Order_Date\"] = pd.to_datetime(df_3[\"Order_Date\"],format=\"%d/%m/%Y\")\n",
    "df_3[\"Ship_Date\"] = pd.to_datetime(df_3[\"Ship_Date\"],format=\"%d/%m/%Y\")"
   ],
   "metadata": {
    "collapsed": false,
    "ExecuteTime": {
     "end_time": "2023-07-08T16:54:40.502152Z",
     "start_time": "2023-07-08T16:54:40.493610Z"
    }
   }
  },
  {
   "cell_type": "code",
   "execution_count": 144,
   "outputs": [
    {
     "data": {
      "text/plain": "      Row_ID        Order_ID Order_Date  Ship_Date       Ship_Mode   \n0          1  CA-2017-152156 2017-11-08 2017-11-11    Second Class  \\\n1          2  CA-2017-152156 2017-11-08 2017-11-11    Second Class   \n2          3  CA-2017-138688 2017-06-12 2017-06-16    Second Class   \n3          4  US-2016-108966 2016-10-11 2016-10-18  Standard Class   \n4          5  US-2016-108966 2016-10-11 2016-10-18  Standard Class   \n...      ...             ...        ...        ...             ...   \n9794    9796  CA-2017-125920 2017-05-21 2017-05-28  Standard Class   \n9795    9797  CA-2016-128608 2016-01-12 2016-01-17  Standard Class   \n9796    9798  CA-2016-128608 2016-01-12 2016-01-17  Standard Class   \n9797    9799  CA-2016-128608 2016-01-12 2016-01-17  Standard Class   \n9798    9800  CA-2016-128608 2016-01-12 2016-01-17  Standard Class   \n\n     Customer_ID     Customer_Name    Segment        Country             City   \n0       CG-12520       Claire Gute   Consumer  United States        Henderson  \\\n1       CG-12520       Claire Gute   Consumer  United States        Henderson   \n2       DV-13045   Darrin Van Huff  Corporate  United States      Los Angeles   \n3       SO-20335     Sean O Donnel   Consumer  United States  Fort Lauderdale   \n4       SO-20335     Sean O Donnel   Consumer  United States  Fort Lauderdale   \n...          ...               ...        ...            ...              ...   \n9794    SH-19975     Sally Hughsby  Corporate  United States          Chicago   \n9795    CS-12490  Cindy Schnelling  Corporate  United States           Toledo   \n9796    CS-12490  Cindy Schnelling  Corporate  United States           Toledo   \n9797    CS-12490  Cindy Schnelling  Corporate  United States           Toledo   \n9798    CS-12490  Cindy Schnelling  Corporate  United States           Toledo   \n\n           State  Postal_Code   Region       Product_ID         Category   \n0       Kentucky      42420.0    South  FUR-BO-10001798        Furniture  \\\n1       Kentucky      42420.0    South  FUR-CH-10000454        Furniture   \n2     California      90036.0     West  OFF-LA-10000240  Office Supplies   \n3        Florida      33311.0    South  FUR-TA-10000577        Furniture   \n4        Florida      33311.0    South  OFF-ST-10000760  Office Supplies   \n...          ...          ...      ...              ...              ...   \n9794    Illinois      60610.0  Central  OFF-BI-10003429  Office Supplies   \n9795        Ohio      43615.0     East  OFF-AR-10001374  Office Supplies   \n9796        Ohio      43615.0     East  TEC-PH-10004977       Technology   \n9797        Ohio      43615.0     East  TEC-PH-10000912       Technology   \n9798        Ohio      43615.0     East  TEC-AC-10000487       Technology   \n\n     Sub_Category                                       Product_Name     Sales  \n0       Bookcases                  Bush Somerset Collection Bookcase  261.9600  \n1          Chairs  Hon Deluxe Fabric Upholstered Stacking Chairs,...  731.9400  \n2          Labels  Self-Adhesive Address Labels for Typewriters b...   14.6200  \n3          Tables      Bretford CR4500 Series Slim Rectangular Table  957.5775  \n4         Storage                      Eldon Fold N Roll Cart System   22.3680  \n...           ...                                                ...       ...  \n9794      Binders  Cardinal HOLDit! Binder Insert Strips,Extra St...    3.7980  \n9795          Art           BIC Brite Liner Highlighters, Chisel Tip   10.3680  \n9796       Phones                                        GE 30524EE4  235.1880  \n9797       Phones           Anker 24W Portable Micro USB Car Charger   26.3760  \n9798  Accessories                SanDisk Cruzer 4 GB USB Flash Drive   10.3840  \n\n[9788 rows x 18 columns]",
      "text/html": "<div>\n<style scoped>\n    .dataframe tbody tr th:only-of-type {\n        vertical-align: middle;\n    }\n\n    .dataframe tbody tr th {\n        vertical-align: top;\n    }\n\n    .dataframe thead th {\n        text-align: right;\n    }\n</style>\n<table border=\"1\" class=\"dataframe\">\n  <thead>\n    <tr style=\"text-align: right;\">\n      <th></th>\n      <th>Row_ID</th>\n      <th>Order_ID</th>\n      <th>Order_Date</th>\n      <th>Ship_Date</th>\n      <th>Ship_Mode</th>\n      <th>Customer_ID</th>\n      <th>Customer_Name</th>\n      <th>Segment</th>\n      <th>Country</th>\n      <th>City</th>\n      <th>State</th>\n      <th>Postal_Code</th>\n      <th>Region</th>\n      <th>Product_ID</th>\n      <th>Category</th>\n      <th>Sub_Category</th>\n      <th>Product_Name</th>\n      <th>Sales</th>\n    </tr>\n  </thead>\n  <tbody>\n    <tr>\n      <th>0</th>\n      <td>1</td>\n      <td>CA-2017-152156</td>\n      <td>2017-11-08</td>\n      <td>2017-11-11</td>\n      <td>Second Class</td>\n      <td>CG-12520</td>\n      <td>Claire Gute</td>\n      <td>Consumer</td>\n      <td>United States</td>\n      <td>Henderson</td>\n      <td>Kentucky</td>\n      <td>42420.0</td>\n      <td>South</td>\n      <td>FUR-BO-10001798</td>\n      <td>Furniture</td>\n      <td>Bookcases</td>\n      <td>Bush Somerset Collection Bookcase</td>\n      <td>261.9600</td>\n    </tr>\n    <tr>\n      <th>1</th>\n      <td>2</td>\n      <td>CA-2017-152156</td>\n      <td>2017-11-08</td>\n      <td>2017-11-11</td>\n      <td>Second Class</td>\n      <td>CG-12520</td>\n      <td>Claire Gute</td>\n      <td>Consumer</td>\n      <td>United States</td>\n      <td>Henderson</td>\n      <td>Kentucky</td>\n      <td>42420.0</td>\n      <td>South</td>\n      <td>FUR-CH-10000454</td>\n      <td>Furniture</td>\n      <td>Chairs</td>\n      <td>Hon Deluxe Fabric Upholstered Stacking Chairs,...</td>\n      <td>731.9400</td>\n    </tr>\n    <tr>\n      <th>2</th>\n      <td>3</td>\n      <td>CA-2017-138688</td>\n      <td>2017-06-12</td>\n      <td>2017-06-16</td>\n      <td>Second Class</td>\n      <td>DV-13045</td>\n      <td>Darrin Van Huff</td>\n      <td>Corporate</td>\n      <td>United States</td>\n      <td>Los Angeles</td>\n      <td>California</td>\n      <td>90036.0</td>\n      <td>West</td>\n      <td>OFF-LA-10000240</td>\n      <td>Office Supplies</td>\n      <td>Labels</td>\n      <td>Self-Adhesive Address Labels for Typewriters b...</td>\n      <td>14.6200</td>\n    </tr>\n    <tr>\n      <th>3</th>\n      <td>4</td>\n      <td>US-2016-108966</td>\n      <td>2016-10-11</td>\n      <td>2016-10-18</td>\n      <td>Standard Class</td>\n      <td>SO-20335</td>\n      <td>Sean O Donnel</td>\n      <td>Consumer</td>\n      <td>United States</td>\n      <td>Fort Lauderdale</td>\n      <td>Florida</td>\n      <td>33311.0</td>\n      <td>South</td>\n      <td>FUR-TA-10000577</td>\n      <td>Furniture</td>\n      <td>Tables</td>\n      <td>Bretford CR4500 Series Slim Rectangular Table</td>\n      <td>957.5775</td>\n    </tr>\n    <tr>\n      <th>4</th>\n      <td>5</td>\n      <td>US-2016-108966</td>\n      <td>2016-10-11</td>\n      <td>2016-10-18</td>\n      <td>Standard Class</td>\n      <td>SO-20335</td>\n      <td>Sean O Donnel</td>\n      <td>Consumer</td>\n      <td>United States</td>\n      <td>Fort Lauderdale</td>\n      <td>Florida</td>\n      <td>33311.0</td>\n      <td>South</td>\n      <td>OFF-ST-10000760</td>\n      <td>Office Supplies</td>\n      <td>Storage</td>\n      <td>Eldon Fold N Roll Cart System</td>\n      <td>22.3680</td>\n    </tr>\n    <tr>\n      <th>...</th>\n      <td>...</td>\n      <td>...</td>\n      <td>...</td>\n      <td>...</td>\n      <td>...</td>\n      <td>...</td>\n      <td>...</td>\n      <td>...</td>\n      <td>...</td>\n      <td>...</td>\n      <td>...</td>\n      <td>...</td>\n      <td>...</td>\n      <td>...</td>\n      <td>...</td>\n      <td>...</td>\n      <td>...</td>\n      <td>...</td>\n    </tr>\n    <tr>\n      <th>9794</th>\n      <td>9796</td>\n      <td>CA-2017-125920</td>\n      <td>2017-05-21</td>\n      <td>2017-05-28</td>\n      <td>Standard Class</td>\n      <td>SH-19975</td>\n      <td>Sally Hughsby</td>\n      <td>Corporate</td>\n      <td>United States</td>\n      <td>Chicago</td>\n      <td>Illinois</td>\n      <td>60610.0</td>\n      <td>Central</td>\n      <td>OFF-BI-10003429</td>\n      <td>Office Supplies</td>\n      <td>Binders</td>\n      <td>Cardinal HOLDit! Binder Insert Strips,Extra St...</td>\n      <td>3.7980</td>\n    </tr>\n    <tr>\n      <th>9795</th>\n      <td>9797</td>\n      <td>CA-2016-128608</td>\n      <td>2016-01-12</td>\n      <td>2016-01-17</td>\n      <td>Standard Class</td>\n      <td>CS-12490</td>\n      <td>Cindy Schnelling</td>\n      <td>Corporate</td>\n      <td>United States</td>\n      <td>Toledo</td>\n      <td>Ohio</td>\n      <td>43615.0</td>\n      <td>East</td>\n      <td>OFF-AR-10001374</td>\n      <td>Office Supplies</td>\n      <td>Art</td>\n      <td>BIC Brite Liner Highlighters, Chisel Tip</td>\n      <td>10.3680</td>\n    </tr>\n    <tr>\n      <th>9796</th>\n      <td>9798</td>\n      <td>CA-2016-128608</td>\n      <td>2016-01-12</td>\n      <td>2016-01-17</td>\n      <td>Standard Class</td>\n      <td>CS-12490</td>\n      <td>Cindy Schnelling</td>\n      <td>Corporate</td>\n      <td>United States</td>\n      <td>Toledo</td>\n      <td>Ohio</td>\n      <td>43615.0</td>\n      <td>East</td>\n      <td>TEC-PH-10004977</td>\n      <td>Technology</td>\n      <td>Phones</td>\n      <td>GE 30524EE4</td>\n      <td>235.1880</td>\n    </tr>\n    <tr>\n      <th>9797</th>\n      <td>9799</td>\n      <td>CA-2016-128608</td>\n      <td>2016-01-12</td>\n      <td>2016-01-17</td>\n      <td>Standard Class</td>\n      <td>CS-12490</td>\n      <td>Cindy Schnelling</td>\n      <td>Corporate</td>\n      <td>United States</td>\n      <td>Toledo</td>\n      <td>Ohio</td>\n      <td>43615.0</td>\n      <td>East</td>\n      <td>TEC-PH-10000912</td>\n      <td>Technology</td>\n      <td>Phones</td>\n      <td>Anker 24W Portable Micro USB Car Charger</td>\n      <td>26.3760</td>\n    </tr>\n    <tr>\n      <th>9798</th>\n      <td>9800</td>\n      <td>CA-2016-128608</td>\n      <td>2016-01-12</td>\n      <td>2016-01-17</td>\n      <td>Standard Class</td>\n      <td>CS-12490</td>\n      <td>Cindy Schnelling</td>\n      <td>Corporate</td>\n      <td>United States</td>\n      <td>Toledo</td>\n      <td>Ohio</td>\n      <td>43615.0</td>\n      <td>East</td>\n      <td>TEC-AC-10000487</td>\n      <td>Technology</td>\n      <td>Accessories</td>\n      <td>SanDisk Cruzer 4 GB USB Flash Drive</td>\n      <td>10.3840</td>\n    </tr>\n  </tbody>\n</table>\n<p>9788 rows × 18 columns</p>\n</div>"
     },
     "execution_count": 144,
     "metadata": {},
     "output_type": "execute_result"
    }
   ],
   "source": [
    "df_3"
   ],
   "metadata": {
    "collapsed": false,
    "ExecuteTime": {
     "end_time": "2023-07-08T16:54:40.973559Z",
     "start_time": "2023-07-08T16:54:40.970789Z"
    }
   }
  },
  {
   "cell_type": "code",
   "execution_count": 145,
   "outputs": [],
   "source": [
    "df_4 = df_3.copy()\n",
    "df_4 = df_4[df_4[\"Ship_Date\"] >= df_4[\"Order_Date\"]]\n",
    "df_4[\"Sales\"] = df_4[\"Sales\"].round(2)"
   ],
   "metadata": {
    "collapsed": false,
    "ExecuteTime": {
     "end_time": "2023-07-08T16:54:41.458226Z",
     "start_time": "2023-07-08T16:54:41.453163Z"
    }
   }
  },
  {
   "cell_type": "code",
   "execution_count": 146,
   "outputs": [],
   "source": [
    "df_4.to_csv(\"superstore.csv\",index=False,encoding=\"UTF-8\")"
   ],
   "metadata": {
    "collapsed": false,
    "ExecuteTime": {
     "end_time": "2023-07-08T16:54:42.158817Z",
     "start_time": "2023-07-08T16:54:42.103928Z"
    }
   }
  },
  {
   "cell_type": "code",
   "execution_count": null,
   "outputs": [],
   "source": [],
   "metadata": {
    "collapsed": false
   }
  }
 ],
 "metadata": {
  "kernelspec": {
   "display_name": "Python 3",
   "language": "python",
   "name": "python3"
  },
  "language_info": {
   "codemirror_mode": {
    "name": "ipython",
    "version": 2
   },
   "file_extension": ".py",
   "mimetype": "text/x-python",
   "name": "python",
   "nbconvert_exporter": "python",
   "pygments_lexer": "ipython2",
   "version": "2.7.6"
  }
 },
 "nbformat": 4,
 "nbformat_minor": 0
}
