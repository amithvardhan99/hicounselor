{
 "cells": [
  {
   "cell_type": "code",
   "execution_count": 15,
   "outputs": [],
   "source": [
    "import numpy as np\n",
    "import pandas as pd\n",
    "from sklearn.metrics import accuracy_score\n",
    "from sklearn.model_selection import train_test_split"
   ],
   "metadata": {
    "collapsed": false,
    "ExecuteTime": {
     "end_time": "2023-10-24T16:13:53.468064Z",
     "start_time": "2023-10-24T16:13:53.466264Z"
    }
   },
   "id": "e718dcddf6710e0d"
  },
  {
   "cell_type": "code",
   "execution_count": 16,
   "outputs": [],
   "source": [
    "np.set_printoptions(suppress=True)\n",
    "import warnings\n",
    "warnings.filterwarnings('ignore')\n",
    "\n",
    "def read_train_data():\n",
    "    train = pd.read_csv(\"train.csv\")\n",
    "    return train\n",
    "\n",
    "def read_test_data():\n",
    "    test = pd.read_csv(\"test.csv\")\n",
    "    return test\n",
    "\n",
    "def check_null_values_train():\n",
    "    train = read_train_data()\n",
    "    return train.isnull().sum()\n",
    "\n",
    "\n",
    "def check_null_values_test():\n",
    "    test = read_test_data()\n",
    "    return test.isnull().sum()\n",
    "\n",
    "\n",
    "\n",
    "def filling_values_train():\n",
    "    train = read_train_data()\n",
    "    train[\"Bed Grade\"] = train[\"Bed Grade\"].fillna(int(train[\"Bed Grade\"].mode()))\n",
    "    train[\"City_Code_Patient\"] = train[\"City_Code_Patient\"].fillna(int(train[\"City_Code_Patient\"].mode()))\n",
    "    return train\n",
    "\n",
    "\n",
    "def filling_values_test():\n",
    "    test = read_test_data()\n",
    "    test[\"Bed Grade\"] = test[\"Bed Grade\"].fillna(int(test[\"Bed Grade\"].mode()))\n",
    "    test[\"City_Code_Patient\"] = test[\"City_Code_Patient\"].fillna(int(test[\"City_Code_Patient\"].mode()))\n",
    "    return test"
   ],
   "metadata": {
    "collapsed": false,
    "ExecuteTime": {
     "end_time": "2023-10-24T16:13:53.715955Z",
     "start_time": "2023-10-24T16:13:53.711800Z"
    }
   },
   "id": "942ac663808b1fb1"
  },
  {
   "cell_type": "code",
   "execution_count": 17,
   "outputs": [],
   "source": [
    "np.random.seed(42)\n",
    "pd.set_option('mode.chained_assignment', None)\n",
    "from sklearn.preprocessing import LabelEncoder\n",
    "le = LabelEncoder()\n",
    "\n",
    "def label_encoding():\n",
    "    train = filling_values_train()\n",
    "    lee = le.fit(train[\"Stay\"])\n",
    "    train[\"Stay\"] = lee.transform(train[\"Stay\"])\n",
    "    return train\n",
    "\n",
    "def dummy_column():\n",
    "    test = filling_values_test()\n",
    "    test[\"Stay\"] = -1\n",
    "    return test\n",
    "\n",
    "\n",
    "\n",
    "def concat():\n",
    "    train = label_encoding()\n",
    "    test = dummy_column()\n",
    "    df = pd.DataFrame(columns=train.columns)\n",
    "    df = pd.concat(train,test,ignore_index=True,axis=0)\n",
    "    return df\n",
    "\n",
    "def label_encoding_df():\n",
    "    df = concat()\n",
    "    for i in df[['Hospital_type_code', 'Hospital_region_code', 'Department', 'Ward_Type', 'Ward_Facility_Code', 'Type of Admission', 'Severity of Illness', 'Age']]:\n",
    "        mod = le.fit(df[i])\n",
    "        df[i] = mod.transform(df[i])\n",
    "\n",
    "    return df"
   ],
   "metadata": {
    "collapsed": false,
    "ExecuteTime": {
     "end_time": "2023-10-24T16:13:53.965389Z",
     "start_time": "2023-10-24T16:13:53.962815Z"
    }
   },
   "id": "7292f1e4f6f34fa5"
  },
  {
   "cell_type": "code",
   "execution_count": 18,
   "outputs": [],
   "source": [
    "def separating_train():\n",
    "    df = label_encoding_df()\n",
    "    train = df[df[\"Stay\"]!=-1]\n",
    "    return train\n",
    "\n",
    "def separating_test():\n",
    "    df = label_encoding_df()\n",
    "    test = df[df[\"Stay\"]==-1]\n",
    "    return test\n",
    "\n",
    "def drop_duplicates_test():\n",
    "    test2 = test.copy()\n",
    "    test1 = test2.drop(['Stay', 'patientid', 'Hospital_region_code', 'Ward_Facility_Code'],axis=1,inplace=False)\n",
    "    return test1\n",
    "\n",
    "def drop_duplicates_train():\n",
    "    train2 = train.copy()\n",
    "    train1 = train2.drop(['case_id', 'patientid', 'Hospital_region_code', 'Ward_Facility_Code'],axis=1,inplace=False)\n",
    "    return train1"
   ],
   "metadata": {
    "collapsed": false,
    "ExecuteTime": {
     "end_time": "2023-10-24T16:13:54.187692Z",
     "start_time": "2023-10-24T16:13:54.184884Z"
    }
   },
   "id": "c83cafbc7de7e335"
  },
  {
   "cell_type": "code",
   "execution_count": 19,
   "outputs": [
    {
     "ename": "TypeError",
     "evalue": "concat() takes 1 positional argument but 2 positional arguments (and 2 keyword-only arguments) were given",
     "output_type": "error",
     "traceback": [
      "\u001B[0;31m---------------------------------------------------------------------------\u001B[0m",
      "\u001B[0;31mTypeError\u001B[0m                                 Traceback (most recent call last)",
      "Cell \u001B[0;32mIn[19], line 12\u001B[0m\n\u001B[1;32m      9\u001B[0m     test[name]\u001B[38;5;241m.\u001B[39mfillna(np\u001B[38;5;241m.\u001B[39mmedian(temp2[name]), inplace \u001B[38;5;241m=\u001B[39m \u001B[38;5;28;01mTrue\u001B[39;00m)\n\u001B[1;32m     10\u001B[0m     \u001B[38;5;28;01mreturn\u001B[39;00m train, test\n\u001B[0;32m---> 12\u001B[0m train \u001B[38;5;241m=\u001B[39m \u001B[43mseparating_train\u001B[49m\u001B[43m(\u001B[49m\u001B[43m)\u001B[49m\n\u001B[1;32m     13\u001B[0m test \u001B[38;5;241m=\u001B[39m separating_test()\n\u001B[1;32m     14\u001B[0m train, test \u001B[38;5;241m=\u001B[39m get_countid_enocde(train, test, [\u001B[38;5;124m'\u001B[39m\u001B[38;5;124mpatientid\u001B[39m\u001B[38;5;124m'\u001B[39m], name \u001B[38;5;241m=\u001B[39m \u001B[38;5;124m'\u001B[39m\u001B[38;5;124mcount_id_patient\u001B[39m\u001B[38;5;124m'\u001B[39m)\n",
      "Cell \u001B[0;32mIn[18], line 2\u001B[0m, in \u001B[0;36mseparating_train\u001B[0;34m()\u001B[0m\n\u001B[1;32m      1\u001B[0m \u001B[38;5;28;01mdef\u001B[39;00m \u001B[38;5;21mseparating_train\u001B[39m():\n\u001B[0;32m----> 2\u001B[0m     df \u001B[38;5;241m=\u001B[39m \u001B[43mlabel_encoding_df\u001B[49m\u001B[43m(\u001B[49m\u001B[43m)\u001B[49m\n\u001B[1;32m      3\u001B[0m     train \u001B[38;5;241m=\u001B[39m df[df[\u001B[38;5;124m\"\u001B[39m\u001B[38;5;124mStay\u001B[39m\u001B[38;5;124m\"\u001B[39m]\u001B[38;5;241m!=\u001B[39m\u001B[38;5;241m-\u001B[39m\u001B[38;5;241m1\u001B[39m]\n\u001B[1;32m      4\u001B[0m     \u001B[38;5;28;01mreturn\u001B[39;00m train\n",
      "Cell \u001B[0;32mIn[17], line 27\u001B[0m, in \u001B[0;36mlabel_encoding_df\u001B[0;34m()\u001B[0m\n\u001B[1;32m     26\u001B[0m \u001B[38;5;28;01mdef\u001B[39;00m \u001B[38;5;21mlabel_encoding_df\u001B[39m():\n\u001B[0;32m---> 27\u001B[0m     df \u001B[38;5;241m=\u001B[39m \u001B[43mconcat\u001B[49m\u001B[43m(\u001B[49m\u001B[43m)\u001B[49m\n\u001B[1;32m     28\u001B[0m     \u001B[38;5;28;01mfor\u001B[39;00m i \u001B[38;5;129;01min\u001B[39;00m df[[\u001B[38;5;124m'\u001B[39m\u001B[38;5;124mHospital_type_code\u001B[39m\u001B[38;5;124m'\u001B[39m, \u001B[38;5;124m'\u001B[39m\u001B[38;5;124mHospital_region_code\u001B[39m\u001B[38;5;124m'\u001B[39m, \u001B[38;5;124m'\u001B[39m\u001B[38;5;124mDepartment\u001B[39m\u001B[38;5;124m'\u001B[39m, \u001B[38;5;124m'\u001B[39m\u001B[38;5;124mWard_Type\u001B[39m\u001B[38;5;124m'\u001B[39m, \u001B[38;5;124m'\u001B[39m\u001B[38;5;124mWard_Facility_Code\u001B[39m\u001B[38;5;124m'\u001B[39m, \u001B[38;5;124m'\u001B[39m\u001B[38;5;124mType of Admission\u001B[39m\u001B[38;5;124m'\u001B[39m, \u001B[38;5;124m'\u001B[39m\u001B[38;5;124mSeverity of Illness\u001B[39m\u001B[38;5;124m'\u001B[39m, \u001B[38;5;124m'\u001B[39m\u001B[38;5;124mAge\u001B[39m\u001B[38;5;124m'\u001B[39m]]:\n\u001B[1;32m     29\u001B[0m         mod \u001B[38;5;241m=\u001B[39m le\u001B[38;5;241m.\u001B[39mfit(df[i])\n",
      "Cell \u001B[0;32mIn[17], line 23\u001B[0m, in \u001B[0;36mconcat\u001B[0;34m()\u001B[0m\n\u001B[1;32m     21\u001B[0m test \u001B[38;5;241m=\u001B[39m dummy_column()\n\u001B[1;32m     22\u001B[0m df \u001B[38;5;241m=\u001B[39m pd\u001B[38;5;241m.\u001B[39mDataFrame(columns\u001B[38;5;241m=\u001B[39mtrain\u001B[38;5;241m.\u001B[39mcolumns)\n\u001B[0;32m---> 23\u001B[0m df \u001B[38;5;241m=\u001B[39m \u001B[43mpd\u001B[49m\u001B[38;5;241;43m.\u001B[39;49m\u001B[43mconcat\u001B[49m\u001B[43m(\u001B[49m\u001B[43mtrain\u001B[49m\u001B[43m,\u001B[49m\u001B[43mtest\u001B[49m\u001B[43m,\u001B[49m\u001B[43mignore_index\u001B[49m\u001B[38;5;241;43m=\u001B[39;49m\u001B[38;5;28;43;01mTrue\u001B[39;49;00m\u001B[43m,\u001B[49m\u001B[43maxis\u001B[49m\u001B[38;5;241;43m=\u001B[39;49m\u001B[38;5;241;43m0\u001B[39;49m\u001B[43m)\u001B[49m\n\u001B[1;32m     24\u001B[0m \u001B[38;5;28;01mreturn\u001B[39;00m df\n",
      "\u001B[0;31mTypeError\u001B[0m: concat() takes 1 positional argument but 2 positional arguments (and 2 keyword-only arguments) were given"
     ]
    }
   ],
   "source": [
    "def get_countid_enocde(train, test, cols, name):\n",
    "    temp = train.groupby(cols)['case_id'].count().reset_index().rename(columns = {'case_id': name})\n",
    "    temp2 = test.groupby(cols)['case_id'].count().reset_index().rename(columns = {'case_id': name})\n",
    "    train = pd.merge(train, temp, how='left', on= cols)\n",
    "    test = pd.merge(test,temp2, how='left', on= cols)\n",
    "    train[name] = train[name].astype('float')\n",
    "    test[name] = test[name].astype('float')\n",
    "    train[name].fillna(np.median(temp[name]), inplace = True)\n",
    "    test[name].fillna(np.median(temp2[name]), inplace = True)\n",
    "    return train, test\n",
    "\n",
    "train = separating_train()\n",
    "test = separating_test()\n",
    "train, test = get_countid_enocde(train, test, ['patientid'], name = 'count_id_patient')\n",
    "train, test = get_countid_enocde(train, test,\n",
    "                                 ['patientid', 'Hospital_region_code'], name = 'count_id_patient_hospitalCode')\n",
    "train, test = get_countid_enocde(train, test,\n",
    "                                 ['patientid', 'Ward_Facility_Code'], name = 'count_id_patient_wardfacilityCode')"
   ],
   "metadata": {
    "collapsed": false,
    "ExecuteTime": {
     "end_time": "2023-10-24T16:13:54.520039Z",
     "start_time": "2023-10-24T16:13:54.480017Z"
    }
   },
   "id": "8e00412ca87fa601"
  },
  {
   "cell_type": "code",
   "execution_count": 20,
   "outputs": [
    {
     "ename": "NameError",
     "evalue": "name 't3' is not defined",
     "output_type": "error",
     "traceback": [
      "\u001B[0;31m---------------------------------------------------------------------------\u001B[0m",
      "\u001B[0;31mNameError\u001B[0m                                 Traceback (most recent call last)",
      "Cell \u001B[0;32mIn[20], line 1\u001B[0m\n\u001B[0;32m----> 1\u001B[0m train1 \u001B[38;5;241m=\u001B[39m \u001B[43mt3\u001B[49m\u001B[38;5;241m.\u001B[39mdrop_duplicates_train()\n",
      "\u001B[0;31mNameError\u001B[0m: name 't3' is not defined"
     ]
    }
   ],
   "source": [
    "train1 = drop_duplicates_train()"
   ],
   "metadata": {
    "collapsed": false,
    "ExecuteTime": {
     "end_time": "2023-10-24T16:13:54.981074Z",
     "start_time": "2023-10-24T16:13:54.974728Z"
    }
   },
   "id": "57ee6147eb9e6b5d"
  },
  {
   "cell_type": "code",
   "execution_count": 3,
   "outputs": [
    {
     "data": {
      "text/plain": "      Hospital_code  Hospital_type_code  City_Code_Hospital  \\\n0                 8                   2                   3   \n1                 2                   2                   5   \n2                10                   4                   1   \n3                26                   1                   2   \n4                26                   1                   2   \n...             ...                 ...                 ...   \n4995             19                   0                   7   \n4996             26                   1                   2   \n4997             32                   5                   9   \n4998             26                   1                   2   \n4999              9                   3                   5   \n\n      Available Extra Rooms in Hospital  Department  Ward_Type  Bed Grade  \\\n0                                     3           3          2        2.0   \n1                                     2           3          3        2.0   \n2                                     2           1          3        2.0   \n3                                     2           3          2        2.0   \n4                                     2           3          3        2.0   \n...                                 ...         ...        ...        ...   \n4995                                  2           2          3        2.0   \n4996                                  2           2          1        4.0   \n4997                                  3           2          3        2.0   \n4998                                  3           2          2        2.0   \n4999                                  4           1          2        4.0   \n\n      City_Code_Patient  Type of Admission  Severity of Illness  \\\n0                   7.0                  0                    0   \n1                   7.0                  1                    0   \n2                   7.0                  1                    0   \n3                   7.0                  1                    0   \n4                   7.0                  1                    0   \n...                 ...                ...                  ...   \n4995                8.0                  0                    1   \n4996                8.0                  1                    1   \n4997                5.0                  0                    2   \n4998                5.0                  1                    2   \n4999                5.0                  1                    2   \n\n      Visitors with Patient  Age  Admission_Deposit  Stay  count_id_patient  \\\n0                         2    5             4911.0     0              14.0   \n1                         2    5             5954.0     4              14.0   \n2                         2    5             4745.0     3              14.0   \n3                         2    5             7272.0     4              14.0   \n4                         2    5             5558.0     4              14.0   \n...                     ...  ...                ...   ...               ...   \n4995                      2    1             4894.0     0               3.0   \n4996                      2    1             6987.0     3               3.0   \n4997                      4    4             4196.0     5               3.0   \n4998                      3    4             4560.0     2               3.0   \n4999                      2    4             6315.0     1               3.0   \n\n      count_id_patient_hospitalCode  count_id_patient_wardfacilityCode  \n0                               4.0                                5.0  \n1                               4.0                                5.0  \n2                               4.0                                2.0  \n3                               6.0                                3.0  \n4                               6.0                                3.0  \n...                             ...                                ...  \n4995                            3.0                                2.0  \n4996                            3.0                                1.0  \n4997                            2.0                                1.0  \n4998                            2.0                                1.0  \n4999                            1.0                                1.0  \n\n[5000 rows x 17 columns]",
      "text/html": "<div>\n<style scoped>\n    .dataframe tbody tr th:only-of-type {\n        vertical-align: middle;\n    }\n\n    .dataframe tbody tr th {\n        vertical-align: top;\n    }\n\n    .dataframe thead th {\n        text-align: right;\n    }\n</style>\n<table border=\"1\" class=\"dataframe\">\n  <thead>\n    <tr style=\"text-align: right;\">\n      <th></th>\n      <th>Hospital_code</th>\n      <th>Hospital_type_code</th>\n      <th>City_Code_Hospital</th>\n      <th>Available Extra Rooms in Hospital</th>\n      <th>Department</th>\n      <th>Ward_Type</th>\n      <th>Bed Grade</th>\n      <th>City_Code_Patient</th>\n      <th>Type of Admission</th>\n      <th>Severity of Illness</th>\n      <th>Visitors with Patient</th>\n      <th>Age</th>\n      <th>Admission_Deposit</th>\n      <th>Stay</th>\n      <th>count_id_patient</th>\n      <th>count_id_patient_hospitalCode</th>\n      <th>count_id_patient_wardfacilityCode</th>\n    </tr>\n  </thead>\n  <tbody>\n    <tr>\n      <th>0</th>\n      <td>8</td>\n      <td>2</td>\n      <td>3</td>\n      <td>3</td>\n      <td>3</td>\n      <td>2</td>\n      <td>2.0</td>\n      <td>7.0</td>\n      <td>0</td>\n      <td>0</td>\n      <td>2</td>\n      <td>5</td>\n      <td>4911.0</td>\n      <td>0</td>\n      <td>14.0</td>\n      <td>4.0</td>\n      <td>5.0</td>\n    </tr>\n    <tr>\n      <th>1</th>\n      <td>2</td>\n      <td>2</td>\n      <td>5</td>\n      <td>2</td>\n      <td>3</td>\n      <td>3</td>\n      <td>2.0</td>\n      <td>7.0</td>\n      <td>1</td>\n      <td>0</td>\n      <td>2</td>\n      <td>5</td>\n      <td>5954.0</td>\n      <td>4</td>\n      <td>14.0</td>\n      <td>4.0</td>\n      <td>5.0</td>\n    </tr>\n    <tr>\n      <th>2</th>\n      <td>10</td>\n      <td>4</td>\n      <td>1</td>\n      <td>2</td>\n      <td>1</td>\n      <td>3</td>\n      <td>2.0</td>\n      <td>7.0</td>\n      <td>1</td>\n      <td>0</td>\n      <td>2</td>\n      <td>5</td>\n      <td>4745.0</td>\n      <td>3</td>\n      <td>14.0</td>\n      <td>4.0</td>\n      <td>2.0</td>\n    </tr>\n    <tr>\n      <th>3</th>\n      <td>26</td>\n      <td>1</td>\n      <td>2</td>\n      <td>2</td>\n      <td>3</td>\n      <td>2</td>\n      <td>2.0</td>\n      <td>7.0</td>\n      <td>1</td>\n      <td>0</td>\n      <td>2</td>\n      <td>5</td>\n      <td>7272.0</td>\n      <td>4</td>\n      <td>14.0</td>\n      <td>6.0</td>\n      <td>3.0</td>\n    </tr>\n    <tr>\n      <th>4</th>\n      <td>26</td>\n      <td>1</td>\n      <td>2</td>\n      <td>2</td>\n      <td>3</td>\n      <td>3</td>\n      <td>2.0</td>\n      <td>7.0</td>\n      <td>1</td>\n      <td>0</td>\n      <td>2</td>\n      <td>5</td>\n      <td>5558.0</td>\n      <td>4</td>\n      <td>14.0</td>\n      <td>6.0</td>\n      <td>3.0</td>\n    </tr>\n    <tr>\n      <th>...</th>\n      <td>...</td>\n      <td>...</td>\n      <td>...</td>\n      <td>...</td>\n      <td>...</td>\n      <td>...</td>\n      <td>...</td>\n      <td>...</td>\n      <td>...</td>\n      <td>...</td>\n      <td>...</td>\n      <td>...</td>\n      <td>...</td>\n      <td>...</td>\n      <td>...</td>\n      <td>...</td>\n      <td>...</td>\n    </tr>\n    <tr>\n      <th>4995</th>\n      <td>19</td>\n      <td>0</td>\n      <td>7</td>\n      <td>2</td>\n      <td>2</td>\n      <td>3</td>\n      <td>2.0</td>\n      <td>8.0</td>\n      <td>0</td>\n      <td>1</td>\n      <td>2</td>\n      <td>1</td>\n      <td>4894.0</td>\n      <td>0</td>\n      <td>3.0</td>\n      <td>3.0</td>\n      <td>2.0</td>\n    </tr>\n    <tr>\n      <th>4996</th>\n      <td>26</td>\n      <td>1</td>\n      <td>2</td>\n      <td>2</td>\n      <td>2</td>\n      <td>1</td>\n      <td>4.0</td>\n      <td>8.0</td>\n      <td>1</td>\n      <td>1</td>\n      <td>2</td>\n      <td>1</td>\n      <td>6987.0</td>\n      <td>3</td>\n      <td>3.0</td>\n      <td>3.0</td>\n      <td>1.0</td>\n    </tr>\n    <tr>\n      <th>4997</th>\n      <td>32</td>\n      <td>5</td>\n      <td>9</td>\n      <td>3</td>\n      <td>2</td>\n      <td>3</td>\n      <td>2.0</td>\n      <td>5.0</td>\n      <td>0</td>\n      <td>2</td>\n      <td>4</td>\n      <td>4</td>\n      <td>4196.0</td>\n      <td>5</td>\n      <td>3.0</td>\n      <td>2.0</td>\n      <td>1.0</td>\n    </tr>\n    <tr>\n      <th>4998</th>\n      <td>26</td>\n      <td>1</td>\n      <td>2</td>\n      <td>3</td>\n      <td>2</td>\n      <td>2</td>\n      <td>2.0</td>\n      <td>5.0</td>\n      <td>1</td>\n      <td>2</td>\n      <td>3</td>\n      <td>4</td>\n      <td>4560.0</td>\n      <td>2</td>\n      <td>3.0</td>\n      <td>2.0</td>\n      <td>1.0</td>\n    </tr>\n    <tr>\n      <th>4999</th>\n      <td>9</td>\n      <td>3</td>\n      <td>5</td>\n      <td>4</td>\n      <td>1</td>\n      <td>2</td>\n      <td>4.0</td>\n      <td>5.0</td>\n      <td>1</td>\n      <td>2</td>\n      <td>2</td>\n      <td>4</td>\n      <td>6315.0</td>\n      <td>1</td>\n      <td>3.0</td>\n      <td>1.0</td>\n      <td>1.0</td>\n    </tr>\n  </tbody>\n</table>\n<p>5000 rows × 17 columns</p>\n</div>"
     },
     "execution_count": 3,
     "metadata": {},
     "output_type": "execute_result"
    }
   ],
   "source": [
    "train1"
   ],
   "metadata": {
    "collapsed": false,
    "ExecuteTime": {
     "end_time": "2023-08-15T00:58:10.796279Z",
     "start_time": "2023-08-15T00:58:10.786304Z"
    }
   },
   "id": "b375422925f17687"
  },
  {
   "cell_type": "code",
   "execution_count": 4,
   "outputs": [],
   "source": [
    "def splitting():\n",
    "    # do not edit the predefined function name\n",
    "    train1 = t3.drop_duplicates_train()\n",
    "\n",
    "    # Separate features (X) and target variable (y) from the 'train1' DataFrame\n",
    "    # For x select the data without stay column, for  y select only stay column\n",
    "\n",
    "\n",
    "    # Split the data into training and testing sets using train_test_split()\n",
    "\n",
    "    # splits the feature DataFrame and target variable Series into training and testing datasets.\n",
    "    # 80 % of the data is used for training and 20 % for testing, with a random seed of 100 for reproducibility.\n",
    "    X = train1.drop(\"Stay\",axis=1,inplace=False)\n",
    "    y = train1[\"Stay\"]\n",
    "    X_train, X_test, y_train, y_test = train_test_split(X,y,test_size=0.2,random_state=100)\n",
    "    #Return the training and testing data splits\n",
    "    return X_train, X_test, y_train, y_test"
   ],
   "metadata": {
    "collapsed": false,
    "ExecuteTime": {
     "end_time": "2023-08-15T00:58:11.304904Z",
     "start_time": "2023-08-15T00:58:11.299225Z"
    }
   },
   "id": "5e9bd4ee6ce4733b"
  },
  {
   "cell_type": "code",
   "execution_count": 11,
   "outputs": [],
   "source": [
    "def model():\n",
    "    # do not edit the predefined function name\n",
    "    X_train, X_test, y_train, y_test = splitting()\n",
    "    import xgboost\n",
    "    # Create the XGBoost classifier with specified hyperparameters\n",
    "    global classifier_xgb\n",
    "    classifier_xgb = xgboost.XGBClassifier(max_depth=4, learning_rate=0.1, n_estimators=800,\n",
    "                                           objective='multi:softmax', reg_alpha=0.5, reg_lambda=1.5,\n",
    "                                           booster='gbtree', n_jobs=4, min_child_weight=2, base_score=0.75)\n",
    "\n",
    "    # Fit the XGBoost classifier to the training data (x_train and y_train)\n",
    "    xgb = classifier_xgb.fit(X_train,y_train)\n",
    "\n",
    "    # Make predictions on the x_test data\n",
    "    y_pred = xgb.predict(X_test)\n",
    "\n",
    "    # Calculate the accuracy score on the test data\n",
    "    from sklearn.metrics import accuracy_score\n",
    "    acc_score_xgb = accuracy_score(y_test,y_pred).round(2)\n",
    "\n",
    "    # Return the accuracy score rounded to two decimal places\n",
    "    return acc_score_xgb"
   ],
   "metadata": {
    "collapsed": false,
    "ExecuteTime": {
     "end_time": "2023-08-15T01:06:28.577514Z",
     "start_time": "2023-08-15T01:06:28.569999Z"
    }
   },
   "id": "e461a54000f7eccc"
  },
  {
   "cell_type": "code",
   "execution_count": 26,
   "outputs": [],
   "source": [
    "def predict():\n",
    "    # do not edit the predefined function name\n",
    "    model()\n",
    "    test1 = t3.drop_duplicates_test()\n",
    "\n",
    "    # Make predictions on the test data using the trained XGBoost classifier\n",
    "    pred_xgb = classifier_xgb.predict(test1.iloc[:, 1:])\n",
    "\n",
    "    # Create a DataFrame to store the predicted 'Stay' values\n",
    "\n",
    "    # Add the 'case_id' column from the original test data to the result DataFrame\n",
    "\n",
    "    # Rearrange the columns in the DataFrame to have 'case_id' as the first column and 'Stay' as the second column\n",
    "\n",
    "    # Map numeric predictions to their corresponding 'Stay' categories using the .replace() method\n",
    "    # replace the following data in stay column with 0: '0-10', 1: '11-20', 2: '21-30', 3: '31-40', 4: '41-50', 5: '51-60', 6: '61-70', 7: '71-80', 8: '81-90', 9: '91-100', 10: 'More than 100 Days'\n",
    "    df = pd.DataFrame()\n",
    "    df[\"Stay\"] = pred_xgb\n",
    "    df[\"case_id\"] = test1[\"case_id\"]\n",
    "    df = df[[\"case_id\",\"Stay\"]]\n",
    "    df[\"Stay\"] = df[\"Stay\"].replace({0: '0-10', 1: '11-20', 2: '21-30', 3: '31-40', 4: '41-50', 5: '51-60', 6: '61-70', 7: '71-80', 8: '81-90', 9: '91-100', 10: 'More than 100 Days'})\n",
    "    # Return the DataFrame with 'case_id' and predicted 'Stay' values\n",
    "    return df"
   ],
   "metadata": {
    "collapsed": false,
    "ExecuteTime": {
     "end_time": "2023-08-15T01:16:14.084367Z",
     "start_time": "2023-08-15T01:16:14.073569Z"
    }
   },
   "id": "979575ea4e871efd"
  },
  {
   "cell_type": "code",
   "execution_count": 33,
   "outputs": [],
   "source": [
    "result_xgb = predict()"
   ],
   "metadata": {
    "collapsed": false,
    "ExecuteTime": {
     "end_time": "2023-08-15T01:18:47.199678Z",
     "start_time": "2023-08-15T01:18:42.652929Z"
    }
   },
   "id": "6c685ba0250f617"
  },
  {
   "cell_type": "code",
   "execution_count": 43,
   "outputs": [],
   "source": [
    "xbg_grp = result_xgb.groupby(\"Stay\")\n",
    "xbg = xbg_grp.count()\n",
    "a = pd.Series(index=xbg.index)\n",
    "a = xbg[\"case_id\"]"
   ],
   "metadata": {
    "collapsed": false,
    "ExecuteTime": {
     "end_time": "2023-08-15T01:20:01.155886Z",
     "start_time": "2023-08-15T01:20:01.146444Z"
    }
   },
   "id": "d68de584e452093f"
  },
  {
   "cell_type": "code",
   "execution_count": 44,
   "outputs": [
    {
     "data": {
      "text/plain": "Stay\n0-10                   58\n11-20                 380\n21-30                 879\n31-40                 235\n41-50                  28\n51-60                 307\n61-70                   7\n71-80                  46\n81-90                  24\n91-100                  6\nMore than 100 Days     30\nName: case_id, dtype: int64"
     },
     "execution_count": 44,
     "metadata": {},
     "output_type": "execute_result"
    }
   ],
   "source": [
    "a"
   ],
   "metadata": {
    "collapsed": false,
    "ExecuteTime": {
     "end_time": "2023-08-15T01:20:04.771277Z",
     "start_time": "2023-08-15T01:20:04.740705Z"
    }
   },
   "id": "b5d9caec4c163276"
  },
  {
   "cell_type": "code",
   "execution_count": null,
   "outputs": [],
   "source": [],
   "metadata": {
    "collapsed": false
   },
   "id": "8cb2c9c5f92fd7f9"
  }
 ],
 "metadata": {
  "kernelspec": {
   "display_name": "Python 3",
   "language": "python",
   "name": "python3"
  },
  "language_info": {
   "codemirror_mode": {
    "name": "ipython",
    "version": 2
   },
   "file_extension": ".py",
   "mimetype": "text/x-python",
   "name": "python",
   "nbconvert_exporter": "python",
   "pygments_lexer": "ipython2",
   "version": "2.7.6"
  }
 },
 "nbformat": 4,
 "nbformat_minor": 5
}
