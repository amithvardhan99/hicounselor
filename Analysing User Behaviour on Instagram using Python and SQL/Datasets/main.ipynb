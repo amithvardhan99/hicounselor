{
 "cells": [
  {
   "cell_type": "code",
   "execution_count": 81,
   "metadata": {
    "collapsed": true,
    "ExecuteTime": {
     "end_time": "2023-07-19T23:23:40.996896Z",
     "start_time": "2023-07-19T23:23:40.993933Z"
    }
   },
   "outputs": [],
   "source": [
    "import numpy as np\n",
    "import pandas as pd\n",
    "import matplotlib.pyplot as plt\n",
    "import seaborn as sns\n",
    "import warnings\n",
    "warnings.filterwarnings(\"ignore\")"
   ]
  },
  {
   "cell_type": "code",
   "execution_count": 82,
   "outputs": [],
   "source": [
    "users=pd.read_csv('users.csv')"
   ],
   "metadata": {
    "collapsed": false,
    "ExecuteTime": {
     "end_time": "2023-07-19T23:23:41.368160Z",
     "start_time": "2023-07-19T23:23:41.363863Z"
    }
   }
  },
  {
   "cell_type": "code",
   "execution_count": 83,
   "outputs": [
    {
     "data": {
      "text/plain": "     id                  name      created time private/public  post count  \\\n0     1         Kenton_Kirlin  16-02-2017 18:22            yes          11   \n1     2         Andre_Purdy85  02-04-2017 17:11             no           7   \n2     3         Harley_Lind18  21-02-2017 11:12             no           2   \n3     4         Arely_Bogan63  13-08-2016 01:28            yes           1   \n4     5         Aniya_Hackett  07-12-2016 01:04            yes           3   \n..  ...                   ...               ...            ...         ...   \n95   96  Keenan.Schamberger60  28-08-2016 14:57            yes         687   \n96   97        Tomas.Beatty93  11-02-2017 11:38            yes          92   \n97   98       Imani_Nicolas17  31-01-2017 22:59             no         123   \n98   99          Alek_Watsica  10-12-2016 07:43             no         232   \n99  100             Javonte83  27-03-2017 22:06            yes          32   \n\n   Verified status  \n0               no  \n1               no  \n2               no  \n3               no  \n4               no  \n..             ...  \n95              no  \n96              no  \n97              no  \n98              no  \n99             yes  \n\n[100 rows x 6 columns]",
      "text/html": "<div>\n<style scoped>\n    .dataframe tbody tr th:only-of-type {\n        vertical-align: middle;\n    }\n\n    .dataframe tbody tr th {\n        vertical-align: top;\n    }\n\n    .dataframe thead th {\n        text-align: right;\n    }\n</style>\n<table border=\"1\" class=\"dataframe\">\n  <thead>\n    <tr style=\"text-align: right;\">\n      <th></th>\n      <th>id</th>\n      <th>name</th>\n      <th>created time</th>\n      <th>private/public</th>\n      <th>post count</th>\n      <th>Verified status</th>\n    </tr>\n  </thead>\n  <tbody>\n    <tr>\n      <th>0</th>\n      <td>1</td>\n      <td>Kenton_Kirlin</td>\n      <td>16-02-2017 18:22</td>\n      <td>yes</td>\n      <td>11</td>\n      <td>no</td>\n    </tr>\n    <tr>\n      <th>1</th>\n      <td>2</td>\n      <td>Andre_Purdy85</td>\n      <td>02-04-2017 17:11</td>\n      <td>no</td>\n      <td>7</td>\n      <td>no</td>\n    </tr>\n    <tr>\n      <th>2</th>\n      <td>3</td>\n      <td>Harley_Lind18</td>\n      <td>21-02-2017 11:12</td>\n      <td>no</td>\n      <td>2</td>\n      <td>no</td>\n    </tr>\n    <tr>\n      <th>3</th>\n      <td>4</td>\n      <td>Arely_Bogan63</td>\n      <td>13-08-2016 01:28</td>\n      <td>yes</td>\n      <td>1</td>\n      <td>no</td>\n    </tr>\n    <tr>\n      <th>4</th>\n      <td>5</td>\n      <td>Aniya_Hackett</td>\n      <td>07-12-2016 01:04</td>\n      <td>yes</td>\n      <td>3</td>\n      <td>no</td>\n    </tr>\n    <tr>\n      <th>...</th>\n      <td>...</td>\n      <td>...</td>\n      <td>...</td>\n      <td>...</td>\n      <td>...</td>\n      <td>...</td>\n    </tr>\n    <tr>\n      <th>95</th>\n      <td>96</td>\n      <td>Keenan.Schamberger60</td>\n      <td>28-08-2016 14:57</td>\n      <td>yes</td>\n      <td>687</td>\n      <td>no</td>\n    </tr>\n    <tr>\n      <th>96</th>\n      <td>97</td>\n      <td>Tomas.Beatty93</td>\n      <td>11-02-2017 11:38</td>\n      <td>yes</td>\n      <td>92</td>\n      <td>no</td>\n    </tr>\n    <tr>\n      <th>97</th>\n      <td>98</td>\n      <td>Imani_Nicolas17</td>\n      <td>31-01-2017 22:59</td>\n      <td>no</td>\n      <td>123</td>\n      <td>no</td>\n    </tr>\n    <tr>\n      <th>98</th>\n      <td>99</td>\n      <td>Alek_Watsica</td>\n      <td>10-12-2016 07:43</td>\n      <td>no</td>\n      <td>232</td>\n      <td>no</td>\n    </tr>\n    <tr>\n      <th>99</th>\n      <td>100</td>\n      <td>Javonte83</td>\n      <td>27-03-2017 22:06</td>\n      <td>yes</td>\n      <td>32</td>\n      <td>yes</td>\n    </tr>\n  </tbody>\n</table>\n<p>100 rows × 6 columns</p>\n</div>"
     },
     "execution_count": 83,
     "metadata": {},
     "output_type": "execute_result"
    }
   ],
   "source": [
    "users"
   ],
   "metadata": {
    "collapsed": false,
    "ExecuteTime": {
     "end_time": "2023-07-19T23:23:41.779960Z",
     "start_time": "2023-07-19T23:23:41.775727Z"
    }
   }
  },
  {
   "cell_type": "code",
   "execution_count": 84,
   "outputs": [],
   "source": [
    "# id, username, created_at"
   ],
   "metadata": {
    "collapsed": false,
    "ExecuteTime": {
     "end_time": "2023-07-19T23:23:42.199027Z",
     "start_time": "2023-07-19T23:23:42.197081Z"
    }
   }
  },
  {
   "cell_type": "code",
   "execution_count": 85,
   "outputs": [],
   "source": [
    "users = users[[\"id\",\"name\",\"created time\"]]\n",
    "users.rename({\"id\":\"id\",\"name\":\"username\",\"created time\":\"created_at\"},axis=1,inplace=True)"
   ],
   "metadata": {
    "collapsed": false,
    "ExecuteTime": {
     "end_time": "2023-07-19T23:23:42.664792Z",
     "start_time": "2023-07-19T23:23:42.662071Z"
    }
   }
  },
  {
   "cell_type": "code",
   "execution_count": null,
   "outputs": [],
   "source": [],
   "metadata": {
    "collapsed": false
   }
  }
 ],
 "metadata": {
  "kernelspec": {
   "display_name": "Python 3",
   "language": "python",
   "name": "python3"
  },
  "language_info": {
   "codemirror_mode": {
    "name": "ipython",
    "version": 2
   },
   "file_extension": ".py",
   "mimetype": "text/x-python",
   "name": "python",
   "nbconvert_exporter": "python",
   "pygments_lexer": "ipython2",
   "version": "2.7.6"
  }
 },
 "nbformat": 4,
 "nbformat_minor": 0
}
