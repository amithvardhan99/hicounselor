{
 "cells": [
  {
   "cell_type": "code",
   "execution_count": 1,
   "id": "initial_id",
   "metadata": {
    "collapsed": true,
    "ExecuteTime": {
     "end_time": "2023-12-29T01:22:23.385650Z",
     "start_time": "2023-12-29T01:22:23.382524Z"
    }
   },
   "outputs": [],
   "source": [
    "import numpy as np\n",
    "import pandas as pd\n",
    "import matplotlib.pyplot as plt\n",
    "import seaborn as sns"
   ]
  },
  {
   "cell_type": "code",
   "outputs": [
    {
     "data": {
      "text/plain": "           id  Gender  Age  Driving_License  Region_Code  Previously_Insured  \\\n0       46048    Male   22                1         26.0                   1   \n1      228395    Male   29                1         15.0                   0   \n2      170449    Male   25                1          2.0                   0   \n3       92900    Male   34                1         47.0                   1   \n4      257877    Male   35                1         28.0                   0   \n...       ...     ...  ...              ...          ...                 ...   \n49995  193914  Female   23                1         43.0                   1   \n49996  251014    Male   25                1         45.0                   0   \n49997  176901  Female   35                1         13.0                   0   \n49998  375871    Male   52                1         14.0                   0   \n49999  266130    Male   37                1         33.0                   0   \n\n      Vehicle_Age Vehicle_Damage  Annual_Premium  Policy_Sales_Channel  \\\n0        < 1 Year             No         27460.0                 152.0   \n1        < 1 Year            Yes         28982.0                 152.0   \n2        < 1 Year             No         25067.0                 152.0   \n3        1-2 Year            Yes          2630.0                 156.0   \n4        1-2 Year            Yes         40499.0                 124.0   \n...           ...            ...             ...                   ...   \n49995    < 1 Year             No         34493.0                 152.0   \n49996    < 1 Year            Yes         23626.0                 152.0   \n49997    1-2 Year            Yes         30072.0                 156.0   \n49998    1-2 Year            Yes         23863.0                  26.0   \n49999    1-2 Year            Yes         35745.0                 124.0   \n\n       Vintage  Response  \n0          172         0  \n1          207         0  \n2          228         0  \n3          193         0  \n4           77         1  \n...        ...       ...  \n49995      156         0  \n49996      250         1  \n49997      256         0  \n49998      201         0  \n49999      179         0  \n\n[50000 rows x 12 columns]",
      "text/html": "<div>\n<style scoped>\n    .dataframe tbody tr th:only-of-type {\n        vertical-align: middle;\n    }\n\n    .dataframe tbody tr th {\n        vertical-align: top;\n    }\n\n    .dataframe thead th {\n        text-align: right;\n    }\n</style>\n<table border=\"1\" class=\"dataframe\">\n  <thead>\n    <tr style=\"text-align: right;\">\n      <th></th>\n      <th>id</th>\n      <th>Gender</th>\n      <th>Age</th>\n      <th>Driving_License</th>\n      <th>Region_Code</th>\n      <th>Previously_Insured</th>\n      <th>Vehicle_Age</th>\n      <th>Vehicle_Damage</th>\n      <th>Annual_Premium</th>\n      <th>Policy_Sales_Channel</th>\n      <th>Vintage</th>\n      <th>Response</th>\n    </tr>\n  </thead>\n  <tbody>\n    <tr>\n      <th>0</th>\n      <td>46048</td>\n      <td>Male</td>\n      <td>22</td>\n      <td>1</td>\n      <td>26.0</td>\n      <td>1</td>\n      <td>&lt; 1 Year</td>\n      <td>No</td>\n      <td>27460.0</td>\n      <td>152.0</td>\n      <td>172</td>\n      <td>0</td>\n    </tr>\n    <tr>\n      <th>1</th>\n      <td>228395</td>\n      <td>Male</td>\n      <td>29</td>\n      <td>1</td>\n      <td>15.0</td>\n      <td>0</td>\n      <td>&lt; 1 Year</td>\n      <td>Yes</td>\n      <td>28982.0</td>\n      <td>152.0</td>\n      <td>207</td>\n      <td>0</td>\n    </tr>\n    <tr>\n      <th>2</th>\n      <td>170449</td>\n      <td>Male</td>\n      <td>25</td>\n      <td>1</td>\n      <td>2.0</td>\n      <td>0</td>\n      <td>&lt; 1 Year</td>\n      <td>No</td>\n      <td>25067.0</td>\n      <td>152.0</td>\n      <td>228</td>\n      <td>0</td>\n    </tr>\n    <tr>\n      <th>3</th>\n      <td>92900</td>\n      <td>Male</td>\n      <td>34</td>\n      <td>1</td>\n      <td>47.0</td>\n      <td>1</td>\n      <td>1-2 Year</td>\n      <td>Yes</td>\n      <td>2630.0</td>\n      <td>156.0</td>\n      <td>193</td>\n      <td>0</td>\n    </tr>\n    <tr>\n      <th>4</th>\n      <td>257877</td>\n      <td>Male</td>\n      <td>35</td>\n      <td>1</td>\n      <td>28.0</td>\n      <td>0</td>\n      <td>1-2 Year</td>\n      <td>Yes</td>\n      <td>40499.0</td>\n      <td>124.0</td>\n      <td>77</td>\n      <td>1</td>\n    </tr>\n    <tr>\n      <th>...</th>\n      <td>...</td>\n      <td>...</td>\n      <td>...</td>\n      <td>...</td>\n      <td>...</td>\n      <td>...</td>\n      <td>...</td>\n      <td>...</td>\n      <td>...</td>\n      <td>...</td>\n      <td>...</td>\n      <td>...</td>\n    </tr>\n    <tr>\n      <th>49995</th>\n      <td>193914</td>\n      <td>Female</td>\n      <td>23</td>\n      <td>1</td>\n      <td>43.0</td>\n      <td>1</td>\n      <td>&lt; 1 Year</td>\n      <td>No</td>\n      <td>34493.0</td>\n      <td>152.0</td>\n      <td>156</td>\n      <td>0</td>\n    </tr>\n    <tr>\n      <th>49996</th>\n      <td>251014</td>\n      <td>Male</td>\n      <td>25</td>\n      <td>1</td>\n      <td>45.0</td>\n      <td>0</td>\n      <td>&lt; 1 Year</td>\n      <td>Yes</td>\n      <td>23626.0</td>\n      <td>152.0</td>\n      <td>250</td>\n      <td>1</td>\n    </tr>\n    <tr>\n      <th>49997</th>\n      <td>176901</td>\n      <td>Female</td>\n      <td>35</td>\n      <td>1</td>\n      <td>13.0</td>\n      <td>0</td>\n      <td>1-2 Year</td>\n      <td>Yes</td>\n      <td>30072.0</td>\n      <td>156.0</td>\n      <td>256</td>\n      <td>0</td>\n    </tr>\n    <tr>\n      <th>49998</th>\n      <td>375871</td>\n      <td>Male</td>\n      <td>52</td>\n      <td>1</td>\n      <td>14.0</td>\n      <td>0</td>\n      <td>1-2 Year</td>\n      <td>Yes</td>\n      <td>23863.0</td>\n      <td>26.0</td>\n      <td>201</td>\n      <td>0</td>\n    </tr>\n    <tr>\n      <th>49999</th>\n      <td>266130</td>\n      <td>Male</td>\n      <td>37</td>\n      <td>1</td>\n      <td>33.0</td>\n      <td>0</td>\n      <td>1-2 Year</td>\n      <td>Yes</td>\n      <td>35745.0</td>\n      <td>124.0</td>\n      <td>179</td>\n      <td>0</td>\n    </tr>\n  </tbody>\n</table>\n<p>50000 rows × 12 columns</p>\n</div>"
     },
     "execution_count": 2,
     "metadata": {},
     "output_type": "execute_result"
    }
   ],
   "source": [
    "df = pd.read_csv(\"insurance_dataset.csv\")\n",
    "df"
   ],
   "metadata": {
    "collapsed": false,
    "ExecuteTime": {
     "end_time": "2023-12-29T01:22:24.203175Z",
     "start_time": "2023-12-29T01:22:24.148930Z"
    }
   },
   "id": "439c7c885d95d212",
   "execution_count": 2
  },
  {
   "cell_type": "code",
   "outputs": [
    {
     "data": {
      "text/plain": "id                      0\nGender                  0\nAge                     0\nDriving_License         0\nRegion_Code             0\nPreviously_Insured      0\nVehicle_Age             0\nVehicle_Damage          0\nAnnual_Premium          0\nPolicy_Sales_Channel    0\nVintage                 0\nResponse                0\ndtype: int64"
     },
     "execution_count": 3,
     "metadata": {},
     "output_type": "execute_result"
    }
   ],
   "source": [
    "df.isna().sum()"
   ],
   "metadata": {
    "collapsed": false,
    "ExecuteTime": {
     "end_time": "2023-12-29T01:22:24.945044Z",
     "start_time": "2023-12-29T01:22:24.917441Z"
    }
   },
   "id": "ce48189bcfe15300",
   "execution_count": 3
  },
  {
   "cell_type": "code",
   "outputs": [
    {
     "data": {
      "text/plain": "id                        int64\nGender                   object\nAge                       int64\nDriving_License           int64\nRegion_Code             float64\nPreviously_Insured        int64\nVehicle_Age              object\nVehicle_Damage           object\nAnnual_Premium          float64\nPolicy_Sales_Channel    float64\nVintage                   int64\nResponse                  int64\ndtype: object"
     },
     "execution_count": 4,
     "metadata": {},
     "output_type": "execute_result"
    }
   ],
   "source": [
    "df.dtypes"
   ],
   "metadata": {
    "collapsed": false,
    "ExecuteTime": {
     "end_time": "2023-12-29T01:22:25.568722Z",
     "start_time": "2023-12-29T01:22:25.564766Z"
    }
   },
   "id": "a9cef4f16a389b98",
   "execution_count": 4
  },
  {
   "cell_type": "code",
   "outputs": [
    {
     "data": {
      "text/plain": "                  id           Age  Driving_License   Region_Code  \\\ncount   50000.000000  50000.000000     50000.000000  50000.000000   \nmean   190360.481080     38.917040         0.998140     26.403980   \nstd    110129.705102     15.547106         0.043088     13.228193   \nmin         3.000000     20.000000         0.000000      0.000000   \n25%     94695.500000     25.000000         1.000000     15.000000   \n50%    190046.000000     36.000000         1.000000     28.000000   \n75%    285516.250000     50.000000         1.000000     35.000000   \nmax    381105.000000     85.000000         1.000000     52.000000   \n\n       Previously_Insured  Annual_Premium  Policy_Sales_Channel       Vintage  \\\ncount        50000.000000    50000.000000           50000.00000  50000.000000   \nmean             0.456260    30651.202720             111.74360    154.520040   \nstd              0.498088    16856.326189              54.29231     83.665823   \nmin              0.000000     2630.000000               1.00000     10.000000   \n25%              0.000000    24555.000000              26.00000     82.000000   \n50%              0.000000    31748.000000             125.00000    155.000000   \n75%              1.000000    39476.000000             152.00000    227.000000   \nmax              1.000000   540165.000000             163.00000    299.000000   \n\n           Response  \ncount  50000.000000  \nmean       0.122780  \nstd        0.328188  \nmin        0.000000  \n25%        0.000000  \n50%        0.000000  \n75%        0.000000  \nmax        1.000000  ",
      "text/html": "<div>\n<style scoped>\n    .dataframe tbody tr th:only-of-type {\n        vertical-align: middle;\n    }\n\n    .dataframe tbody tr th {\n        vertical-align: top;\n    }\n\n    .dataframe thead th {\n        text-align: right;\n    }\n</style>\n<table border=\"1\" class=\"dataframe\">\n  <thead>\n    <tr style=\"text-align: right;\">\n      <th></th>\n      <th>id</th>\n      <th>Age</th>\n      <th>Driving_License</th>\n      <th>Region_Code</th>\n      <th>Previously_Insured</th>\n      <th>Annual_Premium</th>\n      <th>Policy_Sales_Channel</th>\n      <th>Vintage</th>\n      <th>Response</th>\n    </tr>\n  </thead>\n  <tbody>\n    <tr>\n      <th>count</th>\n      <td>50000.000000</td>\n      <td>50000.000000</td>\n      <td>50000.000000</td>\n      <td>50000.000000</td>\n      <td>50000.000000</td>\n      <td>50000.000000</td>\n      <td>50000.00000</td>\n      <td>50000.000000</td>\n      <td>50000.000000</td>\n    </tr>\n    <tr>\n      <th>mean</th>\n      <td>190360.481080</td>\n      <td>38.917040</td>\n      <td>0.998140</td>\n      <td>26.403980</td>\n      <td>0.456260</td>\n      <td>30651.202720</td>\n      <td>111.74360</td>\n      <td>154.520040</td>\n      <td>0.122780</td>\n    </tr>\n    <tr>\n      <th>std</th>\n      <td>110129.705102</td>\n      <td>15.547106</td>\n      <td>0.043088</td>\n      <td>13.228193</td>\n      <td>0.498088</td>\n      <td>16856.326189</td>\n      <td>54.29231</td>\n      <td>83.665823</td>\n      <td>0.328188</td>\n    </tr>\n    <tr>\n      <th>min</th>\n      <td>3.000000</td>\n      <td>20.000000</td>\n      <td>0.000000</td>\n      <td>0.000000</td>\n      <td>0.000000</td>\n      <td>2630.000000</td>\n      <td>1.00000</td>\n      <td>10.000000</td>\n      <td>0.000000</td>\n    </tr>\n    <tr>\n      <th>25%</th>\n      <td>94695.500000</td>\n      <td>25.000000</td>\n      <td>1.000000</td>\n      <td>15.000000</td>\n      <td>0.000000</td>\n      <td>24555.000000</td>\n      <td>26.00000</td>\n      <td>82.000000</td>\n      <td>0.000000</td>\n    </tr>\n    <tr>\n      <th>50%</th>\n      <td>190046.000000</td>\n      <td>36.000000</td>\n      <td>1.000000</td>\n      <td>28.000000</td>\n      <td>0.000000</td>\n      <td>31748.000000</td>\n      <td>125.00000</td>\n      <td>155.000000</td>\n      <td>0.000000</td>\n    </tr>\n    <tr>\n      <th>75%</th>\n      <td>285516.250000</td>\n      <td>50.000000</td>\n      <td>1.000000</td>\n      <td>35.000000</td>\n      <td>1.000000</td>\n      <td>39476.000000</td>\n      <td>152.00000</td>\n      <td>227.000000</td>\n      <td>0.000000</td>\n    </tr>\n    <tr>\n      <th>max</th>\n      <td>381105.000000</td>\n      <td>85.000000</td>\n      <td>1.000000</td>\n      <td>52.000000</td>\n      <td>1.000000</td>\n      <td>540165.000000</td>\n      <td>163.00000</td>\n      <td>299.000000</td>\n      <td>1.000000</td>\n    </tr>\n  </tbody>\n</table>\n</div>"
     },
     "execution_count": 5,
     "metadata": {},
     "output_type": "execute_result"
    }
   ],
   "source": [
    "df.describe()"
   ],
   "metadata": {
    "collapsed": false,
    "ExecuteTime": {
     "end_time": "2023-12-29T01:22:26.335340Z",
     "start_time": "2023-12-29T01:22:26.307038Z"
    }
   },
   "id": "62ac28e8a6f8cdf2",
   "execution_count": 5
  },
  {
   "cell_type": "code",
   "outputs": [
    {
     "data": {
      "text/plain": "           id  Gender  Age  Driving_License  Region_Code  Previously_Insured  \\\n0       46048    Male   22                1         26.0                   1   \n1      228395    Male   29                1         15.0                   0   \n2      170449    Male   25                1          2.0                   0   \n3       92900    Male   34                1         47.0                   1   \n4      257877    Male   35                1         28.0                   0   \n...       ...     ...  ...              ...          ...                 ...   \n49995  193914  Female   23                1         43.0                   1   \n49996  251014    Male   25                1         45.0                   0   \n49997  176901  Female   35                1         13.0                   0   \n49998  375871    Male   52                1         14.0                   0   \n49999  266130    Male   37                1         33.0                   0   \n\n      Vehicle_Age Vehicle_Damage  Annual_Premium  Policy_Sales_Channel  \\\n0        < 1 Year             No         27460.0                 152.0   \n1        < 1 Year            Yes         28982.0                 152.0   \n2        < 1 Year             No         25067.0                 152.0   \n3        1-2 Year            Yes          2630.0                 156.0   \n4        1-2 Year            Yes         40499.0                 124.0   \n...           ...            ...             ...                   ...   \n49995    < 1 Year             No         34493.0                 152.0   \n49996    < 1 Year            Yes         23626.0                 152.0   \n49997    1-2 Year            Yes         30072.0                 156.0   \n49998    1-2 Year            Yes         23863.0                  26.0   \n49999    1-2 Year            Yes         35745.0                 124.0   \n\n       Vintage  Response  \n0          172         0  \n1          207         0  \n2          228         0  \n3          193         0  \n4           77         1  \n...        ...       ...  \n49995      156         0  \n49996      250         1  \n49997      256         0  \n49998      201         0  \n49999      179         0  \n\n[50000 rows x 12 columns]",
      "text/html": "<div>\n<style scoped>\n    .dataframe tbody tr th:only-of-type {\n        vertical-align: middle;\n    }\n\n    .dataframe tbody tr th {\n        vertical-align: top;\n    }\n\n    .dataframe thead th {\n        text-align: right;\n    }\n</style>\n<table border=\"1\" class=\"dataframe\">\n  <thead>\n    <tr style=\"text-align: right;\">\n      <th></th>\n      <th>id</th>\n      <th>Gender</th>\n      <th>Age</th>\n      <th>Driving_License</th>\n      <th>Region_Code</th>\n      <th>Previously_Insured</th>\n      <th>Vehicle_Age</th>\n      <th>Vehicle_Damage</th>\n      <th>Annual_Premium</th>\n      <th>Policy_Sales_Channel</th>\n      <th>Vintage</th>\n      <th>Response</th>\n    </tr>\n  </thead>\n  <tbody>\n    <tr>\n      <th>0</th>\n      <td>46048</td>\n      <td>Male</td>\n      <td>22</td>\n      <td>1</td>\n      <td>26.0</td>\n      <td>1</td>\n      <td>&lt; 1 Year</td>\n      <td>No</td>\n      <td>27460.0</td>\n      <td>152.0</td>\n      <td>172</td>\n      <td>0</td>\n    </tr>\n    <tr>\n      <th>1</th>\n      <td>228395</td>\n      <td>Male</td>\n      <td>29</td>\n      <td>1</td>\n      <td>15.0</td>\n      <td>0</td>\n      <td>&lt; 1 Year</td>\n      <td>Yes</td>\n      <td>28982.0</td>\n      <td>152.0</td>\n      <td>207</td>\n      <td>0</td>\n    </tr>\n    <tr>\n      <th>2</th>\n      <td>170449</td>\n      <td>Male</td>\n      <td>25</td>\n      <td>1</td>\n      <td>2.0</td>\n      <td>0</td>\n      <td>&lt; 1 Year</td>\n      <td>No</td>\n      <td>25067.0</td>\n      <td>152.0</td>\n      <td>228</td>\n      <td>0</td>\n    </tr>\n    <tr>\n      <th>3</th>\n      <td>92900</td>\n      <td>Male</td>\n      <td>34</td>\n      <td>1</td>\n      <td>47.0</td>\n      <td>1</td>\n      <td>1-2 Year</td>\n      <td>Yes</td>\n      <td>2630.0</td>\n      <td>156.0</td>\n      <td>193</td>\n      <td>0</td>\n    </tr>\n    <tr>\n      <th>4</th>\n      <td>257877</td>\n      <td>Male</td>\n      <td>35</td>\n      <td>1</td>\n      <td>28.0</td>\n      <td>0</td>\n      <td>1-2 Year</td>\n      <td>Yes</td>\n      <td>40499.0</td>\n      <td>124.0</td>\n      <td>77</td>\n      <td>1</td>\n    </tr>\n    <tr>\n      <th>...</th>\n      <td>...</td>\n      <td>...</td>\n      <td>...</td>\n      <td>...</td>\n      <td>...</td>\n      <td>...</td>\n      <td>...</td>\n      <td>...</td>\n      <td>...</td>\n      <td>...</td>\n      <td>...</td>\n      <td>...</td>\n    </tr>\n    <tr>\n      <th>49995</th>\n      <td>193914</td>\n      <td>Female</td>\n      <td>23</td>\n      <td>1</td>\n      <td>43.0</td>\n      <td>1</td>\n      <td>&lt; 1 Year</td>\n      <td>No</td>\n      <td>34493.0</td>\n      <td>152.0</td>\n      <td>156</td>\n      <td>0</td>\n    </tr>\n    <tr>\n      <th>49996</th>\n      <td>251014</td>\n      <td>Male</td>\n      <td>25</td>\n      <td>1</td>\n      <td>45.0</td>\n      <td>0</td>\n      <td>&lt; 1 Year</td>\n      <td>Yes</td>\n      <td>23626.0</td>\n      <td>152.0</td>\n      <td>250</td>\n      <td>1</td>\n    </tr>\n    <tr>\n      <th>49997</th>\n      <td>176901</td>\n      <td>Female</td>\n      <td>35</td>\n      <td>1</td>\n      <td>13.0</td>\n      <td>0</td>\n      <td>1-2 Year</td>\n      <td>Yes</td>\n      <td>30072.0</td>\n      <td>156.0</td>\n      <td>256</td>\n      <td>0</td>\n    </tr>\n    <tr>\n      <th>49998</th>\n      <td>375871</td>\n      <td>Male</td>\n      <td>52</td>\n      <td>1</td>\n      <td>14.0</td>\n      <td>0</td>\n      <td>1-2 Year</td>\n      <td>Yes</td>\n      <td>23863.0</td>\n      <td>26.0</td>\n      <td>201</td>\n      <td>0</td>\n    </tr>\n    <tr>\n      <th>49999</th>\n      <td>266130</td>\n      <td>Male</td>\n      <td>37</td>\n      <td>1</td>\n      <td>33.0</td>\n      <td>0</td>\n      <td>1-2 Year</td>\n      <td>Yes</td>\n      <td>35745.0</td>\n      <td>124.0</td>\n      <td>179</td>\n      <td>0</td>\n    </tr>\n  </tbody>\n</table>\n<p>50000 rows × 12 columns</p>\n</div>"
     },
     "execution_count": 7,
     "metadata": {},
     "output_type": "execute_result"
    }
   ],
   "source": [
    "df"
   ],
   "metadata": {
    "collapsed": false,
    "ExecuteTime": {
     "end_time": "2023-12-29T01:37:46.034020Z",
     "start_time": "2023-12-29T01:37:46.024540Z"
    }
   },
   "id": "a71b7996b2554887",
   "execution_count": 7
  },
  {
   "cell_type": "code",
   "outputs": [
    {
     "data": {
      "text/plain": "Response\n0    88.0\n1    12.0\nName: count, dtype: float64"
     },
     "execution_count": 9,
     "metadata": {},
     "output_type": "execute_result"
    }
   ],
   "source": [
    "(df[\"Response\"].value_counts() * 100 / len(df)).round(0)"
   ],
   "metadata": {
    "collapsed": false,
    "ExecuteTime": {
     "end_time": "2023-12-29T01:38:42.312313Z",
     "start_time": "2023-12-29T01:38:42.306063Z"
    }
   },
   "id": "1bcbcb9b969d3ab1",
   "execution_count": 9
  },
  {
   "cell_type": "code",
   "outputs": [],
   "source": [],
   "metadata": {
    "collapsed": false
   },
   "id": "cc1747f394fe7b19"
  }
 ],
 "metadata": {
  "kernelspec": {
   "display_name": "Python 3",
   "language": "python",
   "name": "python3"
  },
  "language_info": {
   "codemirror_mode": {
    "name": "ipython",
    "version": 2
   },
   "file_extension": ".py",
   "mimetype": "text/x-python",
   "name": "python",
   "nbconvert_exporter": "python",
   "pygments_lexer": "ipython2",
   "version": "2.7.6"
  }
 },
 "nbformat": 4,
 "nbformat_minor": 5
}
