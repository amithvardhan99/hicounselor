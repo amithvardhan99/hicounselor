{
 "cells": [
  {
   "cell_type": "markdown",
   "id": "6178e13109a94d1c",
   "metadata": {
    "collapsed": false,
    "jupyter": {
     "outputs_hidden": false
    }
   },
   "source": [
    "## Crypto Forecasting Model For Market Data 2018 - 2021\n",
    "\n",
    "In this Data Science project, we will be performing some data analysis as well as we will build a Light Gradient Boosting Machine ML model to forecast short term returns in 14 popular cryptocurrencies using millions of high-frequency market data 2018-2021.\n",
    "<br>\n",
    "#### Project Description\n",
    "\n",
    "In this Data Science project, we will be performing some data analysis as well as we will build a Light Gradient Boosting Machine ML model to forecast short term returns in 14 popular cryptocurrencies using millions of high-frequency market data 2018-2021. The dataset used here contains information on historic trades for several crypto assets, such as Bitcoin and Ethereum. Our challenge is to predict their future returns.\n",
    "<br>\n",
    "***train.csv:***\n",
    "\n",
    "   **timestamp:** All timestamps are returned as second Unix timestamps (the number of seconds elapsed since 1970-01-01 00:00:00.000 UTC). Timestamps in this dataset are multiple of 60, indicating minute-by-minute data.\n",
    "   \n",
    "   **Asset_ID:** The asset ID corresponding to one of the cryptocurrencies (e.g. Asset_ID = 1 for Bitcoin). The mapping from Asset_ID to crypto asset is contained in asset_details.csv.\n",
    "   \n",
    "   **Count:** Total number of trades in the time interval (last minute).\n",
    "   \n",
    "   **Open:** Opening price of the time interval (in USD).\n",
    "   \n",
    "   **High:** Highest price reached during time interval (in USD).\n",
    "   \n",
    "   **Low:** Lowest price reached during time interval (in USD).\n",
    "   \n",
    "   **Close:** Closing price of the time interval (in USD).\n",
    "   \n",
    "   **Volume:** Quantity of asset bought or sold, displayed in base currency USD.\n",
    "   \n",
    "   **VWAP:** The average price of the asset over the time interval, weighted by volume. VWAP is an aggregated form of trade data.\n",
    "   \n",
    "   **Target:** Residual log-returns for the asset over a 15 minute horizon.\n",
    "<br>\n",
    "***asset_details.csv:***\n",
    "\n",
    "It provides the real name of the crypto asset for each Asset_ID and the weight each crypto asset receives in the metric. Weights are determined by the logarithm of each product's market cap (in USD), of the cryptocurrencies at a fixed point in time. Weights were assigned to give more relevance to cryptocurrencies with higher market volumes to ensure smaller cryptocurrencies do not disproportionately impact the models. In this Data Science project, We will build a Light Gradient Boosting Machine ML model to forecast short term returns in 14 popular cryptocurrencies using millions of high-frequency market data 2018-2021.\n",
    "<br>\n",
    "#### Technologies used:\n",
    "\n",
    "**Language -** Python\n",
    "**Algorithms -** LightGBM"
   ]
  },
  {
   "cell_type": "code",
   "execution_count": null,
   "id": "5baa3f78643cbff5",
   "metadata": {
    "ExecuteTime": {
     "end_time": "2023-12-11T21:00:36.067840Z",
     "start_time": "2023-12-11T21:00:36.039850Z"
    },
    "collapsed": false,
    "jupyter": {
     "outputs_hidden": false
    }
   },
   "outputs": [],
   "source": []
  },
  {
   "cell_type": "markdown",
   "id": "a477fa84ee2b2c13",
   "metadata": {
    "collapsed": false,
    "jupyter": {
     "outputs_hidden": false
    }
   },
   "source": [
    "### Module 1: Project Setup and Installation\n",
    "\n",
    "This module consists of guidance videos for setup and installation of various tools and libraries that we will be needing for our project. By following these videos you can set up the environment for your project development. In our project we will be using various python packages such as NumPy ,Pandas ,sklearn,etc. We will be using Visual Studio Code Editor for development."
   ]
  },
  {
   "cell_type": "code",
   "execution_count": null,
   "id": "7ca55402bb99138d",
   "metadata": {
    "ExecuteTime": {
     "end_time": "2023-12-11T21:00:36.556741Z",
     "start_time": "2023-12-11T21:00:36.544839Z"
    },
    "collapsed": false,
    "jupyter": {
     "outputs_hidden": false
    }
   },
   "outputs": [],
   "source": []
  },
  {
   "cell_type": "markdown",
   "id": "525ea7a012caa42",
   "metadata": {
    "collapsed": false,
    "jupyter": {
     "outputs_hidden": false
    }
   },
   "source": [
    "#### Task 1: Setup and Installation\n",
    "\n",
    "In this task you’ll understand how to get started with vscode, python, jupyter notebook etc. with the help of a guided video and how to create a simple jupyter notebook."
   ]
  },
  {
   "cell_type": "code",
   "execution_count": null,
   "id": "2ad50bbc80ac7cb3",
   "metadata": {
    "ExecuteTime": {
     "end_time": "2023-12-11T21:00:37.027395Z",
     "start_time": "2023-12-11T21:00:37.022663Z"
    },
    "collapsed": false,
    "jupyter": {
     "outputs_hidden": false
    }
   },
   "outputs": [],
   "source": []
  },
  {
   "cell_type": "markdown",
   "id": "6d8516cb45e9dd57",
   "metadata": {
    "collapsed": false,
    "jupyter": {
     "outputs_hidden": false
    }
   },
   "source": [
    "#### Task 2: Installing Packages Using Pip\n",
    "\n",
    "**Packages:**\n",
    "\n",
    "**Data preprocessing:** NumPy and Pandas\n",
    "\n",
    "**Data visualization:** Seaborn and Matplotlib"
   ]
  },
  {
   "cell_type": "code",
   "execution_count": null,
   "id": "ba30c2bea16b8759",
   "metadata": {
    "ExecuteTime": {
     "end_time": "2023-12-11T21:00:37.524649Z",
     "start_time": "2023-12-11T21:00:37.520902Z"
    },
    "collapsed": false,
    "jupyter": {
     "outputs_hidden": false
    }
   },
   "outputs": [],
   "source": []
  },
  {
   "cell_type": "markdown",
   "id": "5b0d59f79ca7b658",
   "metadata": {
    "collapsed": false,
    "jupyter": {
     "outputs_hidden": false
    }
   },
   "source": [
    "### Module 2: Exploratory Data Analysis (EDA)\n",
    "\n",
    "Exploratory data analysis (EDA) is an approach of analyzing data sets to summarize their main characteristics, often using statistical graphics hypothesis testing. A statistical model can be used or not, but primarily EDA is for seeing what the data can tell us beyond the formal modeling and thereby contrasts traditional indexing. We will explore the data in detail and have a detailed look at the data and its statistics. We will also define a helper function that will turn a date format into a timestamp to use for  modeling."
   ]
  },
  {
   "cell_type": "code",
   "execution_count": 1,
   "id": "13c9e432b2cae3f0",
   "metadata": {
    "ExecuteTime": {
     "end_time": "2023-12-12T21:23:37.635861Z",
     "start_time": "2023-12-12T21:23:36.765318Z"
    },
    "collapsed": false,
    "jupyter": {
     "outputs_hidden": false
    }
   },
   "outputs": [],
   "source": [
    "import numpy as np\n",
    "import pandas as pd\n",
    "import matplotlib.pyplot as plt\n",
    "import seaborn as sns\n",
    "import os\n",
    "from datetime import datetime\n",
    "import time\n",
    "import warnings\n",
    "from sklearn.model_selection import *\n",
    "from sklearn.metrics import *\n",
    "from sklearn.feature_extraction import *\n",
    "from sklearn.feature_selection import *\n",
    "from lightgbm import *\n",
    "warnings.filterwarnings(\"ignore\")"
   ]
  },
  {
   "cell_type": "markdown",
   "id": "563d6c8e4e76bf7",
   "metadata": {
    "collapsed": false,
    "jupyter": {
     "outputs_hidden": false
    }
   },
   "source": [
    "#### Task 1: Knowing The Dataset\n",
    "\n",
    "In this task, you’ll understand how to Explore the dataset and know what each field means."
   ]
  },
  {
   "cell_type": "code",
   "execution_count": 2,
   "id": "4301f5efacd09511",
   "metadata": {
    "ExecuteTime": {
     "end_time": "2023-12-12T21:24:10.238932Z",
     "start_time": "2023-12-12T21:23:38.174775Z"
    },
    "collapsed": false,
    "jupyter": {
     "outputs_hidden": false
    }
   },
   "outputs": [
    {
     "name": "stdout",
     "output_type": "stream",
     "text": [
      "Number of files imported :  1\n",
      "Number of files imported :  2\n",
      "Number of files imported :  3\n",
      "Number of files imported :  4\n",
      "Number of files imported :  5\n",
      "Number of files imported :  6\n",
      "Number of files imported :  7\n",
      "Number of files imported :  8\n",
      "Number of files imported :  9\n",
      "Number of files imported :  10\n",
      "Number of files imported :  11\n",
      "Number of files imported :  12\n",
      "Number of files imported :  13\n",
      "Number of files imported :  14\n",
      "Number of files imported :  15\n",
      "Number of files imported :  16\n",
      "Number of files imported :  17\n",
      "Number of files imported :  18\n",
      "Number of files imported :  19\n",
      "Number of files imported :  20\n",
      "Number of files imported :  21\n",
      "Number of files imported :  22\n",
      "Number of files imported :  23\n",
      "Number of files imported :  24\n",
      "Number of files imported :  25\n",
      "Number of files imported :  26\n",
      "Number of files imported :  27\n",
      "Number of files imported :  28\n",
      "Number of files imported :  29\n",
      "Number of files imported :  30\n",
      "Number of files imported :  31\n"
     ]
    }
   ],
   "source": [
    "path = \"data/train/\"\n",
    "df = []\n",
    "list_of_files = os.listdir(path)\n",
    "train = pd.read_csv(path + list_of_files[0])\n",
    "print(\"Number of files imported : \",1)\n",
    "ctr = 2\n",
    "for i in list_of_files[1:]:\n",
    "    if \".csv\" not in i:\n",
    "        continue\n",
    "    df = pd.read_csv(path + i)\n",
    "    train = pd.concat([train, df],axis=0,ignore_index=True)\n",
    "    print(\"Number of files imported : \",ctr)\n",
    "    ctr += 1"
   ]
  },
  {
   "cell_type": "code",
   "execution_count": 3,
   "id": "7f869b8896e6e6b8",
   "metadata": {
    "ExecuteTime": {
     "end_time": "2023-12-12T21:24:10.361763Z",
     "start_time": "2023-12-12T21:24:10.292080Z"
    },
    "collapsed": false,
    "jupyter": {
     "outputs_hidden": false
    }
   },
   "outputs": [],
   "source": [
    "test = pd.read_csv(\"data/example_test.csv\")"
   ]
  },
  {
   "cell_type": "code",
   "execution_count": 4,
   "id": "851dcecc748a7258",
   "metadata": {
    "ExecuteTime": {
     "end_time": "2023-12-12T21:24:10.379716Z",
     "start_time": "2023-12-12T21:24:10.364751Z"
    },
    "collapsed": false,
    "jupyter": {
     "outputs_hidden": false
    }
   },
   "outputs": [],
   "source": [
    "asset_details = pd.read_csv(\"data/asset_details.csv\")"
   ]
  },
  {
   "cell_type": "markdown",
   "id": "f13ef121e442ab8",
   "metadata": {
    "collapsed": false,
    "jupyter": {
     "outputs_hidden": false
    }
   },
   "source": [
    "#### Task 2: EDA - Dataset\n",
    "\n",
    "In this you’ll understand how we will perform EDA and understand the data well."
   ]
  },
  {
   "cell_type": "code",
   "execution_count": 5,
   "id": "2bae620841a17437",
   "metadata": {
    "ExecuteTime": {
     "end_time": "2023-12-12T21:24:10.587293Z",
     "start_time": "2023-12-12T21:24:10.419247Z"
    },
    "collapsed": false,
    "jupyter": {
     "outputs_hidden": false
    }
   },
   "outputs": [
    {
     "data": {
      "text/html": [
       "<div>\n",
       "<style scoped>\n",
       "    .dataframe tbody tr th:only-of-type {\n",
       "        vertical-align: middle;\n",
       "    }\n",
       "\n",
       "    .dataframe tbody tr th {\n",
       "        vertical-align: top;\n",
       "    }\n",
       "\n",
       "    .dataframe thead th {\n",
       "        text-align: right;\n",
       "    }\n",
       "</style>\n",
       "<table border=\"1\" class=\"dataframe\">\n",
       "  <thead>\n",
       "    <tr style=\"text-align: right;\">\n",
       "      <th></th>\n",
       "      <th>timestamp</th>\n",
       "      <th>Asset_ID</th>\n",
       "      <th>Count</th>\n",
       "      <th>Open</th>\n",
       "      <th>High</th>\n",
       "      <th>Low</th>\n",
       "      <th>Close</th>\n",
       "      <th>Volume</th>\n",
       "      <th>VWAP</th>\n",
       "      <th>Target</th>\n",
       "    </tr>\n",
       "  </thead>\n",
       "  <tbody>\n",
       "    <tr>\n",
       "      <th>0</th>\n",
       "      <td>1530202800</td>\n",
       "      <td>12</td>\n",
       "      <td>10.0</td>\n",
       "      <td>0.190815</td>\n",
       "      <td>0.191320</td>\n",
       "      <td>0.19015</td>\n",
       "      <td>0.190740</td>\n",
       "      <td>32450.372000</td>\n",
       "      <td>0.190800</td>\n",
       "      <td>0.001392</td>\n",
       "    </tr>\n",
       "    <tr>\n",
       "      <th>1</th>\n",
       "      <td>1530202860</td>\n",
       "      <td>3</td>\n",
       "      <td>19.0</td>\n",
       "      <td>0.125492</td>\n",
       "      <td>0.125594</td>\n",
       "      <td>0.12539</td>\n",
       "      <td>0.125431</td>\n",
       "      <td>57357.220500</td>\n",
       "      <td>0.125477</td>\n",
       "      <td>0.002543</td>\n",
       "    </tr>\n",
       "    <tr>\n",
       "      <th>2</th>\n",
       "      <td>1530202860</td>\n",
       "      <td>2</td>\n",
       "      <td>12.0</td>\n",
       "      <td>697.195000</td>\n",
       "      <td>698.140000</td>\n",
       "      <td>696.50000</td>\n",
       "      <td>697.220000</td>\n",
       "      <td>1.461400</td>\n",
       "      <td>697.222803</td>\n",
       "      <td>-0.001323</td>\n",
       "    </tr>\n",
       "    <tr>\n",
       "      <th>3</th>\n",
       "      <td>1530202860</td>\n",
       "      <td>0</td>\n",
       "      <td>8.0</td>\n",
       "      <td>14.649900</td>\n",
       "      <td>14.649900</td>\n",
       "      <td>14.63000</td>\n",
       "      <td>14.639500</td>\n",
       "      <td>515.100000</td>\n",
       "      <td>14.637003</td>\n",
       "      <td>-0.002171</td>\n",
       "    </tr>\n",
       "    <tr>\n",
       "      <th>4</th>\n",
       "      <td>1530202860</td>\n",
       "      <td>1</td>\n",
       "      <td>131.0</td>\n",
       "      <td>6106.436890</td>\n",
       "      <td>6114.840000</td>\n",
       "      <td>6100.00000</td>\n",
       "      <td>6106.002890</td>\n",
       "      <td>8.465268</td>\n",
       "      <td>6106.365069</td>\n",
       "      <td>-0.000313</td>\n",
       "    </tr>\n",
       "  </tbody>\n",
       "</table>\n",
       "</div>"
      ],
      "text/plain": [
       "    timestamp  Asset_ID  Count         Open         High         Low  \\\n",
       "0  1530202800        12   10.0     0.190815     0.191320     0.19015   \n",
       "1  1530202860         3   19.0     0.125492     0.125594     0.12539   \n",
       "2  1530202860         2   12.0   697.195000   698.140000   696.50000   \n",
       "3  1530202860         0    8.0    14.649900    14.649900    14.63000   \n",
       "4  1530202860         1  131.0  6106.436890  6114.840000  6100.00000   \n",
       "\n",
       "         Close        Volume         VWAP    Target  \n",
       "0     0.190740  32450.372000     0.190800  0.001392  \n",
       "1     0.125431  57357.220500     0.125477  0.002543  \n",
       "2   697.220000      1.461400   697.222803 -0.001323  \n",
       "3    14.639500    515.100000    14.637003 -0.002171  \n",
       "4  6106.002890      8.465268  6106.365069 -0.000313  "
      ]
     },
     "execution_count": 5,
     "metadata": {},
     "output_type": "execute_result"
    }
   ],
   "source": [
    "train.head()"
   ]
  },
  {
   "cell_type": "code",
   "execution_count": 6,
   "id": "395f932dbfcd0b28",
   "metadata": {
    "ExecuteTime": {
     "end_time": "2023-12-12T21:24:10.603268Z",
     "start_time": "2023-12-12T21:24:10.585380Z"
    },
    "collapsed": false,
    "jupyter": {
     "outputs_hidden": false
    }
   },
   "outputs": [
    {
     "data": {
      "text/html": [
       "<div>\n",
       "<style scoped>\n",
       "    .dataframe tbody tr th:only-of-type {\n",
       "        vertical-align: middle;\n",
       "    }\n",
       "\n",
       "    .dataframe tbody tr th {\n",
       "        vertical-align: top;\n",
       "    }\n",
       "\n",
       "    .dataframe thead th {\n",
       "        text-align: right;\n",
       "    }\n",
       "</style>\n",
       "<table border=\"1\" class=\"dataframe\">\n",
       "  <thead>\n",
       "    <tr style=\"text-align: right;\">\n",
       "      <th></th>\n",
       "      <th>timestamp</th>\n",
       "      <th>Asset_ID</th>\n",
       "      <th>Count</th>\n",
       "      <th>Open</th>\n",
       "      <th>High</th>\n",
       "      <th>Low</th>\n",
       "      <th>Close</th>\n",
       "      <th>Volume</th>\n",
       "      <th>VWAP</th>\n",
       "      <th>group_num</th>\n",
       "      <th>row_id</th>\n",
       "    </tr>\n",
       "  </thead>\n",
       "  <tbody>\n",
       "    <tr>\n",
       "      <th>0</th>\n",
       "      <td>1623542400</td>\n",
       "      <td>3</td>\n",
       "      <td>1201.0</td>\n",
       "      <td>1.478556</td>\n",
       "      <td>1.48603</td>\n",
       "      <td>1.47800</td>\n",
       "      <td>1.483681</td>\n",
       "      <td>654799.561103</td>\n",
       "      <td>1.481439</td>\n",
       "      <td>0</td>\n",
       "      <td>0</td>\n",
       "    </tr>\n",
       "    <tr>\n",
       "      <th>1</th>\n",
       "      <td>1623542400</td>\n",
       "      <td>2</td>\n",
       "      <td>1020.0</td>\n",
       "      <td>580.306667</td>\n",
       "      <td>583.89000</td>\n",
       "      <td>579.91000</td>\n",
       "      <td>582.276667</td>\n",
       "      <td>1227.988328</td>\n",
       "      <td>581.697038</td>\n",
       "      <td>0</td>\n",
       "      <td>1</td>\n",
       "    </tr>\n",
       "    <tr>\n",
       "      <th>2</th>\n",
       "      <td>1623542400</td>\n",
       "      <td>0</td>\n",
       "      <td>626.0</td>\n",
       "      <td>343.789500</td>\n",
       "      <td>345.10800</td>\n",
       "      <td>343.64000</td>\n",
       "      <td>344.598000</td>\n",
       "      <td>1718.832569</td>\n",
       "      <td>344.441729</td>\n",
       "      <td>0</td>\n",
       "      <td>2</td>\n",
       "    </tr>\n",
       "    <tr>\n",
       "      <th>3</th>\n",
       "      <td>1623542400</td>\n",
       "      <td>1</td>\n",
       "      <td>2888.0</td>\n",
       "      <td>35554.289632</td>\n",
       "      <td>35652.46465</td>\n",
       "      <td>35502.67000</td>\n",
       "      <td>35602.004286</td>\n",
       "      <td>163.811537</td>\n",
       "      <td>35583.469303</td>\n",
       "      <td>0</td>\n",
       "      <td>3</td>\n",
       "    </tr>\n",
       "    <tr>\n",
       "      <th>4</th>\n",
       "      <td>1623542400</td>\n",
       "      <td>4</td>\n",
       "      <td>433.0</td>\n",
       "      <td>0.312167</td>\n",
       "      <td>0.31260</td>\n",
       "      <td>0.31192</td>\n",
       "      <td>0.312208</td>\n",
       "      <td>585577.410442</td>\n",
       "      <td>0.312154</td>\n",
       "      <td>0</td>\n",
       "      <td>4</td>\n",
       "    </tr>\n",
       "  </tbody>\n",
       "</table>\n",
       "</div>"
      ],
      "text/plain": [
       "    timestamp  Asset_ID   Count          Open         High          Low  \\\n",
       "0  1623542400         3  1201.0      1.478556      1.48603      1.47800   \n",
       "1  1623542400         2  1020.0    580.306667    583.89000    579.91000   \n",
       "2  1623542400         0   626.0    343.789500    345.10800    343.64000   \n",
       "3  1623542400         1  2888.0  35554.289632  35652.46465  35502.67000   \n",
       "4  1623542400         4   433.0      0.312167      0.31260      0.31192   \n",
       "\n",
       "          Close         Volume          VWAP  group_num  row_id  \n",
       "0      1.483681  654799.561103      1.481439          0       0  \n",
       "1    582.276667    1227.988328    581.697038          0       1  \n",
       "2    344.598000    1718.832569    344.441729          0       2  \n",
       "3  35602.004286     163.811537  35583.469303          0       3  \n",
       "4      0.312208  585577.410442      0.312154          0       4  "
      ]
     },
     "execution_count": 6,
     "metadata": {},
     "output_type": "execute_result"
    }
   ],
   "source": [
    "test.head()"
   ]
  },
  {
   "cell_type": "code",
   "execution_count": 7,
   "id": "b2646e4b86732a5e",
   "metadata": {
    "ExecuteTime": {
     "end_time": "2023-12-12T21:24:11.058940Z",
     "start_time": "2023-12-12T21:24:10.591625Z"
    },
    "collapsed": false,
    "jupyter": {
     "outputs_hidden": false
    }
   },
   "outputs": [
    {
     "data": {
      "text/plain": [
       "timestamp         0\n",
       "Asset_ID          0\n",
       "Count             0\n",
       "Open              0\n",
       "High              0\n",
       "Low               0\n",
       "Close             0\n",
       "Volume            0\n",
       "VWAP              9\n",
       "Target       750338\n",
       "dtype: int64"
      ]
     },
     "execution_count": 7,
     "metadata": {},
     "output_type": "execute_result"
    }
   ],
   "source": [
    "train.isna().sum()"
   ]
  },
  {
   "cell_type": "code",
   "execution_count": 8,
   "id": "b1295fee7ec4893",
   "metadata": {
    "ExecuteTime": {
     "end_time": "2023-12-12T21:24:11.060354Z",
     "start_time": "2023-12-12T21:24:11.052110Z"
    },
    "collapsed": false,
    "jupyter": {
     "outputs_hidden": false
    }
   },
   "outputs": [
    {
     "data": {
      "text/plain": [
       "timestamp    0\n",
       "Asset_ID     0\n",
       "Count        0\n",
       "Open         0\n",
       "High         0\n",
       "Low          0\n",
       "Close        0\n",
       "Volume       0\n",
       "VWAP         0\n",
       "group_num    0\n",
       "row_id       0\n",
       "dtype: int64"
      ]
     },
     "execution_count": 8,
     "metadata": {},
     "output_type": "execute_result"
    }
   ],
   "source": [
    "test.isna().sum()"
   ]
  },
  {
   "cell_type": "code",
   "execution_count": 9,
   "id": "bf9b0d4218df869a",
   "metadata": {
    "ExecuteTime": {
     "end_time": "2023-12-12T21:24:18.882802Z",
     "start_time": "2023-12-12T21:24:11.067214Z"
    },
    "collapsed": false,
    "jupyter": {
     "outputs_hidden": false
    }
   },
   "outputs": [
    {
     "data": {
      "text/html": [
       "<div>\n",
       "<style scoped>\n",
       "    .dataframe tbody tr th:only-of-type {\n",
       "        vertical-align: middle;\n",
       "    }\n",
       "\n",
       "    .dataframe tbody tr th {\n",
       "        vertical-align: top;\n",
       "    }\n",
       "\n",
       "    .dataframe thead th {\n",
       "        text-align: right;\n",
       "    }\n",
       "</style>\n",
       "<table border=\"1\" class=\"dataframe\">\n",
       "  <thead>\n",
       "    <tr style=\"text-align: right;\">\n",
       "      <th></th>\n",
       "      <th>timestamp</th>\n",
       "      <th>Asset_ID</th>\n",
       "      <th>Count</th>\n",
       "      <th>Open</th>\n",
       "      <th>High</th>\n",
       "      <th>Low</th>\n",
       "      <th>Close</th>\n",
       "      <th>Volume</th>\n",
       "      <th>VWAP</th>\n",
       "      <th>Target</th>\n",
       "    </tr>\n",
       "  </thead>\n",
       "  <tbody>\n",
       "    <tr>\n",
       "      <th>count</th>\n",
       "      <td>2.423681e+07</td>\n",
       "      <td>2.423681e+07</td>\n",
       "      <td>2.423681e+07</td>\n",
       "      <td>2.423681e+07</td>\n",
       "      <td>2.423681e+07</td>\n",
       "      <td>2.423681e+07</td>\n",
       "      <td>2.423681e+07</td>\n",
       "      <td>2.423681e+07</td>\n",
       "      <td>2.423680e+07</td>\n",
       "      <td>2.348647e+07</td>\n",
       "    </tr>\n",
       "    <tr>\n",
       "      <th>mean</th>\n",
       "      <td>1.577120e+09</td>\n",
       "      <td>6.292544e+00</td>\n",
       "      <td>2.864593e+02</td>\n",
       "      <td>1.432640e+03</td>\n",
       "      <td>1.436350e+03</td>\n",
       "      <td>1.429568e+03</td>\n",
       "      <td>1.432640e+03</td>\n",
       "      <td>2.868530e+05</td>\n",
       "      <td>NaN</td>\n",
       "      <td>7.121752e-06</td>\n",
       "    </tr>\n",
       "    <tr>\n",
       "      <th>std</th>\n",
       "      <td>3.323350e+07</td>\n",
       "      <td>4.091861e+00</td>\n",
       "      <td>8.673982e+02</td>\n",
       "      <td>6.029605e+03</td>\n",
       "      <td>6.039482e+03</td>\n",
       "      <td>6.020261e+03</td>\n",
       "      <td>6.029611e+03</td>\n",
       "      <td>2.433935e+06</td>\n",
       "      <td>NaN</td>\n",
       "      <td>5.679042e-03</td>\n",
       "    </tr>\n",
       "    <tr>\n",
       "      <th>min</th>\n",
       "      <td>1.514765e+09</td>\n",
       "      <td>0.000000e+00</td>\n",
       "      <td>1.000000e+00</td>\n",
       "      <td>1.170400e-03</td>\n",
       "      <td>1.195000e-03</td>\n",
       "      <td>2.000000e-04</td>\n",
       "      <td>1.171400e-03</td>\n",
       "      <td>-3.662812e-01</td>\n",
       "      <td>-inf</td>\n",
       "      <td>-5.093509e-01</td>\n",
       "    </tr>\n",
       "    <tr>\n",
       "      <th>25%</th>\n",
       "      <td>1.549011e+09</td>\n",
       "      <td>3.000000e+00</td>\n",
       "      <td>1.900000e+01</td>\n",
       "      <td>2.676500e-01</td>\n",
       "      <td>2.681600e-01</td>\n",
       "      <td>2.669000e-01</td>\n",
       "      <td>2.676483e-01</td>\n",
       "      <td>1.410725e+02</td>\n",
       "      <td>2.676368e-01</td>\n",
       "      <td>-1.694354e-03</td>\n",
       "    </tr>\n",
       "    <tr>\n",
       "      <th>50%</th>\n",
       "      <td>1.578372e+09</td>\n",
       "      <td>6.000000e+00</td>\n",
       "      <td>6.400000e+01</td>\n",
       "      <td>1.428860e+01</td>\n",
       "      <td>1.431250e+01</td>\n",
       "      <td>1.426300e+01</td>\n",
       "      <td>1.428920e+01</td>\n",
       "      <td>1.295415e+03</td>\n",
       "      <td>1.428769e+01</td>\n",
       "      <td>-4.289844e-05</td>\n",
       "    </tr>\n",
       "    <tr>\n",
       "      <th>75%</th>\n",
       "      <td>1.606198e+09</td>\n",
       "      <td>9.000000e+00</td>\n",
       "      <td>2.210000e+02</td>\n",
       "      <td>2.288743e+02</td>\n",
       "      <td>2.293000e+02</td>\n",
       "      <td>2.284200e+02</td>\n",
       "      <td>2.288729e+02</td>\n",
       "      <td>2.729764e+04</td>\n",
       "      <td>2.288728e+02</td>\n",
       "      <td>1.601520e-03</td>\n",
       "    </tr>\n",
       "    <tr>\n",
       "      <th>max</th>\n",
       "      <td>1.632182e+09</td>\n",
       "      <td>1.300000e+01</td>\n",
       "      <td>1.650160e+05</td>\n",
       "      <td>6.480594e+04</td>\n",
       "      <td>6.490000e+04</td>\n",
       "      <td>6.467053e+04</td>\n",
       "      <td>6.480854e+04</td>\n",
       "      <td>7.597554e+08</td>\n",
       "      <td>inf</td>\n",
       "      <td>9.641699e-01</td>\n",
       "    </tr>\n",
       "  </tbody>\n",
       "</table>\n",
       "</div>"
      ],
      "text/plain": [
       "          timestamp      Asset_ID         Count          Open          High  \\\n",
       "count  2.423681e+07  2.423681e+07  2.423681e+07  2.423681e+07  2.423681e+07   \n",
       "mean   1.577120e+09  6.292544e+00  2.864593e+02  1.432640e+03  1.436350e+03   \n",
       "std    3.323350e+07  4.091861e+00  8.673982e+02  6.029605e+03  6.039482e+03   \n",
       "min    1.514765e+09  0.000000e+00  1.000000e+00  1.170400e-03  1.195000e-03   \n",
       "25%    1.549011e+09  3.000000e+00  1.900000e+01  2.676500e-01  2.681600e-01   \n",
       "50%    1.578372e+09  6.000000e+00  6.400000e+01  1.428860e+01  1.431250e+01   \n",
       "75%    1.606198e+09  9.000000e+00  2.210000e+02  2.288743e+02  2.293000e+02   \n",
       "max    1.632182e+09  1.300000e+01  1.650160e+05  6.480594e+04  6.490000e+04   \n",
       "\n",
       "                Low         Close        Volume          VWAP        Target  \n",
       "count  2.423681e+07  2.423681e+07  2.423681e+07  2.423680e+07  2.348647e+07  \n",
       "mean   1.429568e+03  1.432640e+03  2.868530e+05           NaN  7.121752e-06  \n",
       "std    6.020261e+03  6.029611e+03  2.433935e+06           NaN  5.679042e-03  \n",
       "min    2.000000e-04  1.171400e-03 -3.662812e-01          -inf -5.093509e-01  \n",
       "25%    2.669000e-01  2.676483e-01  1.410725e+02  2.676368e-01 -1.694354e-03  \n",
       "50%    1.426300e+01  1.428920e+01  1.295415e+03  1.428769e+01 -4.289844e-05  \n",
       "75%    2.284200e+02  2.288729e+02  2.729764e+04  2.288728e+02  1.601520e-03  \n",
       "max    6.467053e+04  6.480854e+04  7.597554e+08           inf  9.641699e-01  "
      ]
     },
     "execution_count": 9,
     "metadata": {},
     "output_type": "execute_result"
    }
   ],
   "source": [
    "train.describe()"
   ]
  },
  {
   "cell_type": "code",
   "execution_count": 10,
   "id": "7d206e067fa15a7a",
   "metadata": {
    "ExecuteTime": {
     "end_time": "2023-12-12T21:24:18.903288Z",
     "start_time": "2023-12-12T21:24:18.879077Z"
    },
    "collapsed": false,
    "jupyter": {
     "outputs_hidden": false
    }
   },
   "outputs": [
    {
     "data": {
      "text/html": [
       "<div>\n",
       "<style scoped>\n",
       "    .dataframe tbody tr th:only-of-type {\n",
       "        vertical-align: middle;\n",
       "    }\n",
       "\n",
       "    .dataframe tbody tr th {\n",
       "        vertical-align: top;\n",
       "    }\n",
       "\n",
       "    .dataframe thead th {\n",
       "        text-align: right;\n",
       "    }\n",
       "</style>\n",
       "<table border=\"1\" class=\"dataframe\">\n",
       "  <thead>\n",
       "    <tr style=\"text-align: right;\">\n",
       "      <th></th>\n",
       "      <th>timestamp</th>\n",
       "      <th>Asset_ID</th>\n",
       "      <th>Count</th>\n",
       "      <th>Open</th>\n",
       "      <th>High</th>\n",
       "      <th>Low</th>\n",
       "      <th>Close</th>\n",
       "      <th>Volume</th>\n",
       "      <th>VWAP</th>\n",
       "      <th>group_num</th>\n",
       "      <th>row_id</th>\n",
       "    </tr>\n",
       "  </thead>\n",
       "  <tbody>\n",
       "    <tr>\n",
       "      <th>count</th>\n",
       "      <td>5.600000e+01</td>\n",
       "      <td>56.00000</td>\n",
       "      <td>56.000000</td>\n",
       "      <td>56.000000</td>\n",
       "      <td>56.000000</td>\n",
       "      <td>56.000000</td>\n",
       "      <td>56.000000</td>\n",
       "      <td>5.600000e+01</td>\n",
       "      <td>56.000000</td>\n",
       "      <td>56.000000</td>\n",
       "      <td>56.000000</td>\n",
       "    </tr>\n",
       "    <tr>\n",
       "      <th>mean</th>\n",
       "      <td>1.623542e+09</td>\n",
       "      <td>6.50000</td>\n",
       "      <td>739.535714</td>\n",
       "      <td>3017.680422</td>\n",
       "      <td>3021.572698</td>\n",
       "      <td>3010.191113</td>\n",
       "      <td>3015.398331</td>\n",
       "      <td>4.440252e+05</td>\n",
       "      <td>3015.895414</td>\n",
       "      <td>1.500000</td>\n",
       "      <td>27.500000</td>\n",
       "    </tr>\n",
       "    <tr>\n",
       "      <th>std</th>\n",
       "      <td>6.768913e+01</td>\n",
       "      <td>4.06761</td>\n",
       "      <td>806.311917</td>\n",
       "      <td>9148.328623</td>\n",
       "      <td>9159.452237</td>\n",
       "      <td>9125.151477</td>\n",
       "      <td>9141.188374</td>\n",
       "      <td>1.027897e+06</td>\n",
       "      <td>9142.300540</td>\n",
       "      <td>1.128152</td>\n",
       "      <td>16.309506</td>\n",
       "    </tr>\n",
       "    <tr>\n",
       "      <th>min</th>\n",
       "      <td>1.623542e+09</td>\n",
       "      <td>0.00000</td>\n",
       "      <td>34.000000</td>\n",
       "      <td>0.068015</td>\n",
       "      <td>0.068055</td>\n",
       "      <td>0.067866</td>\n",
       "      <td>0.067936</td>\n",
       "      <td>1.187095e+00</td>\n",
       "      <td>0.067958</td>\n",
       "      <td>0.000000</td>\n",
       "      <td>0.000000</td>\n",
       "    </tr>\n",
       "    <tr>\n",
       "      <th>25%</th>\n",
       "      <td>1.623542e+09</td>\n",
       "      <td>3.00000</td>\n",
       "      <td>258.000000</td>\n",
       "      <td>1.002400</td>\n",
       "      <td>1.018800</td>\n",
       "      <td>0.983500</td>\n",
       "      <td>1.000538</td>\n",
       "      <td>6.911536e+02</td>\n",
       "      <td>1.000546</td>\n",
       "      <td>0.750000</td>\n",
       "      <td>13.750000</td>\n",
       "    </tr>\n",
       "    <tr>\n",
       "      <th>50%</th>\n",
       "      <td>1.623542e+09</td>\n",
       "      <td>6.50000</td>\n",
       "      <td>448.500000</td>\n",
       "      <td>108.591617</td>\n",
       "      <td>108.712000</td>\n",
       "      <td>108.226000</td>\n",
       "      <td>108.414840</td>\n",
       "      <td>2.494379e+03</td>\n",
       "      <td>108.447083</td>\n",
       "      <td>1.500000</td>\n",
       "      <td>27.500000</td>\n",
       "    </tr>\n",
       "    <tr>\n",
       "      <th>75%</th>\n",
       "      <td>1.623543e+09</td>\n",
       "      <td>10.00000</td>\n",
       "      <td>891.750000</td>\n",
       "      <td>580.817500</td>\n",
       "      <td>582.975000</td>\n",
       "      <td>579.692500</td>\n",
       "      <td>580.974167</td>\n",
       "      <td>2.965427e+05</td>\n",
       "      <td>581.061773</td>\n",
       "      <td>2.250000</td>\n",
       "      <td>41.250000</td>\n",
       "    </tr>\n",
       "    <tr>\n",
       "      <th>max</th>\n",
       "      <td>1.623543e+09</td>\n",
       "      <td>13.00000</td>\n",
       "      <td>3531.000000</td>\n",
       "      <td>35596.771429</td>\n",
       "      <td>35652.464650</td>\n",
       "      <td>35533.380000</td>\n",
       "      <td>35602.004286</td>\n",
       "      <td>4.981365e+06</td>\n",
       "      <td>35584.861196</td>\n",
       "      <td>3.000000</td>\n",
       "      <td>55.000000</td>\n",
       "    </tr>\n",
       "  </tbody>\n",
       "</table>\n",
       "</div>"
      ],
      "text/plain": [
       "          timestamp  Asset_ID        Count          Open          High  \\\n",
       "count  5.600000e+01  56.00000    56.000000     56.000000     56.000000   \n",
       "mean   1.623542e+09   6.50000   739.535714   3017.680422   3021.572698   \n",
       "std    6.768913e+01   4.06761   806.311917   9148.328623   9159.452237   \n",
       "min    1.623542e+09   0.00000    34.000000      0.068015      0.068055   \n",
       "25%    1.623542e+09   3.00000   258.000000      1.002400      1.018800   \n",
       "50%    1.623542e+09   6.50000   448.500000    108.591617    108.712000   \n",
       "75%    1.623543e+09  10.00000   891.750000    580.817500    582.975000   \n",
       "max    1.623543e+09  13.00000  3531.000000  35596.771429  35652.464650   \n",
       "\n",
       "                Low         Close        Volume          VWAP  group_num  \\\n",
       "count     56.000000     56.000000  5.600000e+01     56.000000  56.000000   \n",
       "mean    3010.191113   3015.398331  4.440252e+05   3015.895414   1.500000   \n",
       "std     9125.151477   9141.188374  1.027897e+06   9142.300540   1.128152   \n",
       "min        0.067866      0.067936  1.187095e+00      0.067958   0.000000   \n",
       "25%        0.983500      1.000538  6.911536e+02      1.000546   0.750000   \n",
       "50%      108.226000    108.414840  2.494379e+03    108.447083   1.500000   \n",
       "75%      579.692500    580.974167  2.965427e+05    581.061773   2.250000   \n",
       "max    35533.380000  35602.004286  4.981365e+06  35584.861196   3.000000   \n",
       "\n",
       "          row_id  \n",
       "count  56.000000  \n",
       "mean   27.500000  \n",
       "std    16.309506  \n",
       "min     0.000000  \n",
       "25%    13.750000  \n",
       "50%    27.500000  \n",
       "75%    41.250000  \n",
       "max    55.000000  "
      ]
     },
     "execution_count": 10,
     "metadata": {},
     "output_type": "execute_result"
    }
   ],
   "source": [
    "test.describe()"
   ]
  },
  {
   "cell_type": "code",
   "execution_count": 11,
   "id": "8d00762f1f0c8712",
   "metadata": {
    "ExecuteTime": {
     "end_time": "2023-12-12T21:24:18.929384Z",
     "start_time": "2023-12-12T21:24:18.908204Z"
    },
    "collapsed": false,
    "jupyter": {
     "outputs_hidden": false
    }
   },
   "outputs": [
    {
     "data": {
      "text/html": [
       "<div>\n",
       "<style scoped>\n",
       "    .dataframe tbody tr th:only-of-type {\n",
       "        vertical-align: middle;\n",
       "    }\n",
       "\n",
       "    .dataframe tbody tr th {\n",
       "        vertical-align: top;\n",
       "    }\n",
       "\n",
       "    .dataframe thead th {\n",
       "        text-align: right;\n",
       "    }\n",
       "</style>\n",
       "<table border=\"1\" class=\"dataframe\">\n",
       "  <thead>\n",
       "    <tr style=\"text-align: right;\">\n",
       "      <th></th>\n",
       "      <th>Asset_ID</th>\n",
       "      <th>Weight</th>\n",
       "      <th>Asset_Name</th>\n",
       "    </tr>\n",
       "  </thead>\n",
       "  <tbody>\n",
       "    <tr>\n",
       "      <th>0</th>\n",
       "      <td>0</td>\n",
       "      <td>4.304065</td>\n",
       "      <td>Binance Coin</td>\n",
       "    </tr>\n",
       "    <tr>\n",
       "      <th>1</th>\n",
       "      <td>1</td>\n",
       "      <td>6.779922</td>\n",
       "      <td>Bitcoin</td>\n",
       "    </tr>\n",
       "    <tr>\n",
       "      <th>2</th>\n",
       "      <td>2</td>\n",
       "      <td>2.397895</td>\n",
       "      <td>Bitcoin Cash</td>\n",
       "    </tr>\n",
       "    <tr>\n",
       "      <th>3</th>\n",
       "      <td>3</td>\n",
       "      <td>4.406719</td>\n",
       "      <td>Cardano</td>\n",
       "    </tr>\n",
       "    <tr>\n",
       "      <th>4</th>\n",
       "      <td>4</td>\n",
       "      <td>3.555348</td>\n",
       "      <td>Dogecoin</td>\n",
       "    </tr>\n",
       "    <tr>\n",
       "      <th>5</th>\n",
       "      <td>5</td>\n",
       "      <td>1.386294</td>\n",
       "      <td>EOS.IO</td>\n",
       "    </tr>\n",
       "    <tr>\n",
       "      <th>6</th>\n",
       "      <td>6</td>\n",
       "      <td>5.894403</td>\n",
       "      <td>Ethereum</td>\n",
       "    </tr>\n",
       "    <tr>\n",
       "      <th>7</th>\n",
       "      <td>7</td>\n",
       "      <td>2.079442</td>\n",
       "      <td>Ethereum Classic</td>\n",
       "    </tr>\n",
       "    <tr>\n",
       "      <th>8</th>\n",
       "      <td>8</td>\n",
       "      <td>1.098612</td>\n",
       "      <td>IOTA</td>\n",
       "    </tr>\n",
       "    <tr>\n",
       "      <th>9</th>\n",
       "      <td>9</td>\n",
       "      <td>2.397895</td>\n",
       "      <td>Litecoin</td>\n",
       "    </tr>\n",
       "    <tr>\n",
       "      <th>10</th>\n",
       "      <td>10</td>\n",
       "      <td>1.098612</td>\n",
       "      <td>Maker</td>\n",
       "    </tr>\n",
       "    <tr>\n",
       "      <th>11</th>\n",
       "      <td>11</td>\n",
       "      <td>1.609438</td>\n",
       "      <td>Monero</td>\n",
       "    </tr>\n",
       "    <tr>\n",
       "      <th>12</th>\n",
       "      <td>12</td>\n",
       "      <td>2.079442</td>\n",
       "      <td>Stellar</td>\n",
       "    </tr>\n",
       "    <tr>\n",
       "      <th>13</th>\n",
       "      <td>13</td>\n",
       "      <td>1.791759</td>\n",
       "      <td>TRON</td>\n",
       "    </tr>\n",
       "  </tbody>\n",
       "</table>\n",
       "</div>"
      ],
      "text/plain": [
       "    Asset_ID    Weight        Asset_Name\n",
       "0          0  4.304065      Binance Coin\n",
       "1          1  6.779922           Bitcoin\n",
       "2          2  2.397895      Bitcoin Cash\n",
       "3          3  4.406719           Cardano\n",
       "4          4  3.555348          Dogecoin\n",
       "5          5  1.386294            EOS.IO\n",
       "6          6  5.894403          Ethereum\n",
       "7          7  2.079442  Ethereum Classic\n",
       "8          8  1.098612              IOTA\n",
       "9          9  2.397895          Litecoin\n",
       "10        10  1.098612             Maker\n",
       "11        11  1.609438            Monero\n",
       "12        12  2.079442           Stellar\n",
       "13        13  1.791759              TRON"
      ]
     },
     "execution_count": 11,
     "metadata": {},
     "output_type": "execute_result"
    }
   ],
   "source": [
    "asset_details.sort_values(by=\"Asset_ID\",ascending=True,inplace=True)\n",
    "asset_details.reset_index(drop=True,inplace=True)\n",
    "asset_details"
   ]
  },
  {
   "cell_type": "markdown",
   "id": "91739759aafdca1e",
   "metadata": {
    "collapsed": false,
    "jupyter": {
     "outputs_hidden": false
    }
   },
   "source": [
    "#### Task 3: Timestamps\n",
    "\n",
    "In this you’ll understand how we convert date time to timestamps."
   ]
  },
  {
   "cell_type": "code",
   "execution_count": 12,
   "id": "371a0240b5c614f7",
   "metadata": {
    "ExecuteTime": {
     "end_time": "2023-12-12T21:24:18.930102Z",
     "start_time": "2023-12-12T21:24:18.913756Z"
    },
    "collapsed": false,
    "jupyter": {
     "outputs_hidden": false
    }
   },
   "outputs": [],
   "source": [
    "datetime_to_timestamp = lambda x: x.timestamp()"
   ]
  },
  {
   "cell_type": "markdown",
   "id": "4ae3066f4cc74746",
   "metadata": {
    "collapsed": false,
    "jupyter": {
     "outputs_hidden": false
    }
   },
   "source": [
    "### Module 3: Plotting - Data Visualization\n",
    "\n",
    "Data visualization is the representation of data through the use of common graphics, such as charts, plots, infographics, and even animations. In our project, we use heatmaps, correlation matrices, and other plots to have an interesting detailed view of coin prices.\n",
    "\n",
    "**Advantages:**\n",
    "\n",
    "* Easily sharing information\n",
    "* Interactively explore opportunities\n",
    "* Visualize patterns and relationships"
   ]
  },
  {
   "cell_type": "code",
   "execution_count": 12,
   "id": "ce54eff0dc78cd39",
   "metadata": {
    "ExecuteTime": {
     "end_time": "2023-12-12T21:24:18.930824Z",
     "start_time": "2023-12-12T21:24:18.916641Z"
    },
    "collapsed": false,
    "jupyter": {
     "outputs_hidden": false
    }
   },
   "outputs": [],
   "source": []
  },
  {
   "cell_type": "markdown",
   "id": "3193f1bb374c0b22",
   "metadata": {
    "collapsed": false,
    "jupyter": {
     "outputs_hidden": false
    }
   },
   "source": [
    "#### Task 1: Plotting BTC and ETH\n",
    "\n",
    "In this you’ll understand how we create some interesting plots for BTC and ETH and compare their changes with respect to each other."
   ]
  },
  {
   "cell_type": "code",
   "execution_count": 13,
   "id": "40b39942ae12a1f5",
   "metadata": {
    "ExecuteTime": {
     "end_time": "2023-12-12T21:24:26.387476Z",
     "start_time": "2023-12-12T21:24:26.384372Z"
    },
    "collapsed": false,
    "jupyter": {
     "outputs_hidden": false
    }
   },
   "outputs": [],
   "source": [
    "def retrieve_crypto_id(asset_details,asset):\n",
    "    asset_id = asset_details[asset_details[\"Asset_Name\"]==asset][\"Asset_ID\"].values[0]\n",
    "    return asset_id\n",
    "def retrieve_crypto_name(asset_details,asset_id):\n",
    "    asset = asset_details[asset_details[\"Asset_ID\"]==asset_id][\"Asset_Name\"].values[0]\n",
    "    return asset"
   ]
  },
  {
   "cell_type": "code",
   "execution_count": 14,
   "id": "cb47422afb32378b",
   "metadata": {
    "ExecuteTime": {
     "end_time": "2023-12-12T21:24:28.635734Z",
     "start_time": "2023-12-12T21:24:27.289767Z"
    },
    "collapsed": false,
    "jupyter": {
     "outputs_hidden": false
    }
   },
   "outputs": [],
   "source": [
    "btc_asset_id = retrieve_crypto_id(asset_details,\"Bitcoin\")\n",
    "eth_asset_id = retrieve_crypto_id(asset_details,\"Ethereum\")\n",
    "\n",
    "btc = train[train[\"Asset_ID\"]==btc_asset_id][[\"timestamp\",\"Count\",\"Open\",\"High\",\"Low\",\"Close\",\"Volume\",\"VWAP\"]].reset_index(drop=True)\n",
    "eth = train[train[\"Asset_ID\"]==eth_asset_id][[\"timestamp\",\"Count\",\"Open\",\"High\",\"Low\",\"Close\",\"Volume\",\"VWAP\"]].reset_index(drop=True)\n",
    "\n",
    "btc_corr = btc.drop(columns=\"timestamp\").corr()\n",
    "eth_corr = eth.drop(columns=\"timestamp\").corr()"
   ]
  },
  {
   "cell_type": "code",
   "execution_count": 15,
   "id": "29d4dae1f33eb502",
   "metadata": {
    "ExecuteTime": {
     "end_time": "2023-12-12T21:24:30.184133Z",
     "start_time": "2023-12-12T21:24:29.823555Z"
    },
    "collapsed": false,
    "jupyter": {
     "outputs_hidden": false
    }
   },
   "outputs": [
    {
     "data": {
      "text/plain": [
       "<Axes: >"
      ]
     },
     "execution_count": 15,
     "metadata": {},
     "output_type": "execute_result"
    },
    {
     "data": {
      "image/png": "[encoded data removed]",
      "text/plain": [
       "<Figure size 640x480 with 2 Axes>"
      ]
     },
     "metadata": {},
     "output_type": "display_data"
    }
   ],
   "source": [
    "sns.heatmap(btc_corr,annot=True,cmap=\"Spectral\")"
   ]
  },
  {
   "cell_type": "code",
   "execution_count": 16,
   "id": "df14f65043d2e7d2",
   "metadata": {
    "ExecuteTime": {
     "end_time": "2023-12-12T21:24:32.691629Z",
     "start_time": "2023-12-12T21:24:32.554692Z"
    },
    "collapsed": false,
    "jupyter": {
     "outputs_hidden": false
    }
   },
   "outputs": [
    {
     "data": {
      "text/plain": [
       "<Axes: >"
      ]
     },
     "execution_count": 16,
     "metadata": {},
     "output_type": "execute_result"
    },
    {
     "data": {
      "image/png": "[encoded data removed]",
      "text/plain": [
       "<Figure size 640x480 with 2 Axes>"
      ]
     },
     "metadata": {},
     "output_type": "display_data"
    }
   ],
   "source": [
    "sns.heatmap(eth_corr,annot=True,cmap=\"PRGn\")"
   ]
  },
  {
   "cell_type": "code",
   "execution_count": 17,
   "id": "54133a68450e6e45",
   "metadata": {
    "ExecuteTime": {
     "end_time": "2023-12-12T21:36:14.629953Z",
     "start_time": "2023-12-12T21:25:33.953544Z"
    },
    "collapsed": false,
    "jupyter": {
     "outputs_hidden": false
    }
   },
   "outputs": [
    {
     "data": {
      "text/plain": [
       "Text(0.5, 1.0, 'Ethereum Closing Price')"
      ]
     },
     "execution_count": 17,
     "metadata": {},
     "output_type": "execute_result"
    },
    {
     "data": {
      "image/png": "[encoded data removed]",
      "text/plain": [
       "<Figure size 1500x1000 with 2 Axes>"
      ]
     },
     "metadata": {},
     "output_type": "display_data"
    }
   ],
   "source": [
    "btc_close = btc[[\"timestamp\",\"Close\"]]\n",
    "eth_close = eth[[\"timestamp\",\"Close\"]]\n",
    "btc_close[\"timestamp\"] = list(map(lambda x: pd.Timestamp(datetime.fromtimestamp(x)),btc_close[\"timestamp\"]))\n",
    "eth_close[\"timestamp\"] = list(map(lambda x: pd.Timestamp(datetime.fromtimestamp(x)),eth_close[\"timestamp\"]))\n",
    "fig,ax = plt.subplots(nrows=1,ncols=2,figsize=(15,10),sharex=True,sharey=True)\n",
    "sns.lineplot(ax=ax[0],x=btc_close[\"timestamp\"],y=btc_close[\"Close\"],color=\"red\")\n",
    "ax[0].set_title(\"Bitcoin Closing Price\")\n",
    "sns.lineplot(ax=ax[1],x=eth_close[\"timestamp\"],y=eth_close[\"Close\"],color=\"yellow\")\n",
    "ax[1].set_title(\"Ethereum Closing Price\")"
   ]
  },
  {
   "cell_type": "code",
   "execution_count": 18,
   "id": "5b88c1f437c7a349",
   "metadata": {
    "ExecuteTime": {
     "end_time": "2023-12-12T21:36:26.073017Z",
     "start_time": "2023-12-12T21:36:25.768265Z"
    },
    "collapsed": false,
    "jupyter": {
     "outputs_hidden": false
    }
   },
   "outputs": [
    {
     "data": {
      "text/plain": [
       "<Axes: >"
      ]
     },
     "execution_count": 18,
     "metadata": {},
     "output_type": "execute_result"
    },
    {
     "data": {
      "image/png": "[encoded data removed]",
      "text/plain": [
       "<Figure size 1200x1200 with 2 Axes>"
      ]
     },
     "metadata": {},
     "output_type": "display_data"
    }
   ],
   "source": [
    "train_10000 = train[-10000:].reset_index()\n",
    "corr_df = pd.DataFrame()\n",
    "for i in asset_details[\"Asset_ID\"]:\n",
    "    corr_df[i] = train_10000[train_10000[\"Asset_ID\"]==i][\"Target\"].reset_index(drop=True)\n",
    "corr_df.drop(columns=10,inplace=True)\n",
    "corr_df.dropna(axis=0,ignore_index=True,inplace=True)\n",
    "col = asset_details[asset_details[\"Asset_ID\"]!=10][\"Asset_Name\"].values\n",
    "corr_df.columns = col\n",
    "fig, ax = plt.subplots(nrows=1,ncols=1,figsize=(12,12))\n",
    "sns.heatmap(ax=ax,data=corr_df.corr(),annot=True,cmap=\"viridis\")"
   ]
  },
  {
   "cell_type": "code",
   "execution_count": 18,
   "id": "3dd77260c924398",
   "metadata": {
    "ExecuteTime": {
     "end_time": "2023-12-12T21:36:26.778542Z",
     "start_time": "2023-12-12T21:36:26.772043Z"
    },
    "collapsed": false,
    "jupyter": {
     "outputs_hidden": false
    }
   },
   "outputs": [],
   "source": []
  },
  {
   "cell_type": "markdown",
   "id": "fb2a0d56eb04b5d9",
   "metadata": {
    "collapsed": false,
    "jupyter": {
     "outputs_hidden": false
    }
   },
   "source": [
    "### Module 4: Prediction\n",
    "\n",
    "LightGBM is a gradient boosting framework that uses tree based learning algorithms. It is designed to be distributed and efficient with the following advantages:\n",
    "\n",
    "* Faster training speed and higher efficiency (6 times faster than XGBoost)\n",
    "* Lower memory usage\n",
    "* Better accuracy\n",
    "* Support of parallel, distributed, and GPU learning\n",
    "* Capable of handling large-scale data\n",
    "\n",
    "Only situation where LGBM is not advised is with small datasets because of its sensitivity to overfitting. We will harness this powerful ML model to make predictions based on a large dataset containing 4 years worth of cryptocurrency data."
   ]
  },
  {
   "cell_type": "code",
   "execution_count": 18,
   "id": "bedd8918c6c4196",
   "metadata": {
    "ExecuteTime": {
     "end_time": "2023-12-12T21:36:27.853583Z",
     "start_time": "2023-12-12T21:36:27.828557Z"
    },
    "collapsed": false,
    "jupyter": {
     "outputs_hidden": false
    }
   },
   "outputs": [],
   "source": []
  },
  {
   "cell_type": "markdown",
   "id": "28759f6d8aa4090",
   "metadata": {
    "collapsed": false,
    "jupyter": {
     "outputs_hidden": false
    }
   },
   "source": [
    "#### Task 1: Feature Engineering\n",
    "\n",
    "In this you’ll understand how we create some new features using fields from data."
   ]
  },
  {
   "cell_type": "code",
   "execution_count": 19,
   "id": "c2896885dbd0e8b1",
   "metadata": {
    "ExecuteTime": {
     "end_time": "2023-12-12T21:36:48.370685Z",
     "start_time": "2023-12-12T21:36:28.980815Z"
    },
    "collapsed": false,
    "jupyter": {
     "outputs_hidden": false
    }
   },
   "outputs": [],
   "source": [
    "def get_features(df):\n",
    "    df[\"hlco_ratio\"] = list(map((lambda a,b,c,d: (a - b)/(c - d) if (c-d)!=0 else np.nan),df[\"High\"],df[\"Low\"],df[\"Close\"],df[\"Open\"]))\n",
    "    df[\"upper_shadow\"] = list(map((lambda a,b,c: (a - max(b, c))),df[\"High\"],df[\"Close\"],df[\"Open\"]))\n",
    "    df[\"lower_shadow\"] = list(map((lambda a,b,c: (min(a, b) - c)),df[\"Close\"],df[\"Open\"],df[\"Low\"]))\n",
    "    return df\n",
    "\n",
    "df_train_1 = get_features(train)\n",
    "df_test_1 = get_features(test)"
   ]
  },
  {
   "cell_type": "code",
   "execution_count": 20,
   "id": "c8f2b963a3e05874",
   "metadata": {
    "ExecuteTime": {
     "end_time": "2023-12-12T21:36:48.377092Z",
     "start_time": "2023-12-12T21:36:48.370336Z"
    },
    "collapsed": false,
    "jupyter": {
     "outputs_hidden": false
    }
   },
   "outputs": [
    {
     "data": {
      "text/html": [
       "<div>\n",
       "<style scoped>\n",
       "    .dataframe tbody tr th:only-of-type {\n",
       "        vertical-align: middle;\n",
       "    }\n",
       "\n",
       "    .dataframe tbody tr th {\n",
       "        vertical-align: top;\n",
       "    }\n",
       "\n",
       "    .dataframe thead th {\n",
       "        text-align: right;\n",
       "    }\n",
       "</style>\n",
       "<table border=\"1\" class=\"dataframe\">\n",
       "  <thead>\n",
       "    <tr style=\"text-align: right;\">\n",
       "      <th></th>\n",
       "      <th>timestamp</th>\n",
       "      <th>Asset_ID</th>\n",
       "      <th>Count</th>\n",
       "      <th>Open</th>\n",
       "      <th>High</th>\n",
       "      <th>Low</th>\n",
       "      <th>Close</th>\n",
       "      <th>Volume</th>\n",
       "      <th>VWAP</th>\n",
       "      <th>Target</th>\n",
       "      <th>hlco_ratio</th>\n",
       "      <th>upper_shadow</th>\n",
       "      <th>lower_shadow</th>\n",
       "    </tr>\n",
       "  </thead>\n",
       "  <tbody>\n",
       "    <tr>\n",
       "      <th>0</th>\n",
       "      <td>1530202800</td>\n",
       "      <td>12</td>\n",
       "      <td>10.0</td>\n",
       "      <td>0.190815</td>\n",
       "      <td>0.191320</td>\n",
       "      <td>0.19015</td>\n",
       "      <td>0.190740</td>\n",
       "      <td>32450.372000</td>\n",
       "      <td>0.190800</td>\n",
       "      <td>0.001392</td>\n",
       "      <td>-15.600000</td>\n",
       "      <td>0.000505</td>\n",
       "      <td>0.000590</td>\n",
       "    </tr>\n",
       "    <tr>\n",
       "      <th>1</th>\n",
       "      <td>1530202860</td>\n",
       "      <td>3</td>\n",
       "      <td>19.0</td>\n",
       "      <td>0.125492</td>\n",
       "      <td>0.125594</td>\n",
       "      <td>0.12539</td>\n",
       "      <td>0.125431</td>\n",
       "      <td>57357.220500</td>\n",
       "      <td>0.125477</td>\n",
       "      <td>0.002543</td>\n",
       "      <td>-3.344262</td>\n",
       "      <td>0.000102</td>\n",
       "      <td>0.000041</td>\n",
       "    </tr>\n",
       "    <tr>\n",
       "      <th>2</th>\n",
       "      <td>1530202860</td>\n",
       "      <td>2</td>\n",
       "      <td>12.0</td>\n",
       "      <td>697.195000</td>\n",
       "      <td>698.140000</td>\n",
       "      <td>696.50000</td>\n",
       "      <td>697.220000</td>\n",
       "      <td>1.461400</td>\n",
       "      <td>697.222803</td>\n",
       "      <td>-0.001323</td>\n",
       "      <td>65.600000</td>\n",
       "      <td>0.920000</td>\n",
       "      <td>0.695000</td>\n",
       "    </tr>\n",
       "    <tr>\n",
       "      <th>3</th>\n",
       "      <td>1530202860</td>\n",
       "      <td>0</td>\n",
       "      <td>8.0</td>\n",
       "      <td>14.649900</td>\n",
       "      <td>14.649900</td>\n",
       "      <td>14.63000</td>\n",
       "      <td>14.639500</td>\n",
       "      <td>515.100000</td>\n",
       "      <td>14.637003</td>\n",
       "      <td>-0.002171</td>\n",
       "      <td>-1.913462</td>\n",
       "      <td>0.000000</td>\n",
       "      <td>0.009500</td>\n",
       "    </tr>\n",
       "    <tr>\n",
       "      <th>4</th>\n",
       "      <td>1530202860</td>\n",
       "      <td>1</td>\n",
       "      <td>131.0</td>\n",
       "      <td>6106.436890</td>\n",
       "      <td>6114.840000</td>\n",
       "      <td>6100.00000</td>\n",
       "      <td>6106.002890</td>\n",
       "      <td>8.465268</td>\n",
       "      <td>6106.365069</td>\n",
       "      <td>-0.000313</td>\n",
       "      <td>-34.193548</td>\n",
       "      <td>8.403110</td>\n",
       "      <td>6.002890</td>\n",
       "    </tr>\n",
       "  </tbody>\n",
       "</table>\n",
       "</div>"
      ],
      "text/plain": [
       "    timestamp  Asset_ID  Count         Open         High         Low  \\\n",
       "0  1530202800        12   10.0     0.190815     0.191320     0.19015   \n",
       "1  1530202860         3   19.0     0.125492     0.125594     0.12539   \n",
       "2  1530202860         2   12.0   697.195000   698.140000   696.50000   \n",
       "3  1530202860         0    8.0    14.649900    14.649900    14.63000   \n",
       "4  1530202860         1  131.0  6106.436890  6114.840000  6100.00000   \n",
       "\n",
       "         Close        Volume         VWAP    Target  hlco_ratio  upper_shadow  \\\n",
       "0     0.190740  32450.372000     0.190800  0.001392  -15.600000      0.000505   \n",
       "1     0.125431  57357.220500     0.125477  0.002543   -3.344262      0.000102   \n",
       "2   697.220000      1.461400   697.222803 -0.001323   65.600000      0.920000   \n",
       "3    14.639500    515.100000    14.637003 -0.002171   -1.913462      0.000000   \n",
       "4  6106.002890      8.465268  6106.365069 -0.000313  -34.193548      8.403110   \n",
       "\n",
       "   lower_shadow  \n",
       "0      0.000590  \n",
       "1      0.000041  \n",
       "2      0.695000  \n",
       "3      0.009500  \n",
       "4      6.002890  "
      ]
     },
     "execution_count": 20,
     "metadata": {},
     "output_type": "execute_result"
    }
   ],
   "source": [
    "df_train_1.head()"
   ]
  },
  {
   "cell_type": "code",
   "execution_count": 21,
   "id": "710f457b0a1d5643",
   "metadata": {
    "ExecuteTime": {
     "end_time": "2023-12-12T21:36:48.380533Z",
     "start_time": "2023-12-12T21:36:48.377554Z"
    },
    "collapsed": false,
    "jupyter": {
     "outputs_hidden": false
    }
   },
   "outputs": [
    {
     "data": {
      "text/html": [
       "<div>\n",
       "<style scoped>\n",
       "    .dataframe tbody tr th:only-of-type {\n",
       "        vertical-align: middle;\n",
       "    }\n",
       "\n",
       "    .dataframe tbody tr th {\n",
       "        vertical-align: top;\n",
       "    }\n",
       "\n",
       "    .dataframe thead th {\n",
       "        text-align: right;\n",
       "    }\n",
       "</style>\n",
       "<table border=\"1\" class=\"dataframe\">\n",
       "  <thead>\n",
       "    <tr style=\"text-align: right;\">\n",
       "      <th></th>\n",
       "      <th>timestamp</th>\n",
       "      <th>Asset_ID</th>\n",
       "      <th>Count</th>\n",
       "      <th>Open</th>\n",
       "      <th>High</th>\n",
       "      <th>Low</th>\n",
       "      <th>Close</th>\n",
       "      <th>Volume</th>\n",
       "      <th>VWAP</th>\n",
       "      <th>group_num</th>\n",
       "      <th>row_id</th>\n",
       "      <th>hlco_ratio</th>\n",
       "      <th>upper_shadow</th>\n",
       "      <th>lower_shadow</th>\n",
       "    </tr>\n",
       "  </thead>\n",
       "  <tbody>\n",
       "    <tr>\n",
       "      <th>0</th>\n",
       "      <td>1623542400</td>\n",
       "      <td>3</td>\n",
       "      <td>1201.0</td>\n",
       "      <td>1.478556</td>\n",
       "      <td>1.48603</td>\n",
       "      <td>1.47800</td>\n",
       "      <td>1.483681</td>\n",
       "      <td>654799.561103</td>\n",
       "      <td>1.481439</td>\n",
       "      <td>0</td>\n",
       "      <td>0</td>\n",
       "      <td>1.566676</td>\n",
       "      <td>0.002349</td>\n",
       "      <td>0.000556</td>\n",
       "    </tr>\n",
       "    <tr>\n",
       "      <th>1</th>\n",
       "      <td>1623542400</td>\n",
       "      <td>2</td>\n",
       "      <td>1020.0</td>\n",
       "      <td>580.306667</td>\n",
       "      <td>583.89000</td>\n",
       "      <td>579.91000</td>\n",
       "      <td>582.276667</td>\n",
       "      <td>1227.988328</td>\n",
       "      <td>581.697038</td>\n",
       "      <td>0</td>\n",
       "      <td>1</td>\n",
       "      <td>2.020305</td>\n",
       "      <td>1.613333</td>\n",
       "      <td>0.396667</td>\n",
       "    </tr>\n",
       "    <tr>\n",
       "      <th>2</th>\n",
       "      <td>1623542400</td>\n",
       "      <td>0</td>\n",
       "      <td>626.0</td>\n",
       "      <td>343.789500</td>\n",
       "      <td>345.10800</td>\n",
       "      <td>343.64000</td>\n",
       "      <td>344.598000</td>\n",
       "      <td>1718.832569</td>\n",
       "      <td>344.441729</td>\n",
       "      <td>0</td>\n",
       "      <td>2</td>\n",
       "      <td>1.815708</td>\n",
       "      <td>0.510000</td>\n",
       "      <td>0.149500</td>\n",
       "    </tr>\n",
       "    <tr>\n",
       "      <th>3</th>\n",
       "      <td>1623542400</td>\n",
       "      <td>1</td>\n",
       "      <td>2888.0</td>\n",
       "      <td>35554.289632</td>\n",
       "      <td>35652.46465</td>\n",
       "      <td>35502.67000</td>\n",
       "      <td>35602.004286</td>\n",
       "      <td>163.811537</td>\n",
       "      <td>35583.469303</td>\n",
       "      <td>0</td>\n",
       "      <td>3</td>\n",
       "      <td>3.139385</td>\n",
       "      <td>50.460364</td>\n",
       "      <td>51.619632</td>\n",
       "    </tr>\n",
       "    <tr>\n",
       "      <th>4</th>\n",
       "      <td>1623542400</td>\n",
       "      <td>4</td>\n",
       "      <td>433.0</td>\n",
       "      <td>0.312167</td>\n",
       "      <td>0.31260</td>\n",
       "      <td>0.31192</td>\n",
       "      <td>0.312208</td>\n",
       "      <td>585577.410442</td>\n",
       "      <td>0.312154</td>\n",
       "      <td>0</td>\n",
       "      <td>4</td>\n",
       "      <td>16.425121</td>\n",
       "      <td>0.000392</td>\n",
       "      <td>0.000247</td>\n",
       "    </tr>\n",
       "  </tbody>\n",
       "</table>\n",
       "</div>"
      ],
      "text/plain": [
       "    timestamp  Asset_ID   Count          Open         High          Low  \\\n",
       "0  1623542400         3  1201.0      1.478556      1.48603      1.47800   \n",
       "1  1623542400         2  1020.0    580.306667    583.89000    579.91000   \n",
       "2  1623542400         0   626.0    343.789500    345.10800    343.64000   \n",
       "3  1623542400         1  2888.0  35554.289632  35652.46465  35502.67000   \n",
       "4  1623542400         4   433.0      0.312167      0.31260      0.31192   \n",
       "\n",
       "          Close         Volume          VWAP  group_num  row_id  hlco_ratio  \\\n",
       "0      1.483681  654799.561103      1.481439          0       0    1.566676   \n",
       "1    582.276667    1227.988328    581.697038          0       1    2.020305   \n",
       "2    344.598000    1718.832569    344.441729          0       2    1.815708   \n",
       "3  35602.004286     163.811537  35583.469303          0       3    3.139385   \n",
       "4      0.312208  585577.410442      0.312154          0       4   16.425121   \n",
       "\n",
       "   upper_shadow  lower_shadow  \n",
       "0      0.002349      0.000556  \n",
       "1      1.613333      0.396667  \n",
       "2      0.510000      0.149500  \n",
       "3     50.460364     51.619632  \n",
       "4      0.000392      0.000247  "
      ]
     },
     "execution_count": 21,
     "metadata": {},
     "output_type": "execute_result"
    }
   ],
   "source": [
    "df_test_1.head()"
   ]
  },
  {
   "cell_type": "code",
   "execution_count": 22,
   "id": "f68d650b1ddc2c8",
   "metadata": {
    "ExecuteTime": {
     "end_time": "2023-12-12T21:37:02.073888Z",
     "start_time": "2023-12-12T21:36:48.383489Z"
    },
    "collapsed": false,
    "jupyter": {
     "outputs_hidden": false
    }
   },
   "outputs": [],
   "source": [
    "def retrieve_data_for_each_asset(df):\n",
    "    df_asset = {}\n",
    "    for i in asset_details[\"Asset_Name\"]:\n",
    "        id = retrieve_crypto_id(asset_details,i)\n",
    "        df_asset[i] = df[df[\"Asset_ID\"]==id].reset_index(drop=True).drop(columns=[\"timestamp\",\"Asset_ID\"]).dropna(how=\"any\").reset_index(drop=True)\n",
    "    return df_asset\n",
    "\n",
    "\n",
    "df_train = retrieve_data_for_each_asset(df_train_1)\n",
    "df_test = retrieve_data_for_each_asset(df_test_1)"
   ]
  },
  {
   "cell_type": "markdown",
   "id": "45d692ad6f29cbfa",
   "metadata": {
    "collapsed": false,
    "jupyter": {
     "outputs_hidden": false
    }
   },
   "source": [
    "#### Task 2: Building LGBM Model\n",
    "\n",
    "In this you’ll understand how we will build the model."
   ]
  },
  {
   "cell_type": "code",
   "execution_count": 23,
   "id": "db1614de6faa1c3a",
   "metadata": {
    "ExecuteTime": {
     "end_time": "2023-12-12T21:37:02.080354Z",
     "start_time": "2023-12-12T21:37:02.073888Z"
    },
    "collapsed": false,
    "jupyter": {
     "outputs_hidden": false
    }
   },
   "outputs": [],
   "source": [
    "def get_asset_model(df,asset_name,leaves=31,learning_rate=0.1,depth=-1):\n",
    "    X = df[asset_name].drop(columns=[\"Target\"]).reset_index(drop=True)\n",
    "    y = df[asset_name][\"Target\"].reset_index(drop=True)\n",
    "    lgbm = LGBMRegressor(n_estimators=1000,verbose=-100,num_leaves=leaves,learning_rate=learning_rate,max_depth=depth)\n",
    "    lgbm.fit(X,y)\n",
    "    return X,y,lgbm"
   ]
  },
  {
   "cell_type": "code",
   "execution_count": 24,
   "id": "aa96acb54ed6fb72",
   "metadata": {
    "ExecuteTime": {
     "end_time": "2023-12-12T21:37:02.081979Z",
     "start_time": "2023-12-12T21:37:02.080434Z"
    },
    "collapsed": false,
    "jupyter": {
     "outputs_hidden": false
    }
   },
   "outputs": [],
   "source": [
    "def get_X_y_and_model(df,asset_details):\n",
    "    X = {}\n",
    "    y = {}\n",
    "    models = {}\n",
    "    for i in asset_details[\"Asset_Name\"]:\n",
    "        id = retrieve_crypto_id(asset_details,i)\n",
    "        print(\"Training for asset\",i,\"(ID:\",str(id)+\")\")\n",
    "        X[i],y[i],models[i] = get_asset_model(df,i)\n",
    "    return X,y,models"
   ]
  },
  {
   "cell_type": "code",
   "execution_count": 25,
   "id": "b2b6095f283799af",
   "metadata": {
    "ExecuteTime": {
     "end_time": "2023-12-12T21:39:19.554977Z",
     "start_time": "2023-12-12T21:37:02.082033Z"
    },
    "collapsed": false,
    "jupyter": {
     "outputs_hidden": false
    }
   },
   "outputs": [
    {
     "name": "stdout",
     "output_type": "stream",
     "text": [
      "Training for asset Binance Coin (ID: 0)\n",
      "Training for asset Bitcoin (ID: 1)\n",
      "Training for asset Bitcoin Cash (ID: 2)\n",
      "Training for asset Cardano (ID: 3)\n",
      "Training for asset Dogecoin (ID: 4)\n",
      "Training for asset EOS.IO (ID: 5)\n",
      "Training for asset Ethereum (ID: 6)\n",
      "Training for asset Ethereum Classic (ID: 7)\n",
      "Training for asset IOTA (ID: 8)\n",
      "Training for asset Litecoin (ID: 9)\n",
      "Training for asset Maker (ID: 10)\n",
      "Training for asset Monero (ID: 11)\n",
      "Training for asset Stellar (ID: 12)\n",
      "Training for asset TRON (ID: 13)\n"
     ]
    }
   ],
   "source": [
    "X_train, y_train, model = get_X_y_and_model(df_train,asset_details)"
   ]
  },
  {
   "cell_type": "markdown",
   "id": "9c6115b5db4905f2",
   "metadata": {
    "collapsed": false,
    "jupyter": {
     "outputs_hidden": false
    }
   },
   "source": [
    "#### Task 3: Hyperparameter Tuning\n",
    "\n",
    "In this you’ll understand how we will tune the hyperparameters of the model."
   ]
  },
  {
   "cell_type": "code",
   "execution_count": 26,
   "id": "4ee001c3a55eb9f1",
   "metadata": {
    "ExecuteTime": {
     "end_time": "2023-12-12T21:39:19.571721Z",
     "start_time": "2023-12-12T21:39:19.567374Z"
    },
    "collapsed": false,
    "jupyter": {
     "outputs_hidden": false
    }
   },
   "outputs": [],
   "source": [
    "parameters = {\n",
    "    \"depth\": list(range(2,5,1)),\n",
    "    \"leaves\": list(range(21,50,10)),\n",
    "    \"learning_rate\": [0.1,0.01,0.05]\n",
    "}"
   ]
  },
  {
   "cell_type": "markdown",
   "id": "d4ee4ba15ad5fd7f",
   "metadata": {
    "collapsed": false,
    "jupyter": {
     "outputs_hidden": false
    }
   },
   "source": [
    "#### Task 4: Evaluation And Prediction\n",
    "\n",
    "In this you’ll understand how we will use the model to predict on test data and evaluate the performance."
   ]
  },
  {
   "cell_type": "code",
   "execution_count": 27,
   "id": "50b243b0198bc668",
   "metadata": {
    "ExecuteTime": {
     "end_time": "2023-12-12T21:39:19.625373Z",
     "start_time": "2023-12-12T21:39:19.572808Z"
    },
    "collapsed": false,
    "jupyter": {
     "outputs_hidden": false
    }
   },
   "outputs": [
    {
     "data": {
      "text/plain": [
       "{'Binance Coin': array([ 1.60290303e-05, -5.19615442e-05, -4.40229678e-05,  7.16253145e-05]),\n",
       " 'Bitcoin': array([ 4.49140279e-05,  2.76804358e-05,  4.97792607e-05, -2.07246986e-05]),\n",
       " 'Bitcoin Cash': array([-2.57964159e-05,  7.83491220e-05,  1.38546248e-05,  4.66574580e-06]),\n",
       " 'Cardano': array([-8.27631798e-05, -9.84524550e-05, -9.43352521e-05, -2.30829762e-04]),\n",
       " 'Dogecoin': array([-5.44492671e-05, -1.27802912e-04, -5.35866567e-05, -1.17614457e-04]),\n",
       " 'EOS.IO': array([-4.23671483e-05, -6.10580600e-05,  4.23215691e-05,  3.87465343e-05]),\n",
       " 'Ethereum': array([-9.66782635e-05, -4.12656587e-05,  2.66502226e-05,  1.35013372e-04]),\n",
       " 'Ethereum Classic': array([-7.51734202e-05,  1.08334645e-04,  6.86158024e-04, -5.56855306e-05]),\n",
       " 'IOTA': array([ 3.17925279e-05, -1.82568066e-04,  1.24755592e-04,  2.19660993e-03]),\n",
       " 'Litecoin': array([-1.78234186e-04, -1.29154383e-04, -6.95637366e-05, -4.69206175e-05]),\n",
       " 'Maker': array([-1.21007251e-04, -3.73331662e-05, -1.26824644e-04, -1.40634935e-04]),\n",
       " 'Monero': array([ 7.90613898e-06, -6.96490697e-06, -8.01589507e-05, -1.40809327e-04]),\n",
       " 'Stellar': array([ 7.25017878e-05, -4.37973863e-06, -7.11498130e-05, -2.69851977e-05]),\n",
       " 'TRON': array([ 1.07422922e-04,  1.05327863e-05,  2.83211284e-05, -1.53532770e-05])}"
      ]
     },
     "execution_count": 27,
     "metadata": {},
     "output_type": "execute_result"
    }
   ],
   "source": [
    "y_pred = {}\n",
    "for i in asset_details[\"Asset_Name\"]:\n",
    "    X_test = df_test[i].drop(columns=[\"group_num\",\"row_id\"])\n",
    "    y_pred[i] = model[i].predict(X_test)\n",
    "y_pred"
   ]
  },
  {
   "cell_type": "code",
   "execution_count": 28,
   "id": "f88376d4f61e63f3",
   "metadata": {
    "ExecuteTime": {
     "end_time": "2023-12-12T21:39:19.630623Z",
     "start_time": "2023-12-12T21:39:19.626446Z"
    },
    "collapsed": false,
    "jupyter": {
     "outputs_hidden": false
    }
   },
   "outputs": [
    {
     "data": {
      "text/plain": [
       "{'Binance Coin': array([ 1.60290303e-05, -5.19615442e-05, -4.40229678e-05,  7.16253145e-05]),\n",
       " 'Bitcoin': array([ 4.49140279e-05,  2.76804358e-05,  4.97792607e-05, -2.07246986e-05]),\n",
       " 'Bitcoin Cash': array([-2.57964159e-05,  7.83491220e-05,  1.38546248e-05,  4.66574580e-06]),\n",
       " 'Cardano': array([-8.27631798e-05, -9.84524550e-05, -9.43352521e-05, -2.30829762e-04]),\n",
       " 'Dogecoin': array([-5.44492671e-05, -1.27802912e-04, -5.35866567e-05, -1.17614457e-04]),\n",
       " 'EOS.IO': array([-4.23671483e-05, -6.10580600e-05,  4.23215691e-05,  3.87465343e-05]),\n",
       " 'Ethereum': array([-9.66782635e-05, -4.12656587e-05,  2.66502226e-05,  1.35013372e-04]),\n",
       " 'Ethereum Classic': array([-7.51734202e-05,  1.08334645e-04,  6.86158024e-04, -5.56855306e-05]),\n",
       " 'IOTA': array([ 3.17925279e-05, -1.82568066e-04,  1.24755592e-04,  2.19660993e-03]),\n",
       " 'Litecoin': array([-1.78234186e-04, -1.29154383e-04, -6.95637366e-05, -4.69206175e-05]),\n",
       " 'Maker': array([-1.21007251e-04, -3.73331662e-05, -1.26824644e-04, -1.40634935e-04]),\n",
       " 'Monero': array([ 7.90613898e-06, -6.96490697e-06, -8.01589507e-05, -1.40809327e-04]),\n",
       " 'Stellar': array([ 7.25017878e-05, -4.37973863e-06, -7.11498130e-05, -2.69851977e-05]),\n",
       " 'TRON': array([ 1.07422922e-04,  1.05327863e-05,  2.83211284e-05, -1.53532770e-05])}"
      ]
     },
     "execution_count": 28,
     "metadata": {},
     "output_type": "execute_result"
    }
   ],
   "source": [
    "y_pred"
   ]
  },
  {
   "cell_type": "code",
   "execution_count": 37,
   "id": "f01d35b6d75b0656",
   "metadata": {
    "ExecuteTime": {
     "end_time": "2023-12-12T21:45:10.946755Z",
     "start_time": "2023-12-12T21:45:10.907262Z"
    },
    "collapsed": false,
    "jupyter": {
     "outputs_hidden": false
    }
   },
   "outputs": [],
   "source": [
    "final_test = {}\n",
    "for i in df_test:\n",
    "    final_test[i] = df_test[i].copy()\n",
    "    final_test[i][\"Target\"] = y_pred[i]\n",
    "    final_test[i].drop(columns=[\"group_num\",\"row_id\"],inplace=True)"
   ]
  },
  {
   "cell_type": "code",
   "execution_count": 38,
   "id": "876f56edb6a9c4fa",
   "metadata": {
    "ExecuteTime": {
     "end_time": "2023-12-12T21:45:11.737709Z",
     "start_time": "2023-12-12T21:45:11.656110Z"
    },
    "collapsed": false,
    "jupyter": {
     "outputs_hidden": false
    }
   },
   "outputs": [
    {
     "data": {
      "text/html": [
       "<div>\n",
       "<style scoped>\n",
       "    .dataframe tbody tr th:only-of-type {\n",
       "        vertical-align: middle;\n",
       "    }\n",
       "\n",
       "    .dataframe tbody tr th {\n",
       "        vertical-align: top;\n",
       "    }\n",
       "\n",
       "    .dataframe thead th {\n",
       "        text-align: right;\n",
       "    }\n",
       "</style>\n",
       "<table border=\"1\" class=\"dataframe\">\n",
       "  <thead>\n",
       "    <tr style=\"text-align: right;\">\n",
       "      <th></th>\n",
       "      <th>Count</th>\n",
       "      <th>Open</th>\n",
       "      <th>High</th>\n",
       "      <th>Low</th>\n",
       "      <th>Close</th>\n",
       "      <th>Volume</th>\n",
       "      <th>VWAP</th>\n",
       "      <th>hlco_ratio</th>\n",
       "      <th>upper_shadow</th>\n",
       "      <th>lower_shadow</th>\n",
       "      <th>Target</th>\n",
       "    </tr>\n",
       "  </thead>\n",
       "  <tbody>\n",
       "    <tr>\n",
       "      <th>0</th>\n",
       "      <td>2888.0</td>\n",
       "      <td>35554.289632</td>\n",
       "      <td>35652.464650</td>\n",
       "      <td>35502.67</td>\n",
       "      <td>35602.004286</td>\n",
       "      <td>163.811537</td>\n",
       "      <td>35583.469303</td>\n",
       "      <td>3.139385</td>\n",
       "      <td>50.460364</td>\n",
       "      <td>51.619632</td>\n",
       "      <td>0.000045</td>\n",
       "    </tr>\n",
       "    <tr>\n",
       "      <th>1</th>\n",
       "      <td>2006.0</td>\n",
       "      <td>35596.771429</td>\n",
       "      <td>35621.000000</td>\n",
       "      <td>35533.38</td>\n",
       "      <td>35555.397143</td>\n",
       "      <td>93.363659</td>\n",
       "      <td>35584.861196</td>\n",
       "      <td>-2.117740</td>\n",
       "      <td>24.228571</td>\n",
       "      <td>22.017143</td>\n",
       "      <td>0.000028</td>\n",
       "    </tr>\n",
       "    <tr>\n",
       "      <th>2</th>\n",
       "      <td>3531.0</td>\n",
       "      <td>35550.271250</td>\n",
       "      <td>35576.590000</td>\n",
       "      <td>35402.87</td>\n",
       "      <td>35488.287500</td>\n",
       "      <td>220.535164</td>\n",
       "      <td>35480.068897</td>\n",
       "      <td>-2.802670</td>\n",
       "      <td>26.318750</td>\n",
       "      <td>85.417500</td>\n",
       "      <td>0.000050</td>\n",
       "    </tr>\n",
       "    <tr>\n",
       "      <th>3</th>\n",
       "      <td>2901.0</td>\n",
       "      <td>35478.867162</td>\n",
       "      <td>35503.460134</td>\n",
       "      <td>35381.01</td>\n",
       "      <td>35423.490000</td>\n",
       "      <td>118.802511</td>\n",
       "      <td>35438.243466</td>\n",
       "      <td>-2.211203</td>\n",
       "      <td>24.592972</td>\n",
       "      <td>42.480000</td>\n",
       "      <td>-0.000021</td>\n",
       "    </tr>\n",
       "  </tbody>\n",
       "</table>\n",
       "</div>"
      ],
      "text/plain": [
       "    Count          Open          High       Low         Close      Volume  \\\n",
       "0  2888.0  35554.289632  35652.464650  35502.67  35602.004286  163.811537   \n",
       "1  2006.0  35596.771429  35621.000000  35533.38  35555.397143   93.363659   \n",
       "2  3531.0  35550.271250  35576.590000  35402.87  35488.287500  220.535164   \n",
       "3  2901.0  35478.867162  35503.460134  35381.01  35423.490000  118.802511   \n",
       "\n",
       "           VWAP  hlco_ratio  upper_shadow  lower_shadow    Target  \n",
       "0  35583.469303    3.139385     50.460364     51.619632  0.000045  \n",
       "1  35584.861196   -2.117740     24.228571     22.017143  0.000028  \n",
       "2  35480.068897   -2.802670     26.318750     85.417500  0.000050  \n",
       "3  35438.243466   -2.211203     24.592972     42.480000 -0.000021  "
      ]
     },
     "execution_count": 38,
     "metadata": {},
     "output_type": "execute_result"
    }
   ],
   "source": [
    "final_test[\"Bitcoin\"]"
   ]
  },
  {
   "cell_type": "code",
   "execution_count": null,
   "id": "d7ecbe705f0a43cd",
   "metadata": {
    "collapsed": false,
    "jupyter": {
     "outputs_hidden": false
    }
   },
   "outputs": [],
   "source": []
  }
 ],
 "metadata": {
  "kernelspec": {
   "display_name": "Python 3 (ipykernel)",
   "language": "python",
   "name": "python3"
  },
  "language_info": {
   "codemirror_mode": {
    "name": "ipython",
    "version": 3
   },
   "file_extension": ".py",
   "mimetype": "text/x-python",
   "name": "python",
   "nbconvert_exporter": "python",
   "pygments_lexer": "ipython3",
   "version": "3.11.6"
  }
 },
 "nbformat": 4,
 "nbformat_minor": 5
}
