{
 "cells": [
  {
   "cell_type": "markdown",
   "source": [
    "## Crypto Forecasting Model For Market Data 2018 - 2021\n",
    "\n",
    "In this Data Science project, we will be performing some data analysis as well as we will build a Light Gradient Boosting Machine ML model to forecast short term returns in 14 popular cryptocurrencies using millions of high-frequency market data 2018-2021.\n",
    "<br>\n",
    "#### Project Description\n",
    "\n",
    "In this Data Science project, we will be performing some data analysis as well as we will build a Light Gradient Boosting Machine ML model to forecast short term returns in 14 popular cryptocurrencies using millions of high-frequency market data 2018-2021. The dataset used here contains information on historic trades for several crypto assets, such as Bitcoin and Ethereum. Our challenge is to predict their future returns.\n",
    "<br>\n",
    "***train.csv:***\n",
    "\n",
    "   **timestamp:** All timestamps are returned as second Unix timestamps (the number of seconds elapsed since 1970-01-01 00:00:00.000 UTC). Timestamps in this dataset are multiple of 60, indicating minute-by-minute data.\n",
    "   \n",
    "   **Asset_ID:** The asset ID corresponding to one of the cryptocurrencies (e.g. Asset_ID = 1 for Bitcoin). The mapping from Asset_ID to crypto asset is contained in asset_details.csv.\n",
    "   \n",
    "   **Count:** Total number of trades in the time interval (last minute).\n",
    "   \n",
    "   **Open:** Opening price of the time interval (in USD).\n",
    "   \n",
    "   **High:** Highest price reached during time interval (in USD).\n",
    "   \n",
    "   **Low:** Lowest price reached during time interval (in USD).\n",
    "   \n",
    "   **Close:** Closing price of the time interval (in USD).\n",
    "   \n",
    "   **Volume:** Quantity of asset bought or sold, displayed in base currency USD.\n",
    "   \n",
    "   **VWAP:** The average price of the asset over the time interval, weighted by volume. VWAP is an aggregated form of trade data.\n",
    "   \n",
    "   **Target:** Residual log-returns for the asset over a 15 minute horizon.\n",
    "<br>\n",
    "***asset_details.csv:***\n",
    "\n",
    "It provides the real name of the crypto asset for each Asset_ID and the weight each crypto asset receives in the metric. Weights are determined by the logarithm of each product's market cap (in USD), of the cryptocurrencies at a fixed point in time. Weights were assigned to give more relevance to cryptocurrencies with higher market volumes to ensure smaller cryptocurrencies do not disproportionately impact the models. In this Data Science project, We will build a Light Gradient Boosting Machine ML model to forecast short term returns in 14 popular cryptocurrencies using millions of high-frequency market data 2018-2021.\n",
    "<br>\n",
    "#### Technologies used:\n",
    "\n",
    "**Language -** Python\n",
    "**Algorithms -** LightGBM"
   ],
   "metadata": {
    "collapsed": false
   },
   "id": "6178e13109a94d1c"
  },
  {
   "cell_type": "code",
   "execution_count": null,
   "outputs": [],
   "source": [],
   "metadata": {
    "collapsed": false,
    "ExecuteTime": {
     "end_time": "2023-12-10T17:42:57.766617Z",
     "start_time": "2023-12-10T17:42:57.758528Z"
    }
   },
   "id": "5baa3f78643cbff5"
  },
  {
   "cell_type": "markdown",
   "source": [
    "### Module 1: Project Setup and Installation\n",
    "\n",
    "This module consists of guidance videos for setup and installation of various tools and libraries that we will be needing for our project. By following these videos you can set up the environment for your project development. In our project we will be using various python packages such as NumPy ,Pandas ,sklearn,etc. We will be using Visual Studio Code Editor for development."
   ],
   "metadata": {
    "collapsed": false
   },
   "id": "a477fa84ee2b2c13"
  },
  {
   "cell_type": "code",
   "execution_count": null,
   "outputs": [],
   "source": [],
   "metadata": {
    "collapsed": false
   },
   "id": "7ca55402bb99138d"
  },
  {
   "cell_type": "markdown",
   "source": [
    "#### Task 1: Setup and Installation\n",
    "\n",
    "In this task you’ll understand how to get started with vscode, python, jupyter notebook etc. with the help of a guided video and how to create a simple jupyter notebook."
   ],
   "metadata": {
    "collapsed": false
   },
   "id": "525ea7a012caa42"
  },
  {
   "cell_type": "code",
   "execution_count": null,
   "outputs": [],
   "source": [],
   "metadata": {
    "collapsed": false
   },
   "id": "2ad50bbc80ac7cb3"
  },
  {
   "cell_type": "markdown",
   "source": [
    "#### Task 2: Installing Packages Using Pip\n",
    "\n",
    "**Packages:**\n",
    "\n",
    "**Data preprocessing:** NumPy and Pandas\n",
    "\n",
    "**Data visualization:** Seaborn and Matplotlib"
   ],
   "metadata": {
    "collapsed": false
   },
   "id": "6d8516cb45e9dd57"
  },
  {
   "cell_type": "code",
   "execution_count": null,
   "outputs": [],
   "source": [],
   "metadata": {
    "collapsed": false
   },
   "id": "ba30c2bea16b8759"
  },
  {
   "cell_type": "markdown",
   "source": [
    "### Module 2: Exploratory Data Analysis (EDA)\n",
    "\n",
    "Exploratory data analysis (EDA) is an approach of analyzing data sets to summarize their main characteristics, often using statistical graphics hypothesis testing. A statistical model can be used or not, but primarily EDA is for seeing what the data can tell us beyond the formal modeling and thereby contrasts traditional indexing. We will explore the data in detail and have a detailed look at the data and its statistics. We will also define a helper function that will turn a date format into a timestamp to use for  modeling."
   ],
   "metadata": {
    "collapsed": false
   },
   "id": "5b0d59f79ca7b658"
  },
  {
   "cell_type": "code",
   "execution_count": 2,
   "outputs": [],
   "source": [
    "import numpy as np\n",
    "import pandas as pd\n",
    "import matplotlib.pyplot as plt\n",
    "import seaborn as sns\n",
    "import os\n",
    "import warnings\n",
    "warnings.filterwarnings(\"ignore\")"
   ],
   "metadata": {
    "collapsed": false,
    "ExecuteTime": {
     "end_time": "2023-12-12T22:27:19.812874Z",
     "start_time": "2023-12-12T22:27:19.808793Z"
    }
   },
   "id": "e029263af2f961f8"
  },
  {
   "cell_type": "markdown",
   "source": [
    "#### Task 1: Knowing The Dataset\n",
    "\n",
    "In this task, you’ll understand how to Explore the dataset and know what each field means."
   ],
   "metadata": {
    "collapsed": false
   },
   "id": "563d6c8e4e76bf7"
  },
  {
   "cell_type": "code",
   "execution_count": 12,
   "outputs": [
    {
     "name": "stdout",
     "output_type": "stream",
     "text": [
      "Number of files imported :  1\n",
      "Number of files imported :  2\n",
      "Number of files imported :  3\n",
      "Number of files imported :  4\n",
      "Number of files imported :  5\n",
      "Number of files imported :  6\n",
      "Number of files imported :  7\n",
      "Number of files imported :  8\n",
      "Number of files imported :  9\n",
      "Number of files imported :  10\n",
      "Number of files imported :  11\n",
      "Number of files imported :  12\n",
      "Number of files imported :  13\n",
      "Number of files imported :  14\n",
      "Number of files imported :  15\n",
      "Number of files imported :  16\n",
      "Number of files imported :  17\n",
      "Number of files imported :  18\n",
      "Number of files imported :  19\n",
      "Number of files imported :  20\n",
      "Number of files imported :  21\n",
      "Number of files imported :  22\n",
      "Number of files imported :  23\n",
      "Number of files imported :  24\n",
      "Number of files imported :  25\n",
      "Number of files imported :  26\n",
      "Number of files imported :  27\n",
      "Number of files imported :  28\n",
      "Number of files imported :  29\n",
      "Number of files imported :  30\n",
      "Number of files imported :  31\n"
     ]
    }
   ],
   "source": [
    "path = \"data/train/\"\n",
    "list_of_files = os.listdir(path)\n",
    "train = pd.read_csv(path + list_of_files[0])\n",
    "print(\"Number of files imported : \",1)\n",
    "ctr = 2\n",
    "for i in list_of_files[1:]:\n",
    "    if \".csv\" not in i:\n",
    "        continue\n",
    "    df = pd.read_csv(path + i)\n",
    "    train = pd.concat([train, df], axis=0, ignore_index=True)\n",
    "    print(\"Number of files imported : \",ctr)\n",
    "    ctr += 1"
   ],
   "metadata": {
    "collapsed": false,
    "ExecuteTime": {
     "end_time": "2023-12-12T22:37:58.209777Z",
     "start_time": "2023-12-12T22:37:29.529617Z"
    }
   },
   "id": "5f285287a0c184fc"
  },
  {
   "cell_type": "code",
   "execution_count": 14,
   "outputs": [
    {
     "data": {
      "text/plain": "    Asset_ID    Weight        Asset_Name\n0          0  4.304065      Binance Coin\n1          1  6.779922           Bitcoin\n2          2  2.397895      Bitcoin Cash\n3          3  4.406719           Cardano\n4          4  3.555348          Dogecoin\n5          5  1.386294            EOS.IO\n6          6  5.894403          Ethereum\n7          7  2.079442  Ethereum Classic\n8          8  1.098612              IOTA\n9          9  2.397895          Litecoin\n10        10  1.098612             Maker\n11        11  1.609438            Monero\n12        12  2.079442           Stellar\n13        13  1.791759              TRON",
      "text/html": "<div>\n<style scoped>\n    .dataframe tbody tr th:only-of-type {\n        vertical-align: middle;\n    }\n\n    .dataframe tbody tr th {\n        vertical-align: top;\n    }\n\n    .dataframe thead th {\n        text-align: right;\n    }\n</style>\n<table border=\"1\" class=\"dataframe\">\n  <thead>\n    <tr style=\"text-align: right;\">\n      <th></th>\n      <th>Asset_ID</th>\n      <th>Weight</th>\n      <th>Asset_Name</th>\n    </tr>\n  </thead>\n  <tbody>\n    <tr>\n      <th>0</th>\n      <td>0</td>\n      <td>4.304065</td>\n      <td>Binance Coin</td>\n    </tr>\n    <tr>\n      <th>1</th>\n      <td>1</td>\n      <td>6.779922</td>\n      <td>Bitcoin</td>\n    </tr>\n    <tr>\n      <th>2</th>\n      <td>2</td>\n      <td>2.397895</td>\n      <td>Bitcoin Cash</td>\n    </tr>\n    <tr>\n      <th>3</th>\n      <td>3</td>\n      <td>4.406719</td>\n      <td>Cardano</td>\n    </tr>\n    <tr>\n      <th>4</th>\n      <td>4</td>\n      <td>3.555348</td>\n      <td>Dogecoin</td>\n    </tr>\n    <tr>\n      <th>5</th>\n      <td>5</td>\n      <td>1.386294</td>\n      <td>EOS.IO</td>\n    </tr>\n    <tr>\n      <th>6</th>\n      <td>6</td>\n      <td>5.894403</td>\n      <td>Ethereum</td>\n    </tr>\n    <tr>\n      <th>7</th>\n      <td>7</td>\n      <td>2.079442</td>\n      <td>Ethereum Classic</td>\n    </tr>\n    <tr>\n      <th>8</th>\n      <td>8</td>\n      <td>1.098612</td>\n      <td>IOTA</td>\n    </tr>\n    <tr>\n      <th>9</th>\n      <td>9</td>\n      <td>2.397895</td>\n      <td>Litecoin</td>\n    </tr>\n    <tr>\n      <th>10</th>\n      <td>10</td>\n      <td>1.098612</td>\n      <td>Maker</td>\n    </tr>\n    <tr>\n      <th>11</th>\n      <td>11</td>\n      <td>1.609438</td>\n      <td>Monero</td>\n    </tr>\n    <tr>\n      <th>12</th>\n      <td>12</td>\n      <td>2.079442</td>\n      <td>Stellar</td>\n    </tr>\n    <tr>\n      <th>13</th>\n      <td>13</td>\n      <td>1.791759</td>\n      <td>TRON</td>\n    </tr>\n  </tbody>\n</table>\n</div>"
     },
     "execution_count": 14,
     "metadata": {},
     "output_type": "execute_result"
    }
   ],
   "source": [
    "asset_details = pd.read_csv(\"data/asset_details.csv\")\n",
    "asset_details.sort_values(by=\"Asset_ID\",ignore_index=True,inplace=True)\n",
    "asset_details"
   ],
   "metadata": {
    "collapsed": false,
    "ExecuteTime": {
     "end_time": "2023-12-12T22:40:16.159025Z",
     "start_time": "2023-12-12T22:40:16.112440Z"
    }
   },
   "id": "a4bb1b616c798ee"
  },
  {
   "cell_type": "code",
   "execution_count": 15,
   "outputs": [
    {
     "data": {
      "text/plain": "    timestamp  Asset_ID  Count         Open         High         Low  \\\n0  1530202800        12   10.0     0.190815     0.191320     0.19015   \n1  1530202860         3   19.0     0.125492     0.125594     0.12539   \n2  1530202860         2   12.0   697.195000   698.140000   696.50000   \n3  1530202860         0    8.0    14.649900    14.649900    14.63000   \n4  1530202860         1  131.0  6106.436890  6114.840000  6100.00000   \n\n         Close        Volume         VWAP    Target  \n0     0.190740  32450.372000     0.190800  0.001392  \n1     0.125431  57357.220500     0.125477  0.002543  \n2   697.220000      1.461400   697.222803 -0.001323  \n3    14.639500    515.100000    14.637003 -0.002171  \n4  6106.002890      8.465268  6106.365069 -0.000313  ",
      "text/html": "<div>\n<style scoped>\n    .dataframe tbody tr th:only-of-type {\n        vertical-align: middle;\n    }\n\n    .dataframe tbody tr th {\n        vertical-align: top;\n    }\n\n    .dataframe thead th {\n        text-align: right;\n    }\n</style>\n<table border=\"1\" class=\"dataframe\">\n  <thead>\n    <tr style=\"text-align: right;\">\n      <th></th>\n      <th>timestamp</th>\n      <th>Asset_ID</th>\n      <th>Count</th>\n      <th>Open</th>\n      <th>High</th>\n      <th>Low</th>\n      <th>Close</th>\n      <th>Volume</th>\n      <th>VWAP</th>\n      <th>Target</th>\n    </tr>\n  </thead>\n  <tbody>\n    <tr>\n      <th>0</th>\n      <td>1530202800</td>\n      <td>12</td>\n      <td>10.0</td>\n      <td>0.190815</td>\n      <td>0.191320</td>\n      <td>0.19015</td>\n      <td>0.190740</td>\n      <td>32450.372000</td>\n      <td>0.190800</td>\n      <td>0.001392</td>\n    </tr>\n    <tr>\n      <th>1</th>\n      <td>1530202860</td>\n      <td>3</td>\n      <td>19.0</td>\n      <td>0.125492</td>\n      <td>0.125594</td>\n      <td>0.12539</td>\n      <td>0.125431</td>\n      <td>57357.220500</td>\n      <td>0.125477</td>\n      <td>0.002543</td>\n    </tr>\n    <tr>\n      <th>2</th>\n      <td>1530202860</td>\n      <td>2</td>\n      <td>12.0</td>\n      <td>697.195000</td>\n      <td>698.140000</td>\n      <td>696.50000</td>\n      <td>697.220000</td>\n      <td>1.461400</td>\n      <td>697.222803</td>\n      <td>-0.001323</td>\n    </tr>\n    <tr>\n      <th>3</th>\n      <td>1530202860</td>\n      <td>0</td>\n      <td>8.0</td>\n      <td>14.649900</td>\n      <td>14.649900</td>\n      <td>14.63000</td>\n      <td>14.639500</td>\n      <td>515.100000</td>\n      <td>14.637003</td>\n      <td>-0.002171</td>\n    </tr>\n    <tr>\n      <th>4</th>\n      <td>1530202860</td>\n      <td>1</td>\n      <td>131.0</td>\n      <td>6106.436890</td>\n      <td>6114.840000</td>\n      <td>6100.00000</td>\n      <td>6106.002890</td>\n      <td>8.465268</td>\n      <td>6106.365069</td>\n      <td>-0.000313</td>\n    </tr>\n  </tbody>\n</table>\n</div>"
     },
     "execution_count": 15,
     "metadata": {},
     "output_type": "execute_result"
    }
   ],
   "source": [
    "train.head()"
   ],
   "metadata": {
    "collapsed": false,
    "ExecuteTime": {
     "end_time": "2023-12-12T22:41:08.795033Z",
     "start_time": "2023-12-12T22:41:08.792027Z"
    }
   },
   "id": "571ac6526175403f"
  },
  {
   "cell_type": "code",
   "execution_count": 17,
   "outputs": [
    {
     "data": {
      "text/plain": "    timestamp  Asset_ID   Count          Open         High          Low  \\\n0  1623542400         3  1201.0      1.478556      1.48603      1.47800   \n1  1623542400         2  1020.0    580.306667    583.89000    579.91000   \n2  1623542400         0   626.0    343.789500    345.10800    343.64000   \n3  1623542400         1  2888.0  35554.289632  35652.46465  35502.67000   \n4  1623542400         4   433.0      0.312167      0.31260      0.31192   \n\n          Close         Volume          VWAP  group_num  row_id  \n0      1.483681  654799.561103      1.481439          0       0  \n1    582.276667    1227.988328    581.697038          0       1  \n2    344.598000    1718.832569    344.441729          0       2  \n3  35602.004286     163.811537  35583.469303          0       3  \n4      0.312208  585577.410442      0.312154          0       4  ",
      "text/html": "<div>\n<style scoped>\n    .dataframe tbody tr th:only-of-type {\n        vertical-align: middle;\n    }\n\n    .dataframe tbody tr th {\n        vertical-align: top;\n    }\n\n    .dataframe thead th {\n        text-align: right;\n    }\n</style>\n<table border=\"1\" class=\"dataframe\">\n  <thead>\n    <tr style=\"text-align: right;\">\n      <th></th>\n      <th>timestamp</th>\n      <th>Asset_ID</th>\n      <th>Count</th>\n      <th>Open</th>\n      <th>High</th>\n      <th>Low</th>\n      <th>Close</th>\n      <th>Volume</th>\n      <th>VWAP</th>\n      <th>group_num</th>\n      <th>row_id</th>\n    </tr>\n  </thead>\n  <tbody>\n    <tr>\n      <th>0</th>\n      <td>1623542400</td>\n      <td>3</td>\n      <td>1201.0</td>\n      <td>1.478556</td>\n      <td>1.48603</td>\n      <td>1.47800</td>\n      <td>1.483681</td>\n      <td>654799.561103</td>\n      <td>1.481439</td>\n      <td>0</td>\n      <td>0</td>\n    </tr>\n    <tr>\n      <th>1</th>\n      <td>1623542400</td>\n      <td>2</td>\n      <td>1020.0</td>\n      <td>580.306667</td>\n      <td>583.89000</td>\n      <td>579.91000</td>\n      <td>582.276667</td>\n      <td>1227.988328</td>\n      <td>581.697038</td>\n      <td>0</td>\n      <td>1</td>\n    </tr>\n    <tr>\n      <th>2</th>\n      <td>1623542400</td>\n      <td>0</td>\n      <td>626.0</td>\n      <td>343.789500</td>\n      <td>345.10800</td>\n      <td>343.64000</td>\n      <td>344.598000</td>\n      <td>1718.832569</td>\n      <td>344.441729</td>\n      <td>0</td>\n      <td>2</td>\n    </tr>\n    <tr>\n      <th>3</th>\n      <td>1623542400</td>\n      <td>1</td>\n      <td>2888.0</td>\n      <td>35554.289632</td>\n      <td>35652.46465</td>\n      <td>35502.67000</td>\n      <td>35602.004286</td>\n      <td>163.811537</td>\n      <td>35583.469303</td>\n      <td>0</td>\n      <td>3</td>\n    </tr>\n    <tr>\n      <th>4</th>\n      <td>1623542400</td>\n      <td>4</td>\n      <td>433.0</td>\n      <td>0.312167</td>\n      <td>0.31260</td>\n      <td>0.31192</td>\n      <td>0.312208</td>\n      <td>585577.410442</td>\n      <td>0.312154</td>\n      <td>0</td>\n      <td>4</td>\n    </tr>\n  </tbody>\n</table>\n</div>"
     },
     "execution_count": 17,
     "metadata": {},
     "output_type": "execute_result"
    }
   ],
   "source": [
    "test = pd.read_csv(\"data/example_test.csv\")\n",
    "test.head()"
   ],
   "metadata": {
    "collapsed": false,
    "ExecuteTime": {
     "end_time": "2023-12-12T22:43:59.529831Z",
     "start_time": "2023-12-12T22:43:59.516255Z"
    }
   },
   "id": "5ef9513b304b5c41"
  },
  {
   "cell_type": "markdown",
   "source": [
    "#### Task 2: EDA - Dataset\n",
    "\n",
    "In this you’ll understand how we will perform EDA and understand the data well."
   ],
   "metadata": {
    "collapsed": false
   },
   "id": "f13ef121e442ab8"
  },
  {
   "cell_type": "code",
   "execution_count": 18,
   "outputs": [
    {
     "data": {
      "text/plain": "timestamp         0\nAsset_ID          0\nCount             0\nOpen              0\nHigh              0\nLow               0\nClose             0\nVolume            0\nVWAP              9\nTarget       750338\ndtype: int64"
     },
     "execution_count": 18,
     "metadata": {},
     "output_type": "execute_result"
    }
   ],
   "source": [
    "train.isna().sum()"
   ],
   "metadata": {
    "collapsed": false,
    "ExecuteTime": {
     "end_time": "2023-12-12T22:45:21.597290Z",
     "start_time": "2023-12-12T22:45:20.603283Z"
    }
   },
   "id": "2bae620841a17437"
  },
  {
   "cell_type": "code",
   "execution_count": 19,
   "outputs": [
    {
     "data": {
      "text/plain": "timestamp    0\nAsset_ID     0\nCount        0\nOpen         0\nHigh         0\nLow          0\nClose        0\nVolume       0\nVWAP         0\ngroup_num    0\nrow_id       0\ndtype: int64"
     },
     "execution_count": 19,
     "metadata": {},
     "output_type": "execute_result"
    }
   ],
   "source": [
    "test.isna().sum()"
   ],
   "metadata": {
    "collapsed": false,
    "ExecuteTime": {
     "end_time": "2023-12-12T22:46:00.113368Z",
     "start_time": "2023-12-12T22:46:00.105402Z"
    }
   },
   "id": "6e6c36ec80dd032d"
  },
  {
   "cell_type": "code",
   "execution_count": 21,
   "outputs": [
    {
     "data": {
      "text/plain": "Asset_ID      0\nWeight        0\nAsset_Name    0\ndtype: int64"
     },
     "execution_count": 21,
     "metadata": {},
     "output_type": "execute_result"
    }
   ],
   "source": [
    "asset_details.isna().sum()"
   ],
   "metadata": {
    "collapsed": false,
    "ExecuteTime": {
     "end_time": "2023-12-12T22:46:27.059959Z",
     "start_time": "2023-12-12T22:46:27.038180Z"
    }
   },
   "id": "45a6e08acaf0d83b"
  },
  {
   "cell_type": "code",
   "execution_count": 23,
   "outputs": [
    {
     "data": {
      "text/plain": "          timestamp      Asset_ID         Count          Open          High  \\\ncount  2.423681e+07  2.423681e+07  2.423681e+07  2.423681e+07  2.423681e+07   \nmean   1.577120e+09  6.292544e+00  2.864593e+02  1.432640e+03  1.436350e+03   \nstd    3.323350e+07  4.091861e+00  8.673982e+02  6.029605e+03  6.039482e+03   \nmin    1.514765e+09  0.000000e+00  1.000000e+00  1.170400e-03  1.195000e-03   \n25%    1.549011e+09  3.000000e+00  1.900000e+01  2.676500e-01  2.681600e-01   \n50%    1.578372e+09  6.000000e+00  6.400000e+01  1.428860e+01  1.431250e+01   \n75%    1.606198e+09  9.000000e+00  2.210000e+02  2.288743e+02  2.293000e+02   \nmax    1.632182e+09  1.300000e+01  1.650160e+05  6.480594e+04  6.490000e+04   \n\n                Low         Close        Volume          VWAP        Target  \ncount  2.423681e+07  2.423681e+07  2.423681e+07  2.423680e+07  2.348647e+07  \nmean   1.429568e+03  1.432640e+03  2.868530e+05           NaN  7.121752e-06  \nstd    6.020261e+03  6.029611e+03  2.433935e+06           NaN  5.679042e-03  \nmin    2.000000e-04  1.171400e-03 -3.662812e-01          -inf -5.093509e-01  \n25%    2.669000e-01  2.676483e-01  1.410725e+02  2.676368e-01 -1.694354e-03  \n50%    1.426300e+01  1.428920e+01  1.295415e+03  1.428769e+01 -4.289844e-05  \n75%    2.284200e+02  2.288729e+02  2.729764e+04  2.288728e+02  1.601520e-03  \nmax    6.467053e+04  6.480854e+04  7.597554e+08           inf  9.641699e-01  ",
      "text/html": "<div>\n<style scoped>\n    .dataframe tbody tr th:only-of-type {\n        vertical-align: middle;\n    }\n\n    .dataframe tbody tr th {\n        vertical-align: top;\n    }\n\n    .dataframe thead th {\n        text-align: right;\n    }\n</style>\n<table border=\"1\" class=\"dataframe\">\n  <thead>\n    <tr style=\"text-align: right;\">\n      <th></th>\n      <th>timestamp</th>\n      <th>Asset_ID</th>\n      <th>Count</th>\n      <th>Open</th>\n      <th>High</th>\n      <th>Low</th>\n      <th>Close</th>\n      <th>Volume</th>\n      <th>VWAP</th>\n      <th>Target</th>\n    </tr>\n  </thead>\n  <tbody>\n    <tr>\n      <th>count</th>\n      <td>2.423681e+07</td>\n      <td>2.423681e+07</td>\n      <td>2.423681e+07</td>\n      <td>2.423681e+07</td>\n      <td>2.423681e+07</td>\n      <td>2.423681e+07</td>\n      <td>2.423681e+07</td>\n      <td>2.423681e+07</td>\n      <td>2.423680e+07</td>\n      <td>2.348647e+07</td>\n    </tr>\n    <tr>\n      <th>mean</th>\n      <td>1.577120e+09</td>\n      <td>6.292544e+00</td>\n      <td>2.864593e+02</td>\n      <td>1.432640e+03</td>\n      <td>1.436350e+03</td>\n      <td>1.429568e+03</td>\n      <td>1.432640e+03</td>\n      <td>2.868530e+05</td>\n      <td>NaN</td>\n      <td>7.121752e-06</td>\n    </tr>\n    <tr>\n      <th>std</th>\n      <td>3.323350e+07</td>\n      <td>4.091861e+00</td>\n      <td>8.673982e+02</td>\n      <td>6.029605e+03</td>\n      <td>6.039482e+03</td>\n      <td>6.020261e+03</td>\n      <td>6.029611e+03</td>\n      <td>2.433935e+06</td>\n      <td>NaN</td>\n      <td>5.679042e-03</td>\n    </tr>\n    <tr>\n      <th>min</th>\n      <td>1.514765e+09</td>\n      <td>0.000000e+00</td>\n      <td>1.000000e+00</td>\n      <td>1.170400e-03</td>\n      <td>1.195000e-03</td>\n      <td>2.000000e-04</td>\n      <td>1.171400e-03</td>\n      <td>-3.662812e-01</td>\n      <td>-inf</td>\n      <td>-5.093509e-01</td>\n    </tr>\n    <tr>\n      <th>25%</th>\n      <td>1.549011e+09</td>\n      <td>3.000000e+00</td>\n      <td>1.900000e+01</td>\n      <td>2.676500e-01</td>\n      <td>2.681600e-01</td>\n      <td>2.669000e-01</td>\n      <td>2.676483e-01</td>\n      <td>1.410725e+02</td>\n      <td>2.676368e-01</td>\n      <td>-1.694354e-03</td>\n    </tr>\n    <tr>\n      <th>50%</th>\n      <td>1.578372e+09</td>\n      <td>6.000000e+00</td>\n      <td>6.400000e+01</td>\n      <td>1.428860e+01</td>\n      <td>1.431250e+01</td>\n      <td>1.426300e+01</td>\n      <td>1.428920e+01</td>\n      <td>1.295415e+03</td>\n      <td>1.428769e+01</td>\n      <td>-4.289844e-05</td>\n    </tr>\n    <tr>\n      <th>75%</th>\n      <td>1.606198e+09</td>\n      <td>9.000000e+00</td>\n      <td>2.210000e+02</td>\n      <td>2.288743e+02</td>\n      <td>2.293000e+02</td>\n      <td>2.284200e+02</td>\n      <td>2.288729e+02</td>\n      <td>2.729764e+04</td>\n      <td>2.288728e+02</td>\n      <td>1.601520e-03</td>\n    </tr>\n    <tr>\n      <th>max</th>\n      <td>1.632182e+09</td>\n      <td>1.300000e+01</td>\n      <td>1.650160e+05</td>\n      <td>6.480594e+04</td>\n      <td>6.490000e+04</td>\n      <td>6.467053e+04</td>\n      <td>6.480854e+04</td>\n      <td>7.597554e+08</td>\n      <td>inf</td>\n      <td>9.641699e-01</td>\n    </tr>\n  </tbody>\n</table>\n</div>"
     },
     "execution_count": 23,
     "metadata": {},
     "output_type": "execute_result"
    }
   ],
   "source": [
    "train.describe()"
   ],
   "metadata": {
    "collapsed": false,
    "ExecuteTime": {
     "end_time": "2023-12-12T22:48:18.786347Z",
     "start_time": "2023-12-12T22:48:01.427526Z"
    }
   },
   "id": "5f743e52b5958732"
  },
  {
   "cell_type": "code",
   "execution_count": 24,
   "outputs": [
    {
     "data": {
      "text/plain": "          timestamp  Asset_ID        Count          Open          High  \\\ncount  5.600000e+01  56.00000    56.000000     56.000000     56.000000   \nmean   1.623542e+09   6.50000   739.535714   3017.680422   3021.572698   \nstd    6.768913e+01   4.06761   806.311917   9148.328623   9159.452237   \nmin    1.623542e+09   0.00000    34.000000      0.068015      0.068055   \n25%    1.623542e+09   3.00000   258.000000      1.002400      1.018800   \n50%    1.623542e+09   6.50000   448.500000    108.591617    108.712000   \n75%    1.623543e+09  10.00000   891.750000    580.817500    582.975000   \nmax    1.623543e+09  13.00000  3531.000000  35596.771429  35652.464650   \n\n                Low         Close        Volume          VWAP  group_num  \\\ncount     56.000000     56.000000  5.600000e+01     56.000000  56.000000   \nmean    3010.191113   3015.398331  4.440252e+05   3015.895414   1.500000   \nstd     9125.151477   9141.188374  1.027897e+06   9142.300540   1.128152   \nmin        0.067866      0.067936  1.187095e+00      0.067958   0.000000   \n25%        0.983500      1.000538  6.911536e+02      1.000546   0.750000   \n50%      108.226000    108.414840  2.494379e+03    108.447083   1.500000   \n75%      579.692500    580.974167  2.965427e+05    581.061773   2.250000   \nmax    35533.380000  35602.004286  4.981365e+06  35584.861196   3.000000   \n\n          row_id  \ncount  56.000000  \nmean   27.500000  \nstd    16.309506  \nmin     0.000000  \n25%    13.750000  \n50%    27.500000  \n75%    41.250000  \nmax    55.000000  ",
      "text/html": "<div>\n<style scoped>\n    .dataframe tbody tr th:only-of-type {\n        vertical-align: middle;\n    }\n\n    .dataframe tbody tr th {\n        vertical-align: top;\n    }\n\n    .dataframe thead th {\n        text-align: right;\n    }\n</style>\n<table border=\"1\" class=\"dataframe\">\n  <thead>\n    <tr style=\"text-align: right;\">\n      <th></th>\n      <th>timestamp</th>\n      <th>Asset_ID</th>\n      <th>Count</th>\n      <th>Open</th>\n      <th>High</th>\n      <th>Low</th>\n      <th>Close</th>\n      <th>Volume</th>\n      <th>VWAP</th>\n      <th>group_num</th>\n      <th>row_id</th>\n    </tr>\n  </thead>\n  <tbody>\n    <tr>\n      <th>count</th>\n      <td>5.600000e+01</td>\n      <td>56.00000</td>\n      <td>56.000000</td>\n      <td>56.000000</td>\n      <td>56.000000</td>\n      <td>56.000000</td>\n      <td>56.000000</td>\n      <td>5.600000e+01</td>\n      <td>56.000000</td>\n      <td>56.000000</td>\n      <td>56.000000</td>\n    </tr>\n    <tr>\n      <th>mean</th>\n      <td>1.623542e+09</td>\n      <td>6.50000</td>\n      <td>739.535714</td>\n      <td>3017.680422</td>\n      <td>3021.572698</td>\n      <td>3010.191113</td>\n      <td>3015.398331</td>\n      <td>4.440252e+05</td>\n      <td>3015.895414</td>\n      <td>1.500000</td>\n      <td>27.500000</td>\n    </tr>\n    <tr>\n      <th>std</th>\n      <td>6.768913e+01</td>\n      <td>4.06761</td>\n      <td>806.311917</td>\n      <td>9148.328623</td>\n      <td>9159.452237</td>\n      <td>9125.151477</td>\n      <td>9141.188374</td>\n      <td>1.027897e+06</td>\n      <td>9142.300540</td>\n      <td>1.128152</td>\n      <td>16.309506</td>\n    </tr>\n    <tr>\n      <th>min</th>\n      <td>1.623542e+09</td>\n      <td>0.00000</td>\n      <td>34.000000</td>\n      <td>0.068015</td>\n      <td>0.068055</td>\n      <td>0.067866</td>\n      <td>0.067936</td>\n      <td>1.187095e+00</td>\n      <td>0.067958</td>\n      <td>0.000000</td>\n      <td>0.000000</td>\n    </tr>\n    <tr>\n      <th>25%</th>\n      <td>1.623542e+09</td>\n      <td>3.00000</td>\n      <td>258.000000</td>\n      <td>1.002400</td>\n      <td>1.018800</td>\n      <td>0.983500</td>\n      <td>1.000538</td>\n      <td>6.911536e+02</td>\n      <td>1.000546</td>\n      <td>0.750000</td>\n      <td>13.750000</td>\n    </tr>\n    <tr>\n      <th>50%</th>\n      <td>1.623542e+09</td>\n      <td>6.50000</td>\n      <td>448.500000</td>\n      <td>108.591617</td>\n      <td>108.712000</td>\n      <td>108.226000</td>\n      <td>108.414840</td>\n      <td>2.494379e+03</td>\n      <td>108.447083</td>\n      <td>1.500000</td>\n      <td>27.500000</td>\n    </tr>\n    <tr>\n      <th>75%</th>\n      <td>1.623543e+09</td>\n      <td>10.00000</td>\n      <td>891.750000</td>\n      <td>580.817500</td>\n      <td>582.975000</td>\n      <td>579.692500</td>\n      <td>580.974167</td>\n      <td>2.965427e+05</td>\n      <td>581.061773</td>\n      <td>2.250000</td>\n      <td>41.250000</td>\n    </tr>\n    <tr>\n      <th>max</th>\n      <td>1.623543e+09</td>\n      <td>13.00000</td>\n      <td>3531.000000</td>\n      <td>35596.771429</td>\n      <td>35652.464650</td>\n      <td>35533.380000</td>\n      <td>35602.004286</td>\n      <td>4.981365e+06</td>\n      <td>35584.861196</td>\n      <td>3.000000</td>\n      <td>55.000000</td>\n    </tr>\n  </tbody>\n</table>\n</div>"
     },
     "execution_count": 24,
     "metadata": {},
     "output_type": "execute_result"
    }
   ],
   "source": [
    "test.describe()"
   ],
   "metadata": {
    "collapsed": false,
    "ExecuteTime": {
     "end_time": "2023-12-12T22:48:18.806253Z",
     "start_time": "2023-12-12T22:48:18.786384Z"
    }
   },
   "id": "44e3edd44ed0beb8"
  },
  {
   "cell_type": "code",
   "execution_count": 25,
   "outputs": [
    {
     "data": {
      "text/plain": "       Asset_ID     Weight\ncount   14.0000  14.000000\nmean     6.5000   2.919989\nstd      4.1833   1.801957\nmin      0.0000   1.098612\n25%      3.2500   1.655018\n50%      6.5000   2.238668\n75%      9.7500   4.116886\nmax     13.0000   6.779922",
      "text/html": "<div>\n<style scoped>\n    .dataframe tbody tr th:only-of-type {\n        vertical-align: middle;\n    }\n\n    .dataframe tbody tr th {\n        vertical-align: top;\n    }\n\n    .dataframe thead th {\n        text-align: right;\n    }\n</style>\n<table border=\"1\" class=\"dataframe\">\n  <thead>\n    <tr style=\"text-align: right;\">\n      <th></th>\n      <th>Asset_ID</th>\n      <th>Weight</th>\n    </tr>\n  </thead>\n  <tbody>\n    <tr>\n      <th>count</th>\n      <td>14.0000</td>\n      <td>14.000000</td>\n    </tr>\n    <tr>\n      <th>mean</th>\n      <td>6.5000</td>\n      <td>2.919989</td>\n    </tr>\n    <tr>\n      <th>std</th>\n      <td>4.1833</td>\n      <td>1.801957</td>\n    </tr>\n    <tr>\n      <th>min</th>\n      <td>0.0000</td>\n      <td>1.098612</td>\n    </tr>\n    <tr>\n      <th>25%</th>\n      <td>3.2500</td>\n      <td>1.655018</td>\n    </tr>\n    <tr>\n      <th>50%</th>\n      <td>6.5000</td>\n      <td>2.238668</td>\n    </tr>\n    <tr>\n      <th>75%</th>\n      <td>9.7500</td>\n      <td>4.116886</td>\n    </tr>\n    <tr>\n      <th>max</th>\n      <td>13.0000</td>\n      <td>6.779922</td>\n    </tr>\n  </tbody>\n</table>\n</div>"
     },
     "execution_count": 25,
     "metadata": {},
     "output_type": "execute_result"
    }
   ],
   "source": [
    "asset_details.describe()"
   ],
   "metadata": {
    "collapsed": false,
    "ExecuteTime": {
     "end_time": "2023-12-12T22:48:18.808974Z",
     "start_time": "2023-12-12T22:48:18.800908Z"
    }
   },
   "id": "1a7b57f168656e4d"
  },
  {
   "cell_type": "markdown",
   "source": [
    "#### Task 3: Timestamps\n",
    "\n",
    "In this you’ll understand how we convert date time to timestamps."
   ],
   "metadata": {
    "collapsed": false
   },
   "id": "91739759aafdca1e"
  },
  {
   "cell_type": "code",
   "execution_count": 26,
   "outputs": [],
   "source": [
    "datetime_to_timestamp = lambda x: x.timestamp()"
   ],
   "metadata": {
    "collapsed": false,
    "ExecuteTime": {
     "end_time": "2023-12-12T22:49:27.100720Z",
     "start_time": "2023-12-12T22:49:27.092244Z"
    }
   },
   "id": "371a0240b5c614f7"
  },
  {
   "cell_type": "markdown",
   "source": [
    "### Module 3: Plotting - Data Visualization\n",
    "\n",
    "Data visualization is the representation of data through the use of common graphics, such as charts, plots, infographics, and even animations. In our project, we use heatmaps, correlation matrices, and other plots to have an interesting detailed view of coin prices.\n",
    "\n",
    "**Advantages:**\n",
    "\n",
    "* Easily sharing information\n",
    "* Interactively explore opportunities\n",
    "* Visualize patterns and relationships"
   ],
   "metadata": {
    "collapsed": false
   },
   "id": "4ae3066f4cc74746"
  },
  {
   "cell_type": "code",
   "execution_count": null,
   "outputs": [],
   "source": [],
   "metadata": {
    "collapsed": false
   },
   "id": "ce54eff0dc78cd39"
  },
  {
   "cell_type": "markdown",
   "source": [
    "#### Task 1: Plotting BTC and ETH\n",
    "\n",
    "In this you’ll understand how we create some interesting plots for BTC and ETH and compare their changes with respect to each other."
   ],
   "metadata": {
    "collapsed": false
   },
   "id": "3193f1bb374c0b22"
  },
  {
   "cell_type": "code",
   "execution_count": 41,
   "outputs": [],
   "source": [
    "def retrieve_crypto_id(asset_details,asset):\n",
    "    asset_id = asset_details[asset_details[\"Asset_Name\"]==asset][\"Asset_ID\"].values[0]\n",
    "    return asset_id\n",
    "def retrieve_crypto_name(asset_details,asset_id):\n",
    "    asset = asset_details[asset_details[\"Asset_ID\"]==asset_id][\"Asset_Name\"].values[0]\n",
    "    return asset"
   ],
   "metadata": {
    "collapsed": false,
    "ExecuteTime": {
     "end_time": "2023-12-12T22:58:43.788957Z",
     "start_time": "2023-12-12T22:58:43.786340Z"
    }
   },
   "id": "cb47422afb32378b"
  },
  {
   "cell_type": "code",
   "execution_count": 48,
   "outputs": [
    {
     "data": {
      "text/plain": "           timestamp  Asset_ID  Count         Open         High      Low  \\\n4         1530202860         1  131.0  6106.436890  6114.840000  6100.00   \n15        1530202920         1  158.0  6106.448890  6118.200000  6099.99   \n26        1530202980         1  199.0  6106.128333  6116.980000  6099.99   \n37        1530203040         1  201.0  6106.210000  6114.130000  6099.99   \n48        1530203100         1  175.0  6105.706667  6116.580000  6099.99   \n...              ...       ...    ...          ...          ...      ...   \n24236747  1555088100         1  312.0  5073.663498  5111.324485  5050.39   \n24236760  1555088160         1  331.0  5074.042857  5111.300000  5050.82   \n24236773  1555088220         1  245.0  5074.222857  5111.300000  5051.71   \n24236786  1555088280         1  308.0  5073.286667  5111.800000  5053.87   \n24236799  1555088340         1  262.0  5075.600000  5112.300000  5054.53   \n\n                Close     Volume         VWAP    Target  \n4         6106.002890   8.465268  6106.365069 -0.000313  \n15        6105.962000  20.668026  6107.661887 -0.000347  \n26        6105.531667  29.715174  6105.825348 -0.000655  \n37        6106.256000  23.940284  6106.207722 -0.000597  \n48        6106.108333  13.856197  6106.027932  0.000234  \n...               ...        ...          ...       ...  \n24236747  5074.040000  82.212045  5074.114509  0.000856  \n24236760  5073.958571  42.160399  5073.933994  0.000039  \n24236773  5074.697143  53.895518  5074.658289  0.000741  \n24236786  5074.163333  44.278444  5073.714956  0.000046  \n24236799  5075.772857  15.616399  5075.520624 -0.000687  \n\n[1956282 rows x 10 columns]",
      "text/html": "<div>\n<style scoped>\n    .dataframe tbody tr th:only-of-type {\n        vertical-align: middle;\n    }\n\n    .dataframe tbody tr th {\n        vertical-align: top;\n    }\n\n    .dataframe thead th {\n        text-align: right;\n    }\n</style>\n<table border=\"1\" class=\"dataframe\">\n  <thead>\n    <tr style=\"text-align: right;\">\n      <th></th>\n      <th>timestamp</th>\n      <th>Asset_ID</th>\n      <th>Count</th>\n      <th>Open</th>\n      <th>High</th>\n      <th>Low</th>\n      <th>Close</th>\n      <th>Volume</th>\n      <th>VWAP</th>\n      <th>Target</th>\n    </tr>\n  </thead>\n  <tbody>\n    <tr>\n      <th>4</th>\n      <td>1530202860</td>\n      <td>1</td>\n      <td>131.0</td>\n      <td>6106.436890</td>\n      <td>6114.840000</td>\n      <td>6100.00</td>\n      <td>6106.002890</td>\n      <td>8.465268</td>\n      <td>6106.365069</td>\n      <td>-0.000313</td>\n    </tr>\n    <tr>\n      <th>15</th>\n      <td>1530202920</td>\n      <td>1</td>\n      <td>158.0</td>\n      <td>6106.448890</td>\n      <td>6118.200000</td>\n      <td>6099.99</td>\n      <td>6105.962000</td>\n      <td>20.668026</td>\n      <td>6107.661887</td>\n      <td>-0.000347</td>\n    </tr>\n    <tr>\n      <th>26</th>\n      <td>1530202980</td>\n      <td>1</td>\n      <td>199.0</td>\n      <td>6106.128333</td>\n      <td>6116.980000</td>\n      <td>6099.99</td>\n      <td>6105.531667</td>\n      <td>29.715174</td>\n      <td>6105.825348</td>\n      <td>-0.000655</td>\n    </tr>\n    <tr>\n      <th>37</th>\n      <td>1530203040</td>\n      <td>1</td>\n      <td>201.0</td>\n      <td>6106.210000</td>\n      <td>6114.130000</td>\n      <td>6099.99</td>\n      <td>6106.256000</td>\n      <td>23.940284</td>\n      <td>6106.207722</td>\n      <td>-0.000597</td>\n    </tr>\n    <tr>\n      <th>48</th>\n      <td>1530203100</td>\n      <td>1</td>\n      <td>175.0</td>\n      <td>6105.706667</td>\n      <td>6116.580000</td>\n      <td>6099.99</td>\n      <td>6106.108333</td>\n      <td>13.856197</td>\n      <td>6106.027932</td>\n      <td>0.000234</td>\n    </tr>\n    <tr>\n      <th>...</th>\n      <td>...</td>\n      <td>...</td>\n      <td>...</td>\n      <td>...</td>\n      <td>...</td>\n      <td>...</td>\n      <td>...</td>\n      <td>...</td>\n      <td>...</td>\n      <td>...</td>\n    </tr>\n    <tr>\n      <th>24236747</th>\n      <td>1555088100</td>\n      <td>1</td>\n      <td>312.0</td>\n      <td>5073.663498</td>\n      <td>5111.324485</td>\n      <td>5050.39</td>\n      <td>5074.040000</td>\n      <td>82.212045</td>\n      <td>5074.114509</td>\n      <td>0.000856</td>\n    </tr>\n    <tr>\n      <th>24236760</th>\n      <td>1555088160</td>\n      <td>1</td>\n      <td>331.0</td>\n      <td>5074.042857</td>\n      <td>5111.300000</td>\n      <td>5050.82</td>\n      <td>5073.958571</td>\n      <td>42.160399</td>\n      <td>5073.933994</td>\n      <td>0.000039</td>\n    </tr>\n    <tr>\n      <th>24236773</th>\n      <td>1555088220</td>\n      <td>1</td>\n      <td>245.0</td>\n      <td>5074.222857</td>\n      <td>5111.300000</td>\n      <td>5051.71</td>\n      <td>5074.697143</td>\n      <td>53.895518</td>\n      <td>5074.658289</td>\n      <td>0.000741</td>\n    </tr>\n    <tr>\n      <th>24236786</th>\n      <td>1555088280</td>\n      <td>1</td>\n      <td>308.0</td>\n      <td>5073.286667</td>\n      <td>5111.800000</td>\n      <td>5053.87</td>\n      <td>5074.163333</td>\n      <td>44.278444</td>\n      <td>5073.714956</td>\n      <td>0.000046</td>\n    </tr>\n    <tr>\n      <th>24236799</th>\n      <td>1555088340</td>\n      <td>1</td>\n      <td>262.0</td>\n      <td>5075.600000</td>\n      <td>5112.300000</td>\n      <td>5054.53</td>\n      <td>5075.772857</td>\n      <td>15.616399</td>\n      <td>5075.520624</td>\n      <td>-0.000687</td>\n    </tr>\n  </tbody>\n</table>\n<p>1956282 rows × 10 columns</p>\n</div>"
     },
     "execution_count": 48,
     "metadata": {},
     "output_type": "execute_result"
    }
   ],
   "source": [
    "btc_asset_id = retrieve_crypto_id(asset_details,\"Bitcoin\")\n",
    "eth_asset_id = retrieve_crypto_id(asset_details,\"Ethereum\")\n",
    "\n",
    "btc = train[train[\"Asset_ID\"]==btc_asset_id]\n",
    "eth = train[train[\"Asset_ID\"]==btc_asset_id]\n",
    "\n",
    "btc"
   ],
   "metadata": {
    "collapsed": false,
    "ExecuteTime": {
     "end_time": "2023-12-12T23:01:30.855350Z",
     "start_time": "2023-12-12T23:01:23.509758Z"
    }
   },
   "id": "b00daf5a4eb2ed09"
  },
  {
   "cell_type": "markdown",
   "source": [
    "#### Task 2: Plotting Coin Correlation\n",
    "\n",
    "In this you’ll understand how we will plot coin correlation of all 14 coins for returns made."
   ],
   "metadata": {
    "collapsed": false
   },
   "id": "f90cc3ac04bdeb21"
  },
  {
   "cell_type": "code",
   "execution_count": null,
   "outputs": [],
   "source": [],
   "metadata": {
    "collapsed": false
   },
   "id": "4b5ee9fbff507f5e"
  },
  {
   "cell_type": "markdown",
   "source": [
    "### Module 4: Prediction\n",
    "\n",
    "LightGBM is a gradient boosting framework that uses tree based learning algorithms. It is designed to be distributed and efficient with the following advantages:\n",
    "\n",
    "* Faster training speed and higher efficiency (6 times faster than XGBoost)\n",
    "* Lower memory usage\n",
    "* Better accuracy\n",
    "* Support of parallel, distributed, and GPU learning\n",
    "* Capable of handling large-scale data\n",
    "\n",
    "Only situation where LGBM is not advised is with small datasets because of its sensitivity to overfitting. We will harness this powerful ML model to make predictions based on a large dataset containing 4 years worth of cryptocurrency data."
   ],
   "metadata": {
    "collapsed": false
   },
   "id": "fb2a0d56eb04b5d9"
  },
  {
   "cell_type": "code",
   "execution_count": null,
   "outputs": [],
   "source": [],
   "metadata": {
    "collapsed": false
   },
   "id": "bedd8918c6c4196"
  },
  {
   "cell_type": "markdown",
   "source": [
    "#### Task 1: Feature Engineering\n",
    "\n",
    "In this you’ll understand how we create some new features using fields from data."
   ],
   "metadata": {
    "collapsed": false
   },
   "id": "28759f6d8aa4090"
  },
  {
   "cell_type": "code",
   "execution_count": null,
   "outputs": [],
   "source": [],
   "metadata": {
    "collapsed": false
   },
   "id": "c2896885dbd0e8b1"
  },
  {
   "cell_type": "markdown",
   "source": [
    "#### Task 2: Building LGBM Model\n",
    "\n",
    "In this you’ll understand how we will build the model."
   ],
   "metadata": {
    "collapsed": false
   },
   "id": "45d692ad6f29cbfa"
  },
  {
   "cell_type": "code",
   "execution_count": null,
   "outputs": [],
   "source": [],
   "metadata": {
    "collapsed": false
   },
   "id": "63f7ccebf8aa9867"
  },
  {
   "cell_type": "markdown",
   "source": [
    "#### Task 3: Hyperparameter Tuning\n",
    "\n",
    "In this you’ll understand how we will tune the hyperparameters of the model."
   ],
   "metadata": {
    "collapsed": false
   },
   "id": "9c6115b5db4905f2"
  },
  {
   "cell_type": "code",
   "execution_count": null,
   "outputs": [],
   "source": [],
   "metadata": {
    "collapsed": false
   },
   "id": "4fbd92471c3fb110"
  },
  {
   "cell_type": "markdown",
   "source": [
    "#### Task 4: Evaluation And Prediction\n",
    "\n",
    "In this you’ll understand how we will use the model to predict on test data and evaluate the performance."
   ],
   "metadata": {
    "collapsed": false
   },
   "id": "d4ee4ba15ad5fd7f"
  },
  {
   "cell_type": "code",
   "execution_count": null,
   "outputs": [],
   "source": [],
   "metadata": {
    "collapsed": false
   },
   "id": "f01d35b6d75b0656"
  }
 ],
 "metadata": {
  "kernelspec": {
   "display_name": "Python 3",
   "language": "python",
   "name": "python3"
  },
  "language_info": {
   "codemirror_mode": {
    "name": "ipython",
    "version": 2
   },
   "file_extension": ".py",
   "mimetype": "text/x-python",
   "name": "python",
   "nbconvert_exporter": "python",
   "pygments_lexer": "ipython2",
   "version": "2.7.6"
  }
 },
 "nbformat": 4,
 "nbformat_minor": 5
}
