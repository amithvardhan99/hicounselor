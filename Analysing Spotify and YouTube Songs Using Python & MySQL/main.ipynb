{
 "cells": [
  {
   "cell_type": "code",
   "execution_count": 15,
   "metadata": {
    "collapsed": true,
    "ExecuteTime": {
     "end_time": "2023-07-19T01:21:06.114030Z",
     "start_time": "2023-07-19T01:21:06.109380Z"
    }
   },
   "outputs": [],
   "source": [
    "import pandas as pd\n",
    "import warnings\n",
    "warnings.filterwarnings(\"ignore\")"
   ]
  },
  {
   "cell_type": "code",
   "execution_count": 16,
   "outputs": [],
   "source": [
    "def Remove_columns():\n",
    "    df = pd.read_csv('Spotify_Youtuben.csv')\n",
    "    df.drop([\"Url_spotify\",\"Uri\",\"Key\",\"Url_youtube\",\"Description\"],axis=1,inplace=True)\n",
    "    return df"
   ],
   "metadata": {
    "collapsed": false,
    "ExecuteTime": {
     "end_time": "2023-07-19T01:21:06.518290Z",
     "start_time": "2023-07-19T01:21:06.515994Z"
    }
   }
  },
  {
   "cell_type": "code",
   "execution_count": 17,
   "outputs": [],
   "source": [
    "def no_of_null_values():\n",
    "    df1=Remove_columns()\n",
    "    df = df1.isna().sum()\n",
    "    return df"
   ],
   "metadata": {
    "collapsed": false,
    "ExecuteTime": {
     "end_time": "2023-07-19T01:21:06.852486Z",
     "start_time": "2023-07-19T01:21:06.847935Z"
    }
   }
  },
  {
   "cell_type": "code",
   "execution_count": 18,
   "outputs": [],
   "source": [
    "def Handle_Null_values():\n",
    "    #Do not remove the following code statment\n",
    "    df=Remove_columns()\n",
    "\n",
    "    #WRITE YOUR CODE HERE ACCORDING TO THE DESCRIPTION\n",
    "    df[\"Danceability\"].fillna(0.0,inplace=True)\n",
    "    df[\"Energy\"].fillna(0.0,inplace=True)\n",
    "    df[\"Loudness\"].fillna(0.0,inplace=True)\n",
    "    df[\"Speechiness\"].fillna(0.0,inplace=True)\n",
    "    df[\"Acousticness\"].fillna(0.0,inplace=True)\n",
    "    df[\"Instrumentalness\"].fillna(0.0,inplace=True)\n",
    "    df[\"Liveness\"].fillna(0.0,inplace=True)\n",
    "    df[\"Valence\"].fillna(0.0,inplace=True)\n",
    "    df[\"Tempo\"].fillna(0.0,inplace=True)\n",
    "    df[\"Duration_ms\"].fillna(0.0,inplace=True)\n",
    "    df[\"Views\"].fillna(0.0,inplace=True)\n",
    "    df[\"Likes\"].fillna(0.0,inplace=True)\n",
    "    df[\"Comments\"].fillna(0.0,inplace=True)\n",
    "    df[\"Stream\"].fillna(0.0,inplace=True)\n",
    "\n",
    "    df[\"Title\"].fillna(\"NA\",inplace=True)\n",
    "    df[\"Channel\"].fillna(\"NA\",inplace=True)\n",
    "    df[\"Licensed\"].fillna(\"NA\",inplace=True)\n",
    "    df[\"official_video\"].fillna(\"NA\",inplace=True)\n",
    "    #return dataframe\n",
    "    return df"
   ],
   "metadata": {
    "collapsed": false,
    "ExecuteTime": {
     "end_time": "2023-07-19T01:21:07.178259Z",
     "start_time": "2023-07-19T01:21:07.175869Z"
    }
   }
  },
  {
   "cell_type": "code",
   "execution_count": 19,
   "outputs": [],
   "source": [
    "def drop_the_duplicates():\n",
    "    #Do not remove the following code statment\n",
    "    df=Handle_Null_values()\n",
    "\n",
    "    #WRITE YOUR CODE HERE\n",
    "    df.drop_duplicates(keep=\"first\",inplace=True)\n",
    "    #return dataframe\n",
    "    return df"
   ],
   "metadata": {
    "collapsed": false,
    "ExecuteTime": {
     "end_time": "2023-07-19T01:21:07.543711Z",
     "start_time": "2023-07-19T01:21:07.531922Z"
    }
   }
  },
  {
   "cell_type": "code",
   "execution_count": 20,
   "outputs": [],
   "source": [
    "def convert_milisecond_to_Minute():\n",
    "    #Do not remove the following code statment\n",
    "    df=drop_the_duplicates()\n",
    "\n",
    "    #WRITE YOUR CODE HERE\n",
    "    df[\"Duration_ms\"] = df[\"Duration_ms\"]/(1000*60)\n",
    "    #return dataframe\n",
    "    return df"
   ],
   "metadata": {
    "collapsed": false,
    "ExecuteTime": {
     "end_time": "2023-07-19T01:21:07.878747Z",
     "start_time": "2023-07-19T01:21:07.875554Z"
    }
   }
  },
  {
   "cell_type": "code",
   "execution_count": 21,
   "outputs": [],
   "source": [
    " def rename_modified_column():\n",
    "    #Do not remove the following code statment\n",
    "    df=convert_milisecond_to_Minute()\n",
    "\n",
    "    #WRITE YOUR CODE HERE\n",
    "    df.rename(columns={\"Duration_ms\":'Duration_min'},inplace=True)\n",
    "    #return dataframe\n",
    "    return df"
   ],
   "metadata": {
    "collapsed": false,
    "ExecuteTime": {
     "end_time": "2023-07-19T01:21:08.255038Z",
     "start_time": "2023-07-19T01:21:08.252382Z"
    }
   }
  },
  {
   "cell_type": "code",
   "execution_count": 22,
   "outputs": [],
   "source": [
    "def Irrelevant_Track_name():\n",
    "    #Do not remove the following code statment\n",
    "    df=rename_modified_column()\n",
    "    #WRITE YOUR CODE HERE\n",
    "    df = df[df[\"Track\"].str.startswith(\"?\")==False]\n",
    "    #return dataframe\n",
    "    return df"
   ],
   "metadata": {
    "collapsed": false,
    "ExecuteTime": {
     "end_time": "2023-07-19T01:21:08.583949Z",
     "start_time": "2023-07-19T01:21:08.579135Z"
    }
   }
  },
  {
   "cell_type": "code",
   "execution_count": 23,
   "outputs": [],
   "source": [
    "def Energy_to_liveness_Ratio():\n",
    "    #Do not remove the following code statment\n",
    "    df=Irrelevant_Track_name()\n",
    "\n",
    "    #WRITE YOUR CODE HERE\n",
    "    df[\"EnergyLiveness\"] = df[\"Energy\"]/df[\"Liveness\"]\n",
    "\n",
    "    #return dataframe\n",
    "    return df"
   ],
   "metadata": {
    "collapsed": false,
    "ExecuteTime": {
     "end_time": "2023-07-19T01:21:09.051801Z",
     "start_time": "2023-07-19T01:21:09.049169Z"
    }
   }
  },
  {
   "cell_type": "code",
   "execution_count": 24,
   "outputs": [],
   "source": [
    "def change_the_datatype():\n",
    "    #Do not remove the following code statment\n",
    "    df=Energy_to_liveness_Ratio()\n",
    "\n",
    "    #WRITE YOUR CODE HERE\n",
    "    df[\"Views\"] = df[\"Views\"].astype(\"float\")\n",
    "\n",
    "    #return dataframe\n",
    "    return df"
   ],
   "metadata": {
    "collapsed": false,
    "ExecuteTime": {
     "end_time": "2023-07-19T01:21:09.466073Z",
     "start_time": "2023-07-19T01:21:09.463511Z"
    }
   }
  },
  {
   "cell_type": "code",
   "execution_count": 25,
   "outputs": [],
   "source": [
    "def compare_the_views():\n",
    "    #Do not remove the following code statment\n",
    "    df=change_the_datatype()\n",
    "\n",
    "    #WRITE YOUR CODE HERE\n",
    "    df[\"Stream\"] = df[\"Stream\"].astype(\"float64\")\n",
    "    df[\"Views\"] = df[\"Views\"].astype(\"float64\")\n",
    "    f = lambda x: \"Spotify\" if x[\"Stream\"]>x[\"Views\"] else \"Youtube\"\n",
    "    k = df.apply(f,axis=1)\n",
    "    df[\"most_playedon\"] = k.str.title()\n",
    "    return df"
   ],
   "metadata": {
    "collapsed": false,
    "ExecuteTime": {
     "end_time": "2023-07-19T01:21:09.906392Z",
     "start_time": "2023-07-19T01:21:09.904355Z"
    }
   }
  },
  {
   "cell_type": "markdown",
   "source": [
    "### My Code"
   ],
   "metadata": {
    "collapsed": false
   }
  },
  {
   "cell_type": "code",
   "execution_count": 26,
   "outputs": [],
   "source": [
    "df = compare_the_views()\n",
    "df.to_csv(\"cleaned_dataset.csv\",index=False)"
   ],
   "metadata": {
    "collapsed": false,
    "ExecuteTime": {
     "end_time": "2023-07-19T01:25:47.624991Z",
     "start_time": "2023-07-19T01:25:47.137588Z"
    }
   }
  },
  {
   "cell_type": "code",
   "execution_count": null,
   "outputs": [],
   "source": [],
   "metadata": {
    "collapsed": false
   }
  }
 ],
 "metadata": {
  "kernelspec": {
   "display_name": "Python 3",
   "language": "python",
   "name": "python3"
  },
  "language_info": {
   "codemirror_mode": {
    "name": "ipython",
    "version": 2
   },
   "file_extension": ".py",
   "mimetype": "text/x-python",
   "name": "python",
   "nbconvert_exporter": "python",
   "pygments_lexer": "ipython2",
   "version": "2.7.6"
  }
 },
 "nbformat": 4,
 "nbformat_minor": 0
}
