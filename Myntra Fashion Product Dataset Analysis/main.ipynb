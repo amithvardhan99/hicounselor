{
 "cells": [
  {
   "cell_type": "code",
   "execution_count": 103,
   "id": "initial_id",
   "metadata": {
    "collapsed": true,
    "ExecuteTime": {
     "end_time": "2023-08-14T23:15:52.737385Z",
     "start_time": "2023-08-14T23:15:52.732457Z"
    }
   },
   "outputs": [],
   "source": [
    "import pandas as pd\n",
    "import matplotlib.pyplot as plt\n",
    "import sys\n",
    "import numpy as np\n",
    "import warnings\n",
    "warnings.filterwarnings(\"ignore\")\n",
    "from mysql.connector import *"
   ]
  },
  {
   "cell_type": "code",
   "execution_count": 104,
   "outputs": [],
   "source": [
    "HOST = 'localhost'\n",
    "USERNAME = 'root'\n",
    "PASSWORD = 'Mini*9247'\n",
    "DATABASE = 'b217e297'"
   ],
   "metadata": {
    "collapsed": false,
    "ExecuteTime": {
     "end_time": "2023-08-14T23:15:53.098588Z",
     "start_time": "2023-08-14T23:15:53.094944Z"
    }
   },
   "id": "99e39e89cd3b8f4f"
  },
  {
   "cell_type": "code",
   "execution_count": 105,
   "outputs": [],
   "source": [
    "def connecting_db_and_loading_data():\n",
    "    query = \"select * from cleandata where avg_rating>4 and ratingCount>2000;\"\n",
    "    mydb = connection.connect(host=HOST, port=\"3306\", database=DATABASE, user=USERNAME, passwd=PASSWORD)\n",
    "    df = pd.read_sql(query, mydb)\n",
    "    return df"
   ],
   "metadata": {
    "collapsed": false,
    "ExecuteTime": {
     "end_time": "2023-08-14T23:15:53.470089Z",
     "start_time": "2023-08-14T23:15:53.466869Z"
    }
   },
   "id": "9797079e718c48d5"
  },
  {
   "cell_type": "code",
   "execution_count": 106,
   "outputs": [],
   "source": [
    "def good_products():\n",
    "    df = connecting_db_and_loading_data()\n",
    "    return df.shape[0]"
   ],
   "metadata": {
    "collapsed": false,
    "ExecuteTime": {
     "end_time": "2023-08-14T23:15:54.142036Z",
     "start_time": "2023-08-14T23:15:54.136751Z"
    }
   },
   "id": "ff587a8a3e10bce9"
  },
  {
   "cell_type": "code",
   "execution_count": 107,
   "outputs": [],
   "source": [
    "def task_runner():\n",
    "    print(good_products())"
   ],
   "metadata": {
    "collapsed": false,
    "ExecuteTime": {
     "end_time": "2023-08-14T23:15:54.659411Z",
     "start_time": "2023-08-14T23:15:54.655094Z"
    }
   },
   "id": "883d80028ad949bc"
  },
  {
   "cell_type": "code",
   "execution_count": 108,
   "outputs": [],
   "source": [
    "def plotting_x_and_y_():\n",
    "    #write your code here\n",
    "    df = connecting_db_and_loading_data()\n",
    "    df_br_avg = df[[\"brand\",\"avg_rating\"]].copy()\n",
    "    df_grp = df[[\"brand\",\"avg_rating\"]].groupby(\"brand\")\n",
    "    grp = df_grp.mean().reset_index()\n",
    "    x = np.array(grp[\"brand\"])\n",
    "    y = grp[\"avg_rating\"].round(2)\n",
    "    return x,y"
   ],
   "metadata": {
    "collapsed": false,
    "ExecuteTime": {
     "end_time": "2023-08-14T23:15:55.502339Z",
     "start_time": "2023-08-14T23:15:55.493631Z"
    }
   },
   "id": "6a5c85f943ef2c28"
  },
  {
   "cell_type": "code",
   "execution_count": 109,
   "outputs": [],
   "source": [
    "def task_runner():\n",
    "    #print(\"x value are: \\n {}, \\n y values are:\\n {}\".format(xaxis, yaxis))\n",
    "    x,y= plotting_x_and_y_()\n",
    "    print(x,y)"
   ],
   "metadata": {
    "collapsed": false,
    "ExecuteTime": {
     "end_time": "2023-08-14T23:15:55.802761Z",
     "start_time": "2023-08-14T23:15:55.791802Z"
    }
   },
   "id": "50c9c608bd8bd1c"
  },
  {
   "cell_type": "code",
   "execution_count": 110,
   "outputs": [],
   "source": [
    "# This module makes use of mysql connector and pandas to filter the products that are trending in the market the criteria being the average rating of greater than 4.4 and bought by more than 3000 people."
   ],
   "metadata": {
    "collapsed": false,
    "ExecuteTime": {
     "end_time": "2023-08-14T23:15:56.783322Z",
     "start_time": "2023-08-14T23:15:56.778464Z"
    }
   },
   "id": "d2bb055a2aa015d8"
  },
  {
   "cell_type": "code",
   "execution_count": 114,
   "outputs": [],
   "source": [
    "df = connecting_db_and_loading_data()\n",
    "df[\"avg_rating\"] = df[\"avg_rating\"].round(2)\n",
    "df_mod = df[(df[\"avg_rating\"]>4.4) & (df[\"ratingCount\"]>3000)]"
   ],
   "metadata": {
    "collapsed": false,
    "ExecuteTime": {
     "end_time": "2023-08-14T23:17:17.419974Z",
     "start_time": "2023-08-14T23:17:17.401513Z"
    }
   },
   "id": "58b1a7a72c67a1d"
  },
  {
   "cell_type": "code",
   "execution_count": 115,
   "outputs": [
    {
     "data": {
      "text/plain": "        p_id                                               name  price  \\\n0   17048614  Khushal K Women Black Ethnic Motifs Printed Ku...   5099   \n2   14046594  Libas Women Navy Blue Pure Cotton Floral Print...   3599   \n28  13719116       Athena Chic Fuchsia Pink Power Shoulders Top   1299   \n30  12222036              SASSAFRAS Black High Neck Cropped Top    999   \n32  11157052               QUIERO Black & White Embroidered Top   1789   \n74   7320165         Libas Women Black Embroidered A-Line Kurti   1499   \n75  11458584  Mitera Yellow Silk Blend Woven Design Kanjeeva...   4080   \n79  10856322  SASSAFRAS Women Black Ribbed Longline Open Fro...   1799   \n80  10856140  SASSAFRAS Women Burgundy Ribbed Longline Open ...   1799   \n\n       colour      brand  ratingCount  avg_rating  \n0       Black  Khushal K         4522        4.42  \n2   Navy Blue      Libas         8695        4.44  \n28    Fuchsia     Athena        11553        4.53  \n30      Black  SASSAFRAS        19656        4.49  \n32      Black     QUIERO         4161        4.47  \n74      Black      Libas         3538        4.50  \n75     Yellow     Mitera         5144        4.45  \n79      Black  SASSAFRAS         4458        4.48  \n80   Burgundy  SASSAFRAS         3531        4.56  ",
      "text/html": "<div>\n<style scoped>\n    .dataframe tbody tr th:only-of-type {\n        vertical-align: middle;\n    }\n\n    .dataframe tbody tr th {\n        vertical-align: top;\n    }\n\n    .dataframe thead th {\n        text-align: right;\n    }\n</style>\n<table border=\"1\" class=\"dataframe\">\n  <thead>\n    <tr style=\"text-align: right;\">\n      <th></th>\n      <th>p_id</th>\n      <th>name</th>\n      <th>price</th>\n      <th>colour</th>\n      <th>brand</th>\n      <th>ratingCount</th>\n      <th>avg_rating</th>\n    </tr>\n  </thead>\n  <tbody>\n    <tr>\n      <th>0</th>\n      <td>17048614</td>\n      <td>Khushal K Women Black Ethnic Motifs Printed Ku...</td>\n      <td>5099</td>\n      <td>Black</td>\n      <td>Khushal K</td>\n      <td>4522</td>\n      <td>4.42</td>\n    </tr>\n    <tr>\n      <th>2</th>\n      <td>14046594</td>\n      <td>Libas Women Navy Blue Pure Cotton Floral Print...</td>\n      <td>3599</td>\n      <td>Navy Blue</td>\n      <td>Libas</td>\n      <td>8695</td>\n      <td>4.44</td>\n    </tr>\n    <tr>\n      <th>28</th>\n      <td>13719116</td>\n      <td>Athena Chic Fuchsia Pink Power Shoulders Top</td>\n      <td>1299</td>\n      <td>Fuchsia</td>\n      <td>Athena</td>\n      <td>11553</td>\n      <td>4.53</td>\n    </tr>\n    <tr>\n      <th>30</th>\n      <td>12222036</td>\n      <td>SASSAFRAS Black High Neck Cropped Top</td>\n      <td>999</td>\n      <td>Black</td>\n      <td>SASSAFRAS</td>\n      <td>19656</td>\n      <td>4.49</td>\n    </tr>\n    <tr>\n      <th>32</th>\n      <td>11157052</td>\n      <td>QUIERO Black &amp; White Embroidered Top</td>\n      <td>1789</td>\n      <td>Black</td>\n      <td>QUIERO</td>\n      <td>4161</td>\n      <td>4.47</td>\n    </tr>\n    <tr>\n      <th>74</th>\n      <td>7320165</td>\n      <td>Libas Women Black Embroidered A-Line Kurti</td>\n      <td>1499</td>\n      <td>Black</td>\n      <td>Libas</td>\n      <td>3538</td>\n      <td>4.50</td>\n    </tr>\n    <tr>\n      <th>75</th>\n      <td>11458584</td>\n      <td>Mitera Yellow Silk Blend Woven Design Kanjeeva...</td>\n      <td>4080</td>\n      <td>Yellow</td>\n      <td>Mitera</td>\n      <td>5144</td>\n      <td>4.45</td>\n    </tr>\n    <tr>\n      <th>79</th>\n      <td>10856322</td>\n      <td>SASSAFRAS Women Black Ribbed Longline Open Fro...</td>\n      <td>1799</td>\n      <td>Black</td>\n      <td>SASSAFRAS</td>\n      <td>4458</td>\n      <td>4.48</td>\n    </tr>\n    <tr>\n      <th>80</th>\n      <td>10856140</td>\n      <td>SASSAFRAS Women Burgundy Ribbed Longline Open ...</td>\n      <td>1799</td>\n      <td>Burgundy</td>\n      <td>SASSAFRAS</td>\n      <td>3531</td>\n      <td>4.56</td>\n    </tr>\n  </tbody>\n</table>\n</div>"
     },
     "execution_count": 115,
     "metadata": {},
     "output_type": "execute_result"
    }
   ],
   "source": [
    "df_mod"
   ],
   "metadata": {
    "collapsed": false,
    "ExecuteTime": {
     "end_time": "2023-08-14T23:17:20.944576Z",
     "start_time": "2023-08-14T23:17:20.934549Z"
    }
   },
   "id": "a1defc467ac10346"
  },
  {
   "cell_type": "code",
   "execution_count": null,
   "outputs": [],
   "source": [],
   "metadata": {
    "collapsed": false
   },
   "id": "2e0e704add940d16"
  }
 ],
 "metadata": {
  "kernelspec": {
   "display_name": "Python 3",
   "language": "python",
   "name": "python3"
  },
  "language_info": {
   "codemirror_mode": {
    "name": "ipython",
    "version": 2
   },
   "file_extension": ".py",
   "mimetype": "text/x-python",
   "name": "python",
   "nbconvert_exporter": "python",
   "pygments_lexer": "ipython2",
   "version": "2.7.6"
  }
 },
 "nbformat": 4,
 "nbformat_minor": 5
}
