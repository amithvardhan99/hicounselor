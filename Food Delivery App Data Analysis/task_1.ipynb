{
 "cells": [
  {
   "cell_type": "code",
   "execution_count": 77,
   "metadata": {
    "collapsed": true,
    "ExecuteTime": {
     "end_time": "2023-06-27T00:52:16.020017Z",
     "start_time": "2023-06-27T00:52:16.013916Z"
    }
   },
   "outputs": [],
   "source": [
    "import numpy as np\n",
    "import pandas as pd\n",
    "import matplotlib.pyplot as plt\n",
    "import seaborn as sns\n",
    "import mysql.connector as conn"
   ]
  },
  {
   "cell_type": "code",
   "execution_count": 78,
   "outputs": [
    {
     "data": {
      "text/plain": "                                                    name online_order   \n0                                                  Jalsa          Yes  \\\n1                                         Spice Elephant          Yes   \n2                                        San Churro Cafe          Yes   \n3                                  Addhuri Udupi Bhojana           No   \n4                                          Grand Village           No   \n...                                                  ...          ...   \n56247  Best Brews - Four Points by Sheraton Bengaluru...           No   \n56248                           Vinod Bar And Restaurant           No   \n56249  Plunge - Sheraton Grand Bengaluru Whitefield H...           No   \n56250  Chime - Sheraton Grand Bengaluru Whitefield Ho...           No   \n56251                       The Nest - The Den Bengaluru           No   \n\n      book_table    rate votes                    location   \n0            Yes   4.1/5   775                Banashankari  \\\n1             No   4.1/5   787                Banashankari   \n2             No   3.8/5   918                Banashankari   \n3             No   3.7/5    88                Banashankari   \n4             No   3.8/5   166                Basavanagudi   \n...          ...     ...   ...                         ...   \n56247         No  3.6 /5    27                  Whitefield   \n56248         No     NaN     0                  Whitefield   \n56249         No     NaN     0                  Whitefield   \n56250        Yes  4.3 /5   236  ITPL Main Road, Whitefield   \n56251         No  3.4 /5    13  ITPL Main Road, Whitefield   \n\n                 rest_type                                         dish_liked   \n0            Casual Dining  Pasta, Lunch Buffet, Masala Papad, Paneer Laja...  \\\n1            Casual Dining  Momos, Lunch Buffet, Chocolate Nirvana, Thai G...   \n2      Cafe, Casual Dining  Churros, Cannelloni, Minestrone Soup, Hot Choc...   \n3              Quick Bites                                        Masala Dosa   \n4            Casual Dining                                Panipuri, Gol Gappe   \n...                    ...                                                ...   \n56247                  Bar                                                NaN   \n56248                  Bar                                                NaN   \n56249                  Bar                                                NaN   \n56250                  Bar                       Cocktails, Pizza, Buttermilk   \n56251   Bar, Casual Dining                                                NaN   \n\n                                     cuisines approx_cost(for two people)   \n0              North Indian, Mughlai, Chinese                         800  \\\n1                 Chinese, North Indian, Thai                         800   \n2                      Cafe, Mexican, Italian                         800   \n3                  South Indian, North Indian                         300   \n4                    North Indian, Rajasthani                         600   \n...                                       ...                         ...   \n56247                             Continental                       1,500   \n56248                             Finger Food                         600   \n56249                             Finger Food                       2,000   \n56250                             Finger Food                       2,500   \n56251  Finger Food, North Indian, Continental                       1,500   \n\n      listed_in(type)  \n0              Buffet  \n1              Buffet  \n2              Buffet  \n3              Buffet  \n4              Buffet  \n...               ...  \n56247   Pubs and bars  \n56248   Pubs and bars  \n56249   Pubs and bars  \n56250   Pubs and bars  \n56251   Pubs and bars  \n\n[56252 rows x 11 columns]",
      "text/html": "<div>\n<style scoped>\n    .dataframe tbody tr th:only-of-type {\n        vertical-align: middle;\n    }\n\n    .dataframe tbody tr th {\n        vertical-align: top;\n    }\n\n    .dataframe thead th {\n        text-align: right;\n    }\n</style>\n<table border=\"1\" class=\"dataframe\">\n  <thead>\n    <tr style=\"text-align: right;\">\n      <th></th>\n      <th>name</th>\n      <th>online_order</th>\n      <th>book_table</th>\n      <th>rate</th>\n      <th>votes</th>\n      <th>location</th>\n      <th>rest_type</th>\n      <th>dish_liked</th>\n      <th>cuisines</th>\n      <th>approx_cost(for two people)</th>\n      <th>listed_in(type)</th>\n    </tr>\n  </thead>\n  <tbody>\n    <tr>\n      <th>0</th>\n      <td>Jalsa</td>\n      <td>Yes</td>\n      <td>Yes</td>\n      <td>4.1/5</td>\n      <td>775</td>\n      <td>Banashankari</td>\n      <td>Casual Dining</td>\n      <td>Pasta, Lunch Buffet, Masala Papad, Paneer Laja...</td>\n      <td>North Indian, Mughlai, Chinese</td>\n      <td>800</td>\n      <td>Buffet</td>\n    </tr>\n    <tr>\n      <th>1</th>\n      <td>Spice Elephant</td>\n      <td>Yes</td>\n      <td>No</td>\n      <td>4.1/5</td>\n      <td>787</td>\n      <td>Banashankari</td>\n      <td>Casual Dining</td>\n      <td>Momos, Lunch Buffet, Chocolate Nirvana, Thai G...</td>\n      <td>Chinese, North Indian, Thai</td>\n      <td>800</td>\n      <td>Buffet</td>\n    </tr>\n    <tr>\n      <th>2</th>\n      <td>San Churro Cafe</td>\n      <td>Yes</td>\n      <td>No</td>\n      <td>3.8/5</td>\n      <td>918</td>\n      <td>Banashankari</td>\n      <td>Cafe, Casual Dining</td>\n      <td>Churros, Cannelloni, Minestrone Soup, Hot Choc...</td>\n      <td>Cafe, Mexican, Italian</td>\n      <td>800</td>\n      <td>Buffet</td>\n    </tr>\n    <tr>\n      <th>3</th>\n      <td>Addhuri Udupi Bhojana</td>\n      <td>No</td>\n      <td>No</td>\n      <td>3.7/5</td>\n      <td>88</td>\n      <td>Banashankari</td>\n      <td>Quick Bites</td>\n      <td>Masala Dosa</td>\n      <td>South Indian, North Indian</td>\n      <td>300</td>\n      <td>Buffet</td>\n    </tr>\n    <tr>\n      <th>4</th>\n      <td>Grand Village</td>\n      <td>No</td>\n      <td>No</td>\n      <td>3.8/5</td>\n      <td>166</td>\n      <td>Basavanagudi</td>\n      <td>Casual Dining</td>\n      <td>Panipuri, Gol Gappe</td>\n      <td>North Indian, Rajasthani</td>\n      <td>600</td>\n      <td>Buffet</td>\n    </tr>\n    <tr>\n      <th>...</th>\n      <td>...</td>\n      <td>...</td>\n      <td>...</td>\n      <td>...</td>\n      <td>...</td>\n      <td>...</td>\n      <td>...</td>\n      <td>...</td>\n      <td>...</td>\n      <td>...</td>\n      <td>...</td>\n    </tr>\n    <tr>\n      <th>56247</th>\n      <td>Best Brews - Four Points by Sheraton Bengaluru...</td>\n      <td>No</td>\n      <td>No</td>\n      <td>3.6 /5</td>\n      <td>27</td>\n      <td>Whitefield</td>\n      <td>Bar</td>\n      <td>NaN</td>\n      <td>Continental</td>\n      <td>1,500</td>\n      <td>Pubs and bars</td>\n    </tr>\n    <tr>\n      <th>56248</th>\n      <td>Vinod Bar And Restaurant</td>\n      <td>No</td>\n      <td>No</td>\n      <td>NaN</td>\n      <td>0</td>\n      <td>Whitefield</td>\n      <td>Bar</td>\n      <td>NaN</td>\n      <td>Finger Food</td>\n      <td>600</td>\n      <td>Pubs and bars</td>\n    </tr>\n    <tr>\n      <th>56249</th>\n      <td>Plunge - Sheraton Grand Bengaluru Whitefield H...</td>\n      <td>No</td>\n      <td>No</td>\n      <td>NaN</td>\n      <td>0</td>\n      <td>Whitefield</td>\n      <td>Bar</td>\n      <td>NaN</td>\n      <td>Finger Food</td>\n      <td>2,000</td>\n      <td>Pubs and bars</td>\n    </tr>\n    <tr>\n      <th>56250</th>\n      <td>Chime - Sheraton Grand Bengaluru Whitefield Ho...</td>\n      <td>No</td>\n      <td>Yes</td>\n      <td>4.3 /5</td>\n      <td>236</td>\n      <td>ITPL Main Road, Whitefield</td>\n      <td>Bar</td>\n      <td>Cocktails, Pizza, Buttermilk</td>\n      <td>Finger Food</td>\n      <td>2,500</td>\n      <td>Pubs and bars</td>\n    </tr>\n    <tr>\n      <th>56251</th>\n      <td>The Nest - The Den Bengaluru</td>\n      <td>No</td>\n      <td>No</td>\n      <td>3.4 /5</td>\n      <td>13</td>\n      <td>ITPL Main Road, Whitefield</td>\n      <td>Bar, Casual Dining</td>\n      <td>NaN</td>\n      <td>Finger Food, North Indian, Continental</td>\n      <td>1,500</td>\n      <td>Pubs and bars</td>\n    </tr>\n  </tbody>\n</table>\n<p>56252 rows × 11 columns</p>\n</div>"
     },
     "execution_count": 78,
     "metadata": {},
     "output_type": "execute_result"
    }
   ],
   "source": [
    "def read_data_from_csv():\n",
    "    hotels=pd.read_csv('zomato.csv')\n",
    "    hotels=hotels[['name', 'online_order', 'book_table', 'rate', 'votes', 'location','rest_type', 'dish_liked', 'cuisines', 'approx_cost(for two people)','listed_in(type)']]\n",
    "    return hotels\n",
    "read_data_from_csv()"
   ],
   "metadata": {
    "collapsed": false,
    "ExecuteTime": {
     "end_time": "2023-06-27T00:52:16.544593Z",
     "start_time": "2023-06-27T00:52:16.382623Z"
    }
   }
  },
  {
   "cell_type": "code",
   "execution_count": 79,
   "outputs": [],
   "source": [
    "def remove_unwanted_columns():\n",
    "    #DO NOT REMOVE FOLLOWING LINE\n",
    "    #call read_data_from_csv() function to get dataframe\n",
    "    hotels=read_data_from_csv()\n",
    "    hotels.columns = ['name', 'online_order', 'book_table', 'rating', 'votes', 'location','rest_type', 'dish_liked', 'cuisines', 'approx_cost','type']\n",
    "    return hotels\n",
    "\n",
    "\n",
    "def rename_columns():\n",
    "    #DO NOT REMOVE FOLLOWING LINE\n",
    "    #call remove_unwanted_columns() function to get dataframe\n",
    "    hotels = remove_unwanted_columns()\n",
    "    #task2: rename columns,  only these columns are allowed in the dataset\n",
    "    # 1.\tId\n",
    "    # 2.\tName\n",
    "    # 3.\tonline_order\n",
    "    # 4.\tbook_table\n",
    "    # 5.\trating\n",
    "    # 6.\tvotes\n",
    "    # 7.\tlocation\n",
    "    # 8.\trest_type\n",
    "    # 9.\tdish_liked\n",
    "    # 10.\tcuisines\n",
    "    # 11.\tapprox_cost\n",
    "    # 12.\ttype\n",
    "    return hotels"
   ],
   "metadata": {
    "collapsed": false,
    "ExecuteTime": {
     "end_time": "2023-06-27T00:52:16.787135Z",
     "start_time": "2023-06-27T00:52:16.783415Z"
    }
   }
  },
  {
   "cell_type": "code",
   "execution_count": 80,
   "outputs": [
    {
     "data": {
      "text/plain": "                                                    name online_order   \n0                                                  Jalsa          Yes  \\\n1                                         Spice Elephant          Yes   \n2                                        San Churro Cafe          Yes   \n3                                  Addhuri Udupi Bhojana           No   \n4                                          Grand Village           No   \n...                                                  ...          ...   \n56247  Best Brews - Four Points by Sheraton Bengaluru...           No   \n56248                           Vinod Bar And Restaurant           No   \n56249  Plunge - Sheraton Grand Bengaluru Whitefield H...           No   \n56250  Chime - Sheraton Grand Bengaluru Whitefield Ho...           No   \n56251                       The Nest - The Den Bengaluru           No   \n\n      book_table  rating votes                    location   \n0            Yes   4.1/5   775                Banashankari  \\\n1             No   4.1/5   787                Banashankari   \n2             No   3.8/5   918                Banashankari   \n3             No   3.7/5    88                Banashankari   \n4             No   3.8/5   166                Basavanagudi   \n...          ...     ...   ...                         ...   \n56247         No  3.6 /5    27                  Whitefield   \n56248         No       0     0                  Whitefield   \n56249         No       0     0                  Whitefield   \n56250        Yes  4.3 /5   236  ITPL Main Road, Whitefield   \n56251         No  3.4 /5    13  ITPL Main Road, Whitefield   \n\n                 rest_type                                         dish_liked   \n0            Casual Dining  Pasta, Lunch Buffet, Masala Papad, Paneer Laja...  \\\n1            Casual Dining  Momos, Lunch Buffet, Chocolate Nirvana, Thai G...   \n2      Cafe, Casual Dining  Churros, Cannelloni, Minestrone Soup, Hot Choc...   \n3              Quick Bites                                        Masala Dosa   \n4            Casual Dining                                Panipuri, Gol Gappe   \n...                    ...                                                ...   \n56247                  Bar                                                 NA   \n56248                  Bar                                                 NA   \n56249                  Bar                                                 NA   \n56250                  Bar                       Cocktails, Pizza, Buttermilk   \n56251   Bar, Casual Dining                                                 NA   \n\n                                     cuisines approx_cost           type  \n0              North Indian, Mughlai, Chinese         800         Buffet  \n1                 Chinese, North Indian, Thai         800         Buffet  \n2                      Cafe, Mexican, Italian         800         Buffet  \n3                  South Indian, North Indian         300         Buffet  \n4                    North Indian, Rajasthani         600         Buffet  \n...                                       ...         ...            ...  \n56247                             Continental       1,500  Pubs and bars  \n56248                             Finger Food         600  Pubs and bars  \n56249                             Finger Food       2,000  Pubs and bars  \n56250                             Finger Food       2,500  Pubs and bars  \n56251  Finger Food, North Indian, Continental       1,500  Pubs and bars  \n\n[56236 rows x 11 columns]",
      "text/html": "<div>\n<style scoped>\n    .dataframe tbody tr th:only-of-type {\n        vertical-align: middle;\n    }\n\n    .dataframe tbody tr th {\n        vertical-align: top;\n    }\n\n    .dataframe thead th {\n        text-align: right;\n    }\n</style>\n<table border=\"1\" class=\"dataframe\">\n  <thead>\n    <tr style=\"text-align: right;\">\n      <th></th>\n      <th>name</th>\n      <th>online_order</th>\n      <th>book_table</th>\n      <th>rating</th>\n      <th>votes</th>\n      <th>location</th>\n      <th>rest_type</th>\n      <th>dish_liked</th>\n      <th>cuisines</th>\n      <th>approx_cost</th>\n      <th>type</th>\n    </tr>\n  </thead>\n  <tbody>\n    <tr>\n      <th>0</th>\n      <td>Jalsa</td>\n      <td>Yes</td>\n      <td>Yes</td>\n      <td>4.1/5</td>\n      <td>775</td>\n      <td>Banashankari</td>\n      <td>Casual Dining</td>\n      <td>Pasta, Lunch Buffet, Masala Papad, Paneer Laja...</td>\n      <td>North Indian, Mughlai, Chinese</td>\n      <td>800</td>\n      <td>Buffet</td>\n    </tr>\n    <tr>\n      <th>1</th>\n      <td>Spice Elephant</td>\n      <td>Yes</td>\n      <td>No</td>\n      <td>4.1/5</td>\n      <td>787</td>\n      <td>Banashankari</td>\n      <td>Casual Dining</td>\n      <td>Momos, Lunch Buffet, Chocolate Nirvana, Thai G...</td>\n      <td>Chinese, North Indian, Thai</td>\n      <td>800</td>\n      <td>Buffet</td>\n    </tr>\n    <tr>\n      <th>2</th>\n      <td>San Churro Cafe</td>\n      <td>Yes</td>\n      <td>No</td>\n      <td>3.8/5</td>\n      <td>918</td>\n      <td>Banashankari</td>\n      <td>Cafe, Casual Dining</td>\n      <td>Churros, Cannelloni, Minestrone Soup, Hot Choc...</td>\n      <td>Cafe, Mexican, Italian</td>\n      <td>800</td>\n      <td>Buffet</td>\n    </tr>\n    <tr>\n      <th>3</th>\n      <td>Addhuri Udupi Bhojana</td>\n      <td>No</td>\n      <td>No</td>\n      <td>3.7/5</td>\n      <td>88</td>\n      <td>Banashankari</td>\n      <td>Quick Bites</td>\n      <td>Masala Dosa</td>\n      <td>South Indian, North Indian</td>\n      <td>300</td>\n      <td>Buffet</td>\n    </tr>\n    <tr>\n      <th>4</th>\n      <td>Grand Village</td>\n      <td>No</td>\n      <td>No</td>\n      <td>3.8/5</td>\n      <td>166</td>\n      <td>Basavanagudi</td>\n      <td>Casual Dining</td>\n      <td>Panipuri, Gol Gappe</td>\n      <td>North Indian, Rajasthani</td>\n      <td>600</td>\n      <td>Buffet</td>\n    </tr>\n    <tr>\n      <th>...</th>\n      <td>...</td>\n      <td>...</td>\n      <td>...</td>\n      <td>...</td>\n      <td>...</td>\n      <td>...</td>\n      <td>...</td>\n      <td>...</td>\n      <td>...</td>\n      <td>...</td>\n      <td>...</td>\n    </tr>\n    <tr>\n      <th>56247</th>\n      <td>Best Brews - Four Points by Sheraton Bengaluru...</td>\n      <td>No</td>\n      <td>No</td>\n      <td>3.6 /5</td>\n      <td>27</td>\n      <td>Whitefield</td>\n      <td>Bar</td>\n      <td>NA</td>\n      <td>Continental</td>\n      <td>1,500</td>\n      <td>Pubs and bars</td>\n    </tr>\n    <tr>\n      <th>56248</th>\n      <td>Vinod Bar And Restaurant</td>\n      <td>No</td>\n      <td>No</td>\n      <td>0</td>\n      <td>0</td>\n      <td>Whitefield</td>\n      <td>Bar</td>\n      <td>NA</td>\n      <td>Finger Food</td>\n      <td>600</td>\n      <td>Pubs and bars</td>\n    </tr>\n    <tr>\n      <th>56249</th>\n      <td>Plunge - Sheraton Grand Bengaluru Whitefield H...</td>\n      <td>No</td>\n      <td>No</td>\n      <td>0</td>\n      <td>0</td>\n      <td>Whitefield</td>\n      <td>Bar</td>\n      <td>NA</td>\n      <td>Finger Food</td>\n      <td>2,000</td>\n      <td>Pubs and bars</td>\n    </tr>\n    <tr>\n      <th>56250</th>\n      <td>Chime - Sheraton Grand Bengaluru Whitefield Ho...</td>\n      <td>No</td>\n      <td>Yes</td>\n      <td>4.3 /5</td>\n      <td>236</td>\n      <td>ITPL Main Road, Whitefield</td>\n      <td>Bar</td>\n      <td>Cocktails, Pizza, Buttermilk</td>\n      <td>Finger Food</td>\n      <td>2,500</td>\n      <td>Pubs and bars</td>\n    </tr>\n    <tr>\n      <th>56251</th>\n      <td>The Nest - The Den Bengaluru</td>\n      <td>No</td>\n      <td>No</td>\n      <td>3.4 /5</td>\n      <td>13</td>\n      <td>ITPL Main Road, Whitefield</td>\n      <td>Bar, Casual Dining</td>\n      <td>NA</td>\n      <td>Finger Food, North Indian, Continental</td>\n      <td>1,500</td>\n      <td>Pubs and bars</td>\n    </tr>\n  </tbody>\n</table>\n<p>56236 rows × 11 columns</p>\n</div>"
     },
     "execution_count": 80,
     "metadata": {},
     "output_type": "execute_result"
    }
   ],
   "source": [
    "def null_value_check():\n",
    "    #DO NOT REMOVE FOLLOWING LINE\n",
    "    #call rename_columns() function to get dataframe\n",
    "    hotels=rename_columns()\n",
    "\n",
    "    #deleting null values of name column\n",
    "    g = hotels[\"name\"].isna()\n",
    "    hotels_1 = hotels[g==False]\n",
    "    #handling null values of online_order\n",
    "    hotels_2 = hotels_1.copy()\n",
    "    hotels_2[\"online_order\"] = hotels_2[\"online_order\"].fillna(\"NA\")\n",
    "    hotels_2[\"book_table\"] = hotels_2[\"book_table\"].fillna(\"NA\")\n",
    "    hotels_2[\"rating\"] = hotels_2[\"rating\"].fillna(0)\n",
    "    hotels_2[\"votes\"] = hotels_2[\"votes\"].fillna(0)\n",
    "    hotels_2[\"location\"] = hotels_2[\"location\"].fillna(\"NA\")\n",
    "    hotels_2[\"rest_type\"] = hotels_2[\"rest_type\"].fillna(\"NA\")\n",
    "    hotels_2[\"dish_liked\"] = hotels_2[\"dish_liked\"].fillna(\"NA\")\n",
    "    hotels_2[\"cuisines\"] = hotels_2[\"cuisines\"].fillna(\"NA\")\n",
    "    hotels_2[\"approx_cost\"] = hotels_2[\"approx_cost\"].fillna(0)\n",
    "    hotels_2[\"type\"] = hotels_2[\"type\"].fillna(\"NA\")\n",
    "    return hotels_2\n",
    "null_value_check()"
   ],
   "metadata": {
    "collapsed": false,
    "ExecuteTime": {
     "end_time": "2023-06-27T00:52:17.412239Z",
     "start_time": "2023-06-27T00:52:17.249426Z"
    }
   }
  },
  {
   "cell_type": "code",
   "execution_count": 81,
   "outputs": [
    {
     "data": {
      "text/plain": "                                                    name online_order   \n0                                                  Jalsa          Yes  \\\n1                                         Spice Elephant          Yes   \n2                                        San Churro Cafe          Yes   \n3                                  Addhuri Udupi Bhojana           No   \n4                                          Grand Village           No   \n...                                                  ...          ...   \n56247  Best Brews - Four Points by Sheraton Bengaluru...           No   \n56248                           Vinod Bar And Restaurant           No   \n56249  Plunge - Sheraton Grand Bengaluru Whitefield H...           No   \n56250  Chime - Sheraton Grand Bengaluru Whitefield Ho...           No   \n56251                       The Nest - The Den Bengaluru           No   \n\n      book_table  rating votes                    location   \n0            Yes   4.1/5   775                Banashankari  \\\n1             No   4.1/5   787                Banashankari   \n2             No   3.8/5   918                Banashankari   \n3             No   3.7/5    88                Banashankari   \n4             No   3.8/5   166                Basavanagudi   \n...          ...     ...   ...                         ...   \n56247         No  3.6 /5    27                  Whitefield   \n56248         No       0     0                  Whitefield   \n56249         No       0     0                  Whitefield   \n56250        Yes  4.3 /5   236  ITPL Main Road, Whitefield   \n56251         No  3.4 /5    13  ITPL Main Road, Whitefield   \n\n                 rest_type                                         dish_liked   \n0            Casual Dining  Pasta, Lunch Buffet, Masala Papad, Paneer Laja...  \\\n1            Casual Dining  Momos, Lunch Buffet, Chocolate Nirvana, Thai G...   \n2      Cafe, Casual Dining  Churros, Cannelloni, Minestrone Soup, Hot Choc...   \n3              Quick Bites                                        Masala Dosa   \n4            Casual Dining                                Panipuri, Gol Gappe   \n...                    ...                                                ...   \n56247                  Bar                                                 NA   \n56248                  Bar                                                 NA   \n56249                  Bar                                                 NA   \n56250                  Bar                       Cocktails, Pizza, Buttermilk   \n56251   Bar, Casual Dining                                                 NA   \n\n                                     cuisines approx_cost           type  \n0              North Indian, Mughlai, Chinese         800         Buffet  \n1                 Chinese, North Indian, Thai         800         Buffet  \n2                      Cafe, Mexican, Italian         800         Buffet  \n3                  South Indian, North Indian         300         Buffet  \n4                    North Indian, Rajasthani         600         Buffet  \n...                                       ...         ...            ...  \n56247                             Continental       1,500  Pubs and bars  \n56248                             Finger Food         600  Pubs and bars  \n56249                             Finger Food       2,000  Pubs and bars  \n56250                             Finger Food       2,500  Pubs and bars  \n56251  Finger Food, North Indian, Continental       1,500  Pubs and bars  \n\n[38413 rows x 11 columns]",
      "text/html": "<div>\n<style scoped>\n    .dataframe tbody tr th:only-of-type {\n        vertical-align: middle;\n    }\n\n    .dataframe tbody tr th {\n        vertical-align: top;\n    }\n\n    .dataframe thead th {\n        text-align: right;\n    }\n</style>\n<table border=\"1\" class=\"dataframe\">\n  <thead>\n    <tr style=\"text-align: right;\">\n      <th></th>\n      <th>name</th>\n      <th>online_order</th>\n      <th>book_table</th>\n      <th>rating</th>\n      <th>votes</th>\n      <th>location</th>\n      <th>rest_type</th>\n      <th>dish_liked</th>\n      <th>cuisines</th>\n      <th>approx_cost</th>\n      <th>type</th>\n    </tr>\n  </thead>\n  <tbody>\n    <tr>\n      <th>0</th>\n      <td>Jalsa</td>\n      <td>Yes</td>\n      <td>Yes</td>\n      <td>4.1/5</td>\n      <td>775</td>\n      <td>Banashankari</td>\n      <td>Casual Dining</td>\n      <td>Pasta, Lunch Buffet, Masala Papad, Paneer Laja...</td>\n      <td>North Indian, Mughlai, Chinese</td>\n      <td>800</td>\n      <td>Buffet</td>\n    </tr>\n    <tr>\n      <th>1</th>\n      <td>Spice Elephant</td>\n      <td>Yes</td>\n      <td>No</td>\n      <td>4.1/5</td>\n      <td>787</td>\n      <td>Banashankari</td>\n      <td>Casual Dining</td>\n      <td>Momos, Lunch Buffet, Chocolate Nirvana, Thai G...</td>\n      <td>Chinese, North Indian, Thai</td>\n      <td>800</td>\n      <td>Buffet</td>\n    </tr>\n    <tr>\n      <th>2</th>\n      <td>San Churro Cafe</td>\n      <td>Yes</td>\n      <td>No</td>\n      <td>3.8/5</td>\n      <td>918</td>\n      <td>Banashankari</td>\n      <td>Cafe, Casual Dining</td>\n      <td>Churros, Cannelloni, Minestrone Soup, Hot Choc...</td>\n      <td>Cafe, Mexican, Italian</td>\n      <td>800</td>\n      <td>Buffet</td>\n    </tr>\n    <tr>\n      <th>3</th>\n      <td>Addhuri Udupi Bhojana</td>\n      <td>No</td>\n      <td>No</td>\n      <td>3.7/5</td>\n      <td>88</td>\n      <td>Banashankari</td>\n      <td>Quick Bites</td>\n      <td>Masala Dosa</td>\n      <td>South Indian, North Indian</td>\n      <td>300</td>\n      <td>Buffet</td>\n    </tr>\n    <tr>\n      <th>4</th>\n      <td>Grand Village</td>\n      <td>No</td>\n      <td>No</td>\n      <td>3.8/5</td>\n      <td>166</td>\n      <td>Basavanagudi</td>\n      <td>Casual Dining</td>\n      <td>Panipuri, Gol Gappe</td>\n      <td>North Indian, Rajasthani</td>\n      <td>600</td>\n      <td>Buffet</td>\n    </tr>\n    <tr>\n      <th>...</th>\n      <td>...</td>\n      <td>...</td>\n      <td>...</td>\n      <td>...</td>\n      <td>...</td>\n      <td>...</td>\n      <td>...</td>\n      <td>...</td>\n      <td>...</td>\n      <td>...</td>\n      <td>...</td>\n    </tr>\n    <tr>\n      <th>56247</th>\n      <td>Best Brews - Four Points by Sheraton Bengaluru...</td>\n      <td>No</td>\n      <td>No</td>\n      <td>3.6 /5</td>\n      <td>27</td>\n      <td>Whitefield</td>\n      <td>Bar</td>\n      <td>NA</td>\n      <td>Continental</td>\n      <td>1,500</td>\n      <td>Pubs and bars</td>\n    </tr>\n    <tr>\n      <th>56248</th>\n      <td>Vinod Bar And Restaurant</td>\n      <td>No</td>\n      <td>No</td>\n      <td>0</td>\n      <td>0</td>\n      <td>Whitefield</td>\n      <td>Bar</td>\n      <td>NA</td>\n      <td>Finger Food</td>\n      <td>600</td>\n      <td>Pubs and bars</td>\n    </tr>\n    <tr>\n      <th>56249</th>\n      <td>Plunge - Sheraton Grand Bengaluru Whitefield H...</td>\n      <td>No</td>\n      <td>No</td>\n      <td>0</td>\n      <td>0</td>\n      <td>Whitefield</td>\n      <td>Bar</td>\n      <td>NA</td>\n      <td>Finger Food</td>\n      <td>2,000</td>\n      <td>Pubs and bars</td>\n    </tr>\n    <tr>\n      <th>56250</th>\n      <td>Chime - Sheraton Grand Bengaluru Whitefield Ho...</td>\n      <td>No</td>\n      <td>Yes</td>\n      <td>4.3 /5</td>\n      <td>236</td>\n      <td>ITPL Main Road, Whitefield</td>\n      <td>Bar</td>\n      <td>Cocktails, Pizza, Buttermilk</td>\n      <td>Finger Food</td>\n      <td>2,500</td>\n      <td>Pubs and bars</td>\n    </tr>\n    <tr>\n      <th>56251</th>\n      <td>The Nest - The Den Bengaluru</td>\n      <td>No</td>\n      <td>No</td>\n      <td>3.4 /5</td>\n      <td>13</td>\n      <td>ITPL Main Road, Whitefield</td>\n      <td>Bar, Casual Dining</td>\n      <td>NA</td>\n      <td>Finger Food, North Indian, Continental</td>\n      <td>1,500</td>\n      <td>Pubs and bars</td>\n    </tr>\n  </tbody>\n</table>\n<p>38413 rows × 11 columns</p>\n</div>"
     },
     "execution_count": 81,
     "metadata": {},
     "output_type": "execute_result"
    }
   ],
   "source": [
    "def find_duplicates():\n",
    "    #DO NOT REMOVE FOLLOWING LINE\n",
    "    #call null_value_check() function to get dataframe\n",
    "    hotels=null_value_check()\n",
    "    hotels = null_value_check()\n",
    "    hotels.drop_duplicates(keep=\"first\",inplace=True)\n",
    "    #droping the duplicates value keeping the first\n",
    "    return hotels\n",
    "find_duplicates()"
   ],
   "metadata": {
    "collapsed": false,
    "ExecuteTime": {
     "end_time": "2023-06-27T00:52:18.303384Z",
     "start_time": "2023-06-27T00:52:17.901104Z"
    }
   }
  },
  {
   "cell_type": "code",
   "execution_count": 82,
   "outputs": [
    {
     "data": {
      "text/plain": "                                                    name online_order   \n0                                                  Jalsa          Yes  \\\n1                                         Spice Elephant          Yes   \n2                                        San Churro Cafe          Yes   \n3                                  Addhuri Udupi Bhojana           No   \n4                                          Grand Village           No   \n...                                                  ...          ...   \n56247  Best Brews - Four Points by Sheraton Bengaluru...           No   \n56248                           Vinod Bar And Restaurant           No   \n56249  Plunge - Sheraton Grand Bengaluru Whitefield H...           No   \n56250  Chime - Sheraton Grand Bengaluru Whitefield Ho...           No   \n56251                       The Nest - The Den Bengaluru           No   \n\n      book_table  rating votes                    location   \n0            Yes   4.1/5   775                Banashankari  \\\n1             No   4.1/5   787                Banashankari   \n2             No   3.8/5   918                Banashankari   \n3             No   3.7/5    88                Banashankari   \n4             No   3.8/5   166                Basavanagudi   \n...          ...     ...   ...                         ...   \n56247         No  3.6 /5    27                  Whitefield   \n56248         No       0     0                  Whitefield   \n56249         No       0     0                  Whitefield   \n56250        Yes  4.3 /5   236  ITPL Main Road, Whitefield   \n56251         No  3.4 /5    13  ITPL Main Road, Whitefield   \n\n                 rest_type                                         dish_liked   \n0            Casual Dining  Pasta, Lunch Buffet, Masala Papad, Paneer Laja...  \\\n1            Casual Dining  Momos, Lunch Buffet, Chocolate Nirvana, Thai G...   \n2      Cafe, Casual Dining  Churros, Cannelloni, Minestrone Soup, Hot Choc...   \n3              Quick Bites                                        Masala Dosa   \n4            Casual Dining                                Panipuri, Gol Gappe   \n...                    ...                                                ...   \n56247                  Bar                                                 NA   \n56248                  Bar                                                 NA   \n56249                  Bar                                                 NA   \n56250                  Bar                       Cocktails, Pizza, Buttermilk   \n56251   Bar, Casual Dining                                                 NA   \n\n                                     cuisines approx_cost           type  \n0              North Indian, Mughlai, Chinese         800         Buffet  \n1                 Chinese, North Indian, Thai         800         Buffet  \n2                      Cafe, Mexican, Italian         800         Buffet  \n3                  South Indian, North Indian         300         Buffet  \n4                    North Indian, Rajasthani         600         Buffet  \n...                                       ...         ...            ...  \n56247                             Continental       1,500  Pubs and bars  \n56248                             Finger Food         600  Pubs and bars  \n56249                             Finger Food       2,000  Pubs and bars  \n56250                             Finger Food       2,500  Pubs and bars  \n56251  Finger Food, North Indian, Continental       1,500  Pubs and bars  \n\n[38413 rows x 11 columns]",
      "text/html": "<div>\n<style scoped>\n    .dataframe tbody tr th:only-of-type {\n        vertical-align: middle;\n    }\n\n    .dataframe tbody tr th {\n        vertical-align: top;\n    }\n\n    .dataframe thead th {\n        text-align: right;\n    }\n</style>\n<table border=\"1\" class=\"dataframe\">\n  <thead>\n    <tr style=\"text-align: right;\">\n      <th></th>\n      <th>name</th>\n      <th>online_order</th>\n      <th>book_table</th>\n      <th>rating</th>\n      <th>votes</th>\n      <th>location</th>\n      <th>rest_type</th>\n      <th>dish_liked</th>\n      <th>cuisines</th>\n      <th>approx_cost</th>\n      <th>type</th>\n    </tr>\n  </thead>\n  <tbody>\n    <tr>\n      <th>0</th>\n      <td>Jalsa</td>\n      <td>Yes</td>\n      <td>Yes</td>\n      <td>4.1/5</td>\n      <td>775</td>\n      <td>Banashankari</td>\n      <td>Casual Dining</td>\n      <td>Pasta, Lunch Buffet, Masala Papad, Paneer Laja...</td>\n      <td>North Indian, Mughlai, Chinese</td>\n      <td>800</td>\n      <td>Buffet</td>\n    </tr>\n    <tr>\n      <th>1</th>\n      <td>Spice Elephant</td>\n      <td>Yes</td>\n      <td>No</td>\n      <td>4.1/5</td>\n      <td>787</td>\n      <td>Banashankari</td>\n      <td>Casual Dining</td>\n      <td>Momos, Lunch Buffet, Chocolate Nirvana, Thai G...</td>\n      <td>Chinese, North Indian, Thai</td>\n      <td>800</td>\n      <td>Buffet</td>\n    </tr>\n    <tr>\n      <th>2</th>\n      <td>San Churro Cafe</td>\n      <td>Yes</td>\n      <td>No</td>\n      <td>3.8/5</td>\n      <td>918</td>\n      <td>Banashankari</td>\n      <td>Cafe, Casual Dining</td>\n      <td>Churros, Cannelloni, Minestrone Soup, Hot Choc...</td>\n      <td>Cafe, Mexican, Italian</td>\n      <td>800</td>\n      <td>Buffet</td>\n    </tr>\n    <tr>\n      <th>3</th>\n      <td>Addhuri Udupi Bhojana</td>\n      <td>No</td>\n      <td>No</td>\n      <td>3.7/5</td>\n      <td>88</td>\n      <td>Banashankari</td>\n      <td>Quick Bites</td>\n      <td>Masala Dosa</td>\n      <td>South Indian, North Indian</td>\n      <td>300</td>\n      <td>Buffet</td>\n    </tr>\n    <tr>\n      <th>4</th>\n      <td>Grand Village</td>\n      <td>No</td>\n      <td>No</td>\n      <td>3.8/5</td>\n      <td>166</td>\n      <td>Basavanagudi</td>\n      <td>Casual Dining</td>\n      <td>Panipuri, Gol Gappe</td>\n      <td>North Indian, Rajasthani</td>\n      <td>600</td>\n      <td>Buffet</td>\n    </tr>\n    <tr>\n      <th>...</th>\n      <td>...</td>\n      <td>...</td>\n      <td>...</td>\n      <td>...</td>\n      <td>...</td>\n      <td>...</td>\n      <td>...</td>\n      <td>...</td>\n      <td>...</td>\n      <td>...</td>\n      <td>...</td>\n    </tr>\n    <tr>\n      <th>56247</th>\n      <td>Best Brews - Four Points by Sheraton Bengaluru...</td>\n      <td>No</td>\n      <td>No</td>\n      <td>3.6 /5</td>\n      <td>27</td>\n      <td>Whitefield</td>\n      <td>Bar</td>\n      <td>NA</td>\n      <td>Continental</td>\n      <td>1,500</td>\n      <td>Pubs and bars</td>\n    </tr>\n    <tr>\n      <th>56248</th>\n      <td>Vinod Bar And Restaurant</td>\n      <td>No</td>\n      <td>No</td>\n      <td>0</td>\n      <td>0</td>\n      <td>Whitefield</td>\n      <td>Bar</td>\n      <td>NA</td>\n      <td>Finger Food</td>\n      <td>600</td>\n      <td>Pubs and bars</td>\n    </tr>\n    <tr>\n      <th>56249</th>\n      <td>Plunge - Sheraton Grand Bengaluru Whitefield H...</td>\n      <td>No</td>\n      <td>No</td>\n      <td>0</td>\n      <td>0</td>\n      <td>Whitefield</td>\n      <td>Bar</td>\n      <td>NA</td>\n      <td>Finger Food</td>\n      <td>2,000</td>\n      <td>Pubs and bars</td>\n    </tr>\n    <tr>\n      <th>56250</th>\n      <td>Chime - Sheraton Grand Bengaluru Whitefield Ho...</td>\n      <td>No</td>\n      <td>Yes</td>\n      <td>4.3 /5</td>\n      <td>236</td>\n      <td>ITPL Main Road, Whitefield</td>\n      <td>Bar</td>\n      <td>Cocktails, Pizza, Buttermilk</td>\n      <td>Finger Food</td>\n      <td>2,500</td>\n      <td>Pubs and bars</td>\n    </tr>\n    <tr>\n      <th>56251</th>\n      <td>The Nest - The Den Bengaluru</td>\n      <td>No</td>\n      <td>No</td>\n      <td>3.4 /5</td>\n      <td>13</td>\n      <td>ITPL Main Road, Whitefield</td>\n      <td>Bar, Casual Dining</td>\n      <td>NA</td>\n      <td>Finger Food, North Indian, Continental</td>\n      <td>1,500</td>\n      <td>Pubs and bars</td>\n    </tr>\n  </tbody>\n</table>\n<p>38413 rows × 11 columns</p>\n</div>"
     },
     "execution_count": 82,
     "metadata": {},
     "output_type": "execute_result"
    }
   ],
   "source": [
    "hotels = find_duplicates()\n",
    "hotels"
   ],
   "metadata": {
    "collapsed": false,
    "ExecuteTime": {
     "end_time": "2023-06-27T00:52:19.150843Z",
     "start_time": "2023-06-27T00:52:18.789047Z"
    }
   }
  },
  {
   "cell_type": "code",
   "execution_count": 83,
   "outputs": [
    {
     "data": {
      "text/plain": "                                                    name online_order   \n0                                                  Jalsa          Yes  \\\n1                                         Spice Elephant          Yes   \n2                                        San Churro Cafe          Yes   \n3                                  Addhuri Udupi Bhojana           No   \n4                                          Grand Village           No   \n...                                                  ...          ...   \n56244                         The Farm House Bar n Grill           No   \n56246                                            Bhagini           No   \n56247  Best Brews - Four Points by Sheraton Bengaluru...           No   \n56250  Chime - Sheraton Grand Bengaluru Whitefield Ho...           No   \n56251                       The Nest - The Den Bengaluru           No   \n\n      book_table  rating votes                    location   \n0            Yes   4.1/5   775                Banashankari  \\\n1             No   4.1/5   787                Banashankari   \n2             No   3.8/5   918                Banashankari   \n3             No   3.7/5    88                Banashankari   \n4             No   3.8/5   166                Basavanagudi   \n...          ...     ...   ...                         ...   \n56244         No  3.7 /5    34                  Whitefield   \n56246         No  2.5 /5    81                  Whitefield   \n56247         No  3.6 /5    27                  Whitefield   \n56250        Yes  4.3 /5   236  ITPL Main Road, Whitefield   \n56251         No  3.4 /5    13  ITPL Main Road, Whitefield   \n\n                 rest_type                                         dish_liked   \n0            Casual Dining  Pasta, Lunch Buffet, Masala Papad, Paneer Laja...  \\\n1            Casual Dining  Momos, Lunch Buffet, Chocolate Nirvana, Thai G...   \n2      Cafe, Casual Dining  Churros, Cannelloni, Minestrone Soup, Hot Choc...   \n3              Quick Bites                                        Masala Dosa   \n4            Casual Dining                                Panipuri, Gol Gappe   \n...                    ...                                                ...   \n56244   Casual Dining, Bar                                                 NA   \n56246   Casual Dining, Bar                               Biryani, Andhra Meal   \n56247                  Bar                                                 NA   \n56250                  Bar                       Cocktails, Pizza, Buttermilk   \n56251   Bar, Casual Dining                                                 NA   \n\n                                          cuisines approx_cost           type  \n0                   North Indian, Mughlai, Chinese         800         Buffet  \n1                      Chinese, North Indian, Thai         800         Buffet  \n2                           Cafe, Mexican, Italian         800         Buffet  \n3                       South Indian, North Indian         300         Buffet  \n4                         North Indian, Rajasthani         600         Buffet  \n...                                            ...         ...            ...  \n56244                    North Indian, Continental         800  Pubs and bars  \n56246  Andhra, South Indian, Chinese, North Indian         800  Pubs and bars  \n56247                                  Continental       1,500  Pubs and bars  \n56250                                  Finger Food       2,500  Pubs and bars  \n56251       Finger Food, North Indian, Continental       1,500  Pubs and bars  \n\n[30340 rows x 11 columns]",
      "text/html": "<div>\n<style scoped>\n    .dataframe tbody tr th:only-of-type {\n        vertical-align: middle;\n    }\n\n    .dataframe tbody tr th {\n        vertical-align: top;\n    }\n\n    .dataframe thead th {\n        text-align: right;\n    }\n</style>\n<table border=\"1\" class=\"dataframe\">\n  <thead>\n    <tr style=\"text-align: right;\">\n      <th></th>\n      <th>name</th>\n      <th>online_order</th>\n      <th>book_table</th>\n      <th>rating</th>\n      <th>votes</th>\n      <th>location</th>\n      <th>rest_type</th>\n      <th>dish_liked</th>\n      <th>cuisines</th>\n      <th>approx_cost</th>\n      <th>type</th>\n    </tr>\n  </thead>\n  <tbody>\n    <tr>\n      <th>0</th>\n      <td>Jalsa</td>\n      <td>Yes</td>\n      <td>Yes</td>\n      <td>4.1/5</td>\n      <td>775</td>\n      <td>Banashankari</td>\n      <td>Casual Dining</td>\n      <td>Pasta, Lunch Buffet, Masala Papad, Paneer Laja...</td>\n      <td>North Indian, Mughlai, Chinese</td>\n      <td>800</td>\n      <td>Buffet</td>\n    </tr>\n    <tr>\n      <th>1</th>\n      <td>Spice Elephant</td>\n      <td>Yes</td>\n      <td>No</td>\n      <td>4.1/5</td>\n      <td>787</td>\n      <td>Banashankari</td>\n      <td>Casual Dining</td>\n      <td>Momos, Lunch Buffet, Chocolate Nirvana, Thai G...</td>\n      <td>Chinese, North Indian, Thai</td>\n      <td>800</td>\n      <td>Buffet</td>\n    </tr>\n    <tr>\n      <th>2</th>\n      <td>San Churro Cafe</td>\n      <td>Yes</td>\n      <td>No</td>\n      <td>3.8/5</td>\n      <td>918</td>\n      <td>Banashankari</td>\n      <td>Cafe, Casual Dining</td>\n      <td>Churros, Cannelloni, Minestrone Soup, Hot Choc...</td>\n      <td>Cafe, Mexican, Italian</td>\n      <td>800</td>\n      <td>Buffet</td>\n    </tr>\n    <tr>\n      <th>3</th>\n      <td>Addhuri Udupi Bhojana</td>\n      <td>No</td>\n      <td>No</td>\n      <td>3.7/5</td>\n      <td>88</td>\n      <td>Banashankari</td>\n      <td>Quick Bites</td>\n      <td>Masala Dosa</td>\n      <td>South Indian, North Indian</td>\n      <td>300</td>\n      <td>Buffet</td>\n    </tr>\n    <tr>\n      <th>4</th>\n      <td>Grand Village</td>\n      <td>No</td>\n      <td>No</td>\n      <td>3.8/5</td>\n      <td>166</td>\n      <td>Basavanagudi</td>\n      <td>Casual Dining</td>\n      <td>Panipuri, Gol Gappe</td>\n      <td>North Indian, Rajasthani</td>\n      <td>600</td>\n      <td>Buffet</td>\n    </tr>\n    <tr>\n      <th>...</th>\n      <td>...</td>\n      <td>...</td>\n      <td>...</td>\n      <td>...</td>\n      <td>...</td>\n      <td>...</td>\n      <td>...</td>\n      <td>...</td>\n      <td>...</td>\n      <td>...</td>\n      <td>...</td>\n    </tr>\n    <tr>\n      <th>56244</th>\n      <td>The Farm House Bar n Grill</td>\n      <td>No</td>\n      <td>No</td>\n      <td>3.7 /5</td>\n      <td>34</td>\n      <td>Whitefield</td>\n      <td>Casual Dining, Bar</td>\n      <td>NA</td>\n      <td>North Indian, Continental</td>\n      <td>800</td>\n      <td>Pubs and bars</td>\n    </tr>\n    <tr>\n      <th>56246</th>\n      <td>Bhagini</td>\n      <td>No</td>\n      <td>No</td>\n      <td>2.5 /5</td>\n      <td>81</td>\n      <td>Whitefield</td>\n      <td>Casual Dining, Bar</td>\n      <td>Biryani, Andhra Meal</td>\n      <td>Andhra, South Indian, Chinese, North Indian</td>\n      <td>800</td>\n      <td>Pubs and bars</td>\n    </tr>\n    <tr>\n      <th>56247</th>\n      <td>Best Brews - Four Points by Sheraton Bengaluru...</td>\n      <td>No</td>\n      <td>No</td>\n      <td>3.6 /5</td>\n      <td>27</td>\n      <td>Whitefield</td>\n      <td>Bar</td>\n      <td>NA</td>\n      <td>Continental</td>\n      <td>1,500</td>\n      <td>Pubs and bars</td>\n    </tr>\n    <tr>\n      <th>56250</th>\n      <td>Chime - Sheraton Grand Bengaluru Whitefield Ho...</td>\n      <td>No</td>\n      <td>Yes</td>\n      <td>4.3 /5</td>\n      <td>236</td>\n      <td>ITPL Main Road, Whitefield</td>\n      <td>Bar</td>\n      <td>Cocktails, Pizza, Buttermilk</td>\n      <td>Finger Food</td>\n      <td>2,500</td>\n      <td>Pubs and bars</td>\n    </tr>\n    <tr>\n      <th>56251</th>\n      <td>The Nest - The Den Bengaluru</td>\n      <td>No</td>\n      <td>No</td>\n      <td>3.4 /5</td>\n      <td>13</td>\n      <td>ITPL Main Road, Whitefield</td>\n      <td>Bar, Casual Dining</td>\n      <td>NA</td>\n      <td>Finger Food, North Indian, Continental</td>\n      <td>1,500</td>\n      <td>Pubs and bars</td>\n    </tr>\n  </tbody>\n</table>\n<p>30340 rows × 11 columns</p>\n</div>"
     },
     "execution_count": 83,
     "metadata": {},
     "output_type": "execute_result"
    }
   ],
   "source": [
    "def removing_irrelevant_text():\n",
    "    #DO NOT REMOVE FOLLOWING LINE\n",
    "    #call find_duplicates() function to get dataframe\n",
    "    hotels= find_duplicates()\n",
    "    df = hotels.copy()\n",
    "    for i in df:\n",
    "        df = df[df[i].str.lower().str.contains(\"rated\")==False]\n",
    "    hotels = df.copy()\n",
    "    return hotels\n",
    "removing_irrelevant_text()"
   ],
   "metadata": {
    "collapsed": false,
    "ExecuteTime": {
     "end_time": "2023-06-27T00:52:19.945013Z",
     "start_time": "2023-06-27T00:52:19.420273Z"
    }
   }
  },
  {
   "cell_type": "code",
   "execution_count": 84,
   "outputs": [],
   "source": [
    "def check_for_unique_values():\n",
    "    #DO NOT REMOVE FOLLOWING LINE\n",
    "    #call removing_irrelevant_text() function to get dataframe\n",
    "    hotels=removing_irrelevant_text()\n",
    "    hotels = removing_irrelevant_text()\n",
    "    df = hotels.copy()\n",
    "    df = df[(df[\"online_order\"]==\"Yes\") | (df[\"online_order\"]==\"No\")]\n",
    "    for i in df.index:\n",
    "        s = str(df.loc[i,\"rating\"])\n",
    "        for j in s:\n",
    "            if s.count(\"/\")>0:\n",
    "                h = s.split(\"/\")\n",
    "                df.loc[i,\"rating\"] = h[0]\n",
    "                continue\n",
    "            elif s==\"NEW\" or s==\"-\":\n",
    "                df.loc[i,\"rating\"] = 0.0\n",
    "    hotels = df.copy()\n",
    "    return hotels"
   ],
   "metadata": {
    "collapsed": false,
    "ExecuteTime": {
     "end_time": "2023-06-27T00:52:20.528557Z",
     "start_time": "2023-06-27T00:52:20.525198Z"
    }
   }
  },
  {
   "cell_type": "code",
   "execution_count": 85,
   "outputs": [
    {
     "data": {
      "text/plain": "                                                    name online_order   \n0                                                  Jalsa          Yes  \\\n1                                         Spice Elephant          Yes   \n2                                        San Churro Cafe          Yes   \n3                                  Addhuri Udupi Bhojana           No   \n4                                          Grand Village           No   \n...                                                  ...          ...   \n56244                         The Farm House Bar n Grill           No   \n56246                                            Bhagini           No   \n56247  Best Brews - Four Points by Sheraton Bengaluru...           No   \n56250  Chime - Sheraton Grand Bengaluru Whitefield Ho...           No   \n56251                       The Nest - The Den Bengaluru           No   \n\n      book_table rating votes                    location   \n0            Yes    4.1   775                Banashankari  \\\n1             No    4.1   787                Banashankari   \n2             No    3.8   918                Banashankari   \n3             No    3.7    88                Banashankari   \n4             No    3.8   166                Basavanagudi   \n...          ...    ...   ...                         ...   \n56244         No   3.7     34                  Whitefield   \n56246         No   2.5     81                  Whitefield   \n56247         No   3.6     27                  Whitefield   \n56250        Yes   4.3    236  ITPL Main Road, Whitefield   \n56251         No   3.4     13  ITPL Main Road, Whitefield   \n\n                 rest_type                                         dish_liked   \n0            Casual Dining  Pasta, Lunch Buffet, Masala Papad, Paneer Laja...  \\\n1            Casual Dining  Momos, Lunch Buffet, Chocolate Nirvana, Thai G...   \n2      Cafe, Casual Dining  Churros, Cannelloni, Minestrone Soup, Hot Choc...   \n3              Quick Bites                                        Masala Dosa   \n4            Casual Dining                                Panipuri, Gol Gappe   \n...                    ...                                                ...   \n56244   Casual Dining, Bar                                                 NA   \n56246   Casual Dining, Bar                               Biryani, Andhra Meal   \n56247                  Bar                                                 NA   \n56250                  Bar                       Cocktails, Pizza, Buttermilk   \n56251   Bar, Casual Dining                                                 NA   \n\n                                          cuisines approx_cost           type  \n0                   North Indian, Mughlai, Chinese         800         Buffet  \n1                      Chinese, North Indian, Thai         800         Buffet  \n2                           Cafe, Mexican, Italian         800         Buffet  \n3                       South Indian, North Indian         300         Buffet  \n4                         North Indian, Rajasthani         600         Buffet  \n...                                            ...         ...            ...  \n56244                    North Indian, Continental         800  Pubs and bars  \n56246  Andhra, South Indian, Chinese, North Indian         800  Pubs and bars  \n56247                                  Continental       1,500  Pubs and bars  \n56250                                  Finger Food       2,500  Pubs and bars  \n56251       Finger Food, North Indian, Continental       1,500  Pubs and bars  \n\n[30336 rows x 11 columns]",
      "text/html": "<div>\n<style scoped>\n    .dataframe tbody tr th:only-of-type {\n        vertical-align: middle;\n    }\n\n    .dataframe tbody tr th {\n        vertical-align: top;\n    }\n\n    .dataframe thead th {\n        text-align: right;\n    }\n</style>\n<table border=\"1\" class=\"dataframe\">\n  <thead>\n    <tr style=\"text-align: right;\">\n      <th></th>\n      <th>name</th>\n      <th>online_order</th>\n      <th>book_table</th>\n      <th>rating</th>\n      <th>votes</th>\n      <th>location</th>\n      <th>rest_type</th>\n      <th>dish_liked</th>\n      <th>cuisines</th>\n      <th>approx_cost</th>\n      <th>type</th>\n    </tr>\n  </thead>\n  <tbody>\n    <tr>\n      <th>0</th>\n      <td>Jalsa</td>\n      <td>Yes</td>\n      <td>Yes</td>\n      <td>4.1</td>\n      <td>775</td>\n      <td>Banashankari</td>\n      <td>Casual Dining</td>\n      <td>Pasta, Lunch Buffet, Masala Papad, Paneer Laja...</td>\n      <td>North Indian, Mughlai, Chinese</td>\n      <td>800</td>\n      <td>Buffet</td>\n    </tr>\n    <tr>\n      <th>1</th>\n      <td>Spice Elephant</td>\n      <td>Yes</td>\n      <td>No</td>\n      <td>4.1</td>\n      <td>787</td>\n      <td>Banashankari</td>\n      <td>Casual Dining</td>\n      <td>Momos, Lunch Buffet, Chocolate Nirvana, Thai G...</td>\n      <td>Chinese, North Indian, Thai</td>\n      <td>800</td>\n      <td>Buffet</td>\n    </tr>\n    <tr>\n      <th>2</th>\n      <td>San Churro Cafe</td>\n      <td>Yes</td>\n      <td>No</td>\n      <td>3.8</td>\n      <td>918</td>\n      <td>Banashankari</td>\n      <td>Cafe, Casual Dining</td>\n      <td>Churros, Cannelloni, Minestrone Soup, Hot Choc...</td>\n      <td>Cafe, Mexican, Italian</td>\n      <td>800</td>\n      <td>Buffet</td>\n    </tr>\n    <tr>\n      <th>3</th>\n      <td>Addhuri Udupi Bhojana</td>\n      <td>No</td>\n      <td>No</td>\n      <td>3.7</td>\n      <td>88</td>\n      <td>Banashankari</td>\n      <td>Quick Bites</td>\n      <td>Masala Dosa</td>\n      <td>South Indian, North Indian</td>\n      <td>300</td>\n      <td>Buffet</td>\n    </tr>\n    <tr>\n      <th>4</th>\n      <td>Grand Village</td>\n      <td>No</td>\n      <td>No</td>\n      <td>3.8</td>\n      <td>166</td>\n      <td>Basavanagudi</td>\n      <td>Casual Dining</td>\n      <td>Panipuri, Gol Gappe</td>\n      <td>North Indian, Rajasthani</td>\n      <td>600</td>\n      <td>Buffet</td>\n    </tr>\n    <tr>\n      <th>...</th>\n      <td>...</td>\n      <td>...</td>\n      <td>...</td>\n      <td>...</td>\n      <td>...</td>\n      <td>...</td>\n      <td>...</td>\n      <td>...</td>\n      <td>...</td>\n      <td>...</td>\n      <td>...</td>\n    </tr>\n    <tr>\n      <th>56244</th>\n      <td>The Farm House Bar n Grill</td>\n      <td>No</td>\n      <td>No</td>\n      <td>3.7</td>\n      <td>34</td>\n      <td>Whitefield</td>\n      <td>Casual Dining, Bar</td>\n      <td>NA</td>\n      <td>North Indian, Continental</td>\n      <td>800</td>\n      <td>Pubs and bars</td>\n    </tr>\n    <tr>\n      <th>56246</th>\n      <td>Bhagini</td>\n      <td>No</td>\n      <td>No</td>\n      <td>2.5</td>\n      <td>81</td>\n      <td>Whitefield</td>\n      <td>Casual Dining, Bar</td>\n      <td>Biryani, Andhra Meal</td>\n      <td>Andhra, South Indian, Chinese, North Indian</td>\n      <td>800</td>\n      <td>Pubs and bars</td>\n    </tr>\n    <tr>\n      <th>56247</th>\n      <td>Best Brews - Four Points by Sheraton Bengaluru...</td>\n      <td>No</td>\n      <td>No</td>\n      <td>3.6</td>\n      <td>27</td>\n      <td>Whitefield</td>\n      <td>Bar</td>\n      <td>NA</td>\n      <td>Continental</td>\n      <td>1,500</td>\n      <td>Pubs and bars</td>\n    </tr>\n    <tr>\n      <th>56250</th>\n      <td>Chime - Sheraton Grand Bengaluru Whitefield Ho...</td>\n      <td>No</td>\n      <td>Yes</td>\n      <td>4.3</td>\n      <td>236</td>\n      <td>ITPL Main Road, Whitefield</td>\n      <td>Bar</td>\n      <td>Cocktails, Pizza, Buttermilk</td>\n      <td>Finger Food</td>\n      <td>2,500</td>\n      <td>Pubs and bars</td>\n    </tr>\n    <tr>\n      <th>56251</th>\n      <td>The Nest - The Den Bengaluru</td>\n      <td>No</td>\n      <td>No</td>\n      <td>3.4</td>\n      <td>13</td>\n      <td>ITPL Main Road, Whitefield</td>\n      <td>Bar, Casual Dining</td>\n      <td>NA</td>\n      <td>Finger Food, North Indian, Continental</td>\n      <td>1,500</td>\n      <td>Pubs and bars</td>\n    </tr>\n  </tbody>\n</table>\n<p>30336 rows × 11 columns</p>\n</div>"
     },
     "execution_count": 85,
     "metadata": {},
     "output_type": "execute_result"
    }
   ],
   "source": [
    "dataframe = check_for_unique_values()\n",
    "dataframe"
   ],
   "metadata": {
    "collapsed": false,
    "ExecuteTime": {
     "end_time": "2023-06-27T00:52:24.568166Z",
     "start_time": "2023-06-27T00:52:21.372192Z"
    }
   }
  },
  {
   "cell_type": "code",
   "execution_count": 86,
   "outputs": [
    {
     "data": {
      "text/plain": "                                                    name online_order   \n0                                                  Jalsa          Yes  \\\n1                                         Spice Elephant          Yes   \n2                                        San Churro Cafe          Yes   \n3                                  Addhuri Udupi Bhojana           No   \n4                                          Grand Village           No   \n...                                                  ...          ...   \n56244                         The Farm House Bar n Grill           No   \n56246                                            Bhagini           No   \n56247  Best Brews - Four Points by Sheraton Bengaluru...           No   \n56250  Chime - Sheraton Grand Bengaluru Whitefield Ho...           No   \n56251                       The Nest - The Den Bengaluru           No   \n\n      book_table rating votes                    location   \n0            Yes    4.1   775                Banashankari  \\\n1             No    4.1   787                Banashankari   \n2             No    3.8   918                Banashankari   \n3             No    3.7    88                Banashankari   \n4             No    3.8   166                Basavanagudi   \n...          ...    ...   ...                         ...   \n56244         No   3.7     34                  Whitefield   \n56246         No   2.5     81                  Whitefield   \n56247         No   3.6     27                  Whitefield   \n56250        Yes   4.3    236  ITPL Main Road, Whitefield   \n56251         No   3.4     13  ITPL Main Road, Whitefield   \n\n                 rest_type                                         dish_liked   \n0            Casual Dining  Pasta, Lunch Buffet, Masala Papad, Paneer Laja...  \\\n1            Casual Dining  Momos, Lunch Buffet, Chocolate Nirvana, Thai G...   \n2      Cafe, Casual Dining  Churros, Cannelloni, Minestrone Soup, Hot Choc...   \n3              Quick Bites                                        Masala Dosa   \n4            Casual Dining                                Panipuri, Gol Gappe   \n...                    ...                                                ...   \n56244   Casual Dining, Bar                                                 NA   \n56246   Casual Dining, Bar                               Biryani, Andhra Meal   \n56247                  Bar                                                 NA   \n56250                  Bar                       Cocktails, Pizza, Buttermilk   \n56251   Bar, Casual Dining                                                 NA   \n\n                                          cuisines approx_cost           type  \n0                   North Indian, Mughlai, Chinese         800         Buffet  \n1                      Chinese, North Indian, Thai         800         Buffet  \n2                           Cafe, Mexican, Italian         800         Buffet  \n3                       South Indian, North Indian         300         Buffet  \n4                         North Indian, Rajasthani         600         Buffet  \n...                                            ...         ...            ...  \n56244                    North Indian, Continental         800  Pubs and bars  \n56246  Andhra, South Indian, Chinese, North Indian         800  Pubs and bars  \n56247                                  Continental       1,500  Pubs and bars  \n56250                                  Finger Food       2,500  Pubs and bars  \n56251       Finger Food, North Indian, Continental       1,500  Pubs and bars  \n\n[30336 rows x 11 columns]",
      "text/html": "<div>\n<style scoped>\n    .dataframe tbody tr th:only-of-type {\n        vertical-align: middle;\n    }\n\n    .dataframe tbody tr th {\n        vertical-align: top;\n    }\n\n    .dataframe thead th {\n        text-align: right;\n    }\n</style>\n<table border=\"1\" class=\"dataframe\">\n  <thead>\n    <tr style=\"text-align: right;\">\n      <th></th>\n      <th>name</th>\n      <th>online_order</th>\n      <th>book_table</th>\n      <th>rating</th>\n      <th>votes</th>\n      <th>location</th>\n      <th>rest_type</th>\n      <th>dish_liked</th>\n      <th>cuisines</th>\n      <th>approx_cost</th>\n      <th>type</th>\n    </tr>\n  </thead>\n  <tbody>\n    <tr>\n      <th>0</th>\n      <td>Jalsa</td>\n      <td>Yes</td>\n      <td>Yes</td>\n      <td>4.1</td>\n      <td>775</td>\n      <td>Banashankari</td>\n      <td>Casual Dining</td>\n      <td>Pasta, Lunch Buffet, Masala Papad, Paneer Laja...</td>\n      <td>North Indian, Mughlai, Chinese</td>\n      <td>800</td>\n      <td>Buffet</td>\n    </tr>\n    <tr>\n      <th>1</th>\n      <td>Spice Elephant</td>\n      <td>Yes</td>\n      <td>No</td>\n      <td>4.1</td>\n      <td>787</td>\n      <td>Banashankari</td>\n      <td>Casual Dining</td>\n      <td>Momos, Lunch Buffet, Chocolate Nirvana, Thai G...</td>\n      <td>Chinese, North Indian, Thai</td>\n      <td>800</td>\n      <td>Buffet</td>\n    </tr>\n    <tr>\n      <th>2</th>\n      <td>San Churro Cafe</td>\n      <td>Yes</td>\n      <td>No</td>\n      <td>3.8</td>\n      <td>918</td>\n      <td>Banashankari</td>\n      <td>Cafe, Casual Dining</td>\n      <td>Churros, Cannelloni, Minestrone Soup, Hot Choc...</td>\n      <td>Cafe, Mexican, Italian</td>\n      <td>800</td>\n      <td>Buffet</td>\n    </tr>\n    <tr>\n      <th>3</th>\n      <td>Addhuri Udupi Bhojana</td>\n      <td>No</td>\n      <td>No</td>\n      <td>3.7</td>\n      <td>88</td>\n      <td>Banashankari</td>\n      <td>Quick Bites</td>\n      <td>Masala Dosa</td>\n      <td>South Indian, North Indian</td>\n      <td>300</td>\n      <td>Buffet</td>\n    </tr>\n    <tr>\n      <th>4</th>\n      <td>Grand Village</td>\n      <td>No</td>\n      <td>No</td>\n      <td>3.8</td>\n      <td>166</td>\n      <td>Basavanagudi</td>\n      <td>Casual Dining</td>\n      <td>Panipuri, Gol Gappe</td>\n      <td>North Indian, Rajasthani</td>\n      <td>600</td>\n      <td>Buffet</td>\n    </tr>\n    <tr>\n      <th>...</th>\n      <td>...</td>\n      <td>...</td>\n      <td>...</td>\n      <td>...</td>\n      <td>...</td>\n      <td>...</td>\n      <td>...</td>\n      <td>...</td>\n      <td>...</td>\n      <td>...</td>\n      <td>...</td>\n    </tr>\n    <tr>\n      <th>56244</th>\n      <td>The Farm House Bar n Grill</td>\n      <td>No</td>\n      <td>No</td>\n      <td>3.7</td>\n      <td>34</td>\n      <td>Whitefield</td>\n      <td>Casual Dining, Bar</td>\n      <td>NA</td>\n      <td>North Indian, Continental</td>\n      <td>800</td>\n      <td>Pubs and bars</td>\n    </tr>\n    <tr>\n      <th>56246</th>\n      <td>Bhagini</td>\n      <td>No</td>\n      <td>No</td>\n      <td>2.5</td>\n      <td>81</td>\n      <td>Whitefield</td>\n      <td>Casual Dining, Bar</td>\n      <td>Biryani, Andhra Meal</td>\n      <td>Andhra, South Indian, Chinese, North Indian</td>\n      <td>800</td>\n      <td>Pubs and bars</td>\n    </tr>\n    <tr>\n      <th>56247</th>\n      <td>Best Brews - Four Points by Sheraton Bengaluru...</td>\n      <td>No</td>\n      <td>No</td>\n      <td>3.6</td>\n      <td>27</td>\n      <td>Whitefield</td>\n      <td>Bar</td>\n      <td>NA</td>\n      <td>Continental</td>\n      <td>1,500</td>\n      <td>Pubs and bars</td>\n    </tr>\n    <tr>\n      <th>56250</th>\n      <td>Chime - Sheraton Grand Bengaluru Whitefield Ho...</td>\n      <td>No</td>\n      <td>Yes</td>\n      <td>4.3</td>\n      <td>236</td>\n      <td>ITPL Main Road, Whitefield</td>\n      <td>Bar</td>\n      <td>Cocktails, Pizza, Buttermilk</td>\n      <td>Finger Food</td>\n      <td>2,500</td>\n      <td>Pubs and bars</td>\n    </tr>\n    <tr>\n      <th>56251</th>\n      <td>The Nest - The Den Bengaluru</td>\n      <td>No</td>\n      <td>No</td>\n      <td>3.4</td>\n      <td>13</td>\n      <td>ITPL Main Road, Whitefield</td>\n      <td>Bar, Casual Dining</td>\n      <td>NA</td>\n      <td>Finger Food, North Indian, Continental</td>\n      <td>1,500</td>\n      <td>Pubs and bars</td>\n    </tr>\n  </tbody>\n</table>\n<p>30336 rows × 11 columns</p>\n</div>"
     },
     "execution_count": 86,
     "metadata": {},
     "output_type": "execute_result"
    }
   ],
   "source": [
    "gd = dataframe.copy()\n",
    "gd[\"name\"]  = gd[\"name\"].str.replace(\"Ã\",\"\")\n",
    "gd[\"name\"]  = gd[\"name\"].str.replace(\"Â\",\"\")\n",
    "gd[\"name\"]  = gd[\"name\"].str.replace(\"ƒ\",\"\")\n",
    "gd[\"name\"]  = gd[\"name\"].str.replace(\"©\",\"\")\n",
    "gd[\"name\"]  = gd[\"name\"].str.replace(\"‚\",\"\")\n",
    "gd"
   ],
   "metadata": {
    "collapsed": false,
    "ExecuteTime": {
     "end_time": "2023-06-27T00:52:27.883504Z",
     "start_time": "2023-06-27T00:52:27.844809Z"
    }
   }
  },
  {
   "cell_type": "code",
   "execution_count": 188,
   "outputs": [
    {
     "data": {
      "text/plain": "                                                    name online_order   \n0                                                  Jalsa          Yes  \\\n1                                         Spice Elephant          Yes   \n2                                        San Churro Cafe          Yes   \n3                                  Addhuri Udupi Bhojana           No   \n4                                          Grand Village           No   \n...                                                  ...          ...   \n56244                         The Farm House Bar n Grill           No   \n56246                                            Bhagini           No   \n56247  Best Brews - Four Points by Sheraton Bengaluru...           No   \n56250  Chime - Sheraton Grand Bengaluru Whitefield Ho...           No   \n56251                       The Nest - The Den Bengaluru           No   \n\n      book_table rating votes                    location   \n0            Yes    4.1   775                Banashankari  \\\n1             No    4.1   787                Banashankari   \n2             No    3.8   918                Banashankari   \n3             No    3.7    88                Banashankari   \n4             No    3.8   166                Basavanagudi   \n...          ...    ...   ...                         ...   \n56244         No   3.7     34                  Whitefield   \n56246         No   2.5     81                  Whitefield   \n56247         No   3.6     27                  Whitefield   \n56250        Yes   4.3    236  ITPL Main Road, Whitefield   \n56251         No   3.4     13  ITPL Main Road, Whitefield   \n\n                 rest_type                                         dish_liked   \n0            Casual Dining  Pasta, Lunch Buffet, Masala Papad, Paneer Laja...  \\\n1            Casual Dining  Momos, Lunch Buffet, Chocolate Nirvana, Thai G...   \n2      Cafe, Casual Dining  Churros, Cannelloni, Minestrone Soup, Hot Choc...   \n3              Quick Bites                                        Masala Dosa   \n4            Casual Dining                                Panipuri, Gol Gappe   \n...                    ...                                                ...   \n56244   Casual Dining, Bar                                                 NA   \n56246   Casual Dining, Bar                               Biryani, Andhra Meal   \n56247                  Bar                                                 NA   \n56250                  Bar                       Cocktails, Pizza, Buttermilk   \n56251   Bar, Casual Dining                                                 NA   \n\n                                          cuisines approx_cost           type  \n0                   North Indian, Mughlai, Chinese         800         Buffet  \n1                      Chinese, North Indian, Thai         800         Buffet  \n2                           Cafe, Mexican, Italian         800         Buffet  \n3                       South Indian, North Indian         300         Buffet  \n4                         North Indian, Rajasthani         600         Buffet  \n...                                            ...         ...            ...  \n56244                    North Indian, Continental         800  Pubs and bars  \n56246  Andhra, South Indian, Chinese, North Indian         800  Pubs and bars  \n56247                                  Continental       1,500  Pubs and bars  \n56250                                  Finger Food       2,500  Pubs and bars  \n56251       Finger Food, North Indian, Continental       1,500  Pubs and bars  \n\n[30336 rows x 11 columns]",
      "text/html": "<div>\n<style scoped>\n    .dataframe tbody tr th:only-of-type {\n        vertical-align: middle;\n    }\n\n    .dataframe tbody tr th {\n        vertical-align: top;\n    }\n\n    .dataframe thead th {\n        text-align: right;\n    }\n</style>\n<table border=\"1\" class=\"dataframe\">\n  <thead>\n    <tr style=\"text-align: right;\">\n      <th></th>\n      <th>name</th>\n      <th>online_order</th>\n      <th>book_table</th>\n      <th>rating</th>\n      <th>votes</th>\n      <th>location</th>\n      <th>rest_type</th>\n      <th>dish_liked</th>\n      <th>cuisines</th>\n      <th>approx_cost</th>\n      <th>type</th>\n    </tr>\n  </thead>\n  <tbody>\n    <tr>\n      <th>0</th>\n      <td>Jalsa</td>\n      <td>Yes</td>\n      <td>Yes</td>\n      <td>4.1</td>\n      <td>775</td>\n      <td>Banashankari</td>\n      <td>Casual Dining</td>\n      <td>Pasta, Lunch Buffet, Masala Papad, Paneer Laja...</td>\n      <td>North Indian, Mughlai, Chinese</td>\n      <td>800</td>\n      <td>Buffet</td>\n    </tr>\n    <tr>\n      <th>1</th>\n      <td>Spice Elephant</td>\n      <td>Yes</td>\n      <td>No</td>\n      <td>4.1</td>\n      <td>787</td>\n      <td>Banashankari</td>\n      <td>Casual Dining</td>\n      <td>Momos, Lunch Buffet, Chocolate Nirvana, Thai G...</td>\n      <td>Chinese, North Indian, Thai</td>\n      <td>800</td>\n      <td>Buffet</td>\n    </tr>\n    <tr>\n      <th>2</th>\n      <td>San Churro Cafe</td>\n      <td>Yes</td>\n      <td>No</td>\n      <td>3.8</td>\n      <td>918</td>\n      <td>Banashankari</td>\n      <td>Cafe, Casual Dining</td>\n      <td>Churros, Cannelloni, Minestrone Soup, Hot Choc...</td>\n      <td>Cafe, Mexican, Italian</td>\n      <td>800</td>\n      <td>Buffet</td>\n    </tr>\n    <tr>\n      <th>3</th>\n      <td>Addhuri Udupi Bhojana</td>\n      <td>No</td>\n      <td>No</td>\n      <td>3.7</td>\n      <td>88</td>\n      <td>Banashankari</td>\n      <td>Quick Bites</td>\n      <td>Masala Dosa</td>\n      <td>South Indian, North Indian</td>\n      <td>300</td>\n      <td>Buffet</td>\n    </tr>\n    <tr>\n      <th>4</th>\n      <td>Grand Village</td>\n      <td>No</td>\n      <td>No</td>\n      <td>3.8</td>\n      <td>166</td>\n      <td>Basavanagudi</td>\n      <td>Casual Dining</td>\n      <td>Panipuri, Gol Gappe</td>\n      <td>North Indian, Rajasthani</td>\n      <td>600</td>\n      <td>Buffet</td>\n    </tr>\n    <tr>\n      <th>...</th>\n      <td>...</td>\n      <td>...</td>\n      <td>...</td>\n      <td>...</td>\n      <td>...</td>\n      <td>...</td>\n      <td>...</td>\n      <td>...</td>\n      <td>...</td>\n      <td>...</td>\n      <td>...</td>\n    </tr>\n    <tr>\n      <th>56244</th>\n      <td>The Farm House Bar n Grill</td>\n      <td>No</td>\n      <td>No</td>\n      <td>3.7</td>\n      <td>34</td>\n      <td>Whitefield</td>\n      <td>Casual Dining, Bar</td>\n      <td>NA</td>\n      <td>North Indian, Continental</td>\n      <td>800</td>\n      <td>Pubs and bars</td>\n    </tr>\n    <tr>\n      <th>56246</th>\n      <td>Bhagini</td>\n      <td>No</td>\n      <td>No</td>\n      <td>2.5</td>\n      <td>81</td>\n      <td>Whitefield</td>\n      <td>Casual Dining, Bar</td>\n      <td>Biryani, Andhra Meal</td>\n      <td>Andhra, South Indian, Chinese, North Indian</td>\n      <td>800</td>\n      <td>Pubs and bars</td>\n    </tr>\n    <tr>\n      <th>56247</th>\n      <td>Best Brews - Four Points by Sheraton Bengaluru...</td>\n      <td>No</td>\n      <td>No</td>\n      <td>3.6</td>\n      <td>27</td>\n      <td>Whitefield</td>\n      <td>Bar</td>\n      <td>NA</td>\n      <td>Continental</td>\n      <td>1,500</td>\n      <td>Pubs and bars</td>\n    </tr>\n    <tr>\n      <th>56250</th>\n      <td>Chime - Sheraton Grand Bengaluru Whitefield Ho...</td>\n      <td>No</td>\n      <td>Yes</td>\n      <td>4.3</td>\n      <td>236</td>\n      <td>ITPL Main Road, Whitefield</td>\n      <td>Bar</td>\n      <td>Cocktails, Pizza, Buttermilk</td>\n      <td>Finger Food</td>\n      <td>2,500</td>\n      <td>Pubs and bars</td>\n    </tr>\n    <tr>\n      <th>56251</th>\n      <td>The Nest - The Den Bengaluru</td>\n      <td>No</td>\n      <td>No</td>\n      <td>3.4</td>\n      <td>13</td>\n      <td>ITPL Main Road, Whitefield</td>\n      <td>Bar, Casual Dining</td>\n      <td>NA</td>\n      <td>Finger Food, North Indian, Continental</td>\n      <td>1,500</td>\n      <td>Pubs and bars</td>\n    </tr>\n  </tbody>\n</table>\n<p>30336 rows × 11 columns</p>\n</div>"
     },
     "execution_count": 188,
     "metadata": {},
     "output_type": "execute_result"
    }
   ],
   "source": [
    "gb = dataframe.copy()\n",
    "\n",
    "gb[\"name\"]  = gb[\"name\"].str.replace(\"Ã\",\"\")\n",
    "gb[\"name\"]  = gb[\"name\"].str.replace(\"Â\",\"\")\n",
    "gb[\"name\"]  = gb[\"name\"].str.replace(\"©\",\"\")\n",
    "gb[\"name\"]  = gb[\"name\"].str.replace(\"ƒ\",\"\")\n",
    "gb[\"name\"]  = gb[\"name\"].str.replace(\"‚\",\"\")\n",
    "gb[\"name\"]  = gb[\"name\"].str.replace(\"¨\",\"\")\n",
    "gb[\"name\"]  = gb[\"name\"].str.replace(\"¢\",\"\")\n",
    "gb[\"name\"]  = gb[\"name\"].str.replace(\"»\",\"\")\n",
    "gb[\"name\"]  = gb[\"name\"].str.replace(\"» \",\"\")\n",
    "gb[\"name\"]  = gb[\"name\"].str.replace(\"ª\",\"\")\n",
    "gb[\"name\"]  = gb[\"name\"].str.replace(\"±\",\"\")\n",
    "gb[\"name\"]  = gb[\"name\"].str.replace(\"Caf \",\"Caf\")\n",
    "gb[\"name\"]  = gb[\"name\"].str.replace(\"x7\",\"\")\n",
    "gb[\"name\"]  = gb[\"name\"].str.replace(\"x \",\"\")\n",
    "gb[\"name\"]  = gb[\"name\"].str.replace(\"x.\",\"\")\n",
    "gb[\"name\"]  = gb[\"name\"].str.replace(\"x's\",\"s\")\n",
    "gb[\"name\"]  = gb[\"name\"].str.replace(\"y- \",\"y\")\n",
    "gb[\"name\"]  = gb[\"name\"].str.replace(\"Caf& R\",\"CafR\")\n",
    "gb[\"name\"]  = gb[\"name\"].str.replace(\"Caf& G\",\"CafG\")\n",
    "gb[\"name\"]  = gb[\"name\"].str.replace(\"x- \",\"x\")\n",
    "gb[\"name\"]  = gb[\"name\"].str.replace(\"Caf@ \",\"Caf\")\n",
    "gb[\"name\"]  = gb[\"name\"].str.replace(\"°\",\"\")\n",
    "gb[\"name\"]  = gb[\"name\"].str.replace(\"Windy\",\"Windy- \")\n",
    "gb[\"name\"]  = gb[\"name\"].str.replace(\"True Story\",\"True Story- \")\n",
    "gb[\"name\"]  = gb[\"name\"].str.replace(\"Delu-\",\"Delu- \")\n",
    "#remove unknown character from dataset\n",
    "gb"
   ],
   "metadata": {
    "collapsed": false,
    "ExecuteTime": {
     "end_time": "2023-06-27T02:22:55.704950Z",
     "start_time": "2023-06-27T02:22:55.613137Z"
    }
   }
  },
  {
   "cell_type": "code",
   "execution_count": 182,
   "outputs": [
    {
     "data": {
      "text/plain": "                                                    name online_order   \n0                                                  Jalsa          Yes  \\\n1                                         Spice Elephant          Yes   \n2                                        San Churro Cafe          Yes   \n3                                  Addhuri Udupi Bhojana           No   \n4                                          Grand Village           No   \n...                                                  ...          ...   \n56244                         The Farm House Bar n Grill           No   \n56246                                            Bhagini           No   \n56247  Best Brews - Four Points by Sheraton Bengaluru...           No   \n56250  Chime - Sheraton Grand Bengaluru Whitefield Ho...           No   \n56251                       The Nest - The Den Bengaluru           No   \n\n      book_table rating votes                    location   \n0            Yes    4.1   775                Banashankari  \\\n1             No    4.1   787                Banashankari   \n2             No    3.8   918                Banashankari   \n3             No    3.7    88                Banashankari   \n4             No    3.8   166                Basavanagudi   \n...          ...    ...   ...                         ...   \n56244         No   3.7     34                  Whitefield   \n56246         No   2.5     81                  Whitefield   \n56247         No   3.6     27                  Whitefield   \n56250        Yes   4.3    236  ITPL Main Road, Whitefield   \n56251         No   3.4     13  ITPL Main Road, Whitefield   \n\n                 rest_type                                         dish_liked   \n0            Casual Dining  Pasta, Lunch Buffet, Masala Papad, Paneer Laja...  \\\n1            Casual Dining  Momos, Lunch Buffet, Chocolate Nirvana, Thai G...   \n2      Cafe, Casual Dining  Churros, Cannelloni, Minestrone Soup, Hot Choc...   \n3              Quick Bites                                        Masala Dosa   \n4            Casual Dining                                Panipuri, Gol Gappe   \n...                    ...                                                ...   \n56244   Casual Dining, Bar                                                 NA   \n56246   Casual Dining, Bar                               Biryani, Andhra Meal   \n56247                  Bar                                                 NA   \n56250                  Bar                       Cocktails, Pizza, Buttermilk   \n56251   Bar, Casual Dining                                                 NA   \n\n                                          cuisines approx_cost           type  \n0                   North Indian, Mughlai, Chinese         800         Buffet  \n1                      Chinese, North Indian, Thai         800         Buffet  \n2                           Cafe, Mexican, Italian         800         Buffet  \n3                       South Indian, North Indian         300         Buffet  \n4                         North Indian, Rajasthani         600         Buffet  \n...                                            ...         ...            ...  \n56244                    North Indian, Continental         800  Pubs and bars  \n56246  Andhra, South Indian, Chinese, North Indian         800  Pubs and bars  \n56247                                  Continental       1,500  Pubs and bars  \n56250                                  Finger Food       2,500  Pubs and bars  \n56251       Finger Food, North Indian, Continental       1,500  Pubs and bars  \n\n[30336 rows x 11 columns]",
      "text/html": "<div>\n<style scoped>\n    .dataframe tbody tr th:only-of-type {\n        vertical-align: middle;\n    }\n\n    .dataframe tbody tr th {\n        vertical-align: top;\n    }\n\n    .dataframe thead th {\n        text-align: right;\n    }\n</style>\n<table border=\"1\" class=\"dataframe\">\n  <thead>\n    <tr style=\"text-align: right;\">\n      <th></th>\n      <th>name</th>\n      <th>online_order</th>\n      <th>book_table</th>\n      <th>rating</th>\n      <th>votes</th>\n      <th>location</th>\n      <th>rest_type</th>\n      <th>dish_liked</th>\n      <th>cuisines</th>\n      <th>approx_cost</th>\n      <th>type</th>\n    </tr>\n  </thead>\n  <tbody>\n    <tr>\n      <th>0</th>\n      <td>Jalsa</td>\n      <td>Yes</td>\n      <td>Yes</td>\n      <td>4.1</td>\n      <td>775</td>\n      <td>Banashankari</td>\n      <td>Casual Dining</td>\n      <td>Pasta, Lunch Buffet, Masala Papad, Paneer Laja...</td>\n      <td>North Indian, Mughlai, Chinese</td>\n      <td>800</td>\n      <td>Buffet</td>\n    </tr>\n    <tr>\n      <th>1</th>\n      <td>Spice Elephant</td>\n      <td>Yes</td>\n      <td>No</td>\n      <td>4.1</td>\n      <td>787</td>\n      <td>Banashankari</td>\n      <td>Casual Dining</td>\n      <td>Momos, Lunch Buffet, Chocolate Nirvana, Thai G...</td>\n      <td>Chinese, North Indian, Thai</td>\n      <td>800</td>\n      <td>Buffet</td>\n    </tr>\n    <tr>\n      <th>2</th>\n      <td>San Churro Cafe</td>\n      <td>Yes</td>\n      <td>No</td>\n      <td>3.8</td>\n      <td>918</td>\n      <td>Banashankari</td>\n      <td>Cafe, Casual Dining</td>\n      <td>Churros, Cannelloni, Minestrone Soup, Hot Choc...</td>\n      <td>Cafe, Mexican, Italian</td>\n      <td>800</td>\n      <td>Buffet</td>\n    </tr>\n    <tr>\n      <th>3</th>\n      <td>Addhuri Udupi Bhojana</td>\n      <td>No</td>\n      <td>No</td>\n      <td>3.7</td>\n      <td>88</td>\n      <td>Banashankari</td>\n      <td>Quick Bites</td>\n      <td>Masala Dosa</td>\n      <td>South Indian, North Indian</td>\n      <td>300</td>\n      <td>Buffet</td>\n    </tr>\n    <tr>\n      <th>4</th>\n      <td>Grand Village</td>\n      <td>No</td>\n      <td>No</td>\n      <td>3.8</td>\n      <td>166</td>\n      <td>Basavanagudi</td>\n      <td>Casual Dining</td>\n      <td>Panipuri, Gol Gappe</td>\n      <td>North Indian, Rajasthani</td>\n      <td>600</td>\n      <td>Buffet</td>\n    </tr>\n    <tr>\n      <th>...</th>\n      <td>...</td>\n      <td>...</td>\n      <td>...</td>\n      <td>...</td>\n      <td>...</td>\n      <td>...</td>\n      <td>...</td>\n      <td>...</td>\n      <td>...</td>\n      <td>...</td>\n      <td>...</td>\n    </tr>\n    <tr>\n      <th>56244</th>\n      <td>The Farm House Bar n Grill</td>\n      <td>No</td>\n      <td>No</td>\n      <td>3.7</td>\n      <td>34</td>\n      <td>Whitefield</td>\n      <td>Casual Dining, Bar</td>\n      <td>NA</td>\n      <td>North Indian, Continental</td>\n      <td>800</td>\n      <td>Pubs and bars</td>\n    </tr>\n    <tr>\n      <th>56246</th>\n      <td>Bhagini</td>\n      <td>No</td>\n      <td>No</td>\n      <td>2.5</td>\n      <td>81</td>\n      <td>Whitefield</td>\n      <td>Casual Dining, Bar</td>\n      <td>Biryani, Andhra Meal</td>\n      <td>Andhra, South Indian, Chinese, North Indian</td>\n      <td>800</td>\n      <td>Pubs and bars</td>\n    </tr>\n    <tr>\n      <th>56247</th>\n      <td>Best Brews - Four Points by Sheraton Bengaluru...</td>\n      <td>No</td>\n      <td>No</td>\n      <td>3.6</td>\n      <td>27</td>\n      <td>Whitefield</td>\n      <td>Bar</td>\n      <td>NA</td>\n      <td>Continental</td>\n      <td>1,500</td>\n      <td>Pubs and bars</td>\n    </tr>\n    <tr>\n      <th>56250</th>\n      <td>Chime - Sheraton Grand Bengaluru Whitefield Ho...</td>\n      <td>No</td>\n      <td>Yes</td>\n      <td>4.3</td>\n      <td>236</td>\n      <td>ITPL Main Road, Whitefield</td>\n      <td>Bar</td>\n      <td>Cocktails, Pizza, Buttermilk</td>\n      <td>Finger Food</td>\n      <td>2,500</td>\n      <td>Pubs and bars</td>\n    </tr>\n    <tr>\n      <th>56251</th>\n      <td>The Nest - The Den Bengaluru</td>\n      <td>No</td>\n      <td>No</td>\n      <td>3.4</td>\n      <td>13</td>\n      <td>ITPL Main Road, Whitefield</td>\n      <td>Bar, Casual Dining</td>\n      <td>NA</td>\n      <td>Finger Food, North Indian, Continental</td>\n      <td>1,500</td>\n      <td>Pubs and bars</td>\n    </tr>\n  </tbody>\n</table>\n<p>30336 rows × 11 columns</p>\n</div>"
     },
     "execution_count": 182,
     "metadata": {},
     "output_type": "execute_result"
    }
   ],
   "source": [
    "bb=check_for_unique_values()\n",
    "bb['name']=bb['name'].str.replace('[Ãx][^A-Za-z]+','',regex=True)\n",
    "bb"
   ],
   "metadata": {
    "collapsed": false,
    "ExecuteTime": {
     "end_time": "2023-06-27T02:19:01.747915Z",
     "start_time": "2023-06-27T02:18:58.101773Z"
    }
   }
  },
  {
   "cell_type": "code",
   "execution_count": 191,
   "outputs": [
    {
     "name": "stdout",
     "output_type": "stream",
     "text": [
      "Brother’s Bar & Kitchen\n",
      "Brothers Bar & Kitchen\n"
     ]
    }
   ],
   "source": [
    "print(gb.loc[37050,\"name\"])\n",
    "print(bb.loc[37050,\"name\"])\n",
    "gb[\"name\"]  = gb[\"name\"].str.replace(\"Brother’s\",\"Brothers\")"
   ],
   "metadata": {
    "collapsed": false,
    "ExecuteTime": {
     "end_time": "2023-06-27T02:30:45.974710Z",
     "start_time": "2023-06-27T02:30:45.971338Z"
    }
   }
  },
  {
   "cell_type": "code",
   "execution_count": 192,
   "outputs": [
    {
     "name": "stdout",
     "output_type": "stream",
     "text": [
      "b Caf- Shangri-La Hotel\n",
      "b CafShangri-La Hotel\n"
     ]
    }
   ],
   "source": [
    "print(gb.loc[40642,\"name\"])\n",
    "print(bb.loc[40642,\"name\"])\n",
    "gb[\"name\"]  = gb[\"name\"].str.replace(\"b Caf- \",\"b Caf\")"
   ],
   "metadata": {
    "collapsed": false,
    "ExecuteTime": {
     "end_time": "2023-06-27T02:31:12.846757Z",
     "start_time": "2023-06-27T02:31:12.813426Z"
    }
   }
  },
  {
   "cell_type": "code",
   "execution_count": 193,
   "outputs": [
    {
     "name": "stdout",
     "output_type": "stream",
     "text": [
      "Mum’s Kitchen\n",
      "Mums Kitchen\n"
     ]
    }
   ],
   "source": [
    "print(gb.loc[44532,\"name\"])\n",
    "print(bb.loc[44532,\"name\"])\n",
    "gb[\"name\"]  = gb[\"name\"].str.replace(\"Mum's\",\"Mums\")"
   ],
   "metadata": {
    "collapsed": false,
    "ExecuteTime": {
     "end_time": "2023-06-27T02:31:35.587953Z",
     "start_time": "2023-06-27T02:31:35.572172Z"
    }
   }
  },
  {
   "cell_type": "code",
   "execution_count": 196,
   "outputs": [
    {
     "name": "stdout",
     "output_type": "stream",
     "text": [
      "Mum’s Kitchen\n",
      "Mums Kitchen\n"
     ]
    }
   ],
   "source": [
    "print(gb.loc[44532,\"name\"])\n",
    "print(bb.loc[44532,\"name\"])\n"
   ],
   "metadata": {
    "collapsed": false,
    "ExecuteTime": {
     "end_time": "2023-06-27T02:37:22.031297Z",
     "start_time": "2023-06-27T02:37:22.029109Z"
    }
   }
  },
  {
   "cell_type": "code",
   "execution_count": 195,
   "outputs": [
    {
     "name": "stdout",
     "output_type": "stream",
     "text": [
      "Sant Spa Cuisine\n",
      "SantSpa Cuisine\n"
     ]
    }
   ],
   "source": [
    "print(gb.loc[49700,\"name\"])\n",
    "print(bb.loc[49700,\"name\"])\n",
    "gb[\"name\"]  = gb[\"name\"].str.replace(\"Sant Spa\",\"SantSpa\")\n",
    "gb[\"name\"]  = gb[\"name\"].str.replace(\"Brother’s\",\"Brothers\")\n",
    "gb[\"name\"]  = gb[\"name\"].str.replace(\"b Caf- \",\"b Caf\")\n",
    "gb[\"name\"]  = gb[\"name\"].str.replace(\"Mum's\",\"Mums\")\n",
    "gb[\"name\"]  = gb[\"name\"].str.replace(\"Food Bo-\",\"Food Bo\")"
   ],
   "metadata": {
    "collapsed": false,
    "ExecuteTime": {
     "end_time": "2023-06-27T02:32:25.967668Z",
     "start_time": "2023-06-27T02:32:25.947787Z"
    }
   }
  },
  {
   "cell_type": "code",
   "execution_count": 3,
   "outputs": [],
   "source": [
    "import mysql.connector as conn\n",
    "\n",
    "HOST = 'localhost'\n",
    "USERNAME = 'bd97be51'\n",
    "PASSWORD = 'bd97be51'\n",
    "DATABASE = 'Cab#22se'\n"
   ],
   "metadata": {
    "collapsed": false,
    "ExecuteTime": {
     "end_time": "2023-06-27T19:00:18.842643Z",
     "start_time": "2023-06-27T19:00:18.838355Z"
    }
   }
  },
  {
   "cell_type": "code",
   "execution_count": null,
   "outputs": [],
   "source": [
    "db = conn.connect(host=HOST, user=USERNAME, password=PASSWORD, database=DATABASE, port=3306)"
   ],
   "metadata": {
    "collapsed": false
   }
  }
 ],
 "metadata": {
  "kernelspec": {
   "display_name": "Python 3",
   "language": "python",
   "name": "python3"
  },
  "language_info": {
   "codemirror_mode": {
    "name": "ipython",
    "version": 2
   },
   "file_extension": ".py",
   "mimetype": "text/x-python",
   "name": "python",
   "nbconvert_exporter": "python",
   "pygments_lexer": "ipython2",
   "version": "2.7.6"
  }
 },
 "nbformat": 4,
 "nbformat_minor": 0
}
