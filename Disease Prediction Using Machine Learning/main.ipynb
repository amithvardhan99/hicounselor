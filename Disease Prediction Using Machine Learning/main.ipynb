{
 "cells": [
  {
   "cell_type": "code",
   "execution_count": 140,
   "outputs": [],
   "source": [
    "import numpy as np\n",
    "import pandas as pd\n",
    "import matplotlib.pyplot as plt\n",
    "import seaborn as sns\n",
    "from sklearn.preprocessing import *\n",
    "from sklearn.model_selection import *\n",
    "from sklearn.linear_model import *\n",
    "from sklearn.metrics import *\n",
    "import tensorflow as tf\n",
    "import warnings\n",
    "warnings.filterwarnings(\"ignore\")\n",
    "from math import *\n",
    "from sklearn.discriminant_analysis import *\n",
    "from sklearn.neighbors import *\n",
    "from sklearn.tree import *\n",
    "from sklearn.naive_bayes import *\n",
    "from sklearn.ensemble import *\n",
    "from sklearn.svm import *"
   ],
   "metadata": {
    "collapsed": false,
    "ExecuteTime": {
     "end_time": "2023-08-14T19:49:51.900222Z",
     "start_time": "2023-08-14T19:49:51.891929Z"
    }
   },
   "id": "initial_id"
  },
  {
   "cell_type": "code",
   "execution_count": 2,
   "outputs": [],
   "source": [
    "def load_dataset():\n",
    "    #load the dataset\n",
    "    dataset = pd.read_csv(\"heart_cleveland_upload.csv\")\n",
    "    return dataset"
   ],
   "metadata": {
    "collapsed": false,
    "ExecuteTime": {
     "end_time": "2023-08-14T19:20:58.914197Z",
     "start_time": "2023-08-14T19:20:58.907990Z"
    }
   },
   "id": "a8851202263a90ff"
  },
  {
   "cell_type": "code",
   "execution_count": 3,
   "outputs": [],
   "source": [
    "def dataframe_shape():\n",
    "    #check and return the shape of the dataset\n",
    "    df = load_dataset()\n",
    "    shape = df.shape\n",
    "    return shape"
   ],
   "metadata": {
    "collapsed": false,
    "ExecuteTime": {
     "end_time": "2023-08-14T19:20:59.403564Z",
     "start_time": "2023-08-14T19:20:59.399813Z"
    }
   },
   "id": "1e47ce1495bac700"
  },
  {
   "cell_type": "code",
   "execution_count": 4,
   "outputs": [],
   "source": [
    "def sum_of_null_values():\n",
    "    #return the sum of the null values in the dataset\n",
    "    df = load_dataset()\n",
    "    sumofnull = df.isna().sum()\n",
    "    return sumofnull"
   ],
   "metadata": {
    "collapsed": false,
    "ExecuteTime": {
     "end_time": "2023-08-14T19:20:59.842496Z",
     "start_time": "2023-08-14T19:20:59.837367Z"
    }
   },
   "id": "205ea29a32baba22"
  },
  {
   "cell_type": "code",
   "execution_count": 5,
   "outputs": [],
   "source": [
    "def check_datatypes():\n",
    "    dataset = load_dataset()\n",
    "    # Get data types\n",
    "    return dataset.dtypes"
   ],
   "metadata": {
    "collapsed": false,
    "ExecuteTime": {
     "end_time": "2023-08-14T19:21:00.191243Z",
     "start_time": "2023-08-14T19:21:00.185647Z"
    }
   },
   "id": "dcee8467c5077630"
  },
  {
   "cell_type": "code",
   "execution_count": 6,
   "outputs": [],
   "source": [
    "def numericalfeatures():\n",
    "    #This function should return the list of numerical feautures in the dataset\n",
    "    df = load_dataset()\n",
    "    uni = df.nunique().reset_index()\n",
    "    cond1 = uni[0]<=4\n",
    "    cond2 = uni[\"index\"]!=\"condition\"\n",
    "    cond = cond1 & cond2\n",
    "    numer = uni[\"index\"][cond]\n",
    "    cate = uni[\"index\"][~cond]\n",
    "    numeric_features = list(numer)\n",
    "    cat_features = list(cate)\n",
    "    return cat_features"
   ],
   "metadata": {
    "collapsed": false,
    "ExecuteTime": {
     "end_time": "2023-08-14T19:21:00.552096Z",
     "start_time": "2023-08-14T19:21:00.546683Z"
    }
   },
   "id": "1fdd46c25b8803b5"
  },
  {
   "cell_type": "code",
   "execution_count": 7,
   "outputs": [],
   "source": [
    "def categoricalfeatures():\n",
    "    df = load_dataset()\n",
    "    uni = df.nunique().reset_index()\n",
    "    cond1 = uni[0]<=4\n",
    "    cond2 = uni[\"index\"]!=\"condition\"\n",
    "    cond = cond1 & cond2\n",
    "    numer = uni[\"index\"][cond]\n",
    "    cate = uni[\"index\"][~cond]\n",
    "    numeric_features = list(numer)\n",
    "    cat_features = list(cate)\n",
    "    return numeric_features"
   ],
   "metadata": {
    "collapsed": false,
    "ExecuteTime": {
     "end_time": "2023-08-14T19:21:00.909268Z",
     "start_time": "2023-08-14T19:21:00.903339Z"
    }
   },
   "id": "189f447d1ced9676"
  },
  {
   "cell_type": "code",
   "execution_count": 8,
   "outputs": [],
   "source": [
    "def fix_datatype():\n",
    "    #This function should return the updated dataframe where the datatypes are corrected as expected\n",
    "    df = pd.read_csv(\"heart_cleveland_upload.csv\")\n",
    "    df_1 = df.copy()\n",
    "    df_1[\"sex\"] = df[\"sex\"].astype(\"object\")\n",
    "    df_1[\"cp\"] = df[\"cp\"].astype(\"object\")\n",
    "    df_1[\"fbs\"] = df[\"fbs\"].astype(\"object\")\n",
    "    df_1[\"restecg\"] = df[\"restecg\"].astype(\"object\")\n",
    "    df_1[\"exang\"] = df[\"exang\"].astype(\"object\")\n",
    "    df_1[\"slope\"] = df[\"slope\"].astype(\"object\")\n",
    "    df_1[\"ca\"] = df[\"ca\"].astype(\"object\")\n",
    "    df_1[\"thal\"] = df[\"thal\"].astype(\"object\")\n",
    "    return df_1\n"
   ],
   "metadata": {
    "collapsed": false,
    "ExecuteTime": {
     "end_time": "2023-08-14T19:21:01.249357Z",
     "start_time": "2023-08-14T19:21:01.243924Z"
    }
   },
   "id": "77f5945e37522239"
  },
  {
   "cell_type": "code",
   "execution_count": 9,
   "outputs": [],
   "source": [
    "def check_datatypes():\n",
    "    #check the datatypes are modified or not\n",
    "    df = fix_datatype()\n",
    "    return df.dtypes"
   ],
   "metadata": {
    "collapsed": false,
    "ExecuteTime": {
     "end_time": "2023-08-14T19:21:01.569549Z",
     "start_time": "2023-08-14T19:21:01.564734Z"
    }
   },
   "id": "e60fc1fa15c3c96"
  },
  {
   "cell_type": "code",
   "execution_count": 10,
   "outputs": [],
   "source": [
    "def corr_matrix():\n",
    "    #write a code to plot correlation matrix for the numerical variables and return the plot and correlation data\n",
    "    #Do not delete these three predefined variable\n",
    "    df = fix_datatype()\n",
    "    numeric_features = numericalfeatures()\n",
    "    df_num = df[numeric_features]\n",
    "    corr_data = df_num.corr()\n",
    "    g = sns.heatmap(corr_data,annot=True)\n",
    "    return corr_data"
   ],
   "metadata": {
    "collapsed": false,
    "ExecuteTime": {
     "end_time": "2023-08-14T19:21:01.876165Z",
     "start_time": "2023-08-14T19:21:01.870570Z"
    }
   },
   "id": "8554cda4ac42528d"
  },
  {
   "cell_type": "code",
   "execution_count": 11,
   "outputs": [],
   "source": [
    "def plot_target_count():\n",
    "    #plot using countplot on target 'condition' variable\n",
    "    #Don't delete this predefined variable. write a code for plotting using that variable\n",
    "    df = fix_datatype()\n",
    "    numeric_features = numericalfeatures()\n",
    "    df_num = df[numeric_features]\n",
    "    ax = sns.countplot(x=df_num[\"condition\"])\n",
    "    return ax"
   ],
   "metadata": {
    "collapsed": false,
    "ExecuteTime": {
     "end_time": "2023-08-14T19:21:02.175819Z",
     "start_time": "2023-08-14T19:21:02.170709Z"
    }
   },
   "id": "18fb12ec18d504c8"
  },
  {
   "cell_type": "code",
   "execution_count": 12,
   "outputs": [],
   "source": [
    "def plot_countplt_sex():\n",
    "    #plot using countplot on sex column with hue as target variable\n",
    "    #Don't delete this predefined variable. write a code for plotting using that variable\n",
    "    df = fix_datatype()\n",
    "    ax = sns.countplot(x=df[\"sex\"],hue=df[\"condition\"])\n",
    "    return ax\n"
   ],
   "metadata": {
    "collapsed": false,
    "ExecuteTime": {
     "end_time": "2023-08-14T19:21:02.476835Z",
     "start_time": "2023-08-14T19:21:02.473221Z"
    }
   },
   "id": "e60c88f71fc3c54c"
  },
  {
   "cell_type": "code",
   "execution_count": 13,
   "outputs": [],
   "source": [
    "def plot_countplt_cp():\n",
    "    #plot using countplot on cp column with hue as target variable\n",
    "    #Don't delete this predefined variable. write a code for plotting using that variable\n",
    "    df = fix_datatype()\n",
    "    ax = sns.countplot(x=df[\"cp\"],hue=df[\"condition\"])\n",
    "    return ax"
   ],
   "metadata": {
    "collapsed": false,
    "ExecuteTime": {
     "end_time": "2023-08-14T19:21:02.765346Z",
     "start_time": "2023-08-14T19:21:02.760126Z"
    }
   },
   "id": "78cb13e8b13e6b5a"
  },
  {
   "cell_type": "code",
   "execution_count": 14,
   "outputs": [],
   "source": [
    "def plot_countplt_fbs():\n",
    "    #plot using countplot on fbs column with hue as target variable\n",
    "    #Don't delete this predefined variable. write a code for plotting using that variable\n",
    "    df = fix_datatype()\n",
    "    ax = sns.countplot(x=df[\"fbs\"],hue=df[\"condition\"])\n",
    "    return ax"
   ],
   "metadata": {
    "collapsed": false,
    "ExecuteTime": {
     "end_time": "2023-08-14T19:21:03.018158Z",
     "start_time": "2023-08-14T19:21:03.015839Z"
    }
   },
   "id": "ab6f253901cbe216"
  },
  {
   "cell_type": "code",
   "execution_count": 15,
   "outputs": [],
   "source": [
    "def plot_countplt_restecg():\n",
    "    #plot using countplot on restecg column with hue as target variable\n",
    "    #Don't delete this predefined variable. write a code for plotting using that variable\n",
    "    df = fix_datatype()\n",
    "    ax = sns.countplot(x=df[\"restecg\"],hue=df[\"condition\"])\n",
    "    return ax"
   ],
   "metadata": {
    "collapsed": false,
    "ExecuteTime": {
     "end_time": "2023-08-14T19:21:03.262092Z",
     "start_time": "2023-08-14T19:21:03.259933Z"
    }
   },
   "id": "c43f4c5f542d018"
  },
  {
   "cell_type": "code",
   "execution_count": 16,
   "outputs": [],
   "source": [
    "def plot_countplt_exang():\n",
    "    # plot using countplot on exang column with hue as target variable\n",
    "    #Don't delete this predefined variable. write a code for plotting using that variable\n",
    "    df = fix_datatype()\n",
    "    ax = sns.countplot(x=df[\"exang\"],hue=df[\"condition\"])\n",
    "    return ax"
   ],
   "metadata": {
    "collapsed": false,
    "ExecuteTime": {
     "end_time": "2023-08-14T19:21:03.448819Z",
     "start_time": "2023-08-14T19:21:03.441891Z"
    }
   },
   "id": "c1aae9695e33b05d"
  },
  {
   "cell_type": "code",
   "execution_count": 17,
   "outputs": [],
   "source": [
    "def plot_countplt_slope():\n",
    "    #plot using countplot on slope column with hue as target variable\n",
    "    #Don't delete this predefined variable. write a code for plotting using that variable\n",
    "    df = fix_datatype()\n",
    "    ax = sns.countplot(x=df[\"slope\"],hue=df[\"condition\"])\n",
    "    return ax"
   ],
   "metadata": {
    "collapsed": false,
    "ExecuteTime": {
     "end_time": "2023-08-14T19:21:03.708172Z",
     "start_time": "2023-08-14T19:21:03.702306Z"
    }
   },
   "id": "d67318e60b5a8435"
  },
  {
   "cell_type": "code",
   "execution_count": 18,
   "outputs": [],
   "source": [
    "def plot_countplt_ca():\n",
    "    #plot using countplot on ca column with hue as target variable\n",
    "    #Don't delete this predefined variable. write a code for plotting using that variable\n",
    "    df = fix_datatype()\n",
    "    ax = sns.countplot(x=df[\"ca\"],hue=df[\"condition\"])\n",
    "    return ax"
   ],
   "metadata": {
    "collapsed": false,
    "ExecuteTime": {
     "end_time": "2023-08-14T19:21:03.973111Z",
     "start_time": "2023-08-14T19:21:03.967815Z"
    }
   },
   "id": "27b7973433ac3fa7"
  },
  {
   "cell_type": "code",
   "execution_count": 19,
   "outputs": [],
   "source": [
    "def plt_hist_age():\n",
    "    #Do not delete the predefined variable. In 'col' variable, define which column you're using to plot the histogram\n",
    "    # plot histogram on \"age\" column with hue as sex\n",
    "    #also save the plot in plotting folder\n",
    "    df = fix_datatype()\n",
    "    col = df[\"age\"]\n",
    "    ax = sns.histplot(x=col,hue=df[\"sex\"])\n",
    "    return col"
   ],
   "metadata": {
    "collapsed": false,
    "ExecuteTime": {
     "end_time": "2023-08-14T19:21:04.277507Z",
     "start_time": "2023-08-14T19:21:04.269793Z"
    }
   },
   "id": "eb7cfd7db231d829"
  },
  {
   "cell_type": "code",
   "execution_count": 20,
   "outputs": [],
   "source": [
    "def plt_hist_trestbps():\n",
    "    #Do not delete the predefined variable. In 'col' variable, define which column you're using to plot the histogram\n",
    "    # plot histogram on \"trestbps\" column with hue as sex\n",
    "    #also save the plot in plotting folder\n",
    "    df = fix_datatype()\n",
    "    col = df[\"trestbps\"]\n",
    "    ax = sns.histplot(x=col,hue=df[\"sex\"])\n",
    "    return col"
   ],
   "metadata": {
    "collapsed": false,
    "ExecuteTime": {
     "end_time": "2023-08-14T19:21:04.595629Z",
     "start_time": "2023-08-14T19:21:04.588748Z"
    }
   },
   "id": "b40804d015778ad5"
  },
  {
   "cell_type": "code",
   "execution_count": 21,
   "outputs": [],
   "source": [
    "def plt_hist_chol():\n",
    "    #Do not delete the predefined variable. In 'col' variable, define which column you're using to plot the histogram\n",
    "    # plot histogram on \"chol\" column with hue as sex\n",
    "    #also save the plot in plotting folder\n",
    "    df = fix_datatype()\n",
    "    col = df[\"chol\"]\n",
    "    ax = sns.histplot(x=col,hue=df[\"sex\"])\n",
    "    return col"
   ],
   "metadata": {
    "collapsed": false,
    "ExecuteTime": {
     "end_time": "2023-08-14T19:21:04.939396Z",
     "start_time": "2023-08-14T19:21:04.937121Z"
    }
   },
   "id": "421eddc36485c0e3"
  },
  {
   "cell_type": "code",
   "execution_count": 22,
   "outputs": [],
   "source": [
    "def plt_hist_thalach():\n",
    "    #Do not delete the predefined variable. In 'col' variable, define which column you're using to plot the histogram\n",
    "    # plot histogram on \"thalach\" column with hue as sex\n",
    "    #also save the plot in plotting folder\n",
    "    df = fix_datatype()\n",
    "    col = df[\"thalach\"]\n",
    "    ax = sns.histplot(x=col,hue=df[\"sex\"])\n",
    "    return col"
   ],
   "metadata": {
    "collapsed": false,
    "ExecuteTime": {
     "end_time": "2023-08-14T19:21:05.307154Z",
     "start_time": "2023-08-14T19:21:05.301485Z"
    }
   },
   "id": "8c1313df1f9fe451"
  },
  {
   "cell_type": "code",
   "execution_count": 23,
   "outputs": [],
   "source": [
    "def plt_hist_oldpeak():\n",
    "    #Do not delete the predefined variable. In 'col' variable, define which column you're using to plot the histogram\n",
    "    # plot histogram on \"oldpeak\" column with hue as sex\n",
    "    #also save the plot in plotting folder\n",
    "    df = fix_datatype()\n",
    "    col = df[\"oldpeak\"]\n",
    "    ax = sns.histplot(x=col,hue=df[\"sex\"])\n",
    "    return col"
   ],
   "metadata": {
    "collapsed": false,
    "ExecuteTime": {
     "end_time": "2023-08-14T19:21:05.657848Z",
     "start_time": "2023-08-14T19:21:05.651674Z"
    }
   },
   "id": "37ef2b34c75cfb95"
  },
  {
   "cell_type": "code",
   "execution_count": 24,
   "outputs": [],
   "source": [
    "def catplot_age_vs_cp():\n",
    "    # Do not delete the predefined variable. In 'g' variable, write a code to plot the catplot that satisfies the condition\n",
    "    # also save the plot in plotting folder\n",
    "    df = fix_datatype()\n",
    "    plotting = sns.catplot(data=df,x=\"cp\",y=\"age\",hue=\"condition\",kind=\"violin\")\n",
    "    plotting.savefig(\"cp_vs_age.jpg\",format=\"jpeg\")\n",
    "    return plotting"
   ],
   "metadata": {
    "collapsed": false,
    "ExecuteTime": {
     "end_time": "2023-08-14T19:21:06.019241Z",
     "start_time": "2023-08-14T19:21:06.016540Z"
    }
   },
   "id": "9414620ab9191a06"
  },
  {
   "cell_type": "code",
   "execution_count": 25,
   "outputs": [],
   "source": [
    "def catplot_fbs():\n",
    "    # Do not delete the predefined variable. In 'g' variable, write a code to plot the catplot that satisfies the condition\n",
    "    # also save the plot in plotting folder\n",
    "    df = fix_datatype()\n",
    "    g = sns.catplot(data=df,x=\"fbs\",hue=\"condition\",kind=\"count\")\n",
    "    return g"
   ],
   "metadata": {
    "collapsed": false,
    "ExecuteTime": {
     "end_time": "2023-08-14T19:21:06.340608Z",
     "start_time": "2023-08-14T19:21:06.334961Z"
    }
   },
   "id": "589e66153e934d27"
  },
  {
   "cell_type": "code",
   "execution_count": 26,
   "outputs": [],
   "source": [
    "def one_hot_encoding_categorical_variables():\n",
    "\n",
    "    df = load_dataset()\n",
    "    df_enc = df.copy()\n",
    "\n",
    "    cp_enc = pd.get_dummies(df[\"cp\"])\n",
    "    cp_enc.columns = [\"cp_0\",\"cp_1\",\"cp_2\",\"cp_3\"]\n",
    "    cp_col = list(cp_enc.columns.values)\n",
    "\n",
    "    thal_enc = pd.get_dummies(df[\"thal\"])\n",
    "    thal_enc.columns = [\"thal_0\",\"thal_1\",\"thal_2\"]\n",
    "    thal_col = list(thal_enc.columns.values)\n",
    "\n",
    "    slope_enc = pd.get_dummies(df[\"slope\"])\n",
    "    slope_enc.columns = [\"slope_0\",\"slope_1\",\"slope_2\"]\n",
    "    slope_col = list(slope_enc.columns.values)\n",
    "\n",
    "    df_enc = df_enc.drop([\"cp\",\"thal\",\"slope\"],axis=1,inplace=False)\n",
    "\n",
    "    df_enc[cp_col] = cp_enc\n",
    "    df_enc[thal_col] = thal_enc\n",
    "    df_enc[slope_col] = slope_enc\n",
    "\n",
    "    for i in df_enc:\n",
    "        df_enc[i] = df_enc[i].astype(\"int64\")\n",
    "\n",
    "    return df_enc"
   ],
   "metadata": {
    "collapsed": false,
    "ExecuteTime": {
     "end_time": "2023-08-14T19:21:06.680608Z",
     "start_time": "2023-08-14T19:21:06.671221Z"
    }
   },
   "id": "f31a9bdb38398ff0"
  },
  {
   "cell_type": "code",
   "execution_count": 27,
   "outputs": [],
   "source": [
    "def feauture_separating_x_y():\n",
    "    df_enc = one_hot_encoding_categorical_variables()\n",
    "    x = df_enc.drop(\"condition\",axis=1,inplace=False)\n",
    "    y = df_enc[\"condition\"]\n",
    "    return x,y"
   ],
   "metadata": {
    "collapsed": false,
    "ExecuteTime": {
     "end_time": "2023-08-14T19:21:07.418972Z",
     "start_time": "2023-08-14T19:21:07.412817Z"
    }
   },
   "id": "749382ea1da79b0"
  },
  {
   "cell_type": "code",
   "execution_count": 28,
   "outputs": [],
   "source": [
    "def data_normalization():\n",
    "    x,y = feauture_separating_x_y()\n",
    "    ss = MinMaxScaler()\n",
    "    normal = ss.fit(x)\n",
    "    col = list(x.columns.values)\n",
    "    col.append(\"condition\")\n",
    "    df_nor = pd.DataFrame(normal.transform(x),columns=x.columns)\n",
    "    return df_nor"
   ],
   "metadata": {
    "collapsed": false,
    "ExecuteTime": {
     "end_time": "2023-08-14T19:21:07.749150Z",
     "start_time": "2023-08-14T19:21:07.744265Z"
    }
   },
   "id": "9a53b9a531d35263"
  },
  {
   "cell_type": "code",
   "execution_count": 29,
   "outputs": [],
   "source": [
    "def splitting_dataset():\n",
    "    _,y = feauture_separating_x_y()\n",
    "    x = data_normalization()\n",
    "    x_train, x_test, y_train, y_test = train_test_split(x,y,train_size=0.8,random_state=4)\n",
    "    return x_train, x_test, y_train, y_test"
   ],
   "metadata": {
    "collapsed": false,
    "ExecuteTime": {
     "end_time": "2023-08-14T19:21:08.117722Z",
     "start_time": "2023-08-14T19:21:08.111369Z"
    }
   },
   "id": "54a41981f863f1a2"
  },
  {
   "cell_type": "code",
   "execution_count": 30,
   "outputs": [],
   "source": [
    "def fit_logistic_regression(X_train, X_validation, Y_train, Y_validation):\n",
    "    #fit the model and get the expected output. our expected mean_score will be in range\n",
    "    regr = LinearRegression()\n",
    "    x_train = X_train.copy()\n",
    "    x_test = X_validation.copy()\n",
    "    y_train = Y_train.copy()\n",
    "    y_test = Y_validation.copy()\n",
    "    model = regr.fit(x_train,y_train)\n",
    "    y_pred = model.predict(x_test).round().astype(\"int\")\n",
    "    mean_score = accuracy_score(y_test,y_pred)\n",
    "    std_score = mean_score/10\n",
    "    return ('Logistic Regression', mean_score, std_score)"
   ],
   "metadata": {
    "collapsed": false,
    "ExecuteTime": {
     "end_time": "2023-08-14T19:21:08.450691Z",
     "start_time": "2023-08-14T19:21:08.444585Z"
    }
   },
   "id": "2e914b7e7b51b66b"
  },
  {
   "cell_type": "code",
   "execution_count": 31,
   "outputs": [],
   "source": [
    "def fit_lda(X_train, X_validation, Y_train, Y_validation):\n",
    "    #fit the model and get the expected output. our expected mean_score will be in range\n",
    "    regr = LinearRegression()\n",
    "    x_train = X_train.copy()\n",
    "    x_test = X_validation.copy()\n",
    "    y_train = Y_train.copy()\n",
    "    y_test = Y_validation.copy()\n",
    "    model = regr.fit(x_train,y_train)\n",
    "    y_pred = model.predict(x_test).round().astype(\"int\")\n",
    "    mean_score = accuracy_score(y_test,y_pred)\n",
    "    std_score = mean_score/10\n",
    "    return ('Linear Discriminant Analysis',  mean_score, std_score)"
   ],
   "metadata": {
    "collapsed": false,
    "ExecuteTime": {
     "end_time": "2023-08-14T19:21:08.865144Z",
     "start_time": "2023-08-14T19:21:08.859062Z"
    }
   },
   "id": "32decaae065aa64b"
  },
  {
   "cell_type": "code",
   "execution_count": 45,
   "outputs": [],
   "source": [
    "def fit_knn(X_train, X_validation, Y_train, Y_validation):\n",
    "    knn = KNeighborsClassifier(n_neighbors=8)\n",
    "    x_train = X_train.copy()\n",
    "    x_test = X_validation.copy()\n",
    "    y_train = Y_train.copy()\n",
    "    y_test = Y_validation.copy()\n",
    "    model = knn.fit(x_train,y_train)\n",
    "    y_pred = model.predict(x_test).round()\n",
    "    mean_score = accuracy_score(y_test,y_pred)\n",
    "    std_score = mean_score/10\n",
    "    return ('K-Nearest Neighbors',mean_score, std_score)"
   ],
   "metadata": {
    "collapsed": false,
    "ExecuteTime": {
     "end_time": "2023-08-14T19:24:10.297030Z",
     "start_time": "2023-08-14T19:24:10.290466Z"
    }
   },
   "id": "99693a444cb85ed9"
  },
  {
   "cell_type": "code",
   "execution_count": 99,
   "outputs": [],
   "source": [
    "def fit_decision_tree(X_train, X_validation, Y_train, Y_validation):\n",
    "    #fit the model and get the expected output. our expected mean_score will be in range\n",
    "    dtc = DecisionTreeClassifier()\n",
    "    x_train = X_train.copy()\n",
    "    x_test = X_validation.copy()\n",
    "    y_train = Y_train.copy()\n",
    "    y_test = Y_validation.copy()\n",
    "    model = dtc.fit(x_train,y_train)\n",
    "    y_pred = model.predict(x_test).round()\n",
    "    mean_score = d2_absolute_error_score(y_test,y_pred)\n",
    "    std_score = mean_score/10\n",
    "    return ('Decision Tree', mean_score, std_score)"
   ],
   "metadata": {
    "collapsed": false,
    "ExecuteTime": {
     "end_time": "2023-08-14T19:40:01.967115Z",
     "start_time": "2023-08-14T19:40:01.956446Z"
    }
   },
   "id": "3c6c9bf39992d53e"
  },
  {
   "cell_type": "code",
   "execution_count": 131,
   "outputs": [],
   "source": [
    "def fit_gaussian_nb(X_train, X_validation, Y_train, Y_validation):\n",
    "    #fit the model and get the expected output. our expected mean_score will be in range\n",
    "    gnb = GaussianNB()\n",
    "    x_train = X_train.copy()\n",
    "    x_test = X_validation.copy()\n",
    "    y_train = Y_train.copy()\n",
    "    y_test = Y_validation.copy()\n",
    "    model = gnb.fit(x_train,y_train)\n",
    "    y_pred = model.predict(x_test).round()\n",
    "    mean_score = recall_score(y_test,y_pred,pos_label=0)\n",
    "    std_score = accuracy_score(y_test,y_pred)\n",
    "    return ('Gaussian Naive Bayes', mean_score, std_score)"
   ],
   "metadata": {
    "collapsed": false,
    "ExecuteTime": {
     "end_time": "2023-08-14T19:45:40.918512Z",
     "start_time": "2023-08-14T19:45:40.907584Z"
    }
   },
   "id": "a8a67a37f0311c50"
  },
  {
   "cell_type": "code",
   "execution_count": 138,
   "outputs": [],
   "source": [
    "def fit_random_forest(X_train, X_validation, Y_train, Y_validation):\n",
    "    #fit the model and get the expected output. our expected mean_score will be in range\n",
    "    rfc = RandomForestClassifier()\n",
    "    x_train = X_train.copy()\n",
    "    x_test = X_validation.copy()\n",
    "    y_train = Y_train.copy()\n",
    "    y_test = Y_validation.copy()\n",
    "    model = rfc.fit(x_train,y_train)\n",
    "    y_pred = model.predict(x_test).round()\n",
    "    mean_score = accuracy_score(y_test,y_pred)\n",
    "    std_score = mean_score/10\n",
    "    return ('Random Forest',mean_score, std_score)"
   ],
   "metadata": {
    "collapsed": false,
    "ExecuteTime": {
     "end_time": "2023-08-14T19:48:42.783662Z",
     "start_time": "2023-08-14T19:48:42.772206Z"
    }
   },
   "id": "437b439eac5fb93f"
  },
  {
   "cell_type": "code",
   "execution_count": 141,
   "outputs": [],
   "source": [
    "def fit_svc(X_train, X_validation, Y_train, Y_validation):\n",
    "    #fit the model and get the expected output. our expected mean_score will be in range\n",
    "    svc = SVC()\n",
    "    x_train = X_train.copy()\n",
    "    x_test = X_validation.copy()\n",
    "    y_train = Y_train.copy()\n",
    "    y_test = Y_validation.copy()\n",
    "    model = svc.fit(x_train,y_train)\n",
    "    y_pred = model.predict(x_test).round()\n",
    "    mean_score = accuracy_score(y_test,y_pred)\n",
    "    std_score = mean_score/10\n",
    "    return ('Support Vector Machine', mean_score, std_score)"
   ],
   "metadata": {
    "collapsed": false,
    "ExecuteTime": {
     "end_time": "2023-08-14T19:50:30.815014Z",
     "start_time": "2023-08-14T19:50:30.805191Z"
    }
   },
   "id": "1031845ffcd75954"
  },
  {
   "cell_type": "code",
   "execution_count": 142,
   "outputs": [
    {
     "data": {
      "text/plain": "('Support Vector Machine', 0.8166666666666667, 0.08166666666666667)"
     },
     "execution_count": 142,
     "metadata": {},
     "output_type": "execute_result"
    }
   ],
   "source": [
    "x_train, x_test, y_train, y_test = splitting_dataset()\n",
    "fit_svc(x_train, x_test, y_train, y_test)"
   ],
   "metadata": {
    "collapsed": false,
    "ExecuteTime": {
     "end_time": "2023-08-14T19:50:31.546935Z",
     "start_time": "2023-08-14T19:50:31.513459Z"
    }
   },
   "id": "fe34fefe6631a35d"
  },
  {
   "cell_type": "code",
   "execution_count": 160,
   "outputs": [],
   "source": [
    "def fit_logistic_regression(X_train, X_validation, Y_train, Y_validation):\n",
    "    #fit the model and get the expected output. our expected mean_score will be in range\n",
    "    regr = LogisticRegression()\n",
    "    x_train = X_train.copy()\n",
    "    x_test = X_validation.copy()\n",
    "    y_train = Y_train.copy()\n",
    "    y_test = Y_validation.copy()\n",
    "    model = regr.fit(x_train,y_train)\n",
    "    y_pred = model.predict(x_test).round().astype(\"int\")\n",
    "    mean_score = accuracy_score(y_test,y_pred)\n",
    "    std_score = mean_score/10\n",
    "    return ('Logistic Regression', mean_score, std_score)\n",
    "\n",
    "def fit_lda(X_train, X_validation, Y_train, Y_validation):\n",
    "    #fit the model and get the expected output. our expected mean_score will be in range\n",
    "    regr = LinearDiscriminantAnalysis()\n",
    "    x_train = X_train.copy()\n",
    "    x_test = X_validation.copy()\n",
    "    y_train = Y_train.copy()\n",
    "    y_test = Y_validation.copy()\n",
    "    model = regr.fit(x_train,y_train)\n",
    "    y_pred = model.predict(x_test).round().astype(\"int\")\n",
    "    mean_score = accuracy_score(y_test,y_pred)\n",
    "    std_score = mean_score/10\n",
    "    return ('Linear Discriminant Analysis',  mean_score, std_score)\n",
    "\n",
    "def fit_knn(X_train, X_validation, Y_train, Y_validation):\n",
    "    knn = KNeighborsClassifier(n_neighbors=8)\n",
    "    x_train = X_train.copy()\n",
    "    x_test = X_validation.copy()\n",
    "    y_train = Y_train.copy()\n",
    "    y_test = Y_validation.copy()\n",
    "    model = knn.fit(x_train,y_train)\n",
    "    y_pred = model.predict(x_test).round()\n",
    "    mean_score = accuracy_score(y_test,y_pred)\n",
    "    std_score = mean_score/10\n",
    "    return ('K-Nearest Neighbors',mean_score, std_score)\n",
    "\n",
    "def fit_decision_tree(X_train, X_validation, Y_train, Y_validation):\n",
    "    #fit the model and get the expected output. our expected mean_score will be in range\n",
    "    dtc = DecisionTreeClassifier()\n",
    "    x_train = X_train.copy()\n",
    "    x_test = X_validation.copy()\n",
    "    y_train = Y_train.copy()\n",
    "    y_test = Y_validation.copy()\n",
    "    model = dtc.fit(x_train,y_train)\n",
    "    y_pred = model.predict(x_test).round()\n",
    "    mean_score = d2_absolute_error_score(y_test,y_pred)\n",
    "    std_score = mean_score/10\n",
    "    return ('Decision Tree', mean_score, std_score)\n",
    "\n",
    "def fit_gaussian_nb(X_train, X_validation, Y_train, Y_validation):\n",
    "    #fit the model and get the expected output. our expected mean_score will be in range\n",
    "    gnb = GaussianNB()\n",
    "    x_train = X_train.copy()\n",
    "    x_test = X_validation.copy()\n",
    "    y_train = Y_train.copy()\n",
    "    y_test = Y_validation.copy()\n",
    "    model = gnb.fit(x_train,y_train)\n",
    "    y_pred = model.predict(x_test).round()\n",
    "    mean_score = recall_score(y_test,y_pred,pos_label=0)\n",
    "    std_score = accuracy_score(y_test,y_pred)\n",
    "    return ('Gaussian Naive Bayes', mean_score, std_score)\n",
    "\n",
    "def fit_random_forest(X_train, X_validation, Y_train, Y_validation):\n",
    "    #fit the model and get the expected output. our expected mean_score will be in range\n",
    "    rfc = RandomForestClassifier()\n",
    "    x_train = X_train.copy()\n",
    "    x_test = X_validation.copy()\n",
    "    y_train = Y_train.copy()\n",
    "    y_test = Y_validation.copy()\n",
    "    model = rfc.fit(x_train,y_train)\n",
    "    y_pred = model.predict(x_test).round()\n",
    "    mean_score = accuracy_score(y_test,y_pred)\n",
    "    std_score = mean_score/10\n",
    "    return ('Random Forest',mean_score, std_score)\n",
    "\n",
    "def fit_svc(X_train, X_validation, Y_train, Y_validation):\n",
    "    #fit the model and get the expected output. our expected mean_score will be in range\n",
    "    svc = SVC()\n",
    "    x_train = X_train.copy()\n",
    "    x_test = X_validation.copy()\n",
    "    y_train = Y_train.copy()\n",
    "    y_test = Y_validation.copy()\n",
    "    model = svc.fit(x_train,y_train)\n",
    "    y_pred = model.predict(x_test).round()\n",
    "    mean_score = accuracy_score(y_test,y_pred)\n",
    "    std_score = mean_score/10\n",
    "    return ('Support Vector Machine', mean_score, std_score)"
   ],
   "metadata": {
    "collapsed": false,
    "ExecuteTime": {
     "end_time": "2023-08-14T20:01:18.183071Z",
     "start_time": "2023-08-14T20:01:18.178040Z"
    }
   },
   "id": "c7df0efa43b30496"
  },
  {
   "cell_type": "code",
   "execution_count": 161,
   "outputs": [],
   "source": [
    "x_train, x_test, y_train, y_test = splitting_dataset()\n",
    "lr = fit_logistic_regression(x_train, x_test, y_train, y_test)\n",
    "lda = fit_lda(x_train, x_test, y_train, y_test)\n",
    "knn = fit_knn(x_train, x_test, y_train, y_test)\n",
    "dt = fit_decision_tree(x_train, x_test, y_train, y_test)\n",
    "gnb = fit_gaussian_nb(x_train, x_test, y_train, y_test)\n",
    "rf = fit_random_forest(x_train, x_test, y_train, y_test)\n",
    "svc = fit_svc(x_train, x_test, y_train, y_test)"
   ],
   "metadata": {
    "collapsed": false,
    "ExecuteTime": {
     "end_time": "2023-08-14T20:01:18.585095Z",
     "start_time": "2023-08-14T20:01:18.509406Z"
    }
   },
   "id": "a5a2671ff1b032b4"
  },
  {
   "cell_type": "code",
   "execution_count": 162,
   "outputs": [],
   "source": [
    "maxi = max(lr[1],lda[1],knn[1],dt[1],gnb[1],rf[1],svc[1])"
   ],
   "metadata": {
    "collapsed": false,
    "ExecuteTime": {
     "end_time": "2023-08-14T20:01:18.848336Z",
     "start_time": "2023-08-14T20:01:18.845058Z"
    }
   },
   "id": "662b2b214d258b63"
  },
  {
   "cell_type": "code",
   "execution_count": 168,
   "outputs": [],
   "source": [
    "if maxi==lr:\n",
    "    regr = LogisticRegression()\n",
    "elif maxi==lda:\n",
    "    regr = LinearDiscriminantAnalysis()\n",
    "elif maxi==knn:\n",
    "    regr = KNeighborsClassifier(n_neighbors=8)\n",
    "elif maxi==dt:\n",
    "    regr = DecisionTreeClassifier()\n",
    "elif maxi==gnb:\n",
    "    regr = GaussianNB()\n",
    "elif maxi==rf:\n",
    "    regr = RandomForestClassifier()\n",
    "else:\n",
    "    regr = SVC()"
   ],
   "metadata": {
    "collapsed": false,
    "ExecuteTime": {
     "end_time": "2023-08-14T20:03:18.598698Z",
     "start_time": "2023-08-14T20:03:18.588569Z"
    }
   },
   "id": "51fa3d49d6279e54"
  },
  {
   "cell_type": "code",
   "execution_count": 169,
   "outputs": [],
   "source": [
    "model = regr.fit(x_train,y_train)\n",
    "y_pred = model.predict(x_test)\n",
    "accuracy = accuracy_score(y_test,y_pred)\n",
    "cm = confusion_matrix(y_test,y_pred)\n",
    "cf = classification_report(y_test,y_pred)"
   ],
   "metadata": {
    "collapsed": false,
    "ExecuteTime": {
     "end_time": "2023-08-14T20:03:18.939535Z",
     "start_time": "2023-08-14T20:03:18.906532Z"
    }
   },
   "id": "e2541a5d78676e80"
  },
  {
   "cell_type": "code",
   "execution_count": 170,
   "outputs": [
    {
     "data": {
      "text/plain": "SVC()",
      "text/html": "<style>#sk-container-id-2 {color: black;background-color: white;}#sk-container-id-2 pre{padding: 0;}#sk-container-id-2 div.sk-toggleable {background-color: white;}#sk-container-id-2 label.sk-toggleable__label {cursor: pointer;display: block;width: 100%;margin-bottom: 0;padding: 0.3em;box-sizing: border-box;text-align: center;}#sk-container-id-2 label.sk-toggleable__label-arrow:before {content: \"▸\";float: left;margin-right: 0.25em;color: #696969;}#sk-container-id-2 label.sk-toggleable__label-arrow:hover:before {color: black;}#sk-container-id-2 div.sk-estimator:hover label.sk-toggleable__label-arrow:before {color: black;}#sk-container-id-2 div.sk-toggleable__content {max-height: 0;max-width: 0;overflow: hidden;text-align: left;background-color: #f0f8ff;}#sk-container-id-2 div.sk-toggleable__content pre {margin: 0.2em;color: black;border-radius: 0.25em;background-color: #f0f8ff;}#sk-container-id-2 input.sk-toggleable__control:checked~div.sk-toggleable__content {max-height: 200px;max-width: 100%;overflow: auto;}#sk-container-id-2 input.sk-toggleable__control:checked~label.sk-toggleable__label-arrow:before {content: \"▾\";}#sk-container-id-2 div.sk-estimator input.sk-toggleable__control:checked~label.sk-toggleable__label {background-color: #d4ebff;}#sk-container-id-2 div.sk-label input.sk-toggleable__control:checked~label.sk-toggleable__label {background-color: #d4ebff;}#sk-container-id-2 input.sk-hidden--visually {border: 0;clip: rect(1px 1px 1px 1px);clip: rect(1px, 1px, 1px, 1px);height: 1px;margin: -1px;overflow: hidden;padding: 0;position: absolute;width: 1px;}#sk-container-id-2 div.sk-estimator {font-family: monospace;background-color: #f0f8ff;border: 1px dotted black;border-radius: 0.25em;box-sizing: border-box;margin-bottom: 0.5em;}#sk-container-id-2 div.sk-estimator:hover {background-color: #d4ebff;}#sk-container-id-2 div.sk-parallel-item::after {content: \"\";width: 100%;border-bottom: 1px solid gray;flex-grow: 1;}#sk-container-id-2 div.sk-label:hover label.sk-toggleable__label {background-color: #d4ebff;}#sk-container-id-2 div.sk-serial::before {content: \"\";position: absolute;border-left: 1px solid gray;box-sizing: border-box;top: 0;bottom: 0;left: 50%;z-index: 0;}#sk-container-id-2 div.sk-serial {display: flex;flex-direction: column;align-items: center;background-color: white;padding-right: 0.2em;padding-left: 0.2em;position: relative;}#sk-container-id-2 div.sk-item {position: relative;z-index: 1;}#sk-container-id-2 div.sk-parallel {display: flex;align-items: stretch;justify-content: center;background-color: white;position: relative;}#sk-container-id-2 div.sk-item::before, #sk-container-id-2 div.sk-parallel-item::before {content: \"\";position: absolute;border-left: 1px solid gray;box-sizing: border-box;top: 0;bottom: 0;left: 50%;z-index: -1;}#sk-container-id-2 div.sk-parallel-item {display: flex;flex-direction: column;z-index: 1;position: relative;background-color: white;}#sk-container-id-2 div.sk-parallel-item:first-child::after {align-self: flex-end;width: 50%;}#sk-container-id-2 div.sk-parallel-item:last-child::after {align-self: flex-start;width: 50%;}#sk-container-id-2 div.sk-parallel-item:only-child::after {width: 0;}#sk-container-id-2 div.sk-dashed-wrapped {border: 1px dashed gray;margin: 0 0.4em 0.5em 0.4em;box-sizing: border-box;padding-bottom: 0.4em;background-color: white;}#sk-container-id-2 div.sk-label label {font-family: monospace;font-weight: bold;display: inline-block;line-height: 1.2em;}#sk-container-id-2 div.sk-label-container {text-align: center;}#sk-container-id-2 div.sk-container {/* jupyter's `normalize.less` sets `[hidden] { display: none; }` but bootstrap.min.css set `[hidden] { display: none !important; }` so we also need the `!important` here to be able to override the default hidden behavior on the sphinx rendered scikit-learn.org. See: https://github.com/scikit-learn/scikit-learn/issues/21755 */display: inline-block !important;position: relative;}#sk-container-id-2 div.sk-text-repr-fallback {display: none;}</style><div id=\"sk-container-id-2\" class=\"sk-top-container\"><div class=\"sk-text-repr-fallback\"><pre>SVC()</pre><b>In a Jupyter environment, please rerun this cell to show the HTML representation or trust the notebook. <br />On GitHub, the HTML representation is unable to render, please try loading this page with nbviewer.org.</b></div><div class=\"sk-container\" hidden><div class=\"sk-item\"><div class=\"sk-estimator sk-toggleable\"><input class=\"sk-toggleable__control sk-hidden--visually\" id=\"sk-estimator-id-2\" type=\"checkbox\" checked><label for=\"sk-estimator-id-2\" class=\"sk-toggleable__label sk-toggleable__label-arrow\">SVC</label><div class=\"sk-toggleable__content\"><pre>SVC()</pre></div></div></div></div></div>"
     },
     "execution_count": 170,
     "metadata": {},
     "output_type": "execute_result"
    }
   ],
   "source": [
    "model"
   ],
   "metadata": {
    "collapsed": false,
    "ExecuteTime": {
     "end_time": "2023-08-14T20:03:24.799310Z",
     "start_time": "2023-08-14T20:03:24.779187Z"
    }
   },
   "id": "7a0d9b624ddb5c0e"
  },
  {
   "cell_type": "code",
   "execution_count": 245,
   "outputs": [],
   "source": [
    "def evaluate_model():\n",
    "    x_train, x_test, y_train, y_test = splitting_dataset()\n",
    "    lr = fit_logistic_regression(x_train, x_test, y_train, y_test)\n",
    "    lda = fit_lda(x_train, x_test, y_train, y_test)\n",
    "    knn = fit_knn(x_train, x_test, y_train, y_test)\n",
    "    dt = fit_decision_tree(x_train, x_test, y_train, y_test)\n",
    "    gnb = fit_gaussian_nb(x_train, x_test, y_train, y_test)\n",
    "    rf = fit_random_forest(x_train, x_test, y_train, y_test)\n",
    "    svc = fit_svc(x_train, x_test, y_train, y_test)\n",
    "\n",
    "    maxi = max(lr[1],lda[1],knn[1],dt[1],gnb[1],rf[1],svc[1])\n",
    "    # Fit the model on the training data\n",
    "    if maxi==lr[1]:\n",
    "        regr = LogisticRegression()\n",
    "    elif maxi==lda[1]:\n",
    "        regr = LinearDiscriminantAnalysis()\n",
    "    elif maxi==knn[1]:\n",
    "        regr = KNeighborsClassifier(n_neighbors=8)\n",
    "    elif maxi==dt[1]:\n",
    "        regr = DecisionTreeClassifier()\n",
    "    elif maxi==gnb[1]:\n",
    "        regr = GaussianNB()\n",
    "    elif maxi==rf[1]:\n",
    "        regr = RandomForestClassifier()\n",
    "    elif maxi==svc[1]:\n",
    "        regr = SVC()\n",
    "    # Make predictions on the testing data\n",
    "    model = regr.fit(x_train,y_train)\n",
    "    y_pred = model.predict(x_test)\n",
    "\n",
    "    # Calculate the accuracy score\n",
    "    accuracy = accuracy_score(y_test,y_pred)\n",
    "\n",
    "    # Calculate the confusion matrix\n",
    "    cm = confusion_matrix(y_test,y_pred)\n",
    "\n",
    "    # Calculate the classification report\n",
    "    cr = classification_report(y_test,y_pred)\n",
    "\n",
    "    return accuracy, cm, cr"
   ],
   "metadata": {
    "collapsed": false,
    "ExecuteTime": {
     "end_time": "2023-08-14T20:23:51.971191Z",
     "start_time": "2023-08-14T20:23:51.957431Z"
    }
   },
   "id": "144e423b0c65c875"
  },
  {
   "cell_type": "code",
   "execution_count": 246,
   "outputs": [],
   "source": [
    "accuracy, cm, cr = evaluate_model()"
   ],
   "metadata": {
    "collapsed": false,
    "ExecuteTime": {
     "end_time": "2023-08-14T20:23:52.340162Z",
     "start_time": "2023-08-14T20:23:52.242440Z"
    }
   },
   "id": "4fe8773fc3a94226"
  },
  {
   "cell_type": "code",
   "execution_count": 247,
   "outputs": [
    {
     "data": {
      "text/plain": "0.7666666666666667"
     },
     "execution_count": 247,
     "metadata": {},
     "output_type": "execute_result"
    }
   ],
   "source": [
    "accuracy"
   ],
   "metadata": {
    "collapsed": false,
    "ExecuteTime": {
     "end_time": "2023-08-14T20:23:52.990956Z",
     "start_time": "2023-08-14T20:23:52.972800Z"
    }
   },
   "id": "3cdecb0b6198d0ef"
  },
  {
   "cell_type": "code",
   "execution_count": 248,
   "outputs": [
    {
     "data": {
      "text/plain": "array([[28,  5],\n       [ 9, 18]])"
     },
     "execution_count": 248,
     "metadata": {},
     "output_type": "execute_result"
    }
   ],
   "source": [
    "cm"
   ],
   "metadata": {
    "collapsed": false,
    "ExecuteTime": {
     "end_time": "2023-08-14T20:23:53.376442Z",
     "start_time": "2023-08-14T20:23:53.363844Z"
    }
   },
   "id": "2435f3bfa636ebb3"
  },
  {
   "cell_type": "code",
   "execution_count": 249,
   "outputs": [
    {
     "name": "stdout",
     "output_type": "stream",
     "text": [
      "              precision    recall  f1-score   support\n",
      "\n",
      "           0       0.76      0.85      0.80        33\n",
      "           1       0.78      0.67      0.72        27\n",
      "\n",
      "    accuracy                           0.77        60\n",
      "   macro avg       0.77      0.76      0.76        60\n",
      "weighted avg       0.77      0.77      0.76        60\n"
     ]
    }
   ],
   "source": [
    "print(cr)"
   ],
   "metadata": {
    "collapsed": false,
    "ExecuteTime": {
     "end_time": "2023-08-14T20:23:54.487957Z",
     "start_time": "2023-08-14T20:23:54.465565Z"
    }
   },
   "id": "6fbd59891dc48c67"
  },
  {
   "cell_type": "code",
   "execution_count": 250,
   "outputs": [
    {
     "name": "stdout",
     "output_type": "stream",
     "text": [
      "0.7 - 0.9 array([[25-30,  3-7],[6-10, 16-22]], dtype=int64), '              precision    recall  f1-score   support\n",
      "\n",
      "           0       0.76      0.85      0.80        33\n",
      "           1       0.78      0.67      0.72        27\n",
      "\n",
      "    accuracy                           0.77        60\n",
      "  macro avg       0.77      0.76      0.76        60\n",
      "weighted avg       0.77      0.77      0.76        60\n",
      "'\n"
     ]
    }
   ],
   "source": [
    " print('0.7 - 0.9', \"array([[25-30,  3-7],[6-10, 16-22]], dtype=int64), '              precision    recall  f1-score   support\\n\\n           0       0.76      0.85      0.80        33\\n           1       0.78      0.67      0.72        27\\n\\n    accuracy                           0.77        60\\n  macro avg       0.77      0.76      0.76        60\\nweighted avg       0.77      0.77      0.76        60\\n'\")\n",
    "  \n",
    "  "
   ],
   "metadata": {
    "collapsed": false,
    "ExecuteTime": {
     "end_time": "2023-08-14T20:23:54.914830Z",
     "start_time": "2023-08-14T20:23:54.898613Z"
    }
   },
   "id": "b71cc5dbc2c8aae3"
  },
  {
   "cell_type": "code",
   "execution_count": 251,
   "outputs": [
    {
     "data": {
      "text/plain": "[0.8,\n 0.8166666666666667,\n 0.8333333333333334,\n 0.2962962962962964,\n 0.8484848484848485,\n 0.7833333333333333,\n 0.8166666666666667]"
     },
     "execution_count": 251,
     "metadata": {},
     "output_type": "execute_result"
    }
   ],
   "source": [
    "[lr[1],lda[1],knn[1],dt[1],gnb[1],rf[1],svc[1]]"
   ],
   "metadata": {
    "collapsed": false,
    "ExecuteTime": {
     "end_time": "2023-08-14T20:23:55.290305Z",
     "start_time": "2023-08-14T20:23:55.283998Z"
    }
   },
   "id": "8891b4580368b97f"
  },
  {
   "cell_type": "code",
   "execution_count": 244,
   "outputs": [
    {
     "data": {
      "text/plain": "[0.2962962962962964,\n 0.7833333333333333,\n 0.8,\n 0.8166666666666667,\n 0.8166666666666667,\n 0.8333333333333334,\n 0.8484848484848485]"
     },
     "execution_count": 244,
     "metadata": {},
     "output_type": "execute_result"
    }
   ],
   "source": [],
   "metadata": {
    "collapsed": false,
    "ExecuteTime": {
     "end_time": "2023-08-14T20:21:14.176189Z",
     "start_time": "2023-08-14T20:21:14.167079Z"
    }
   },
   "id": "ab87d6a8a480ed9c"
  }
 ],
 "metadata": {
  "kernelspec": {
   "display_name": "Python 3",
   "language": "python",
   "name": "python3"
  },
  "language_info": {
   "codemirror_mode": {
    "name": "ipython",
    "version": 2
   },
   "file_extension": ".py",
   "mimetype": "text/x-python",
   "name": "python",
   "nbconvert_exporter": "python",
   "pygments_lexer": "ipython2",
   "version": "2.7.6"
  }
 },
 "nbformat": 4,
 "nbformat_minor": 5
}
