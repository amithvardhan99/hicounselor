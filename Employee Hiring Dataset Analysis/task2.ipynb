{
 "cells": [
  {
   "cell_type": "code",
   "execution_count": 5,
   "outputs": [],
   "source": [
    "import numpy as np\n",
    "import pandas as pd\n",
    "import matplotlib.pyplot as plt\n",
    "%matplotlib inline\n",
    "import seaborn as sns\n",
    "sns.set(style=\"white\")\n",
    "import mysql.connector as connection"
   ],
   "metadata": {
    "collapsed": false,
    "ExecuteTime": {
     "end_time": "2023-06-23T18:26:00.898588Z",
     "start_time": "2023-06-23T18:26:00.889866Z"
    }
   }
  },
  {
   "cell_type": "code",
   "execution_count": 6,
   "outputs": [],
   "source": [
    "mydb = connection.connect(host=\"localhost\", port=\"3306\", database=\"employee_hiring\", user=\"root\", passwd=\"Mini*9247\")\n",
    "cursor = mydb.cursor()\n",
    "selectquery = \"show tables\"\n",
    "cursor.execute(selectquery)\n",
    "records = cursor.fetchall()\n",
    "tables = []\n",
    "for i in records:\n",
    "    tables.append(i[0])\n",
    "tab = []\n",
    "for i in tables:\n",
    "    tab.append(i[0:3])\n",
    "cursor = mydb.cursor()\n",
    "query = 'describe april_2014'\n",
    "cursor.execute(query)\n",
    "colu = cursor.fetchall()\n",
    "col = []\n",
    "for i in colu:\n",
    "    col.append(i[0])\n",
    "df_all = dict()\n",
    "ctr=0\n",
    "for i in tab:\n",
    "    query = 'select * from '+tables[ctr]+';'\n",
    "    cursor.execute(query)\n",
    "    df = pd.DataFrame(cursor.fetchall(),columns=col)\n",
    "    df[df==''] = np.nan\n",
    "    df_all[i]  = df.copy()\n",
    "    ctr+=1"
   ],
   "metadata": {
    "collapsed": false,
    "ExecuteTime": {
     "end_time": "2023-06-23T18:26:01.511269Z",
     "start_time": "2023-06-23T18:26:01.278751Z"
    }
   }
  },
  {
   "cell_type": "code",
   "execution_count": 7,
   "outputs": [
    {
     "data": {
      "text/plain": "         ID FP  BU Region    Approved On hold       Sourcing start   \n0      5222  F          5  2014-03-31     NaN  2014-04-07 00:00:00  \\\n1     17359  P          8  2014-03-27     NaN  2014-04-05 00:00:00   \n2     12968  P          7  2014-04-29     NaN                  NaN   \n3     18986  P         13  2014-03-16     NaN  2014-03-22 00:00:00   \n4     17926  F         97  2014-03-29     NaN  2014-04-07 00:00:00   \n...     ... ..        ...         ...     ...                  ...   \n4890    354  P         23  2014-02-21     NaN  2014-02-28 00:00:00   \n4891   3466  F         23  2014-03-16     NaN  2014-03-22 00:00:00   \n4892  17767  F         18  2014-03-28     NaN  2014-04-04 00:00:00   \n4893  13608  F         17  2014-04-03     NaN  2014-04-10 00:00:00   \n4894  14269  F         23  2014-03-11     NaN  2014-03-17 00:00:00   \n\n          Interview start        Interview end              Offered   \n0     2014-04-24 00:00:00                  NaN                  NaN  \\\n1     2014-04-15 00:00:00                  NaN                  NaN   \n2                     NaN                  NaN                  NaN   \n3     2014-04-01 00:00:00  2014-04-24 00:00:00                  NaN   \n4     2014-04-20 00:00:00                  NaN                  NaN   \n...                   ...                  ...                  ...   \n4890  2014-03-10 00:00:00  2014-04-02 00:00:00  2014-04-10 00:00:00   \n4891  2014-04-03 00:00:00  2014-04-30 00:00:00                  NaN   \n4892  2014-04-15 00:00:00                  NaN                  NaN   \n4893  2014-04-21 00:00:00                  NaN                  NaN   \n4894  2014-04-02 00:00:00  2014-04-27 00:00:00                  NaN   \n\n                   Filled           Status  \n0                     NaN  Interview start  \n1                     NaN  Interview start  \n2                     NaN         Approved  \n3                     NaN    Interview end  \n4                     NaN  Interview start  \n...                   ...              ...  \n4890  2014-04-18 00:00:00           Filled  \n4891                  NaN    Interview end  \n4892                  NaN  Interview start  \n4893                  NaN  Interview start  \n4894                  NaN    Interview end  \n\n[4895 rows x 11 columns]",
      "text/html": "<div>\n<style scoped>\n    .dataframe tbody tr th:only-of-type {\n        vertical-align: middle;\n    }\n\n    .dataframe tbody tr th {\n        vertical-align: top;\n    }\n\n    .dataframe thead th {\n        text-align: right;\n    }\n</style>\n<table border=\"1\" class=\"dataframe\">\n  <thead>\n    <tr style=\"text-align: right;\">\n      <th></th>\n      <th>ID</th>\n      <th>FP</th>\n      <th>BU Region</th>\n      <th>Approved</th>\n      <th>On hold</th>\n      <th>Sourcing start</th>\n      <th>Interview start</th>\n      <th>Interview end</th>\n      <th>Offered</th>\n      <th>Filled</th>\n      <th>Status</th>\n    </tr>\n  </thead>\n  <tbody>\n    <tr>\n      <th>0</th>\n      <td>5222</td>\n      <td>F</td>\n      <td>5</td>\n      <td>2014-03-31</td>\n      <td>NaN</td>\n      <td>2014-04-07 00:00:00</td>\n      <td>2014-04-24 00:00:00</td>\n      <td>NaN</td>\n      <td>NaN</td>\n      <td>NaN</td>\n      <td>Interview start</td>\n    </tr>\n    <tr>\n      <th>1</th>\n      <td>17359</td>\n      <td>P</td>\n      <td>8</td>\n      <td>2014-03-27</td>\n      <td>NaN</td>\n      <td>2014-04-05 00:00:00</td>\n      <td>2014-04-15 00:00:00</td>\n      <td>NaN</td>\n      <td>NaN</td>\n      <td>NaN</td>\n      <td>Interview start</td>\n    </tr>\n    <tr>\n      <th>2</th>\n      <td>12968</td>\n      <td>P</td>\n      <td>7</td>\n      <td>2014-04-29</td>\n      <td>NaN</td>\n      <td>NaN</td>\n      <td>NaN</td>\n      <td>NaN</td>\n      <td>NaN</td>\n      <td>NaN</td>\n      <td>Approved</td>\n    </tr>\n    <tr>\n      <th>3</th>\n      <td>18986</td>\n      <td>P</td>\n      <td>13</td>\n      <td>2014-03-16</td>\n      <td>NaN</td>\n      <td>2014-03-22 00:00:00</td>\n      <td>2014-04-01 00:00:00</td>\n      <td>2014-04-24 00:00:00</td>\n      <td>NaN</td>\n      <td>NaN</td>\n      <td>Interview end</td>\n    </tr>\n    <tr>\n      <th>4</th>\n      <td>17926</td>\n      <td>F</td>\n      <td>97</td>\n      <td>2014-03-29</td>\n      <td>NaN</td>\n      <td>2014-04-07 00:00:00</td>\n      <td>2014-04-20 00:00:00</td>\n      <td>NaN</td>\n      <td>NaN</td>\n      <td>NaN</td>\n      <td>Interview start</td>\n    </tr>\n    <tr>\n      <th>...</th>\n      <td>...</td>\n      <td>...</td>\n      <td>...</td>\n      <td>...</td>\n      <td>...</td>\n      <td>...</td>\n      <td>...</td>\n      <td>...</td>\n      <td>...</td>\n      <td>...</td>\n      <td>...</td>\n    </tr>\n    <tr>\n      <th>4890</th>\n      <td>354</td>\n      <td>P</td>\n      <td>23</td>\n      <td>2014-02-21</td>\n      <td>NaN</td>\n      <td>2014-02-28 00:00:00</td>\n      <td>2014-03-10 00:00:00</td>\n      <td>2014-04-02 00:00:00</td>\n      <td>2014-04-10 00:00:00</td>\n      <td>2014-04-18 00:00:00</td>\n      <td>Filled</td>\n    </tr>\n    <tr>\n      <th>4891</th>\n      <td>3466</td>\n      <td>F</td>\n      <td>23</td>\n      <td>2014-03-16</td>\n      <td>NaN</td>\n      <td>2014-03-22 00:00:00</td>\n      <td>2014-04-03 00:00:00</td>\n      <td>2014-04-30 00:00:00</td>\n      <td>NaN</td>\n      <td>NaN</td>\n      <td>Interview end</td>\n    </tr>\n    <tr>\n      <th>4892</th>\n      <td>17767</td>\n      <td>F</td>\n      <td>18</td>\n      <td>2014-03-28</td>\n      <td>NaN</td>\n      <td>2014-04-04 00:00:00</td>\n      <td>2014-04-15 00:00:00</td>\n      <td>NaN</td>\n      <td>NaN</td>\n      <td>NaN</td>\n      <td>Interview start</td>\n    </tr>\n    <tr>\n      <th>4893</th>\n      <td>13608</td>\n      <td>F</td>\n      <td>17</td>\n      <td>2014-04-03</td>\n      <td>NaN</td>\n      <td>2014-04-10 00:00:00</td>\n      <td>2014-04-21 00:00:00</td>\n      <td>NaN</td>\n      <td>NaN</td>\n      <td>NaN</td>\n      <td>Interview start</td>\n    </tr>\n    <tr>\n      <th>4894</th>\n      <td>14269</td>\n      <td>F</td>\n      <td>23</td>\n      <td>2014-03-11</td>\n      <td>NaN</td>\n      <td>2014-03-17 00:00:00</td>\n      <td>2014-04-02 00:00:00</td>\n      <td>2014-04-27 00:00:00</td>\n      <td>NaN</td>\n      <td>NaN</td>\n      <td>Interview end</td>\n    </tr>\n  </tbody>\n</table>\n<p>4895 rows × 11 columns</p>\n</div>"
     },
     "execution_count": 7,
     "metadata": {},
     "output_type": "execute_result"
    }
   ],
   "source": [
    "df_all[\"apr\"]"
   ],
   "metadata": {
    "collapsed": false,
    "ExecuteTime": {
     "end_time": "2023-06-23T18:26:02.002016Z",
     "start_time": "2023-06-23T18:26:01.995630Z"
    }
   }
  },
  {
   "cell_type": "code",
   "execution_count": 8,
   "outputs": [
    {
     "data": {
      "text/plain": "                  Offered               Filled\n0                     NaN                  NaN\n1                     NaN                  NaN\n2                     NaN                  NaN\n3                     NaN                  NaN\n4                     NaN                  NaN\n...                   ...                  ...\n4890  2014-04-10 00:00:00  2014-04-18 00:00:00\n4891                  NaN                  NaN\n4892                  NaN                  NaN\n4893                  NaN                  NaN\n4894                  NaN                  NaN\n\n[4895 rows x 2 columns]",
      "text/html": "<div>\n<style scoped>\n    .dataframe tbody tr th:only-of-type {\n        vertical-align: middle;\n    }\n\n    .dataframe tbody tr th {\n        vertical-align: top;\n    }\n\n    .dataframe thead th {\n        text-align: right;\n    }\n</style>\n<table border=\"1\" class=\"dataframe\">\n  <thead>\n    <tr style=\"text-align: right;\">\n      <th></th>\n      <th>Offered</th>\n      <th>Filled</th>\n    </tr>\n  </thead>\n  <tbody>\n    <tr>\n      <th>0</th>\n      <td>NaN</td>\n      <td>NaN</td>\n    </tr>\n    <tr>\n      <th>1</th>\n      <td>NaN</td>\n      <td>NaN</td>\n    </tr>\n    <tr>\n      <th>2</th>\n      <td>NaN</td>\n      <td>NaN</td>\n    </tr>\n    <tr>\n      <th>3</th>\n      <td>NaN</td>\n      <td>NaN</td>\n    </tr>\n    <tr>\n      <th>4</th>\n      <td>NaN</td>\n      <td>NaN</td>\n    </tr>\n    <tr>\n      <th>...</th>\n      <td>...</td>\n      <td>...</td>\n    </tr>\n    <tr>\n      <th>4890</th>\n      <td>2014-04-10 00:00:00</td>\n      <td>2014-04-18 00:00:00</td>\n    </tr>\n    <tr>\n      <th>4891</th>\n      <td>NaN</td>\n      <td>NaN</td>\n    </tr>\n    <tr>\n      <th>4892</th>\n      <td>NaN</td>\n      <td>NaN</td>\n    </tr>\n    <tr>\n      <th>4893</th>\n      <td>NaN</td>\n      <td>NaN</td>\n    </tr>\n    <tr>\n      <th>4894</th>\n      <td>NaN</td>\n      <td>NaN</td>\n    </tr>\n  </tbody>\n</table>\n<p>4895 rows × 2 columns</p>\n</div>"
     },
     "execution_count": 8,
     "metadata": {},
     "output_type": "execute_result"
    }
   ],
   "source": [
    "df_of = df_all[\"apr\"][[\"Offered\",\"Filled\"]]\n",
    "df_of"
   ],
   "metadata": {
    "collapsed": false,
    "ExecuteTime": {
     "end_time": "2023-06-23T18:26:02.670860Z",
     "start_time": "2023-06-23T18:26:02.667120Z"
    }
   }
  },
  {
   "cell_type": "code",
   "execution_count": 9,
   "outputs": [],
   "source": [
    "tot = 0\n",
    "df_of.insert(len(df_of.columns.values),\"Diff\",0)\n",
    "for i in range(len(df_of)):\n",
    "    df_of.loc[i,\"Offered\"] = pd.to_datetime(df_of.loc[i,\"Offered\"])\n",
    "    df_of.loc[i,\"Filled\"] = pd.to_datetime(df_of.loc[i,\"Filled\"])\n",
    "    df_of.loc[i,\"Diff\"] =  (df_of.loc[i,\"Filled\"] - df_of.loc[i,\"Offered\"]).days"
   ],
   "metadata": {
    "collapsed": false,
    "ExecuteTime": {
     "end_time": "2023-06-23T18:26:04.700249Z",
     "start_time": "2023-06-23T18:26:03.189050Z"
    }
   }
  },
  {
   "cell_type": "code",
   "execution_count": 10,
   "outputs": [
    {
     "data": {
      "text/plain": "                  Offered               Filled  Diff\n0                     NaN                  NaN   NaN\n1                     NaN                  NaN   NaN\n2                     NaN                  NaN   NaN\n3                     NaN                  NaN   NaN\n4                     NaN                  NaN   NaN\n...                   ...                  ...   ...\n4890  2014-04-10 00:00:00  2014-04-18 00:00:00   8.0\n4891                  NaT                  NaT   NaN\n4892                  NaT                  NaT   NaN\n4893                  NaT                  NaT   NaN\n4894                  NaT                  NaT   NaN\n\n[4895 rows x 3 columns]",
      "text/html": "<div>\n<style scoped>\n    .dataframe tbody tr th:only-of-type {\n        vertical-align: middle;\n    }\n\n    .dataframe tbody tr th {\n        vertical-align: top;\n    }\n\n    .dataframe thead th {\n        text-align: right;\n    }\n</style>\n<table border=\"1\" class=\"dataframe\">\n  <thead>\n    <tr style=\"text-align: right;\">\n      <th></th>\n      <th>Offered</th>\n      <th>Filled</th>\n      <th>Diff</th>\n    </tr>\n  </thead>\n  <tbody>\n    <tr>\n      <th>0</th>\n      <td>NaN</td>\n      <td>NaN</td>\n      <td>NaN</td>\n    </tr>\n    <tr>\n      <th>1</th>\n      <td>NaN</td>\n      <td>NaN</td>\n      <td>NaN</td>\n    </tr>\n    <tr>\n      <th>2</th>\n      <td>NaN</td>\n      <td>NaN</td>\n      <td>NaN</td>\n    </tr>\n    <tr>\n      <th>3</th>\n      <td>NaN</td>\n      <td>NaN</td>\n      <td>NaN</td>\n    </tr>\n    <tr>\n      <th>4</th>\n      <td>NaN</td>\n      <td>NaN</td>\n      <td>NaN</td>\n    </tr>\n    <tr>\n      <th>...</th>\n      <td>...</td>\n      <td>...</td>\n      <td>...</td>\n    </tr>\n    <tr>\n      <th>4890</th>\n      <td>2014-04-10 00:00:00</td>\n      <td>2014-04-18 00:00:00</td>\n      <td>8.0</td>\n    </tr>\n    <tr>\n      <th>4891</th>\n      <td>NaT</td>\n      <td>NaT</td>\n      <td>NaN</td>\n    </tr>\n    <tr>\n      <th>4892</th>\n      <td>NaT</td>\n      <td>NaT</td>\n      <td>NaN</td>\n    </tr>\n    <tr>\n      <th>4893</th>\n      <td>NaT</td>\n      <td>NaT</td>\n      <td>NaN</td>\n    </tr>\n    <tr>\n      <th>4894</th>\n      <td>NaT</td>\n      <td>NaT</td>\n      <td>NaN</td>\n    </tr>\n  </tbody>\n</table>\n<p>4895 rows × 3 columns</p>\n</div>"
     },
     "execution_count": 10,
     "metadata": {},
     "output_type": "execute_result"
    }
   ],
   "source": [
    "df_of"
   ],
   "metadata": {
    "collapsed": false,
    "ExecuteTime": {
     "end_time": "2023-06-23T18:26:06.159742Z",
     "start_time": "2023-06-23T18:26:06.155170Z"
    }
   }
  },
  {
   "cell_type": "code",
   "execution_count": 11,
   "outputs": [
    {
     "data": {
      "text/plain": "11614.0"
     },
     "execution_count": 11,
     "metadata": {},
     "output_type": "execute_result"
    }
   ],
   "source": [
    "df_of[\"Diff\"].sum()"
   ],
   "metadata": {
    "collapsed": false,
    "ExecuteTime": {
     "end_time": "2023-06-23T18:26:06.853422Z",
     "start_time": "2023-06-23T18:26:06.848383Z"
    }
   }
  },
  {
   "cell_type": "code",
   "execution_count": 12,
   "outputs": [
    {
     "data": {
      "text/plain": "1653"
     },
     "execution_count": 12,
     "metadata": {},
     "output_type": "execute_result"
    }
   ],
   "source": [
    "df_of.value_counts().sum()"
   ],
   "metadata": {
    "collapsed": false,
    "ExecuteTime": {
     "end_time": "2023-06-23T18:26:07.612339Z",
     "start_time": "2023-06-23T18:26:07.607292Z"
    }
   }
  },
  {
   "cell_type": "code",
   "execution_count": 13,
   "outputs": [
    {
     "data": {
      "text/plain": "7.026013309134906"
     },
     "execution_count": 13,
     "metadata": {},
     "output_type": "execute_result"
    }
   ],
   "source": [
    "df_of[\"Diff\"].sum()/df_of.value_counts().sum()"
   ],
   "metadata": {
    "collapsed": false,
    "ExecuteTime": {
     "end_time": "2023-06-23T18:26:08.043505Z",
     "start_time": "2023-06-23T18:26:08.035639Z"
    }
   }
  },
  {
   "cell_type": "code",
   "execution_count": 14,
   "outputs": [],
   "source": [
    "mydb = connection.connect(host=\"localhost\", port=\"3306\", database=\"employee_hiring\", user=\"root\", passwd=\"Mini*9247\")\n",
    "cursor = mydb.cursor()\n",
    "selectquery = \"show tables\"\n",
    "cursor.execute(selectquery)\n",
    "records = cursor.fetchall()\n",
    "tables = []\n",
    "for i in records:\n",
    "    tables.append(i[0])\n",
    "tab = []\n",
    "for i in tables:\n",
    "    tab.append(i[0:3])\n",
    "cursor = mydb.cursor()\n",
    "query = 'describe april_2014'\n",
    "cursor.execute(query)\n",
    "colu = cursor.fetchall()\n",
    "col = []\n",
    "for i in colu:\n",
    "    col.append(i[0])\n",
    "df_all = dict()\n",
    "ctr=0\n",
    "for i in tab:\n",
    "    query = 'select * from '+tables[ctr]+';'\n",
    "    cursor.execute(query)\n",
    "    df = pd.DataFrame(cursor.fetchall(),columns=col)\n",
    "    df[df==''] = np.nan\n",
    "    df_all[i]  = df.copy()\n",
    "    ctr+=1"
   ],
   "metadata": {
    "collapsed": false,
    "ExecuteTime": {
     "end_time": "2023-06-23T18:26:08.616705Z",
     "start_time": "2023-06-23T18:26:08.432805Z"
    }
   }
  },
  {
   "cell_type": "code",
   "execution_count": 15,
   "outputs": [],
   "source": [
    "month = pd.DataFrame(index=tab,columns=[\"Average\"])\n",
    "for i in df_all:\n",
    "    df_of = df_all[i][[\"Offered\",\"Filled\"]]\n",
    "    ll = df_of.dropna(axis=0,inplace=False)\n",
    "    if len(ll)==0:\n",
    "        month.loc[i,\"Average\"] = 0\n",
    "        continue\n",
    "    ll.insert(len(ll.columns),\"Diff\",0)\n",
    "    for j in ll.index.values:\n",
    "        ll.loc[j,\"Offered\"] = pd.to_datetime(ll.loc[j,\"Offered\"])\n",
    "        ll.loc[j,\"Filled\"] = pd.to_datetime(ll.loc[j,\"Filled\"])\n",
    "        ll.loc[j,\"Diff\"] = (ll.loc[j,\"Filled\"] - ll.loc[j,\"Offered\"]).days\n",
    "    tot = ll[\"Diff\"].sum()\n",
    "    no = ll[\"Diff\"].count()\n",
    "    month.loc[i,\"Average\"] = (tot/no).round(4)"
   ],
   "metadata": {
    "collapsed": false,
    "ExecuteTime": {
     "end_time": "2023-06-23T18:26:15.705402Z",
     "start_time": "2023-06-23T18:26:09.338583Z"
    }
   }
  },
  {
   "cell_type": "code",
   "execution_count": 16,
   "outputs": [
    {
     "data": {
      "text/plain": "<Figure size 640x480 with 1 Axes>",
      "image/png": "[encoded data removed]"
     },
     "metadata": {},
     "output_type": "display_data"
    }
   ],
   "source": [
    "ax2 = month.plot.bar(rot=0,ylabel=\"Days\")\n",
    "for i in ax2.containers:\n",
    "    ax2.bar_label(i,fontsize=\"9\")\n",
    "fig = ax2.get_figure()\n",
    "fig.savefig(\"task2.png\")"
   ],
   "metadata": {
    "collapsed": false,
    "ExecuteTime": {
     "end_time": "2023-06-23T18:26:17.815976Z",
     "start_time": "2023-06-23T18:26:17.616718Z"
    }
   }
  },
  {
   "cell_type": "code",
   "execution_count": 22,
   "outputs": [
    {
     "data": {
      "text/plain": "    Average\napr   7.026\naug  6.9468\ndec  6.9878\nfeb  6.4229\njan       0\njul  6.9251\njun  7.0203\nmar  7.0199\nmay  6.9834\nnov  6.9907\noct  6.9921\nsep  6.9772",
      "text/html": "<div>\n<style scoped>\n    .dataframe tbody tr th:only-of-type {\n        vertical-align: middle;\n    }\n\n    .dataframe tbody tr th {\n        vertical-align: top;\n    }\n\n    .dataframe thead th {\n        text-align: right;\n    }\n</style>\n<table border=\"1\" class=\"dataframe\">\n  <thead>\n    <tr style=\"text-align: right;\">\n      <th></th>\n      <th>Average</th>\n    </tr>\n  </thead>\n  <tbody>\n    <tr>\n      <th>apr</th>\n      <td>7.026</td>\n    </tr>\n    <tr>\n      <th>aug</th>\n      <td>6.9468</td>\n    </tr>\n    <tr>\n      <th>dec</th>\n      <td>6.9878</td>\n    </tr>\n    <tr>\n      <th>feb</th>\n      <td>6.4229</td>\n    </tr>\n    <tr>\n      <th>jan</th>\n      <td>0</td>\n    </tr>\n    <tr>\n      <th>jul</th>\n      <td>6.9251</td>\n    </tr>\n    <tr>\n      <th>jun</th>\n      <td>7.0203</td>\n    </tr>\n    <tr>\n      <th>mar</th>\n      <td>7.0199</td>\n    </tr>\n    <tr>\n      <th>may</th>\n      <td>6.9834</td>\n    </tr>\n    <tr>\n      <th>nov</th>\n      <td>6.9907</td>\n    </tr>\n    <tr>\n      <th>oct</th>\n      <td>6.9921</td>\n    </tr>\n    <tr>\n      <th>sep</th>\n      <td>6.9772</td>\n    </tr>\n  </tbody>\n</table>\n</div>"
     },
     "execution_count": 22,
     "metadata": {},
     "output_type": "execute_result"
    }
   ],
   "source": [
    "month"
   ],
   "metadata": {
    "collapsed": false,
    "ExecuteTime": {
     "end_time": "2023-06-23T18:34:23.058160Z",
     "start_time": "2023-06-23T18:34:23.055427Z"
    }
   }
  },
  {
   "cell_type": "code",
   "execution_count": 25,
   "outputs": [
    {
     "data": {
      "text/plain": "[7.026,\n 6.9468,\n 6.9878,\n 6.4229,\n 0,\n 6.9251,\n 7.0203,\n 7.0199,\n 6.9834,\n 6.9907,\n 6.9921,\n 6.9772]"
     },
     "execution_count": 25,
     "metadata": {},
     "output_type": "execute_result"
    }
   ],
   "source": [
    "arrFilledjobs = list(month[\"Average\"])\n",
    "arrFilledjobs"
   ],
   "metadata": {
    "collapsed": false,
    "ExecuteTime": {
     "end_time": "2023-06-23T18:34:54.834323Z",
     "start_time": "2023-06-23T18:34:54.831163Z"
    }
   }
  },
  {
   "cell_type": "code",
   "execution_count": 20,
   "outputs": [],
   "source": [
    "def plot_filled_jobs():\n",
    "    mydb = connection.connect(host=\"localhost\", port=\"3306\", database=\"employee_hiring\", user=\"root\", passwd=\"Mini*9247\")\n",
    "    cursor = mydb.cursor()\n",
    "    selectquery = \"show tables\"\n",
    "    cursor.execute(selectquery)\n",
    "    records = cursor.fetchall()\n",
    "    tables = []\n",
    "    for i in records:\n",
    "        tables.append(i[0])\n",
    "    tab = []\n",
    "    for i in tables:\n",
    "        tab.append(i[0:3])\n",
    "    cursor = mydb.cursor()\n",
    "    query = 'describe april_2014'\n",
    "    cursor.execute(query)\n",
    "    colu = cursor.fetchall()\n",
    "    col = []\n",
    "    for i in colu:\n",
    "        col.append(i[0])\n",
    "    df_all = dict()\n",
    "    ctr=0\n",
    "    for i in tab:\n",
    "        query = 'select * from '+tables[ctr]+';'\n",
    "        cursor.execute(query)\n",
    "        df = pd.DataFrame(cursor.fetchall(),columns=col)\n",
    "        df[df==''] = np.nan\n",
    "        df_all[i]  = df.copy()\n",
    "        ctr+=1\n",
    "    month = pd.DataFrame(index=tab,columns=[\"Average\"])\n",
    "    for i in df_all:\n",
    "        df_of = df_all[i][[\"Offered\",\"Filled\"]]\n",
    "        ll = df_of.dropna(axis=0,inplace=False)\n",
    "        if len(ll)==0:\n",
    "            month.loc[i,\"Average\"] = 0\n",
    "            continue\n",
    "        ll.insert(len(ll.columns),\"Diff\",0)\n",
    "        for j in ll.index.values:\n",
    "            ll.loc[j,\"Offered\"] = pd.to_datetime(ll.loc[j,\"Offered\"])\n",
    "            ll.loc[j,\"Filled\"] = pd.to_datetime(ll.loc[j,\"Filled\"])\n",
    "            ll.loc[j,\"Diff\"] = (ll.loc[j,\"Filled\"] - ll.loc[j,\"Offered\"]).days\n",
    "        tot = ll[\"Diff\"].sum()\n",
    "        no = ll[\"Diff\"].count()\n",
    "        month.loc[i,\"Average\"] = (tot/no).round(4)\n",
    "    return 0"
   ],
   "metadata": {
    "collapsed": false,
    "ExecuteTime": {
     "end_time": "2023-06-23T18:31:31.602416Z",
     "start_time": "2023-06-23T18:31:31.599028Z"
    }
   }
  },
  {
   "cell_type": "code",
   "execution_count": 21,
   "outputs": [
    {
     "data": {
      "text/plain": "0"
     },
     "execution_count": 21,
     "metadata": {},
     "output_type": "execute_result"
    }
   ],
   "source": [
    "plot_filled_jobs()"
   ],
   "metadata": {
    "collapsed": false,
    "ExecuteTime": {
     "end_time": "2023-06-23T18:31:39.380052Z",
     "start_time": "2023-06-23T18:31:32.818910Z"
    }
   }
  },
  {
   "cell_type": "code",
   "execution_count": null,
   "outputs": [],
   "source": [],
   "metadata": {
    "collapsed": false
   }
  }
 ],
 "metadata": {
  "kernelspec": {
   "display_name": "Python 3",
   "language": "python",
   "name": "python3"
  },
  "language_info": {
   "codemirror_mode": {
    "name": "ipython",
    "version": 2
   },
   "file_extension": ".py",
   "mimetype": "text/x-python",
   "name": "python",
   "nbconvert_exporter": "python",
   "pygments_lexer": "ipython2",
   "version": "2.7.6"
  }
 },
 "nbformat": 4,
 "nbformat_minor": 0
}
